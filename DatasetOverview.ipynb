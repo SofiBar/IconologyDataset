{
 "cells": [
  {
   "cell_type": "markdown",
   "id": "36f7d5d6",
   "metadata": {},
   "source": [
    "This notebook contains the SPARQL queries useful to have a general overview of the dataset itself (e.g. number of triples, number of subjects etc.)"
   ]
  },
  {
   "cell_type": "code",
   "execution_count": 2,
   "id": "ce5f770e",
   "metadata": {},
   "outputs": [
    {
     "data": {
      "text/plain": [
       "<Graph identifier=Neafaea38cb354eeebaae09f1a256e299 (<class 'rdflib.graph.Graph'>)>"
      ]
     },
     "execution_count": 2,
     "metadata": {},
     "output_type": "execute_result"
    }
   ],
   "source": [
    "import rdflib\n",
    "from rdflib.namespace import CSVW, DC, DCAT, DCTERMS, DOAP, FOAF, ODRL2, ORG, OWL, \\\n",
    "                           PROF, PROV, RDF, RDFS, SDO, SH, SKOS, SOSA, SSN, TIME, \\\n",
    "                           VOID, XMLNS, XSD\n",
    "from rdflib import Namespace\n",
    "from rdflib import URIRef\n"
   ]
  },
  {
   "cell_type": "code",
   "execution_count": 16,
   "id": "7f007445",
   "metadata": {},
   "outputs": [
    {
     "data": {
      "text/plain": [
       "<Graph identifier=N1b563cade2084e6ab30f0729249f5d8c (<class 'rdflib.graph.Graph'>)>"
      ]
     },
     "execution_count": 16,
     "metadata": {},
     "output_type": "execute_result"
    }
   ],
   "source": [
    "newg = rdflib.Graph() # we create a new graph\n",
    "newg.parse(\"210622_output2.ttl\", format=\"ttl\")"
   ]
  },
  {
   "cell_type": "raw",
   "id": "9735b07d",
   "metadata": {},
   "source": [
    "Number of triples"
   ]
  },
  {
   "cell_type": "code",
   "execution_count": 17,
   "id": "361e87cc",
   "metadata": {},
   "outputs": [
    {
     "name": "stdout",
     "output_type": "stream",
     "text": [
      "(rdflib.term.Literal('68455', datatype=rdflib.term.URIRef('http://www.w3.org/2001/XMLSchema#integer')),)\n"
     ]
    }
   ],
   "source": [
    "\n",
    "cq = '''\n",
    "PREFIX d: <http://icondataset.org/> \n",
    "PREFIX icon: <https://w3id.org/icon/ontology/> \n",
    "\n",
    "\n",
    "SELECT (count(?subj) as ?tot) WHERE {\n",
    "?subj ?rel ?obj. \n",
    "\n",
    "}\n",
    "'''\n",
    "\n",
    "cqres = newg.query(cq)\n",
    "\n",
    "for row in cqres:\n",
    "    print(row)"
   ]
  },
  {
   "cell_type": "code",
   "execution_count": null,
   "id": "47b64c63",
   "metadata": {},
   "outputs": [],
   "source": [
    "Number of artworks"
   ]
  },
  {
   "cell_type": "code",
   "execution_count": 19,
   "id": "41bb3bca",
   "metadata": {},
   "outputs": [
    {
     "name": "stdout",
     "output_type": "stream",
     "text": [
      "(rdflib.term.Literal('602', datatype=rdflib.term.URIRef('http://www.w3.org/2001/XMLSchema#integer')),)\n"
     ]
    }
   ],
   "source": [
    "\n",
    "cq = '''\n",
    "PREFIX d: <http://icondataset.org/> \n",
    "PREFIX icon: <https://w3id.org/icon/ontology/> \n",
    "PREFIX crm: <http://www.cidoc-crm.org/cidoc-crm/>\n",
    "\n",
    "SELECT (count(distinct ?art) as ?tot) WHERE {\n",
    "?obj a crm:E22_Human_Made_Object; \n",
    "    crm:P65_shows_visual_item ?art. \n",
    "?art a icon:Artwork. \n",
    "# ?rec icon:aboutWorkOfArt ?art.  \n",
    "\n",
    "}\n",
    "'''\n",
    "\n",
    "cqres = newg.query(cq)\n",
    "\n",
    "for row in cqres:\n",
    "    print(row)"
   ]
  },
  {
   "cell_type": "code",
   "execution_count": null,
   "id": "9df24741",
   "metadata": {},
   "outputs": [],
   "source": []
  },
  {
   "cell_type": "markdown",
   "id": "dbd3fb54",
   "metadata": {},
   "source": [
    "Number of level 1 recognitions"
   ]
  },
  {
   "cell_type": "code",
   "execution_count": 8,
   "id": "424bddfd",
   "metadata": {},
   "outputs": [
    {
     "name": "stdout",
     "output_type": "stream",
     "text": [
      "(rdflib.term.Literal('3519', datatype=rdflib.term.URIRef('http://www.w3.org/2001/XMLSchema#integer')),)\n"
     ]
    }
   ],
   "source": [
    "\n",
    "cq = '''\n",
    "PREFIX d: <http://icondataset.org/> \n",
    "PREFIX icon: <https://w3id.org/icon/ontology/> \n",
    "\n",
    "\n",
    "SELECT (count(distinct ?preic) as ?tot) WHERE {\n",
    "{?preic a icon:PreiconographicalRecognition} UNION {?preic a icon:FormalMotifRecognition} \n",
    "}\n",
    "'''\n",
    "\n",
    "cqres = newg.query(cq)\n",
    "\n",
    "for row in cqres:\n",
    "    print(row)"
   ]
  },
  {
   "cell_type": "code",
   "execution_count": null,
   "id": "e0871364",
   "metadata": {},
   "outputs": [],
   "source": [
    "Number of level 2 recognitions"
   ]
  },
  {
   "cell_type": "code",
   "execution_count": 10,
   "id": "fcf6f57b",
   "metadata": {},
   "outputs": [
    {
     "name": "stdout",
     "output_type": "stream",
     "text": [
      "(rdflib.term.Literal('1034', datatype=rdflib.term.URIRef('http://www.w3.org/2001/XMLSchema#integer')),)\n"
     ]
    }
   ],
   "source": [
    "\n",
    "cq = '''\n",
    "PREFIX d: <http://icondataset.org/> \n",
    "PREFIX icon: <https://w3id.org/icon/ontology/> \n",
    "\n",
    "\n",
    "SELECT (count(distinct ?icrec) as ?tot) WHERE {\n",
    "?icrec a icon:IconographicalRecognition. \n",
    "}\n",
    "'''\n",
    "\n",
    "cqres = newg.query(cq)\n",
    "\n",
    "for row in cqres:\n",
    "    print(row)"
   ]
  },
  {
   "cell_type": "code",
   "execution_count": null,
   "id": "66e19c4c",
   "metadata": {},
   "outputs": [],
   "source": [
    "Number of level 3 recognitions"
   ]
  },
  {
   "cell_type": "code",
   "execution_count": 11,
   "id": "2bb24c6c",
   "metadata": {},
   "outputs": [
    {
     "name": "stdout",
     "output_type": "stream",
     "text": [
      "(rdflib.term.Literal('877', datatype=rdflib.term.URIRef('http://www.w3.org/2001/XMLSchema#integer')),)\n"
     ]
    }
   ],
   "source": [
    "\n",
    "cq = '''\n",
    "PREFIX d: <http://icondataset.org/> \n",
    "PREFIX icon: <https://w3id.org/icon/ontology/> \n",
    "\n",
    "\n",
    "SELECT (count(distinct ?rec) as ?tot) WHERE {\n",
    "?rec a icon:IconologicalRecognition. \n",
    "}\n",
    "'''\n",
    "\n",
    "cqres = newg.query(cq)\n",
    "\n",
    "for row in cqres:\n",
    "    print(row)"
   ]
  },
  {
   "cell_type": "markdown",
   "id": "e0a995e5",
   "metadata": {},
   "source": [
    "Number of level 1 subjects"
   ]
  },
  {
   "cell_type": "code",
   "execution_count": 12,
   "id": "c7ea8ddb",
   "metadata": {},
   "outputs": [
    {
     "name": "stdout",
     "output_type": "stream",
     "text": [
      "(rdflib.term.Literal('942', datatype=rdflib.term.URIRef('http://www.w3.org/2001/XMLSchema#integer')),)\n"
     ]
    }
   ],
   "source": [
    "\n",
    "cq = '''\n",
    "PREFIX d: <http://icondataset.org/> \n",
    "PREFIX icon: <https://w3id.org/icon/ontology/> \n",
    "\n",
    "\n",
    "SELECT (count(distinct ?lev1) as ?tot) WHERE {\n",
    "?rec a icon:PreiconographicalRecognition. \n",
    "{?rec icon:recognizedArtisticMotif ?am} UNION {?rec icon:recognizedComposition ?comp. ?comp icon:hasPart ?am}\n",
    "?am icon:hasFactualMeaning | icon:hasExpressionalMeaning ?lev1. \n",
    "}\n",
    "'''\n",
    "\n",
    "cqres = newg.query(cq)\n",
    "\n",
    "for row in cqres:\n",
    "    print(row)"
   ]
  },
  {
   "cell_type": "markdown",
   "id": "bd2711f0",
   "metadata": {},
   "source": [
    "Number of level 2 subjects"
   ]
  },
  {
   "cell_type": "code",
   "execution_count": 13,
   "id": "779ef287",
   "metadata": {},
   "outputs": [
    {
     "name": "stdout",
     "output_type": "stream",
     "text": [
      "(rdflib.term.Literal('555', datatype=rdflib.term.URIRef('http://www.w3.org/2001/XMLSchema#integer')),)\n"
     ]
    }
   ],
   "source": [
    "\n",
    "cq = '''\n",
    "PREFIX d: <http://icondataset.org/> \n",
    "PREFIX icon: <https://w3id.org/icon/ontology/>\n",
    "\n",
    "\n",
    "SELECT (count(distinct ?lev2) as ?tot) WHERE {\n",
    "VALUES ?rel {icon:hasCharacter icon:hasEvent icon:hasPlace icon:hasPersonification icon:hasNamedObject icon:hasSymbol}\n",
    "?rec a icon:IconographicalRecognition. \n",
    "{?rec icon:recognizedImage ?img. ?img ?rel ?lev2} UNION {?rec icon:recognizedInvenzione ?inv. ?inv icon:composedOf ?lev2}\n",
    "\n",
    "}\n",
    "'''\n",
    "\n",
    "cqres = newg.query(cq)\n",
    "\n",
    "for row in cqres:\n",
    "    print(row)"
   ]
  },
  {
   "cell_type": "markdown",
   "id": "57c57c5c",
   "metadata": {},
   "source": [
    "Number of level 3 subjects"
   ]
  },
  {
   "cell_type": "code",
   "execution_count": 14,
   "id": "3d172fb5",
   "metadata": {},
   "outputs": [
    {
     "name": "stdout",
     "output_type": "stream",
     "text": [
      "(rdflib.term.Literal('422', datatype=rdflib.term.URIRef('http://www.w3.org/2001/XMLSchema#integer')),)\n"
     ]
    }
   ],
   "source": [
    "\n",
    "cq = '''\n",
    "PREFIX d: <http://icondataset.org/> \n",
    "PREFIX icon: <https://w3id.org/icon/ontology/>\n",
    "\n",
    "\n",
    "SELECT (count(distinct ?lev3) as ?tot) WHERE {\n",
    "VALUES ?rel {icon:recognizedConceptualObject icon:recognizedCulturalPhenomenon}\n",
    "?rec a icon:IconologicalRecognition. \n",
    "?rec icon:recognizedIntrinsicMeaning ?intrinsic. ?intrinsic ?rel ?lev3. \n",
    "}\n",
    "'''\n",
    "\n",
    "cqres = newg.query(cq)\n",
    "\n",
    "for row in cqres:\n",
    "    print(row)"
   ]
  },
  {
   "cell_type": "code",
   "execution_count": null,
   "id": "f8e9bb3f",
   "metadata": {},
   "outputs": [],
   "source": [
    "Number of people"
   ]
  },
  {
   "cell_type": "code",
   "execution_count": 15,
   "id": "13de5e5a",
   "metadata": {},
   "outputs": [
    {
     "name": "stdout",
     "output_type": "stream",
     "text": [
      "(rdflib.term.Literal('236', datatype=rdflib.term.URIRef('http://www.w3.org/2001/XMLSchema#integer')),)\n"
     ]
    }
   ],
   "source": [
    "cq = '''\n",
    "PREFIX d: <http://icondataset.org/> \n",
    "PREFIX icon: <https://w3id.org/icon/ontology/>\n",
    "PREFIX crm: <http://www.cidoc-crm.org/cidoc-crm/>\n",
    "\n",
    "SELECT (count(distinct ?people) as ?tot) WHERE {\n",
    "\n",
    "?people a crm:E21_Person. \n",
    "\n",
    "}\n",
    "'''\n",
    "\n",
    "cqres = newg.query(cq)\n",
    "\n",
    "for row in cqres:\n",
    "    print(row)"
   ]
  },
  {
   "cell_type": "code",
   "execution_count": null,
   "id": "1f8efd0e",
   "metadata": {},
   "outputs": [],
   "source": [
    "Number of books"
   ]
  },
  {
   "cell_type": "code",
   "execution_count": 20,
   "id": "69ce4c7b",
   "metadata": {},
   "outputs": [
    {
     "name": "stdout",
     "output_type": "stream",
     "text": [
      "(rdflib.term.Literal('175', datatype=rdflib.term.URIRef('http://www.w3.org/2001/XMLSchema#integer')),)\n"
     ]
    }
   ],
   "source": [
    "cq = '''\n",
    "PREFIX d: <http://icondataset.org/> \n",
    "PREFIX icon: <https://w3id.org/icon/ontology/>\n",
    "PREFIX crm: <http://www.cidoc-crm.org/cidoc-crm/>\n",
    "\n",
    "SELECT (count(distinct ?book) as ?tot) WHERE {\n",
    "\n",
    "{?book crm:P2_has_type ?type. \n",
    "?type crm:P2_has_type <http://vocab.getty.edu/page/aat/300028051>. } \n",
    "UNION \n",
    "{?book crm:P2_has_type <http://vocab.getty.edu/page/aat/300028051>}\n",
    "\n",
    "}\n",
    "'''\n",
    "\n",
    "cqres = newg.query(cq)\n",
    "\n",
    "for row in cqres:\n",
    "    print(row)"
   ]
  },
  {
   "cell_type": "code",
   "execution_count": null,
   "id": "7549bb24",
   "metadata": {},
   "outputs": [],
   "source": [
    "# Case-study analysis\n",
    "How is Mercury represented at level 1, according to the time of production? Order by time"
   ]
  },
  {
   "cell_type": "code",
   "execution_count": 36,
   "id": "0867b19b",
   "metadata": {},
   "outputs": [
    {
     "name": "stdout",
     "output_type": "stream",
     "text": [
      "(rdflib.term.Literal('1023-01-01T0:00:00'), rdflib.term.Literal('1023-12-31T23:59:59'), rdflib.term.URIRef('http://icondataset.org/ART1041'), rdflib.term.URIRef('http://icondataset.org/killing-a-serpent'))\n",
      "(rdflib.term.Literal('1023-01-01T0:00:00'), rdflib.term.Literal('1023-12-31T23:59:59'), rdflib.term.URIRef('http://icondataset.org/ART1041'), rdflib.term.URIRef('http://icondataset.org/staff'))\n",
      "(rdflib.term.Literal('1023-01-01T0:00:00'), rdflib.term.Literal('1023-12-31T23:59:59'), rdflib.term.URIRef('http://icondataset.org/ART1041'), rdflib.term.URIRef('http://icondataset.org/serpent'))\n",
      "(rdflib.term.Literal('1023-01-01T0:00:00'), rdflib.term.Literal('1023-12-31T23:59:59'), rdflib.term.URIRef('http://icondataset.org/ART1041'), rdflib.term.URIRef('http://icondataset.org/bird'))\n",
      "(rdflib.term.Literal('1023-01-01T0:00:00'), rdflib.term.Literal('1023-12-31T23:59:59'), rdflib.term.URIRef('http://icondataset.org/ART1041'), rdflib.term.URIRef('http://icondataset.org/man'))\n",
      "(rdflib.term.Literal('1403-01-01T0:00:00'), rdflib.term.Literal('1403-12-31T23:59:59'), rdflib.term.URIRef('http://icondataset.org/ART1147'), rdflib.term.URIRef('http://icondataset.org/cleric'))\n",
      "(rdflib.term.Literal('1403-01-01T0:00:00'), rdflib.term.Literal('1403-12-31T23:59:59'), rdflib.term.URIRef('http://icondataset.org/ART1147'), rdflib.term.URIRef('http://icondataset.org/reading'))\n",
      "(rdflib.term.Literal('1403-01-01T0:00:00'), rdflib.term.Literal('1403-12-31T23:59:59'), rdflib.term.URIRef('http://icondataset.org/ART1147'), rdflib.term.URIRef('http://icondataset.org/book'))\n",
      "(rdflib.term.Literal('1403-01-01T0:00:00'), rdflib.term.Literal('1403-12-31T23:59:59'), rdflib.term.URIRef('http://icondataset.org/ART1147'), rdflib.term.URIRef('http://icondataset.org/holding'))\n",
      "(rdflib.term.Literal('1403-01-01T0:00:00'), rdflib.term.Literal('1403-12-31T23:59:59'), rdflib.term.URIRef('http://icondataset.org/ART1147'), rdflib.term.URIRef('http://icondataset.org/musical-instrument'))\n",
      "(rdflib.term.Literal('1420-01-01T0:00:00'), rdflib.term.Literal('1420-12-31T23:59:59'), rdflib.term.URIRef('http://icondataset.org/ART1021'), rdflib.term.URIRef('http://icondataset.org/playing-music'))\n",
      "(rdflib.term.Literal('1420-01-01T0:00:00'), rdflib.term.Literal('1420-12-31T23:59:59'), rdflib.term.URIRef('http://icondataset.org/ART1021'), rdflib.term.URIRef('http://icondataset.org/man'))\n",
      "(rdflib.term.Literal('1420-01-01T0:00:00'), rdflib.term.Literal('1420-12-31T23:59:59'), rdflib.term.URIRef('http://icondataset.org/ART1021'), rdflib.term.URIRef('http://icondataset.org/flute'))\n",
      "(rdflib.term.Literal('1420-01-01T0:00:00'), rdflib.term.Literal('1420-12-31T23:59:59'), rdflib.term.URIRef('http://icondataset.org/ART1021'), rdflib.term.URIRef('http://icondataset.org/staff'))\n",
      "(rdflib.term.Literal('1420-01-01T0:00:00'), rdflib.term.Literal('1420-12-31T23:59:59'), rdflib.term.URIRef('http://icondataset.org/ART1021'), rdflib.term.URIRef('http://icondataset.org/serpents'))\n",
      "(rdflib.term.Literal('1420-01-01T0:00:00'), rdflib.term.Literal('1420-12-31T23:59:59'), rdflib.term.URIRef('http://icondataset.org/ART1021'), rdflib.term.URIRef('http://icondataset.org/wings'))\n",
      "(rdflib.term.Literal('1420-01-01T0:00:00'), rdflib.term.Literal('1420-12-31T23:59:59'), rdflib.term.URIRef('http://icondataset.org/ART1021'), rdflib.term.URIRef('http://icondataset.org/lance'))\n",
      "(rdflib.term.Literal('1420-01-01T0:00:00'), rdflib.term.Literal('1420-12-31T23:59:59'), rdflib.term.URIRef('http://icondataset.org/ART1021'), rdflib.term.URIRef('http://icondataset.org/sword'))\n",
      "(rdflib.term.Literal('1420-01-01T0:00:00'), rdflib.term.Literal('1420-12-31T23:59:59'), rdflib.term.URIRef('http://icondataset.org/ART1021'), rdflib.term.URIRef('http://icondataset.org/cutten-head'))\n",
      "(rdflib.term.Literal('1420-01-01T0:00:00'), rdflib.term.Literal('1420-12-31T23:59:59'), rdflib.term.URIRef('http://icondataset.org/ART1021'), rdflib.term.URIRef('http://icondataset.org/eyes'))\n",
      "(rdflib.term.Literal('1478-01-01T0:00:00'), rdflib.term.Literal('1478-12-31T23:59:59'), rdflib.term.URIRef('http://icondataset.org/ART1203'), rdflib.term.URIRef('http://icondataset.org/man'))\n",
      "(rdflib.term.Literal('1478-01-01T0:00:00'), rdflib.term.Literal('1478-12-31T23:59:59'), rdflib.term.URIRef('http://icondataset.org/ART1203'), rdflib.term.URIRef('http://icondataset.org/indifference'))\n",
      "(rdflib.term.Literal('1478-01-01T0:00:00'), rdflib.term.Literal('1478-12-31T23:59:59'), rdflib.term.URIRef('http://icondataset.org/ART1203'), rdflib.term.URIRef('http://icondataset.org/raising-the-right-hand'))\n",
      "(rdflib.term.Literal('1478-01-01T0:00:00'), rdflib.term.Literal('1478-12-31T23:59:59'), rdflib.term.URIRef('http://icondataset.org/ART1203'), rdflib.term.URIRef('http://icondataset.org/stick-with-two-coiled-snakes'))\n",
      "(rdflib.term.Literal('1478-01-01T0:00:00'), rdflib.term.Literal('1478-12-31T23:59:59'), rdflib.term.URIRef('http://icondataset.org/ART1203'), rdflib.term.URIRef('http://icondataset.org/endeavoring-to-dispel-the-wisps-of-mist'))\n",
      "(rdflib.term.Literal('1478-01-01T0:00:00'), rdflib.term.Literal('1478-12-31T23:59:59'), rdflib.term.URIRef('http://icondataset.org/ART1203'), rdflib.term.URIRef('http://icondataset.org/mist'))\n",
      "(rdflib.term.Literal('1480-01-01T0:00:00'), rdflib.term.Literal('1480-12-31T23:59:59'), rdflib.term.URIRef('http://icondataset.org/ART1046'), rdflib.term.URIRef('http://icondataset.org/man'))\n",
      "(rdflib.term.Literal('1480-01-01T0:00:00'), rdflib.term.Literal('1480-12-31T23:59:59'), rdflib.term.URIRef('http://icondataset.org/ART1046'), rdflib.term.URIRef('http://icondataset.org/cock'))\n",
      "(rdflib.term.Literal('1480-01-01T0:00:00'), rdflib.term.Literal('1480-12-31T23:59:59'), rdflib.term.URIRef('http://icondataset.org/ART1046'), rdflib.term.URIRef('http://icondataset.org/flute'))\n",
      "(rdflib.term.Literal('1480-01-01T0:00:00'), rdflib.term.Literal('1480-12-31T23:59:59'), rdflib.term.URIRef('http://icondataset.org/ART1046'), rdflib.term.URIRef('http://icondataset.org/playing-music'))\n",
      "(rdflib.term.Literal('1480-01-01T0:00:00'), rdflib.term.Literal('1480-12-31T23:59:59'), rdflib.term.URIRef('http://icondataset.org/ART1046'), rdflib.term.URIRef('http://icondataset.org/sword'))\n",
      "(rdflib.term.Literal('1490-01-01T0:00:00'), rdflib.term.Literal('1490-12-31T23:59:59'), rdflib.term.URIRef('http://icondataset.org/ART1033'), rdflib.term.URIRef('http://icondataset.org/man'))\n",
      "(rdflib.term.Literal('1490-01-01T0:00:00'), rdflib.term.Literal('1490-12-31T23:59:59'), rdflib.term.URIRef('http://icondataset.org/ART1033'), rdflib.term.URIRef('http://icondataset.org/riding-a-horse'))\n",
      "(rdflib.term.Literal('1490-01-01T0:00:00'), rdflib.term.Literal('1490-12-31T23:59:59'), rdflib.term.URIRef('http://icondataset.org/ART1033'), rdflib.term.URIRef('http://icondataset.org/horse'))\n",
      "(rdflib.term.Literal('1490-01-01T0:00:00'), rdflib.term.Literal('1490-12-31T23:59:59'), rdflib.term.URIRef('http://icondataset.org/ART1033'), rdflib.term.URIRef('http://icondataset.org/protecting-people-below'))\n",
      "(rdflib.term.Literal('1545-01-01T0:00:00'), rdflib.term.Literal('1545-12-31T23:59:59'), rdflib.term.URIRef('http://icondataset.org/ART1201'), rdflib.term.URIRef('http://icondataset.org/man'))\n",
      "(rdflib.term.Literal('1545-01-01T0:00:00'), rdflib.term.Literal('1545-12-31T23:59:59'), rdflib.term.URIRef('http://icondataset.org/ART1201'), rdflib.term.URIRef('http://icondataset.org/winged-hat'))\n",
      "(rdflib.term.Literal('1554-01-01T0:00:00'), rdflib.term.Literal('1554-12-31T23:59:59'), rdflib.term.URIRef('http://icondataset.org/ART1316'), rdflib.term.URIRef('http://icondataset.org/man'))\n",
      "(rdflib.term.Literal('1401-01-01T0:00:00'), rdflib.term.Literal('1434-12-31T23:59:59'), rdflib.term.URIRef('http://icondataset.org/ART1034'), rdflib.term.URIRef('http://icondataset.org/man'))\n",
      "(rdflib.term.Literal('1401-01-01T0:00:00'), rdflib.term.Literal('1434-12-31T23:59:59'), rdflib.term.URIRef('http://icondataset.org/ART1034'), rdflib.term.URIRef('http://icondataset.org/sitting-down'))\n",
      "(rdflib.term.Literal('1401-01-01T0:00:00'), rdflib.term.Literal('1434-12-31T23:59:59'), rdflib.term.URIRef('http://icondataset.org/ART1034'), rdflib.term.URIRef('http://icondataset.org/rainbow'))\n",
      "(rdflib.term.Literal('1401-01-01T0:00:00'), rdflib.term.Literal('1434-12-31T23:59:59'), rdflib.term.URIRef('http://icondataset.org/ART1034'), rdflib.term.URIRef('http://icondataset.org/sky'))\n",
      "(rdflib.term.Literal('1301-01-01T0:00:00'), rdflib.term.Literal('1400-12-31T23:59:59'), rdflib.term.URIRef('http://icondataset.org/ART1030'), rdflib.term.URIRef('http://icondataset.org/bishop'))\n",
      "(rdflib.term.Literal('1301-01-01T0:00:00'), rdflib.term.Literal('1400-12-31T23:59:59'), rdflib.term.URIRef('http://icondataset.org/ART1030'), rdflib.term.URIRef('http://icondataset.org/crosier'))\n",
      "(rdflib.term.Literal('1301-01-01T0:00:00'), rdflib.term.Literal('1400-12-31T23:59:59'), rdflib.term.URIRef('http://icondataset.org/ART1030'), rdflib.term.URIRef('http://icondataset.org/book'))\n",
      "(rdflib.term.Literal('1301-01-01T0:00:00'), rdflib.term.Literal('1400-12-31T23:59:59'), rdflib.term.URIRef('http://icondataset.org/ART1030'), rdflib.term.URIRef('http://icondataset.org/holding'))\n",
      "(rdflib.term.Literal('1401-01-01T0:00:00'), rdflib.term.Literal('1500-12-31T23:59:59'), rdflib.term.URIRef('http://icondataset.org/ART1315'), rdflib.term.URIRef('http://icondataset.org/man'))\n"
     ]
    }
   ],
   "source": [
    "cq = '''\n",
    "PREFIX d: <http://icondataset.org/> \n",
    "PREFIX icon: <https://w3id.org/icon/ontology/>\n",
    "PREFIX crm: <http://www.cidoc-crm.org/cidoc-crm/>\n",
    "\n",
    "SELECT DISTINCT ?timeStart ?timeEnd ?artwork ?lev1 WHERE {\n",
    "\n",
    "VALUES ?subj {d:mercury-hermes d:mercury}\n",
    "?production crm:P108_has_produced ?object; \n",
    " crm:P4_has_time_span ?time. \n",
    "?object crm:P65_shows_visual_item ?artwork. \n",
    "?icrec icon:aboutWorkOfArt ?artwork;\n",
    "    icon:recognizedImage ?img.\n",
    "?img icon:hasCharacter ?subj. \n",
    "?comp icon:hasPart ?am.\n",
    "{?icrec icon:refersToArtisticMotif ?comp. ?comp icon:hasPart ?am} \n",
    "UNION \n",
    "{?icrec icon:refersToArtisticMotif ?am. ?am a icon:ArtisticMotif}\n",
    "?am icon:hasFactualMeaning | icon:hasExpressionalMeaning ?lev1. \n",
    "?time crm:P82a_begin_of_the_begin ?timeStart; \n",
    "    crm:P82b_end_of_the_end ?timeEnd. \n",
    "\n",
    "} ORDER BY ?time ?artwork \n",
    "'''\n",
    "\n",
    "cqres = newg.query(cq)\n",
    "\n",
    "for row in cqres:\n",
    "    print(row)"
   ]
  },
  {
   "cell_type": "code",
   "execution_count": 66,
   "id": "3ae6ec5d",
   "metadata": {},
   "outputs": [],
   "source": [
    "import csv\n",
    "with open('mercury_attr_time3.csv', mode='w') as my_file:\n",
    "    my_writer = csv.writer(my_file, delimiter=',', quotechar='\"', quoting=csv.QUOTE_ALL)\n",
    "    # write the column names\n",
    "    my_writer.writerow(['Date', 'Artwork', 'Level1Representation'])\n",
    "    \n",
    "    # access the rows of the query results\n",
    "    for timeStart, timeEnd, artwork, lev1 in cqres:\n",
    "        lev1_cleaned1 = lev1.replace(\"http://icondataset.org/\", \"\")\n",
    "        lev1_cleaned2 = lev1_cleaned1.replace(\"-\", \" \")\n",
    "        start = int(timeStart[:4])\n",
    "        end = int(timeEnd[:4])\n",
    "        if start != end: \n",
    "            time = str((start+end)/2)\n",
    "        else: \n",
    "            time = str(start)\n",
    "        if time.startswith(\"10\"): \n",
    "            century = \"XI Century\"\n",
    "        elif time.startswith(\"11\"): \n",
    "            century = \"XII Century\"\n",
    "        elif time.startswith(\"12\"): \n",
    "            century = \"XIII Century\"\n",
    "        elif time.startswith(\"13\"): \n",
    "            century = \"XIV Century\"\n",
    "        elif time.startswith(\"14\"): \n",
    "            century = \"XV Century\"\n",
    "        elif time.startswith(\"15\"): \n",
    "            century = \"XVI Century\"\n",
    "        # write in the cv\n",
    "        my_writer.writerow([century, artwork, lev1_cleaned2])"
   ]
  },
  {
   "cell_type": "code",
   "execution_count": 67,
   "id": "61d7dd54",
   "metadata": {},
   "outputs": [
    {
     "data": {
      "text/html": [
       "<div>\n",
       "<style scoped>\n",
       "    .dataframe tbody tr th:only-of-type {\n",
       "        vertical-align: middle;\n",
       "    }\n",
       "\n",
       "    .dataframe tbody tr th {\n",
       "        vertical-align: top;\n",
       "    }\n",
       "\n",
       "    .dataframe thead th {\n",
       "        text-align: right;\n",
       "    }\n",
       "</style>\n",
       "<table border=\"1\" class=\"dataframe\">\n",
       "  <thead>\n",
       "    <tr style=\"text-align: right;\">\n",
       "      <th></th>\n",
       "      <th>Date</th>\n",
       "      <th>Artwork</th>\n",
       "      <th>Level1Representation</th>\n",
       "    </tr>\n",
       "  </thead>\n",
       "  <tbody>\n",
       "    <tr>\n",
       "      <th>0</th>\n",
       "      <td>XI Century</td>\n",
       "      <td>http://icondataset.org/ART1041</td>\n",
       "      <td>killing a serpent</td>\n",
       "    </tr>\n",
       "    <tr>\n",
       "      <th>1</th>\n",
       "      <td>XI Century</td>\n",
       "      <td>http://icondataset.org/ART1041</td>\n",
       "      <td>staff</td>\n",
       "    </tr>\n",
       "    <tr>\n",
       "      <th>2</th>\n",
       "      <td>XI Century</td>\n",
       "      <td>http://icondataset.org/ART1041</td>\n",
       "      <td>serpent</td>\n",
       "    </tr>\n",
       "    <tr>\n",
       "      <th>3</th>\n",
       "      <td>XI Century</td>\n",
       "      <td>http://icondataset.org/ART1041</td>\n",
       "      <td>bird</td>\n",
       "    </tr>\n",
       "    <tr>\n",
       "      <th>4</th>\n",
       "      <td>XI Century</td>\n",
       "      <td>http://icondataset.org/ART1041</td>\n",
       "      <td>man</td>\n",
       "    </tr>\n",
       "  </tbody>\n",
       "</table>\n",
       "</div>"
      ],
      "text/plain": [
       "         Date                         Artwork Level1Representation\n",
       "0  XI Century  http://icondataset.org/ART1041    killing a serpent\n",
       "1  XI Century  http://icondataset.org/ART1041                staff\n",
       "2  XI Century  http://icondataset.org/ART1041              serpent\n",
       "3  XI Century  http://icondataset.org/ART1041                 bird\n",
       "4  XI Century  http://icondataset.org/ART1041                  man"
      ]
     },
     "execution_count": 67,
     "metadata": {},
     "output_type": "execute_result"
    }
   ],
   "source": [
    "import pandas as pd\n",
    "# parse the csv into a dataframe\n",
    "data = pd.read_csv(\"mercury_attr_time3.csv\")\n",
    "# print the first 5 rows\n",
    "data.head()    "
   ]
  },
  {
   "cell_type": "code",
   "execution_count": 69,
   "id": "0332d495",
   "metadata": {},
   "outputs": [
    {
     "name": "stdout",
     "output_type": "stream",
     "text": [
      "{'Date': 'XI Century', 'Artwork': 'http://icondataset.org/ART1041', 'Level1Representation': 'killing a serpent'}\n",
      "{'Date': 'XI Century', 'Artwork': 'http://icondataset.org/ART1041', 'Level1Representation': 'staff'}\n",
      "{'Date': 'XI Century', 'Artwork': 'http://icondataset.org/ART1041', 'Level1Representation': 'serpent'}\n",
      "{'Date': 'XI Century', 'Artwork': 'http://icondataset.org/ART1041', 'Level1Representation': 'bird'}\n",
      "{'Date': 'XI Century', 'Artwork': 'http://icondataset.org/ART1041', 'Level1Representation': 'man'}\n",
      "{'Date': 'XV Century', 'Artwork': 'http://icondataset.org/ART1147', 'Level1Representation': 'cleric'}\n",
      "{'Date': 'XV Century', 'Artwork': 'http://icondataset.org/ART1147', 'Level1Representation': 'reading'}\n",
      "{'Date': 'XV Century', 'Artwork': 'http://icondataset.org/ART1147', 'Level1Representation': 'book'}\n",
      "{'Date': 'XV Century', 'Artwork': 'http://icondataset.org/ART1147', 'Level1Representation': 'holding'}\n",
      "{'Date': 'XV Century', 'Artwork': 'http://icondataset.org/ART1147', 'Level1Representation': 'musical instrument'}\n",
      "{'Date': 'XV Century', 'Artwork': 'http://icondataset.org/ART1021', 'Level1Representation': 'playing music'}\n",
      "{'Date': 'XV Century', 'Artwork': 'http://icondataset.org/ART1021', 'Level1Representation': 'man'}\n",
      "{'Date': 'XV Century', 'Artwork': 'http://icondataset.org/ART1021', 'Level1Representation': 'flute'}\n",
      "{'Date': 'XV Century', 'Artwork': 'http://icondataset.org/ART1021', 'Level1Representation': 'staff'}\n",
      "{'Date': 'XV Century', 'Artwork': 'http://icondataset.org/ART1021', 'Level1Representation': 'serpents'}\n",
      "{'Date': 'XV Century', 'Artwork': 'http://icondataset.org/ART1021', 'Level1Representation': 'wings'}\n",
      "{'Date': 'XV Century', 'Artwork': 'http://icondataset.org/ART1021', 'Level1Representation': 'lance'}\n",
      "{'Date': 'XV Century', 'Artwork': 'http://icondataset.org/ART1021', 'Level1Representation': 'sword'}\n",
      "{'Date': 'XV Century', 'Artwork': 'http://icondataset.org/ART1021', 'Level1Representation': 'cutten head'}\n",
      "{'Date': 'XV Century', 'Artwork': 'http://icondataset.org/ART1021', 'Level1Representation': 'eyes'}\n",
      "{'Date': 'XV Century', 'Artwork': 'http://icondataset.org/ART1203', 'Level1Representation': 'man'}\n",
      "{'Date': 'XV Century', 'Artwork': 'http://icondataset.org/ART1203', 'Level1Representation': 'indifference'}\n",
      "{'Date': 'XV Century', 'Artwork': 'http://icondataset.org/ART1203', 'Level1Representation': 'raising the right hand'}\n",
      "{'Date': 'XV Century', 'Artwork': 'http://icondataset.org/ART1203', 'Level1Representation': 'stick with two coiled snakes'}\n",
      "{'Date': 'XV Century', 'Artwork': 'http://icondataset.org/ART1203', 'Level1Representation': 'endeavoring to dispel the wisps of mist'}\n",
      "{'Date': 'XV Century', 'Artwork': 'http://icondataset.org/ART1203', 'Level1Representation': 'mist'}\n",
      "{'Date': 'XV Century', 'Artwork': 'http://icondataset.org/ART1046', 'Level1Representation': 'man'}\n",
      "{'Date': 'XV Century', 'Artwork': 'http://icondataset.org/ART1046', 'Level1Representation': 'cock'}\n",
      "{'Date': 'XV Century', 'Artwork': 'http://icondataset.org/ART1046', 'Level1Representation': 'flute'}\n",
      "{'Date': 'XV Century', 'Artwork': 'http://icondataset.org/ART1046', 'Level1Representation': 'playing music'}\n",
      "{'Date': 'XV Century', 'Artwork': 'http://icondataset.org/ART1046', 'Level1Representation': 'sword'}\n",
      "{'Date': 'XV Century', 'Artwork': 'http://icondataset.org/ART1033', 'Level1Representation': 'man'}\n",
      "{'Date': 'XV Century', 'Artwork': 'http://icondataset.org/ART1033', 'Level1Representation': 'riding a horse'}\n",
      "{'Date': 'XV Century', 'Artwork': 'http://icondataset.org/ART1033', 'Level1Representation': 'horse'}\n",
      "{'Date': 'XV Century', 'Artwork': 'http://icondataset.org/ART1033', 'Level1Representation': 'protecting people below'}\n",
      "{'Date': 'XVI Century', 'Artwork': 'http://icondataset.org/ART1201', 'Level1Representation': 'man'}\n",
      "{'Date': 'XVI Century', 'Artwork': 'http://icondataset.org/ART1201', 'Level1Representation': 'winged hat'}\n",
      "{'Date': 'XVI Century', 'Artwork': 'http://icondataset.org/ART1316', 'Level1Representation': 'man'}\n",
      "{'Date': 'XV Century', 'Artwork': 'http://icondataset.org/ART1034', 'Level1Representation': 'man'}\n",
      "{'Date': 'XV Century', 'Artwork': 'http://icondataset.org/ART1034', 'Level1Representation': 'sitting down'}\n",
      "{'Date': 'XV Century', 'Artwork': 'http://icondataset.org/ART1034', 'Level1Representation': 'rainbow'}\n",
      "{'Date': 'XV Century', 'Artwork': 'http://icondataset.org/ART1034', 'Level1Representation': 'sky'}\n",
      "{'Date': 'XIV Century', 'Artwork': 'http://icondataset.org/ART1030', 'Level1Representation': 'bishop'}\n",
      "{'Date': 'XIV Century', 'Artwork': 'http://icondataset.org/ART1030', 'Level1Representation': 'crosier'}\n",
      "{'Date': 'XIV Century', 'Artwork': 'http://icondataset.org/ART1030', 'Level1Representation': 'book'}\n",
      "{'Date': 'XIV Century', 'Artwork': 'http://icondataset.org/ART1030', 'Level1Representation': 'holding'}\n",
      "{'Date': 'XV Century', 'Artwork': 'http://icondataset.org/ART1315', 'Level1Representation': 'man'}\n",
      "{'XI Century': {'killing a serpent': 1, 'staff': 1, 'serpent': 1, 'bird': 1, 'man': 1}, 'XV Century': {'cleric': 1, 'reading': 1, 'book': 1, 'holding': 1, 'musical instrument': 1, 'playing music': 2, 'man': 6, 'flute': 2, 'staff': 1, 'serpents': 1, 'wings': 1, 'lance': 1, 'sword': 2, 'cutten head': 1, 'eyes': 1, 'indifference': 1, 'raising the right hand': 1, 'stick with two coiled snakes': 1, 'endeavoring to dispel the wisps of mist': 1, 'mist': 1, 'cock': 1, 'riding a horse': 1, 'horse': 1, 'protecting people below': 1, 'sitting down': 1, 'rainbow': 1, 'sky': 1}, 'XVI Century': {'man': 2, 'winged hat': 1}, 'XIV Century': {'bishop': 1, 'crosier': 1, 'book': 1, 'holding': 1}}\n"
     ]
    }
   ],
   "source": [
    "frequency_dict = {} # key = date, \n",
    "with open('mercury_attr_time3.csv', mode='r') as my_file:\n",
    "    mercury_data = csv.DictReader(my_file)\n",
    "    \n",
    "    for row in mercury_data:\n",
    "        print(row)\n",
    "        date = row[\"Date\"]\n",
    "        subject = row[\"Level1Representation\"]\n",
    "        if date not in frequency_dict: \n",
    "            frequency_dict[date] = {}\n",
    "        if subject not in frequency_dict[date]:\n",
    "            frequency_dict[date][subject] = 0\n",
    "        frequency_dict[date][subject] += 1\n",
    "                \n",
    "print(frequency_dict)"
   ]
  },
  {
   "cell_type": "code",
   "execution_count": 79,
   "id": "6e7a8883",
   "metadata": {},
   "outputs": [
    {
     "name": "stdout",
     "output_type": "stream",
     "text": [
      "XI Century killing a serpent 1\n",
      "XI Century staff 1\n",
      "XI Century serpent 1\n",
      "XI Century bird 1\n",
      "XI Century man 1\n",
      "XV Century cleric 1\n",
      "XV Century reading 1\n",
      "XV Century book 1\n",
      "XV Century holding 1\n",
      "XV Century musical instrument 1\n",
      "XV Century playing music 2\n",
      "XV Century man 6\n",
      "XV Century flute 2\n",
      "XV Century staff 1\n",
      "XV Century serpents 1\n",
      "XV Century wings 1\n",
      "XV Century lance 1\n",
      "XV Century sword 2\n",
      "XV Century cutten head 1\n",
      "XV Century eyes 1\n",
      "XV Century indifference 1\n",
      "XV Century raising the right hand 1\n",
      "XV Century stick with two coiled snakes 1\n",
      "XV Century endeavoring to dispel the wisps of mist 1\n",
      "XV Century mist 1\n",
      "XV Century cock 1\n",
      "XV Century riding a horse 1\n",
      "XV Century horse 1\n",
      "XV Century protecting people below 1\n",
      "XV Century sitting down 1\n",
      "XV Century rainbow 1\n",
      "XV Century sky 1\n",
      "XVI Century man 2\n",
      "XVI Century winged hat 1\n",
      "XIV Century bishop 1\n",
      "XIV Century crosier 1\n",
      "XIV Century book 1\n",
      "XIV Century holding 1\n"
     ]
    }
   ],
   "source": [
    "for date in frequency_dict.items():\n",
    "    century = date[0]\n",
    "    for term in date[1].items(): \n",
    "        attribute = term[0]\n",
    "        frequency = term[1]\n",
    "        print(century, attribute, frequency)\n",
    "# write a csv with them, ordered"
   ]
  },
  {
   "cell_type": "code",
   "execution_count": null,
   "id": "325f9ec7",
   "metadata": {},
   "outputs": [],
   "source": [
    "with open('final_data.csv', mode='w') as my_file:\n",
    "    my_writer = csv.writer(my_file, delimiter=',', quotechar='\"', quoting=csv.QUOTE_ALL)\n",
    "    # write the column names\n",
    "    my_writer.writerow(['Date', 'Attribute', 'Frequency'])\n",
    "    \n",
    "    # access the rows of the query results\n",
    "    for item in frequency_dict:\n",
    "        lev1_cleaned1 = lev1.replace(\"http://icondataset.org/\", \"\")\n",
    "        lev1_cleaned2 = lev1_cleaned1.replace(\"-\", \" \")\n",
    "        start = int(timeStart[:4])\n",
    "        end = int(timeEnd[:4])\n",
    "        if start != end: \n",
    "            time = int((start+end)/2)\n",
    "        else: \n",
    "            time = start\n",
    "        # write in the csv\n",
    "        my_writer.writerow([time, artwork, lev1_cleaned2])"
   ]
  },
  {
   "cell_type": "code",
   "execution_count": null,
   "id": "b322ac16",
   "metadata": {},
   "outputs": [],
   "source": [
    "https://www.python-graph-gallery.com/bubble-plot-with-seaborn "
   ]
  },
  {
   "cell_type": "code",
   "execution_count": null,
   "id": "9b0e8f12",
   "metadata": {},
   "outputs": [],
   "source": [
    "# libraries\n",
    "import matplotlib.pyplot as plt\n",
    "import seaborn as sns\n",
    "from gapminder import gapminder # import data set \n",
    "\n",
    "# Control figure size for this notebook:\n",
    "plt.rcParams['figure.figsize'] = [8, 8]\n",
    "\n",
    "# data \n",
    "data = gapminder.loc[gapminder.year == 2007]\n",
    " \n",
    "# use the scatterplot function to build the bubble map\n",
    "sns.scatterplot(data=data, x=\"gdpPercap\", y=\"lifeExp\", size=\"pop\", legend=False, sizes=(20, 2000))\n",
    "\n",
    "# show the graph\n",
    "plt.show()"
   ]
  }
 ],
 "metadata": {
  "kernelspec": {
   "display_name": "Python 3 (ipykernel)",
   "language": "python",
   "name": "python3"
  },
  "language_info": {
   "codemirror_mode": {
    "name": "ipython",
    "version": 3
   },
   "file_extension": ".py",
   "mimetype": "text/x-python",
   "name": "python",
   "nbconvert_exporter": "python",
   "pygments_lexer": "ipython3",
   "version": "3.9.0"
  }
 },
 "nbformat": 4,
 "nbformat_minor": 5
}
