{
  "cells": [
    {
      "cell_type": "markdown",
      "metadata": {
        "id": "NHOcLCelr-Wx"
      },
      "source": [
        "# Install and import"
      ]
    },
    {
      "cell_type": "code",
      "execution_count": null,
      "metadata": {
        "id": "EHL66uzQT3sV"
      },
      "outputs": [],
      "source": [
        "pip install rdflib"
      ]
    },
    {
      "cell_type": "code",
      "execution_count": null,
      "metadata": {
        "id": "bI0Qn7G9ZpiO"
      },
      "outputs": [],
      "source": [
        "from rdflib import URIRef, BNode, Literal, Graph\n",
        "from rdflib.namespace import CSVW, DC, DCAT, DCTERMS, DOAP, FOAF, ODRL2, ORG, OWL, \\\n",
        "                           PROF, PROV, RDF, RDFS, SDO, SH, SKOS, SOSA, SSN, TIME, \\\n",
        "                           VOID, XMLNS, XSD\n",
        "from rdflib import Namespace, Literal, XSD\n",
        "\n",
        "import csv\n",
        "\n",
        "import re\n",
        "\n",
        "!pip install unidecode\n",
        "from unidecode import unidecode\n",
        "\n",
        "!pip install requests\n",
        "import requests\n",
        "\n",
        "!pip install SPARQLWrapper\n",
        "\n",
        "from SPARQLWrapper import SPARQLWrapper, JSON\n",
        "import ssl\n",
        "\n",
        "!pip install fuzzywuzzy\n",
        "!pip install python-Levenshtein\n",
        "\n",
        "import difflib\n",
        "# !pip install python-Levenshtein\n",
        "# !pip install thefuzz\n",
        "from fuzzywuzzy import fuzz\n",
        "from fuzzywuzzy import process\n",
        "# from thefuzz import fuzz\n",
        "# from thefuzz import process\n",
        "import json"
      ]
    },
    {
      "cell_type": "markdown",
      "metadata": {
        "id": "DoPwd4hB6S_m"
      },
      "source": [
        "# Access a Google Spreadsheet and retrieve data"
      ]
    },
    {
      "cell_type": "code",
      "execution_count": null,
      "metadata": {
        "id": "9JkV6RWZX58K"
      },
      "outputs": [],
      "source": [
        "from google.colab import auth\n",
        "auth.authenticate_user()\n",
        "\n",
        "import gspread\n",
        "from google.auth import default\n",
        "creds, _ = default()\n",
        "\n",
        "gc = gspread.authorize(creds)"
      ]
    },
    {
      "cell_type": "code",
      "execution_count": null,
      "metadata": {
        "id": "v1Va0wKurwLX"
      },
      "outputs": [],
      "source": [
        "def convert_to_dict(file):\n",
        "  \"Function which converts all a spreadsheet in a dictionary. Inside it, the tabs are lists of dictionaries (every row of each sheet is a dict)\"\n",
        "  spreadsheet = gc.open(file)\n",
        "  worksheet_list = spreadsheet.worksheets()\n",
        "  nameList = []\n",
        "  FileName = []\n",
        "  for item in worksheet_list:\n",
        "    splitted = str(item).replace(\"'\", \"\").split(\" \")\n",
        "    name = splitted[1]\n",
        "    nameList.append(name)\n",
        "  filesDict = {}\n",
        "  n = 0\n",
        "  for name in nameList:\n",
        "    x = spreadsheet.get_worksheet(n)\n",
        "    name2 = x.get_all_records()\n",
        "    n+=1\n",
        "\n",
        "    filesDict[name] = name2\n",
        " # for dictionary in filesDict:\n",
        "\n",
        "  return filesDict\n",
        "\n",
        "all_sheets = convert_to_dict(\"Panofsky\")\n",
        "# all_sheets = convert_to_dict(\"StudiesInIconology\")\n"
      ]
    },
    {
      "cell_type": "markdown",
      "metadata": {
        "id": "BExQC9onRVK6"
      },
      "source": [
        "# Separate values and clean data\n",
        "1) replaces values separated by \" @ \" with lists of values corresponding to the specified key (es: row {quality: [beauty, red]})\n",
        "2) creates keys whose values have no spaces or special characters, thus ready to be used for the creation of URIs"
      ]
    },
    {
      "cell_type": "code",
      "execution_count": null,
      "metadata": {
        "id": "GpFrAka3yMW1"
      },
      "outputs": [],
      "source": [
        "\n",
        "def separate_clean(data): # input: una lista di dizionari\n",
        "  splitted = []\n",
        "\n",
        "  for dictionary in data:\n",
        "    newDict = {}\n",
        "    for key, value in dictionary.items():\n",
        "      new = str(value).split(\" @ \") # str because it reads dates as integers\n",
        "      new2 = []\n",
        "      for item in new:\n",
        "        stripped = item.strip()\n",
        "        new2.append(stripped)\n",
        "      newDict[key] = new2\n",
        "    splitted.append(newDict)\n",
        "\n",
        "  final = []\n",
        "  for dic in splitted:\n",
        "    d2 = {}\n",
        "    for field, value in dic.items():\n",
        "      print(value) # dic.items returns a list containing a tuple for each field-value pair\n",
        "    #  if value[0] != \"\": # aggiungiamo solo i campi non vuoti\n",
        "      d2[field] = value # clean_labels(value) # aggiunge chiavi e valori già trovati\n",
        "    #    if value != text_to_uri(value): # creiamo chiavi _uri solo per i valori che hanno spazi etc\n",
        "      d2[field+\"_uri\"] = text_to_uri(value)\n",
        "    final.append(d2)\n",
        "  return final\n",
        "\n",
        "def clean_labels(value):\n",
        "    new_labels = []\n",
        "    for val in value:\n",
        "        new_labels.append(val.strip())\n",
        "    return new_labels\n",
        "\n",
        "def text_to_uri(value):\n",
        "  cleaned_values = []\n",
        "  for item in value:\n",
        "    new = re.sub(r\"\\(\", \"\", item)\n",
        "    new2 = re.sub(r\"\\)\", \"\", new)\n",
        "    new3 = re.sub(r\"\\\"\", \"_\", new2)\n",
        "    cleaned_value = new3.strip().replace(\" \", \"-\").replace(\".\", \"\").replace(\",\", \"\").replace(\"'\", \"\").lower()\n",
        "    final_cleaned = unidecode(cleaned_value) # sostituisce le lettere accentate con le corrispettive lettere non accentate\n",
        "    cleaned_values.append(final_cleaned)\n",
        "  # usa regex: tutto quello che non è alfanumerico ci fai qualcosa. es escludi anche caratteri speciali, poi mapping o li elimini\n",
        "  # Regex rgx = new Regex(\"[^a-zA-Z0-9 -]\");\n",
        "  # str = rgx.Replace(str, \"\");\n",
        "  return cleaned_values\n",
        "\n",
        "# l'output è una lista di dizionari con le chiavi duplicate, una per le label ed una per creare gli uri\n",
        "\n"
      ]
    },
    {
      "cell_type": "code",
      "execution_count": null,
      "metadata": {
        "id": "1nTBLd8ZFkyo"
      },
      "outputs": [],
      "source": [
        "artworks_cleaned = separate_clean(all_sheets[\"Artworks\"])\n",
        "books_cleaned = separate_clean(all_sheets[\"Books\"])\n",
        "booksContent_cleaned = separate_clean(all_sheets[\"BooksContent\"])\n",
        "people_cleaned= separate_clean(all_sheets[\"People\"])\n",
        "type_cleaned = separate_clean(all_sheets[\"Type\"])\n",
        "typeOfRelation_cleaned = separate_clean(all_sheets[\"TypeOfRelation\"])\n",
        "style_cleaned = separate_clean(all_sheets[\"Style\"])\n",
        "places_cleaned = separate_clean(all_sheets[\"Places\"])\n",
        "interpretations_cleaned = separate_clean(all_sheets[\"Interpretations\"])\n",
        "level1_cleaned = separate_clean(all_sheets[\"Level1\"])\n",
        "formalMotifRecLevel1_cleaned = separate_clean(all_sheets[\"FormalMotifRecLevel1\"])\n",
        "level2_cleaned = separate_clean(all_sheets[\"Level2\"])\n",
        "simulation_cleaned = separate_clean(all_sheets[\"Simulation\"])\n",
        "level3_cleaned =separate_clean(all_sheets[\"Level3\"])\n",
        "levelsEntryControl_cleaned = separate_clean(all_sheets[\"LevelsEntryControl\"])\n",
        "character_wd_cleaned = separate_clean(all_sheets[\"character_wd_broader\"])\n",
        "license_cleaned = separate_clean(all_sheets[\"License\"])"
      ]
    },
    {
      "cell_type": "markdown",
      "metadata": {
        "id": "ktZOC49rzGZX"
      },
      "source": [
        "# Verify if all the terms are in the controlled lists"
      ]
    },
    {
      "cell_type": "code",
      "execution_count": null,
      "metadata": {
        "id": "WNjnIUndkMos"
      },
      "outputs": [],
      "source": [
        "# verificare se tutti i termini delle colonne controllate sono nei controlled\n",
        "control = []\n",
        "for column in levelsEntryControl_cleaned:\n",
        "  val = column.values()\n",
        "  for value in val:\n",
        "    if value != [\"\"]:\n",
        "      final_v = \" \".join(value)\n",
        "      if final_v not in control:\n",
        "        control.append(final_v)\n",
        " # control.add(val)\n",
        "\n"
      ]
    },
    {
      "cell_type": "code",
      "execution_count": null,
      "metadata": {
        "id": "4r_JGPH4Flab"
      },
      "outputs": [],
      "source": [
        "# function to add the terms to a control list, given the empty list, the column name and the file read as a list of dict\n",
        "def controlled_list(control_list, col_name, list_dict):\n",
        "  values_list = [d[col_name] for d in list_dict if d[col_name] != [\"\"]]\n",
        "  for l in values_list:\n",
        "    for item in l:\n",
        "      if item not in control_list:\n",
        "        control_list.append(item)"
      ]
    },
    {
      "cell_type": "code",
      "execution_count": null,
      "metadata": {
        "id": "MpHqRnexktGa"
      },
      "outputs": [],
      "source": [
        "people_list = controlled_list(control, \"Name\", people_cleaned)\n",
        "\n",
        "# places - DuplicatesCheck\tCityOrRegion\n",
        "places_list = controlled_list(control, \"Institution\", places_cleaned)\n",
        "places_list2 = controlled_list(control, \"CityOrRegion\", places_cleaned)\n",
        "places_list3 = controlled_list(control, \"Country\", places_cleaned)\n",
        "# styles\n",
        "style_list = controlled_list(control, \"Style\", style_cleaned)\n",
        "period_list = controlled_list(control, \"Period\", style_cleaned)\n",
        "\n",
        "# books and BooksContent- TitleForCheckingDuplicates\n",
        "book_list = controlled_list(control, \"TitleForCheckingDuplicates\", books_cleaned)\n",
        "bookContent_list = controlled_list(control, \"TitleForCheckingDuplicates\", booksContent_cleaned)\n",
        "#\n",
        "print(control)"
      ]
    },
    {
      "cell_type": "code",
      "execution_count": null,
      "metadata": {
        "id": "NOMe6sAGG0A0"
      },
      "outputs": [],
      "source": [
        "# function to check if the terms are in a controlled list, given the control list, the list of the\n",
        "# column names to be verified, and the file read as a list of dictionaries.\n",
        "\n",
        "def control_terms(control_list, col_name_list, list_dict):\n",
        "  for name in col_name_list:\n",
        "    for dic in list_dict:\n",
        "      if name in dic:\n",
        "        x = dic[name]\n",
        "        for value in x:\n",
        "          if value != \"\":\n",
        "            if value not in control_list:\n",
        "              print(value,\"in column\", name, \"is not controlled\")\n",
        "\n"
      ]
    },
    {
      "cell_type": "code",
      "execution_count": null,
      "metadata": {
        "id": "DVO6pXibLpA0"
      },
      "outputs": [],
      "source": [
        "artwork_check = [\"CityOfConservation\",\t\"PlaceOfConservation\", \"Author\", \"RelatedBook\", \"Style\", \"Period\"]\n",
        "level1 = [\"NaturalElement\",\t\"ExpressionalQuality\",\t\"Quality\",\t\"Action\",\t\"Style\", \"PersonResponsible\"]\n",
        "level2 = [\"Character\",\t\"SourceActor\",\t\"Place\",\t\"Event\",\t\"NamedObject\",\t\"Symbol\",\t\"Personification\",\t\"Story\",\t\"Allegory\",\t\"Invenzione\", \"PersonResponsible\"]\n",
        "level3 = [\"Concept\", \"CulturalPhenomenon\", \"PersonResponsible\"]\n",
        "\n",
        "artwork_check2 = control_terms(control, artwork_check, artworks_cleaned)"
      ]
    },
    {
      "cell_type": "code",
      "execution_count": null,
      "metadata": {
        "id": "7vHUbZtyyo0c"
      },
      "outputs": [],
      "source": [
        "level1_check = control_terms(control, level1, level1_cleaned)"
      ]
    },
    {
      "cell_type": "code",
      "execution_count": null,
      "metadata": {
        "id": "GCyOX7UvVY8y",
        "colab": {
          "base_uri": "https://localhost:8080/"
        },
        "outputId": "50bf2cb9-1a3d-4971-b82f-6d0abadbb49b"
      },
      "outputs": [
        {
          "output_type": "stream",
          "name": "stdout",
          "text": [
            "Adam \"holds on” to the Tree of Life as long as he is still free not to accept the fatal fruit in column Allegory is not controlled\n"
          ]
        }
      ],
      "source": [
        "level2_check = control_terms(control, level2, level2_cleaned)"
      ]
    },
    {
      "cell_type": "code",
      "execution_count": null,
      "metadata": {
        "id": "q2qGN587lM4Z"
      },
      "outputs": [],
      "source": [
        "level3_check = control_terms(control, level3, level3_cleaned)"
      ]
    },
    {
      "cell_type": "markdown",
      "metadata": {
        "id": "SiZUilpdNeOa"
      },
      "source": []
    },
    {
      "cell_type": "markdown",
      "metadata": {
        "id": "fqfmvk4DcKu3"
      },
      "source": [
        "# Graph Creation"
      ]
    },
    {
      "cell_type": "code",
      "execution_count": null,
      "metadata": {
        "colab": {
          "base_uri": "https://localhost:8080/"
        },
        "id": "XqOVnv-MJCVI",
        "outputId": "04aaa7b2-050b-4fc9-aa53-83ad13135295"
      },
      "outputs": [
        {
          "output_type": "stream",
          "name": "stdout",
          "text": [
            "[a rdfg:Graph;rdflib:storage [a rdflib:Store;rdfs:label 'Memory']].\n"
          ]
        }
      ],
      "source": [
        "icon = Namespace(\"https://w3id.org/icon/ontology/\")  #ontology name\n",
        "sim =  Namespace(\"https://w3id.org/simulation/ontology/\")\n",
        "crm = Namespace(\"http://www.cidoc-crm.org/cidoc-crm/\")\n",
        "d = Namespace(\"https://w3id.org/icon/data/\")\n",
        "v = Namespace(\"http://iconvocabulary.org/\")\n",
        "dul = Namespace(\"http://www.ontologydesignpatterns.org/ont/dul/DUL.owl#\")\n",
        "foaf = Namespace(\"http://xmlns.com/foaf/spec/\")\n",
        "cito = Namespace(\"http://purl.org/spar/cito/\")\n",
        "pro = Namespace(\"http://purl.org/spar/pro/\")\n",
        "skos = Namespace(\"http://www.w3.org/2004/02/skos/core#\")\n",
        "owl = Namespace(\"http://www.w3.org/2002/07/owl#\")\n",
        "dct = Namespace(\"http://purl.org/dc/terms/\")\n",
        "dc = Namespace(\"http://purl.org/dc/elements/1.1/\")\n",
        "prov = Namespace(\"http://www.w3.org/ns/prov#\")\n",
        "dcatapit = Namespace(\"http://dati.gov.it/onto/dcatapit\")\n",
        "dcat = Namespace(\"http://www.w3.org/ns/dcat#\")\n",
        "xsd = Namespace(\"http://www.w3.org/2001/XMLSchema#\")\n",
        "schema = Namespace(\"https://schema.org/\")\n",
        "\n",
        "\n",
        "\n",
        "g = Graph() #we create the graph\n",
        "g.bind(\"icon\", icon)\n",
        "g.bind(\"sim\", sim)\n",
        "g.bind(\"rdf\", RDF)\n",
        "g.bind(\"crm\", crm)\n",
        "g.bind(\"rdfs\", RDFS)\n",
        "g.bind(\"d\", d)\n",
        "g.bind(\"dul\", dul)\n",
        "g.bind(\"foaf\", foaf)\n",
        "g.bind(\"cito\", cito)\n",
        "g.bind(\"pro\", pro)\n",
        "g.bind(\"skos\", skos)\n",
        "g.bind(\"owl\", owl)\n",
        "g.bind(\"dct\", dct)\n",
        "g.bind(\"prov\", prov)\n",
        "g.bind(\"dcatapit\", dcatapit)\n",
        "g.bind(\"dcat\", dcat)\n",
        "g.bind(\"prov\", prov)\n",
        "g.bind(\"xsd\", xsd)\n",
        "g.bind(\"schema\", schema)\n",
        "\n",
        "print(g)"
      ]
    },
    {
      "cell_type": "markdown",
      "metadata": {
        "id": "2IghVymOps2d"
      },
      "source": [
        "## Dataset metadata\n",
        "\n"
      ]
    },
    {
      "cell_type": "code",
      "execution_count": null,
      "metadata": {
        "id": "QIaDNPeTlffj"
      },
      "outputs": [],
      "source": [
        "g.add((URIRef(d), RDF.type, URIRef(dcatapit.Dataset)))\n",
        "g.add((URIRef(d), RDF.type, URIRef(dcat.Dataset)))\n",
        "#g.add((URIRef(d), dct.identifier, Literal(\"IconDatasetSubgraph.version2\")))\n",
        "g.add((URIRef(d), dct.identifier, Literal(\"IconDataset.version2\")))\n",
        "g.add((URIRef(d), dct.title, Literal(\"Icon Dataset\", lang=\"en\")))\n",
        "#g.add((URIRef(d), dct.description, Literal(\"Subgraph of the Iconology dataset of the interpretations extracted from 'Studies in Iconology' by Erwin.\")))\n",
        "\n",
        "g.add((URIRef(d), dct.description, Literal(\"Dataset of the iconographical and iconological interpretations extracted from articles and books written by Panofsky.\")))\n",
        "g.add((URIRef(d), dct.theme, URIRef(\"http://publications.europa.eu/resource/authority/data-theme/EDUC\")))\n",
        "g.add((URIRef(d), dct.subject, URIRef(\"http://vocab.getty.edu/aat/300055859\")))\n",
        "g.add((URIRef(d), dct.subject, URIRef(\"http://vocab.getty.edu/aat/300054235\")))\n",
        "g.add((URIRef(d), dct.subject, URIRef(\"http://vocab.getty.edu/aat/500216547\")))\n",
        "g.add((URIRef(d), dct.issued, Literal(\"2023-10-13\", datatype=XSD.Date)))\n",
        "#g.add((URIRef(d), dct.modified, Literal(\"2021-06-1\", datatype=XSD.Date)))\n",
        "g.add((URIRef(d), dct.keyword, Literal(\"iconology\")))\n",
        "g.add((URIRef(d), dct.keyword, Literal(\"iconography\")))\n",
        "g.add((URIRef(d), dct.keyword, Literal(\"art interpretation\")))\n",
        "g.add((URIRef(d), dct.keyword, Literal(\"art history\")))\n",
        "g.add((URIRef(d), dct.keyword, Literal(\"artworks\")))\n",
        "g.add((URIRef(d), owl.versionInfo, Literal(\"2.1.0\")))\n",
        "g.add((URIRef(d), dct.creator, URIRef(\"https://orcid.org/0000-0002-5636-8328\")))\n",
        "g.add((URIRef(\"https://orcid.org/0000-0002-5636-8328\"), RDF.type, URIRef(dcatapit.Agent)))\n",
        "g.add((URIRef(d), dct.distribution, URIRef(d+\"TurtleDistribution\")))\n",
        "g.add((URIRef(d+\"TurtleDistribution\"), RDF.type, dcatapit.Distribution))\n",
        "# g.add((URIRef(d+\"TurtleDistribution\"), dct.format, URIRef(\"http://publications.europa.eu/resource/authority/file-type/RDF_TURTLE\")))\n",
        "g.add((URIRef(d+\"TurtleDistribution\"), dct.license, URIRef(\"http://creativecommons.org/licenses/by-sa/4.0/\")))\n",
        "g.add((URIRef(d+\"TurtleDistribution\"), dcat.downloadURL, URIRef(\"https://raw.githubusercontent.com/SofiBar/IconologyDataset/main/data/icondataset.ttl\")))\n",
        "g.add((URIRef(d+\"TurtleDistribution\"), dcat.accessURL,  URIRef(\"https://projects.dharc.unibo.it/icondataset/sparql\")))\n",
        "\n",
        "g.add((URIRef(d), prov.wasDerivedFrom, URIRef(\"http://www.worldcat.org/oclc/265570808\")))\n",
        "g.add((URIRef(d), prov.wasDerivedFrom, URIRef(\"http://www.worldcat.org/oclc/217473356\")))\n",
        "g.add((URIRef(d), prov.wasDerivedFrom, URIRef(\"https://doi.org/10.2307/1522803\")))\n",
        "g.add((URIRef(d), prov.wasDerivedFrom, URIRef(\"http://www.worldcat.org/oclc/803192922\")))\n",
        "g.add((URIRef(d), dct.language, URIRef(\"http://publications.europa.eu/resource/authority/language/ENG\")))"
      ]
    },
    {
      "cell_type": "markdown",
      "metadata": {
        "id": "Et6EVXtwItXH"
      },
      "source": [
        "# Dictionaries made out of names and links\n",
        "to be used when the vocabulary has already the final reconciled values. The values are strings"
      ]
    },
    {
      "cell_type": "code",
      "execution_count": null,
      "metadata": {
        "id": "Vpl1_rQqoKM3"
      },
      "outputs": [],
      "source": [
        "def name_str_link_dict(colname, collink, file, field_string):\n",
        "  myDict = {}\n",
        "  for line in file:\n",
        "    if line[colname][0] != \"\":\n",
        "      name = line[colname][0]\n",
        "      name_uri = line[colname+\"_uri\"][0]\n",
        "      field = field_string.lower().replace(\" \", \"\")\n",
        "      lineLink = line[collink]\n",
        "      for link in lineLink:\n",
        "        if link == \"\" or link == \"no\":\n",
        "          newlink = \"https://w3id.org/icon/data/\"+field+\"/\"+name_uri # consider to make it a list to uniform it (once the final format is decided)\n",
        "          myDict.update({name : newlink})\n",
        "        elif link != \"\":\n",
        "        # if len(lineLink) > 1:\n",
        "        #    myDict.update({name : lineLink})\n",
        "        # elif len(lineLink) == 1:\n",
        "          myDict.update({name : link})\n",
        "  return myDict\n"
      ]
    },
    {
      "cell_type": "code",
      "execution_count": null,
      "metadata": {
        "id": "HWHq15IUr7tz"
      },
      "outputs": [],
      "source": [
        "styleDict = name_str_link_dict(\"Style\", \"Link\", style_cleaned, \"style\")\n",
        "print(styleDict)\n",
        "periodDict = name_str_link_dict(\"Period\", \"PeriodLink\", style_cleaned, \"period\")\n",
        "print(periodDict)\n",
        "relDict = name_str_link_dict(\"TypeOfRelation\", \"Link\", typeOfRelation_cleaned, \"relation\")\n",
        "print(relDict)\n",
        "typeDict = name_str_link_dict(\"CulturalObjectType\", \"Link\", type_cleaned, \"type\")\n",
        "print(typeDict)\n",
        "materialDict = name_str_link_dict(\"Material\", \"MaterialLink\", type_cleaned, \"material\")\n",
        "print(materialDict)\n",
        "licenseDict = name_str_link_dict(\"Name\", \"Link\", license_cleaned, \"license\")\n",
        "print(licenseDict)"
      ]
    },
    {
      "cell_type": "markdown",
      "metadata": {
        "id": "aaA3ZLUSaKRD"
      },
      "source": [
        "## Multiple reconciliation\n",
        "We use this section to reconclile terms to multiple terms from more than one vocabulary. For example, if we know that a person can be reconciled with Getty ULAN, VIAF, Wikidata, we adopt the following methodology."
      ]
    },
    {
      "cell_type": "markdown",
      "metadata": {
        "id": "1f7H9ZffkHMB"
      },
      "source": [
        "### Dictionaries for multiple reconciliation\n",
        "We insert in the vocabulary two keys: 1) one with the name and the local URI, 2) the ther with the name + \" rec\" having as a value a list of reconciled terms. Example: `{\"Raffaello Sanzio\" : \"www.icondataset.org/people/raffaello-sanzio\", \"Raffaello Sanzio rec\" : []}`. If reconciled terms are still present in the dicitonary, they are added to the \" rec\" key.  Then, the value of the first key will be linked to each link of the \" rec\" key through the relation \"owl:sameAs\"."
      ]
    },
    {
      "cell_type": "code",
      "execution_count": null,
      "metadata": {
        "id": "SUzRLsHS-vl8"
      },
      "outputs": [],
      "source": [
        "def name_link_dict(colname, collink, file, entity_type= None):\n",
        "  myDict = {}\n",
        "  for line in file:\n",
        "    name = line[colname][0]\n",
        "    name_uri = line[colname+\"_uri\"][0]\n",
        "    lineLink = line[collink]\n",
        "    if name != \"\":\n",
        "      if entity_type != None:\n",
        "        field = entity_type.lower()\n",
        "        newLink = \"https://w3id.org/icon/data/\"+field+\"/\"+name_uri\n",
        "      else:\n",
        "        newLink = \"https://w3id.org/icon/data/\"+name_uri\n",
        "      myDict.update({name : newLink})\n",
        "      myDict.update({name+\" rec\": []}) # we create keys with a list for reconciled terms\n",
        "      for link in lineLink:\n",
        "        if link.startswith(\"htt\"):\n",
        "          if link not in myDict[name+\" rec\"]:\n",
        "            myDict[name+\" rec\"].append(link)\n",
        " # with open(entity_type+\"Dict\"+\".json\", mode=\"w\", encoding=\"utf-8\") as jsonfile: # we store all the dicts in a json to act on them in a second moment\n",
        "   # json.dump(myDict, jsonfile)\n",
        "  return myDict"
      ]
    },
    {
      "cell_type": "code",
      "execution_count": null,
      "metadata": {
        "id": "ANPE-Hlm-5wG"
      },
      "outputs": [],
      "source": [
        "peopleDict = name_link_dict(\"Name\", \"Link\", people_cleaned, \"person\")\n",
        "print(peopleDict)"
      ]
    },
    {
      "cell_type": "code",
      "execution_count": null,
      "metadata": {
        "id": "hel_rHUDU_3Y"
      },
      "outputs": [],
      "source": [
        "characterDict = name_link_dict(\"Character\", \"LinkCharacter\", levelsEntryControl_cleaned)\n",
        "print(characterDict)\n",
        "\n",
        "with open(\"characterDict.json\", mode=\"w\", encoding=\"utf-8\") as jsonfile: # we store all the dicts in a json to act on them in a second moment\n",
        "    json.dump(characterDict, jsonfile)"
      ]
    },
    {
      "cell_type": "code",
      "execution_count": null,
      "metadata": {
        "id": "C8okE-JLY07m"
      },
      "outputs": [],
      "source": [
        "naturalElementDict = name_link_dict(\"NaturalElement\", \"LinkNaturalElement\", levelsEntryControl_cleaned)\n",
        "print(naturalElementDict)\n",
        "\n",
        "with open(\"naturalElementDict.json\", mode=\"w\", encoding=\"utf-8\") as jsonfile: # we store all the dicts in a json to act on them in a second moment\n",
        "    json.dump(naturalElementDict, jsonfile)"
      ]
    },
    {
      "cell_type": "code",
      "execution_count": null,
      "metadata": {
        "id": "pMxm5_KoZM0Q"
      },
      "outputs": [],
      "source": [
        "expressionalQualityDict = name_link_dict(\"ExpressionalQuality\", \"LinkExpressionalQuality\", levelsEntryControl_cleaned)\n",
        "print(expressionalQualityDict)\n",
        "\n",
        "with open(\"expressionalQualityDict.json\", mode=\"w\", encoding=\"utf-8\") as jsonfile: # we store all the dicts in a json to act on them in a second moment\n",
        "    json.dump(expressionalQualityDict, jsonfile)"
      ]
    },
    {
      "cell_type": "code",
      "execution_count": null,
      "metadata": {
        "id": "PuEwoatPZ_us"
      },
      "outputs": [],
      "source": [
        "qualityDict = name_link_dict(\"Quality\", \"LinkQuality\", levelsEntryControl_cleaned)\n",
        "print(qualityDict)\n",
        "\n",
        "with open(\"qualityDict.json\", mode=\"w\", encoding=\"utf-8\") as jsonfile: # we store all the dicts in a json to act on them in a second moment\n",
        "    json.dump(qualityDict, jsonfile)"
      ]
    },
    {
      "cell_type": "code",
      "execution_count": null,
      "metadata": {
        "id": "cWMYSqHYaXhr"
      },
      "outputs": [],
      "source": [
        "actionDict = name_link_dict(\"Action\", \"LinkAction\", levelsEntryControl_cleaned)\n",
        "print(actionDict)\n",
        "\n",
        "with open(\"actionDict.json\", mode=\"w\", encoding=\"utf-8\") as jsonfile: # we store all the dicts in a json to act on them in a second moment\n",
        "    json.dump(actionDict, jsonfile)"
      ]
    },
    {
      "cell_type": "code",
      "execution_count": null,
      "metadata": {
        "id": "AvfwRG1Ia_4t"
      },
      "outputs": [],
      "source": [
        "# place - nb: second level places!\n",
        "\n",
        "placeDict = name_link_dict(\"Place\", \"LinkPlace\", levelsEntryControl_cleaned)\n",
        "print(placeDict)\n",
        "\n",
        "with open(\"placeDict.json\", mode=\"w\", encoding=\"utf-8\") as jsonfile: # we store all the dicts in a json to act on them in a second moment\n",
        "    json.dump(placeDict, jsonfile)"
      ]
    },
    {
      "cell_type": "code",
      "execution_count": null,
      "metadata": {
        "id": "kl7DxWT3bALr"
      },
      "outputs": [],
      "source": [
        "# Event\n",
        "\n",
        "eventDict = name_link_dict(\"Event\", \"LinkEvent\", levelsEntryControl_cleaned)\n",
        "print(eventDict)\n",
        "\n",
        "with open(\"eventDict.json\", mode=\"w\", encoding=\"utf-8\") as jsonfile: # we store all the dicts in a json to act on them in a second moment\n",
        "    json.dump(eventDict, jsonfile)"
      ]
    },
    {
      "cell_type": "code",
      "execution_count": null,
      "metadata": {
        "id": "GqW463VKbAqd"
      },
      "outputs": [],
      "source": [
        "# NamedObject\n",
        "\n",
        "namedObjectDict = name_link_dict(\"NamedObject\", \"LinkNamedObject\", levelsEntryControl_cleaned)\n",
        "print(namedObjectDict)\n",
        "\n",
        "with open(\"namedObjectDict.json\", mode=\"w\", encoding=\"utf-8\") as jsonfile: # we store all the dicts in a json to act on them in a second moment\n",
        "    json.dump(namedObjectDict, jsonfile)"
      ]
    },
    {
      "cell_type": "code",
      "execution_count": null,
      "metadata": {
        "id": "G2McIvzybA_e"
      },
      "outputs": [],
      "source": [
        "# Symbol\n",
        "\n",
        "symbolDict = name_link_dict(\"Symbol\", \"LinkSymbol\", levelsEntryControl_cleaned)\n",
        "print(actionDict)\n",
        "\n",
        "with open(\"symbolDict.json\", mode=\"w\", encoding=\"utf-8\") as jsonfile: # we store all the dicts in a json to act on them in a second moment\n",
        "    json.dump(symbolDict, jsonfile)"
      ]
    },
    {
      "cell_type": "code",
      "execution_count": null,
      "metadata": {
        "id": "9A5ZJBD_bBSj"
      },
      "outputs": [],
      "source": [
        "#  Personification\n",
        "personificationDict = name_link_dict(\"Personification\", \"LinkPersonification\", levelsEntryControl_cleaned)\n",
        "print(actionDict)\n",
        "\n",
        "with open(\"personificationDict.json\", mode=\"w\", encoding=\"utf-8\") as jsonfile: # we store all the dicts in a json to act on them in a second moment\n",
        "    json.dump(personificationDict, jsonfile)"
      ]
    },
    {
      "cell_type": "code",
      "execution_count": null,
      "metadata": {
        "id": "sMfShT0ybDEx"
      },
      "outputs": [],
      "source": [
        "#  PartOfStory\n",
        "\n",
        "storyDict = name_link_dict(\"PartOfStory\", \"LinkStory\", levelsEntryControl_cleaned)\n",
        "print(storyDict)\n",
        "\n",
        "with open(\"storyDict.json\", mode=\"w\", encoding=\"utf-8\") as jsonfile: # we store all the dicts in a json to act on them in a second moment\n",
        "    json.dump(storyDict, jsonfile)"
      ]
    },
    {
      "cell_type": "code",
      "execution_count": null,
      "metadata": {
        "id": "O67EyUTmbDbi"
      },
      "outputs": [],
      "source": [
        "# partOfAllegory\n",
        "\n",
        "allegoryDict = name_link_dict(\"partOfAllegory\", \"LinkAllegory\", levelsEntryControl_cleaned)\n",
        "print(allegoryDict)\n",
        "\n",
        "with open(\"allegoryDict.json\", mode=\"w\", encoding=\"utf-8\") as jsonfile: # we store all the dicts in a json to act on them in a second moment\n",
        "    json.dump(allegoryDict, jsonfile)"
      ]
    },
    {
      "cell_type": "code",
      "execution_count": null,
      "metadata": {
        "id": "92Jeb_KEbDwV"
      },
      "outputs": [],
      "source": [
        "#  partOfInvenzione\n",
        "\n",
        "invenzioneDict = name_link_dict(\"partOfInvenzione\", \"LinkInvenzione\", levelsEntryControl_cleaned)\n",
        "print(invenzioneDict)\n",
        "\n",
        "with open(\"invenzioneDict.json\", mode=\"w\", encoding=\"utf-8\") as jsonfile: # we store all the dicts in a json to act on them in a second moment\n",
        "    json.dump(invenzioneDict, jsonfile)"
      ]
    },
    {
      "cell_type": "markdown",
      "metadata": {
        "id": "0ZiG9TuXv7iH"
      },
      "source": [
        "# Date dictionary"
      ]
    },
    {
      "cell_type": "code",
      "execution_count": null,
      "metadata": {
        "id": "p19Re2LDJPh-"
      },
      "outputs": [],
      "source": [
        "p = re.compile(r'^\\d{4}$')\n",
        "q = re.compile(r'^\\d{3}$')\n",
        "r = re.compile(r'^\\d$')\n",
        "dateKeys = []\n",
        "dateDict = {}\n",
        "convertDict = {\"I\":[\"001\", \"100\"], \"II\":[\"101\", \"200\"], \"III\":[\"201\", \"300\"], \"IV\":[\"301\", \"400\"], \"V\":[\"401\", \"500\"], \"VI\":[\"501\", \"600\"], \"VII\":[\"601\", \"700\"], \"VIII\":[\"701\", \"800\"], \"IX\":[\"801\", \"900\"], \"X\":[\"901\", \"1000\"], \"XI\":[\"1001\", \"1100\"], \"XII\":[\"1101\", \"1200\"], \"XIII\":[\"1201\", \"1300\"], \"XIV\":[\"1301\", \"1400\"], \"XV\":[\"1401\", \"1500\"], \"XVI\":[\"1501\", \"1600\"], \"XVII\":[\"1601\", \"1700\"], \"XVIII\":[\"1701\", \"1800\"], \"XIX\":[\"1801\", \"1900\"], \"XX\":[\"1901\", \"2000\"] } # utilizzato per creare una corrispondenza tra i secoli in numeri romani e la durata in numeri arabi\n",
        "centuryRestriction = {\"first decade\":[0, 9], \"second decade\":[10, 19], \"third decade\":[20, 29], \"fourth decade\":[30, 39], \"fifth decade\":[40, 49], \"sixth decade\":[50, 59], \"seventh decade\":[60, 69], \"eighth decade\":[70, 79], \"nineth decade\":[80, 89], \"tenth decade\":[90, 99], \"first quarter\":[0, 24], \"second quarter\":[25, 49], \"third quarter\":[50, 74], \"fourth quarter\":[75, 99], \"first half\":[0, 49], \"second half\":[50, 99] }\n",
        "# convertDict : nella prima posizione della lista c'è la data di inizio, nella seconda la data di fine\n",
        "# centuryRestriction: dato che creo le date sommando i valori alla start date che è sempre il primo anno del secolo, ho tolto 1 per far venire il risultato corretto: prima decade 0-9 invece di 1-10\n"
      ]
    },
    {
      "cell_type": "code",
      "execution_count": null,
      "metadata": {
        "id": "Q8xLLJfLfmzE"
      },
      "outputs": [],
      "source": [
        "def date_dict_update(colname, data_cleaned):\n",
        "  for dic in data_cleaned:\n",
        "    date = dic[colname][0]\n",
        "    if date != \"\" and date not in dateKeys:\n",
        "      dateKeys.append(date)\n",
        "\n",
        "  start = \"-01-01T00:00:00\"\n",
        "  end = \"-12-31T23:59:59\"\n",
        "\n",
        "\n",
        "  for date in dateKeys:\n",
        "    if len(date) <= 4 and (re.search(p,date) or re.search(q,date)) : # se ci sono 4 caratteri nella stringa . devi dire che ci sono solo digit\n",
        "      dateDict[date] = [date+start , date+end]\n",
        "    elif len(date.split('-')) == 2: # devo sistemare i dati aggiungendo gli anni del secolo (es: non \"1308-11\" ma \"1308-1311\")\n",
        "      startDate = date.split('-')[0]\n",
        "      endDate = date.split('-')[1]\n",
        "      dateDict[date] = [startDate+start , endDate+end]\n",
        "    #before, completed, after, post\n",
        "    elif date.startswith('before') or date.startswith('completed') :\n",
        "      endDate = date.split(\" \")[1]\n",
        "      startDate = None\n",
        "      dateDict[date] = [startDate, endDate+end]\n",
        "    elif date.startswith('after') or date.startswith('post') :\n",
        "      startDate = date.split(\" \")[1]\n",
        "      endDate = None\n",
        "      dateDict[date] = [startDate+start , endDate]\n",
        "\n",
        "\n",
        "  # centuries\n",
        "    if len(date.split(\" \")) > 1:\n",
        "      for century in convertDict:\n",
        "        first = date.split(\" \")[0]\n",
        "        second = date.split(\" \")[1]\n",
        "        if first == century: # se è una chiave del dizionario di conversione dei secoli, allora è un secolo\n",
        "          dateDict[date] = [convertDict[first][0]+start , convertDict[first][1]+end]\n",
        "        elif first.split(\"-\")[0] == century: # casistica: \"XI-XII Century\"\n",
        "          fromCentury = first.split(\"-\")[0]\n",
        "          toCentury = first.split(\"-\")[1]\n",
        "          dateDict[date] = [convertDict[fromCentury][0]+start , convertDict[toCentury][1]+end]\n",
        "        elif first.startswith('Early') or date.startswith('first third of') : # ! upper and lower case differences\n",
        "          for element in date.split(\" \"):\n",
        "            if \"B.C.\" in date.split(\" \"):\n",
        "              if element == century:\n",
        "                endDate = int(convertDict[century][0]) + 66\n",
        "                dateDict[date] = [convertDict[century][1]+start, str(endDate)+end]\n",
        "            else:\n",
        "              if element == century:\n",
        "                endDate = int(convertDict[century][1]) - 66  # rendendolo un integer posso sommare e sottrarre per avere gli anni corrispondenti\n",
        "              dateDict[date] = [convertDict[century][0]+start , str(endDate)+end]\n",
        "        elif first.startswith('Middle') or date.startswith('Second third of') :\n",
        "          for element in date.split(\" \"):\n",
        "            if element == century:\n",
        "              startDate = int(convertDict[century][0]) + 34\n",
        "              endDate = int(convertDict[century][1]) - 33\n",
        "              dateDict[date] = [str(startDate)+start , str(endDate)+end]\n",
        "        elif first.startswith('Late') or date.startswith('end of'):\n",
        "          for element in date.split(\" \"):\n",
        "            if element == century:\n",
        "              startDate = int(convertDict[century][0]) + 67\n",
        "              dateDict[date] = [str(startDate)+start , convertDict[century][1]+end]\n",
        "        for restriction in centuryRestriction:\n",
        "          if date.split(\" of \")[0].lower() == restriction:\n",
        "              for element in date.split(\" \"):\n",
        "                if element == century: # se trova il secolo\n",
        "                  startDate = int(convertDict[century][0]) + int(centuryRestriction[restriction][0])\n",
        "                  endDate = int(convertDict[century][0]) + int(centuryRestriction[restriction][1])\n",
        "                  dateDict[date] = [str(startDate)+start, str(endDate)+end] # difformità di lettere maiuscole e minuscole nelle chiavi\n",
        "\n",
        "\n",
        "  for el in dateDict:\n",
        "    if el.endswith(\"B.C.\"):\n",
        "      newStart = \"-\"+dateDict[el][0].replace(\"B.C.\", \"\").replace(\" -\", \"-\")\n",
        "      newEnd = \"-\"+dateDict[el][1].replace(\"B.C.\", \"\").replace(\" -\", \"-\")\n",
        "      dateDict[el] = [newStart, newEnd]\n",
        "\n",
        "    # add zeros to dates having less than 4 digits to adhere to the ISO standard:\n",
        "  for date in dateDict:\n",
        "    date_list = dateDict[date]\n",
        "    for whole_date in date_list:\n",
        "      if whole_date != None:\n",
        "        print(whole_date)\n",
        "        i = date_list.index(whole_date)\n",
        "        s = whole_date.split(\"-\")\n",
        "        if s[0] == \"\":\n",
        "          date = s[1]\n",
        "        else:\n",
        "          date = s[0]\n",
        "        len_date = len(date)\n",
        "        if len_date < 4: # dates shorter\n",
        "          print(date)\n",
        "          if whole_date.startswith(\"-\"):\n",
        "            whole_date2 = whole_date.replace(\"-\", \"\", 1)\n",
        "            new_date = \"-\"+str(0)*(4-len_date)+whole_date2\n",
        "          else:\n",
        "            new_date = str(0)*(4-len_date)+whole_date\n",
        "          # replace the old date with the new one\n",
        "          date_list[i] = new_date\n",
        "          print(date_list)\n",
        "\n",
        "\n",
        " # actualList = dateDict.keys()\n",
        " # if actualList == dateKeys:\n",
        " #   print(yes)\n",
        " # else:\n",
        "  #  print(dateKeys - actualList)\n",
        "\n",
        "\n",
        "\n",
        "  return dateDict\n",
        "\n",
        "\n",
        "\n",
        "# check se sono stati inseriti tutti\n",
        "# da aggiungere: data a cavallo tra bc e ad\n",
        "\n",
        "\n",
        "updatedWithArtwork = date_dict_update(\"Date\",artworks_cleaned)"
      ]
    },
    {
      "cell_type": "code",
      "execution_count": null,
      "metadata": {
        "id": "bRk9luvQHymC"
      },
      "outputs": [],
      "source": [
        "#fileBooks = open(\"Panofsky - Books.csv\", \"r\")\n",
        "#dataBooks = csv.DictReader(fileBooks)\n",
        "\n",
        "updatedWithArtwork = date_dict_update(\"Date\",artworks_cleaned)\n",
        "updatedWithBook = date_dict_update(\"Date\",books_cleaned)\n",
        "updatedWithPeople = date_dict_update(\"Date\",people_cleaned)\n",
        "# updatedWithInterpretations = date_dict_update(\"Date\", interpretations_cleaned)\n",
        "print(dateDict)"
      ]
    },
    {
      "cell_type": "markdown",
      "metadata": {
        "id": "y0eycx8aUSJP"
      },
      "source": [
        "# Places dictionary"
      ]
    },
    {
      "cell_type": "code",
      "execution_count": null,
      "metadata": {
        "id": "QjjlXVfZU-AJ"
      },
      "outputs": [],
      "source": [
        "placesDict = {}\n",
        "placesDict.update({\"Countries\": {}, \"Cities\": {}, \"Cities Institutions\": {}})\n",
        "# problema: le città omonime non sono distinte!\n",
        "# struttura del dizionario: ogni chiave ha il link corrispondente.\n",
        "# sono divisi per countries, cities, cities institutions. La struttura dell'ultima è cities institutions: {city1 : {abbey: [link]}}\n",
        "# il link è una lista perché poi nelle triple, se si tratta di un museo o collezione, viene aggiunto in posizione 1 il link dell'istituzione che sta in quel luogo.\n",
        "\n",
        "for line in places_cleaned:\n",
        "  institution_uri = line[\"Institution_uri\"][0]\n",
        "  institutionLink = line[\"InstitutionLink\"][0]\n",
        "  institution = line[\"Institution\"][0]\n",
        "  institutionType = line[\"InstitutionType\"][0]\n",
        "  city = line[\"CityOrRegion\"][0]\n",
        "  city_uri = line[\"CityOrRegion_uri\"][0]\n",
        "  cityLink = line[\"CityLink\"][0]\n",
        "  country = line[\"Country\"][0]\n",
        "  country_uri = line[\"Country_uri\"][0]\n",
        "  countryLink = line[\"CountryLink\"][0]\n",
        "\n",
        "  if city !=\"\":\n",
        "    if city not in placesDict[\"Cities\"]:\n",
        "      placesDict[\"Cities Institutions\"].update({city: {}})\n",
        "    if cityLink == \"\" or cityLink == \"no\":\n",
        "      placesDict[\"Cities\"][city] = d+\"place/\"+city_uri\n",
        "    else:\n",
        "      placesDict[\"Cities\"][city] = cityLink\n",
        "  if country !=\"\":\n",
        "    if country not in placesDict[\"Countries\"]:\n",
        "      if countryLink == \"\" or countryLink == \"no\":\n",
        "        placesDict[\"Countries\"].update({country : d+\"place/\"+country_uri})\n",
        "      else:\n",
        "        placesDict[\"Countries\"].update({country : countryLink})\n",
        "  if institution !=\"\" and city !=\"\":\n",
        "    if institution not in placesDict[\"Cities Institutions\"][city]: # se non è già inserito: così nel file exel basta scrivere il link solo la prima volta\n",
        "      if institutionLink == \"\" or institutionLink == \"no\":\n",
        "        newUri = d+\"place/\"+city_uri+\"-\"+institution_uri # to distinguish institutions in different places with same name (eg. Cathedral)\n",
        "        placesDict[\"Cities Institutions\"][city][institution] = [newUri]\n",
        "\n",
        "      else:\n",
        "        placesDict[\"Cities Institutions\"][city][institution] = [institutionLink]\n",
        "\n",
        "   #   if institutionType == \"Collection\":\n",
        "    #    collectionUri = d+\"collection/\"+city_uri+\"-\"+institution_uri\n",
        "    #    placesDict[\"Cities\"][city+\"_institution\"][institution].append(collectionUri)\n",
        "    #  if institutionType == \"Museum\":\n",
        "     #   museumUri = d+\"museum/\"+city_uri+\"-\"+institution_uri\n",
        "     #   placesDict[\"Cities\"][city+\"_institution\"][institution].append(museumUri)\n",
        "     # if institutionType == \"Building\":\n",
        "     #   museumUri = d+\"museum/\"+city_uri+\"-\"+institution_uri\n",
        "     #   placesDict[\"Cities\"][city+\"_institution\"][institution].append(museumUri)\n",
        "\n",
        "\n",
        "\n",
        "\n",
        "print(placesDict)\n",
        "\n"
      ]
    },
    {
      "cell_type": "markdown",
      "metadata": {
        "id": "ZMmND2mdRZ_r"
      },
      "source": [
        "# Books\n",
        "\n",
        "\n"
      ]
    },
    {
      "cell_type": "code",
      "execution_count": null,
      "metadata": {
        "id": "E_4Tyvc5RaXZ"
      },
      "outputs": [],
      "source": [
        "for line in books_cleaned:\n",
        "  ID = line[\"ID\"][0]\n",
        "  production = d+\"PROD\"+ID\n",
        "  label = line[\"TitleForCheckingDuplicates\"][0]\n",
        "  objType = line[\"ObjectType\"][0]\n",
        "  signature\t= line[\"Signature\"][0]\n",
        "  signature_uri = line[\"Signature_uri\"][0]\n",
        "  contentID = line[\"ContentID\"][0]\n",
        "  lineEditor = line[\"EditorOrPrinter\"]\n",
        "  date = line[\"Date\"][0]\n",
        "  date_uri = line[\"Date_uri\"][0]\n",
        "  dateCertainty = line[\"DateCertainty\"][0]\n",
        "  place = line[\"Object PlaceOfProduction\"][0]\n",
        "  description = line[\"Description\"][0]\n",
        "  # lineLink = line[\"Link\"]\n",
        "  # e22 production e place sono specificati nella tab artwork\n",
        "  if ID != \"\":\n",
        "    g.add((URIRef(d+ID), RDF.type, crm.E22_Human_Made_Object))\n",
        "    if label !=\"\":\n",
        "      g.add((URIRef(d+ID), RDFS.label, Literal(label)))\n",
        "    if objType != \"\":\n",
        "      g.add((URIRef(d+ID), crm.P2_has_type, URIRef(typeDict[objType])))\n",
        "      g.add((URIRef(typeDict[objType]), RDFS.label, Literal(objType)))\n",
        "      g.add((URIRef(typeDict[objType]), crm.P2_has_type, URIRef(\"http://vocab.getty.edu/aat/300028051\")))\n",
        "    else:\n",
        "      g.add((URIRef(d+ID), crm.P2_has_type, URIRef(\"http://vocab.getty.edu/aat/300028051\")))\n",
        "\n",
        "    if signature != \"\":\n",
        "      g.add((URIRef(d+ID), crm.P1_is_identified_by, URIRef(d+signature_uri)))\n",
        "      g.add((URIRef(d+signature_uri), RDF.type, crm.E42_Identifier))\n",
        "      g.add((URIRef(d+signature_uri), RDFS.label, Literal(signature)))\n",
        "    if contentID !=\"\" and contentID  != \"#N/A\":\n",
        "      g.add((URIRef(d+ID), crm.P128_carries, URIRef(d+contentID)))\n",
        "\n",
        "      if date !=\"\":\n",
        "        g.add((URIRef(production), crm.P4_has_time_span, URIRef(d+date_uri)))\n",
        "        if dateCertainty == \"c.\":\n",
        "          g.add((URIRef(d+date), crm.P79_beginning_is_qualified_by, URIRef(d+\"circa\")))\n",
        "          g.add((URIRef(d+date), crm.P80_end_is_qualified_by, URIRef(d+\"circa\")))\n",
        "          g.add((URIRef(d+\"circa\"), RDFS.label, Literal(\"ca.\")))\n",
        "          g.add((URIRef(d+\"circa\"), RDF.type, crm.E62_String))\n",
        "      if place !=\"\":\n",
        "        g.add((URIRef(production), crm.P7_took_place_at, URIRef(placesDict[\"Cities\"][place])))\n",
        "      for editor in lineEditor:\n",
        "        if editor !=\"\":\n",
        "          g.add((URIRef(production), crm.P14_carried_out_by, URIRef(peopleDict[editor])))\n",
        " #   if lineAuthor ==\"\" and title !=\"\":\n",
        " #     g.add((URIRef(d+ID), crm.P102_has_title, URIRef(d+title_uri)))\n",
        "    if description != \"\":\n",
        "      g.add((URIRef(production), RDFS.comment, Literal(description)))"
      ]
    },
    {
      "cell_type": "markdown",
      "metadata": {
        "id": "ZfEf19egxV8i"
      },
      "source": [
        "## Books content"
      ]
    },
    {
      "cell_type": "code",
      "execution_count": null,
      "metadata": {
        "id": "DS4YHitCa9KG"
      },
      "outputs": [],
      "source": [
        "\n",
        "for line in booksContent_cleaned:\n",
        "  ID = line[\"ID\"][0]\n",
        "  label = line[\"TitleForCheckingDuplicates\"][0]\n",
        "  production = d+\"CRE\"+ID\n",
        "  lineAuthor\t= line[\"ObjectAuthor\"]\n",
        "  title\t= line[\"Title\"][0]\n",
        "  title_uri\t= line[\"Title_uri\"][0]\n",
        "\n",
        "  # lineLink = line[\"Link\"]\n",
        "  # e22 production e place sono specificati nella tab artwork\n",
        "  if ID != \"\":\n",
        "    g.add((URIRef(d+ID), RDF.type, crm.E73_Information_Object))\n",
        "    g.add((URIRef(d+ID),  RDFS.label, Literal(label)))\n",
        "    for author in lineAuthor:\n",
        "      if author !=\"\":\n",
        "        g.add((URIRef(production), crm.P94_has_created, URIRef(d+ID)))\n",
        "        g.add((URIRef(production), RDF.type, crm.E65_Creation))\n",
        "        g.add((URIRef(production), crm.P14_carried_out_by, URIRef(peopleDict[author])))\n",
        "\n",
        "    if title !=\"\":\n",
        "      g.add((URIRef(d+ID), crm.P102_has_title, URIRef(d+\"title/\"+title_uri)))\n",
        "      g.add((URIRef(d+\"title/\"+title_uri),  RDF.type, crm.E35_Title))\n",
        "      g.add((URIRef(d+\"title/\"+title_uri),  RDFS.label, Literal(title)))"
      ]
    },
    {
      "cell_type": "markdown",
      "metadata": {
        "id": "y8cmvCIBcWj7"
      },
      "source": [
        "# Artworks\n"
      ]
    },
    {
      "cell_type": "code",
      "execution_count": null,
      "metadata": {
        "id": "TiArPg_001Ww"
      },
      "outputs": [],
      "source": [
        "for line in artworks_cleaned:\n",
        "  lineID = line[\"ID\"][0]\n",
        "  ID=d+\"OBJ\"+lineID\n",
        "  artwork = d+\"ART\"+lineID\n",
        "  production = d+\"PROD\"+lineID\n",
        "  certainty = line[\"Certainty\"]\n",
        "  lineTitleLabel = line[\"Title\"]\n",
        "  lineTitle = line[\"Title_uri\"]\n",
        "  # title = d+\"title/\"+lineTitle\n",
        "  lineDateLabel = line[\"Date\"][0]\n",
        "  lineDate = line[\"Date_uri\"][0]\n",
        "  startDate = None\n",
        "  endDate = None\n",
        "  linePlaceLabel = line[\"PlaceOfConservation\"][0]\n",
        "  linePlace = line[\"PlaceOfConservation_uri\"][0]\n",
        "  lineCityLabel = line[\"CityOfConservation\"][0]\n",
        "  lineCity = line[\"CityOfConservation_uri\"][0]\n",
        "  lineMaterial = line[\"Material\"]\n",
        "  lineAuthor = line[\"Author_uri\"]\n",
        "  lineAuthorLabel = line[\"Author\"]\n",
        "  lineDepiction = line[\"ImageLink\"]\n",
        "  lineLicense = line[\"ImageLicense\"]\n",
        "  lineSource = line[\"SourceLink\"]\n",
        "  lineWithImage = line[\"PageWithImage\"]\n",
        "  license = line[\"ImageLicense\"][0]\n",
        "  copyright = line[\"ImageRights\"][0]\n",
        "  lineType = line[\"Type\"]\n",
        "  lineRel = line[\"TypeOfRelation\"][0]\n",
        "  relArtwork = line[\"RelatedArtwork\"][0]\n",
        "  relBook = line[\"RelatedBook\"][0]\n",
        "  relID = line[\"IDext\"][0]\n",
        "  lineSpecObj = line[\"SpecificLocation_uri\"][0]\n",
        "  lineBook = line[\"BookISBNorDOI\"]\n",
        "  lineStyle = line[\"Style\"]\n",
        "  period = line[\"Period\"][0]\n",
        "  objLabel = line[\"TitleForCheckingDuplicates\"]\n",
        "  lineBuyer = line[\"MadeFor-CommissionOrGift\"]\n",
        "  lineUri = line[\"URI\"]\n",
        "\n",
        "\n",
        "  if lineID != \"\" and lineRel != \"detail of\":\n",
        "    g.add((URIRef(production), crm.P108_has_produced, URIRef(ID)))\n",
        "    g.add((URIRef(production), RDF.type, crm.E12_Production))\n",
        "    g.add((URIRef(ID), crm.P65_shows_visual_item, URIRef(artwork)))\n",
        "    g.add((URIRef(artwork), RDF.type, icon.Artwork))\n",
        "    g.add((icon.Artwork, RDFS.label, Literal(\"Artwork\")))\n",
        "    if lineType == \"building\" or lineType == \"building(church)\":\n",
        "      g.add((URIRef(ID), RDF.type, crm.E24_Physical_Human_Made_Thing))\n",
        "    if lineRel == \"feature of\":\n",
        "      g.add((URIRef(ID), RDF.type, crm.E25_Human_Made_Feature))\n",
        "    else:\n",
        "      g.add((URIRef(ID), RDF.type, crm.E22_Human_Made_Object))\n",
        "\n",
        "# feature and detailed of modeled in the same way, with the difference that detail of doesn't have its own production\n",
        "\n",
        "  if lineRel == \"detail of\": # we don't add a creation for the details of wider artworks, but we create a visual object for them to which the interpretation is linked\n",
        "    g.add((URIRef(ID), RDF.type, crm.E25_Human_Made_Feature))\n",
        "    if lineSpecObj !=\"\":\n",
        "      g.add((URIRef(d+ID+\"-\"+lineSpecObj), crm.P56_bears_feature, URIRef(ID)))\n",
        "    else:\n",
        "      g.add((URIRef(d+relID), crm.P56_bears_feature, URIRef(ID)))\n",
        "    g.add((URIRef(ID), crm.P65_shows_visual_item, URIRef(artwork)))\n",
        "    g.add((URIRef(artwork), RDF.type, icon.Artwork))\n",
        "\n",
        "  if len(objLabel) == 1:\n",
        "    if objLabel != \"\":\n",
        "      g.add((URIRef(ID), RDFS.label, Literal(objLabel[0])))\n",
        "  elif len(objLabel) > 1:\n",
        "    label = \", \".join(objLabel)\n",
        "    g.add((URIRef(ID), RDFS.label, Literal(label)))\n",
        "\n",
        "\n",
        "\n",
        "\n",
        "# title\n",
        "  if lineTitle != [\"\"]:\n",
        "    if len(lineTitle) == 1:\n",
        "      title = d+\"title/\"+lineTitle[0]\n",
        "      titleLabel = lineTitleLabel[0]\n",
        "    elif len(lineTitle) > 1:\n",
        "      title = d+\"title/\"+\"-\".join(lineTitle)\n",
        "      titleLabel = \", \".join(lineTitleLabel)\n",
        "\n",
        "    g.add((URIRef(ID), crm.P102_has_title, URIRef(title)))\n",
        "    g.add((URIRef(title), RDFS.label, Literal(titleLabel)))\n",
        "    g.add((URIRef(title), RDF.type, crm.E35_Title))\n",
        "\n",
        " #author\n",
        "  for author in lineAuthorLabel:\n",
        "    if author:\n",
        "      g.add((URIRef(production), crm.P14_carried_out_by, URIRef(peopleDict[author])))\n",
        "     # g.add((URIRef(peopleDict[author]), RDFS.label, Literal(author)))\n",
        "      if certainty[0] == \"?\":\n",
        "        g.add((URIRef(production+\"assignment\"), RDF.type, crm.E13_Attribute_Assignment))\n",
        "        g.add((URIRef(production+\"assignment\"), crm.P140_assigned_attribute_to, URIRef(production)))\n",
        "        g.add((URIRef(production+\"assignment\"), crm.P141_assigned, URIRef(peopleDict[author])))\n",
        "        g.add((URIRef(production+\"assignment\"), RDFS.comment,  Literal(\"uncertain author attribution\")))\n",
        "        if len(certainty) > 1 and certainty[1] !=\"\":\n",
        "          g.add((URIRef(production+\"assignment\"), crm.P14_carried_out_by, URIRef(peopleDict[certainty[1]])))\n",
        "        # !! non c'è un termine per esprimere incertezza di attribuzione in lod nei Getty: si esprime con relazioni del CONA (attributed to, probably of) che non sono ancora nell'ontologia. per info: https://www.getty.edu/research/tools/vocabularies/cona_intro.pdf , https://www.getty.edu/research/tools/vocabularies/guidelines/cona_3_6_1_work_type.html#3_6_1_16\n",
        "  # buyer\n",
        "  for buyer in lineBuyer:\n",
        "    if buyer !=\"\":\n",
        "      g.add((URIRef(production), crm.P17_was_motivated_by, URIRef(peopleDict[buyer])))\n",
        "\n",
        " # picture\n",
        "  for picture in lineDepiction:\n",
        "    if picture != \"\" and picture != \"no\" and picture != \"?\":\n",
        "      g.add((URIRef(ID), foaf.depiction, URIRef(picture)))\n",
        "      if license != \"\" and license != \"?\" and license != \"no\":\n",
        "        if license in licenseDict:\n",
        "          g.add((URIRef(picture), dct.license, URIRef(licenseDict[license])))\n",
        "        else:\n",
        "          g.add((URIRef(picture), dct.license, Literal(license)))\n",
        "      for page in lineWithImage:\n",
        "        if page != \"\" and page != \"?\" and page !=\"no\":\n",
        "          g.add((URIRef(picture), dc.source, URIRef(page)))\n",
        "      if copyright != \"\":\n",
        "        g.add((URIRef(picture), dct.rights, Literal(copyright)))\n",
        "\n",
        "\n",
        "\n",
        "  for type in lineType:\n",
        "    if type != \"\":\n",
        "      if isinstance(typeDict[type], list):\n",
        "          for t in typeDict[type]:\n",
        "            g.add((URIRef(ID), crm.P2_has_type, URIRef(t)))\n",
        "            g.add((URIRef(t), RDFS.label, Literal(type)))\n",
        "      else:\n",
        "        g.add((URIRef(ID), crm.P2_has_type, URIRef(typeDict[type])))\n",
        "        g.add((URIRef(typeDict[type]), RDFS.label, Literal(type)))\n",
        "\n",
        "# place crm.P53_has_former_or_current_location\n",
        "  if linePlaceLabel != \"\" and lineCityLabel !=\"\":\n",
        "    for key in placesDict[\"Cities Institutions\"][lineCityLabel]:\n",
        "      if linePlaceLabel.lower() == key.lower():\n",
        "        g.add((URIRef(ID), crm.P53_has_former_or_current_location, URIRef(placesDict[\"Cities Institutions\"][lineCityLabel][key][0])))\n",
        "        # g.add((URIRef(placesDict[\"Cities Institutions\"][lineCityLabel][key][0]), RDFS.label, Literal(linePlaceLabel)))\n",
        "  elif lineCityLabel != \"\" and linePlaceLabel == \"\":\n",
        "    if lineCityLabel in placesDict[\"Cities\"]:\n",
        "      g.add((URIRef(ID), crm.P53_has_former_or_current_location, URIRef(placesDict[\"Cities\"][lineCityLabel])))\n",
        "      # g.add((URIRef(placesDict[\"Cities\"][lineCity]), RDFS.label, Literal(lineCity)\n",
        "    if lineCityLabel in placesDict[\"Countries\"]:\n",
        "      g.add((URIRef(ID), crm.P53_has_former_or_current_location, URIRef(placesDict[\"Countries\"][lineCityLabel])))\n",
        "\n",
        "  # material\n",
        "  for material in lineMaterial:\n",
        "    if material !=\"\":\n",
        "      g.add((URIRef(ID), crm.P45_consists_of, URIRef(materialDict[material])))\n",
        "      g.add((URIRef(materialDict[material]), RDF.type, crm.E57_Material))\n",
        "      g.add((URIRef(materialDict[material]), RDFS.label, Literal(material)))\n",
        "\n",
        "\n",
        "  # book of the Panofsky bibliography\n",
        "  for book in lineBook:\n",
        "    if book != \"\":\n",
        "      b = book.strip()\n",
        "      g.add((URIRef(ID), crm.P67_refers_to, URIRef(b)))\n",
        "      g.add((URIRef(b), RDF.type, crm.E73_Information_Object))\n",
        "\n",
        "\n",
        "  # style\n",
        "  for style in lineStyle:\n",
        "    if style !=\"\":\n",
        "      g.add((URIRef(artwork), crm.P2_has_type, URIRef(styleDict[style])))\n",
        "      g.add((URIRef(styleDict[style]), RDFS.label, Literal(style)))\n",
        "      g.add((URIRef(styleDict[style]), crm.P2_has_type, URIRef(\"http://vocab.getty.edu/aat/300015646\")))\n",
        "\n",
        "      g.add((URIRef(\"http://vocab.getty.edu/aat/300015646\"), RDFS.label, Literal(\"Styles and Periods\")))\n",
        "\n",
        "  # period\n",
        "\n",
        "  if period !=\"\":\n",
        "    g.add((URIRef(production), crm.P10_falls_within, URIRef(periodDict[period])))\n",
        "    g.add((URIRef(periodDict[period]), RDFS.label, Literal(period)))\n",
        "    g.add((URIRef(periodDict[period]), RDF.type, crm.E4_Period))\n",
        "\n",
        "\n",
        "  # page source - rdfs:seeAlso\n",
        "  for source in lineSource:\n",
        "    if source != \"\" and source != \"no\":\n",
        "      g.add((URIRef(ID), foaf.page, URIRef(source)))\n",
        "\n",
        "\n",
        "  for img in lineWithImage:\n",
        "    if img != \"\" and img != \"no\":\n",
        "      g.add((URIRef(ID), RDFS.seeAlso, URIRef(img)))\n",
        "\n",
        "  # page with image when we do not have image uri- rdfs:seeAlso ?\n",
        "  for uri in lineUri:\n",
        "    if uri != \"\":\n",
        "      g.add((URIRef(ID), owl.sameAs, URIRef(uri)))\n",
        "\n",
        "# related object\n",
        "  if lineRel != \"\":\n",
        "    if relArtwork !=\"\":\n",
        "      related = d+\"OBJ\"+relID\n",
        "\n",
        "      if lineRel == \"pendant of\":\n",
        "        whole_art = d+\"OBJ\"+lineID+\"-\"+relID\n",
        "        g.add((URIRef(whole_art), RDF.type, crm.E22_Human_Made_Object))\n",
        "        g.add((URIRef(whole_art), crm.P46_is_composed_of, URIRef(ID)))\n",
        "        g.add((URIRef(whole_art), crm.P46_is_composed_of, URIRef(related)))\n",
        "        g.add((URIRef(whole_art), crm.P2_has_type, URIRef(\"http://vocab.getty.edu/aat/300179422\")))\n",
        "        g.add((URIRef(\"http://vocab.getty.edu/aat/300179422\"), RDFS.label, Literal(\"Pendants\")))\n",
        "\n",
        "      g.add((URIRef(related), RDF.type, crm.E22_Human_Made_Object))\n",
        "\n",
        "    elif relBook !=\"\":\n",
        "      related = d+relID\n",
        "      bookProduction = d+\"PROD\"+relID\n",
        "      g.add((URIRef(related), RDF.type, crm.E22_Human_Made_Object))\n",
        "      g.add((URIRef(bookProduction), crm.P108_has_produced, URIRef(related)))\n",
        "      g.add((URIRef(bookProduction), RDF.type, crm.E12_Production))\n",
        "      if lineDateLabel != \"\":\n",
        "        g.add((URIRef(bookProduction), crm.P4_has_time_span, URIRef(d+lineDate))) # i dettagli verranno aggiunti sotto: stessa data sia per libro che per opera\n",
        "    if lineSpecObj != \"\":\n",
        "      g.add((URIRef(ID), URIRef(relDict[lineRel]), URIRef(related+\"-\"+lineSpecObj))) # specObj, anche se generico, viene legato all'oggetto cui si riferisce\n",
        "      g.add((URIRef(related+\"-\"+lineSpecObj), URIRef(relDict[\"feature of\"]), URIRef(related)))\n",
        "    else:\n",
        "      g.add((URIRef(ID), URIRef(relDict[lineRel]), URIRef(related)))\n",
        "\n",
        "\n",
        "  # date\n",
        "  if lineDateLabel != \"\":\n",
        "    g.add((URIRef(production), crm.P4_has_time_span, URIRef(d+lineDate)))\n",
        "    g.add((URIRef(d+lineDate), RDF.type, crm.E52_Time_Span))\n",
        "\n",
        "  if certainty == \"c.\":\n",
        "    g.add((URIRef(d+lineDate), crm.P79_beginning_is_qualified_by, URIRef(d+\"circa\")))\n",
        "    g.add((URIRef(d+lineDate), crm.P80_end_is_qualified_by, URIRef(d+\"circa\")))\n",
        "    g.add((URIRef(d+\"circa\"), RDFS.label, Literal(\"ca.\")))\n",
        "    g.add((URIRef(d+\"circa\"), RDF.type, crm.E62_String))\n",
        "\n",
        "\n",
        "\n",
        "# print(g.serialize(format=\"turtle\").decode(UTF-8))\n",
        "#g.serialize(destination = \"OutputPanofskyArtwork.ttl\", format=\"turtle\")"
      ]
    },
    {
      "cell_type": "markdown",
      "metadata": {
        "id": "LAFs_79i8K8e"
      },
      "source": [
        "# Dictionary of artwork components\n",
        "\n",
        "We create an artwork dictionary in which the uri of artistic motif, composition, and image are given for each artwork. This way, whenever an object of a given type with a given number of a given artwork is to be taken, it will already have the identifying link in the dictionary. The count in the columns of the csv file corresponds to the key in each artwork's internal dictionary.\n",
        "Struttura: `dizionario_opere = {artwork1 : {\"artisticMotif\": {1 : www.dataset.org/artwork1-am1, etc}, \"Composition\": {}, \"Image\" : {}, \"Intrinsic\": {}}}`\n",
        "\n",
        "If interpretation is present, we register the respective am, comp, or image with the interpretation in the ID (value), and the key will be the interpretation number+\"-\"+object number. For example these are the artistic motifs of interpretation 1 and 2 of ART2176:  `'1-1': 'https://w3id.org/icon/data/ART1276-1-AM1', '2-1': 'https://w3id.org/icon/data/ART1276-2-AM1'`"
      ]
    },
    {
      "cell_type": "code",
      "execution_count": null,
      "metadata": {
        "colab": {
          "base_uri": "https://localhost:8080/"
        },
        "id": "aC5uBsn-CoAF",
        "outputId": "8d50fc47-82a6-465c-fefa-1f89371d2c44"
      },
      "outputs": [
        {
          "output_type": "stream",
          "name": "stdout",
          "text": [
            "{'ART1000': {'ArtisticMotif': {}, 'Composition': {}, 'Image': {}, 'Intrinsic': {}}, 'ART1001': {'ArtisticMotif': {}, 'Composition': {}, 'Image': {}, 'Intrinsic': {}}, 'ART1002': {'ArtisticMotif': {}, 'Composition': {}, 'Image': {}, 'Intrinsic': {}}, 'ART1003': {'ArtisticMotif': {}, 'Composition': {}, 'Image': {}, 'Intrinsic': {}}, 'ART1004': {'ArtisticMotif': {}, 'Composition': {}, 'Image': {}, 'Intrinsic': {}}, 'ART1005': {'ArtisticMotif': {}, 'Composition': {}, 'Image': {}, 'Intrinsic': {}}, 'ART1006': {'ArtisticMotif': {}, 'Composition': {}, 'Image': {}, 'Intrinsic': {}}, 'ART1007': {'ArtisticMotif': {}, 'Composition': {}, 'Image': {}, 'Intrinsic': {}}, 'ART1008': {'ArtisticMotif': {}, 'Composition': {}, 'Image': {}, 'Intrinsic': {}}, 'ART1009': {'ArtisticMotif': {}, 'Composition': {}, 'Image': {}, 'Intrinsic': {}}, 'ART1010': {'ArtisticMotif': {}, 'Composition': {}, 'Image': {}, 'Intrinsic': {}}, 'ART1011': {'ArtisticMotif': {}, 'Composition': {}, 'Image': {}, 'Intrinsic': {}}, 'ART1013': {'ArtisticMotif': {}, 'Composition': {}, 'Image': {}, 'Intrinsic': {}}, 'ART1014': {'ArtisticMotif': {}, 'Composition': {}, 'Image': {}, 'Intrinsic': {}}, 'ART1015': {'ArtisticMotif': {}, 'Composition': {}, 'Image': {}, 'Intrinsic': {}}, 'ART1016': {'ArtisticMotif': {}, 'Composition': {}, 'Image': {}, 'Intrinsic': {}}, 'ART1017': {'ArtisticMotif': {}, 'Composition': {}, 'Image': {}, 'Intrinsic': {}}, 'ART1018': {'ArtisticMotif': {}, 'Composition': {}, 'Image': {}, 'Intrinsic': {}}, 'ART1019': {'ArtisticMotif': {}, 'Composition': {}, 'Image': {}, 'Intrinsic': {}}, 'ART1020': {'ArtisticMotif': {}, 'Composition': {}, 'Image': {}, 'Intrinsic': {}}, 'ART1021': {'ArtisticMotif': {}, 'Composition': {}, 'Image': {}, 'Intrinsic': {}}, 'ART1023': {'ArtisticMotif': {}, 'Composition': {}, 'Image': {}, 'Intrinsic': {}}, 'ART1024': {'ArtisticMotif': {}, 'Composition': {}, 'Image': {}, 'Intrinsic': {}}, 'ART1025': {'ArtisticMotif': {}, 'Composition': {}, 'Image': {}, 'Intrinsic': {}}, 'ART1028': {'ArtisticMotif': {}, 'Composition': {}, 'Image': {}, 'Intrinsic': {}}, 'ART1029': {'ArtisticMotif': {}, 'Composition': {}, 'Image': {}, 'Intrinsic': {}}, 'ART1030': {'ArtisticMotif': {}, 'Composition': {}, 'Image': {}, 'Intrinsic': {}}, 'ART1031': {'ArtisticMotif': {}, 'Composition': {}, 'Image': {}, 'Intrinsic': {}}, 'ART1032': {'ArtisticMotif': {}, 'Composition': {}, 'Image': {}, 'Intrinsic': {}}, 'ART1033': {'ArtisticMotif': {}, 'Composition': {}, 'Image': {}, 'Intrinsic': {}}, 'ART1034': {'ArtisticMotif': {}, 'Composition': {}, 'Image': {}, 'Intrinsic': {}}, 'ART1035': {'ArtisticMotif': {}, 'Composition': {}, 'Image': {}, 'Intrinsic': {}}, 'ART1036': {'ArtisticMotif': {}, 'Composition': {}, 'Image': {}, 'Intrinsic': {}}, 'ART1037': {'ArtisticMotif': {}, 'Composition': {}, 'Image': {}, 'Intrinsic': {}}, 'ART1038': {'ArtisticMotif': {}, 'Composition': {}, 'Image': {}, 'Intrinsic': {}}, 'ART1039': {'ArtisticMotif': {}, 'Composition': {}, 'Image': {}, 'Intrinsic': {}}, 'ART1040': {'ArtisticMotif': {}, 'Composition': {}, 'Image': {}, 'Intrinsic': {}}, 'ART1041': {'ArtisticMotif': {}, 'Composition': {}, 'Image': {}, 'Intrinsic': {}}, 'ART1042': {'ArtisticMotif': {}, 'Composition': {}, 'Image': {}, 'Intrinsic': {}}, 'ART1043': {'ArtisticMotif': {}, 'Composition': {}, 'Image': {}, 'Intrinsic': {}}, 'ART1044': {'ArtisticMotif': {}, 'Composition': {}, 'Image': {}, 'Intrinsic': {}}, 'ART1045': {'ArtisticMotif': {}, 'Composition': {}, 'Image': {}, 'Intrinsic': {}}, 'ART1046': {'ArtisticMotif': {}, 'Composition': {}, 'Image': {}, 'Intrinsic': {}}, 'ART1047': {'ArtisticMotif': {}, 'Composition': {}, 'Image': {}, 'Intrinsic': {}}, 'ART1048': {'ArtisticMotif': {}, 'Composition': {}, 'Image': {}, 'Intrinsic': {}}, 'ART1049': {'ArtisticMotif': {}, 'Composition': {}, 'Image': {}, 'Intrinsic': {}}, 'ART1050': {'ArtisticMotif': {}, 'Composition': {}, 'Image': {}, 'Intrinsic': {}}, 'ART1051': {'ArtisticMotif': {}, 'Composition': {}, 'Image': {}, 'Intrinsic': {}}, 'ART1052': {'ArtisticMotif': {}, 'Composition': {}, 'Image': {}, 'Intrinsic': {}}, 'ART1053': {'ArtisticMotif': {}, 'Composition': {}, 'Image': {}, 'Intrinsic': {}}, 'ART1054': {'ArtisticMotif': {}, 'Composition': {}, 'Image': {}, 'Intrinsic': {}}, 'ART1055': {'ArtisticMotif': {}, 'Composition': {}, 'Image': {}, 'Intrinsic': {}}, 'ART1056': {'ArtisticMotif': {}, 'Composition': {}, 'Image': {}, 'Intrinsic': {}}, 'ART1057': {'ArtisticMotif': {}, 'Composition': {}, 'Image': {}, 'Intrinsic': {}}, 'ART1058': {'ArtisticMotif': {}, 'Composition': {}, 'Image': {}, 'Intrinsic': {}}, 'ART1059': {'ArtisticMotif': {}, 'Composition': {}, 'Image': {}, 'Intrinsic': {}}, 'ART1060': {'ArtisticMotif': {}, 'Composition': {}, 'Image': {}, 'Intrinsic': {}}, 'ART1061': {'ArtisticMotif': {}, 'Composition': {}, 'Image': {}, 'Intrinsic': {}}, 'ART1062': {'ArtisticMotif': {}, 'Composition': {}, 'Image': {}, 'Intrinsic': {}}, 'ART1063': {'ArtisticMotif': {}, 'Composition': {}, 'Image': {}, 'Intrinsic': {}}, 'ART1064': {'ArtisticMotif': {}, 'Composition': {}, 'Image': {}, 'Intrinsic': {}}, 'ART1065': {'ArtisticMotif': {}, 'Composition': {}, 'Image': {}, 'Intrinsic': {}}, 'ART1066': {'ArtisticMotif': {}, 'Composition': {}, 'Image': {}, 'Intrinsic': {}}, 'ART1068': {'ArtisticMotif': {}, 'Composition': {}, 'Image': {}, 'Intrinsic': {}}, 'ART1069': {'ArtisticMotif': {}, 'Composition': {}, 'Image': {}, 'Intrinsic': {}}, 'ART1070': {'ArtisticMotif': {}, 'Composition': {}, 'Image': {}, 'Intrinsic': {}}, 'ART1071': {'ArtisticMotif': {}, 'Composition': {}, 'Image': {}, 'Intrinsic': {}}, 'ART1072': {'ArtisticMotif': {}, 'Composition': {}, 'Image': {}, 'Intrinsic': {}}, 'ART1073': {'ArtisticMotif': {}, 'Composition': {}, 'Image': {}, 'Intrinsic': {}}, 'ART1075': {'ArtisticMotif': {}, 'Composition': {}, 'Image': {}, 'Intrinsic': {}}, 'ART1076': {'ArtisticMotif': {}, 'Composition': {}, 'Image': {}, 'Intrinsic': {}}, 'ART1077': {'ArtisticMotif': {}, 'Composition': {}, 'Image': {}, 'Intrinsic': {}}, 'ART1078': {'ArtisticMotif': {}, 'Composition': {}, 'Image': {}, 'Intrinsic': {}}, 'ART1079': {'ArtisticMotif': {}, 'Composition': {}, 'Image': {}, 'Intrinsic': {}}, 'ART1080': {'ArtisticMotif': {}, 'Composition': {}, 'Image': {}, 'Intrinsic': {}}, 'ART1081': {'ArtisticMotif': {}, 'Composition': {}, 'Image': {}, 'Intrinsic': {}}, 'ART1082': {'ArtisticMotif': {}, 'Composition': {}, 'Image': {}, 'Intrinsic': {}}, 'ART1083': {'ArtisticMotif': {}, 'Composition': {}, 'Image': {}, 'Intrinsic': {}}, 'ART1086': {'ArtisticMotif': {}, 'Composition': {}, 'Image': {}, 'Intrinsic': {}}, 'ART1087': {'ArtisticMotif': {}, 'Composition': {}, 'Image': {}, 'Intrinsic': {}}, 'ART1088': {'ArtisticMotif': {}, 'Composition': {}, 'Image': {}, 'Intrinsic': {}}, 'ART1089': {'ArtisticMotif': {}, 'Composition': {}, 'Image': {}, 'Intrinsic': {}}, 'ART1090': {'ArtisticMotif': {}, 'Composition': {}, 'Image': {}, 'Intrinsic': {}}, 'ART1091': {'ArtisticMotif': {}, 'Composition': {}, 'Image': {}, 'Intrinsic': {}}, 'ART1092': {'ArtisticMotif': {}, 'Composition': {}, 'Image': {}, 'Intrinsic': {}}, 'ART1093': {'ArtisticMotif': {}, 'Composition': {}, 'Image': {}, 'Intrinsic': {}}, 'ART1094': {'ArtisticMotif': {}, 'Composition': {}, 'Image': {}, 'Intrinsic': {}}, 'ART1095': {'ArtisticMotif': {}, 'Composition': {}, 'Image': {}, 'Intrinsic': {}}, 'ART1096': {'ArtisticMotif': {}, 'Composition': {}, 'Image': {}, 'Intrinsic': {}}, 'ART1097': {'ArtisticMotif': {}, 'Composition': {}, 'Image': {}, 'Intrinsic': {}}, 'ART1098': {'ArtisticMotif': {}, 'Composition': {}, 'Image': {}, 'Intrinsic': {}}, 'ART1099': {'ArtisticMotif': {}, 'Composition': {}, 'Image': {}, 'Intrinsic': {}}, 'ART1100': {'ArtisticMotif': {}, 'Composition': {}, 'Image': {}, 'Intrinsic': {}}, 'ART1101': {'ArtisticMotif': {}, 'Composition': {}, 'Image': {}, 'Intrinsic': {}}, 'ART1102': {'ArtisticMotif': {}, 'Composition': {}, 'Image': {}, 'Intrinsic': {}}, 'ART1103': {'ArtisticMotif': {}, 'Composition': {}, 'Image': {}, 'Intrinsic': {}}, 'ART1104': {'ArtisticMotif': {}, 'Composition': {}, 'Image': {}, 'Intrinsic': {}}, 'ART1105': {'ArtisticMotif': {}, 'Composition': {}, 'Image': {}, 'Intrinsic': {}}, 'ART1106': {'ArtisticMotif': {}, 'Composition': {}, 'Image': {}, 'Intrinsic': {}}, 'ART1107': {'ArtisticMotif': {}, 'Composition': {}, 'Image': {}, 'Intrinsic': {}}, 'ART1108': {'ArtisticMotif': {}, 'Composition': {}, 'Image': {}, 'Intrinsic': {}}, 'ART1109': {'ArtisticMotif': {}, 'Composition': {}, 'Image': {}, 'Intrinsic': {}}, 'ART1110': {'ArtisticMotif': {}, 'Composition': {}, 'Image': {}, 'Intrinsic': {}}, 'ART1111': {'ArtisticMotif': {}, 'Composition': {}, 'Image': {}, 'Intrinsic': {}}, 'ART1112': {'ArtisticMotif': {}, 'Composition': {}, 'Image': {}, 'Intrinsic': {}}, 'ART1113': {'ArtisticMotif': {}, 'Composition': {}, 'Image': {}, 'Intrinsic': {}}, 'ART1114': {'ArtisticMotif': {}, 'Composition': {}, 'Image': {}, 'Intrinsic': {}}, 'ART1115': {'ArtisticMotif': {}, 'Composition': {}, 'Image': {}, 'Intrinsic': {}}, 'ART1116': {'ArtisticMotif': {}, 'Composition': {}, 'Image': {}, 'Intrinsic': {}}, 'ART1117': {'ArtisticMotif': {}, 'Composition': {}, 'Image': {}, 'Intrinsic': {}}, 'ART1118': {'ArtisticMotif': {}, 'Composition': {}, 'Image': {}, 'Intrinsic': {}}, 'ART1120': {'ArtisticMotif': {}, 'Composition': {}, 'Image': {}, 'Intrinsic': {}}, 'ART1121': {'ArtisticMotif': {}, 'Composition': {}, 'Image': {}, 'Intrinsic': {}}, 'ART1122': {'ArtisticMotif': {}, 'Composition': {}, 'Image': {}, 'Intrinsic': {}}, 'ART1123': {'ArtisticMotif': {}, 'Composition': {}, 'Image': {}, 'Intrinsic': {}}, 'ART1124': {'ArtisticMotif': {}, 'Composition': {}, 'Image': {}, 'Intrinsic': {}}, 'ART1125': {'ArtisticMotif': {}, 'Composition': {}, 'Image': {}, 'Intrinsic': {}}, 'ART1126': {'ArtisticMotif': {}, 'Composition': {}, 'Image': {}, 'Intrinsic': {}}, 'ART1127': {'ArtisticMotif': {}, 'Composition': {}, 'Image': {}, 'Intrinsic': {}}, 'ART1128': {'ArtisticMotif': {}, 'Composition': {}, 'Image': {}, 'Intrinsic': {}}, 'ART1129': {'ArtisticMotif': {}, 'Composition': {}, 'Image': {}, 'Intrinsic': {}}, 'ART1130': {'ArtisticMotif': {}, 'Composition': {}, 'Image': {}, 'Intrinsic': {}}, 'ART1131': {'ArtisticMotif': {}, 'Composition': {}, 'Image': {}, 'Intrinsic': {}}, 'ART1132': {'ArtisticMotif': {}, 'Composition': {}, 'Image': {}, 'Intrinsic': {}}, 'ART1134': {'ArtisticMotif': {}, 'Composition': {}, 'Image': {}, 'Intrinsic': {}}, 'ART1135': {'ArtisticMotif': {}, 'Composition': {}, 'Image': {}, 'Intrinsic': {}}, 'ART1136': {'ArtisticMotif': {}, 'Composition': {}, 'Image': {}, 'Intrinsic': {}}, 'ART1137': {'ArtisticMotif': {}, 'Composition': {}, 'Image': {}, 'Intrinsic': {}}, 'ART1138': {'ArtisticMotif': {}, 'Composition': {}, 'Image': {}, 'Intrinsic': {}}, 'ART1139': {'ArtisticMotif': {}, 'Composition': {}, 'Image': {}, 'Intrinsic': {}}, 'ART1140': {'ArtisticMotif': {}, 'Composition': {}, 'Image': {}, 'Intrinsic': {}}, 'ART1141': {'ArtisticMotif': {}, 'Composition': {}, 'Image': {}, 'Intrinsic': {}}, 'ART1142': {'ArtisticMotif': {}, 'Composition': {}, 'Image': {}, 'Intrinsic': {}}, 'ART1143': {'ArtisticMotif': {}, 'Composition': {}, 'Image': {}, 'Intrinsic': {}}, 'ART1144': {'ArtisticMotif': {}, 'Composition': {}, 'Image': {}, 'Intrinsic': {}}, 'ART1145': {'ArtisticMotif': {}, 'Composition': {}, 'Image': {}, 'Intrinsic': {}}, 'ART1147': {'ArtisticMotif': {}, 'Composition': {}, 'Image': {}, 'Intrinsic': {}}, 'ART1148': {'ArtisticMotif': {}, 'Composition': {}, 'Image': {}, 'Intrinsic': {}}, 'ART1149': {'ArtisticMotif': {}, 'Composition': {}, 'Image': {}, 'Intrinsic': {}}, 'ART1150': {'ArtisticMotif': {}, 'Composition': {}, 'Image': {}, 'Intrinsic': {}}, 'ART1151': {'ArtisticMotif': {}, 'Composition': {}, 'Image': {}, 'Intrinsic': {}}, 'ART1152': {'ArtisticMotif': {}, 'Composition': {}, 'Image': {}, 'Intrinsic': {}}, 'ART1153': {'ArtisticMotif': {}, 'Composition': {}, 'Image': {}, 'Intrinsic': {}}, 'ART1154': {'ArtisticMotif': {}, 'Composition': {}, 'Image': {}, 'Intrinsic': {}}, 'ART1155': {'ArtisticMotif': {}, 'Composition': {}, 'Image': {}, 'Intrinsic': {}}, 'ART1156': {'ArtisticMotif': {}, 'Composition': {}, 'Image': {}, 'Intrinsic': {}}, 'ART1157': {'ArtisticMotif': {}, 'Composition': {}, 'Image': {}, 'Intrinsic': {}}, 'ART1158': {'ArtisticMotif': {}, 'Composition': {}, 'Image': {}, 'Intrinsic': {}}, 'ART1159': {'ArtisticMotif': {}, 'Composition': {}, 'Image': {}, 'Intrinsic': {}}, 'ART1160': {'ArtisticMotif': {}, 'Composition': {}, 'Image': {}, 'Intrinsic': {}}, 'ART1161': {'ArtisticMotif': {}, 'Composition': {}, 'Image': {}, 'Intrinsic': {}}, 'ART1162': {'ArtisticMotif': {}, 'Composition': {}, 'Image': {}, 'Intrinsic': {}}, 'ART1163': {'ArtisticMotif': {}, 'Composition': {}, 'Image': {}, 'Intrinsic': {}}, 'ART1164': {'ArtisticMotif': {}, 'Composition': {}, 'Image': {}, 'Intrinsic': {}}, 'ART1165': {'ArtisticMotif': {}, 'Composition': {}, 'Image': {}, 'Intrinsic': {}}, 'ART1166': {'ArtisticMotif': {}, 'Composition': {}, 'Image': {}, 'Intrinsic': {}}, 'ART1167': {'ArtisticMotif': {}, 'Composition': {}, 'Image': {}, 'Intrinsic': {}}, 'ART1168': {'ArtisticMotif': {}, 'Composition': {}, 'Image': {}, 'Intrinsic': {}}, 'ART1169': {'ArtisticMotif': {}, 'Composition': {}, 'Image': {}, 'Intrinsic': {}}, 'ART1170': {'ArtisticMotif': {}, 'Composition': {}, 'Image': {}, 'Intrinsic': {}}, 'ART1171': {'ArtisticMotif': {}, 'Composition': {}, 'Image': {}, 'Intrinsic': {}}, 'ART1172': {'ArtisticMotif': {}, 'Composition': {}, 'Image': {}, 'Intrinsic': {}}, 'ART1173': {'ArtisticMotif': {}, 'Composition': {}, 'Image': {}, 'Intrinsic': {}}, 'ART1174': {'ArtisticMotif': {}, 'Composition': {}, 'Image': {}, 'Intrinsic': {}}, 'ART1175': {'ArtisticMotif': {}, 'Composition': {}, 'Image': {}, 'Intrinsic': {}}, 'ART1176': {'ArtisticMotif': {}, 'Composition': {}, 'Image': {}, 'Intrinsic': {}}, 'ART1177': {'ArtisticMotif': {}, 'Composition': {}, 'Image': {}, 'Intrinsic': {}}, 'ART1178': {'ArtisticMotif': {}, 'Composition': {}, 'Image': {}, 'Intrinsic': {}}, 'ART1179': {'ArtisticMotif': {}, 'Composition': {}, 'Image': {}, 'Intrinsic': {}}, 'ART1180': {'ArtisticMotif': {}, 'Composition': {}, 'Image': {}, 'Intrinsic': {}}, 'ART1181': {'ArtisticMotif': {}, 'Composition': {}, 'Image': {}, 'Intrinsic': {}}, 'ART1182': {'ArtisticMotif': {}, 'Composition': {}, 'Image': {}, 'Intrinsic': {}}, 'ART1183': {'ArtisticMotif': {}, 'Composition': {}, 'Image': {}, 'Intrinsic': {}}, 'ART1184': {'ArtisticMotif': {}, 'Composition': {}, 'Image': {}, 'Intrinsic': {}}, 'ART1185': {'ArtisticMotif': {}, 'Composition': {}, 'Image': {}, 'Intrinsic': {}}, 'ART1186': {'ArtisticMotif': {}, 'Composition': {}, 'Image': {}, 'Intrinsic': {}}, 'ART1187': {'ArtisticMotif': {}, 'Composition': {}, 'Image': {}, 'Intrinsic': {}}, 'ART1188': {'ArtisticMotif': {}, 'Composition': {}, 'Image': {}, 'Intrinsic': {}}, 'ART1189': {'ArtisticMotif': {}, 'Composition': {}, 'Image': {}, 'Intrinsic': {}}, 'ART1190': {'ArtisticMotif': {}, 'Composition': {}, 'Image': {}, 'Intrinsic': {}}, 'ART1191': {'ArtisticMotif': {}, 'Composition': {}, 'Image': {}, 'Intrinsic': {}}, 'ART1192': {'ArtisticMotif': {}, 'Composition': {}, 'Image': {}, 'Intrinsic': {}}, 'ART1193': {'ArtisticMotif': {}, 'Composition': {}, 'Image': {}, 'Intrinsic': {}}, 'ART1194': {'ArtisticMotif': {}, 'Composition': {}, 'Image': {}, 'Intrinsic': {}}, 'ART1195': {'ArtisticMotif': {}, 'Composition': {}, 'Image': {}, 'Intrinsic': {}}, 'ART1196': {'ArtisticMotif': {}, 'Composition': {}, 'Image': {}, 'Intrinsic': {}}, 'ART1197': {'ArtisticMotif': {}, 'Composition': {}, 'Image': {}, 'Intrinsic': {}}, 'ART1198': {'ArtisticMotif': {}, 'Composition': {}, 'Image': {}, 'Intrinsic': {}}, 'ART1199': {'ArtisticMotif': {}, 'Composition': {}, 'Image': {}, 'Intrinsic': {}}, 'ART1200': {'ArtisticMotif': {}, 'Composition': {}, 'Image': {}, 'Intrinsic': {}}, 'ART1201': {'ArtisticMotif': {}, 'Composition': {}, 'Image': {}, 'Intrinsic': {}}, 'ART1202': {'ArtisticMotif': {}, 'Composition': {}, 'Image': {}, 'Intrinsic': {}}, 'ART1203': {'ArtisticMotif': {}, 'Composition': {}, 'Image': {}, 'Intrinsic': {}}, 'ART1204': {'ArtisticMotif': {}, 'Composition': {}, 'Image': {}, 'Intrinsic': {}}, 'ART1205': {'ArtisticMotif': {}, 'Composition': {}, 'Image': {}, 'Intrinsic': {}}, 'ART1206': {'ArtisticMotif': {}, 'Composition': {}, 'Image': {}, 'Intrinsic': {}}, 'ART1207': {'ArtisticMotif': {}, 'Composition': {}, 'Image': {}, 'Intrinsic': {}}, 'ART1208': {'ArtisticMotif': {}, 'Composition': {}, 'Image': {}, 'Intrinsic': {}}, 'ART1209': {'ArtisticMotif': {}, 'Composition': {}, 'Image': {}, 'Intrinsic': {}}, 'ART1210': {'ArtisticMotif': {}, 'Composition': {}, 'Image': {}, 'Intrinsic': {}}, 'ART1211': {'ArtisticMotif': {}, 'Composition': {}, 'Image': {}, 'Intrinsic': {}}, 'ART1212': {'ArtisticMotif': {}, 'Composition': {}, 'Image': {}, 'Intrinsic': {}}, 'ART1213': {'ArtisticMotif': {}, 'Composition': {}, 'Image': {}, 'Intrinsic': {}}, 'ART1214': {'ArtisticMotif': {}, 'Composition': {}, 'Image': {}, 'Intrinsic': {}}, 'ART1215': {'ArtisticMotif': {}, 'Composition': {}, 'Image': {}, 'Intrinsic': {}}, 'ART1216': {'ArtisticMotif': {}, 'Composition': {}, 'Image': {}, 'Intrinsic': {}}, 'ART1217': {'ArtisticMotif': {}, 'Composition': {}, 'Image': {}, 'Intrinsic': {}}, 'ART1218': {'ArtisticMotif': {}, 'Composition': {}, 'Image': {}, 'Intrinsic': {}}, 'ART1219': {'ArtisticMotif': {}, 'Composition': {}, 'Image': {}, 'Intrinsic': {}}, 'ART1220': {'ArtisticMotif': {}, 'Composition': {}, 'Image': {}, 'Intrinsic': {}}, 'ART1221': {'ArtisticMotif': {}, 'Composition': {}, 'Image': {}, 'Intrinsic': {}}, 'ART1222': {'ArtisticMotif': {}, 'Composition': {}, 'Image': {}, 'Intrinsic': {}}, 'ART1223': {'ArtisticMotif': {}, 'Composition': {}, 'Image': {}, 'Intrinsic': {}}, 'ART1224': {'ArtisticMotif': {}, 'Composition': {}, 'Image': {}, 'Intrinsic': {}}, 'ART1225': {'ArtisticMotif': {}, 'Composition': {}, 'Image': {}, 'Intrinsic': {}}, 'ART1226': {'ArtisticMotif': {}, 'Composition': {}, 'Image': {}, 'Intrinsic': {}}, 'ART1227': {'ArtisticMotif': {}, 'Composition': {}, 'Image': {}, 'Intrinsic': {}}, 'ART1228': {'ArtisticMotif': {}, 'Composition': {}, 'Image': {}, 'Intrinsic': {}}, 'ART1229': {'ArtisticMotif': {}, 'Composition': {}, 'Image': {}, 'Intrinsic': {}}, 'ART1230': {'ArtisticMotif': {}, 'Composition': {}, 'Image': {}, 'Intrinsic': {}}, 'ART1231': {'ArtisticMotif': {}, 'Composition': {}, 'Image': {}, 'Intrinsic': {}}, 'ART1232': {'ArtisticMotif': {}, 'Composition': {}, 'Image': {}, 'Intrinsic': {}}, 'ART1233': {'ArtisticMotif': {}, 'Composition': {}, 'Image': {}, 'Intrinsic': {}}, 'ART1234': {'ArtisticMotif': {}, 'Composition': {}, 'Image': {}, 'Intrinsic': {}}, 'ART1235': {'ArtisticMotif': {}, 'Composition': {}, 'Image': {}, 'Intrinsic': {}}, 'ART1236': {'ArtisticMotif': {}, 'Composition': {}, 'Image': {}, 'Intrinsic': {}}, 'ART1237': {'ArtisticMotif': {}, 'Composition': {}, 'Image': {}, 'Intrinsic': {}}, 'ART1239': {'ArtisticMotif': {}, 'Composition': {}, 'Image': {}, 'Intrinsic': {}}, 'ART1240': {'ArtisticMotif': {}, 'Composition': {}, 'Image': {}, 'Intrinsic': {}}, 'ART1241': {'ArtisticMotif': {}, 'Composition': {}, 'Image': {}, 'Intrinsic': {}}, 'ART1242': {'ArtisticMotif': {}, 'Composition': {}, 'Image': {}, 'Intrinsic': {}}, 'ART1243': {'ArtisticMotif': {}, 'Composition': {}, 'Image': {}, 'Intrinsic': {}}, 'ART1244': {'ArtisticMotif': {}, 'Composition': {}, 'Image': {}, 'Intrinsic': {}}, 'ART1245': {'ArtisticMotif': {}, 'Composition': {}, 'Image': {}, 'Intrinsic': {}}, 'ART1246': {'ArtisticMotif': {}, 'Composition': {}, 'Image': {}, 'Intrinsic': {}}, 'ART1247': {'ArtisticMotif': {}, 'Composition': {}, 'Image': {}, 'Intrinsic': {}}, 'ART1248': {'ArtisticMotif': {}, 'Composition': {}, 'Image': {}, 'Intrinsic': {}}, 'ART1249': {'ArtisticMotif': {}, 'Composition': {}, 'Image': {}, 'Intrinsic': {}}, 'ART1250': {'ArtisticMotif': {}, 'Composition': {}, 'Image': {}, 'Intrinsic': {}}, 'ART1251': {'ArtisticMotif': {}, 'Composition': {}, 'Image': {}, 'Intrinsic': {}}, 'ART1252': {'ArtisticMotif': {}, 'Composition': {}, 'Image': {}, 'Intrinsic': {}}, 'ART1253': {'ArtisticMotif': {}, 'Composition': {}, 'Image': {}, 'Intrinsic': {}}, 'ART1254': {'ArtisticMotif': {}, 'Composition': {}, 'Image': {}, 'Intrinsic': {}}, 'ART1255': {'ArtisticMotif': {}, 'Composition': {}, 'Image': {}, 'Intrinsic': {}}, 'ART1256': {'ArtisticMotif': {}, 'Composition': {}, 'Image': {}, 'Intrinsic': {}}, 'ART1257': {'ArtisticMotif': {}, 'Composition': {}, 'Image': {}, 'Intrinsic': {}}, 'ART1258': {'ArtisticMotif': {}, 'Composition': {}, 'Image': {}, 'Intrinsic': {}}, 'ART1259': {'ArtisticMotif': {}, 'Composition': {}, 'Image': {}, 'Intrinsic': {}}, 'ART1260': {'ArtisticMotif': {}, 'Composition': {}, 'Image': {}, 'Intrinsic': {}}, 'ART1261': {'ArtisticMotif': {}, 'Composition': {}, 'Image': {}, 'Intrinsic': {}}, 'ART1263': {'ArtisticMotif': {}, 'Composition': {}, 'Image': {}, 'Intrinsic': {}}, 'ART1264': {'ArtisticMotif': {}, 'Composition': {}, 'Image': {}, 'Intrinsic': {}}, 'ART1265': {'ArtisticMotif': {}, 'Composition': {}, 'Image': {}, 'Intrinsic': {}}, 'ART1266': {'ArtisticMotif': {}, 'Composition': {}, 'Image': {}, 'Intrinsic': {}}, 'ART1267': {'ArtisticMotif': {}, 'Composition': {}, 'Image': {}, 'Intrinsic': {}}, 'ART1268': {'ArtisticMotif': {}, 'Composition': {}, 'Image': {}, 'Intrinsic': {}}, 'ART1269': {'ArtisticMotif': {}, 'Composition': {}, 'Image': {}, 'Intrinsic': {}}, 'ART1270': {'ArtisticMotif': {}, 'Composition': {}, 'Image': {}, 'Intrinsic': {}}, 'ART1271': {'ArtisticMotif': {}, 'Composition': {}, 'Image': {}, 'Intrinsic': {}}, 'ART1272': {'ArtisticMotif': {}, 'Composition': {}, 'Image': {}, 'Intrinsic': {}}, 'ART1273': {'ArtisticMotif': {}, 'Composition': {}, 'Image': {}, 'Intrinsic': {}}, 'ART1274': {'ArtisticMotif': {}, 'Composition': {}, 'Image': {}, 'Intrinsic': {}}, 'ART1275': {'ArtisticMotif': {}, 'Composition': {}, 'Image': {}, 'Intrinsic': {}}, 'ART1276': {'ArtisticMotif': {}, 'Composition': {}, 'Image': {}, 'Intrinsic': {}}, 'ART1277': {'ArtisticMotif': {}, 'Composition': {}, 'Image': {}, 'Intrinsic': {}}, 'ART1278': {'ArtisticMotif': {}, 'Composition': {}, 'Image': {}, 'Intrinsic': {}}, 'ART1279': {'ArtisticMotif': {}, 'Composition': {}, 'Image': {}, 'Intrinsic': {}}, 'ART1280': {'ArtisticMotif': {}, 'Composition': {}, 'Image': {}, 'Intrinsic': {}}, 'ART1281': {'ArtisticMotif': {}, 'Composition': {}, 'Image': {}, 'Intrinsic': {}}, 'ART1282': {'ArtisticMotif': {}, 'Composition': {}, 'Image': {}, 'Intrinsic': {}}, 'ART1283': {'ArtisticMotif': {}, 'Composition': {}, 'Image': {}, 'Intrinsic': {}}, 'ART1284': {'ArtisticMotif': {}, 'Composition': {}, 'Image': {}, 'Intrinsic': {}}, 'ART1285': {'ArtisticMotif': {}, 'Composition': {}, 'Image': {}, 'Intrinsic': {}}, 'ART1286': {'ArtisticMotif': {}, 'Composition': {}, 'Image': {}, 'Intrinsic': {}}, 'ART1287': {'ArtisticMotif': {}, 'Composition': {}, 'Image': {}, 'Intrinsic': {}}, 'ART1288': {'ArtisticMotif': {}, 'Composition': {}, 'Image': {}, 'Intrinsic': {}}, 'ART1289': {'ArtisticMotif': {}, 'Composition': {}, 'Image': {}, 'Intrinsic': {}}, 'ART1290': {'ArtisticMotif': {}, 'Composition': {}, 'Image': {}, 'Intrinsic': {}}, 'ART1291': {'ArtisticMotif': {}, 'Composition': {}, 'Image': {}, 'Intrinsic': {}}, 'ART1292': {'ArtisticMotif': {}, 'Composition': {}, 'Image': {}, 'Intrinsic': {}}, 'ART1293': {'ArtisticMotif': {}, 'Composition': {}, 'Image': {}, 'Intrinsic': {}}, 'ART1294': {'ArtisticMotif': {}, 'Composition': {}, 'Image': {}, 'Intrinsic': {}}, 'ART1295': {'ArtisticMotif': {}, 'Composition': {}, 'Image': {}, 'Intrinsic': {}}, 'ART1296': {'ArtisticMotif': {}, 'Composition': {}, 'Image': {}, 'Intrinsic': {}}, 'ART1297': {'ArtisticMotif': {}, 'Composition': {}, 'Image': {}, 'Intrinsic': {}}, 'ART1298': {'ArtisticMotif': {}, 'Composition': {}, 'Image': {}, 'Intrinsic': {}}, 'ART1299': {'ArtisticMotif': {}, 'Composition': {}, 'Image': {}, 'Intrinsic': {}}, 'ART1301': {'ArtisticMotif': {}, 'Composition': {}, 'Image': {}, 'Intrinsic': {}}, 'ART1302': {'ArtisticMotif': {}, 'Composition': {}, 'Image': {}, 'Intrinsic': {}}, 'ART1303': {'ArtisticMotif': {}, 'Composition': {}, 'Image': {}, 'Intrinsic': {}}, 'ART1304': {'ArtisticMotif': {}, 'Composition': {}, 'Image': {}, 'Intrinsic': {}}, 'ART1305': {'ArtisticMotif': {}, 'Composition': {}, 'Image': {}, 'Intrinsic': {}}, 'ART1306': {'ArtisticMotif': {}, 'Composition': {}, 'Image': {}, 'Intrinsic': {}}, 'ART1307': {'ArtisticMotif': {}, 'Composition': {}, 'Image': {}, 'Intrinsic': {}}, 'ART1308': {'ArtisticMotif': {}, 'Composition': {}, 'Image': {}, 'Intrinsic': {}}, 'ART1310': {'ArtisticMotif': {}, 'Composition': {}, 'Image': {}, 'Intrinsic': {}}, 'ART1311': {'ArtisticMotif': {}, 'Composition': {}, 'Image': {}, 'Intrinsic': {}}, 'ART1312': {'ArtisticMotif': {}, 'Composition': {}, 'Image': {}, 'Intrinsic': {}}, 'ART1313': {'ArtisticMotif': {}, 'Composition': {}, 'Image': {}, 'Intrinsic': {}}, 'ART1314': {'ArtisticMotif': {}, 'Composition': {}, 'Image': {}, 'Intrinsic': {}}, 'ART1315': {'ArtisticMotif': {}, 'Composition': {}, 'Image': {}, 'Intrinsic': {}}, 'ART1316': {'ArtisticMotif': {}, 'Composition': {}, 'Image': {}, 'Intrinsic': {}}, 'ART1317': {'ArtisticMotif': {}, 'Composition': {}, 'Image': {}, 'Intrinsic': {}}, 'ART1318': {'ArtisticMotif': {}, 'Composition': {}, 'Image': {}, 'Intrinsic': {}}, 'ART1319': {'ArtisticMotif': {}, 'Composition': {}, 'Image': {}, 'Intrinsic': {}}, 'ART1320': {'ArtisticMotif': {}, 'Composition': {}, 'Image': {}, 'Intrinsic': {}}, 'ART1321': {'ArtisticMotif': {}, 'Composition': {}, 'Image': {}, 'Intrinsic': {}}, 'ART1322': {'ArtisticMotif': {}, 'Composition': {}, 'Image': {}, 'Intrinsic': {}}, 'ART1323': {'ArtisticMotif': {}, 'Composition': {}, 'Image': {}, 'Intrinsic': {}}, 'ART1324': {'ArtisticMotif': {}, 'Composition': {}, 'Image': {}, 'Intrinsic': {}}, 'ART1325': {'ArtisticMotif': {}, 'Composition': {}, 'Image': {}, 'Intrinsic': {}}, 'ART1326': {'ArtisticMotif': {}, 'Composition': {}, 'Image': {}, 'Intrinsic': {}}, 'ART1329': {'ArtisticMotif': {}, 'Composition': {}, 'Image': {}, 'Intrinsic': {}}, 'ART1330': {'ArtisticMotif': {}, 'Composition': {}, 'Image': {}, 'Intrinsic': {}}, 'ART1331': {'ArtisticMotif': {}, 'Composition': {}, 'Image': {}, 'Intrinsic': {}}, 'ART1332': {'ArtisticMotif': {}, 'Composition': {}, 'Image': {}, 'Intrinsic': {}}, 'ART1333': {'ArtisticMotif': {}, 'Composition': {}, 'Image': {}, 'Intrinsic': {}}, 'ART1334': {'ArtisticMotif': {}, 'Composition': {}, 'Image': {}, 'Intrinsic': {}}, 'ART1335': {'ArtisticMotif': {}, 'Composition': {}, 'Image': {}, 'Intrinsic': {}}, 'ART1337': {'ArtisticMotif': {}, 'Composition': {}, 'Image': {}, 'Intrinsic': {}}, 'ART1338': {'ArtisticMotif': {}, 'Composition': {}, 'Image': {}, 'Intrinsic': {}}, 'ART1339': {'ArtisticMotif': {}, 'Composition': {}, 'Image': {}, 'Intrinsic': {}}, 'ART1340': {'ArtisticMotif': {}, 'Composition': {}, 'Image': {}, 'Intrinsic': {}}, 'ART1341': {'ArtisticMotif': {}, 'Composition': {}, 'Image': {}, 'Intrinsic': {}}, 'ART1342': {'ArtisticMotif': {}, 'Composition': {}, 'Image': {}, 'Intrinsic': {}}, 'ART1343': {'ArtisticMotif': {}, 'Composition': {}, 'Image': {}, 'Intrinsic': {}}, 'ART1344': {'ArtisticMotif': {}, 'Composition': {}, 'Image': {}, 'Intrinsic': {}}, 'ART1345': {'ArtisticMotif': {}, 'Composition': {}, 'Image': {}, 'Intrinsic': {}}, 'ART1346': {'ArtisticMotif': {}, 'Composition': {}, 'Image': {}, 'Intrinsic': {}}, 'ART1347': {'ArtisticMotif': {}, 'Composition': {}, 'Image': {}, 'Intrinsic': {}}, 'ART1348': {'ArtisticMotif': {}, 'Composition': {}, 'Image': {}, 'Intrinsic': {}}, 'ART1349': {'ArtisticMotif': {}, 'Composition': {}, 'Image': {}, 'Intrinsic': {}}, 'ART1350': {'ArtisticMotif': {}, 'Composition': {}, 'Image': {}, 'Intrinsic': {}}, 'ART1352': {'ArtisticMotif': {}, 'Composition': {}, 'Image': {}, 'Intrinsic': {}}, 'ART1353': {'ArtisticMotif': {}, 'Composition': {}, 'Image': {}, 'Intrinsic': {}}, 'ART1354': {'ArtisticMotif': {}, 'Composition': {}, 'Image': {}, 'Intrinsic': {}}, 'ART1355': {'ArtisticMotif': {}, 'Composition': {}, 'Image': {}, 'Intrinsic': {}}, 'ART1358': {'ArtisticMotif': {}, 'Composition': {}, 'Image': {}, 'Intrinsic': {}}, 'ART1359': {'ArtisticMotif': {}, 'Composition': {}, 'Image': {}, 'Intrinsic': {}}, 'ART1360': {'ArtisticMotif': {}, 'Composition': {}, 'Image': {}, 'Intrinsic': {}}, 'ART1361': {'ArtisticMotif': {}, 'Composition': {}, 'Image': {}, 'Intrinsic': {}}, 'ART1362': {'ArtisticMotif': {}, 'Composition': {}, 'Image': {}, 'Intrinsic': {}}, 'ART1363': {'ArtisticMotif': {}, 'Composition': {}, 'Image': {}, 'Intrinsic': {}}, 'ART1364': {'ArtisticMotif': {}, 'Composition': {}, 'Image': {}, 'Intrinsic': {}}, 'ART1365': {'ArtisticMotif': {}, 'Composition': {}, 'Image': {}, 'Intrinsic': {}}, 'ART1366': {'ArtisticMotif': {}, 'Composition': {}, 'Image': {}, 'Intrinsic': {}}, 'ART1367': {'ArtisticMotif': {}, 'Composition': {}, 'Image': {}, 'Intrinsic': {}}, 'ART1368': {'ArtisticMotif': {}, 'Composition': {}, 'Image': {}, 'Intrinsic': {}}, 'ART1369': {'ArtisticMotif': {}, 'Composition': {}, 'Image': {}, 'Intrinsic': {}}, 'ART1370': {'ArtisticMotif': {}, 'Composition': {}, 'Image': {}, 'Intrinsic': {}}, 'ART1371': {'ArtisticMotif': {}, 'Composition': {}, 'Image': {}, 'Intrinsic': {}}, 'ART1372': {'ArtisticMotif': {}, 'Composition': {}, 'Image': {}, 'Intrinsic': {}}, 'ART1373': {'ArtisticMotif': {}, 'Composition': {}, 'Image': {}, 'Intrinsic': {}}, 'ART1374': {'ArtisticMotif': {}, 'Composition': {}, 'Image': {}, 'Intrinsic': {}}, 'ART1375': {'ArtisticMotif': {}, 'Composition': {}, 'Image': {}, 'Intrinsic': {}}, 'ART1376': {'ArtisticMotif': {}, 'Composition': {}, 'Image': {}, 'Intrinsic': {}}, 'ART1377': {'ArtisticMotif': {}, 'Composition': {}, 'Image': {}, 'Intrinsic': {}}, 'ART1378': {'ArtisticMotif': {}, 'Composition': {}, 'Image': {}, 'Intrinsic': {}}, 'ART1379': {'ArtisticMotif': {}, 'Composition': {}, 'Image': {}, 'Intrinsic': {}}, 'ART1380': {'ArtisticMotif': {}, 'Composition': {}, 'Image': {}, 'Intrinsic': {}}, 'ART1381': {'ArtisticMotif': {}, 'Composition': {}, 'Image': {}, 'Intrinsic': {}}, 'ART1382': {'ArtisticMotif': {}, 'Composition': {}, 'Image': {}, 'Intrinsic': {}}, 'ART1383': {'ArtisticMotif': {}, 'Composition': {}, 'Image': {}, 'Intrinsic': {}}, 'ART1384': {'ArtisticMotif': {}, 'Composition': {}, 'Image': {}, 'Intrinsic': {}}, 'ART1385': {'ArtisticMotif': {}, 'Composition': {}, 'Image': {}, 'Intrinsic': {}}, 'ART1386': {'ArtisticMotif': {}, 'Composition': {}, 'Image': {}, 'Intrinsic': {}}, 'ART1387': {'ArtisticMotif': {}, 'Composition': {}, 'Image': {}, 'Intrinsic': {}}, 'ART1388': {'ArtisticMotif': {}, 'Composition': {}, 'Image': {}, 'Intrinsic': {}}, 'ART1389': {'ArtisticMotif': {}, 'Composition': {}, 'Image': {}, 'Intrinsic': {}}, 'ART1390': {'ArtisticMotif': {}, 'Composition': {}, 'Image': {}, 'Intrinsic': {}}, 'ART1391': {'ArtisticMotif': {}, 'Composition': {}, 'Image': {}, 'Intrinsic': {}}, 'ART1392': {'ArtisticMotif': {}, 'Composition': {}, 'Image': {}, 'Intrinsic': {}}, 'ART1393': {'ArtisticMotif': {}, 'Composition': {}, 'Image': {}, 'Intrinsic': {}}, 'ART1397': {'ArtisticMotif': {}, 'Composition': {}, 'Image': {}, 'Intrinsic': {}}, 'ART1398': {'ArtisticMotif': {}, 'Composition': {}, 'Image': {}, 'Intrinsic': {}}, 'ART1399': {'ArtisticMotif': {}, 'Composition': {}, 'Image': {}, 'Intrinsic': {}}, 'ART1400': {'ArtisticMotif': {}, 'Composition': {}, 'Image': {}, 'Intrinsic': {}}, 'ART1401': {'ArtisticMotif': {}, 'Composition': {}, 'Image': {}, 'Intrinsic': {}}, 'ART1402': {'ArtisticMotif': {}, 'Composition': {}, 'Image': {}, 'Intrinsic': {}}, 'ART1403': {'ArtisticMotif': {}, 'Composition': {}, 'Image': {}, 'Intrinsic': {}}, 'ART1404': {'ArtisticMotif': {}, 'Composition': {}, 'Image': {}, 'Intrinsic': {}}, 'ART1405': {'ArtisticMotif': {}, 'Composition': {}, 'Image': {}, 'Intrinsic': {}}, 'ART1406': {'ArtisticMotif': {}, 'Composition': {}, 'Image': {}, 'Intrinsic': {}}, 'ART1407': {'ArtisticMotif': {}, 'Composition': {}, 'Image': {}, 'Intrinsic': {}}, 'ART1408': {'ArtisticMotif': {}, 'Composition': {}, 'Image': {}, 'Intrinsic': {}}, 'ART1409': {'ArtisticMotif': {}, 'Composition': {}, 'Image': {}, 'Intrinsic': {}}, 'ART1410': {'ArtisticMotif': {}, 'Composition': {}, 'Image': {}, 'Intrinsic': {}}, 'ART1411': {'ArtisticMotif': {}, 'Composition': {}, 'Image': {}, 'Intrinsic': {}}, 'ART1412': {'ArtisticMotif': {}, 'Composition': {}, 'Image': {}, 'Intrinsic': {}}, 'ART1413': {'ArtisticMotif': {}, 'Composition': {}, 'Image': {}, 'Intrinsic': {}}, 'ART1414': {'ArtisticMotif': {}, 'Composition': {}, 'Image': {}, 'Intrinsic': {}}, 'ART1415': {'ArtisticMotif': {}, 'Composition': {}, 'Image': {}, 'Intrinsic': {}}, 'ART1416': {'ArtisticMotif': {}, 'Composition': {}, 'Image': {}, 'Intrinsic': {}}, 'ART1417': {'ArtisticMotif': {}, 'Composition': {}, 'Image': {}, 'Intrinsic': {}}, 'ART1418': {'ArtisticMotif': {}, 'Composition': {}, 'Image': {}, 'Intrinsic': {}}, 'ART1419': {'ArtisticMotif': {}, 'Composition': {}, 'Image': {}, 'Intrinsic': {}}, 'ART1420': {'ArtisticMotif': {}, 'Composition': {}, 'Image': {}, 'Intrinsic': {}}, 'ART1421': {'ArtisticMotif': {}, 'Composition': {}, 'Image': {}, 'Intrinsic': {}}, 'ART1422': {'ArtisticMotif': {}, 'Composition': {}, 'Image': {}, 'Intrinsic': {}}, 'ART1423': {'ArtisticMotif': {}, 'Composition': {}, 'Image': {}, 'Intrinsic': {}}, 'ART1424': {'ArtisticMotif': {}, 'Composition': {}, 'Image': {}, 'Intrinsic': {}}, 'ART1425': {'ArtisticMotif': {}, 'Composition': {}, 'Image': {}, 'Intrinsic': {}}, 'ART1426': {'ArtisticMotif': {}, 'Composition': {}, 'Image': {}, 'Intrinsic': {}}, 'ART1427': {'ArtisticMotif': {}, 'Composition': {}, 'Image': {}, 'Intrinsic': {}}, 'ART1428': {'ArtisticMotif': {}, 'Composition': {}, 'Image': {}, 'Intrinsic': {}}, 'ART1429': {'ArtisticMotif': {}, 'Composition': {}, 'Image': {}, 'Intrinsic': {}}, 'ART1430': {'ArtisticMotif': {}, 'Composition': {}, 'Image': {}, 'Intrinsic': {}}, 'ART1431': {'ArtisticMotif': {}, 'Composition': {}, 'Image': {}, 'Intrinsic': {}}, 'ART1432': {'ArtisticMotif': {}, 'Composition': {}, 'Image': {}, 'Intrinsic': {}}, 'ART1433': {'ArtisticMotif': {}, 'Composition': {}, 'Image': {}, 'Intrinsic': {}}, 'ART1434': {'ArtisticMotif': {}, 'Composition': {}, 'Image': {}, 'Intrinsic': {}}, 'ART1435': {'ArtisticMotif': {}, 'Composition': {}, 'Image': {}, 'Intrinsic': {}}, 'ART1436': {'ArtisticMotif': {}, 'Composition': {}, 'Image': {}, 'Intrinsic': {}}, 'ART1437': {'ArtisticMotif': {}, 'Composition': {}, 'Image': {}, 'Intrinsic': {}}, 'ART1438': {'ArtisticMotif': {}, 'Composition': {}, 'Image': {}, 'Intrinsic': {}}, 'ART1439': {'ArtisticMotif': {}, 'Composition': {}, 'Image': {}, 'Intrinsic': {}}, 'ART1440': {'ArtisticMotif': {}, 'Composition': {}, 'Image': {}, 'Intrinsic': {}}, 'ART1441': {'ArtisticMotif': {}, 'Composition': {}, 'Image': {}, 'Intrinsic': {}}, 'ART1442': {'ArtisticMotif': {}, 'Composition': {}, 'Image': {}, 'Intrinsic': {}}, 'ART1443': {'ArtisticMotif': {}, 'Composition': {}, 'Image': {}, 'Intrinsic': {}}, 'ART1444': {'ArtisticMotif': {}, 'Composition': {}, 'Image': {}, 'Intrinsic': {}}, 'ART1446': {'ArtisticMotif': {}, 'Composition': {}, 'Image': {}, 'Intrinsic': {}}, 'ART1447': {'ArtisticMotif': {}, 'Composition': {}, 'Image': {}, 'Intrinsic': {}}, 'ART1448': {'ArtisticMotif': {}, 'Composition': {}, 'Image': {}, 'Intrinsic': {}}, 'ART1449': {'ArtisticMotif': {}, 'Composition': {}, 'Image': {}, 'Intrinsic': {}}, 'ART1450': {'ArtisticMotif': {}, 'Composition': {}, 'Image': {}, 'Intrinsic': {}}, 'ART1451': {'ArtisticMotif': {}, 'Composition': {}, 'Image': {}, 'Intrinsic': {}}, 'ART1452': {'ArtisticMotif': {}, 'Composition': {}, 'Image': {}, 'Intrinsic': {}}, 'ART1454': {'ArtisticMotif': {}, 'Composition': {}, 'Image': {}, 'Intrinsic': {}}, 'ART1455': {'ArtisticMotif': {}, 'Composition': {}, 'Image': {}, 'Intrinsic': {}}, 'ART1456': {'ArtisticMotif': {}, 'Composition': {}, 'Image': {}, 'Intrinsic': {}}, 'ART1457': {'ArtisticMotif': {}, 'Composition': {}, 'Image': {}, 'Intrinsic': {}}, 'ART1458': {'ArtisticMotif': {}, 'Composition': {}, 'Image': {}, 'Intrinsic': {}}, 'ART1459': {'ArtisticMotif': {}, 'Composition': {}, 'Image': {}, 'Intrinsic': {}}, 'ART1460': {'ArtisticMotif': {}, 'Composition': {}, 'Image': {}, 'Intrinsic': {}}, 'ART1461': {'ArtisticMotif': {}, 'Composition': {}, 'Image': {}, 'Intrinsic': {}}, 'ART1462': {'ArtisticMotif': {}, 'Composition': {}, 'Image': {}, 'Intrinsic': {}}, 'ART1463': {'ArtisticMotif': {}, 'Composition': {}, 'Image': {}, 'Intrinsic': {}}, 'ART1464': {'ArtisticMotif': {}, 'Composition': {}, 'Image': {}, 'Intrinsic': {}}, 'ART1465': {'ArtisticMotif': {}, 'Composition': {}, 'Image': {}, 'Intrinsic': {}}, 'ART1467': {'ArtisticMotif': {}, 'Composition': {}, 'Image': {}, 'Intrinsic': {}}, 'ART1468': {'ArtisticMotif': {}, 'Composition': {}, 'Image': {}, 'Intrinsic': {}}, 'ART1469': {'ArtisticMotif': {}, 'Composition': {}, 'Image': {}, 'Intrinsic': {}}, 'ART1470': {'ArtisticMotif': {}, 'Composition': {}, 'Image': {}, 'Intrinsic': {}}, 'ART1471': {'ArtisticMotif': {}, 'Composition': {}, 'Image': {}, 'Intrinsic': {}}, 'ART1472': {'ArtisticMotif': {}, 'Composition': {}, 'Image': {}, 'Intrinsic': {}}, 'ART1473': {'ArtisticMotif': {}, 'Composition': {}, 'Image': {}, 'Intrinsic': {}}, 'ART1474': {'ArtisticMotif': {}, 'Composition': {}, 'Image': {}, 'Intrinsic': {}}, 'ART1475': {'ArtisticMotif': {}, 'Composition': {}, 'Image': {}, 'Intrinsic': {}}, 'ART1476': {'ArtisticMotif': {}, 'Composition': {}, 'Image': {}, 'Intrinsic': {}}, 'ART1477': {'ArtisticMotif': {}, 'Composition': {}, 'Image': {}, 'Intrinsic': {}}, 'ART1478': {'ArtisticMotif': {}, 'Composition': {}, 'Image': {}, 'Intrinsic': {}}, 'ART1479': {'ArtisticMotif': {}, 'Composition': {}, 'Image': {}, 'Intrinsic': {}}, 'ART1480': {'ArtisticMotif': {}, 'Composition': {}, 'Image': {}, 'Intrinsic': {}}, 'ART1481': {'ArtisticMotif': {}, 'Composition': {}, 'Image': {}, 'Intrinsic': {}}, 'ART1482': {'ArtisticMotif': {}, 'Composition': {}, 'Image': {}, 'Intrinsic': {}}, 'ART1483': {'ArtisticMotif': {}, 'Composition': {}, 'Image': {}, 'Intrinsic': {}}, 'ART1484': {'ArtisticMotif': {}, 'Composition': {}, 'Image': {}, 'Intrinsic': {}}, 'ART1485': {'ArtisticMotif': {}, 'Composition': {}, 'Image': {}, 'Intrinsic': {}}, 'ART1486': {'ArtisticMotif': {}, 'Composition': {}, 'Image': {}, 'Intrinsic': {}}, 'ART1487': {'ArtisticMotif': {}, 'Composition': {}, 'Image': {}, 'Intrinsic': {}}, 'ART1488': {'ArtisticMotif': {}, 'Composition': {}, 'Image': {}, 'Intrinsic': {}}, 'ART1489': {'ArtisticMotif': {}, 'Composition': {}, 'Image': {}, 'Intrinsic': {}}, 'ART1490': {'ArtisticMotif': {}, 'Composition': {}, 'Image': {}, 'Intrinsic': {}}, 'ART1491': {'ArtisticMotif': {}, 'Composition': {}, 'Image': {}, 'Intrinsic': {}}, 'ART1492': {'ArtisticMotif': {}, 'Composition': {}, 'Image': {}, 'Intrinsic': {}}, 'ART1493': {'ArtisticMotif': {}, 'Composition': {}, 'Image': {}, 'Intrinsic': {}}, 'ART1494': {'ArtisticMotif': {}, 'Composition': {}, 'Image': {}, 'Intrinsic': {}}, 'ART1495': {'ArtisticMotif': {}, 'Composition': {}, 'Image': {}, 'Intrinsic': {}}, 'ART1496': {'ArtisticMotif': {}, 'Composition': {}, 'Image': {}, 'Intrinsic': {}}, 'ART1497': {'ArtisticMotif': {}, 'Composition': {}, 'Image': {}, 'Intrinsic': {}}, 'ART1498': {'ArtisticMotif': {}, 'Composition': {}, 'Image': {}, 'Intrinsic': {}}, 'ART1499': {'ArtisticMotif': {}, 'Composition': {}, 'Image': {}, 'Intrinsic': {}}, 'ART1500': {'ArtisticMotif': {}, 'Composition': {}, 'Image': {}, 'Intrinsic': {}}, 'ART1501': {'ArtisticMotif': {}, 'Composition': {}, 'Image': {}, 'Intrinsic': {}}, 'ART1502': {'ArtisticMotif': {}, 'Composition': {}, 'Image': {}, 'Intrinsic': {}}, 'ART1503': {'ArtisticMotif': {}, 'Composition': {}, 'Image': {}, 'Intrinsic': {}}, 'ART1504': {'ArtisticMotif': {}, 'Composition': {}, 'Image': {}, 'Intrinsic': {}}, 'ART1505': {'ArtisticMotif': {}, 'Composition': {}, 'Image': {}, 'Intrinsic': {}}, 'ART1506': {'ArtisticMotif': {}, 'Composition': {}, 'Image': {}, 'Intrinsic': {}}, 'ART1507': {'ArtisticMotif': {}, 'Composition': {}, 'Image': {}, 'Intrinsic': {}}, 'ART1508': {'ArtisticMotif': {}, 'Composition': {}, 'Image': {}, 'Intrinsic': {}}, 'ART1509': {'ArtisticMotif': {}, 'Composition': {}, 'Image': {}, 'Intrinsic': {}}, 'ART1510': {'ArtisticMotif': {}, 'Composition': {}, 'Image': {}, 'Intrinsic': {}}, 'ART1511': {'ArtisticMotif': {}, 'Composition': {}, 'Image': {}, 'Intrinsic': {}}, 'ART1512': {'ArtisticMotif': {}, 'Composition': {}, 'Image': {}, 'Intrinsic': {}}, 'ART1513': {'ArtisticMotif': {}, 'Composition': {}, 'Image': {}, 'Intrinsic': {}}, 'ART1514': {'ArtisticMotif': {}, 'Composition': {}, 'Image': {}, 'Intrinsic': {}}, 'ART1515': {'ArtisticMotif': {}, 'Composition': {}, 'Image': {}, 'Intrinsic': {}}, 'ART1516': {'ArtisticMotif': {}, 'Composition': {}, 'Image': {}, 'Intrinsic': {}}, 'ART1517': {'ArtisticMotif': {}, 'Composition': {}, 'Image': {}, 'Intrinsic': {}}, 'ART1518': {'ArtisticMotif': {}, 'Composition': {}, 'Image': {}, 'Intrinsic': {}}, 'ART1519': {'ArtisticMotif': {}, 'Composition': {}, 'Image': {}, 'Intrinsic': {}}, 'ART1520': {'ArtisticMotif': {}, 'Composition': {}, 'Image': {}, 'Intrinsic': {}}, 'ART1521': {'ArtisticMotif': {}, 'Composition': {}, 'Image': {}, 'Intrinsic': {}}, 'ART1522': {'ArtisticMotif': {}, 'Composition': {}, 'Image': {}, 'Intrinsic': {}}, 'ART1523': {'ArtisticMotif': {}, 'Composition': {}, 'Image': {}, 'Intrinsic': {}}, 'ART1524': {'ArtisticMotif': {}, 'Composition': {}, 'Image': {}, 'Intrinsic': {}}, 'ART1525': {'ArtisticMotif': {}, 'Composition': {}, 'Image': {}, 'Intrinsic': {}}, 'ART1526': {'ArtisticMotif': {}, 'Composition': {}, 'Image': {}, 'Intrinsic': {}}, 'ART1527': {'ArtisticMotif': {}, 'Composition': {}, 'Image': {}, 'Intrinsic': {}}, 'ART1528': {'ArtisticMotif': {}, 'Composition': {}, 'Image': {}, 'Intrinsic': {}}, 'ART1529': {'ArtisticMotif': {}, 'Composition': {}, 'Image': {}, 'Intrinsic': {}}, 'ART1530': {'ArtisticMotif': {}, 'Composition': {}, 'Image': {}, 'Intrinsic': {}}, 'ART1531': {'ArtisticMotif': {}, 'Composition': {}, 'Image': {}, 'Intrinsic': {}}, 'ART1532': {'ArtisticMotif': {}, 'Composition': {}, 'Image': {}, 'Intrinsic': {}}, 'ART1533': {'ArtisticMotif': {}, 'Composition': {}, 'Image': {}, 'Intrinsic': {}}, 'ART1534': {'ArtisticMotif': {}, 'Composition': {}, 'Image': {}, 'Intrinsic': {}}, 'ART1535': {'ArtisticMotif': {}, 'Composition': {}, 'Image': {}, 'Intrinsic': {}}, 'ART1536': {'ArtisticMotif': {}, 'Composition': {}, 'Image': {}, 'Intrinsic': {}}, 'ART1537': {'ArtisticMotif': {}, 'Composition': {}, 'Image': {}, 'Intrinsic': {}}, 'ART1538': {'ArtisticMotif': {}, 'Composition': {}, 'Image': {}, 'Intrinsic': {}}, 'ART1539': {'ArtisticMotif': {}, 'Composition': {}, 'Image': {}, 'Intrinsic': {}}, 'ART1540': {'ArtisticMotif': {}, 'Composition': {}, 'Image': {}, 'Intrinsic': {}}, 'ART1541': {'ArtisticMotif': {}, 'Composition': {}, 'Image': {}, 'Intrinsic': {}}, 'ART1542': {'ArtisticMotif': {}, 'Composition': {}, 'Image': {}, 'Intrinsic': {}}, 'ART1543': {'ArtisticMotif': {}, 'Composition': {}, 'Image': {}, 'Intrinsic': {}}, 'ART1000type': {'ArtisticMotif': {}, 'Composition': {}, 'Image': {}, 'Intrinsic': {}}, 'ART1001test': {'ArtisticMotif': {}, 'Composition': {}, 'Image': {}, 'Intrinsic': {}}, 'ART1001type': {'ArtisticMotif': {}, 'Composition': {}, 'Image': {}, 'Intrinsic': {}}, 'ART1002test': {'ArtisticMotif': {}, 'Composition': {}, 'Image': {}, 'Intrinsic': {}}, 'ART1002type': {'ArtisticMotif': {}, 'Composition': {}, 'Image': {}, 'Intrinsic': {}}, 'ART1003test': {'ArtisticMotif': {}, 'Composition': {}, 'Image': {}, 'Intrinsic': {}}, 'ART1003type': {'ArtisticMotif': {}, 'Composition': {}, 'Image': {}, 'Intrinsic': {}}, 'ART1004test': {'ArtisticMotif': {}, 'Composition': {}, 'Image': {}, 'Intrinsic': {}}, 'ART1004type': {'ArtisticMotif': {}, 'Composition': {}, 'Image': {}, 'Intrinsic': {}}, 'ART1005test': {'ArtisticMotif': {}, 'Composition': {}, 'Image': {}, 'Intrinsic': {}}, 'ART1005type': {'ArtisticMotif': {}, 'Composition': {}, 'Image': {}, 'Intrinsic': {}}, 'ART1006type': {'ArtisticMotif': {}, 'Composition': {}, 'Image': {}, 'Intrinsic': {}}, 'ART1007type': {'ArtisticMotif': {}, 'Composition': {}, 'Image': {}, 'Intrinsic': {}}, 'ART1006test': {'ArtisticMotif': {}, 'Composition': {}, 'Image': {}, 'Intrinsic': {}}, 'ART1008test': {'ArtisticMotif': {}, 'Composition': {}, 'Image': {}, 'Intrinsic': {}}, 'ART1009test': {'ArtisticMotif': {}, 'Composition': {}, 'Image': {}, 'Intrinsic': {}}, 'ART1011test': {'ArtisticMotif': {}, 'Composition': {}, 'Image': {}, 'Intrinsic': {}}, 'ART1012test': {'ArtisticMotif': {}, 'Composition': {}, 'Image': {}, 'Intrinsic': {}}, 'ART1013test': {'ArtisticMotif': {}, 'Composition': {}, 'Image': {}, 'Intrinsic': {}}, 'ART1014test': {'ArtisticMotif': {}, 'Composition': {}, 'Image': {}, 'Intrinsic': {}}, 'ART1015test': {'ArtisticMotif': {}, 'Composition': {}, 'Image': {}, 'Intrinsic': {}}, 'ART1016test': {'ArtisticMotif': {}, 'Composition': {}, 'Image': {}, 'Intrinsic': {}}, 'ART1017test': {'ArtisticMotif': {}, 'Composition': {}, 'Image': {}, 'Intrinsic': {}}, 'ART1018test': {'ArtisticMotif': {}, 'Composition': {}, 'Image': {}, 'Intrinsic': {}}, 'ART1019test': {'ArtisticMotif': {}, 'Composition': {}, 'Image': {}, 'Intrinsic': {}}, 'ART1020test': {'ArtisticMotif': {}, 'Composition': {}, 'Image': {}, 'Intrinsic': {}}, 'ART1021test': {'ArtisticMotif': {}, 'Composition': {}, 'Image': {}, 'Intrinsic': {}}}\n"
          ]
        }
      ],
      "source": [
        "artworkDict = {}\n",
        "\n",
        "for line in artworks_cleaned:\n",
        "  lineArtwork = line[\"ID\"][0]\n",
        "  artwork = \"ART\"+lineArtwork\n",
        "  if not artwork.endswith(\"ext\"):\n",
        "    artworkDict.update({artwork : {\"ArtisticMotif\": {}, \"Composition\": {}, \"Image\":{}, \"Intrinsic\":{}}})\n",
        "print(artworkDict)"
      ]
    },
    {
      "cell_type": "code",
      "execution_count": null,
      "metadata": {
        "id": "gyIOh4QOFl-u"
      },
      "outputs": [],
      "source": [
        "\n",
        "'''\n",
        "for line in level1_cleaned:\n",
        "  lineArtwork = line[\"Artwork\"][0]\n",
        "  lineAM = line[\"ArtisticMotifCount\"][0]\n",
        "  lineComp = line[\"Composition\"][0]\n",
        "  am = d+lineArtwork+\"-\"+\"AM\"+str(lineAM)\n",
        "  comp = d+lineArtwork+\"-\"+\"COMP\"+str(lineComp)\n",
        "  if lineComp == \"\":\n",
        "    artworkDict[lineArtwork][\"ArtisticMotif\"][lineAM] = am\n",
        "  elif lineComp != \"\":\n",
        "    artworkDict[lineArtwork][\"Composition\"][lineComp] = comp\n",
        "\n",
        "print(artworkDict)\n",
        "'''"
      ]
    },
    {
      "cell_type": "code",
      "source": [
        "\n",
        "\n",
        "for line in level1_cleaned:\n",
        "  lineArtwork = line[\"Artwork\"][0]\n",
        "  lineAM = line[\"ArtisticMotifCount\"][0]\n",
        "  lineComp = line[\"Composition\"][0]\n",
        "  interLine = line[\"Interpretation\"]\n",
        "  for inter in interLine:\n",
        "    if inter != \"\":\n",
        "     # print(\"Interpretation: \", inter, \"Artwork: \", lineArtwork)\n",
        "      if lineAM != \"\":\n",
        "        am_id = inter+\"-\"+lineAM\n",
        "        am = d+lineArtwork+\"-\"+inter+\"-\"+\"AM\"+str(lineAM)\n",
        "      #  print(\"am with interpretation: \", am_id, am)\n",
        "      if lineComp != \"\":\n",
        "        comp_id = inter+\"-\"+lineComp\n",
        "        comp = d+lineArtwork+\"-\"+inter+\"-\"+\"COMP\"+str(lineComp)\n",
        "       # print(\"comp with interpretation: \", comp_id, comp)\n",
        "\n",
        "    else:\n",
        "      am_id = lineAM\n",
        "      # print(\"am without interpretation: \", am_id)\n",
        "      comp_id = lineComp\n",
        "     # print(\"am without interpretation: \", comp_id)\n",
        "      am = d+lineArtwork+\"-\"+\"AM\"+str(lineAM)\n",
        "      comp = d+lineArtwork+\"-\"+\"COMP\"+str(lineComp)\n",
        "\n",
        "    if lineComp == \"\":\n",
        "      artworkDict[lineArtwork][\"ArtisticMotif\"][am_id] = am\n",
        "     # print(lineArtwork, inter, am_id, am)\n",
        "    elif lineComp != \"\":\n",
        "      artworkDict[lineArtwork][\"Composition\"][comp_id] = comp\n",
        "     # print(lineArtwork, inter, comp_id, comp)\n",
        "\n"
      ],
      "metadata": {
        "id": "8EvPQn2XAkgH"
      },
      "execution_count": null,
      "outputs": []
    },
    {
      "cell_type": "code",
      "execution_count": null,
      "metadata": {
        "id": "a3cdA2-GsdPz"
      },
      "outputs": [],
      "source": [
        "'''\n",
        "for line in level2_cleaned:\n",
        "  lineArtwork = line[\"Artwork\"][0]\n",
        "  lineImg = line[\"Count\"][0]\n",
        "  img = d+lineArtwork+\"-\"+\"IMG\"+str(lineImg)\n",
        "  artworkDict[lineArtwork][\"Image\"].update({lineImg : img})\n",
        "'''\n"
      ]
    },
    {
      "cell_type": "code",
      "source": [
        "for line in level2_cleaned:\n",
        "  lineArtwork = line[\"Artwork\"][0]\n",
        "  lineImg = line[\"Count\"][0]\n",
        " # img = d+lineArtwork+\"-\"+\"IMG\"+str(lineImg)\n",
        "\n",
        "  interLine = line[\"Interpretation\"]\n",
        "  #print(\"Artwork: \", lineArtwork, lineImg, \", Img: \", lineImg, \"Interpr: \", str(interLine))\n",
        "  for inter in interLine:\n",
        "    if inter != \"\":\n",
        "      img_id = inter+\"-\"+lineImg\n",
        "      img = d+lineArtwork+\"-\"+inter+\"-\"+\"IMG\"+str(lineImg)\n",
        "    else:\n",
        "      img_id = lineImg\n",
        "      img = d+lineArtwork+\"-\"+\"IMG\"+str(lineImg)\n",
        "    artworkDict[lineArtwork][\"Image\"].update({img_id : img})\n",
        "\n",
        "\n",
        "for art in artworkDict:\n",
        "  see_img = artworkDict[art][\"Image\"]\n",
        "  if see_img != {}:\n",
        "    print(see_img)"
      ],
      "metadata": {
        "id": "JapdT__JHdJ2"
      },
      "execution_count": null,
      "outputs": []
    },
    {
      "cell_type": "code",
      "execution_count": null,
      "metadata": {
        "id": "Vxl_uwbRNpO7"
      },
      "outputs": [],
      "source": [
        "for line in level3_cleaned:\n",
        "  lineArtwork = line[\"Artwork\"][0]\n",
        "  intrinsic = line[\"Count\"][0]\n",
        "  #intr = d+lineArtwork+\"-\"+\"INTRINSIC\"+str(intrinsic)\n",
        "  #artworkDict[lineArtwork][\"Intrinsic\"].update({intrinsic : intr})\n",
        "\n",
        "  interLine = line[\"Interpretation\"]\n",
        "  # print(\"Artwork: \", lineArtwork, \"intrinsic: \", intrinsic, \", Interpr: \", str(interLine))\n",
        "  for inter in interLine:\n",
        "    if inter != \"\":\n",
        "      intr_id = inter+\"-\"+intrinsic\n",
        "      intr = d+lineArtwork+\"-\"+inter+\"-\"+\"INTRINSIC\"+str(intrinsic)\n",
        "    else:\n",
        "      intr_id = intrinsic\n",
        "      intr = d+lineArtwork+\"-\"+\"INTRINSIC\"+str(intrinsic)\n",
        "    artworkDict[lineArtwork][\"Intrinsic\"].update({intr_id : intr})\n",
        "\n",
        "\n",
        "for art in artworkDict:\n",
        "  see_img = artworkDict[art][\"Intrinsic\"]\n",
        "  if see_img != {}:\n",
        "    print(see_img)\n",
        "\n"
      ]
    },
    {
      "cell_type": "markdown",
      "metadata": {
        "id": "cNwtIt-jUqKG"
      },
      "source": [
        "# Dizionario fenomeni"
      ]
    },
    {
      "cell_type": "code",
      "execution_count": null,
      "metadata": {
        "id": "r9g5I7gcUtGz"
      },
      "outputs": [],
      "source": [
        "phenomenaDict = {} # key = label, value = id\n",
        "for line in levelsEntryControl_cleaned:\n",
        "  phenomenonLabel = line[\"CulturalPhenomenon\"][0]\n",
        "  phenomenonID = line[\"CulturalPhenomenonID\"][0]\n",
        "  if phenomenonLabel !=\"\" and phenomenonID !=\"\":\n",
        "    phenomenaDict[phenomenonLabel] = d+phenomenonID\n",
        "print(phenomenaDict)"
      ]
    },
    {
      "cell_type": "markdown",
      "metadata": {
        "id": "v3GYqdTth-Rm"
      },
      "source": [
        "# Level 1"
      ]
    },
    {
      "cell_type": "code",
      "execution_count": null,
      "metadata": {
        "id": "mR6X-6ABPjwd"
      },
      "outputs": [],
      "source": [
        "for line in level1_cleaned:\n",
        "  count = str(line[\"ArtisticMotifCount\"][0])\n",
        "  lineComposition = line[\"Composition\"][0]\n",
        "  lineCompByAm = line[\"ComposedByArtisticMotif\"]\n",
        "  artwork = line[\"Artwork\"][0]\n",
        "  lineInterpretation = line[\"Interpretation\"]\n",
        "  text = line[\"LinguisticObject\"][0]\n",
        "\n",
        "\n",
        "  naturalElement = line[\"NaturalElement_uri\"][0]\n",
        "  naturalElementLabel = line[\"NaturalElement\"][0]\n",
        "  expressionalQuality = line[\"ExpressionalQuality_uri\"][0]\n",
        "  expressionalQualityLabel = line[\"ExpressionalQuality\"][0]\n",
        "  lineQuality = line[\"Quality_uri\"] # la quality di dul\n",
        "  lineQualityLabel = line[\"Quality\"]\n",
        "  action = line[\"Action_uri\"][0]\n",
        "  actionLabel = line[\"Action\"][0]\n",
        "  compStructure = line[\"CompositionalStructure_uri\"][0]\n",
        "  compStructureLabel = line[\"CompositionalStructure\"][0]\n",
        "  linguisticObject = line[\"LinguisticObject_uri\"][0]\n",
        "  linguisticObjectLabel = line[\"LinguisticObject\"][0]\n",
        "  lineStyle = line[\"Style\"]\n",
        "  lineEvidence = line[\"Evidence_uri\"]\n",
        "  lineEvidenceLabel = line[\"Evidence\"]\n",
        "  evidenceSpecificLocation = line[\"EvidenceSpecificLocation_uri\"][0]\n",
        "  evidenceSpecificLocationLabel = line[\"EvidenceSpecificLocation\"][0]\n",
        "  linePerson = line[\"PersonResponsible_uri\"]\n",
        "  linePersonLabel = line[\"PersonResponsible\"] # sarà da aggiungere l'uri nel dizionario delle persone\n",
        "  lineReference = line[\"InformationObject\"]\n",
        "\n",
        "  for interpretation in lineInterpretation:\n",
        "    if interpretation !=\"\":\n",
        "     # interpr_id = d+\"rec\"+artwork+\"-\"+interpretation\n",
        "      preicRec = artwork+\"-\"+\"PREICREC\"+interpretation+\"-\"+count\n",
        "      preicDesc = artwork+\"-\"+\"DESC\"+interpretation\n",
        "     # g.add((URIRef(d+preicRec), crm.P9_consists_of, URIRef(interpr_id)))\n",
        "     # g.add((URIRef(interpr_id), RDF.type, icon.Recognition))\n",
        "      if lineComposition != \"\":\n",
        "        comp_id = interpretation+\"-\"+lineComposition\n",
        "        for CompByAm in lineCompByAm:\n",
        "          if CompByAm != \"\":\n",
        "            CompByAm_id = interpretation+\"-\"+CompByAm\n",
        "      elif lineComposition == \"\":\n",
        "        count_id = interpretation+\"-\"+count\n",
        "\n",
        "    else:\n",
        "      preicRec = artwork+\"-\"+\"PREICREC\"+count\n",
        "      preicDesc = artwork+\"-\"+\"DESC\" # per individuare i contesti dell'interpretazione: aggiungere un ID alle fonti ed usarlo per creare il nome della fonte\n",
        "      if lineComposition != \"\":\n",
        "        comp_id = lineComposition\n",
        "        for CompByAm in lineCompByAm:\n",
        "            if CompByAm != \"\":\n",
        "              CompByAm_id = CompByAm\n",
        "      elif lineComposition == \"\":\n",
        "        count_id = count\n",
        "\n",
        "    g.add((URIRef(d+preicRec), icon.aboutWorkOfArt, URIRef(d+artwork)))\n",
        "    g.add((URIRef(d+preicRec), RDF.type, icon.PreiconographicalRecognition))\n",
        "    g.add((icon.PreiconographicalRecognition, RDFS.label, Literal(\"Preiconographical Recognition\")))\n",
        "  #  g.add((URIRef(d+preicRec), icon.isListedIn, URIRef(d+preicDesc)))\n",
        "    g.add((URIRef(d+preicRec), icon.preiconographicallyCompliesWith, URIRef(d+preicDesc)))\n",
        "    g.add((URIRef(d+preicDesc), RDF.type, icon.InterpretationDescription))\n",
        "    g.add((icon.InterpretationDescription, RDFS.label, Literal(\"Interpretation Description\")))\n",
        "\n",
        "\n",
        "    if lineComposition != \"\":\n",
        "      comp = artworkDict[artwork][\"Composition\"][comp_id]\n",
        "      g.add((URIRef(comp), RDF.type, icon.Composition))\n",
        "      g.add((icon.Composition, RDFS.label, Literal(\"Composition\")))\n",
        "      g.add((URIRef(d+preicRec), icon.recognizedComposition, URIRef(comp)))\n",
        "      for CompByAm in lineCompByAm:\n",
        "        if CompByAm != \"\":\n",
        "          if CompByAm_id not in artworkDict[artwork][\"ArtisticMotif\"]:\n",
        "            print(artwork, \"composition\",comp_id,\"has not\", CompByAm_id)\n",
        "          else:\n",
        "            artmotif = artworkDict[artwork][\"ArtisticMotif\"][CompByAm_id]\n",
        "            g.add((URIRef(comp), icon.hasPart, URIRef(artmotif)))\n",
        "      if compStructure != \"\":\n",
        "        g.add((URIRef(comp), icon.hasCompositionalStructure, URIRef(d+compStructure)))\n",
        "        g.add((URIRef(d+compStructure), RDF.type, icon.CompositionalStructure))\n",
        "        g.add((icon.CompositionalStructure, RDFS.label, Literal(\"Compositional Structure\")))\n",
        "        g.add((URIRef(d+compStructure), RDFS.label, Literal(compStructureLabel)))\n",
        "\n",
        "    elif lineComposition == \"\":\n",
        "      item = artworkDict[artwork][\"ArtisticMotif\"][count_id]\n",
        "      g.add((URIRef(item), RDF.type, icon.ArtisticMotif))\n",
        "      g.add((icon.ArtisticMotif, RDFS.label, Literal(\"Artistic Motif\")))\n",
        "      g.add((URIRef(d+preicRec), icon.recognizedArtisticMotif, URIRef(item)))\n",
        "\n",
        "      if naturalElement != \"\":\n",
        "        g.add((URIRef(item), icon.hasFactualMeaning, URIRef(d+naturalElement)))\n",
        "        g.add((URIRef(d+naturalElement), RDF.type, icon.NaturalElement))\n",
        "        g.add((icon.NaturalElement, RDFS.label, Literal(\"Natural Element\")))\n",
        "        g.add((URIRef(d+naturalElement), RDFS.label, Literal(naturalElementLabel)))\n",
        "        g.add((URIRef(d+artwork), icon.preiconographicallyDepicts, URIRef(d+naturalElement)))\n",
        "      if expressionalQuality != \"\":\n",
        "        g.add((URIRef(item), icon.hasExpressionalMeaning, URIRef(d+expressionalQuality)))\n",
        "        g.add((URIRef(d+expressionalQuality), RDF.type, icon.ExpressionalQuality))\n",
        "        g.add((icon.ExpressionalQuality, RDFS.label, Literal(\"Expressional Quality\")))\n",
        "        g.add((URIRef(d+expressionalQuality), RDFS.label, Literal(expressionalQualityLabel)))\n",
        "        g.add((URIRef(d+artwork), icon.preiconographicallyDepicts, URIRef(d+expressionalQuality)))\n",
        "      n = 0\n",
        "      for quality in lineQuality:\n",
        "        if quality != \"\":\n",
        "          g.add((URIRef(item), dul.hasQuality, URIRef(d+\"quality/\"+quality)))\n",
        "          g.add((URIRef(d+\"quality/\"+quality), RDF.type, dul.Quality))\n",
        "          g.add((URIRef(d+\"quality/\"+quality), RDFS.label, Literal(lineQualityLabel[n])))\n",
        "          n+=1\n",
        "\n",
        "      if action != \"\":\n",
        "        g.add((URIRef(item), icon.hasFactualMeaning, URIRef(d+action)))\n",
        "        g.add((URIRef(d+action), RDF.type, icon.Action))\n",
        "        g.add((icon.Action, RDFS.label, Literal(\"Action\")))\n",
        "        g.add((URIRef(d+action), RDFS.label, Literal(actionLabel)))\n",
        "        g.add((URIRef(d+artwork), icon.preiconographicallyDepicts, URIRef(d+action)))\n",
        "  # add text and style\n",
        "      if linguisticObject != \"\":\n",
        "        g.add((URIRef(item), crm.P138_represents, URIRef(d+\"linguistic-obj/\"+linguisticObject)))\n",
        "        g.add((URIRef(d+\"linguistic-obj/\"+linguisticObject), RDF.type, crm.E33_Linguistic_Object))\n",
        "        g.add((crm.E33_Linguistic_Object, RDFS.label, Literal(\"Linguistic Object\")))\n",
        "        g.add((URIRef(d+\"linguistic-obj/\"+linguisticObject), RDFS.label, Literal(linguisticObjectLabel)))\n",
        "        g.add((URIRef(d+artwork), icon.preiconographicallyDepicts, URIRef(d+\"linguistic-obj/\"+linguisticObject)))\n",
        "      for style in lineStyle:\n",
        "        if style !=\"\":\n",
        "          g.add((URIRef(item), crm.P2_has_type, URIRef(styleDict[style])))\n",
        "          g.add((URIRef(styleDict[style]), RDFS.label, Literal(style)))\n",
        "          g.add((URIRef(styleDict[style]), crm.P2_has_type, URIRef(\"http://vocab.getty.edu/aat/300015646\")))\n",
        "          g.add((URIRef(\"http://vocab.getty.edu/aat/300015646\"), RDFS.label, Literal(\"Style\")))\n",
        "\n",
        "    for person in linePersonLabel:\n",
        "      if person != \"\":\n",
        "        g.add((URIRef(d+preicRec), crm.P14_carried_out_by, URIRef(peopleDict[person])))\n",
        "    for evid in lineEvidence:\n",
        "      if evid !=\"\":\n",
        "        if \"http\" in str(evid):\n",
        "          i = lineEvidence.index(evid)\n",
        "          evidence = lineEvidenceLabel[i]\n",
        "        elif \"art\" in str(evid):\n",
        "          evidence = d+evid.upper()\n",
        "        else:\n",
        "          evidence = d+evid\n",
        "        if evidenceSpecificLocation !=\"\":\n",
        "          if \"http\" not in str(evidenceSpecificLocation):\n",
        "            g.add((URIRef(d+preicRec), cito.citesAsEvidence, URIRef(evidence+\"-\"+evidenceSpecificLocation)))\n",
        "            g.add((URIRef(evidence), crm.P106_is_composed_of, URIRef(evidence+\"-\"+evidenceSpecificLocation)))\n",
        "            g.add((URIRef(evidence+\"-\"+evidenceSpecificLocation), RDFS.label, Literal(evidenceSpecificLocationLabel)))\n",
        "          else:\n",
        "            g.add((URIRef(evidence), crm.P106_is_composed_of, URIRef(evidenceSpecificLocation)))\n",
        "            g.add((URIRef(d+preicRec), cito.citesAsEvidence, URIRef(evidenceSpecificLocation)))\n",
        "        g.add((URIRef(d+preicRec), cito.citesAsEvidence, URIRef(evidence)))\n",
        "    for info in lineReference:\n",
        "      if info !=\"\":\n",
        "        g.add((URIRef(d+preicRec), cito.citesForInformation, URIRef(info)))\n",
        "        g.add((URIRef(info), RDF.type, crm.E73_Information_Object))\n",
        "\n",
        "# idea: aggiungere colonna type dove si indica, se presente, il link AAT con la voce del tipo di oggetto corrispondente es: cloth\n",
        "# print(g.serialize(format=\"turtle\").decode(UTF-8))\n",
        "# g.serialize(destination = \"lev1.ttl\", format=\"turtle\")\n",
        "\n"
      ]
    },
    {
      "cell_type": "markdown",
      "metadata": {
        "id": "W8GLpdQlM36x"
      },
      "source": [
        "## Motif Recognition"
      ]
    },
    {
      "cell_type": "code",
      "execution_count": null,
      "metadata": {
        "id": "6bBOkLt_QL6R"
      },
      "outputs": [],
      "source": [
        "#  motif recognition\n",
        "for line in formalMotifRecLevel1_cleaned:\n",
        "  count = str(line[\"Count\"][0])\n",
        "  fromAm = line[\"ArtisticMotifCount1\"][0]\n",
        "  fromComp = line[\"CompositionCount1\"][0]\n",
        "  copiedByAm = line[\"ArtisticMotifCount2\"][0]\n",
        "  copiedByComp = line[\"CompositionCount2\"][0]\n",
        "  fromArtwork = line[\"fromArtwork1\"][0]\n",
        "  copiedByArtwork = line[\"toArtwork2\"][0]\n",
        "  lineSupportTo = line[\"GivesSupportToInterpretation\"]\n",
        "\n",
        "  motifRec = copiedByArtwork+\"-\"+\"MOTIFREC\"+count\n",
        "  #preicDesc1 = fromArtwork+\"-\"+\"PREICDESC\"\n",
        "  preicDesc2 = copiedByArtwork+\"-\"+\"DESC\" # lo inseriamo nella preicdesc? per ora sì\n",
        "\n",
        "  lineEvidence = line[\"Evidence_uri\"]\n",
        "  lineEvidenceLabel = line[\"Evidence\"]\n",
        "  evidenceSpecificLocation = line[\"EvidenceSpecificLocation_uri\"][0]\n",
        "  evidenceSpecificLocationLabel = line[\"EvidenceSpecificLocation\"][0]\n",
        "  linePerson = line[\"PersonResponsible_uri\"]\n",
        "  linePersonLabel = line[\"PersonResponsible\"] # sarà da aggiungere l'uri nel dizionario delle persone\n",
        "  lineReference = line[\"InformationObject_uri\"]\n",
        "  lineReferenceLabel = line[\"InformationObject\"]\n",
        "\n",
        " # g.add((URIRef(d+motifRec), icon.aboutWorkOfArt, URIRef(d+fromArtwork)))\n",
        "  g.add((URIRef(d+motifRec), icon.aboutWorkOfArt, URIRef(d+copiedByArtwork)))\n",
        "  g.add((URIRef(d+motifRec), RDF.type, icon.FormalMotifRecognition))\n",
        "  g.add((icon.FormalMotifRecognition, RDFS.label, Literal(\"Formal Motif Recognition\")))\n",
        "  # g.add((URIRef(d+preicDesc1), RDF.type, icon.PreiconographicalDescription))\n",
        "  g.add((URIRef(d+motifRec), icon.preiconographicallyCompliesWith, URIRef(d+preicDesc2)))\n",
        "  g.add((URIRef(d+preicDesc2), RDF.type, icon.InterpretationDescription))\n",
        "\n",
        "  if fromAm != \"\":\n",
        "    if fromAm not in artworkDict[fromArtwork][\"ArtisticMotif\"]:\n",
        "      print(\"not in artworkdict: \", fromArtwork, fromAm)\n",
        "    else:\n",
        "      myAm = artworkDict[fromArtwork][\"ArtisticMotif\"][fromAm]\n",
        "      g.add((URIRef(d+motifRec), icon.hasPrototypicalMotif, URIRef(myAm)))\n",
        "      g.add((URIRef(myAm), RDF.type, icon.ArtisticMotif))\n",
        "  if fromComp != \"\":\n",
        "    if fromComp not in artworkDict[fromArtwork][\"Composition\"]:\n",
        "      print(fromArtwork, \"has not composition\", fromComp)\n",
        "    else:\n",
        "      myComp = artworkDict[fromArtwork][\"Composition\"][fromComp]\n",
        "      g.add((URIRef(d+motifRec), icon.hasPrototypicalMotif, URIRef(myComp)))\n",
        "      g.add((URIRef(myComp), RDF.type, icon.Composition))\n",
        "  if copiedByAm != \"\":\n",
        "    if copiedByAm not in artworkDict[copiedByArtwork][\"ArtisticMotif\"]:\n",
        "      print(\"not in artworkdict: \", copiedByArtwork, copiedByAm)\n",
        "    else:\n",
        "      byAm = artworkDict[copiedByArtwork][\"ArtisticMotif\"][copiedByAm]\n",
        "      g.add((URIRef(d+motifRec), icon.hasCopiedMotif, URIRef(byAm)))\n",
        "      g.add((URIRef(byAm), RDF.type, icon.ArtisticMotif))\n",
        "  if copiedByComp != \"\":\n",
        "    if copiedByComp not in artworkDict[copiedByArtwork][\"Composition\"]:\n",
        "      print(copiedByArtwork, \"has not composition\", copiedByComp)\n",
        "    else:\n",
        "      byComp = artworkDict[copiedByArtwork][\"Composition\"][copiedByComp]\n",
        "    g.add((URIRef(d+motifRec), icon.hasCopiedMotif, URIRef(byComp)))\n",
        "    g.add((URIRef(byComp), RDF.type, icon.Composition))\n",
        "\n",
        "\n",
        "  for support in lineSupportTo:\n",
        "    if support !=\"\":\n",
        "      g.add((URIRef(d+motifRec), cito.givesSupportTo, URIRef(d+support)))\n",
        "\n",
        "  for person in linePersonLabel:\n",
        "    if person !=\"\":\n",
        "      g.add((URIRef(d+motifRec), crm.P14_carried_out_by, URIRef(peopleDict[person])))\n",
        "  for evid in lineEvidence:\n",
        "    if evid !=\"\":\n",
        "      if \"http\" in str(evid):\n",
        "        i = lineEvidence.index(evid)\n",
        "        evidence = lineEvidenceLabel[i]\n",
        "      elif \"art\" in str(evid):\n",
        "        evidence = d+evid.upper()\n",
        "      else:\n",
        "        evidence = d+evid\n",
        "      if evidenceSpecificLocation !=\"\":\n",
        "        if \"http\" not in str(evidenceSpecificLocation):\n",
        "          g.add((URIRef(d+motifRec), cito.citesAsEvidence, URIRef(evidence+\"-\"+evidenceSpecificLocation)))\n",
        "          g.add((URIRef(evidence+\"-\"+evidenceSpecificLocation), RDFS.label, Literal(evidenceSpecificLocationLabel)))\n",
        "          g.add((URIRef(evidence), crm.P106_is_composed_of, URIRef(evidence+\"-\"+evidenceSpecificLocation)))\n",
        "        else:\n",
        "          g.add((URIRef(evidence), crm.P106_is_composed_of, URIRef(evidenceSpecificLocation)))\n",
        "          g.add((URIRef(d+motifRec), cito.citesAsEvidence, URIRef(evidenceSpecificLocation)))\n",
        "\n",
        "      g.add((URIRef(d+motifRec), cito.citesAsEvidence, URIRef(evidence)))\n",
        "\n",
        "  for info in lineReference:\n",
        "    if info !=\"\":\n",
        "      g.add((URIRef(d+motifRec), cito.citesForInformation, URIRef(info)))\n",
        "      g.add((URIRef(info), RDF.type, crm.E73_Information_Object))\n",
        "\n",
        "# print(g.serialize(format=\"turtle\").decode(UTF-8))\n",
        "# g.serialize(destination = \"Output7.ttl\", format=\"turtle\")"
      ]
    },
    {
      "cell_type": "markdown",
      "metadata": {
        "id": "GZVIteUolh6Y"
      },
      "source": [
        "# Level 2"
      ]
    },
    {
      "cell_type": "code",
      "execution_count": null,
      "metadata": {
        "id": "8-bzWbEsltKZ"
      },
      "outputs": [],
      "source": [
        "for line in level2_cleaned:\n",
        "  count = str(line[\"Count\"][0])\n",
        "  countAm = line[\"ArtisticMotif\"][0]\n",
        "  countComp = line[\"Composition\"][0]\n",
        "  artwork = line[\"Artwork\"][0]\n",
        "  lineRecAttribute = line[\"RecognizingAttribute\"]\n",
        "  #image = artwork+\"-\"+\"IMG\"+count\n",
        "\n",
        "  character = line[\"Character_uri\"][0]\n",
        "  characterLabel = line[\"Character\"][0]\n",
        "  actor = line[\"SourceActor\"][0]\n",
        "  place = line[\"Place_uri\"][0]\n",
        "  placeLabel = line[\"Place\"][0]\n",
        "  event = line[\"Event_uri\"][0]\n",
        "  eventLabel = line[\"Event\"][0]\n",
        "  namedObject = line[\"NamedObject_uri\"][0]\n",
        "  namedObjectLabel = line[\"NamedObject\"][0]\n",
        "  externalObj = line[\"ExternalObjects\"][0]\n",
        "  symbol = line[\"Symbol_uri\"][0]\n",
        "  symbolLabel = line[\"Symbol\"][0]\n",
        "  personification = line[\"Personification_uri\"][0]\n",
        "  personificationLabel = line[\"Personification\"][0]\n",
        "  lineStory = line[\"Story_uri\"]\n",
        "  lineStoryLabel = line[\"Story\"]\n",
        "  lineAllegory = line[\"Allegory_uri\"]\n",
        "  lineAllegoryLabel = line[\"Allegory\"]\n",
        "  lineInvenzione = line[\"Invenzione_uri\"]\n",
        "  lineInvenzioneLabel = line[\"Invenzione\"]\n",
        "  roleLabel = line[\"Role\"][0]\n",
        "  role = line[\"Role_uri\"][0]\n",
        "  lineSupportTo = line[\"GivesSupportToInterpretation\"]\n",
        "  lineEvidence = line[\"Evidence_uri\"]\n",
        "  lineEvidenceLabel = line[\"Evidence\"]\n",
        "  evidenceSpecificLocation = line[\"EvidenceSpecificLocation_uri\"][0]\n",
        "  evidenceSpecificLocationLabel = line[\"EvidenceSpecificLocation\"][0]\n",
        "  linePerson = line[\"PersonResponsible_uri\"]\n",
        "  linePersonLabel = line[\"PersonResponsible\"] # sarà da aggiungere l'uri nel dizionario delle persone\n",
        "  lineReference = line[\"InformationObject\"]\n",
        "  lineInterpretation = line[\"Interpretation\"]\n",
        "\n",
        "  for interpretation in lineInterpretation:\n",
        "    if interpretation !=\"\":\n",
        "\n",
        "     # interpr_id = d+\"rec\"+artwork+\"-\"+interpretation\n",
        "      icRec = artwork+\"-\"+\"ICREC\"+interpretation+\"-\"+count\n",
        "      icDesc = artwork+\"-\"+\"DESC\"+interpretation\n",
        "      image_id = interpretation+\"-\"+count\n",
        "      image = artworkDict[artwork][\"Image\"][image_id]\n",
        "     # g.add((URIRef(d+icRec), crm.P9_consists_of, URIRef(interpr_id)))\n",
        "     # g.add((URIRef(interpr_id), RDF.type, icon.Recognition))\n",
        "     # g.add((icon.Recognition, RDFS.label, Literal(\"Recognition\")))\n",
        "      if countAm != \"\" and countAm != \"no\":\n",
        "        countAm_id = interpretation+\"-\"+countAm\n",
        "      if countComp != \"\" and countComp != \"no\":\n",
        "        countComp_id = interpretation+\"-\"+countComp\n",
        "      for recAttribute in lineRecAttribute:\n",
        "        if recAttribute !=\"\":\n",
        "          recAttribute_id = interpretation+\"-\"+recAttribute\n",
        "\n",
        "    else:\n",
        "      icRec = artwork+\"-\"+\"ICREC\"+count\n",
        "      icDesc = artwork+\"-\"+\"DESC\"\n",
        "\n",
        "      image = artworkDict[artwork][\"Image\"][count]\n",
        "      if countAm != \"\" and countAm != \"no\":\n",
        "        countAm_id = countAm\n",
        "      if countComp != \"\" and countComp != \"no\":\n",
        "        countComp_id = countComp\n",
        "      for recAttribute in lineRecAttribute:\n",
        "        if recAttribute !=\"\":\n",
        "          recAttribute_id = recAttribute\n",
        "\n",
        "\n",
        "    g.add((URIRef(d+icRec), icon.aboutWorkOfArt, URIRef(d+artwork)))\n",
        "    g.add((URIRef(d+icRec), RDF.type, icon.IconographicalRecognition))\n",
        "    g.add((icon.IconographicalRecognition, RDFS.label, Literal(\"Iconographical Recognition\")))\n",
        "    g.add((URIRef(d+icRec), icon.iconographicallyCompliesWith, URIRef(d+icDesc)))\n",
        "    g.add((URIRef(d+icDesc), RDF.type, icon.InterpretationDescription))\n",
        "    g.add((icon.InterpretationDescription, RDFS.label, Literal(\"Interpretation Description\")))\n",
        "    if countAm != \"\" and countAm != \"no\":\n",
        "      if countAm_id not in artworkDict[artwork][\"ArtisticMotif\"]:\n",
        "        print(artwork, \"has not am \", countAm)\n",
        "      else:\n",
        "        am = artworkDict[artwork][\"ArtisticMotif\"][countAm_id]\n",
        "        g.add((URIRef(d+icRec), icon.refersToArtisticMotif, URIRef(am)))\n",
        "        g.add((URIRef(am), RDF.type, icon.ArtisticMotif))\n",
        "        g.add((icon.ArtisticMotif, RDFS.label, Literal(\"Artistic Motif\")))\n",
        "    if countComp != \"\" and countComp != \"no\":\n",
        "      if countComp_id not in artworkDict[artwork][\"Composition\"]:\n",
        "        print(artwork, \"has not comp \", countComp_id)\n",
        "      else:\n",
        "        comp = artworkDict[artwork][\"Composition\"][countComp_id]\n",
        "        g.add((URIRef(d+icRec), icon.refersToArtisticMotif, URIRef(comp)))\n",
        "        g.add((URIRef(comp), RDF.type, icon.Composition))\n",
        "        g.add((icon.Composition, RDFS.label, Literal(\"Composition\")))\n",
        "    if countAm == \"\" and countComp == \"\":\n",
        "      n = 0\n",
        "      for story in lineStory:\n",
        "        if story != \"\":\n",
        "          g.add((URIRef(d+icRec), icon.recognizedInvenzione, URIRef(d+\"story/\"+story)))\n",
        "          g.add((URIRef(d+\"story/\"+story), RDF.type, icon.Story))\n",
        "          g.add((icon.Story, RDFS.label, Literal(\"Story\")))\n",
        "          g.add((URIRef(d+\"story/\"+story), RDFS.label, Literal(lineStoryLabel[n])))\n",
        "          g.add((URIRef(d+artwork), icon.iconographicallyDepicts, URIRef(d+\"story/\"+story)))\n",
        "          n+=1\n",
        "      n = 0\n",
        "      for allegory in lineAllegory:\n",
        "        if allegory != \"\":\n",
        "          g.add((URIRef(d+icRec), icon.recognizedInvenzione, URIRef(d+\"allegory/\"+allegory)))\n",
        "          g.add((URIRef(d+\"allegory/\"+allegory), RDF.type, icon.Allegory))\n",
        "          g.add((icon.Allegory, RDFS.label, Literal(\"Allegory\")))\n",
        "          g.add((URIRef(d+\"allegory/\"+allegory), RDFS.label, Literal(lineAllegoryLabel[n])))\n",
        "          g.add((URIRef(d+artwork), icon.iconographicallyDepicts, URIRef(d+\"allegory/\"+allegory)))\n",
        "          n +=1\n",
        "      n = 0\n",
        "      for invenzione in lineInvenzione:\n",
        "        if invenzione != \"\":\n",
        "          g.add((URIRef(d+icRec), icon.recognizedInvenzione, URIRef(d+\"inv/\"+invenzione)))\n",
        "          g.add((URIRef(d+\"inv/\"+invenzione), RDF.type, icon.Invenzione))\n",
        "          g.add((icon.Invenzione, RDFS.label, Literal(\"Invenzione\")))\n",
        "          g.add((URIRef(d+\"inv/\"+invenzione), RDFS.label, Literal(lineInvenzioneLabel[n])))\n",
        "          g.add((URIRef(d+artwork), icon.iconographicallyDepicts, URIRef(d+\"inv/\"+invenzione)))\n",
        "          n+=1\n",
        "    else:\n",
        "      g.add((URIRef(d+icRec), icon.recognizedImage, URIRef(image)))\n",
        "      g.add((URIRef(image), RDF.type, icon.Image))\n",
        "      g.add((icon.Image, RDFS.label, Literal(\"Image\")))\n",
        "\n",
        "    for recAttribute in lineRecAttribute:\n",
        "      if recAttribute != \"\":\n",
        "        if recAttribute_id not in artworkDict[artwork][\"ArtisticMotif\"]:\n",
        "          print(artwork, \"has not am \", recAttribute_id)\n",
        "        else:\n",
        "          attr = artworkDict[artwork][\"ArtisticMotif\"][recAttribute_id]\n",
        "          g.add((URIRef(image), icon.hasRecAttribute, URIRef(attr)))\n",
        "    if character != \"\":\n",
        "      if characterLabel in peopleDict:\n",
        "        g.add((URIRef(image), icon.hasCharacter, URIRef(peopleDict[characterLabel])))\n",
        "        g.add((URIRef(d+artwork), icon.iconographicallyDepicts, URIRef(peopleDict[characterLabel])))\n",
        "        g.add((URIRef(peopleDict[characterLabel]), RDF.type, icon.Character))\n",
        "      else:\n",
        "        g.add((URIRef(image), icon.hasCharacter, URIRef(d+character)))\n",
        "        g.add((URIRef(d+character), RDF.type, icon.Character))\n",
        "        g.add((icon.Character, RDFS.label, Literal(\"Character\")))\n",
        "        g.add((URIRef(d+character), RDFS.label, Literal(characterLabel)))\n",
        "        g.add((URIRef(d+artwork), icon.iconographicallyDepicts, URIRef(d+character)))\n",
        "    if actor !=\"\":\n",
        "      g.add((URIRef(image), icon.hasCharacter, URIRef(peopleDict[actor])))\n",
        "      g.add((URIRef(d+artwork), icon.iconographicallyDepicts, URIRef(peopleDict[actor])))\n",
        "      g.add((URIRef(peopleDict[actor]), RDF.type, icon.Character))\n",
        "    # g.add((URIRef(d+image), icon.bearsPortraitOf, URIRef(peopleDict[actor]))) # to be added and discussed.\n",
        "    if role != \"\":\n",
        "      # dcat:hadRole: The function of an entity or agent with respect to another entity or resource.\n",
        "      g.add((URIRef(image), dcat.hadRole, URIRef(d+\"role/\"+role)))\n",
        "      g.add((URIRef(d+\"role/\"+role), RDF.type, dcat.Role))\n",
        "      g.add((URIRef(d+\"role/\"+role), RDFS.label, Literal(roleLabel)))\n",
        "\n",
        "    if place !=\"\":\n",
        "      g.add((URIRef(image), icon.hasPlace, URIRef(d+place)))\n",
        "      g.add((URIRef(d+place), RDFS.label, Literal(placeLabel)))\n",
        "      g.add((URIRef(d+place), RDF.type, icon.Place))\n",
        "      g.add((icon.Place, RDFS.label, Literal(\"Place\")))\n",
        "      g.add((URIRef(d+artwork), icon.iconographicallyDepicts, URIRef(d+place)))\n",
        "    if event !=\"\":\n",
        "      g.add((URIRef(image), icon.hasEvent, URIRef(d+event)))\n",
        "      g.add((URIRef(d+event), RDFS.label, Literal(eventLabel)))\n",
        "      g.add((URIRef(d+event), RDF.type, icon.Event))\n",
        "      g.add((icon.Event, RDFS.label, Literal(\"Event\")))\n",
        "      g.add((URIRef(d+artwork), icon.iconographicallyDepicts, URIRef(d+event)))\n",
        "    if namedObject !=\"\":\n",
        "      g.add((URIRef(image), icon.hasNamedObject, URIRef(d+namedObject)))\n",
        "      g.add((URIRef(d+namedObject), RDFS.label, Literal(namedObjectLabel)))\n",
        "      g.add((URIRef(d+namedObject), RDF.type, icon.NamedObject))\n",
        "      g.add((icon.NamedObject, RDFS.label, Literal(\"NamedObject\")))\n",
        "      g.add((URIRef(d+artwork), icon.iconographicallyDepicts, URIRef(d+namedObject)))\n",
        "    if externalObj !=\"\":\n",
        "      # we finally decided to model it as a named object and not as a crm:P138\n",
        "      g.add((URIRef(image), icon.hasNamedObject, URIRef(d+\"OBJ\"+externalObj)))\n",
        "      # g.add((URIRef(d+image), crm.P138_represents, URIRef(d+\"OBJ\"+externalObj)))\n",
        "      g.add((URIRef(d+\"OBJ\"+externalObj), RDF.type, icon.NamedObject))\n",
        "      g.add((URIRef(d+artwork), icon.iconographicallyDepicts, URIRef(d+\"OBJ\"+externalObj)))\n",
        "    if symbol !=\"\":\n",
        "      g.add((URIRef(image), icon.hasSymbol, URIRef(d+symbol)))\n",
        "      g.add((URIRef(d+symbol), RDFS.label, Literal(symbolLabel)))\n",
        "      g.add((URIRef(d+symbol), RDF.type, icon.Symbol))\n",
        "      g.add((icon.Symbol, RDFS.label, Literal(\"Symbol\")))\n",
        "      g.add((URIRef(d+artwork), icon.iconographicallyDepicts, URIRef(d+symbol)))\n",
        "    if personification !=\"\":\n",
        "      g.add((URIRef(image), icon.hasPersonification, URIRef(d+\"pers/\"+personification)))\n",
        "      g.add((URIRef(d+\"pers/\"+personification), RDFS.label, Literal(personificationLabel)))\n",
        "      g.add((URIRef(d+\"pers/\"+personification), RDF.type, icon.Personification))\n",
        "      g.add((icon.Personification, RDFS.label, Literal(\"Personification\")))\n",
        "      g.add((URIRef(d+artwork), icon.iconographicallyDepicts, URIRef(d+\"pers/\"+personification)))\n",
        "\n",
        "    for support in lineSupportTo:\n",
        "      if support !=\"\":\n",
        "        g.add((URIRef(d+icRec), cito.givesSupportTo, URIRef(d+support)))\n",
        "\n",
        "    for person in linePersonLabel:\n",
        "      if person !=\"\":\n",
        "        g.add((URIRef(d+icRec), crm.P14_carried_out_by, URIRef(peopleDict[person])))\n",
        "    for evid in lineEvidence:\n",
        "      if evid !=\"\":\n",
        "        if \"http\" in str(evid):\n",
        "          i = lineEvidence.index(evid)\n",
        "          evidence = lineEvidenceLabel[i]\n",
        "        elif \"art\" in str(evid):\n",
        "          evidence = d+evid.upper()\n",
        "        else:\n",
        "          evidence = d+evid\n",
        "        if evidenceSpecificLocation !=\"\":\n",
        "            if \"http\" not in str(evidenceSpecificLocation):\n",
        "              g.add((URIRef(d+icRec), cito.citesAsEvidence, URIRef(evidence+\"-\"+evidenceSpecificLocation)))\n",
        "              g.add((URIRef(evidence), crm.P106_is_composed_of, URIRef(evidence+\"-\"+evidenceSpecificLocation)))\n",
        "              g.add((URIRef(evidence+\"-\"+evidenceSpecificLocation), RDFS.label, Literal(evidenceSpecificLocationLabel)))\n",
        "            else:\n",
        "              g.add((URIRef(evidence), crm.P106_is_composed_of, URIRef(evidenceSpecificLocation)))\n",
        "              g.add((URIRef(d+icRec), cito.citesAsEvidence, URIRef(evidenceSpecificLocation)))\n",
        "        g.add((URIRef(d+icRec), cito.citesAsEvidence, URIRef(evidence)))\n",
        "    for info in lineReference:\n",
        "      if info !=\"\":\n",
        "        g.add((URIRef(d+icRec), cito.citesForInformation, URIRef(info)))\n",
        "        g.add((URIRef(info), RDF.type, crm.E73_Information_Object))\n",
        "\n",
        "# idea: aggiungere colonna type dove si indica, se presente, il link AAT con la voce del tipo di oggetto corrispondente es: cloth\n",
        "# print(g.serialize(format=\"turtle\").decode(UTF-8))\n",
        "# g.serialize(destination = \"Output4.ttl\", format=\"turtle\")"
      ]
    },
    {
      "cell_type": "code",
      "execution_count": null,
      "metadata": {
        "id": "xsYgq6COjuzG"
      },
      "outputs": [],
      "source": [
        "\n",
        "\n",
        "def part_of(list1, list2, file):\n",
        "  for row in file:\n",
        "    for name in list1:\n",
        "      img = row[name+\"_uri\"][0]\n",
        "      for invenzione in list2:\n",
        "        lineInv = row[invenzione+\"_uri\"]\n",
        "        for inv in lineInv:\n",
        "          if img !=\"\" and inv !=\"\":\n",
        "            if invenzione == \"Story\":\n",
        "              g.add((URIRef(d+\"story/\"+inv), icon.composedOf, URIRef(d+img)))\n",
        "\n",
        "            if invenzione == \"Allegory\":\n",
        "              g.add((URIRef(d+\"allegory/\"+inv), icon.composedOf, URIRef(d+img)))\n",
        "\n",
        "            if invenzione == \"Invenzione\":\n",
        "              g.add((URIRef(d+\"inv/\"+inv), icon.composedOf, URIRef(d+img)))\n",
        "\n",
        "            elif invenzione == \"Composition\":\n",
        "              g.add((URIRef(d+inv), icon.partOf, URIRef(d+img)))\n",
        "            elif invenzione == \"IDext\":\n",
        "              id = d+\"OBJ\"+img\n",
        "              relation = row[\"TypeOfRelation\"][0]\n",
        "\n",
        "              g.add((URIRef(id), relDict[relation], URIRef(d+inv))) # da capire se è utile e nel caso come inserire la variabile dei tipi di relazione"
      ]
    },
    {
      "cell_type": "code",
      "execution_count": null,
      "metadata": {
        "id": "uNzIuNY5Q4qo"
      },
      "outputs": [],
      "source": [
        "img_list = [\"Character\", \"Place\", \"Event\", \"NamedObject\", \"Symbol\", \"Personification\"]\n",
        "inv_list = [\"Story\", \"Allegory\", \"Invenzione\"]\n",
        "\n",
        "comp_list = [\"Composition\"]\n",
        "am_list = [\"ArtisticMotif\"]\n",
        "\n",
        "art_list = [\"ID\"]\n",
        "ext_list = [\"IDext\"]\n",
        "\n",
        "img_invenzione = part_of(img_list, inv_list, level2_cleaned)"
      ]
    },
    {
      "cell_type": "markdown",
      "metadata": {
        "id": "hRuadBOwM0EX"
      },
      "source": [
        "## Simulation"
      ]
    },
    {
      "cell_type": "code",
      "execution_count": null,
      "metadata": {
        "id": "eL4CIMIrQiYy"
      },
      "outputs": [],
      "source": [
        "# simulation\n",
        "\n",
        "for line in simulation_cleaned:\n",
        "  name = line[\"Subject_uri\"][0]\n",
        "  nameLabel = line[\"Subject\"][0]\n",
        "  lineSimulacrum = line[\"Simulacrum_uri\"]\n",
        "  lineSimulacrumLabel = line[\"Simulacrum\"]\n",
        "  lineRealityCounterpart = line[\"RealityCounterpart_uri\"]\n",
        "  lineRealityLabel = line[\"RealityCounterpart\"]\n",
        "  type_uri = line[\"Type_uri\"][0]\n",
        "  typeLabel = line[\"Type\"][0]\n",
        "  lineContext = line[\"Context_uri\"]\n",
        "  lineContextLabel = line[\"Context\"]\n",
        "  lineEvidence = line[\"Source_uri\"]\n",
        "  evidenceSpecificLocation = line[\"SourceSpecificLocation_uri\"][0]\n",
        "  evidenceSpecificLocationLabel = line[\"SourceSpecificLocation\"][0]\n",
        "  lineEvidenceLink = line[\"SourceLink\"]\n",
        "\n",
        "  if name != \"\":\n",
        "    g.add((URIRef(d+name), RDF.type, sim.Simulation))\n",
        "    g.add((URIRef(d+name), RDFS.label, Literal(nameLabel)))\n",
        "    g.add((sim.Simulation, RDFS.label, Literal(\"Simulation\")))\n",
        "\n",
        "    for simulacrum in lineSimulacrum:\n",
        "      if simulacrum !=\"\":\n",
        "        g.add((URIRef(d+name), sim.hasSimulacrum, URIRef(d+simulacrum)))\n",
        "        g.add((URIRef(d+simulacrum), RDF.type, sim.Simulacrum))\n",
        "        for simulacrumLabel in lineSimulacrumLabel:\n",
        "          if not ((URIRef(d+simulacrum), RDFS.label, None)) in g:\n",
        "\n",
        "           g.add((URIRef(d+simulacrum), RDFS.label, Literal(simulacrumLabel)))\n",
        "\n",
        "    for reality in lineRealityCounterpart:\n",
        "      if reality != \"\":\n",
        "        g.add((URIRef(d+name), sim.hasRealityCounterpart, URIRef(d+reality)))\n",
        "        g.add((URIRef(d+reality), RDF.type, sim.RealityCounterpart))\n",
        "        for realityLabel in lineRealityLabel:\n",
        "          if not ((URIRef(d+reality), RDFS.label, None)) in g:\n",
        "            g.add((URIRef(d+reality), RDFS.label, Literal(realityLabel)))\n",
        "\n",
        "    g.add((URIRef(d+name), sim.hasSimulationType, URIRef(d+type_uri)))\n",
        "    g.add((URIRef(d+type_uri), RDFS.label, Literal(typeLabel)))\n",
        "\n",
        "    for context in lineContext:\n",
        "      if context != \"\":\n",
        "        g.add((URIRef(d+name), sim.hasSimulationContext, URIRef(d+context)))\n",
        "        i = lineContext.index(context)\n",
        "        g.add((URIRef(d+context), RDFS.label, Literal(lineContextLabel[i])))\n",
        "\n",
        "    for evid in lineEvidence:\n",
        "      if evid !=\"\":\n",
        "        if \"http\" in str(evid):\n",
        "          evidence = evid\n",
        "          #i = lineEvidence.index(evid)\n",
        "          #evidence = lineEvidenceLabel[i]\n",
        "        elif \"art\" in str(evid):\n",
        "          evidence = d+evid.upper()\n",
        "        else:\n",
        "          evidence = d+evid\n",
        "        if evidenceSpecificLocation !=\"\":\n",
        "          if \"http\" not in str(evidenceSpecificLocation):\n",
        "            g.add((URIRef(d+name), cito.citesAsEvidence, URIRef(evidence+\"-\"+evidenceSpecificLocation)))\n",
        "            g.add((URIRef(evidence), crm.P106_is_composed_of, URIRef(evidence+\"-\"+evidenceSpecificLocation)))\n",
        "            g.add((URIRef(evidence+\"-\"+evidenceSpecificLocation), RDFS.label, Literal(evidenceSpecificLocationLabel)))\n",
        "          else:\n",
        "            g.add((URIRef(evidence), crm.P106_is_composed_of, URIRef(evidenceSpecificLocation)))\n",
        "            g.add((URIRef(d+name), cito.citesAsEvidence, URIRef(evidenceSpecificLocation)))\n",
        "        g.add((URIRef(d+name), cito.citesAsEvidence, URIRef(evidence)))\n",
        "\n",
        "\n",
        "\n",
        "# g.serialize(destination = \"OutputSimulation3.ttl\", format=\"turtle\")"
      ]
    },
    {
      "cell_type": "markdown",
      "metadata": {
        "id": "GMXBdl1Bisze"
      },
      "source": [
        "# Level 3"
      ]
    },
    {
      "cell_type": "code",
      "execution_count": null,
      "metadata": {
        "id": "nK5a_qFROrTN"
      },
      "outputs": [],
      "source": [
        "# multiple art codes in column artwork\n",
        "# tbd: add automatic uri generation for cf\n",
        "for line in level3_cleaned:\n",
        "  count = str(line[\"Count\"][0])\n",
        " # lineSupporting = line[\"has\"]\n",
        "  lineSupportTo = line[\"GivesSupportToInterpretation\"]\n",
        "  lineArtwork = line[\"Artwork\"]\n",
        "  concept = line[\"Concept_uri\"][0]\n",
        "  conceptLabel = line[\"Concept\"][0]\n",
        "  phenomenon = line[\"CulturalPhenomenon_uri\"][0]\n",
        "  phenomenonLabel = line[\"CulturalPhenomenon\"][0]\n",
        "  lineHasAm = line[\"ArtisticMotif\"]\n",
        "  lineHasComp = line[\"Composition\"]\n",
        "  lineHasImg = line[\"Image\"]\n",
        "  lineEvidence = line[\"Evidence_uri\"]\n",
        "  disagree = line[\"DisagreesWith\"][0]\n",
        "  lineEvidenceLabel = line[\"Evidence\"]\n",
        "  evidenceSpecificLocationLabel = line[\"EvidenceSpecificLocation\"][0]\n",
        "  evidenceSpecificLocation = line[\"EvidenceSpecificLocation_uri\"][0]\n",
        "  linePerson = line[\"PersonResponsible_uri\"]\n",
        "  linePersonLabel = line[\"PersonResponsible\"] # sarà da aggiungere l'uri nel dizionario delle persone\n",
        "  lineReference = line[\"InformationObject\"]\n",
        "  lineReferenceLabel = line[\"InformationObject\"]\n",
        "  lineInterpretation = line[\"Interpretation\"]\n",
        "\n",
        "\n",
        "\n",
        "\n",
        " # if len(lineArtwork) == 1:\n",
        "  for artwork in lineArtwork:\n",
        "    for interpretation in lineInterpretation:\n",
        "      if interpretation !=\"\":\n",
        "        iconolRec = artwork+\"-\"+\"ICONOLREC\"+interpretation+\"-\"+count\n",
        "        iconolDesc = artwork+\"-\"+\"DESC\"+interpretation\n",
        "        intrinsic_id = interpretation+\"-\"+count\n",
        "        intrinsic = artwork+\"-\"+\"INTRINSIC\"+interpretation+\"-\"+count\n",
        "       # intrinsic = artworkDict[artwork][\"Intrinsic\"][intrinsic_id]\n",
        "\n",
        "        for am in lineHasAm:\n",
        "          if am !=\"\" and \"AM\" not in am:\n",
        "            am_id = interpretation+\"-\"+am\n",
        "        for img in lineHasImg:\n",
        "          if img !=\"\" and \"IMG\" not in img:\n",
        "            img_id = interpretation+\"-\"+img\n",
        "        for comp in lineHasComp:\n",
        "          if comp !=\"\" and \"COMP\" not in comp:\n",
        "            comp_id = interpretation+\"-\"+comp\n",
        "\n",
        "      else:\n",
        "        intrinsic = artwork+\"-\"+\"INTRINSIC\"+count\n",
        "       # intrinsic = artworkDict[artwork][\"Intrinsic\"][count]\n",
        "        iconolRec = artwork+\"-\"+\"ICONOLREC\"+count\n",
        "        iconolDesc = artwork+\"-\"+\"DESC\"\n",
        "        for am in lineHasAm:\n",
        "          if am !=\"\" and \"AM\" not in am:\n",
        "            am_id = am\n",
        "        for img in lineHasImg:\n",
        "          if img !=\"\" and \"IMG\" not in img:\n",
        "            img_id = img\n",
        "        for comp in lineHasComp:\n",
        "          if comp !=\"\" and \"COMP\" not in comp:\n",
        "            comp_id = comp\n",
        "\n",
        "      g.add((URIRef(d+iconolRec), icon.aboutWorkOfArt, URIRef(d+artwork)))\n",
        "      g.add((URIRef(d+iconolRec), RDF.type, icon.IconologicalRecognition))\n",
        "      g.add((icon.IconologicalRecognition, RDFS.label, Literal(\"Iconological Recognition\")))\n",
        "      g.add((URIRef(d+iconolRec), icon.iconologicallyCompliesWith, URIRef(d+iconolDesc)))\n",
        "      g.add((URIRef(d+iconolDesc), RDF.type, icon.InterpretationDescription))\n",
        "      g.add((icon.InterpretationDescription, RDFS.label, Literal(\"Interpretation Description\")))\n",
        "      g.add((URIRef(d+iconolRec), icon.recognizedIntrinsicMeaning, URIRef(d+intrinsic)))\n",
        "      g.add((URIRef(d+intrinsic), RDF.type, icon.IntrinsicMeaning))\n",
        "      g.add((icon.IntrinsicMeaning, RDFS.label, Literal(\"Intrinsic Meaning\")))\n",
        "\n",
        "      if concept != \"\":\n",
        "        g.add((URIRef(d+intrinsic), icon.recognizedConcept, URIRef(d+concept)))\n",
        "        g.add((URIRef(d+concept), RDF.type, crm.E28_Conceptual_Object))\n",
        "        g.add((crm.E28_Conceptual_Object, RDFS.label, Literal(\"Conceptual Object\")))\n",
        "        g.add((URIRef(d+concept), RDFS.label, Literal(conceptLabel)))\n",
        "        g.add((URIRef(d+artwork), icon.iconologicallyRepresents, URIRef(d+concept)))\n",
        "\n",
        "      if phenomenon !=\"\":\n",
        "        g.add((URIRef(d+intrinsic), icon.recognizedCulturalPhenomenon, URIRef(phenomenaDict[phenomenonLabel])))\n",
        "        g.add((URIRef(phenomenaDict[phenomenonLabel]), RDF.type, icon.CulturalPhenomenon))\n",
        "        g.add((icon.CulturalPhenomenon, RDFS.label, Literal(\"Cultural Phenomenon\")))\n",
        "        g.add((URIRef(phenomenaDict[phenomenonLabel]), RDFS.label, Literal(phenomenonLabel)))\n",
        "        g.add((URIRef(d+artwork), icon.iconologicallyRepresents, URIRef(phenomenaDict[phenomenonLabel])))\n",
        "      for am in lineHasAm:\n",
        "        if am !=\"\":\n",
        "          if \"AM\" in am:\n",
        "            g.add((URIRef(d+intrinsic), icon.hasArtisticMotif, URIRef(d+am)))\n",
        "          else:\n",
        "            if am_id not in artworkDict[artwork][\"ArtisticMotif\"]:\n",
        "              print(artwork, \"has not am \", am)\n",
        "            else:\n",
        "              g.add((URIRef(d+intrinsic), icon.hasArtisticMotif, URIRef(artworkDict[artwork][\"ArtisticMotif\"][am_id])))\n",
        "      for comp in lineHasComp:\n",
        "        if comp !=\"\":\n",
        "          if \"COMP\" in comp:\n",
        "            g.add((URIRef(d+intrinsic), icon.hasComposition, URIRef(d+comp)))\n",
        "          else:\n",
        "            if comp_id not in artworkDict[artwork][\"Composition\"]:\n",
        "              print(artwork, \"has not composition \", comp_id)\n",
        "            else:\n",
        "              g.add((URIRef(d+intrinsic), icon.hasComposition, URIRef(artworkDict[artwork][\"Composition\"][comp_id])))\n",
        "      for img in lineHasImg:\n",
        "        if img !=\"\":\n",
        "          if \"IMG\" in img:\n",
        "            g.add((URIRef(d+intrinsic), icon.hasImage, URIRef(d+img)))\n",
        "          else:\n",
        "            if img_id not in artworkDict[artwork][\"Image\"]:\n",
        "              print(artwork, \"has not image \", img_id)\n",
        "            else:\n",
        "              g.add((URIRef(d+intrinsic), icon.hasImage, URIRef(artworkDict[artwork][\"Image\"][img_id])))\n",
        "\n",
        "      for support in lineSupportTo:\n",
        "        if support !=\"\":\n",
        "          g.add((URIRef(d+iconolRec), cito.givesSupportTo, URIRef(d+support)))\n",
        "      if disagree !=\"\":\n",
        "        g.add((URIRef(d+iconolRec), cito.disagreesWith, URIRef(d+disagree)))\n",
        "    #  for item in lineSupporting:\n",
        "    #    if item != \"\":\n",
        "    #     splitted = item.split(\"-\")[1]\n",
        "    #      if splitted.startswith('AM'):\n",
        "    #       g.add((URIRef(d+intrinsic), icon.hasArtisticMotif, URIRef(d+item)))\n",
        "    #     elif splitted.startswith('COMP'):\n",
        "    #       g.add((URIRef(d+intrinsic), icon.hasComposition, URIRef(d+item)))\n",
        "    #     elif splitted.startswith('IMG'):\n",
        "    #       g.add((URIRef(d+intrinsic), icon.hasImage, URIRef(d+item)))\n",
        "      for person in linePersonLabel:\n",
        "        if person !=\"\":\n",
        "          g.add((URIRef(d+iconolRec), crm.P14_carried_out_by, URIRef(peopleDict[person])))\n",
        "\n",
        "      for evid in lineEvidence:\n",
        "        if evid !=\"\":\n",
        "          if \"http\" in str(evid):\n",
        "            i = lineEvidence.index(evid)\n",
        "            evidence = lineEvidenceLabel[i]\n",
        "          elif \"art\" in str(evid):\n",
        "            evidence = d+evid.upper()\n",
        "          else:\n",
        "            evidence = d+evid\n",
        "          if evidenceSpecificLocation !=\"\":\n",
        "            if \"http\" not in str(evidenceSpecificLocation):\n",
        "              g.add((URIRef(d+iconolRec), cito.citesAsEvidence, URIRef(evidence+\"-\"+evidenceSpecificLocation)))\n",
        "              g.add((URIRef(evidence), crm.P106_is_composed_of, URIRef(evidence+\"-\"+evidenceSpecificLocation)))\n",
        "              g.add((URIRef(evidence+\"-\"+evidenceSpecificLocation), RDFS.label, Literal(evidenceSpecificLocationLabel)))\n",
        "            else:\n",
        "              g.add((URIRef(evidence), crm.P106_is_composed_of, URIRef(evidenceSpecificLocation)))\n",
        "              g.add((URIRef(d+iconolRec), cito.citesAsEvidence, URIRef(evidenceSpecificLocation)))\n",
        "          g.add((URIRef(d+iconolRec), cito.citesAsEvidence, URIRef(evidence)))\n",
        "\n",
        "      for info in lineReference:\n",
        "        if info !=\"\":\n",
        "          inf = info.strip()\n",
        "          g.add((URIRef(d+iconolRec), cito.citesForInformation, URIRef(inf)))\n",
        "          g.add((URIRef(inf), RDF.type, crm.E73_Information_Object))\n",
        "\n",
        "\n",
        "\n",
        "# print(g.serialize(format=\"turtle\").decode(UTF-8))\n",
        "# g.serialize(destination = \"lastOutput.ttl\", format=\"turtle\")"
      ]
    },
    {
      "cell_type": "markdown",
      "metadata": {
        "id": "sImh_BWQ7Lf5"
      },
      "source": [
        "# Additional details"
      ]
    },
    {
      "cell_type": "code",
      "execution_count": null,
      "metadata": {
        "id": "1G6UmqtF7KrH"
      },
      "outputs": [],
      "source": [
        "for row in levelsEntryControl_cleaned:\n",
        "  characterLabel = row[\"Character\"][0]\n",
        "  character = row[\"Character_uri\"][0]\n",
        "  broaderCharacterLabel = row[\"BroaderCharacter\"][0]\n",
        "  broaderCharacter = row[\"BroaderCharacter_uri\"][0]\n",
        "  sameAsCharacter = row[\"sameAsCharacter_uri\"][0]\n",
        "  sameAsCharacterLabel = row[\"sameAsCharacter\"][0]\n",
        "  typeCharacter = row[\"typeCharacter\"] # these are links\n",
        "  # story\n",
        "  storyLabel = row[\"PartOfStory\"][0]\n",
        "  story = row[\"PartOfStory_uri\"][0]\n",
        "  broaderStoryLabel = row[\"BroaderStory\"][0]\n",
        "  broaderStory = row[\"BroaderStory_uri\"][0]\n",
        "  storyCategoryLabel = row[\"StoryCategoryLabel\"][0]\n",
        "  storyCategoryUri = row[\"StoryCategoryLabel_uri\"][0]\n",
        "  storyCategory = row[\"StoryCategory\"][0]\n",
        "  #cultural phenomena\n",
        "  cfID = row[\"CulturalPhenomenonID\"][0]\n",
        "  cfTypeLabel = row[\"CulturalPhenomenonType\"]\n",
        "  cfType = row[\"CulturalPhenomenonType_uri\"]\n",
        "\n",
        "# types of characters, stories and cultural phenomena ; broader concepts\n",
        "\n",
        "  if character != \"\":\n",
        "    g.add((URIRef(d+character), RDF.type, icon.Character))\n",
        "    g.add((icon.Character, RDFS.label, Literal(\"Character\")))\n",
        "    if broaderCharacter != \"\":\n",
        "      g.add((URIRef(d+character), skos.broader, URIRef(d+broaderCharacter)))\n",
        "      g.add((URIRef(d+broaderCharacter), RDFS.label, Literal(broaderCharacterLabel)))\n",
        "    if sameAsCharacter != \"\":\n",
        "      g.add((URIRef(d+character), owl.sameAs, URIRef(d+sameAsCharacter)))\n",
        "      g.add((URIRef(d+sameAsCharacter), RDFS.label, Literal(sameAsCharacterLabel)))\n",
        "    for t in typeCharacter:\n",
        "      if t != \"\":\n",
        "        g.add((URIRef(d+character), crm.P2_has_type, URIRef(t)))\n",
        "  if story !=\"\":\n",
        "    g.add((URIRef(d+\"story/\"+story), RDF.type, icon.Story))\n",
        "    g.add((icon.Story, RDFS.label, Literal(\"Story\")))\n",
        "    if broaderStory != \"\":\n",
        "      g.add((URIRef(d+\"story/\"+story), skos.broader, URIRef(d+\"story/\"+broaderStory)))\n",
        "      g.add((URIRef(d+\"story/\"+broaderStory), RDFS.label, Literal(broaderStoryLabel)))\n",
        "    if storyCategory != \"\":\n",
        "      g.add((URIRef(d+\"story/\"+story), crm.P2_has_type, URIRef(storyCategory)))\n",
        "      g.add((URIRef(storyCategory), RDFS.label, Literal(storyCategoryLabel)))\n",
        "      g.add((URIRef(storyCategory), RDF.type, crm.E55_Type))\n",
        "    if storyCategory == \"\" and storyCategoryLabel !=\"\":\n",
        "      g.add((URIRef(d+\"story/\"+story), skos.broader, URIRef(d+\"story/\"+storyCategoryUri)))\n",
        "      g.add((URIRef(d+\"story/\"+storyCategoryUri), RDFS.label, Literal(storyCategoryLabel)))\n",
        "      g.add((URIRef(d+\"story/\"+storyCategoryUri), RDF.type, crm.E55_Type))\n",
        "  if cfID !=\"\":\n",
        "    for t in cfType:\n",
        "      if t !=\"\":\n",
        "        g.add((URIRef(d+cfID), crm.P2_has_type, URIRef(d+t)))\n",
        "        i = cfType.index(t)\n",
        "        g.add((URIRef(d+t), RDFS.label, Literal(cfTypeLabel[i])))\n",
        "        g.add((URIRef(d+t), RDF.type, crm.E55_Type))\n",
        "\n",
        "# character types\n",
        "for row in character_wd_cleaned:\n",
        "  character = row[\"Name\"][0]\n",
        "  lineWdCategory = row[\"WikidataBroader\"]\n",
        "  lineWdLabel = row[\"BroaderLabel\"]\n",
        "\n",
        "  for wd in lineWdCategory:\n",
        "    if wd !=\"\":\n",
        "      i = lineWdCategory.index(wd)\n",
        "      print(character, wd, i)\n",
        "      wd_label = lineWdLabel[i]\n",
        "      g.add((URIRef(wd), RDFS.label, Literal(wd_label)))\n"
      ]
    },
    {
      "cell_type": "markdown",
      "metadata": {
        "id": "cKmeAeP0qhsJ"
      },
      "source": [
        "# Interpretations details"
      ]
    },
    {
      "cell_type": "code",
      "execution_count": null,
      "metadata": {
        "id": "QxwqvERZqkyU"
      },
      "outputs": [],
      "source": [
        "\n",
        "for line in interpretations_cleaned:\n",
        "  date = line[\"Date\"][0]\n",
        "  interpretation = line[\"IDCount\"][0]\n",
        "  artwork = line[\"Artwork\"][0]\n",
        "  desc_id = d+artwork+\"-\"+\"DESC\"+interpretation\n",
        " # preic = d+artwork+\"-\"+\"PREICDESC\"+interpretation\n",
        " # ic = d+artwork+\"-\"+\"ICDESC\"+interpretation\n",
        " # iconol = d+artwork+\"-\"+\"ICONOLDESC\"+interpretation\n",
        "  personList = line[\"PersonResponsible\"]\n",
        "# Notes\n",
        " # possible_list = [preic, ic, iconol] # we add the details directly to the descriptions already existing\n",
        " # for candidate in possible_list:\n",
        "  if (desc_id, None, None) in g:\n",
        "    if date !=\"\":\n",
        "      g.add((URIRef(desc_id), crm.P3_has_note, Literal(\"datation: \"+str(date))))\n",
        "\n",
        "\n"
      ]
    },
    {
      "cell_type": "markdown",
      "metadata": {
        "id": "_eLSEHEivs3j"
      },
      "source": [
        "# Books conversion to triples"
      ]
    },
    {
      "cell_type": "code",
      "execution_count": null,
      "metadata": {
        "id": "eO9XdxYXvwDh"
      },
      "outputs": [],
      "source": [
        "for line in books_cleaned:\n",
        "  ID = line[\"ID\"][0]\n",
        "  label = line[\"TitleForCheckingDuplicates\"][0]\n",
        "  production = d+\"PROD\"+ID\n",
        "  objType = line[\"ObjectType\"][0]\n",
        "  signature\t= line[\"Signature\"][0]\n",
        "  signature_uri = line[\"Signature_uri\"][0]\n",
        "  contentID = line[\"ContentID\"][0]\n",
        "  lineEditor = line[\"EditorOrPrinter\"]\n",
        "  date = line[\"Date\"][0]\n",
        "  date_uri = line[\"Date_uri\"][0]\n",
        "  dateCertainty = line[\"DateCertainty\"][0]\n",
        "  place = line[\"Object PlaceOfProduction\"][0]\n",
        "  description = line[\"Description\"][0]\n",
        "  # lineLink = line[\"Link\"]\n",
        "  # e22 production e place sono specificati nella tab artwork\n",
        "  if ID != \"\":\n",
        "    if (None, None, URIRef(d+ID)) in g:\n",
        "      print(ID)\n",
        "      g.add((URIRef(d+ID), RDF.type, crm.E22_Human_Made_Object))\n",
        "      g.add((URIRef(d+ID),  RDFS.label, Literal(label)))\n",
        "      if objType != \"\":\n",
        "        g.add((URIRef(d+ID), crm.P2_has_type, URIRef(typeDict[objType])))\n",
        "        g.add((URIRef(typeDict[objType]), RDFS.label, Literal(objType)))\n",
        "        g.add((URIRef(typeDict[objType]), crm.P2_has_type, URIRef(\"http://vocab.getty.edu/page/aat/300028051\")))\n",
        "      else:\n",
        "        g.add((URIRef(d+ID), crm.P2_has_type, URIRef(\"http://vocab.getty.edu/page/aat/300028051\")))\n",
        "\n",
        "      if signature != \"\":\n",
        "        g.add((URIRef(d+ID), crm.P1_is_identified_by, URIRef(d+signature_uri)))\n",
        "        g.add((URIRef(d+signature_uri), RDF.type, crm.E42_Identifier))\n",
        "        g.add((URIRef(d+signature_uri), RDFS.label, Literal(signature)))\n",
        "      if contentID !=\"\" and contentID  != \"#N/A\":\n",
        "        g.add((URIRef(d+ID), crm.P128_carries, URIRef(d+contentID)))\n",
        "  #    for author in lineAuthor:\n",
        "  #      if author !=\"\":\n",
        "  #        if title !=\"\":\n",
        "  #          text = \"_\".join(lineAuthor).replace(\" \", \"_\").lower().strip()+\"-\"+title_uri\n",
        "  #          production = d+\"PROD\"+text\n",
        "  #          g.add((URIRef(d+ID), crm.P128_carries, URIRef(d+text)))\n",
        "  #          g.add((URIRef(d+text), crm.P102_has_title, URIRef(d+title_uri)))\n",
        "  #          g.add((URIRef(d+title_uri),  RDF.type, crm.E35_Title))\n",
        "  #          g.add((URIRef(d+title_uri),  RDFS.label, Literal(title)))\n",
        "  #         g.add((URIRef(d+text), RDF.type, crm.E73_Information_Object))\n",
        "  #         g.add((URIRef(production), crm.P94_has_created, URIRef(d+text)))\n",
        "  #         g.add((URIRef(production), RDF.type, crm.E65_Creation))\n",
        "  #         g.add((URIRef(production), crm.P14_carried_out_by, URIRef(peopleDict[author])))\n",
        "\n",
        "        if date !=\"\":\n",
        "          g.add((URIRef(production), crm.P4_has_time_span, URIRef(d+date_uri)))\n",
        "          if dateCertainty == \"c.\":\n",
        "            g.add((URIRef(d+date), crm.P79_beginning_is_qualified_by, URIRef(d+\"circa\")))\n",
        "            g.add((URIRef(d+date), crm.P80_end_is_qualified_by, URIRef(d+\"circa\")))\n",
        "            g.add((URIRef(d+\"circa\"), RDFS.label, Literal(\"ca.\")))\n",
        "            g.add((URIRef(d+\"circa\"), RDF.type, crm.E62_String))\n",
        "\n",
        "        if place !=\"\":\n",
        "          g.add((URIRef(production), crm.P7_took_place_at, URIRef(placesDict[\"Cities\"][place])))\n",
        "  #   if lineAuthor ==\"\" and title !=\"\":\n",
        "  #     g.add((URIRef(d+ID), crm.P102_has_title, URIRef(d+title_uri)))\n",
        "      if description != \"\":\n",
        "        g.add((URIRef(production), RDFS.comment, Literal(description)))"
      ]
    },
    {
      "cell_type": "markdown",
      "metadata": {
        "id": "TCy_wfzHwBqX"
      },
      "source": [
        "## Books content conversion to triples"
      ]
    },
    {
      "cell_type": "code",
      "execution_count": null,
      "metadata": {
        "id": "VuCnhP4FwFfg"
      },
      "outputs": [],
      "source": [
        "\n",
        "for line in booksContent_cleaned:\n",
        "  ID = line[\"ID\"][0]\n",
        "  label = line[\"TitleForCheckingDuplicates\"][0]\n",
        "  production = d+\"PROD\"+ID\n",
        "  lineAuthor\t= line[\"ObjectAuthor\"]\n",
        "  title\t= line[\"Title\"][0]\n",
        "  title_uri\t= line[\"Title_uri\"][0]\n",
        "\n",
        "  # lineLink = line[\"Link\"]\n",
        "  # e22 production e place sono specificati nella tab artwork\n",
        "  if ID != \"\":\n",
        "    if (None, None, URIRef(d+ID)) in g:\n",
        "      print(ID)\n",
        "      g.add((URIRef(d+ID), RDF.type, crm.E73_Information_Object))\n",
        "      g.add((crm.E73_Information_Object,  RDFS.label, Literal(\"Information Object\")))\n",
        "      g.add((URIRef(d+ID),  RDFS.label, Literal(label)))\n",
        "      for author in lineAuthor:\n",
        "        if author !=\"\":\n",
        "          g.add((URIRef(production), crm.P94_has_created, URIRef(d+ID)))\n",
        "          g.add((URIRef(production), RDF.type, crm.E65_Creation))\n",
        "          g.add((URIRef(production), crm.P14_carried_out_by, URIRef(peopleDict[author])))\n",
        "\n",
        "      if title !=\"\":\n",
        "        g.add((URIRef(d+ID), crm.P102_has_title, URIRef(d+title_uri)))\n",
        "        g.add((URIRef(d+\"/title/\"+title_uri),  RDF.type, crm.E35_Title))\n",
        "        g.add((URIRef(d+\"/title/\"+title_uri),  RDFS.label, Literal(title)))"
      ]
    },
    {
      "cell_type": "markdown",
      "metadata": {
        "id": "WI103Pzga8uo"
      },
      "source": [
        "# People conversion to triples"
      ]
    },
    {
      "cell_type": "code",
      "execution_count": null,
      "metadata": {
        "id": "_uC2Zu0ga9E1"
      },
      "outputs": [],
      "source": [
        "for line in people_cleaned:\n",
        "  lineName = line[\"Name\"][0] # cambia mettendo key_uri\n",
        " # print(lineName, peopleDict[lineName])\n",
        "  role = line[\"Role\"][0]\n",
        "  role_uri = line[\"Role_uri\"][0]\n",
        "  roleLabel = line[\"Role\"][0]\n",
        "  time = line[\"Date\"][0]\n",
        " # certainty = line[\"Date\"][0] # da aggiungere al csv\n",
        "  roleInTime = role_uri+time\n",
        "  groupLabel = line[\"Group\"][0]\n",
        "  groupLink = line[\"GroupLink\"][0]\n",
        "  group = line[\"Group_uri\"][0]\n",
        "#  if (peopleDict[lineName], None, None) not in g:\n",
        " #   del peopleDict[lineName] # after this point, the dictionary will contain only the selected people. Run the multiple reconciliation after this cell.\n",
        "  if (None, None, URIRef(peopleDict[lineName])) in g: # we filter out names that are in the spreadsheet not related to the selected artworks\n",
        "    g.add((URIRef(peopleDict[lineName]), RDFS.label, Literal(lineName)))\n",
        "    print(lineName)\n",
        "    if lineName.endswith(\"School\") or lineName.startswith(\"School\"):\n",
        "      g.add((URIRef(peopleDict[lineName]), RDF.type, crm.E39_Group))\n",
        "    else:\n",
        "      g.add((URIRef(peopleDict[lineName]), RDF.type, crm.E21_Person))\n",
        "      g.add((crm.E21_Person, RDFS.label, Literal(\"Person\")))\n",
        "\n",
        "    if role != \"\" and time !=\"\":\n",
        "      g.add((URIRef(peopleDict[lineName]), pro.holdsRoleInTime, URIRef(d+roleInTime)))\n",
        "      g.add((URIRef(d+roleInTime), RDF.type, pro.RoleInTime))\n",
        "      g.add((URIRef(d+roleInTime), RDFS.label, Literal(roleLabel+\"-\"+time)))\n",
        "      g.add((URIRef(d+roleInTime), pro.withRole, URIRef(d+role_uri)))\n",
        "      g.add((URIRef(d+role_uri), RDFS.label, Literal(roleLabel)))\n",
        "      g.add((URIRef(d+role_uri), RDF.type, pro.Role))\n",
        "      g.add((URIRef(d+roleInTime), crm.P4_has_time_span, URIRef(d+time)))\n",
        "      g.add((URIRef(d+time), RDF.type, crm.E52_Time_Span))\n",
        "   # startDate = dateDict[time][0]\n",
        "   # endDate = dateDict[time][1]\n",
        "   # g.add((URIRef(d+time), crm.P82a_begin_of_the_begin, Literal(startDate)))\n",
        "   # g.add((URIRef(d+time), crm.P82b_end_of_the_end, Literal(endDate)))\n",
        "\n",
        "\n",
        "#  if certainty == \"c.\":\n",
        " #   g.add((URIRef(d+lineDate), crm.P79_beginning_is_qualified_by, Literal(\"ca.\")))\n",
        " #   g.add((URIRef(d+lineDate), crm.P80_end_is_qualified_by, Literal(\"ca.\")))\n",
        "\n",
        "\n",
        "    if groupLabel != \"\":\n",
        "      if groupLink != \"\":\n",
        "        g.add((URIRef(groupLink), crm.P107_has_current_or_former_member, URIRef(peopleDict[lineName])))\n",
        "        g.add((URIRef(groupLink), RDF.type, crm.E74_Group))\n",
        "        g.add((URIRef(groupLink), RDFS.label, Literal(groupLabel)))\n",
        "  #  elif groupLink == \"\":\n",
        "   #   newLink = d+\"people/\"+group\n",
        "   #   g.add((URIRef(newLink), crm.P107_has_current_or_former_member, URIRef(peopleDict[lineName])))\n",
        "    #  g.add((URIRef(newLink), RDF.type, crm.E74_Group))\n",
        "\n",
        "# g.serialize(destination = \"Output.ttl\", format=\"turtle\")"
      ]
    },
    {
      "cell_type": "markdown",
      "metadata": {
        "id": "WQKNB4SSyh-Y"
      },
      "source": [
        "# Places conversion to triples"
      ]
    },
    {
      "cell_type": "code",
      "execution_count": null,
      "metadata": {
        "id": "IC2U_QkHVl5T"
      },
      "outputs": [],
      "source": [
        "# triples\n",
        "for line in places_cleaned:\n",
        "  institution_uri = line[\"Institution_uri\"][0]\n",
        "  institutionLink = line[\"InstitutionLink\"][0]\n",
        "  institution = line[\"Institution\"][0]\n",
        "  institutionType = line[\"InstitutionType\"][0]\n",
        "  city = line[\"CityOrRegion\"][0]\n",
        "  city_uri = line[\"CityOrRegion_uri\"][0]\n",
        "  cityLink = line[\"CityLink\"][0]\n",
        "  country = line[\"Country\"][0]\n",
        "  country_uri = line[\"Country_uri\"][0]\n",
        "  countryLink = line[\"CountryLink\"][0]\n",
        "\n",
        "  if institution !=\"\" and city !=\"\" and (None, None, URIRef(placesDict[\"Cities Institutions\"][city][institution][0])) in g:\n",
        " # if city in g or country in g or institution in g:\n",
        "    print(\"institution: \", placesDict[\"Cities Institutions\"][city][institution][0])\n",
        "    if institution !=\"\" and city !=\"\":\n",
        "      #newUri = d+\"places/\"+city_uri+\"-\"+institution_uri\n",
        "      g.add((URIRef(placesDict[\"Cities Institutions\"][city][institution][0]), RDF.type, crm.E53_Place)) # le collections possono essere sia un place che un curated holding?\n",
        "      g.add((URIRef(placesDict[\"Cities Institutions\"][city][institution][0]), RDFS.label, Literal(institution+\", \"+city)))\n",
        "      if institutionType == \"Collection\":\n",
        "        collectionUri = d+\"collection/\"+city_uri+\"-\"+institution_uri\n",
        "        g.add((URIRef(collectionUri), RDF.type, crm.E78_Curated_Holding)) # le collections possono essere sia un place che un curated holding?\n",
        "        g.add((URIRef(collectionUri), RDFS.label, Literal(institution)))\n",
        "        g.add((URIRef(collectionUri), crm.P53_has_current_or_former_location, URIRef(placesDict[\"Cities Institutions\"][city][institution][0])))\n",
        "        if collectionUri not in placesDict[\"Cities Institutions\"][city][institution]:\n",
        "          placesDict[\"Cities Institutions\"][city][institution].append(collectionUri)\n",
        "      elif institutionType == \"Museum\":\n",
        "        museumUri = d+\"museum/\"+city_uri+\"-\"+institution_uri\n",
        "        g.add((URIRef(museumUri), RDF.type, crm.E74_Group))\n",
        "        g.add((URIRef(museumUri), RDFS.label, Literal(institution)))\n",
        "        g.add((URIRef(museumUri), crm.P53_has_current_or_former_location, URIRef(placesDict[\"Cities Institutions\"][city][institution][0])))\n",
        "        if museumUri not in placesDict[\"Cities Institutions\"][city][institution]:\n",
        "          placesDict[\"Cities Institutions\"][city][institution].append(museumUri)\n",
        "\n",
        "        g.add((URIRef(placesDict[\"Cities Institutions\"][city][institution][0]), crm.P89_falls_within, URIRef(placesDict[\"Cities\"][city])))\n",
        "        g.add((URIRef(placesDict[\"Cities\"][city]), RDFS.label, Literal(city)))\n",
        "        if country !=\"\":\n",
        "          g.add((URIRef(placesDict[\"Cities Institutions\"][city][institution][0]), crm.P89_falls_within, URIRef(placesDict[\"Countries\"][country])))\n",
        "        # g.add((URIRef(placesDict[\"Cities\"][city+\"_institution\"][institution][0]), crm.P89_falls_within, URIRef(placesDict[\"Countries\"][country])))\n",
        "          g.add((URIRef(placesDict[\"Cities\"][city]), crm.P89_falls_within, URIRef(placesDict[\"Countries\"][country])))\n",
        "          g.add((URIRef(placesDict[\"Countries\"][country]), RDFS.label, Literal(country)))\n",
        "  else:\n",
        "    if city !=\"\" and (None, None, URIRef(placesDict[\"Cities\"][city])) in g:\n",
        "      print(\"city: \", placesDict[\"Cities\"][city])\n",
        "      if country !=\"\":\n",
        "        g.add((URIRef(placesDict[\"Cities\"][city]), crm.P89_falls_within, URIRef(placesDict[\"Countries\"][country])))\n",
        "      g.add((URIRef(placesDict[\"Cities\"][city]), RDFS.label, Literal(city)))\n",
        "      g.add((URIRef(placesDict[\"Cities\"][city]), RDF.type, crm.E53_Place))\n",
        "    if country !=\"\" and (None, None, URIRef(placesDict[\"Countries\"][country])) in g:\n",
        "      print(\"country: \", placesDict[\"Countries\"][country])\n",
        "      g.add((URIRef(placesDict[\"Countries\"][country]), RDF.type, crm.E53_Place))\n",
        "      g.add((URIRef(placesDict[\"Countries\"][country]), RDFS.label, Literal(country)))\n",
        "print(placesDict[\"Cities Institutions\"])"
      ]
    },
    {
      "cell_type": "markdown",
      "metadata": {
        "id": "dmR40ivUhihm"
      },
      "source": [
        "# Dates conversion to triples"
      ]
    },
    {
      "cell_type": "code",
      "execution_count": null,
      "metadata": {
        "id": "sY2PIy5ghlGD"
      },
      "outputs": [],
      "source": [
        "# we add the triples regarding the dates in the dictionary\n",
        "\n",
        " # keys.replace(\" \", \"-\").lower().strip()\n",
        "for dateName in dateDict:\n",
        "  keys = text_to_uri([dateName]) # input e output: lista con un solo valore\n",
        "  for key in keys:\n",
        "    if (URIRef(d+key), None, None) in g:\n",
        "      print(key)\n",
        "      g.add((URIRef(d+key), RDF.type, crm.E52_Time_Span))\n",
        "      g.add((URIRef(d+key), RDFS.label, Literal(dateName)))\n",
        "      startDate = dateDict[dateName][0]\n",
        "      endDate = dateDict[dateName][1]\n",
        "      g.add((URIRef(d+key), crm.P82a_begin_of_the_begin, Literal(startDate)))\n",
        "      g.add((URIRef(d+key), crm.P82b_end_of_the_end, Literal(endDate)))\n",
        "\n",
        "# g.serialize(destination = \"OutputDate2.ttl\", format=\"turtle\")"
      ]
    },
    {
      "cell_type": "markdown",
      "metadata": {
        "id": "6dLMxfbCr1BS"
      },
      "source": [
        "# Addition of reconciled terms"
      ]
    },
    {
      "cell_type": "code",
      "source": [
        "# list of dictionaries to add a reconciliation\n",
        "to_rec_dict_list = [peopleDict, characterDict, naturalElementDict, expressionalQualityDict, qualityDict, actionDict, placeDict, eventDict, symbolDict, personificationDict, storyDict, allegoryDict, invenzioneDict]\n"
      ],
      "metadata": {
        "id": "NUPoPNPGORFr"
      },
      "execution_count": null,
      "outputs": []
    },
    {
      "cell_type": "code",
      "source": [
        "# check that the links are ok\n",
        "\n",
        "def clean_rec_icon(rec_list):\n",
        "  for rec in rec_list: # for dictionary in the dictionary list\n",
        "    for key in rec:\n",
        "      if key.endswith(\" rec\"):\n",
        "        for link in rec[key]:\n",
        "          if link.startswith(\"https://iconclass.org/\"):\n",
        "            if \" \" in link:\n",
        "              new = link.replace(\" \", \"%20\")\n",
        "              rec[key].remove(link)\n",
        "              rec[key].append(new)\n",
        "\n",
        "  return rec_list\n",
        "\n",
        "clear_icon = clean_rec_icon(to_rec_dict_list)"
      ],
      "metadata": {
        "id": "3MaWqi8lGHBp"
      },
      "execution_count": null,
      "outputs": []
    },
    {
      "cell_type": "code",
      "execution_count": null,
      "metadata": {
        "id": "iIjaOiyxqN4a"
      },
      "outputs": [],
      "source": [
        "#g = Graph()\n",
        "# input dictionary: all the dictionaries for multiple reconciliation, with \"<name> rec\" keys\n",
        "def reconciled_triples_addition(dictionary, g):\n",
        "  for name in dictionary:\n",
        "    if not name.endswith(\" rec\"):\n",
        "      if (URIRef(dictionary[name]), None, None) in g: # if the internal link is already in the graph\n",
        "        name_rec = name+\" rec\"\n",
        "        if dictionary[name_rec] != []: # if there are reconciled terms\n",
        "          for reconciled in dictionary[name_rec]:\n",
        "            g.add((URIRef(dictionary[name]), owl.sameAs, URIRef(reconciled)))\n",
        "  return g\n"
      ]
    },
    {
      "cell_type": "code",
      "execution_count": null,
      "metadata": {
        "id": "UMCIr5Zbf8lJ"
      },
      "outputs": [],
      "source": [
        "to_rec_dict_list = [peopleDict, characterDict, naturalElementDict, expressionalQualityDict, qualityDict, actionDict, placeDict, eventDict, symbolDict, personificationDict, storyDict, allegoryDict, invenzioneDict]\n",
        "\n",
        "for dic in to_rec_dict_list:\n",
        "  rec = reconciled_triples_addition(dic, g)"
      ]
    },
    {
      "cell_type": "markdown",
      "metadata": {
        "id": "1eixyOkCwEV-"
      },
      "source": [
        "# Inverse properties"
      ]
    },
    {
      "cell_type": "code",
      "execution_count": null,
      "metadata": {
        "id": "eHOMA_Lbxxce"
      },
      "outputs": [],
      "source": [
        "inverse_prop_dict = {\"associatedForm\":\t\"isPureFormOf\", \"hasCompositionalStructure\":\t\"isCompositionalStructureOf\", \"hasExpressionalMeaning\":\t\"isExpressionalMeaningOf\", \"hasFactualMeaning\":\t\"isFactualMeaningOf\", \"hasPart\":\t\"partOf\", \"hasPrototyicalMotif\":\t\"isPrototypicalMotifOf\", \"hasCopiedMotif\":\t\"isCopiedMotifOf\", \"recognizedComposition\":\t\"isRecognizedCompositionOf\", \"recognizedArtisticMotif\":\t\"isRecognizedArtisticMotifOf\", \"hasCharacter\":\t\"isCharacterOf\", \"hasEvent\":\t\"isEventOf\", \"hasNamedObject\":\t\"isNamedObjectOf\", \"hasPersonification\":\t\"isPersonificationOf\", \"hasPlace\":\t\"isPlaceOf\", \"hasSymbol\":\t\"isSymbolOf\", \"recognizedInvenzione\":\t\"isRecognOf\", \"hasRecAttribute\":\t\"isRecAttributeOf\", \"refersToArtisticMotif\" : \"isIconogrphicallyReferredBy\", \"recognizedImage\":\t\"isIconographicallyRecognizedBy\", \"composedOf\":\t\"takesPartIn\", \"recognizedIntrinsicMeaning\":\t\"isIntrinsicMeaningOf\", \"aboutWorkOfArt\":\t\"hasRecogniton\", \"hasArtsticMotif\":\t\"isArtisticMotifOf\", \"hasComposition\":\t\"isCompositionOf\", \"hasImage\":\t\"isImageOf\", \"recognizedCulturalPhenomenon\":\t\"isCulturalPhenomenonOf\", \"recognizedConceptualObject\":\t\"isConceptualObjectOf\", \"hasInvenzione\":\t\"isInvenzioneOf\"}"
      ]
    },
    {
      "cell_type": "code",
      "execution_count": null,
      "metadata": {
        "id": "Bazg7ViVzikn"
      },
      "outputs": [],
      "source": [
        "test_dict = {\"hasFactualMeaning\":\t\"isFactualMeaningOf\"}\n",
        "for pair in inverse_prop_dict.items():\n",
        "  for s, p, o in g:\n",
        "    if (s, p, o) and p == URIRef(icon+pair[0]):\n",
        "   #   print(\"this works. Your triple is: \", s, URIRef(icon+pair[0]), o)\n",
        "    #  print(\"Inverse: \", o, URIRef(icon+pair[1]), s)\n",
        "      g.add((o, URIRef(icon+pair[1]), s))\n",
        "\n"
      ]
    },
    {
      "cell_type": "markdown",
      "metadata": {
        "id": "h0UFnyeA3bAo"
      },
      "source": [
        "# Serialization"
      ]
    },
    {
      "cell_type": "code",
      "execution_count": null,
      "metadata": {
        "colab": {
          "base_uri": "https://localhost:8080/"
        },
        "id": "XvvhZA_j78CG",
        "outputId": "eb48b721-3cbc-43d5-d2a2-72f1e302d27f"
      },
      "outputs": [
        {
          "output_type": "execute_result",
          "data": {
            "text/plain": [
              "<Graph identifier=Na15c0bbdba7243e9b19abdfb1d49a1c2 (<class 'rdflib.graph.Graph'>)>"
            ]
          },
          "metadata": {},
          "execution_count": 68
        }
      ],
      "source": [
        "g.serialize(destination = \"161023output2.ttl\", format=\"turtle\")\n",
        "g.serialize(destination = \"161023output2.rdf\", format=\"xml\")\n",
        "# v = g.serialize(format=\"xml\")"
      ]
    }
  ],
  "metadata": {
    "colab": {
      "collapsed_sections": [
        "y0eycx8aUSJP",
        "cNwtIt-jUqKG",
        "cKmeAeP0qhsJ",
        "_eLSEHEivs3j",
        "TCy_wfzHwBqX",
        "WI103Pzga8uo",
        "WQKNB4SSyh-Y",
        "dmR40ivUhihm"
      ],
      "provenance": [],
      "toc_visible": true
    },
    "kernelspec": {
      "display_name": "Python 3",
      "name": "python3"
    },
    "language_info": {
      "name": "python"
    }
  },
  "nbformat": 4,
  "nbformat_minor": 0
}