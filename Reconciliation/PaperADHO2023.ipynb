{
 "cells": [
  {
   "cell_type": "markdown",
   "id": "adf5a024",
   "metadata": {},
   "source": [
    "This notebook documents the study *Do we all mean the same thing? (Un)Conventional usage of symbols in the Arts*. "
   ]
  },
  {
   "cell_type": "markdown",
   "id": "1317c80a",
   "metadata": {},
   "source": [
    "# Imports"
   ]
  },
  {
   "cell_type": "code",
   "execution_count": null,
   "id": "6fc25c97",
   "metadata": {},
   "outputs": [],
   "source": [
    "import rdflib\n",
    "from rdflib.namespace import CSVW, DC, DCAT, DCTERMS, DOAP, FOAF, ODRL2, ORG, OWL, \\\n",
    "                           PROF, PROV, RDF, RDFS, SDO, SH, SKOS, SOSA, SSN, TIME, \\\n",
    "                           VOID, XMLNS, XSD\n",
    "from rdflib import Namespace\n",
    "from rdflib import URIRef\n",
    "\n",
    "import csv\n",
    "from pymantic import sparql\n",
    "\n",
    "import json\n",
    "import csv\n",
    "\n",
    "from fuzzywuzzy import fuzz\n",
    "from fuzzywuzzy import process"
   ]
  },
  {
   "cell_type": "markdown",
   "id": "39f0feb7",
   "metadata": {},
   "source": [
    "# General functions"
   ]
  },
  {
   "cell_type": "code",
   "execution_count": null,
   "id": "1e10a11d",
   "metadata": {},
   "outputs": [],
   "source": [
    "def sparql_query_setting(query, endpoint):# set the endpoint \n",
    "  sparql = SPARQLWrapper(endpoint)\n",
    "  # set the query\n",
    "  sparql.setQuery(query)\n",
    "  # set the returned format\n",
    "  sparql.setReturnFormat(JSON)\n",
    "  # get the results\n",
    "  results = sparql.query().convert()\n",
    "  return results\n",
    "\n",
    "def fuzz_ratio_mean(name, term):\n",
    "  ratio1 = fuzz.ratio(name, term)\n",
    "  ratio2 = fuzz.partial_ratio(name, term)\n",
    "  ratio3 = fuzz.token_sort_ratio(name, term)\n",
    "  ratio4 = fuzz.WRatio(name, term)\n",
    "  mean = (ratio1+ratio2+ratio3+ratio4)/4\n",
    "  return mean\n",
    "\n",
    "# open dictionaries stored in json\n",
    "def open_json(json_file): \n",
    "  with open(json_file, mode='r', encoding=\"utf-8\") as jsonfile:\n",
    "    dictName = json.load(jsonfile)\n",
    "    return dictName\n",
    "\n",
    "# save a dictionary in json\n",
    "def store_in_json(file_name, dictName): \n",
    "  with open(file_name, mode='w', encoding=\"utf-8\") as jsonfile:\n",
    "    json.dump(dictName, jsonfile)\n"
   ]
  },
  {
   "cell_type": "markdown",
   "id": "8845516f",
   "metadata": {},
   "source": [
    "# Common lists extraction"
   ]
  },
  {
   "cell_type": "code",
   "execution_count": null,
   "id": "9cea00ee",
   "metadata": {},
   "outputs": [],
   "source": [
    "# (Bruno)"
   ]
  },
  {
   "cell_type": "markdown",
   "id": "8b6797c7",
   "metadata": {},
   "source": [
    "# Symbols in the Panofsky dataset"
   ]
  },
  {
   "cell_type": "code",
   "execution_count": null,
   "id": "61781b9f",
   "metadata": {},
   "outputs": [],
   "source": [
    "\n",
    "# symbolical meanings\n",
    "reality = open_json(\"matchrc.json\")\n",
    "\n",
    "# symbols\n",
    "simulacrum = open_json(\"matchsimulacrumnew.json\")\n",
    "\n",
    "# simulations in Panofsky. Dictionary having as key the symbolical meaning and as value the list of symbols expressing that meaning\n",
    "panofsky = open_json(\"symbols_dict.json\")\n",
    "\n",
    "# simulations in HyperReal. Dictionary having as keys symbolic meanings\n",
    "SimDict = open_json(\"simDictLabel.json\")\n",
    "\n",
    "# simulations in HyperReal. Dictionary having as keys symbols\n",
    "Simulacrum2Dict = open_json(\".json\") # remember to store the file"
   ]
  },
  {
   "cell_type": "markdown",
   "id": "4608feb3",
   "metadata": {},
   "source": [
    "Counting of how many symbols of the ones obtained by the symbol-symbolic meaning lists are present in the Panofsky dataset. \n",
    "Result: 29"
   ]
  },
  {
   "cell_type": "code",
   "execution_count": null,
   "id": "998b1e63",
   "metadata": {},
   "outputs": [],
   "source": [
    "count = 0\n",
    "matchset = set()\n",
    "for sim in panofsky.items(): \n",
    "    for r in reality: \n",
    "        for s in simulacrum: \n",
    "            if sim[0] == r: \n",
    "                for sy in sim[1]: \n",
    "                    if sy == s: \n",
    "                        print(sim[0], sy)\n",
    "                        matchset.add((sim[0], sy))\n",
    "                        count+=1\n",
    "print(count)"
   ]
  },
  {
   "cell_type": "markdown",
   "id": "248da764",
   "metadata": {},
   "source": [
    "To this result, we add further matches found with a string similarity search, for a total of 35 simulations. To do that, we compared the symbols in each source associated to common symbolic meanings and we manually selected the result that were meaningful. We repeated the operation comparing the symbolic meanings of common symbols.  "
   ]
  },
  {
   "cell_type": "code",
   "execution_count": null,
   "id": "39224fc7",
   "metadata": {},
   "outputs": [],
   "source": [
    "# comparison of symbols having a common symbolic meaning\n",
    "for tup in panofsky.items():\n",
    "        for item in SimDict.items(): \n",
    "            if tup[0] == item[0]: \n",
    "                for t in tup[1]: \n",
    "                   # print(\"panofsky simulacrum\", t, \"for the rc\", tup[0])\n",
    "                    for i in item[1]:\n",
    "                     #   print(\"oderr simulacrum\", i, \"for the rc\", item[0])\n",
    "                        mean = fuzz_ratio_mean(t, i)\n",
    "                        if mean > 70: \n",
    "                           # print(\"panofsky simulacrum\", t, \"for the rc\", tup[0])\n",
    "                           # print(\"oderr simulacrum\", i, \"for the rc\", item[0])\n",
    "                            print(\"matched simulacra:\", t, \" - \", i, \"for the rc\", tup[0], \" - \", item[0])"
   ]
  },
  {
   "cell_type": "code",
   "execution_count": null,
   "id": "1c03c1a7",
   "metadata": {},
   "outputs": [],
   "source": [
    "# comparison of symbolic meanings having a common symbol\n",
    "for tup in panofsky.items():\n",
    "        for item in Simulacrum2Dict.items(): \n",
    "            for t in tup[1]:\n",
    "                if t == item[0]: \n",
    "                    for i in item[1]:\n",
    "                        mean = fuzz_ratio_mean(tup[0], i)\n",
    "                        if mean > 70: \n",
    "                            print(\"matched reality counterpart:\", tup[0], \" - \", i, \"- for the simulacrum:\", t, \" - \", item[0])"
   ]
  },
  {
   "cell_type": "markdown",
   "id": "2a5c40df",
   "metadata": {},
   "source": [
    "Symbols not in HyperReal "
   ]
  },
  {
   "cell_type": "code",
   "execution_count": null,
   "id": "aff384d6",
   "metadata": {},
   "outputs": [],
   "source": [
    "Panofsky - common list"
   ]
  },
  {
   "cell_type": "markdown",
   "id": "1d32def9",
   "metadata": {},
   "source": [
    "## Artworks related to symbolic meanings"
   ]
  },
  {
   "cell_type": "markdown",
   "id": "3ded8d3f",
   "metadata": {},
   "source": [
    "### Number of artworks having at least a symbol"
   ]
  },
  {
   "cell_type": "markdown",
   "id": "c2f8f460",
   "metadata": {},
   "source": [
    "### Artworks having one of the symbols from the shared list"
   ]
  },
  {
   "cell_type": "markdown",
   "id": "ffbdf92a",
   "metadata": {},
   "source": [
    "### Artworks having only the symbols not in HyperReal"
   ]
  },
  {
   "cell_type": "markdown",
   "id": "5ef17a6e",
   "metadata": {},
   "source": [
    "# Symbols in Hyperreal"
   ]
  },
  {
   "cell_type": "code",
   "execution_count": null,
   "id": "4d997faf",
   "metadata": {},
   "outputs": [],
   "source": []
  }
 ],
 "metadata": {
  "kernelspec": {
   "display_name": "Python 3 (ipykernel)",
   "language": "python",
   "name": "python3"
  },
  "language_info": {
   "codemirror_mode": {
    "name": "ipython",
    "version": 3
   },
   "file_extension": ".py",
   "mimetype": "text/x-python",
   "name": "python",
   "nbconvert_exporter": "python",
   "pygments_lexer": "ipython3",
   "version": "3.9.0"
  }
 },
 "nbformat": 4,
 "nbformat_minor": 5
}
