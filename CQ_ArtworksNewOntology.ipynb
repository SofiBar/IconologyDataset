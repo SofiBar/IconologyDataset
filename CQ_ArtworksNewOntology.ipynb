{
  "nbformat": 4,
  "nbformat_minor": 0,
  "metadata": {
    "colab": {
      "name": "CQ-ArtworksNewOntology.ipynb",
      "provenance": [],
      "collapsed_sections": [],
      "toc_visible": true
    },
    "kernelspec": {
      "name": "python3",
      "display_name": "Python 3"
    },
    "language_info": {
      "name": "python"
    }
  },
  "cells": [
    {
      "cell_type": "code",
      "metadata": {
        "colab": {
          "base_uri": "https://localhost:8080/"
        },
        "id": "cWxy_mllNF2f",
        "outputId": "1c9effe8-5f73-4fe8-c206-5c93b713632e"
      },
      "source": [
        "pip install rdflib"
      ],
      "execution_count": null,
      "outputs": [
        {
          "output_type": "stream",
          "name": "stdout",
          "text": [
            "Collecting rdflib\n",
            "  Downloading rdflib-6.0.1-py3-none-any.whl (379 kB)\n",
            "\u001b[?25l\r\u001b[K     |▉                               | 10 kB 24.2 MB/s eta 0:00:01\r\u001b[K     |█▊                              | 20 kB 31.3 MB/s eta 0:00:01\r\u001b[K     |██▋                             | 30 kB 32.8 MB/s eta 0:00:01\r\u001b[K     |███▌                            | 40 kB 34.7 MB/s eta 0:00:01\r\u001b[K     |████▎                           | 51 kB 36.9 MB/s eta 0:00:01\r\u001b[K     |█████▏                          | 61 kB 38.0 MB/s eta 0:00:01\r\u001b[K     |██████                          | 71 kB 33.0 MB/s eta 0:00:01\r\u001b[K     |███████                         | 81 kB 33.2 MB/s eta 0:00:01\r\u001b[K     |███████▊                        | 92 kB 35.1 MB/s eta 0:00:01\r\u001b[K     |████████▋                       | 102 kB 35.3 MB/s eta 0:00:01\r\u001b[K     |█████████▌                      | 112 kB 35.3 MB/s eta 0:00:01\r\u001b[K     |██████████▍                     | 122 kB 35.3 MB/s eta 0:00:01\r\u001b[K     |███████████▏                    | 133 kB 35.3 MB/s eta 0:00:01\r\u001b[K     |████████████                    | 143 kB 35.3 MB/s eta 0:00:01\r\u001b[K     |█████████████                   | 153 kB 35.3 MB/s eta 0:00:01\r\u001b[K     |█████████████▉                  | 163 kB 35.3 MB/s eta 0:00:01\r\u001b[K     |██████████████▊                 | 174 kB 35.3 MB/s eta 0:00:01\r\u001b[K     |███████████████▌                | 184 kB 35.3 MB/s eta 0:00:01\r\u001b[K     |████████████████▍               | 194 kB 35.3 MB/s eta 0:00:01\r\u001b[K     |█████████████████▎              | 204 kB 35.3 MB/s eta 0:00:01\r\u001b[K     |██████████████████▏             | 215 kB 35.3 MB/s eta 0:00:01\r\u001b[K     |███████████████████             | 225 kB 35.3 MB/s eta 0:00:01\r\u001b[K     |███████████████████▉            | 235 kB 35.3 MB/s eta 0:00:01\r\u001b[K     |████████████████████▊           | 245 kB 35.3 MB/s eta 0:00:01\r\u001b[K     |█████████████████████▋          | 256 kB 35.3 MB/s eta 0:00:01\r\u001b[K     |██████████████████████▍         | 266 kB 35.3 MB/s eta 0:00:01\r\u001b[K     |███████████████████████▎        | 276 kB 35.3 MB/s eta 0:00:01\r\u001b[K     |████████████████████████▏       | 286 kB 35.3 MB/s eta 0:00:01\r\u001b[K     |█████████████████████████       | 296 kB 35.3 MB/s eta 0:00:01\r\u001b[K     |██████████████████████████      | 307 kB 35.3 MB/s eta 0:00:01\r\u001b[K     |██████████████████████████▊     | 317 kB 35.3 MB/s eta 0:00:01\r\u001b[K     |███████████████████████████▋    | 327 kB 35.3 MB/s eta 0:00:01\r\u001b[K     |████████████████████████████▌   | 337 kB 35.3 MB/s eta 0:00:01\r\u001b[K     |█████████████████████████████▍  | 348 kB 35.3 MB/s eta 0:00:01\r\u001b[K     |██████████████████████████████▏ | 358 kB 35.3 MB/s eta 0:00:01\r\u001b[K     |███████████████████████████████ | 368 kB 35.3 MB/s eta 0:00:01\r\u001b[K     |████████████████████████████████| 378 kB 35.3 MB/s eta 0:00:01\r\u001b[K     |████████████████████████████████| 379 kB 35.3 MB/s \n",
            "\u001b[?25hCollecting isodate\n",
            "  Downloading isodate-0.6.0-py2.py3-none-any.whl (45 kB)\n",
            "\u001b[?25l\r\u001b[K     |███████▏                        | 10 kB 37.3 MB/s eta 0:00:01\r\u001b[K     |██████████████▍                 | 20 kB 36.5 MB/s eta 0:00:01\r\u001b[K     |█████████████████████▌          | 30 kB 43.0 MB/s eta 0:00:01\r\u001b[K     |████████████████████████████▊   | 40 kB 46.9 MB/s eta 0:00:01\r\u001b[K     |████████████████████████████████| 45 kB 3.9 MB/s \n",
            "\u001b[?25hRequirement already satisfied: setuptools in /usr/local/lib/python3.7/dist-packages (from rdflib) (57.4.0)\n",
            "Requirement already satisfied: pyparsing in /usr/local/lib/python3.7/dist-packages (from rdflib) (2.4.7)\n",
            "Requirement already satisfied: six in /usr/local/lib/python3.7/dist-packages (from isodate->rdflib) (1.15.0)\n",
            "Installing collected packages: isodate, rdflib\n",
            "Successfully installed isodate-0.6.0 rdflib-6.0.1\n"
          ]
        }
      ]
    },
    {
      "cell_type": "code",
      "metadata": {
        "id": "VjKkncxzNVFH"
      },
      "source": [
        "import rdflib\n",
        "from rdflib.namespace import CSVW, DC, DCAT, DCTERMS, DOAP, FOAF, ODRL2, ORG, OWL, \\\n",
        "                           PROF, PROV, RDF, RDFS, SDO, SH, SKOS, SOSA, SSN, TIME, \\\n",
        "                           VOID, XMLNS, XSD\n",
        "from rdflib import Namespace\n",
        "from rdflib import URIRef"
      ],
      "execution_count": null,
      "outputs": []
    },
    {
      "cell_type": "code",
      "metadata": {
        "colab": {
          "base_uri": "https://localhost:8080/"
        },
        "id": "nutRG-4OJG22",
        "outputId": "ee27be6c-aa9d-4bcf-c6bd-519ec669e3d8"
      },
      "source": [
        "newg = rdflib.Graph() # we create a new graph\n",
        "newg.parse(\"icon-1.ttl\", format=\"ttl\")"
      ],
      "execution_count": null,
      "outputs": [
        {
          "output_type": "execute_result",
          "data": {
            "text/plain": [
              "<Graph identifier=N27e477b649fa4833b41d7b5de10810c2 (<class 'rdflib.graph.Graph'>)>"
            ]
          },
          "metadata": {
            "tags": []
          },
          "execution_count": 65
        }
      ]
    },
    {
      "cell_type": "code",
      "metadata": {
        "colab": {
          "base_uri": "https://localhost:8080/"
        },
        "id": "t2sTtTq8Rb9N",
        "outputId": "41a8b5f2-7c07-4ff9-da6d-d490a7821f74"
      },
      "source": [
        "newg = rdflib.Graph() # we create a new graph\n",
        "import re\n",
        "newg.parse(\"icon-5.ttl\", format=\"ttl\") # we insert the graph we have created into the new graph\n",
        "#below you write your query\n",
        "pattern = \"[-]?[ab]?[\\d]?[-]+[\\d]+.*\"\n",
        "for s, p, o in newg.triples((None,  URIRef(\"http://ontologywithbruno.org/hasFactualMeaning\"), None)):\n",
        "    o = re.sub(pattern, \"\", o)\n",
        "    print(o)\n",
        "for s,p,o in newg.triples((None,  URIRef(\"http://ontologywithbruno.org/hasFactualMeaning\"), None)):\n",
        "  print(o)\n",
        "print(newg.serialize(format=\"ttl\", encoding=\"utf-8\"))\n",
        "\n"
      ],
      "execution_count": null,
      "outputs": [
        {
          "output_type": "stream",
          "text": [
            "http://icondataset.org/clothes\n",
            "http://icondataset.org/bear\n",
            "http://icondataset.org/bear\n",
            "http://icondataset.org/wiggling-out-of-snakes\n",
            "http://icondataset.org/man\n",
            "http://icondataset.org/man\n",
            "http://icondataset.org/ox\n",
            "http://icondataset.org/cloth\n",
            "http://icondataset.org/serpent\n",
            "http://icondataset.org/young\n",
            "http://icondataset.org/water\n",
            "http://icondataset.org/young\n",
            "http://icondataset.org/wiggling-out-of-snakes\n",
            "http://icondataset.org/serpent\n",
            "http://icondataset.org/serpent\n",
            "http://icondataset.org/cloth\n",
            "http://icondataset.org/young\n",
            "http://icondataset.org/clothes\n",
            "http://icondataset.org/grabbing\n",
            "http://icondataset.org/axe\n",
            "http://icondataset.org/act-killing-ox\n",
            "http://icondataset.org/wiggling-out-of-snakes\n",
            "http://icondataset.org/young\n",
            "http://icondataset.org/serpent\n",
            "http://icondataset.org/clothes\n",
            "http://icondataset.org/clothes5-1\n",
            "http://icondataset.org/bear5-2\n",
            "http://icondataset.org/bear5-1\n",
            "http://icondataset.org/wiggling-out-of-snakes-a-5-2\n",
            "http://icondataset.org/man5-2\n",
            "http://icondataset.org/man5-1\n",
            "http://icondataset.org/ox5-1\n",
            "http://icondataset.org/cloth-a-5-2\n",
            "http://icondataset.org/serpent-b-5-2\n",
            "http://icondataset.org/young-a-5-1\n",
            "http://icondataset.org/water5-1\n",
            "http://icondataset.org/young-b-5-2\n",
            "http://icondataset.org/wiggling-out-of-snakes5-2\n",
            "http://icondataset.org/serpent-b-5-1\n",
            "http://icondataset.org/serpent-a-5-2\n",
            "http://icondataset.org/cloth-b-5-2\n",
            "http://icondataset.org/young-b-5-1\n",
            "http://icondataset.org/clothes-b-5-1\n",
            "http://icondataset.org/grabbing5-2\n",
            "http://icondataset.org/axe5-1\n",
            "http://icondataset.org/act-killing-ox5-1\n",
            "http://icondataset.org/wiggling-out-of-snakes-b-5-2\n",
            "http://icondataset.org/young-a-5-2\n",
            "http://icondataset.org/serpent-a-5-1\n",
            "http://icondataset.org/clothes-a-5-1\n",
            "b'@prefix cito: <http://purl.org/spar/cito/> .\\n@prefix crm: <http://www.cidoc-crm.org/cidoc-crm/> .\\n@prefix data: <http://icondataset.org/> .\\n@prefix dul: <http://ontologywithbruno.org/> .\\n@prefix rdfs: <http://www.w3.org/2000/01/rdf-schema#> .\\n@prefix xsd: <http://www.w3.org/2001/XMLSchema#> .\\n\\ndata:art5-1-am15 a dul:ArtisticMotif ;\\n    dul:hasFactualMeaning data:serpent-b-5-2 .\\n\\ndata:art5-1-iconolrec1 a dul:IconologicalRecognition ;\\n    dul:includesAgent data:erwin-panofsky,\\n        data:fritz-saxl ;\\n    dul:recognizedIntrinsicMeaning data:art5-1-intrinsic-meaning .\\n\\ndata:art5-1-icrec1 a dul:IconographicalRecognition ;\\n    dul:aboutWorkOfArt data:laocoon-ms-vat-2761-art5-1 ;\\n    dul:includesAgent data:sofia ;\\n    dul:isListedIn data:art5-1-iconographical-analysis ;\\n    dul:recognizedImage data:art5-1-img1 ;\\n    dul:refersToArtisticMotif data:art5-1-comp1 ;\\n    cito:citesAsEvidence data:verg-aen-199-233 ;\\n    cito:citesForInformation data:panofsky-saxl-1933 .\\n\\ndata:art5-1-icrec2 a dul:IconographicalRecognition ;\\n    dul:aboutWorkOfArt data:laocoon-ms-vat-2761-art5-1 ;\\n    dul:includesAgent data:sofia ;\\n    dul:isListedIn data:art5-1-iconographical-analysis ;\\n    dul:recognizedImage data:art5-1-img2 ;\\n    dul:refersToArtisticMotif data:art5-1-comp2 ;\\n    cito:citesAsEvidence data:verg-aen-199-233 ;\\n    cito:citesForInformation data:panofsky-saxl-1933 .\\n\\ndata:art5-1-icrec3 a dul:IconographicalRecognition ;\\n    dul:aboutWorkOfArt data:laocoon-ms-vat-2761-art5-1 ;\\n    dul:includesAgent data:sofia ;\\n    dul:isListedIn data:art5-1-iconographical-analysis ;\\n    dul:recognizedImage data:art5-1-img3 ;\\n    dul:refersToArtisticMotif data:art5-1-comp3 ;\\n    cito:citesAsEvidence data:verg-aen-199-233 ;\\n    cito:citesForInformation data:panofsky-saxl-1933 .\\n\\ndata:art5-1-icrec4 a dul:IconographicalRecognition ;\\n    dul:aboutWorkOfArt data:laocoon-ms-vat-2761-art5-1 ;\\n    dul:includesAgent data:sofia ;\\n    dul:isListedIn data:art5-1-iconographical-analysis ;\\n    dul:recognizedImage data:art5-1-img4 ;\\n    dul:refersToArtisticMotif data:art5-1-comp4 ;\\n    cito:citesAsEvidence data:verg-aen-199-233 ;\\n    cito:citesForInformation data:panofsky-saxl-1933 .\\n\\ndata:art5-1-icrec5 a dul:IconographicalRecognition ;\\n    dul:aboutWorkOfArt data:laocoon-ms-vat-2761-art5-1 ;\\n    dul:includesAgent data:sofia ;\\n    dul:isListedIn data:art5-1-iconographical-analysis ;\\n    dul:recognizedImage data:art5-1-img5 ;\\n    dul:refersToArtisticMotif data:art5-1-comp5 ;\\n    cito:citesAsEvidence data:verg-aen-199-233 ;\\n    cito:citesForInformation data:panofsky-saxl-1933 .\\n\\ndata:art5-1-preic1 a dul:PreiconographicalRecognition ;\\n    dul:aboutWorkOfArt data:laocoon-ms-vat-2761-art5-1 ;\\n    dul:includesAgent data:sofia ;\\n    dul:isListedIn data:art5-1-preiconographical-description ;\\n    dul:recognizedComposition data:art5-1-comp1 .\\n\\ndata:art5-1-preic2 a dul:PreiconographicalRecognition ;\\n    dul:aboutWorkOfArt data:laocoon-ms-vat-2761-art5-1,\\n        data:laocoon-vatican-statue-art5-2 ;\\n    dul:includesAgent data:sofia ;\\n    dul:isListedIn data:art5-1-preiconographical-description,\\n        data:art5-2-preiconographical-description ;\\n    dul:recognizedComposition data:art5-1-comp2,\\n        data:art5-2-comp2 .\\n\\ndata:art5-1-preic3 a dul:PreiconographicalRecognition ;\\n    dul:aboutWorkOfArt data:laocoon-ms-vat-2761-art5-1 ;\\n    dul:includesAgent data:sofia ;\\n    dul:isListedIn data:art5-1-preiconographical-description ;\\n    dul:recognizedComposition data:art5-1-comp3 .\\n\\ndata:art5-1-preic4 a dul:PreiconographicalRecognition ;\\n    dul:aboutWorkOfArt data:laocoon-ms-vat-2761-art5-1 ;\\n    dul:includesAgent data:sofia ;\\n    dul:isListedIn data:art5-1-preiconographical-description ;\\n    dul:recognizedComposition data:art5-1-comp4 .\\n\\ndata:art5-1-preic5 a dul:PreiconographicalRecognition ;\\n    dul:aboutWorkOfArt data:laocoon-ms-vat-2761-art5-1 ;\\n    dul:includesAgent data:sofia ;\\n    dul:isListedIn data:art5-1-preiconographical-description ;\\n    dul:recognizedComposition data:art5-1-comp5 .\\n\\ndata:art5-1-production crm:P108_has_produced data:laocoon-ms-vat-2761,\\n        data:laocoon-vatican-statue-art5-2 ;\\n    crm:P10_falls_within data:classical-period,\\n        data:middle-ages ;\\n    crm:P4_has_time-span data:centuryXIV,\\n        \"40-20 BC\"^^xsd:string .\\n\\ndata:art5-2-icrec1 a dul:IconographicalRecognition ;\\n    dul:aboutWorkOfArt data:laocoon-vatican-statue-art5-2 ;\\n    dul:includesAgent data:sofia ;\\n    dul:isListedIn data:art5-2-iconographical-analysis ;\\n    dul:recognizedImage data:art5-2-img1 ;\\n    dul:refersToArtisticMotif data:art5-2-comp1 ;\\n    cito:citesForInformation data:panofsky-saxl-1933 .\\n\\ndata:art5-2-icrec2 a dul:IconographicalRecognition ;\\n    dul:aboutWorkOfArt data:laocoon-vatican-statue-art5-2 ;\\n    dul:includesAgent data:sofia ;\\n    dul:isListedIn data:art5-2-iconographical-analysis ;\\n    dul:recognizedImage data:art5-2-img2 ;\\n    dul:refersToArtisticMotif data:art5-2-comp2 ;\\n    cito:citesForInformation data:panofsky-saxl-1933 .\\n\\ndata:art5-2-icrec3 a dul:IconographicalRecognition ;\\n    dul:aboutWorkOfArt data:laocoon-vatican-statue-art5-2 ;\\n    dul:includesAgent data:sofia ;\\n    dul:isListedIn data:art5-2-iconographical-analysis ;\\n    dul:recognizedImage data:art5-2-img3 ;\\n    dul:refersToArtisticMotif data:art5-2-comp3 ;\\n    cito:citesForInformation data:panofsky-saxl-1933 .\\n\\ndata:art5-2-icrec4 a dul:IconographicalRecognition ;\\n    dul:aboutWorkOfArt data:laocoon-vatican-statue-art5-2 ;\\n    dul:includesAgent data:sofia ;\\n    dul:isListedIn data:art5-2-iconographical-analysis ;\\n    dul:recognizedImage data:art5-2-img4 ;\\n    dul:refersToArtisticMotif data:art5-2-comp4 ;\\n    cito:citesForInformation data:panofsky-saxl-1933 .\\n\\ndata:art5-2-icrec5 a dul:IconographicalRecognition ;\\n    dul:aboutWorkOfArt data:laocoon-vatican-statue-art5-2 ;\\n    dul:includesAgent data:sofia ;\\n    dul:isListedIn data:art5-2-iconographical-analysis ;\\n    dul:recognizedImage data:art5-2-img5 ;\\n    dul:refersToArtisticMotif data:art5-2-am16 .\\n\\ndata:art5-2-icrec6 a dul:IconographicalRecognition ;\\n    dul:aboutWorkOfArt data:laocoon-vatican-statue-art5-2 ;\\n    dul:includesAgent data:sofia ;\\n    dul:isListedIn data:art5-2-iconographical-analysis ;\\n    dul:recognizedInvenzione data:art5-2-story-laocoon-sons ;\\n    dul:refersToArtisticMotif data:art5-2-comp5 .\\n\\ndata:art5-2-preic1 a dul:PreiconographicalRecognition ;\\n    dul:aboutWorkOfArt data:laocoon-vatican-statue-art5-2 ;\\n    dul:includesAgent data:sofia ;\\n    dul:isListedIn data:art5-2-preiconographical-description ;\\n    dul:recognizedComposition data:art5-2-comp1 .\\n\\ndata:art5-2-preic3 a dul:PreiconographicalRecognition ;\\n    dul:aboutWorkOfArt data:laocoon-vatican-statue-art5-2 ;\\n    dul:includesAgent data:sofia ;\\n    dul:isListedIn data:art5-2-preiconographical-description ;\\n    dul:recognizedComposition data:art5-2-comp3 .\\n\\ndata:art5-2-preic4 a dul:PreiconographicalRecognition ;\\n    dul:aboutWorkOfArt data:laocoon-vatican-statue-art5-2 ;\\n    dul:includesAgent data:sofia ;\\n    dul:isListedIn data:art5-2-preiconographical-description ;\\n    dul:recognizedComposition data:art5-2-comp4 .\\n\\ndata:art5-2-preic5 a dul:PreiconographicalRecognition ;\\n    dul:aboutWorkOfArt data:laocoon-vatican-statue-art5-2 ;\\n    dul:includesAgent data:sofia ;\\n    dul:isListedIn data:art5-2-preiconographical-description ;\\n    dul:recognizedComposition data:art5-2-comp5 .\\n\\ndata:data:laocoon-ox-sacrifice5-1 a dul:Event .\\n\\ndata:data:thymbraeus5-1 a dul:Character ;\\n    rdfs:label \"thymbraeus, son of Laoocoon\"^^xsd:string .\\n\\ndata:data:thymbraeus5-2 a dul:Character ;\\n    rdfs:label \"thymbraeus, son of Laoocoon\"^^xsd:string .\\n\\ndata:data:water5-1 a dul:NaturalElement .\\n\\ndata:marine-snake-a-5-1 a dul:Character .\\n\\ndata:marine-snake-a-5-2 a dul:Character .\\n\\ndata:marine-snake-b-5-1 a dul:Character .\\n\\ndata:marine-snake-b-5-2 a dul:Character .\\n\\ndata:ms-vat-2761 a crm:E22_Man-made_Object ;\\n    crm:P128_carries data:verg-aen-199-233 ;\\n    crm:P46_is_composed_of data:ms-vat-2761-folio-15r .\\n\\ndata:serpent-5-2 a dul:NaturalElement ;\\n    dul:hasQuality data:medieval .\\n\\ndata:thymbraeus5-1 a dul:Character ;\\n    rdfs:label \"Antiphas, son of Laoocoon\"^^xsd:string .\\n\\ndata:years40-20BC a crm:E52_Time-Span ;\\n    rdfs:label \"40-20 BC\"^^xsd:string ;\\n    crm:P82a_begin_of_the_begin \"-40-01-01T0:00:00\"^^xsd:dateTime ;\\n    crm:P82b_end_of_the_end \"-20-12-31T23:59:59\"^^xsd:dateTime .\\n\\ndata:act-killing-ox5-1 a dul:Action .\\n\\ndata:ancient-style a crm:E55_Type ;\\n    rdfs:label \"ancient style\"^^xsd:string ;\\n    crm:P2_has_type data:artistic-style ;\\n    rdfs:seeAlso <http://vocab.getty.edu/page/aat/300106711> .\\n\\ndata:antiphas5-2 a dul:Character ;\\n    rdfs:label \"Antiphas, son of Laoocoon\"^^xsd:string .\\n\\ndata:art5-1-am12 a dul:ArtisticMotif ;\\n    dul:hasFactualMeaning data:serpent-a-5-1 .\\n\\ndata:art5-1-am13 a dul:ArtisticMotif ;\\n    dul:hasFactualMeaning data:serpent-b-5-1 .\\n\\ndata:art5-1-am5 a dul:ArtisticMotif ;\\n    dul:hasFactualMeaning data:act-killing-ox5-1 .\\n\\ndata:art5-1-am7 a dul:ArtisticMotif ;\\n    dul:hasFactualMeaning data:young-a-5-1 .\\n\\ndata:art5-1-am9 a dul:ArtisticMotif ;\\n    dul:hasFactualMeaning data:young-b-5-1 .\\n\\ndata:art5-1-intrinsic-meaning a dul:IntrinsicMeaning ;\\n    dul:hasStory data:art5-1-story-laocoon-sons ;\\n    dul:recognizedCulturalPhenomenon data:classical-content-contemporary-motifs ;\\n    cito:citesAsEvidence: data:art5-1-am10,\\n        data:art5-1-am11,\\n        data:art5-1-am2,\\n        data:art5-1-am3,\\n        data:art5-1-am4,\\n        data:art5-1-am6,\\n        data:art5-1-am8,\\n        data:art5-2-am11,\\n        data:art5-2-am3,\\n        data:art5-2-am7,\\n        data:laocoon-vatican-statue-art5-2,\\n        data:nudity .\\n\\ndata:art5-1-story-laocoon-sons a dul:Story ;\\n    dul:composedOf data:art5-1-img1,\\n        data:art5-1-img2,\\n        data:art5-1-img3,\\n        data:art5-1-img4,\\n        data:art5-1-img5 ;\\n    crm:P2_has_type data:medieval-artistic-style ;\\n    rdfs:seeAlso <http://www.iconclass.org/rkd/94H213/> .\\n\\ndata:art5-2-img5 a dul:Image ;\\n    dul:hasEvent data:strangling5-2 .\\n\\ndata:art5-2-story-laocoon-sons a dul:Story ;\\n    dul:composedOf data:art5-2-img1,\\n        data:art5-2-img2,\\n        data:art5-2-img3,\\n        data:art5-2-img4 ;\\n    crm:P2_has_type data:ancient-style ;\\n    rdfs:seeAlso <http://www.iconclass.org/rkd/94H213/> .\\n\\ndata:axe5-1 a dul:NaturalElement ;\\n    rdfs:seeAlso <http://vocab.getty.edu/page/aat/30036982> .\\n\\ndata:bear5-1 a dul:NaturalElement .\\n\\ndata:bear5-2 a dul:NaturalElement .\\n\\ndata:centuryXIV a crm:E52_Time-Span ;\\n    rdfs:label \"1300-1399\"^^xsd:string ;\\n    crm:P82a_begin_of_the_begin \"1300-01-01T0:00:00\"^^xsd:dateTime ;\\n    crm:P82b_end_of_the_end \"1399-12-31T23:59:59\"^^xsd:dateTime .\\n\\ndata:classical-content-contemporary-motifs a dul:CulturalPhenomenon ;\\n    rdfs:label \"Representation of classical content with contemporary formal motifs\"^^xsd:string .\\n\\ndata:classical-period a crm:E4_Period .\\n\\ndata:cloth-a-5-2 a dul:NaturalElement .\\n\\ndata:cloth-b-5-2 a dul:NaturalElement .\\n\\ndata:clothes-a-5-1 a dul:NaturalElement ;\\n    dul:hasQuality data:medieval .\\n\\ndata:clothes-b-5-1 a dul:NaturalElement ;\\n    dul:hasQuality data:medieval .\\n\\ndata:clothes5-1 a dul:NaturalElement ;\\n    dul:hasQuality data:medieval .\\n\\ndata:despair-a-5-2 a dul:ExpressionalQuality .\\n\\ndata:despair-b-5-2 a dul:ExpressionalQuality .\\n\\ndata:despair5-2 a dul:ExpressionalQuality .\\n\\ndata:grabbing5-2 a dul:Action .\\n\\ndata:laocoon5-1 a dul:Character ;\\n    rdfs:seeAlso <http://vocab.getty.edu/page/ia/901000541> .\\n\\ndata:laocoon5-2 a dul:Character ;\\n    rdfs:seeAlso <http://vocab.getty.edu/page/ia/901000541> .\\n\\ndata:man5-1 a dul:NaturalElement .\\n\\ndata:man5-2 a dul:Action,\\n        dul:NaturalElement .\\n\\ndata:medieval-artistic-style a crm:E55_Type ;\\n    rdfs:label \"medieval artistic style\"^^xsd:string ;\\n    crm:P2_has_type data:artistic-style ;\\n    rdfs:seeAlso <http://vocab.getty.edu/page/aat/300111907> .\\n\\ndata:middle-ages a crm:E4_Period ;\\n    rdfs:label \"Middle ages\"^^xsd:string .\\n\\ndata:ms-vat-2761-folio-15r a crm:E22_Man-made_Object ;\\n    crm:P46_is_composed_of data:laocoon-ms-vat-2761-art5-1 .\\n\\ndata:ox5-1 a dul:NaturalElement ;\\n    rdfs:seeAlso <http://vocab.getty.edu/page/aat/300250282> .\\n\\ndata:pathos5-2 a dul:ExpressionalQuality .\\n\\ndata:serpent-a-5-1 a dul:NaturalElement .\\n\\ndata:serpent-a-5-2 a dul:NaturalElement .\\n\\ndata:serpent-b-5-1 a dul:NaturalElement .\\n\\ndata:strangling5-2 a dul:Event .\\n\\ndata:white a dul:Quality .\\n\\ndata:wiggling-out-of-snakes-a-5-2 a dul:Action .\\n\\ndata:wiggling-out-of-snakes-b-5-2 a dul:Action .\\n\\ndata:young-a-5-1 a dul:NaturalElement .\\n\\ndata:young-a-5-2 a dul:NaturalElement .\\n\\ndata:young-b-5-1 a dul:NaturalElement .\\n\\ndata:young-b-5-2 a dul:NaturalElement .\\n\\ndata:art5-1-am1 a dul:ArtisticMotif ;\\n    dul:hasFactualMeaning data:man5-1 .\\n\\ndata:art5-1-am10 a dul:ArtisticMotif ;\\n    dul:hasFactualMeaning data:clothes-b-5-1 .\\n\\ndata:art5-1-am11 a dul:ArtisticMotif ;\\n    dul:hasFactualMeaning data:water5-1 .\\n\\ndata:art5-1-am4 a dul:ArtisticMotif ;\\n    dul:hasFactualMeaning data:axe5-1 .\\n\\ndata:art5-1-am6 a dul:ArtisticMotif ;\\n    dul:hasFactualMeaning data:ox5-1 .\\n\\ndata:art5-1-am8 a dul:ArtisticMotif ;\\n    dul:hasFactualMeaning data:clothes-a-5-1 .\\n\\ndata:art5-1-comp1 dul:hasPart data:art5-1-am1,\\n        data:art5-1-am2,\\n        data:art5-1-am3 .\\n\\ndata:art5-1-comp2 dul:hasPart data:art5-1-am1,\\n        data:art5-1-am2,\\n        data:art5-1-am3,\\n        data:art5-1-am4,\\n        data:art5-1-am5,\\n        data:art5-1-am6 .\\n\\ndata:art5-1-comp3 dul:hasPart data:art5-1-am7,\\n        data:art5-1-am8 .\\n\\ndata:art5-1-comp4 dul:hasPart data:art5-1-am10,\\n        data:art5-1-am9 .\\n\\ndata:art5-1-comp5 dul:hasPart data:art5-1-am11,\\n        data:art5-1-am12,\\n        data:art5-1-am13 .\\n\\ndata:art5-1-img1 a dul:Image ;\\n    dul:hasCharacter data:laocoon5-1 .\\n\\ndata:art5-1-img2 a dul:Image ;\\n    dul:hasEvent data:laocoon-ox-sacrifice5-1 .\\n\\ndata:art5-1-img3 a dul:Image ;\\n    dul:hasCharacter data:thimbraeus5-1 .\\n\\ndata:art5-1-img4 a dul:Image ;\\n    dul:hasCharacter data:antiphas5-1 .\\n\\ndata:art5-1-img5 a dul:Image ;\\n    dul:hasCharacter data:marine-snakes-a-5-1,\\n        data:marine-snakes-b-5-1 .\\n\\ndata:art5-2-am1 a dul:ArtisticMotif ;\\n    dul:hasFactualMeaning data:man5-2 ;\\n    dul:hasQuality data:nudity .\\n\\ndata:art5-2-am10 a dul:ArtisticMotif ;\\n    dul:hasFactualMeaning data:young-b-5-2 ;\\n    dul:hasQuality data:nudity .\\n\\ndata:art5-2-am12 a dul:ArtisticMotif ;\\n    dul:hasFactualMeaning data:cloth-b-5-2 .\\n\\ndata:art5-2-am13 a dul:ArtisticMotif ;\\n    dul:hasFactualMeaning data:wiggling-out-of-snakes-b-5-2 .\\n\\ndata:art5-2-am14 a dul:ArtisticMotif ;\\n    dul:hasFactualMeaning data:serpent-a-5-2 .\\n\\ndata:art5-2-am2 a dul:ArtisticMotif ;\\n    dul:hasFactualMeaning data:bear5-2 .\\n\\ndata:art5-2-am4 a dul:ArtisticMotif ;\\n    dul:hasFactualMeaning data:wiggling-out-of-snakes5-2 .\\n\\ndata:art5-2-am5 a dul:ArtisticMotif ;\\n    dul:hasExpressionalMeaning data:pathos5-2 .\\n\\ndata:art5-2-am6 a dul:ArtisticMotif ;\\n    dul:hasFactualMeaning data:young-a-5-2 ;\\n    dul:hasQuality data:nudity .\\n\\ndata:art5-2-am8 a dul:ArtisticMotif ;\\n    dul:hasFactualMeaning data:cloth-a-5-2 .\\n\\ndata:art5-2-am9 a dul:ArtisticMotif ;\\n    dul:hasFactualMeaning data:wiggling-out-of-snakes-a-5-2 .\\n\\ndata:art5-2-comp1 dul:hasPart data:art5-2-am1,\\n        data:art5-2-am2,\\n        data:art5-2-am3,\\n        data:art5-2-am4,\\n        data:art5-2-am5 .\\n\\ndata:art5-2-comp2 dul:hasPart data:art5-2-am6,\\n        data:art5-2-am7,\\n        data:art5-2-am8,\\n        data:art5-2-am9 .\\n\\ndata:art5-2-comp3 dul:hasPart data:art5-2-am10,\\n        data:art5-2-am11,\\n        data:art5-2-am12,\\n        data:art5-2-am13 .\\n\\ndata:art5-2-comp4 dul:hasPart data:art5-2-am14,\\n        data:art5-2-am15,\\n        data:art5-2-am16 .\\n\\ndata:art5-2-comp5 dul:hasCompositionalStructure data:pyramidal ;\\n    dul:hasPart data:art5-2-am1,\\n        data:art5-2-am10,\\n        data:art5-2-am11,\\n        data:art5-2-am12,\\n        data:art5-2-am13,\\n        data:art5-2-am14,\\n        data:art5-2-am15,\\n        data:art5-2-am16,\\n        data:art5-2-am2,\\n        data:art5-2-am3,\\n        data:art5-2-am4,\\n        data:art5-2-am5,\\n        data:art5-2-am6,\\n        data:art5-2-am7,\\n        data:art5-2-am8,\\n        data:art5-2-am9 .\\n\\ndata:art5-2-img1 a dul:Image ;\\n    dul:hasCharacter data:laocoon5-2 .\\n\\ndata:art5-2-img2 a dul:Image ;\\n    dul:hasCharacter data:thimbraeus5-2 .\\n\\ndata:art5-2-img3 a dul:Image ;\\n    dul:hasCharacter data:antiphas5-2 .\\n\\ndata:art5-2-img4 a dul:Image ;\\n    dul:hasCharacter data:marine-snakes-a-5-2,\\n        data:marine-snakes-b-5-2 .\\n\\ndata:artistic-style a crm:E55_Type ;\\n    rdfs:seeAlso <http://vocab.getty.edu/page/aat/300015646> .\\n\\ndata:erwin-panofsky a crm:E21_Person ;\\n    rdfs:seeAlso <https://viaf.org/viaf/76321051/> .\\n\\ndata:fritz-saxl a crm:E21_Person ;\\n    rdfs:seeAlso <http://viaf.org/viaf/66486297> .\\n\\ndata:art5-1-am2 a dul:ArtisticMotif ;\\n    dul:hasFactualMeaning data:bear5-1 ;\\n    dul:hasQuality data:white .\\n\\ndata:art5-1-am3 a dul:ArtisticMotif ;\\n    dul:hasFactualMeaning data:clothes5-1 .\\n\\ndata:art5-2-am11 a dul:ArtisticMotif ;\\n    dul:hasFExpressionalMeaning data:despair-b-5-2 .\\n\\ndata:art5-2-am16 a dul:ArtisticMotif ;\\n    dul:hasFactualMeaning data:grabbing5-2 .\\n\\ndata:art5-2-am3 a dul:ArtisticMotif ;\\n    dul:hasExpressionalMeaning data:despair5-2 .\\n\\ndata:art5-2-am7 a dul:ArtisticMotif ;\\n    dul:hasExpressionalMeaning data:despair-a-5-2 .\\n\\ndata:art5-1-iconographical-analysis a dul:IconographicalAnalysis .\\n\\ndata:art5-1-preiconographical-description a dul:PreiconographicalDescription .\\n\\ndata:art5-2-preiconographical-description a dul:PreiconographicalDescription .\\n\\ndata:art5-2-iconographical-analysis a dul:IconographicalAnalysis .\\n\\ndata:panofsky-saxl-1933 a crm:E73_Information_Object ;\\n    crm:P14_carried_out_by data:erwin-panofsky,\\n        data:fritz-saxl .\\n\\ndata:laocoon-ms-vat-2761-art5-1 a dul:Artwork ;\\n    rdfs:label \"Biblioteca Apostolica Vaticana, XIV Century, ms vat. 2761, folio 15r. Anonymous, Laocoon and his sons\"^^xsd:string .\\n\\ndata:laocoon-vatican-statue-art5-2 a dul:Artwork ;\\n    rdfs:label \"Agesander, Athenodoros and Polydorus, Laoco\\xc3\\xb6n and His Sons, 40-20 B.C., Vatican City, Vatican Museums\"^^xsd:string .\\n\\n'\n"
          ],
          "name": "stdout"
        }
      ]
    },
    {
      "cell_type": "markdown",
      "metadata": {
        "id": "xvjosTbak54W"
      },
      "source": [
        "# **CQ1.1**\n",
        "Quali soggetti hanno il significato simbolico di giudizio morale nel quadro di Vermeer *Woman Holding a balance*? \n",
        "\n",
        "\n",
        "\n",
        "Risposte: \n",
        "*data:art1-img2; data:art1-img5*"
      ]
    },
    {
      "cell_type": "code",
      "metadata": {
        "colab": {
          "base_uri": "https://localhost:8080/"
        },
        "id": "t7kXcnMrETrw",
        "outputId": "2ad9ec00-0bf4-403d-d911-c3245afe90f9"
      },
      "source": [
        "cq1 = '''\n",
        "prefix data: <http://icondataset.org/> \n",
        "prefix symb: <http://ontologywithbruno.org/> \n",
        "\n",
        "SELECT ?image ?subject WHERE {\n",
        "?icrec symb:aboutWorkOfArt data:vermeer-balance-art1;\n",
        "  a symb:IconographicalRecognition;\n",
        "  symb:recognizedImage ?image.\n",
        "?image a symb:Image;\n",
        "  symb:hasSymbol ?symbol.\n",
        "?symbol a symb:Simulation; symb:hasRealityCounterpart data:moral-judgement-of-conduct;\n",
        "symb:hasSimulacrum ?subject.\n",
        "}\n",
        "'''\n",
        "\n",
        "cq1res = newg.query(cq1)\n",
        "\n",
        "for row in cq1res:\n",
        "    print(row)"
      ],
      "execution_count": null,
      "outputs": [
        {
          "output_type": "stream",
          "text": [
            "(rdflib.term.URIRef('http://icondataset.org/art1-img2'), rdflib.term.URIRef('http://icondataset.org/weighihg-empty-balance'))\n",
            "(rdflib.term.URIRef('http://icondataset.org/art1-img5'), rdflib.term.URIRef('http://icondataset.org/last-judgement-painting'))\n"
          ],
          "name": "stdout"
        }
      ]
    },
    {
      "cell_type": "markdown",
      "metadata": {
        "id": "f8wCFjkAkS1g"
      },
      "source": [
        "# **CQ 1.2**\n",
        "quali sono tutti gli oggetti rappresentati nel liv.1 del quadro? \n",
        "\n",
        "Risposte: \n"
      ]
    },
    {
      "cell_type": "code",
      "metadata": {
        "colab": {
          "base_uri": "https://localhost:8080/"
        },
        "id": "K6alrddWj4Rh",
        "outputId": "81015625-9cfc-4e90-e1a0-956ca1a5beab"
      },
      "source": [
        "cq2 = '''\n",
        "prefix data: <http://icondataset.org/> \n",
        "prefix symb: <http://ontologywithbruno.org/> \n",
        "\n",
        "SELECT ?object WHERE {\n",
        "?preic a symb:PreiconographicalRecognition;\n",
        "  symb:aboutWorkOfArt data:vermeer-balance-art1. \n",
        "  {?preic symb:recognizedComposition ?composition. ?composition symb:hasPart ?am} UNION {?preic symb:recognizedArtisticMotif ?am}. \n",
        "?am a symb:ArtisticMotif;   \n",
        "   symb:hasFactualMeaning | symb:hasExpressionalMeaning ?object.\n",
        "  }\n",
        "'''\n",
        "\n",
        "cq2res = newg.query(cq2)\n",
        "\n",
        "for row in cq1res:\n",
        "    print(row)"
      ],
      "execution_count": null,
      "outputs": [
        {
          "output_type": "stream",
          "text": [
            "(rdflib.term.URIRef('http://icondataset.org/mirror1'),)\n",
            "(rdflib.term.URIRef('http://icondataset.org/painting1'),)\n",
            "(rdflib.term.URIRef('http://icondataset.org/blue-cloth1'),)\n",
            "(rdflib.term.URIRef('http://icondataset.org/woman1'),)\n",
            "(rdflib.term.URIRef('http://icondataset.org/empty-balance1'),)\n",
            "(rdflib.term.URIRef('http://icondataset.org/clothes1'),)\n",
            "(rdflib.term.URIRef('http://icondataset.org/act-weighing1'),)\n",
            "(rdflib.term.URIRef('http://icondataset.org/table1'),)\n",
            "(rdflib.term.URIRef('http://icondataset.org/pearl-gold-necklaces1'),)\n",
            "(rdflib.term.URIRef('http://icondataset.org/jewelry-box1'),)\n",
            "(rdflib.term.URIRef('http://icondataset.org/home-interior1'),)\n"
          ],
          "name": "stdout"
        }
      ]
    },
    {
      "cell_type": "markdown",
      "metadata": {
        "id": "eNjyFqkMlToc"
      },
      "source": [
        "# **CQ 5.1**\n",
        "Quali oggetti del liv. 1 rappresentano la storia di laocoonte e i suoi figli rispettivamente nelle due opere? \n"
      ]
    },
    {
      "cell_type": "code",
      "metadata": {
        "id": "fX2a8w1ADVk5"
      },
      "source": [
        "newg = rdflib.Graph() # we create a new graph\n",
        "newg.parse(\"icon-5.ttl\", format=\"ttl\")"
      ],
      "execution_count": null,
      "outputs": []
    },
    {
      "cell_type": "code",
      "metadata": {
        "colab": {
          "base_uri": "https://localhost:8080/"
        },
        "id": "yCo7SMVclkPy",
        "outputId": "def89ac5-3428-4c1a-8653-e101e8df83a4"
      },
      "source": [
        "cq3 = '''\n",
        "prefix data: <http://icondataset.org/> \n",
        "prefix symb: <http://ontologywithbruno.org/> \n",
        "\n",
        "SELECT DISTINCT ?object1 ?object2 WHERE {\n",
        "{?preic a symb:PreiconographicalRecognition;\n",
        "  symb:aboutWorkOfArt data:laocoon-ms-vat-2761-art5-1; \n",
        "  symb:recognizedComposition ?composition. \n",
        "  ?composition symb:hasPart ?am. \n",
        "?am symb:hasFactualMeaning ?object1.} UNION {?preic a symb:PreiconographicalRecognition;\n",
        "  symb:aboutWorkOfArt data:laocoon-vatican-statue-art5-2; \n",
        "  symb:recognizedComposition ?composition. \n",
        "  ?composition symb:hasPart ?am. \n",
        "?am symb:hasFactualMeaning ?object2.}\n",
        "}\n",
        "'''\n",
        "\n",
        "cq3res = newg.query(cq3)\n",
        "\n",
        "for row in cq3res:\n",
        "    print(row)"
      ],
      "execution_count": null,
      "outputs": [
        {
          "output_type": "stream",
          "text": [
            "(rdflib.term.URIRef('http://icondataset.org/clothes'), None)\n",
            "(rdflib.term.URIRef('http://icondataset.org/young'), None)\n",
            "(rdflib.term.URIRef('http://icondataset.org/act-killing-ox'), None)\n",
            "(rdflib.term.URIRef('http://icondataset.org/man'), None)\n",
            "(rdflib.term.URIRef('http://icondataset.org/bear'), None)\n",
            "(rdflib.term.URIRef('http://icondataset.org/axe'), None)\n",
            "(rdflib.term.URIRef('http://icondataset.org/ox'), None)\n",
            "(rdflib.term.URIRef('http://icondataset.org/water'), None)\n",
            "(rdflib.term.URIRef('http://icondataset.org/serpent'), None)\n",
            "(None, rdflib.term.URIRef('http://icondataset.org/serpent'))\n",
            "(None, rdflib.term.URIRef('http://icondataset.org/grabbing'))\n",
            "(None, rdflib.term.URIRef('http://icondataset.org/young'))\n",
            "(None, rdflib.term.URIRef('http://icondataset.org/wiggling-out-of-snakes'))\n",
            "(None, rdflib.term.URIRef('http://icondataset.org/cloth'))\n",
            "(None, rdflib.term.URIRef('http://icondataset.org/bear'))\n",
            "(None, rdflib.term.URIRef('http://icondataset.org/man'))\n"
          ],
          "name": "stdout"
        }
      ]
    },
    {
      "cell_type": "code",
      "metadata": {
        "colab": {
          "base_uri": "https://localhost:8080/"
        },
        "id": "QvaNkRmA6_Th",
        "outputId": "9f78fa46-8058-425d-ee4b-99f4eb188cc3"
      },
      "source": [
        "cq3b = '''\n",
        "prefix data: <http://icondataset.org/> \n",
        "prefix symb: <http://ontologywithbruno.org/> \n",
        "\n",
        "SELECT DISTINCT ?composition WHERE {\n",
        "?preic a symb:PreiconographicalRecognition;\n",
        "  symb:aboutWorkOfArt data:laocoon-ms-vat-2761-art5-1; \n",
        "  symb:recognizedComposition ?composition.\n",
        "}\n",
        "'''\n",
        "\n",
        "cq3bres = newg.query(cq3b)\n",
        "\n",
        "for row in cq3bres:\n",
        "    print(row)"
      ],
      "execution_count": null,
      "outputs": [
        {
          "output_type": "stream",
          "text": [
            "(rdflib.term.URIRef('http://icondataset.org/art5-1-comp4'),)\n",
            "(rdflib.term.URIRef('http://icondataset.org/art5-1-comp3'),)\n",
            "(rdflib.term.URIRef('http://icondataset.org/art5-1-comp2'),)\n",
            "(rdflib.term.URIRef('http://icondataset.org/art5-1-comp1'),)\n",
            "(rdflib.term.URIRef('http://icondataset.org/art5-1-comp5'),)\n"
          ],
          "name": "stdout"
        }
      ]
    },
    {
      "cell_type": "markdown",
      "metadata": {
        "id": "ImVzqXd9l-AB"
      },
      "source": [
        "# **CQ5.2**\n",
        "In quali artistic motif compaiono dei vestiti? A quali opere corrispondono? A quali personaggi si possono riferire?\n",
        "\n",
        "\n",
        " "
      ]
    },
    {
      "cell_type": "code",
      "metadata": {
        "colab": {
          "base_uri": "https://localhost:8080/"
        },
        "id": "Og89n480mLCH",
        "outputId": "d0b7fa15-3dab-421e-9781-1619fd161019"
      },
      "source": [
        "cq4 = '''\n",
        "prefix data: <http://icondataset.org/> \n",
        "prefix symb: <http://ontologywithbruno.org/> \n",
        "\n",
        "SELECT DISTINCT ?am ?artwork ?character WHERE {\n",
        " ?preic symb:aboutWorkOfArt ?artworkURI.\n",
        " ?artworkURI rdfs:label ?artwork. \n",
        "{?preic symb:recognizedComposition ?comp. ?comp symb:hasPart ?am} UNION {?preic symb:recognizedArtisticMotif ?am}\n",
        "?am symb:hasFactualMeaning data:clothes;\n",
        " a symb:ArtisticMotif. \n",
        "OPTIONAL {?icrec symb:refersToArtisticMotif ?comp. ?comp symb:hasPart ?am.\n",
        "?icrec symb:recognizedImage ?img.\n",
        "?img symb:hasCharacter ?character. }\n",
        "}\n",
        "'''\n",
        "\n",
        "cq1res = newg.query(cq4)\n",
        "\n",
        "for row in cq1res:\n",
        "    print(row)"
      ],
      "execution_count": null,
      "outputs": [
        {
          "output_type": "stream",
          "text": [
            "(rdflib.term.URIRef('http://icondataset.org/art5-1-am3'), rdflib.term.Literal('Biblioteca Apostolica Vaticana, XIV Century, ms vat. 2761, folio 15r. Anonymous, Laocoon and his sons', datatype=rdflib.term.URIRef('http://www.w3.org/2001/XMLSchema#string')), rdflib.term.URIRef('http://icondataset.org/laocoon'))\n",
            "(rdflib.term.URIRef('http://icondataset.org/art5-1-am3'), rdflib.term.Literal('Biblioteca Apostolica Vaticana, XIV Century, ms vat. 2761, folio 15r. Anonymous, Laocoon and his sons', datatype=rdflib.term.URIRef('http://www.w3.org/2001/XMLSchema#string')), None)\n",
            "(rdflib.term.URIRef('http://icondataset.org/art5-1-am8'), rdflib.term.Literal('Biblioteca Apostolica Vaticana, XIV Century, ms vat. 2761, folio 15r. Anonymous, Laocoon and his sons', datatype=rdflib.term.URIRef('http://www.w3.org/2001/XMLSchema#string')), rdflib.term.URIRef('http://icondataset.org/thymbraeus'))\n",
            "(rdflib.term.URIRef('http://icondataset.org/art5-1-am10'), rdflib.term.Literal('Biblioteca Apostolica Vaticana, XIV Century, ms vat. 2761, folio 15r. Anonymous, Laocoon and his sons', datatype=rdflib.term.URIRef('http://www.w3.org/2001/XMLSchema#string')), rdflib.term.URIRef('http://icondataset.org/antiphas'))\n"
          ],
          "name": "stdout"
        }
      ]
    },
    {
      "cell_type": "markdown",
      "metadata": {
        "id": "5kS-PFALxsvh"
      },
      "source": [
        "# **CQ5.3**\n",
        "Quali sono gli aspetti del livello 1 di Laocoonte rispettivamente nelle due opere, ed eventuali qualità collegate? \n",
        "\n",
        " "
      ]
    },
    {
      "cell_type": "code",
      "metadata": {
        "colab": {
          "base_uri": "https://localhost:8080/"
        },
        "id": "4YfIsy4fx_rq",
        "outputId": "1b9004a7-f571-4854-eb58-ec2706ebb911"
      },
      "source": [
        "cq5 = '''\n",
        "prefix data: <http://icondataset.org/> \n",
        "prefix symb: <http://ontologywithbruno.org/> \n",
        "prefix dul: <http://www.ontologydesignpatterns.org/ont/dul/DUL.owl#>\n",
        "\n",
        "SELECT DISTINCT ?l1 ?quality ?artwork\n",
        "WHERE {\n",
        "{?icrec symb:aboutWorkOfArt data:laocoon-ms-vat-2761-art5-1. data:laocoon-ms-vat-2761-art5-1 rdfs:label ?artwork} \n",
        "UNION {?icrec symb:aboutWorkOfArt data:laocoon-vatican-statue-art5-2. data:laocoon-vatican-statue-art5-2 rdfs:label ?artwork}\n",
        "?icrec symb:recognizedImage ?img. \n",
        " ?img symb:hasCharacter data:laocoon. \n",
        "{?icrec symb:refersToArtisticMotif ?comp. ?comp symb:hasPart ?am} UNION {?icrec symb:refersToArtisticMotif ?am}\n",
        "{?am symb:hasFactualMeaning ?l1} UNION {?am symb:hasExpressionalMeaning ?l1}\n",
        " OPTIONAL {?am dul:hasQuality ?quality}\n",
        "}\n",
        "'''\n",
        "\n",
        "cq1res = newg.query(cq5)\n",
        "\n",
        "for row in cq1res:\n",
        "    print(row)"
      ],
      "execution_count": null,
      "outputs": [
        {
          "output_type": "stream",
          "text": [
            "(rdflib.term.URIRef('http://icondataset.org/man'), None, rdflib.term.Literal('Biblioteca Apostolica Vaticana, XIV Century, ms vat. 2761, folio 15r. Anonymous, Laocoon and his sons', datatype=rdflib.term.URIRef('http://www.w3.org/2001/XMLSchema#string')))\n",
            "(rdflib.term.URIRef('http://icondataset.org/bear'), rdflib.term.URIRef('http://icondataset.org/white'), rdflib.term.Literal('Biblioteca Apostolica Vaticana, XIV Century, ms vat. 2761, folio 15r. Anonymous, Laocoon and his sons', datatype=rdflib.term.URIRef('http://www.w3.org/2001/XMLSchema#string')))\n",
            "(rdflib.term.URIRef('http://icondataset.org/clothes'), None, rdflib.term.Literal('Biblioteca Apostolica Vaticana, XIV Century, ms vat. 2761, folio 15r. Anonymous, Laocoon and his sons', datatype=rdflib.term.URIRef('http://www.w3.org/2001/XMLSchema#string')))\n",
            "(rdflib.term.URIRef('http://icondataset.org/wiggling-out-of-snakes'), None, rdflib.term.Literal('Agesander, Athenodoros and Polydorus, Laocoön and His Sons, 40-20 B.C., Vatican City, Vatican Museums', datatype=rdflib.term.URIRef('http://www.w3.org/2001/XMLSchema#string')))\n",
            "(rdflib.term.URIRef('http://icondataset.org/despair'), None, rdflib.term.Literal('Agesander, Athenodoros and Polydorus, Laocoön and His Sons, 40-20 B.C., Vatican City, Vatican Museums', datatype=rdflib.term.URIRef('http://www.w3.org/2001/XMLSchema#string')))\n",
            "(rdflib.term.URIRef('http://icondataset.org/man'), rdflib.term.URIRef('http://icondataset.org/nudity'), rdflib.term.Literal('Agesander, Athenodoros and Polydorus, Laocoön and His Sons, 40-20 B.C., Vatican City, Vatican Museums', datatype=rdflib.term.URIRef('http://www.w3.org/2001/XMLSchema#string')))\n",
            "(rdflib.term.URIRef('http://icondataset.org/bear'), None, rdflib.term.Literal('Agesander, Athenodoros and Polydorus, Laocoön and His Sons, 40-20 B.C., Vatican City, Vatican Museums', datatype=rdflib.term.URIRef('http://www.w3.org/2001/XMLSchema#string')))\n",
            "(rdflib.term.URIRef('http://icondataset.org/pathos'), None, rdflib.term.Literal('Agesander, Athenodoros and Polydorus, Laocoön and His Sons, 40-20 B.C., Vatican City, Vatican Museums', datatype=rdflib.term.URIRef('http://www.w3.org/2001/XMLSchema#string')))\n"
          ],
          "name": "stdout"
        }
      ]
    },
    {
      "cell_type": "markdown",
      "metadata": {
        "id": "ETtTPx1FraqA"
      },
      "source": [
        "# **CQ5.4**\n",
        "In quali rappresentazioni è coinvolto Laocoonte? Di che tipo sono (storie, allegorie, invenzioni)?\n"
      ]
    },
    {
      "cell_type": "code",
      "metadata": {
        "colab": {
          "base_uri": "https://localhost:8080/"
        },
        "id": "MHUW5TGXrbeY",
        "outputId": "8ad115a0-7e38-4858-dfc0-373e6d696452"
      },
      "source": [
        "cq6 = '''\n",
        "prefix data: <http://icondataset.org/> \n",
        "prefix symb: <http://ontologywithbruno.org/> \n",
        "prefix dul: <http://www.ontologydesignpatterns.org/ont/dul/DUL.owl#>\n",
        "\n",
        "SELECT ?rappr ?type\n",
        "WHERE {\n",
        "?img symb:hasCharacter data:laocoon. \n",
        "?rappr symb:composedOf ?img; a ?type\n",
        "}\n",
        "'''\n",
        "\n",
        "cq1res = newg.query(cq6)\n",
        "\n",
        "for row in cq1res:\n",
        "    print(row)"
      ],
      "execution_count": null,
      "outputs": [
        {
          "output_type": "stream",
          "text": [
            "(rdflib.term.URIRef('http://icondataset.org/art5-1-story-laocoon-sacrifice'), rdflib.term.URIRef('http://ontologywithbruno.org/Story'))\n",
            "(rdflib.term.URIRef('http://icondataset.org/art5-1-story-laocoon-sons'), rdflib.term.URIRef('http://ontologywithbruno.org/Story'))\n",
            "(rdflib.term.URIRef('http://icondataset.org/art5-2-story-laocoon-sons'), rdflib.term.URIRef('http://ontologywithbruno.org/Story'))\n"
          ],
          "name": "stdout"
        }
      ]
    },
    {
      "cell_type": "markdown",
      "metadata": {
        "id": "sh6HTOrUudgb"
      },
      "source": [
        "# **CQ5.5**\n",
        "Chi sono gli autori delle interpretazioni? Quali sono le eventuali fonti e evidenze a supporto? "
      ]
    },
    {
      "cell_type": "code",
      "metadata": {
        "colab": {
          "base_uri": "https://localhost:8080/"
        },
        "id": "FhcUS4BsuXE5",
        "outputId": "ac5a9876-e7a6-4c98-a704-b7b52a32cb33"
      },
      "source": [
        "cq7 = '''\n",
        "prefix data: <http://icondataset.org/> \n",
        "prefix symb: <http://ontologywithbruno.org/> \n",
        "prefix dul: <http://www.ontologydesignpatterns.org/ont/dul/DUL.owl#>\n",
        "prefix cito: <http://purl.org/spar/cito/>\n",
        "\n",
        "SELECT DISTINCT ?icrec ?references ?evidence\n",
        "WHERE {\n",
        "?icrec dul:includesAgent ?author .\n",
        "{?icrec a symb:PreiconographicalRecognition} UNION {?icrec a symb:IconographicalRecognition} UNION {?icrec a symb:IconologicalRecognition}\n",
        "OPTIONAL {?icrec cito:citesForInformation ?references}\n",
        "OPTIONAL {?icrec cito:citesAsEvidence ?evidence}\n",
        "\n",
        "}\n",
        "'''\n",
        "\n",
        "cq1res = newg.query(cq7)\n",
        "\n",
        "for row in cq1res:\n",
        "    print(row)"
      ],
      "execution_count": null,
      "outputs": [
        {
          "output_type": "stream",
          "text": [
            "(rdflib.term.URIRef('http://icondataset.org/art5-1-icrec1'), rdflib.term.URIRef('http://icondataset.org/panofsky-saxl-1933'), rdflib.term.URIRef('http://icondataset.org/verg-aen-199-233'))\n",
            "(rdflib.term.URIRef('http://icondataset.org/art5-1-preic2'), None, None)\n",
            "(rdflib.term.URIRef('http://icondataset.org/art5-2-preic3'), None, None)\n",
            "(rdflib.term.URIRef('http://icondataset.org/art5-1-iconolrec1'), None, None)\n",
            "(rdflib.term.URIRef('http://icondataset.org/art5-2-icrec1'), rdflib.term.URIRef('http://icondataset.org/panofsky-saxl-1933'), None)\n",
            "(rdflib.term.URIRef('http://icondataset.org/art5-2-preic4'), None, None)\n",
            "(rdflib.term.URIRef('http://icondataset.org/art5-2-icrec6'), None, None)\n",
            "(rdflib.term.URIRef('http://icondataset.org/art5-1-icrec4'), rdflib.term.URIRef('http://icondataset.org/panofsky-saxl-1933'), rdflib.term.URIRef('http://icondataset.org/verg-aen-199-233'))\n",
            "(rdflib.term.URIRef('http://icondataset.org/art5-1-preic3'), None, None)\n",
            "(rdflib.term.URIRef('http://icondataset.org/art5-2-icrec3'), rdflib.term.URIRef('http://icondataset.org/panofsky-saxl-1933'), None)\n",
            "(rdflib.term.URIRef('http://icondataset.org/art5-2-preic2'), None, None)\n",
            "(rdflib.term.URIRef('http://icondataset.org/art5-2-icrec4'), rdflib.term.URIRef('http://icondataset.org/panofsky-saxl-1933'), None)\n",
            "(rdflib.term.URIRef('http://icondataset.org/art5-2-preic1'), None, None)\n",
            "(rdflib.term.URIRef('http://icondataset.org/art5-2-icrec5'), None, None)\n",
            "(rdflib.term.URIRef('http://icondataset.org/art5-1-preic1'), None, None)\n",
            "(rdflib.term.URIRef('http://icondataset.org/art5-2-icrec2'), rdflib.term.URIRef('http://icondataset.org/panofsky-saxl-1933'), None)\n",
            "(rdflib.term.URIRef('http://icondataset.org/art5-1-icrec6'), rdflib.term.URIRef('http://icondataset.org/panofsky-saxl-1933'), rdflib.term.URIRef('http://icondataset.org/verg-aen-201-202'))\n",
            "(rdflib.term.URIRef('http://icondataset.org/art5-2-preic5'), None, None)\n",
            "(rdflib.term.URIRef('http://icondataset.org/art5-1-preic5'), None, None)\n",
            "(rdflib.term.URIRef('http://icondataset.org/art5-1-preic4'), None, None)\n",
            "(rdflib.term.URIRef('http://icondataset.org/art5-1-icrec2'), rdflib.term.URIRef('http://icondataset.org/panofsky-saxl-1933'), rdflib.term.URIRef('http://icondataset.org/verg-aen-199-233'))\n",
            "(rdflib.term.URIRef('http://icondataset.org/art5-1-icrec5'), rdflib.term.URIRef('http://icondataset.org/panofsky-saxl-1933'), rdflib.term.URIRef('http://icondataset.org/verg-aen-199-233'))\n",
            "(rdflib.term.URIRef('http://icondataset.org/art5-1-icrec3'), rdflib.term.URIRef('http://icondataset.org/panofsky-saxl-1933'), rdflib.term.URIRef('http://icondataset.org/verg-aen-199-233'))\n"
          ],
          "name": "stdout"
        }
      ]
    },
    {
      "cell_type": "markdown",
      "metadata": {
        "id": "5IrpKobXDix8"
      },
      "source": [
        "# Case 8 - Neptune and Quos Ego Iconography"
      ]
    },
    {
      "cell_type": "code",
      "metadata": {
        "id": "m2lT9iydDezn",
        "colab": {
          "base_uri": "https://localhost:8080/"
        },
        "outputId": "a4ec9159-954c-48d4-8412-fe51bf68d47d"
      },
      "source": [
        "newg = rdflib.Graph() # we create a new graph\n",
        "newg.parse(\"icon-8.ttl\", format=\"ttl\")"
      ],
      "execution_count": null,
      "outputs": [
        {
          "output_type": "execute_result",
          "data": {
            "text/plain": [
              "<Graph identifier=Nddc1fa6b58094a61bd1a74cb542a2137 (<class 'rdflib.graph.Graph'>)>"
            ]
          },
          "metadata": {
            "tags": []
          },
          "execution_count": 3
        }
      ]
    },
    {
      "cell_type": "markdown",
      "metadata": {
        "id": "MV_x9BS3D3o3"
      },
      "source": [
        "# CQ 8.1\n",
        "What is the symbolic meaning in common between the Neptune’s statue, the iconographic source Quos Ego, and the text source of Virgil’s work?"
      ]
    },
    {
      "cell_type": "code",
      "metadata": {
        "id": "EHEaYG_YDvcl",
        "colab": {
          "base_uri": "https://localhost:8080/"
        },
        "outputId": "279d488e-b41b-4334-856c-4cc1b157aa41"
      },
      "source": [
        "cq8_1 = '''\n",
        "prefix data: <http://icondataset.org/> \n",
        "prefix symb: <http://ontologywithbruno.org/> \n",
        "prefix dul: <http://www.ontologydesignpatterns.org/ont/dul/DUL.owl#>\n",
        "prefix cito: <http://purl.org/spar/cito/>\n",
        "\n",
        "SELECT ?meaning \n",
        "WHERE {\n",
        "?icrec symb:aboutWorkOfArt data:raimondi-quos-ego-art8-2, data:giambologna-neptune-art8-1 .\n",
        "?icrec symb:recognizedIntrinsicMeaning ?intrinsic.\n",
        "?intrinsic symb:recognizedConceptualObject ?meaning. \n",
        "?simulation symb:hasSimulacrum data:verg-aen-1-135; \n",
        "  symb:hasRealityCounterpart ?meaning. \n",
        "}\n",
        "'''\n",
        "\n",
        "cq8_1res = newg.query(cq8_1)\n",
        "\n",
        "for row in cq8_1res:\n",
        "    print(row)"
      ],
      "execution_count": null,
      "outputs": [
        {
          "output_type": "stream",
          "text": [
            "(rdflib.term.URIRef('http://icondataset.org/ruler-appeasing-revolt'),)\n"
          ],
          "name": "stdout"
        }
      ]
    },
    {
      "cell_type": "markdown",
      "metadata": {
        "id": "F17txqZYn1B1"
      },
      "source": [
        "# CQ 8_2\n",
        "What second level subjects are present respectively in the artworks depicting the story of Laocoon and his sons? \n"
      ]
    },
    {
      "cell_type": "code",
      "metadata": {
        "id": "hYkYiw7tHPzm",
        "colab": {
          "base_uri": "https://localhost:8080/"
        },
        "outputId": "d778aeaa-1a7f-4aa5-b500-763fe0a946c7"
      },
      "source": [
        "cq8_2 = '''\n",
        "prefix data: <http://icondataset.org/> \n",
        "prefix symb: <http://ontologywithbruno.org/> \n",
        "prefix dul: <http://www.ontologydesignpatterns.org/ont/dul/DUL.owl#>\n",
        "prefix cito: <http://purl.org/spar/cito/>\n",
        "\n",
        "SELECT ?char ?artwork\n",
        "WHERE {\n",
        "data:story-neptune-quos-ego symb:composedOf ?char .\n",
        "?icrec symb:recognizedInvenzione data:story-neptune-quos-ego.\n",
        "?icrec2 symb:recognizedImage ?img.\n",
        "?img ?rel ?char.\n",
        "?icrec symb:aboutWorkOfArt ?artwork.\n",
        "?icrec2 symb:aboutWorkOfArt ?artwork.\n",
        "}\n",
        "'''\n",
        "\n",
        "cq8_2res = newg.query(cq8_2)\n",
        "\n",
        "for row in cq8_2res:\n",
        "    print(row)"
      ],
      "execution_count": null,
      "outputs": [
        {
          "output_type": "stream",
          "text": [
            "(rdflib.term.URIRef('http://icondataset.org/calming-riots'), rdflib.term.URIRef('http://icondataset.org/giambologna-neptune-art8-1'))\n",
            "(rdflib.term.URIRef('http://icondataset.org/neptune'), rdflib.term.URIRef('http://icondataset.org/giambologna-neptune-art8-1'))\n",
            "(rdflib.term.URIRef('http://icondataset.org/calming-riots'), rdflib.term.URIRef('http://icondataset.org/raimondi-quos-ego-art8-2'))\n",
            "(rdflib.term.URIRef('http://icondataset.org/shipwreck'), rdflib.term.URIRef('http://icondataset.org/raimondi-quos-ego-art8-2'))\n",
            "(rdflib.term.URIRef('http://icondataset.org/neptune'), rdflib.term.URIRef('http://icondataset.org/raimondi-quos-ego-art8-2'))\n",
            "(rdflib.term.URIRef('http://icondataset.org/storm-provoked-by-eolus'), rdflib.term.URIRef('http://icondataset.org/raimondi-quos-ego-art8-2'))\n",
            "(rdflib.term.URIRef('http://icondataset.org/putti-as-winds'), rdflib.term.URIRef('http://icondataset.org/raimondi-quos-ego-art8-2'))\n"
          ],
          "name": "stdout"
        }
      ]
    },
    {
      "cell_type": "code",
      "metadata": {
        "id": "tGYOeoCpcoVZ"
      },
      "source": [
        ""
      ],
      "execution_count": null,
      "outputs": []
    },
    {
      "cell_type": "markdown",
      "metadata": {
        "id": "7ngN5_aFclr8"
      },
      "source": [
        "# Case 10 - Hercules becomes an allegory of Salvation"
      ]
    },
    {
      "cell_type": "code",
      "metadata": {
        "colab": {
          "base_uri": "https://localhost:8080/"
        },
        "id": "iWbB39SPWE5-",
        "outputId": "18d4d5f6-ed5e-47d4-e93b-143e10bfc8d5"
      },
      "source": [
        "newg = rdflib.Graph() \n",
        "newg.parse(\"icon-10.ttl\", format=\"ttl\")"
      ],
      "execution_count": null,
      "outputs": [
        {
          "output_type": "execute_result",
          "data": {
            "text/plain": [
              "<Graph identifier=N05838e3b11334eafb561266995ca34b7 (<class 'rdflib.graph.Graph'>)>"
            ]
          },
          "metadata": {},
          "execution_count": 4
        }
      ]
    },
    {
      "cell_type": "markdown",
      "metadata": {
        "id": "iHM8DhVfVsjY"
      },
      "source": [
        "# CQ 10_1\n",
        "What are the level 1 subjects (?recAttr) that allow us to recognize an iconographical subject (?l2) and what are the attributes (?l1) that are relevant to an iconological recognition?"
      ]
    },
    {
      "cell_type": "code",
      "metadata": {
        "colab": {
          "base_uri": "https://localhost:8080/"
        },
        "id": "J9MQThn0V3wb",
        "outputId": "2fb4695f-880c-4bf7-f5d0-fcfa6ec16f11"
      },
      "source": [
        "cq10_1 = '''\n",
        "prefix data: <http://icondataset.org/> \n",
        "prefix symb: <http://ontologywithbruno.org/> \n",
        "prefix dul: <http://www.ontologydesignpatterns.org/ont/dul/DUL.owl#>\n",
        "prefix cito: <http://purl.org/spar/cito/>\n",
        "\n",
        "SELECT DISTINCT ?recAttr ?l2 ?l1 ?artwork\n",
        "WHERE {\n",
        "{?icrec symb:aboutWorkOfArt ?artwork; \n",
        "  symb:recognizedImage ?img. \n",
        "?img symb:hasRecAttribute ?recAttrURI. \n",
        "{?recAttrURI symb:hasFactualMeaning ?recAttr} UNION {?recAttrURI symb:hasExpressionalMeaning ?recAttr}\n",
        "{?img symb:hasCharacter ?l2} UNION {?img symb:hasPlace ?l2} UNION {?img symb:hasEvent ?l2} UNION {?img symb:hasSymbol ?l2} UNION {?img symb:hasPersonification ?l2} UNION {?img symb:hasNamedObject ?l2}\n",
        "} UNION \n",
        "{\n",
        "?iconol symb:aboutWorkOfArt ?artwork; \n",
        "  cito:citesAsEvidence ?am;\n",
        "  symb:recognizedIntrinsicMeaning ?meaning. \n",
        "{?am symb:hasFactualMeaning ?l1} UNION {?am symb:hasExpressionalMeaning ?l1}\n",
        "}\n",
        "}\n",
        "\n",
        "'''\n",
        "\n",
        "cq10_1res = newg.query(cq10_1)\n",
        "\n",
        "for row in cq10_1res:\n",
        "    print(row)"
      ],
      "execution_count": null,
      "outputs": [
        {
          "output_type": "stream",
          "text": [
            "(rdflib.term.URIRef('http://icondataset.org/lion-skin'), rdflib.term.URIRef('http://icondataset.org/hercules'), None, rdflib.term.URIRef('http://icondataset.org/hercules-boar-art10-1'))\n",
            "(None, None, rdflib.term.URIRef('http://icondataset.org/cloth'), rdflib.term.URIRef('http://icondataset.org/hercules-boar-art10-1'))\n",
            "(None, None, rdflib.term.URIRef('http://icondataset.org/deer'), rdflib.term.URIRef('http://icondataset.org/hercules-boar-art10-1'))\n",
            "(None, None, rdflib.term.URIRef('http://icondataset.org/stepping-on'), rdflib.term.URIRef('http://icondataset.org/hercules-boar-art10-1'))\n",
            "(None, None, rdflib.term.URIRef('http://icondataset.org/cloth'), rdflib.term.URIRef('http://icondataset.org/allegory-salvation-art10-2'))\n",
            "(None, None, rdflib.term.URIRef('http://icondataset.org/deer'), rdflib.term.URIRef('http://icondataset.org/allegory-salvation-art10-2'))\n",
            "(None, None, rdflib.term.URIRef('http://icondataset.org/stepping-on'), rdflib.term.URIRef('http://icondataset.org/allegory-salvation-art10-2'))\n"
          ],
          "name": "stdout"
        }
      ]
    },
    {
      "cell_type": "code",
      "metadata": {
        "colab": {
          "base_uri": "https://localhost:8080/"
        },
        "id": "B9zXkaQF5RgO",
        "outputId": "76efcfbe-cc69-4ca5-a9ec-b842a8fda675"
      },
      "source": [
        "cq10_1 = '''\n",
        "prefix data: <http://icondataset.org/> \n",
        "prefix symb: <http://ontologywithbruno.org/> \n",
        "prefix dul: <http://www.ontologydesignpatterns.org/ont/dul/DUL.owl#>\n",
        "prefix cito: <http://purl.org/spar/cito/>\n",
        "\n",
        "SELECT DISTINCT ?intrinsic ?rel ?related\n",
        "WHERE {\n",
        "?rec symb:aboutWorkOfArt ?artwork; \n",
        "  symb:recognizedIntrinsicMeaning ?intrinsic.\n",
        "?intrinsic ?rel ?related\n",
        "\n",
        "\n",
        "}\n",
        "\n",
        "'''\n",
        "\n",
        "cq10_1res = newg.query(cq10_1)\n",
        "\n",
        "for row in cq10_1res:\n",
        "    print(row)"
      ],
      "execution_count": null,
      "outputs": [
        {
          "output_type": "stream",
          "name": "stdout",
          "text": [
            "(rdflib.term.URIRef('http://icondataset.org/art10-2-intrinsic-meaning'), rdflib.term.URIRef('http://www.w3.org/1999/02/22-rdf-syntax-ns#type'), rdflib.term.URIRef('http://ontologywithbruno.org/IntrinsicMeaning'))\n",
            "(rdflib.term.URIRef('http://icondataset.org/art10-2-intrinsic-meaning'), rdflib.term.URIRef('http://ontologywithbruno.org/hasAllegory'), rdflib.term.URIRef('http://icondataset.org/art10-2-allegory-salvation'))\n",
            "(rdflib.term.URIRef('http://icondataset.org/art10-2-intrinsic-meaning'), rdflib.term.URIRef('http://ontologywithbruno.org/recognizedConceptualObject'), rdflib.term.URIRef('http://icondataset.org/redemption'))\n",
            "(rdflib.term.URIRef('http://icondataset.org/art10-1-2-intrinsic-meaning'), rdflib.term.URIRef('http://www.w3.org/1999/02/22-rdf-syntax-ns#type'), rdflib.term.URIRef('http://ontologywithbruno.org/IntrinsicMeaning'))\n",
            "(rdflib.term.URIRef('http://icondataset.org/art10-1-2-intrinsic-meaning'), rdflib.term.URIRef('http://ontologywithbruno.org/recognizedCulturalPhenomenon'), rdflib.term.URIRef('http://icondataset.org/classical-motifs-recovery'))\n"
          ]
        }
      ]
    },
    {
      "cell_type": "markdown",
      "metadata": {
        "id": "FUb0uRwzWuqC"
      },
      "source": [
        "# CQ 10_2\n",
        "Is there a copy of artistic motifs between the two artworks? What are the copied level 1 subjects? What are their respective propotypes?\n",
        "\n",
        "**PROBLEMA**: in alcuni casi non dà l'artwork del prototype, anche se nei dati c'è. Ripete 3 volte carrying on shoulders"
      ]
    },
    {
      "cell_type": "code",
      "metadata": {
        "colab": {
          "base_uri": "https://localhost:8080/"
        },
        "id": "BGDd7Y99flDH",
        "outputId": "44d19801-ee33-4cac-86bd-f3cbf5071d8a"
      },
      "source": [
        "cq10_2 = '''\n",
        "prefix data: <http://icondataset.org/> \n",
        "prefix symb: <http://ontologywithbruno.org/> \n",
        "prefix dul: <http://www.ontologydesignpatterns.org/ont/dul/DUL.owl#>\n",
        "prefix cito: <http://purl.org/spar/cito/>\n",
        "\n",
        "SELECT ?prototype ?copy \n",
        "WHERE {\n",
        "?mrec a symb:FormalMotifRecognition; \n",
        "  symb:aboutWorkOfArt data:allegory-salvation-art10-2;\n",
        "   symb:aboutWorkOfArt data:hercules-boar-art10-1;\n",
        "  symb:hasPrototypicalMotif ?prototypeURI;\n",
        "  symb:hasCopiedMotif ?copyURI \n",
        "{?prototypeURI symb:hasFactualMeaning ?prototype} UNION {?prototypeURI symb:hasExpressionalMeaning ?prototype}\n",
        "{?copyURI symb:hasFactualMeaning ?copy} UNION {?copyURI symb:hasExpressionalMeaning ?copy}\n",
        "\n",
        "# OPTIONAL {\n",
        "#{?preic1 symb:aboutWorkOfArt ?artwork1 ;\n",
        "#   symb:recognizedArtisticMotif ?copyURI} \n",
        "#  UNION \n",
        "#{?preic1 symb:aboutWorkOfArt ?artwork1 ;\n",
        "#   symb:recognizedComposition ?comp. \n",
        "#  ?comp symb:hasPart ?copyURI}\n",
        "#    }\n",
        "# OPTIONAL {\n",
        "# {?preic2 symb:aboutWorkOfArt ?artwork2; \n",
        "#  symb:recognizedArtisticMotif ?prototypeURI} \n",
        "#  UNION \n",
        "#    {?preic2 symb:recognizedComposition ?comp; \n",
        "#     symb:aboutWorkOfArt ?artwork2. \n",
        "#    ?comp symb:hasPart ?prototypeURI}\n",
        "#    }\n",
        "}\n",
        "'''\n",
        "\n",
        "cq10_2res = newg.query(cq10_2)\n",
        "\n",
        "for row in cq10_2res:\n",
        "    print(row)"
      ],
      "execution_count": null,
      "outputs": [
        {
          "output_type": "stream",
          "text": [
            "(rdflib.term.URIRef('http://icondataset.org/lion-skin'), rdflib.term.URIRef('http://icondataset.org/cloth'))\n",
            "(rdflib.term.URIRef('http://icondataset.org/man'), rdflib.term.URIRef('http://icondataset.org/man'))\n",
            "(rdflib.term.URIRef('http://icondataset.org/carrying-on-shoulders'), rdflib.term.URIRef('http://icondataset.org/carrying-on-shoulders'))\n",
            "(rdflib.term.URIRef('http://icondataset.org/boar'), rdflib.term.URIRef('http://icondataset.org/deer'))\n"
          ],
          "name": "stdout"
        }
      ]
    },
    {
      "cell_type": "markdown",
      "metadata": {
        "id": "mQshZhrLfrGQ"
      },
      "source": [
        "# CQ 10_3\n",
        "Find artworks involved both in a formal motifs recognition and in an iconological recognition "
      ]
    },
    {
      "cell_type": "code",
      "metadata": {
        "colab": {
          "base_uri": "https://localhost:8080/"
        },
        "id": "-7LuqEu7gPKK",
        "outputId": "8c41cde2-a094-4b74-a458-ff78c2ac3b7d"
      },
      "source": [
        "cq10_3 = '''\n",
        "prefix data: <http://icondataset.org/> \n",
        "prefix symb: <http://ontologywithbruno.org/> \n",
        "prefix dul: <http://www.ontologydesignpatterns.org/ont/dul/DUL.owl#>\n",
        "prefix cito: <http://purl.org/spar/cito/>\n",
        "\n",
        "SELECT DISTINCT ?artwork \n",
        "WHERE {\n",
        "?mcrec symb:aboutWorkOfArt ?artwork; \n",
        "  a symb:FormalMotifRecognition.\n",
        "?iconol symb:aboutWorkOfArt ?artwork; \n",
        "  a symb:IconologicalRecognition. \n",
        "}\n",
        "'''\n",
        "\n",
        "cq10_3res = newg.query(cq10_3)\n",
        "\n",
        "for row in cq10_3res:\n",
        "    print(row)"
      ],
      "execution_count": null,
      "outputs": [
        {
          "output_type": "stream",
          "text": [
            "(rdflib.term.URIRef('http://icondataset.org/hercules-boar-art10-1'),)\n",
            "(rdflib.term.URIRef('http://icondataset.org/allegory-salvation-art10-2'),)\n"
          ],
          "name": "stdout"
        }
      ]
    },
    {
      "cell_type": "markdown",
      "metadata": {
        "id": "jmWWNQYMc3Hk"
      },
      "source": [
        "# CQ Imdahl \n",
        "\n",
        "What is the artwork iconic meaning according to Imdahl? What are the first level elements that in his claim shows this meaning? "
      ]
    },
    {
      "cell_type": "code",
      "metadata": {
        "colab": {
          "base_uri": "https://localhost:8080/"
        },
        "id": "Ms5h8Op_daal",
        "outputId": "d7eb426a-e963-4c73-f125-82243ac95815"
      },
      "source": [
        "newg = rdflib.Graph() \n",
        "newg.parse(\"icon-12.ttl\", format=\"ttl\")"
      ],
      "execution_count": null,
      "outputs": [
        {
          "output_type": "execute_result",
          "data": {
            "text/plain": [
              "<Graph identifier=Nd279d8b408df4eeb9d71ef77bf1397e4 (<class 'rdflib.graph.Graph'>)>"
            ]
          },
          "metadata": {
            "tags": []
          },
          "execution_count": 4
        }
      ]
    },
    {
      "cell_type": "code",
      "metadata": {
        "colab": {
          "base_uri": "https://localhost:8080/"
        },
        "id": "xl1iW3TbdT1J",
        "outputId": "13e876b8-6e3a-4721-9b2d-9bc232a4c3a8"
      },
      "source": [
        "cq12 = '''\n",
        "prefix data: <http://icondataset.org/> \n",
        "prefix symb: <http://ontologywithbruno.org/> \n",
        "prefix dul: <http://www.ontologydesignpatterns.org/ont/dul/DUL.owl#>\n",
        "\n",
        "SELECT  ?meaning ?element ?eltype\n",
        "WHERE {\n",
        "?iconol symb:aboutWorkOfArt data:codex-egberti-f22-jesus-centurion; \n",
        "  a symb:IconologicalRecognition; \n",
        "  symb:recognizedIntrinsicMeaning ?intrinsic. \n",
        "?intrinsic symb:recognizedConceptualObject ?meaning. \n",
        "{?intrinsic symb:hasCompositionalStructure/  ?element} UNION {?intrinsic symb:hasNaturalElement ?element} \n",
        "UNION {?intrinsic symb:hasQuality ?element} UNION {?intrinsic symb:hasExpressionalMeaning ?element} \n",
        "UNION {?intrinsic symb:hasAction ?element}\n",
        "?element a ?eltype.\n",
        "# OPTIONAL {?intrinsic symb:hasArtisticMotif ?am. {?am symb:hasFactualMeaning ?element} UNION {?am symb:hasExpressionalMeaning} UNION {?am dul:hasQuality ?element}\n",
        "# OPTIONAL {?intrinsic symb:hasComposition ?comp. }\n",
        "}\n",
        "'''\n",
        "\n",
        "cq12res = newg.query(cq12)\n",
        "\n",
        "for row in cq12res:\n",
        "    print(row)"
      ],
      "execution_count": null,
      "outputs": [
        {
          "output_type": "stream",
          "text": [
            "(rdflib.term.URIRef('http://icondataset.org/tension-christ-inside-and-out-the-scene'), rdflib.term.URIRef('http://icondataset.org/symmetry'), rdflib.term.URIRef('http://ontologywithbruno.org/CompositionalStructure'))\n",
            "(rdflib.term.URIRef('http://icondataset.org/tension-christ-inside-and-out-the-scene'), rdflib.term.URIRef('http://icondataset.org/mix-of-bipartite-tripartite-structure'), rdflib.term.URIRef('http://ontologywithbruno.org/CompositionalStructure'))\n",
            "(rdflib.term.URIRef('http://icondataset.org/tension-christ-inside-and-out-the-scene'), rdflib.term.URIRef('http://icondataset.org/dynamicity'), rdflib.term.URIRef('http://www.ontologydesignpatterns.org/ont/dul/DUL.owl#Quality'))\n"
          ],
          "name": "stdout"
        }
      ]
    }
  ]
}