{
 "cells": [
  {
   "cell_type": "markdown",
   "id": "89892da5",
   "metadata": {},
   "source": [
    "# Dataset overview"
   ]
  },
  {
   "cell_type": "markdown",
   "id": "36f7d5d6",
   "metadata": {},
   "source": [
    "This notebook contains the SPARQL queries useful to have a general overview of the dataset itself (e.g. number of triples, number of subjects etc.). </br>\n",
    "It is structured ad follows. Section 1 gives an overview of the numbers of objects present in the dataset. Section 2 gives an overview on cultural phenomena and the exploratory analisis of the correlation between cultural phenomena and subjects of other levels. Section 3 presents the relations between subjects of different levels. "
   ]
  },
  {
   "cell_type": "markdown",
   "id": "f1d22340",
   "metadata": {},
   "source": [
    "## Table of contents:\n",
    "* [1.The dataset in numbers](#first-bullet)\n",
    "* [2.Overview of Cultural Phenomena](#second-bullet)\n",
    "* [3.Overview of subjects relations](#third-bullet)"
   ]
  },
  {
   "cell_type": "code",
   "execution_count": 1,
   "id": "ce5f770e",
   "metadata": {},
   "outputs": [],
   "source": [
    "import rdflib\n",
    "from rdflib.namespace import CSVW, DC, DCAT, DCTERMS, DOAP, FOAF, ODRL2, ORG, OWL, \\\n",
    "                           PROF, PROV, RDF, RDFS, SDO, SH, SKOS, SOSA, SSN, TIME, \\\n",
    "                           VOID, XMLNS, XSD\n",
    "from rdflib import Namespace\n",
    "from rdflib import URIRef\n",
    "\n",
    "import pandas as pd\n",
    "import numpy as np\n",
    "import seaborn as sns \n",
    "import matplotlib.pyplot as plt\n",
    "from collections import defaultdict , Counter\n",
    "import plotly.graph_objects as go\n",
    "from pymantic import sparql"
   ]
  },
  {
   "cell_type": "code",
   "execution_count": 23,
   "id": "7f007445",
   "metadata": {},
   "outputs": [
    {
     "data": {
      "text/plain": [
       "<Graph identifier=Nda4c4ce329bb4059ab9ef97bd95bd015 (<class 'rdflib.graph.Graph'>)>"
      ]
     },
     "execution_count": 23,
     "metadata": {},
     "output_type": "execute_result"
    }
   ],
   "source": [
    "# option 1: query the graph\n",
    "newg = rdflib.Graph() # we create a new graph\n",
    "newg.parse(\"15112022output3.ttl\", format=\"ttl\")"
   ]
  },
  {
   "cell_type": "code",
   "execution_count": 17,
   "id": "4678e5d4",
   "metadata": {},
   "outputs": [
    {
     "data": {
      "text/plain": [
       "<Response [200]>"
      ]
     },
     "execution_count": 17,
     "metadata": {},
     "output_type": "execute_result"
    }
   ],
   "source": [
    "# option 2: query Blazegraph\n",
    "\n",
    "# nb: to run it, you must run your local blazegraph first\n",
    "server = sparql.SPARQLServer('http://127.0.0.1:9999/bigdata/sparql')\n",
    "\n",
    "# Loading data to Blazegraph\n",
    "server.update('load <file:///15112022output3.ttl>')"
   ]
  },
  {
   "cell_type": "code",
   "execution_count": 6,
   "id": "13aa4b06",
   "metadata": {},
   "outputs": [],
   "source": [
    "# useful functions\n",
    "import json\n",
    "def store_in_json(file_name, dictName): \n",
    "  with open(file_name, mode='w', encoding=\"utf-8\") as jsonfile:\n",
    "    json.dump(dictName, jsonfile)\n",
    "    \n",
    "# open dictionaries stored in json\n",
    "def open_json(json_file): \n",
    "  with open(json_file, mode='r', encoding=\"utf-8\") as jsonfile:\n",
    "    dictName = json.load(jsonfile)\n",
    "    return dictName\n",
    "\n",
    "\n",
    "import csv \n",
    "def store_csv(file_name, first_line, list_of_lists): \n",
    "    with open(file_name, mode='w', newline='', encoding='UTF-8') as my_file:\n",
    "        file = csv.writer(my_file, delimiter=',', quotechar='\"', quoting=csv.QUOTE_ALL)\n",
    "        file.writerow(first_line) \n",
    "        for l in list_of_lists: \n",
    "            file.writerow(l) \n",
    "    return(file_name)\n",
    "\n",
    "# open csv in a list of lists\n",
    "def open_csv(file_name):\n",
    "    empty_list = []\n",
    "    with open(file_name) as csv_file:\n",
    "        csv_reader = csv.reader(csv_file, delimiter=',')\n",
    "        next(csv_reader)\n",
    "        for row in csv_reader:\n",
    "            empty_list.append(row)\n",
    "    return empty_list\n",
    "\n",
    "# wrap x labels in graphs\n",
    "import textwrap\n",
    "def wrap_labels(ax, width, break_long_words=False):\n",
    "    labels = []\n",
    "    for label in ax.get_xticklabels():\n",
    "        text = label.get_text()\n",
    "        labels.append(textwrap.fill(text, width=width,\n",
    "                      break_long_words=break_long_words))\n",
    "    ax.set_xticklabels(labels, rotation=0)"
   ]
  },
  {
   "cell_type": "markdown",
   "id": "c36c9f89",
   "metadata": {},
   "source": [
    "# 1.The dataset in numbers<a class=\"anchor\" id=\"first-bullet\"></a>"
   ]
  },
  {
   "cell_type": "code",
   "execution_count": 31,
   "id": "538e60a4",
   "metadata": {},
   "outputs": [],
   "source": [
    "counting_overview = []"
   ]
  },
  {
   "cell_type": "markdown",
   "id": "2dbf7831",
   "metadata": {},
   "source": [
    "### Number of triples"
   ]
  },
  {
   "cell_type": "code",
   "execution_count": 32,
   "id": "361e87cc",
   "metadata": {},
   "outputs": [
    {
     "name": "stdout",
     "output_type": "stream",
     "text": [
      "(rdflib.term.Literal('71318', datatype=rdflib.term.URIRef('http://www.w3.org/2001/XMLSchema#integer')),)\n"
     ]
    }
   ],
   "source": [
    "\n",
    "cq = '''\n",
    "PREFIX d: <http://icondataset.org/> \n",
    "PREFIX icon: <https://w3id.org/icon/ontology/> \n",
    "\n",
    "\n",
    "SELECT (count(?subj) as ?tot) WHERE {\n",
    "?subj ?rel ?obj. \n",
    "\n",
    "}\n",
    "'''\n",
    "\n",
    "cqres = newg.query(cq)\n",
    "\n",
    "for row in cqres:\n",
    "    print(row)\n",
    "    counting_overview.append([\"Triples\", int(row[0])])"
   ]
  },
  {
   "cell_type": "markdown",
   "id": "3b482868",
   "metadata": {},
   "source": [
    "### Number of artworks"
   ]
  },
  {
   "cell_type": "code",
   "execution_count": 34,
   "id": "41bb3bca",
   "metadata": {},
   "outputs": [
    {
     "name": "stdout",
     "output_type": "stream",
     "text": [
      "(rdflib.term.Literal('423', datatype=rdflib.term.URIRef('http://www.w3.org/2001/XMLSchema#integer')),)\n"
     ]
    }
   ],
   "source": [
    "\n",
    "cq = '''\n",
    "PREFIX d: <http://icondataset.org/> \n",
    "PREFIX icon: <https://w3id.org/icon/ontology/> \n",
    "PREFIX crm: <http://www.cidoc-crm.org/cidoc-crm/>\n",
    "\n",
    "SELECT (count(distinct ?art) as ?tot) WHERE {\n",
    "#?obj a crm:E22_Human_Made_Object; \n",
    "#    crm:P65_shows_visual_item ?art. \n",
    "?art a icon:Artwork. \n",
    "?rec icon:aboutWorkOfArt ?art.  \n",
    "\n",
    "}\n",
    "'''\n",
    "\n",
    "cqres = newg.query(cq)\n",
    "\n",
    "for row in cqres:\n",
    "    counting_overview.append([\"Artworks\", int(row[0])])\n",
    "    print(row)"
   ]
  },
  {
   "cell_type": "markdown",
   "id": "dbd3fb54",
   "metadata": {},
   "source": [
    "### Number of level 1 recognitions"
   ]
  },
  {
   "cell_type": "code",
   "execution_count": 35,
   "id": "424bddfd",
   "metadata": {},
   "outputs": [
    {
     "name": "stdout",
     "output_type": "stream",
     "text": [
      "(rdflib.term.Literal('3517', datatype=rdflib.term.URIRef('http://www.w3.org/2001/XMLSchema#integer')),)\n"
     ]
    }
   ],
   "source": [
    "\n",
    "cq = '''\n",
    "PREFIX d: <http://icondataset.org/> \n",
    "PREFIX icon: <https://w3id.org/icon/ontology/> \n",
    "\n",
    "\n",
    "SELECT (count(distinct ?preic) as ?tot) WHERE {\n",
    "{?preic a icon:PreiconographicalRecognition} UNION {?preic a icon:FormalMotifRecognition} \n",
    "}\n",
    "'''\n",
    "\n",
    "cqres = newg.query(cq)\n",
    "\n",
    "for row in cqres:\n",
    "    print(row)\n",
    "    counting_overview.append([\"Level 1 Recognitions\", int(row[0])])"
   ]
  },
  {
   "cell_type": "code",
   "execution_count": null,
   "id": "e0871364",
   "metadata": {},
   "outputs": [],
   "source": [
    "### Number of level 2 recognitions"
   ]
  },
  {
   "cell_type": "code",
   "execution_count": 36,
   "id": "fcf6f57b",
   "metadata": {},
   "outputs": [
    {
     "name": "stdout",
     "output_type": "stream",
     "text": [
      "(rdflib.term.Literal('1035', datatype=rdflib.term.URIRef('http://www.w3.org/2001/XMLSchema#integer')),)\n"
     ]
    }
   ],
   "source": [
    "\n",
    "cq = '''\n",
    "PREFIX d: <http://icondataset.org/> \n",
    "PREFIX icon: <https://w3id.org/icon/ontology/> \n",
    "\n",
    "\n",
    "SELECT (count(distinct ?icrec) as ?tot) WHERE {\n",
    "?icrec a icon:IconographicalRecognition. \n",
    "}\n",
    "'''\n",
    "\n",
    "cqres = newg.query(cq)\n",
    "\n",
    "for row in cqres:\n",
    "    counting_overview.append([\"Level 2 Recognitions\", int(row[0])])\n",
    "    print(row)"
   ]
  },
  {
   "cell_type": "code",
   "execution_count": null,
   "id": "66e19c4c",
   "metadata": {},
   "outputs": [],
   "source": [
    "### Number of level 3 recognitions"
   ]
  },
  {
   "cell_type": "code",
   "execution_count": 37,
   "id": "2bb24c6c",
   "metadata": {},
   "outputs": [
    {
     "name": "stdout",
     "output_type": "stream",
     "text": [
      "(rdflib.term.Literal('877', datatype=rdflib.term.URIRef('http://www.w3.org/2001/XMLSchema#integer')),)\n"
     ]
    }
   ],
   "source": [
    "\n",
    "cq = '''\n",
    "PREFIX d: <http://icondataset.org/> \n",
    "PREFIX icon: <https://w3id.org/icon/ontology/> \n",
    "\n",
    "\n",
    "SELECT (count(distinct ?rec) as ?tot) WHERE {\n",
    "?rec a icon:IconologicalRecognition. \n",
    "}\n",
    "'''\n",
    "\n",
    "cqres = newg.query(cq)\n",
    "\n",
    "for row in cqres:\n",
    "    print(row)\n",
    "    counting_overview.append([\"Level 3 Recognitions\", int(row[0])])"
   ]
  },
  {
   "cell_type": "markdown",
   "id": "e0a995e5",
   "metadata": {},
   "source": [
    "### Number of level 1 subjects"
   ]
  },
  {
   "cell_type": "code",
   "execution_count": 63,
   "id": "c7ea8ddb",
   "metadata": {},
   "outputs": [
    {
     "name": "stdout",
     "output_type": "stream",
     "text": [
      "(rdflib.term.Literal('923', datatype=rdflib.term.URIRef('http://www.w3.org/2001/XMLSchema#integer')),)\n"
     ]
    }
   ],
   "source": [
    "\n",
    "cq = '''\n",
    "PREFIX d: <http://icondataset.org/> \n",
    "PREFIX icon: <https://w3id.org/icon/ontology/> \n",
    "\n",
    "\n",
    "SELECT (count(distinct ?lev1) as ?tot) WHERE {\n",
    "?rec a icon:PreiconographicalRecognition. \n",
    "{?rec icon:recognizedArtisticMotif ?am} UNION {?rec icon:recognizedComposition ?comp. ?comp icon:hasPart ?am}\n",
    "?am icon:hasFactualMeaning | icon:hasExpressionalMeaning | crm:P138_represents ?lev1. \n",
    "}\n",
    "'''\n",
    "\n",
    "cqres = newg.query(cq)\n",
    "\n",
    "for row in cqres:\n",
    "    print(row)\n",
    "    counting_overview.append([\"Level 1 subjects\", int(row[0])])"
   ]
  },
  {
   "cell_type": "markdown",
   "id": "bd2711f0",
   "metadata": {},
   "source": [
    "### Number of level 2 subjects"
   ]
  },
  {
   "cell_type": "code",
   "execution_count": 39,
   "id": "779ef287",
   "metadata": {},
   "outputs": [
    {
     "name": "stdout",
     "output_type": "stream",
     "text": [
      "(rdflib.term.Literal('555', datatype=rdflib.term.URIRef('http://www.w3.org/2001/XMLSchema#integer')),)\n"
     ]
    },
    {
     "data": {
      "text/plain": [
       "[['Triples', 71318],\n",
       " ['Artworks', 423],\n",
       " ['Level 1 Recognitions', 3517],\n",
       " ['Level 2 Recognitions', 1035],\n",
       " ['Level 3 Recognitions', 877],\n",
       " ['Level 1 subjects', 888],\n",
       " ['Level 2 subjects', 555]]"
      ]
     },
     "execution_count": 39,
     "metadata": {},
     "output_type": "execute_result"
    }
   ],
   "source": [
    "\n",
    "cq = '''\n",
    "PREFIX d: <http://icondataset.org/> \n",
    "PREFIX icon: <https://w3id.org/icon/ontology/>\n",
    "\n",
    "\n",
    "SELECT (count(distinct ?lev2) as ?tot) WHERE {\n",
    "VALUES ?rel {icon:hasCharacter icon:hasEvent icon:hasPlace icon:hasPersonification icon:hasNamedObject icon:hasSymbol}\n",
    "?rec a icon:IconographicalRecognition. \n",
    "{?rec icon:recognizedImage ?img. ?img ?rel ?lev2} UNION {?rec icon:recognizedInvenzione ?inv. ?inv icon:composedOf ?lev2}\n",
    "\n",
    "}\n",
    "'''\n",
    "\n",
    "cqres = newg.query(cq)\n",
    "\n",
    "for row in cqres:\n",
    "    print(row)\n",
    "    counting_overview.append([\"Level 2 subjects\", int(row[0])])\n",
    "counting_overview"
   ]
  },
  {
   "cell_type": "markdown",
   "id": "57c57c5c",
   "metadata": {},
   "source": [
    "### Number of level 3 subjects"
   ]
  },
  {
   "cell_type": "code",
   "execution_count": 40,
   "id": "3d172fb5",
   "metadata": {},
   "outputs": [
    {
     "name": "stdout",
     "output_type": "stream",
     "text": [
      "(rdflib.term.Literal('422', datatype=rdflib.term.URIRef('http://www.w3.org/2001/XMLSchema#integer')),)\n"
     ]
    }
   ],
   "source": [
    "\n",
    "cq = '''\n",
    "PREFIX d: <http://icondataset.org/> \n",
    "PREFIX icon: <https://w3id.org/icon/ontology/>\n",
    "\n",
    "\n",
    "SELECT (count(distinct ?lev3) as ?tot) WHERE {\n",
    "VALUES ?rel {icon:recognizedConceptualObject icon:recognizedCulturalPhenomenon}\n",
    "?rec a icon:IconologicalRecognition. \n",
    "?rec icon:recognizedIntrinsicMeaning ?intrinsic. ?intrinsic ?rel ?lev3. \n",
    "}\n",
    "'''\n",
    "\n",
    "cqres = newg.query(cq)\n",
    "\n",
    "for row in cqres:\n",
    "    print(row)\n",
    "    counting_overview.append([\"Level 3 subjects\", int(row[0])])"
   ]
  },
  {
   "cell_type": "markdown",
   "id": "2008e2bb",
   "metadata": {},
   "source": [
    "### Number of people"
   ]
  },
  {
   "cell_type": "code",
   "execution_count": 41,
   "id": "13de5e5a",
   "metadata": {},
   "outputs": [
    {
     "name": "stdout",
     "output_type": "stream",
     "text": [
      "(rdflib.term.Literal('214', datatype=rdflib.term.URIRef('http://www.w3.org/2001/XMLSchema#integer')),)\n"
     ]
    }
   ],
   "source": [
    "cq = '''\n",
    "PREFIX d: <http://icondataset.org/> \n",
    "PREFIX icon: <https://w3id.org/icon/ontology/>\n",
    "PREFIX crm: <http://www.cidoc-crm.org/cidoc-crm/>\n",
    "\n",
    "SELECT (count(distinct ?people) as ?tot) WHERE {\n",
    "\n",
    "?people a crm:E21_Person. \n",
    "\n",
    "}\n",
    "'''\n",
    "\n",
    "cqres = newg.query(cq)\n",
    "\n",
    "for row in cqres:\n",
    "    print(row)\n",
    "    counting_overview.append([\"People\", int(row[0])])"
   ]
  },
  {
   "cell_type": "code",
   "execution_count": 11,
   "id": "3087283f",
   "metadata": {},
   "outputs": [
    {
     "name": "stdout",
     "output_type": "stream",
     "text": [
      "not working\n"
     ]
    }
   ],
   "source": [
    "if (URIRef(\"http://icondataset.org/people/cesare-vecellio\"), None, None) in newg:\n",
    "    print(\"this works\")\n",
    "else: \n",
    "    print(\"not working\")"
   ]
  },
  {
   "cell_type": "markdown",
   "id": "7e6cd8c9",
   "metadata": {},
   "source": [
    "### Number of books"
   ]
  },
  {
   "cell_type": "code",
   "execution_count": 42,
   "id": "69ce4c7b",
   "metadata": {},
   "outputs": [
    {
     "name": "stdout",
     "output_type": "stream",
     "text": [
      "(rdflib.term.Literal('147', datatype=rdflib.term.URIRef('http://www.w3.org/2001/XMLSchema#integer')),)\n"
     ]
    }
   ],
   "source": [
    "cq = '''\n",
    "PREFIX d: <http://icondataset.org/> \n",
    "PREFIX icon: <https://w3id.org/icon/ontology/>\n",
    "PREFIX crm: <http://www.cidoc-crm.org/cidoc-crm/>\n",
    "\n",
    "SELECT (count(distinct ?book) as ?tot) WHERE {\n",
    "\n",
    "{?book crm:P2_has_type ?type. \n",
    "?type crm:P2_has_type <http://vocab.getty.edu/page/aat/300028051>. } \n",
    "UNION \n",
    "{?book crm:P2_has_type <http://vocab.getty.edu/page/aat/300028051>}\n",
    "\n",
    "}\n",
    "'''\n",
    "\n",
    "cqres = newg.query(cq)\n",
    "\n",
    "for row in cqres:\n",
    "    print(row)\n",
    "    counting_overview.append([\"Books\", int(row[0])])"
   ]
  },
  {
   "cell_type": "markdown",
   "id": "d674c299",
   "metadata": {},
   "source": [
    "### Number of Places"
   ]
  },
  {
   "cell_type": "code",
   "execution_count": 43,
   "id": "2aa40079",
   "metadata": {},
   "outputs": [
    {
     "name": "stdout",
     "output_type": "stream",
     "text": [
      "(rdflib.term.Literal('221', datatype=rdflib.term.URIRef('http://www.w3.org/2001/XMLSchema#integer')),)\n"
     ]
    }
   ],
   "source": [
    "cq = '''\n",
    "PREFIX d: <http://icondataset.org/> \n",
    "PREFIX icon: <https://w3id.org/icon/ontology/>\n",
    "PREFIX crm: <http://www.cidoc-crm.org/cidoc-crm/>\n",
    "\n",
    "SELECT (count(distinct ?place) as ?tot) WHERE {\n",
    "#?art crm:P53_has_former_or_current_location ?place.\n",
    "# ?place crm:P89_falls_within ?place2. \n",
    "?place a crm:E53_Place.\n",
    "\n",
    "}\n",
    "'''\n",
    "\n",
    "cqres = newg.query(cq)\n",
    "\n",
    "for row in cqres:\n",
    "    print(row)\n",
    "    counting_overview.append([\"Places\", int(row[0])])"
   ]
  },
  {
   "cell_type": "markdown",
   "id": "77478d8b",
   "metadata": {},
   "source": [
    "### number of artworks types"
   ]
  },
  {
   "cell_type": "code",
   "execution_count": 44,
   "id": "c66eaab7",
   "metadata": {},
   "outputs": [
    {
     "name": "stdout",
     "output_type": "stream",
     "text": [
      "(rdflib.term.Literal('56', datatype=rdflib.term.URIRef('http://www.w3.org/2001/XMLSchema#integer')),)\n"
     ]
    }
   ],
   "source": [
    "cq = '''\n",
    "PREFIX d: <http://icondataset.org/> \n",
    "PREFIX icon: <https://w3id.org/icon/ontology/>\n",
    "PREFIX crm: <http://www.cidoc-crm.org/cidoc-crm/>\n",
    "\n",
    "SELECT (count(distinct ?type) as ?tot) WHERE {\n",
    "?obj crm:P65_shows_visual_item ?art; \n",
    "    crm:P2_has_type ?type. \n",
    "\n",
    "\n",
    "}\n",
    "'''\n",
    "\n",
    "cqres = newg.query(cq)\n",
    "\n",
    "for row in cqres:\n",
    "    print(row)\n",
    "    counting_overview.append([\"Cultural Object types\", int(row[0])])"
   ]
  },
  {
   "cell_type": "markdown",
   "id": "286a9c49",
   "metadata": {},
   "source": [
    "### Number of styles"
   ]
  },
  {
   "cell_type": "code",
   "execution_count": 45,
   "id": "3cac2f70",
   "metadata": {},
   "outputs": [
    {
     "name": "stdout",
     "output_type": "stream",
     "text": [
      "(rdflib.term.Literal('32', datatype=rdflib.term.URIRef('http://www.w3.org/2001/XMLSchema#integer')),)\n"
     ]
    }
   ],
   "source": [
    "cq = '''\n",
    "PREFIX d: <http://icondataset.org/> \n",
    "PREFIX icon: <https://w3id.org/icon/ontology/>\n",
    "PREFIX crm: <http://www.cidoc-crm.org/cidoc-crm/>\n",
    "\n",
    "SELECT (count(distinct ?style) as ?tot) WHERE {\n",
    "\n",
    "?style crm:P2_has_type <http://vocab.getty.edu/aat/300015646>.\n",
    "\n",
    "\n",
    "\n",
    "}\n",
    "'''\n",
    "\n",
    "cqres = newg.query(cq)\n",
    "\n",
    "for row in cqres:\n",
    "    print(row)\n",
    "    counting_overview.append([\"Styles\", int(row[0])])"
   ]
  },
  {
   "cell_type": "markdown",
   "id": "fb6997a6",
   "metadata": {},
   "source": [
    "### Number of periods"
   ]
  },
  {
   "cell_type": "code",
   "execution_count": 46,
   "id": "e79623f9",
   "metadata": {},
   "outputs": [
    {
     "name": "stdout",
     "output_type": "stream",
     "text": [
      "(rdflib.term.Literal('12', datatype=rdflib.term.URIRef('http://www.w3.org/2001/XMLSchema#integer')),)\n"
     ]
    }
   ],
   "source": [
    "cq = '''\n",
    "PREFIX d: <http://icondataset.org/> \n",
    "PREFIX icon: <https://w3id.org/icon/ontology/>\n",
    "PREFIX crm: <http://www.cidoc-crm.org/cidoc-crm/>\n",
    "\n",
    "SELECT (count(distinct ?period) as ?tot) WHERE {\n",
    "\n",
    "?period a crm:E4_Period.\n",
    "\n",
    "\n",
    "\n",
    "}\n",
    "'''\n",
    "\n",
    "cqres = newg.query(cq)\n",
    "\n",
    "for row in cqres:\n",
    "    print(row)\n",
    "    counting_overview.append([\"Periods\", int(row[0])])"
   ]
  },
  {
   "cell_type": "markdown",
   "id": "b8a5b0fb",
   "metadata": {},
   "source": [
    "### Number of sources cited as evidence"
   ]
  },
  {
   "cell_type": "code",
   "execution_count": 47,
   "id": "45c1825b",
   "metadata": {},
   "outputs": [
    {
     "name": "stdout",
     "output_type": "stream",
     "text": [
      "(rdflib.term.Literal('186', datatype=rdflib.term.URIRef('http://www.w3.org/2001/XMLSchema#integer')),)\n"
     ]
    }
   ],
   "source": [
    "cq = '''\n",
    "PREFIX d: <http://icondataset.org/> \n",
    "PREFIX icon: <https://w3id.org/icon/ontology/>\n",
    "PREFIX crm: <http://www.cidoc-crm.org/cidoc-crm/>\n",
    "PREFIX cito: <http://purl.org/spar/cito/>\n",
    "\n",
    "SELECT (count(distinct ?evidence) as ?tot) WHERE {\n",
    "\n",
    "?entity cito:citesAsEvidence ?evidence. \n",
    "\n",
    "\n",
    "\n",
    "}\n",
    "'''\n",
    "\n",
    "cqres = newg.query(cq)\n",
    "\n",
    "for row in cqres:\n",
    "    print(row)\n",
    "    counting_overview.append([\"cited Evidences\", int(row[0])])"
   ]
  },
  {
   "cell_type": "markdown",
   "id": "9b0a23ea",
   "metadata": {},
   "source": [
    "### Number of resources aligned"
   ]
  },
  {
   "cell_type": "code",
   "execution_count": 48,
   "id": "a6551653",
   "metadata": {},
   "outputs": [
    {
     "name": "stdout",
     "output_type": "stream",
     "text": [
      "(rdflib.term.Literal('195', datatype=rdflib.term.URIRef('http://www.w3.org/2001/XMLSchema#integer')),)\n"
     ]
    }
   ],
   "source": [
    "cq = '''\n",
    "PREFIX d: <http://icondataset.org/> \n",
    "PREFIX icon: <https://w3id.org/icon/ontology/>\n",
    "PREFIX crm: <http://www.cidoc-crm.org/cidoc-crm/>\n",
    "PREFIX owl: <http://www.w3.org/2002/07/owl#> \n",
    "\n",
    "\n",
    "SELECT (count(distinct ?entity) as ?tot) WHERE {\n",
    "\n",
    "?entity owl:sameAs ?evidence. \n",
    "\n",
    "\n",
    "\n",
    "}\n",
    "'''\n",
    "\n",
    "cqres = newg.query(cq)\n",
    "\n",
    "for row in cqres:\n",
    "    print(row)\n",
    "    counting_overview.append([\"resources aligned\", int(row[0])])"
   ]
  },
  {
   "cell_type": "code",
   "execution_count": 64,
   "id": "2ed820f7",
   "metadata": {},
   "outputs": [
    {
     "data": {
      "text/plain": [
       "[['Artworks', 423],\n",
       " ['Level 1 Recognitions', 3517],\n",
       " ['Level 2 Recognitions', 1035],\n",
       " ['Level 3 Recognitions', 877],\n",
       " ['Level 2 subjects', 555],\n",
       " ['Level 3 subjects', 422],\n",
       " ['People', 214],\n",
       " ['Books', 147],\n",
       " ['Places', 221],\n",
       " ['Cultural Object types', 56],\n",
       " ['Styles', 32],\n",
       " ['Periods', 12],\n",
       " ['cited Evidences', 186],\n",
       " ['resources aligned', 195],\n",
       " ['Level 1 subjects', 923]]"
      ]
     },
     "execution_count": 64,
     "metadata": {},
     "output_type": "execute_result"
    }
   ],
   "source": [
    "# we don't consider triples, as the visualization is not interesting with a such high number \n",
    "counting_overview.remove([\"Level 1 subjects\", 888])\n",
    "counting_overview"
   ]
  },
  {
   "cell_type": "code",
   "execution_count": 65,
   "id": "a5987a5f",
   "metadata": {},
   "outputs": [
    {
     "name": "stdout",
     "output_type": "stream",
     "text": [
      "Output:\n",
      "Object       object\n",
      "Frequency     int32\n",
      "dtype: object\n"
     ]
    }
   ],
   "source": [
    "# barchart of the countings, excluding the number of triples ? \n",
    "\n",
    "# List of lists where each list is [object, frequency] \n",
    "\n",
    "df = pd.DataFrame(np.array(counting_overview),\n",
    "                   columns=['Object', 'Frequency'])\n",
    "df['Frequency'] = df['Frequency'].astype(int)\n",
    "result = df.dtypes\n",
    "\n",
    "print(\"Output:\")\n",
    "print(result)\n"
   ]
  },
  {
   "cell_type": "code",
   "execution_count": 66,
   "id": "795af616",
   "metadata": {},
   "outputs": [
    {
     "data": {
      "text/html": [
       "<div>\n",
       "<style scoped>\n",
       "    .dataframe tbody tr th:only-of-type {\n",
       "        vertical-align: middle;\n",
       "    }\n",
       "\n",
       "    .dataframe tbody tr th {\n",
       "        vertical-align: top;\n",
       "    }\n",
       "\n",
       "    .dataframe thead th {\n",
       "        text-align: right;\n",
       "    }\n",
       "</style>\n",
       "<table border=\"1\" class=\"dataframe\">\n",
       "  <thead>\n",
       "    <tr style=\"text-align: right;\">\n",
       "      <th></th>\n",
       "      <th>Object</th>\n",
       "      <th>Frequency</th>\n",
       "    </tr>\n",
       "  </thead>\n",
       "  <tbody>\n",
       "    <tr>\n",
       "      <th>1</th>\n",
       "      <td>Level 1 Recognitions</td>\n",
       "      <td>3517</td>\n",
       "    </tr>\n",
       "    <tr>\n",
       "      <th>2</th>\n",
       "      <td>Level 2 Recognitions</td>\n",
       "      <td>1035</td>\n",
       "    </tr>\n",
       "    <tr>\n",
       "      <th>14</th>\n",
       "      <td>Level 1 subjects</td>\n",
       "      <td>923</td>\n",
       "    </tr>\n",
       "    <tr>\n",
       "      <th>3</th>\n",
       "      <td>Level 3 Recognitions</td>\n",
       "      <td>877</td>\n",
       "    </tr>\n",
       "    <tr>\n",
       "      <th>4</th>\n",
       "      <td>Level 2 subjects</td>\n",
       "      <td>555</td>\n",
       "    </tr>\n",
       "    <tr>\n",
       "      <th>0</th>\n",
       "      <td>Artworks</td>\n",
       "      <td>423</td>\n",
       "    </tr>\n",
       "    <tr>\n",
       "      <th>5</th>\n",
       "      <td>Level 3 subjects</td>\n",
       "      <td>422</td>\n",
       "    </tr>\n",
       "    <tr>\n",
       "      <th>8</th>\n",
       "      <td>Places</td>\n",
       "      <td>221</td>\n",
       "    </tr>\n",
       "    <tr>\n",
       "      <th>6</th>\n",
       "      <td>People</td>\n",
       "      <td>214</td>\n",
       "    </tr>\n",
       "    <tr>\n",
       "      <th>13</th>\n",
       "      <td>resources aligned</td>\n",
       "      <td>195</td>\n",
       "    </tr>\n",
       "    <tr>\n",
       "      <th>12</th>\n",
       "      <td>cited Evidences</td>\n",
       "      <td>186</td>\n",
       "    </tr>\n",
       "    <tr>\n",
       "      <th>7</th>\n",
       "      <td>Books</td>\n",
       "      <td>147</td>\n",
       "    </tr>\n",
       "    <tr>\n",
       "      <th>9</th>\n",
       "      <td>Cultural Object types</td>\n",
       "      <td>56</td>\n",
       "    </tr>\n",
       "    <tr>\n",
       "      <th>10</th>\n",
       "      <td>Styles</td>\n",
       "      <td>32</td>\n",
       "    </tr>\n",
       "    <tr>\n",
       "      <th>11</th>\n",
       "      <td>Periods</td>\n",
       "      <td>12</td>\n",
       "    </tr>\n",
       "  </tbody>\n",
       "</table>\n",
       "</div>"
      ],
      "text/plain": [
       "                   Object  Frequency\n",
       "1    Level 1 Recognitions       3517\n",
       "2    Level 2 Recognitions       1035\n",
       "14       Level 1 subjects        923\n",
       "3    Level 3 Recognitions        877\n",
       "4        Level 2 subjects        555\n",
       "0                Artworks        423\n",
       "5        Level 3 subjects        422\n",
       "8                  Places        221\n",
       "6                  People        214\n",
       "13      resources aligned        195\n",
       "12        cited Evidences        186\n",
       "7                   Books        147\n",
       "9   Cultural Object types         56\n",
       "10                 Styles         32\n",
       "11                Periods         12"
      ]
     },
     "execution_count": 66,
     "metadata": {},
     "output_type": "execute_result"
    }
   ],
   "source": [
    "dfcount = df.sort_values(by=['Frequency'], ascending=False)\n",
    "dfcount"
   ]
  },
  {
   "cell_type": "code",
   "execution_count": 67,
   "id": "54b0de37",
   "metadata": {},
   "outputs": [
    {
     "data": {
      "image/png": "[encoded data removed]",
      "text/plain": [
       "<Figure size 432x288 with 1 Axes>"
      ]
     },
     "metadata": {
      "needs_background": "light"
     },
     "output_type": "display_data"
    }
   ],
   "source": [
    "import seaborn as seaborn \n",
    "chartCount = seaborn.barplot(data=dfcount, x = 'Frequency', y='Object')"
   ]
  },
  {
   "cell_type": "markdown",
   "id": "5c347319",
   "metadata": {},
   "source": [
    "# 2. Overwiew of Cultural Phenomena<a class=\"anchor\" id=\"second-bullet\"></a>"
   ]
  },
  {
   "cell_type": "markdown",
   "id": "27fac4d3",
   "metadata": {},
   "source": [
    "section with: \n",
    "* [2-1 Overview of the major categories counting](#2.1-Overview-of-the-major-categories-counting)\n",
    "* 2.2 [Barcharts showing the frequency of the top subjects per cultural phenomenon](#2.2-Frequency-of-the-top-K-subjects-per-Cultural-Phenomenon-(barcharts))\n",
    "* [2.3 General histogram of frequency of subjects per Cultural Phenomenon](#2.3-Frequency-of-the-top-K-subjects-per-Cultural-Phenomenon-(overall-visualization))\n",
    "* [2.4 Co-occurrencies of subjects and Cultural Phenomena](#2.4-Co-occurrencies-of-subjects-and-Cultural-Phenomena)\n",
    "\n",
    "<br>\n",
    "\n",
    "[Back to top](#Dataset-overview)"
   ]
  },
  {
   "cell_type": "markdown",
   "id": "1951f8f8",
   "metadata": {},
   "source": [
    "## 2.1 Distribution of cultural phenomena\n",
    "count how many artworks have a certain phenomenon category and visualize it. NB: one cultural phenomenon may have more than one category"
   ]
  },
  {
   "cell_type": "code",
   "execution_count": 69,
   "id": "115b7419",
   "metadata": {},
   "outputs": [],
   "source": [
    "cf_category_frequency = []\n",
    "cq1 = '''\n",
    "prefix data: <http://icondataset.org/> \n",
    "PREFIX icon: <https://w3id.org/icon/ontology/> \n",
    "prefix sim: <https://w3id.org/simulation/ontology/>\n",
    "prefix dul: <http://www.ontologydesignpatterns.org/ont/dul/DUL.owl#>\n",
    "prefix crm: <http://www.cidoc-crm.org/cidoc-crm/>\n",
    "\n",
    "SELECT DISTINCT ?CFBroaderLabel (count(distinct ?artwork) as ?tot) WHERE {\n",
    "  ?iconol icon:aboutWorkOfArt ?artwork;\n",
    "  icon:recognizedIntrinsicMeaning ?intrinsic.\n",
    "  ?intrinsic icon:recognizedCulturalPhenomenon ?meaning.\n",
    "  ?meaning a icon:CulturalPhenomenon; crm:P2_has_type ?CFBroader. \n",
    "  ?CFBroader rdfs:label ?CFBroaderLabel .\n",
    "}\n",
    "GROUP BY ?CFBroaderLabel \n",
    "ORDER BY DESC(?tot)\n",
    "'''\n",
    "\n",
    "cq1res = newg.query(cq1)\n",
    "for row in cq1res: \n",
    "    if str(row[0]) != \"?\": \n",
    "        cf_category_frequency.append([str(row[0]), int(row[1])])\n",
    "    "
   ]
  },
  {
   "cell_type": "code",
   "execution_count": 70,
   "id": "3015ffbe",
   "metadata": {},
   "outputs": [
    {
     "name": "stdout",
     "output_type": "stream",
     "text": [
      "Output:\n",
      "Cultural Phenomenon    object\n",
      "Frequency               int32\n",
      "dtype: object\n"
     ]
    }
   ],
   "source": [
    "df2 = pd.DataFrame(np.array(cf_category_frequency),\n",
    "                   columns=['Cultural Phenomenon', 'Frequency'])\n",
    "df2['Frequency'] = df2['Frequency'].astype(int)\n",
    "result = df2.dtypes\n",
    "\n",
    "print(\"Output:\")\n",
    "print(result)\n"
   ]
  },
  {
   "cell_type": "code",
   "execution_count": 71,
   "id": "3e3cbc48",
   "metadata": {},
   "outputs": [
    {
     "data": {
      "text/html": [
       "<div>\n",
       "<style scoped>\n",
       "    .dataframe tbody tr th:only-of-type {\n",
       "        vertical-align: middle;\n",
       "    }\n",
       "\n",
       "    .dataframe tbody tr th {\n",
       "        vertical-align: top;\n",
       "    }\n",
       "\n",
       "    .dataframe thead th {\n",
       "        text-align: right;\n",
       "    }\n",
       "</style>\n",
       "<table border=\"1\" class=\"dataframe\">\n",
       "  <thead>\n",
       "    <tr style=\"text-align: right;\">\n",
       "      <th></th>\n",
       "      <th>Cultural Phenomenon</th>\n",
       "      <th>Frequency</th>\n",
       "    </tr>\n",
       "  </thead>\n",
       "  <tbody>\n",
       "    <tr>\n",
       "      <th>20</th>\n",
       "      <td>Cultural interpretation</td>\n",
       "      <td>2</td>\n",
       "    </tr>\n",
       "    <tr>\n",
       "      <th>19</th>\n",
       "      <td>Moral meaning</td>\n",
       "      <td>2</td>\n",
       "    </tr>\n",
       "    <tr>\n",
       "      <th>18</th>\n",
       "      <td>Iconographic interpretation</td>\n",
       "      <td>3</td>\n",
       "    </tr>\n",
       "    <tr>\n",
       "      <th>17</th>\n",
       "      <td>Taste</td>\n",
       "      <td>3</td>\n",
       "    </tr>\n",
       "    <tr>\n",
       "      <th>16</th>\n",
       "      <td>Humour</td>\n",
       "      <td>3</td>\n",
       "    </tr>\n",
       "    <tr>\n",
       "      <th>15</th>\n",
       "      <td>Cultural movement</td>\n",
       "      <td>4</td>\n",
       "    </tr>\n",
       "    <tr>\n",
       "      <th>14</th>\n",
       "      <td>Cultural value</td>\n",
       "      <td>7</td>\n",
       "    </tr>\n",
       "    <tr>\n",
       "      <th>13</th>\n",
       "      <td>Societal phenomenon</td>\n",
       "      <td>10</td>\n",
       "    </tr>\n",
       "    <tr>\n",
       "      <th>12</th>\n",
       "      <td>Cultural influence</td>\n",
       "      <td>14</td>\n",
       "    </tr>\n",
       "    <tr>\n",
       "      <th>11</th>\n",
       "      <td>Attitude</td>\n",
       "      <td>15</td>\n",
       "    </tr>\n",
       "    <tr>\n",
       "      <th>10</th>\n",
       "      <td>Iconographical influence</td>\n",
       "      <td>15</td>\n",
       "    </tr>\n",
       "    <tr>\n",
       "      <th>9</th>\n",
       "      <td>Artist's expression</td>\n",
       "      <td>15</td>\n",
       "    </tr>\n",
       "    <tr>\n",
       "      <th>8</th>\n",
       "      <td>Cultural reinterpretation</td>\n",
       "      <td>17</td>\n",
       "    </tr>\n",
       "    <tr>\n",
       "      <th>7</th>\n",
       "      <td>Formal or stylistic influence</td>\n",
       "      <td>24</td>\n",
       "    </tr>\n",
       "    <tr>\n",
       "      <th>6</th>\n",
       "      <td>Belief</td>\n",
       "      <td>30</td>\n",
       "    </tr>\n",
       "    <tr>\n",
       "      <th>5</th>\n",
       "      <td>Tendency</td>\n",
       "      <td>39</td>\n",
       "    </tr>\n",
       "    <tr>\n",
       "      <th>4</th>\n",
       "      <td>Iconographical interpretation</td>\n",
       "      <td>51</td>\n",
       "    </tr>\n",
       "    <tr>\n",
       "      <th>3</th>\n",
       "      <td>Formal or stylistic phenomenon</td>\n",
       "      <td>61</td>\n",
       "    </tr>\n",
       "    <tr>\n",
       "      <th>2</th>\n",
       "      <td>Formal or stylistic evolution</td>\n",
       "      <td>89</td>\n",
       "    </tr>\n",
       "    <tr>\n",
       "      <th>1</th>\n",
       "      <td>Iconographical evolution</td>\n",
       "      <td>115</td>\n",
       "    </tr>\n",
       "    <tr>\n",
       "      <th>0</th>\n",
       "      <td>Reception of Classical antiquity</td>\n",
       "      <td>203</td>\n",
       "    </tr>\n",
       "  </tbody>\n",
       "</table>\n",
       "</div>"
      ],
      "text/plain": [
       "                 Cultural Phenomenon  Frequency\n",
       "20           Cultural interpretation          2\n",
       "19                     Moral meaning          2\n",
       "18       Iconographic interpretation          3\n",
       "17                             Taste          3\n",
       "16                            Humour          3\n",
       "15                 Cultural movement          4\n",
       "14                    Cultural value          7\n",
       "13               Societal phenomenon         10\n",
       "12                Cultural influence         14\n",
       "11                          Attitude         15\n",
       "10          Iconographical influence         15\n",
       "9                Artist's expression         15\n",
       "8          Cultural reinterpretation         17\n",
       "7      Formal or stylistic influence         24\n",
       "6                             Belief         30\n",
       "5                           Tendency         39\n",
       "4      Iconographical interpretation         51\n",
       "3     Formal or stylistic phenomenon         61\n",
       "2      Formal or stylistic evolution         89\n",
       "1           Iconographical evolution        115\n",
       "0   Reception of Classical antiquity        203"
      ]
     },
     "execution_count": 71,
     "metadata": {},
     "output_type": "execute_result"
    }
   ],
   "source": [
    "# df3 = df2.sort_values(by=['Frequency'], ascending=False)\n",
    "df3 = df2.sort_index(ascending=False)\n",
    "df3"
   ]
  },
  {
   "cell_type": "code",
   "execution_count": 72,
   "id": "2db9923e",
   "metadata": {},
   "outputs": [
    {
     "data": {
      "image/png": "[encoded data removed]",
      "text/plain": [
       "<Figure size 432x288 with 1 Axes>"
      ]
     },
     "metadata": {
      "needs_background": "light"
     },
     "output_type": "display_data"
    }
   ],
   "source": [
    "import seaborn as seaborn \n",
    "chart = seaborn.barplot(data=df3, x = 'Frequency', y='Cultural Phenomenon')"
   ]
  },
  {
   "cell_type": "markdown",
   "id": "81c552cb",
   "metadata": {},
   "source": [
    "[Back to top](#Dataset-overview) <br>\n",
    "[Back to section 2](#2.-Overwiew-of-Cultural-Phenomena)"
   ]
  },
  {
   "cell_type": "markdown",
   "id": "ccf534fd",
   "metadata": {},
   "source": [
    "## 2.2 Frequency of the top K subjects per Cultural Phenomenon (barcharts)"
   ]
  },
  {
   "cell_type": "markdown",
   "id": "fb9a5fc5",
   "metadata": {},
   "source": [
    "### Top 5 level 2 subjects per cultural phenomenon category"
   ]
  },
  {
   "cell_type": "code",
   "execution_count": 78,
   "id": "4f19d420",
   "metadata": {},
   "outputs": [],
   "source": [
    "\n",
    "cq2 = \"\"\"\n",
    "prefix d: <http://icondataset.org/> \n",
    "PREFIX icon: <https://w3id.org/icon/ontology/> \n",
    "prefix sim: <https://w3id.org/simulation/ontology/>\n",
    "prefix dul: <http://www.ontologydesignpatterns.org/ont/dul/DUL.owl#>\n",
    "prefix crm: <http://www.cidoc-crm.org/cidoc-crm/>\n",
    "\n",
    "SELECT DISTINCT ?CFbroader ?CFbroaderLabel ?artwork ?subj2  WHERE {\n",
    "  VALUES ?rel {icon:hasCharacter icon:hasEvent icon:hasNamedObject icon:hasPlace icon:hasPersonification icon:hasSymbol}\n",
    "  ?CFbroader ^crm:P2_has_type ?meaning.\n",
    "  ?meaning ^icon:recognizedCulturalPhenomenon / ^icon:recognizedIntrinsicMeaning ?iconol .\n",
    "  ?iconol icon:aboutWorkOfArt ?artwork .\n",
    "  ?icrec icon:aboutWorkOfArt ?artwork; \n",
    "          a icon:IconographicalRecognition;\n",
    "          icon:recognizedImage ?image.\n",
    " \n",
    "  ?CFbroader rdfs:label ?CFbroaderLabel. \n",
    "  ?image ?rel ?subj2. \n",
    "\n",
    "  #OPTIONAL {\n",
    "  #  ?icrec icon:aboutWorkOfArt ?artwork;\n",
    "  #  a icon:IconographicalRecognition; icon:recognizedInvenzione ?subj2.\n",
    "  #}\n",
    "\n",
    "} \n",
    "\"\"\" \n",
    "\n",
    "cq2res = newg.query(cq2)\n",
    "#for row in cq2res:\n",
    " # print(row[0], '-',row[3], \" -- cf: \", row[1])"
   ]
  },
  {
   "cell_type": "code",
   "execution_count": 79,
   "id": "fb76b66d",
   "metadata": {},
   "outputs": [],
   "source": [
    "from collections import defaultdict , Counter\n",
    "\n",
    "meanings_subjects = defaultdict(list)\n",
    "# ?meaning ?artwork ?subj2\n",
    "for row in cq2res:\n",
    "  meanings_subjects[str(row['CFbroader'])].append(str(row['subj2']))\n",
    "\n",
    "\n",
    "meanings_subjects_with_counts = {}\n",
    "for k,v in meanings_subjects.items():\n",
    "#  for m,c in well_represented_phenomena_and_counts:\n",
    " #   if k == m:\n",
    "    meanings_subjects_with_counts[k] = dict(Counter(v).most_common())\n",
    "\n",
    "# add count\n",
    "\n",
    "#meanings_subjects_with_counts"
   ]
  },
  {
   "cell_type": "code",
   "execution_count": 80,
   "id": "af488a25",
   "metadata": {},
   "outputs": [],
   "source": [
    "# tpo 5 most frequent subjects per cf\n",
    "# maybe repeat the analysis with subject 2 broader categories? \n",
    "top_5_subj_per_cf = {}\n",
    "for item in meanings_subjects_with_counts.items():\n",
    "    if item[0] not in top_5_subj_per_cf:\n",
    "        top_5_subj_per_cf[item[0]] = {}\n",
    "        for pair in item[1].items(): \n",
    "            if len(top_5_subj_per_cf[item[0]]) < 5:\n",
    "                top_5_subj_per_cf[item[0]][pair[0]] = pair[1]\n",
    "               \n",
    "#top_5_subj_per_cf   "
   ]
  },
  {
   "cell_type": "code",
   "execution_count": 81,
   "id": "6a95f222",
   "metadata": {},
   "outputs": [
    {
     "name": "stdout",
     "output_type": "stream",
     "text": [
      "{'http://icondataset.org/reception-of-classical-antiquity': 'Reception of Classical antiquity', 'http://icondataset.org/saturn': 'Saturn', 'http://icondataset.org/cupid': 'Cupid', 'http://icondataset.org/mercury': 'Mercury', 'http://icondataset.org/venus': 'Venus', 'http://icondataset.org/jupiter': 'Jupiter', 'http://icondataset.org/iconographical-evolution': 'Iconographical evolution', 'http://icondataset.org/companion-of-serapis': 'Companion of Serapis', 'http://icondataset.org/apollo': 'Apollo', 'http://icondataset.org/societal-phenomenon': 'Societal phenomenon', 'http://icondataset.org/people/lorenzo-de-medici': \"Lorenzo de' Medici\", 'http://icondataset.org/the-young-mago-caspar': 'The young Mago Caspar', 'http://icondataset.org/member-of-the-procession': 'Member of the procession', 'http://icondataset.org/tendency': 'Tendency', 'http://icondataset.org/era-sub-vulcano': 'Era Sub Vulcano', 'http://icondataset.org/mary': 'Mary', 'http://icondataset.org/satyr': 'Satyr', 'http://icondataset.org/centaur': 'Centaur', 'http://icondataset.org/the-age-of-stone': 'The Age of Stone', 'http://icondataset.org/formal-or-stylistic-evolution': 'Formal or stylistic evolution', 'http://icondataset.org/the-three-graces': 'The three Graces', 'http://icondataset.org/belief': 'Belief', 'http://icondataset.org/erection-of-primitive-buildings': 'Erection of primitive buildings', 'http://icondataset.org/era-ante-vulcanum': 'Era ante Vulcanum', 'http://icondataset.org/iconographical-influence': 'Iconographical influence', 'http://icondataset.org/planetary-deities': 'Planetary deities', 'http://icondataset.org/lion-zodiacal-sign': 'lion-zodiacal-sign', 'http://icondataset.org//pers/the-constellation-hercules': 'The Constellation Hercules', 'http://icondataset.org/the-children-of-mercury': 'The Children of Mercury', 'http://icondataset.org/cultural-reinterpretation': 'Cultural reinterpretation', 'http://icondataset.org/attitude': 'Attitude', 'http://icondataset.org/europas-companions': \"Europa's Companions\", 'http://icondataset.org/the-abduction-of-europa': 'The abduction of Europa', 'http://icondataset.org/the-children-of-each-planet': 'The Children of each Planet', 'http://icondataset.org/thisbe': 'Thisbe', 'http://icondataset.org/formal-or-stylistic-phenomenon': 'Formal or stylistic phenomenon', 'http://icondataset.org/christ': 'Christ', 'http://icondataset.org/mars': 'Mars', 'http://icondataset.org/saint-mark': 'Saint Mark', 'http://icondataset.org/saint-peter': 'Saint Peter', 'http://icondataset.org/iconographical-interpretation': 'Iconographical interpretation', 'http://icondataset.org/saturn-devouring-a-living-child': 'Saturn devouring a living child', 'http://icondataset.org/cultural-movement': 'Cultural movement', 'http://icondataset.org/europa': 'Europa', 'http://icondataset.org/cultural-influence': 'Cultural influence', 'http://icondataset.org/hecuba': 'Hecuba', 'http://icondataset.org/troilus': 'Troilus', 'http://icondataset.org/cultural-interpretation': 'Cultural interpretation', 'http://icondataset.org/moral-meaning': 'Moral meaning', 'http://icondataset.org/sisyphus': 'Sisyphus', 'http://icondataset.org/tantalus': 'Tantalus', 'http://icondataset.org/ixion': 'Ixion', 'http://icondataset.org/tityus': 'Tityus', 'http://icondataset.org/sisyphus-carrying-the-stone-uphill': 'Sisyphus carrying the stone uphill', 'http://icondataset.org/formal-or-stylistic-influence': 'Formal or stylistic influence', 'http://icondataset.org/archangel-gabriel': 'Archangel Gabriel', 'http://icondataset.org//pers/atlas': 'Atlas', 'http://icondataset.org/artists-expression': \"Artist's expression\", 'http://icondataset.org/phaeton': 'Phaeton', 'http://icondataset.org/humour': 'Humour', 'http://icondataset.org/silenus': 'Silenus', 'http://icondataset.org/aeolus': 'Aeolus', 'http://icondataset.org/people/francesco-del-pugliese': 'Francesco del Pugliese', 'http://icondataset.org/vulcan': 'Vulcan', 'http://icondataset.org/taste': 'Taste', 'http://icondataset.org/cultural-value': 'Cultural value', 'http://icondataset.org/olympian-gods': 'Olympian Gods', 'http://icondataset.org/zeus': 'Zeus', 'http://icondataset.org/mercury-hermes': 'Mercury (Hermes)', 'http://icondataset.org/iconographic-interpretation': 'Iconographic interpretation'}\n"
     ]
    }
   ],
   "source": [
    "# labels \n",
    "labels = {}\n",
    "\n",
    "candidate = []\n",
    "for key, value in top_5_subj_per_cf.items(): \n",
    "    candidate.append(\"<\"+key+\">\")\n",
    "    for subj in value: \n",
    "        if subj not in candidate: \n",
    "            candidate.append(\"<\"+subj+\">\") \n",
    "            \n",
    "labels = {}\n",
    "# no modify\n",
    "cqLabel = \"\"\"\n",
    "prefix d: <http://icondataset.org/> \n",
    "PREFIX icon: <https://w3id.org/icon/ontology/> \n",
    "prefix sim: <https://w3id.org/simulation/ontology/>\n",
    "prefix dul: <http://www.ontologydesignpatterns.org/ont/dul/DUL.owl#>\n",
    "prefix crm: <http://www.cidoc-crm.org/cidoc-crm/>\n",
    "\n",
    "SELECT DISTINCT ?item ?label  WHERE {\n",
    "    VALUES ?item { \"\"\"+ ' '.join(candidate) +\"\"\"}\n",
    "    ?item rdfs:label ?label. \n",
    "\n",
    "} \n",
    "\"\"\" \n",
    "\n",
    "cqLabelres = newg.query(cqLabel)\n",
    "\n",
    "for row in cqLabelres:\n",
    " # print(row[0], row[1])\n",
    "  if str(row[0]) not in labels: \n",
    "    labels[str(row[0])] = str(row[1])\n",
    "print(labels)   \n"
   ]
  },
  {
   "cell_type": "code",
   "execution_count": 82,
   "id": "57182dad",
   "metadata": {},
   "outputs": [],
   "source": [
    "# extract list of lists for each cf with the corresponding labels\n",
    "subj2_counting_cf = []\n",
    "\n",
    "for key, value in top_5_subj_per_cf.items(): \n",
    "    cf = labels[key] \n",
    "    for v in value.items():\n",
    "        subj2 = labels[v[0]]\n",
    "        freq = v[1]\n",
    "        subj2_counting_cf.append([cf, subj2, freq])\n",
    "\n",
    "#subj2_counting_cf    "
   ]
  },
  {
   "cell_type": "code",
   "execution_count": 83,
   "id": "6ff066d0",
   "metadata": {},
   "outputs": [],
   "source": [
    "line = [\"Cultural Phenomenon\", \"Level 2 subject\", \"Frequency\"] # labels only\n",
    "save = store_csv(\"subj2_per_cf_top_5.csv\", line, subj2_counting_cf)"
   ]
  },
  {
   "cell_type": "code",
   "execution_count": 84,
   "id": "c185b16b",
   "metadata": {},
   "outputs": [],
   "source": [
    "dfSubjCf = pd.DataFrame(np.array(subj2_counting_cf),\n",
    "                   columns=['Cultural Phenomenon', 'Level 2 Subject', 'Frequency'])\n",
    "dfSubjCf['Frequency'] = dfSubjCf['Frequency'].astype(int)"
   ]
  },
  {
   "cell_type": "code",
   "execution_count": 85,
   "id": "b23a0c16",
   "metadata": {},
   "outputs": [
    {
     "data": {
      "text/html": [
       "<div>\n",
       "<style scoped>\n",
       "    .dataframe tbody tr th:only-of-type {\n",
       "        vertical-align: middle;\n",
       "    }\n",
       "\n",
       "    .dataframe tbody tr th {\n",
       "        vertical-align: top;\n",
       "    }\n",
       "\n",
       "    .dataframe thead th {\n",
       "        text-align: right;\n",
       "    }\n",
       "</style>\n",
       "<table border=\"1\" class=\"dataframe\">\n",
       "  <thead>\n",
       "    <tr style=\"text-align: right;\">\n",
       "      <th></th>\n",
       "      <th>Cultural Phenomenon</th>\n",
       "      <th>Level 2 Subject</th>\n",
       "      <th>Frequency</th>\n",
       "    </tr>\n",
       "  </thead>\n",
       "  <tbody>\n",
       "    <tr>\n",
       "      <th>0</th>\n",
       "      <td>Reception of Classical antiquity</td>\n",
       "      <td>Saturn</td>\n",
       "      <td>16</td>\n",
       "    </tr>\n",
       "    <tr>\n",
       "      <th>1</th>\n",
       "      <td>Reception of Classical antiquity</td>\n",
       "      <td>Cupid</td>\n",
       "      <td>14</td>\n",
       "    </tr>\n",
       "    <tr>\n",
       "      <th>2</th>\n",
       "      <td>Reception of Classical antiquity</td>\n",
       "      <td>Mercury</td>\n",
       "      <td>11</td>\n",
       "    </tr>\n",
       "    <tr>\n",
       "      <th>3</th>\n",
       "      <td>Reception of Classical antiquity</td>\n",
       "      <td>Venus</td>\n",
       "      <td>8</td>\n",
       "    </tr>\n",
       "    <tr>\n",
       "      <th>4</th>\n",
       "      <td>Reception of Classical antiquity</td>\n",
       "      <td>Jupiter</td>\n",
       "      <td>8</td>\n",
       "    </tr>\n",
       "    <tr>\n",
       "      <th>...</th>\n",
       "      <td>...</td>\n",
       "      <td>...</td>\n",
       "      <td>...</td>\n",
       "    </tr>\n",
       "    <tr>\n",
       "      <th>89</th>\n",
       "      <td>Cultural value</td>\n",
       "      <td>Olympian Gods</td>\n",
       "      <td>1</td>\n",
       "    </tr>\n",
       "    <tr>\n",
       "      <th>90</th>\n",
       "      <td>Cultural value</td>\n",
       "      <td>Zeus</td>\n",
       "      <td>1</td>\n",
       "    </tr>\n",
       "    <tr>\n",
       "      <th>91</th>\n",
       "      <td>Cultural value</td>\n",
       "      <td>Mercury (Hermes)</td>\n",
       "      <td>1</td>\n",
       "    </tr>\n",
       "    <tr>\n",
       "      <th>92</th>\n",
       "      <td>Iconographic interpretation</td>\n",
       "      <td>Companion of Serapis</td>\n",
       "      <td>3</td>\n",
       "    </tr>\n",
       "    <tr>\n",
       "      <th>93</th>\n",
       "      <td>Iconographic interpretation</td>\n",
       "      <td>Apollo</td>\n",
       "      <td>3</td>\n",
       "    </tr>\n",
       "  </tbody>\n",
       "</table>\n",
       "<p>94 rows × 3 columns</p>\n",
       "</div>"
      ],
      "text/plain": [
       "                 Cultural Phenomenon       Level 2 Subject  Frequency\n",
       "0   Reception of Classical antiquity                Saturn         16\n",
       "1   Reception of Classical antiquity                 Cupid         14\n",
       "2   Reception of Classical antiquity               Mercury         11\n",
       "3   Reception of Classical antiquity                 Venus          8\n",
       "4   Reception of Classical antiquity               Jupiter          8\n",
       "..                               ...                   ...        ...\n",
       "89                    Cultural value         Olympian Gods          1\n",
       "90                    Cultural value                  Zeus          1\n",
       "91                    Cultural value      Mercury (Hermes)          1\n",
       "92       Iconographic interpretation  Companion of Serapis          3\n",
       "93       Iconographic interpretation                Apollo          3\n",
       "\n",
       "[94 rows x 3 columns]"
      ]
     },
     "execution_count": 85,
     "metadata": {},
     "output_type": "execute_result"
    }
   ],
   "source": [
    "dfSubjCf"
   ]
  },
  {
   "cell_type": "code",
   "execution_count": 86,
   "id": "ee4e747b",
   "metadata": {},
   "outputs": [
    {
     "data": {
      "image/png": "[encoded data removed]",
      "text/plain": [
       "<Figure size 864x1296 with 21 Axes>"
      ]
     },
     "metadata": {
      "needs_background": "light"
     },
     "output_type": "display_data"
    }
   ],
   "source": [
    "import seaborn as sns\n",
    "import matplotlib.pyplot as plt\n",
    "# https://seaborn.pydata.org/generated/seaborn.FacetGrid.html\n",
    "\n",
    "gr = sns.FacetGrid(dfSubjCf, col=\"Cultural Phenomenon\", col_wrap=4, sharex=False)\n",
    "gr.map_dataframe(sns.barplot, x=\"Level 2 Subject\", y=\"Frequency\")\n",
    "gr.set_titles(col_template=\"{col_name}\")\n",
    "#plt.tight_layout()\n",
    "\n",
    "for axes in gr.axes.flat: # we modify the x labels\n",
    "    wrap_labels(axes, 15) # wrap the labels longer than 15 characters\n",
    "    axes.set_xticklabels(axes.get_xticklabels(), rotation=90) # rotate the labels\n",
    "\n",
    "# gr.fig.tight_layout()\n",
    "plt.subplots_adjust(hspace=1.5) # height space between graphs"
   ]
  },
  {
   "cell_type": "markdown",
   "id": "b8a8f511",
   "metadata": {},
   "source": [
    "### Top 5 level 1 subjects per cultural phenomenon category"
   ]
  },
  {
   "cell_type": "code",
   "execution_count": null,
   "id": "00ef4cdd",
   "metadata": {},
   "outputs": [],
   "source": [
    "# too long\n",
    "cq2 = \"\"\"\n",
    "prefix d: <http://icondataset.org/> \n",
    "PREFIX icon: <https://w3id.org/icon/ontology/> \n",
    "prefix sim: <https://w3id.org/simulation/ontology/>\n",
    "prefix dul: <http://www.ontologydesignpatterns.org/ont/dul/DUL.owl#>\n",
    "prefix crm: <http://www.cidoc-crm.org/cidoc-crm/>\n",
    "\n",
    "SELECT DISTINCT ?CFbroader ?artwork ?subj1  WHERE {\n",
    "  VALUES ?rel1 {icon:hasFactualMeaning icon:hasExpressionalMeaning crm:P138_represents}\n",
    "  ?CFbroader ^crm:P2_has_type ?meaning.\n",
    "  ?meaning ^icon:recognizedCulturalPhenomenon / ^icon:recognizedIntrinsicMeaning ?iconol .\n",
    "  ?iconol icon:aboutWorkOfArt ?artwork .\n",
    "  ?preicrec icon:aboutWorkOfArt ?artwork; \n",
    "          a icon:PreiconographicalRecognition;\n",
    "          icon:recognizedArtisticMotif | icon:recognizedComposition ?lev1.\n",
    "  {?lev1 icon:hasPart ?am. ?am ?rel1 ?subj1} UNION {?lev1 ?rel1 ?subj1}\n",
    "   ?subj1 a ?type1.\n",
    " \n",
    "\n",
    "  #OPTIONAL {\n",
    "  #  ?icrec icon:aboutWorkOfArt ?artwork;\n",
    "  #  a icon:IconographicalRecognition; icon:recognizedInvenzione ?subj2.\n",
    "  #}\n",
    "\n",
    "} \n",
    "\"\"\" \n",
    "\n",
    "cq2res = newg.query(cq2)\n",
    "for row in cq2res:\n",
    "  print(row[0], '-',row[2])"
   ]
  },
  {
   "cell_type": "code",
   "execution_count": 23,
   "id": "2edeaf56",
   "metadata": {},
   "outputs": [],
   "source": [
    "# same query on blazegraph\n",
    "art_cf_subj1 = []\n",
    "result = server.query(\"\"\"\n",
    "prefix d: <http://icondataset.org/> \n",
    "PREFIX icon: <https://w3id.org/icon/ontology/> \n",
    "prefix sim: <https://w3id.org/simulation/ontology/>\n",
    "prefix dul: <http://www.ontologydesignpatterns.org/ont/dul/DUL.owl#>\n",
    "prefix crm: <http://www.cidoc-crm.org/cidoc-crm/>\n",
    "\n",
    "SELECT DISTINCT ?CFbroader ?artwork ?subj1  WHERE {\n",
    "  VALUES ?rel1 {icon:hasFactualMeaning icon:hasExpressionalMeaning crm:P138_represents}\n",
    "  ?CFbroader ^crm:P2_has_type ?meaning.\n",
    "  ?meaning ^icon:recognizedCulturalPhenomenon / ^icon:recognizedIntrinsicMeaning ?iconol .\n",
    "  ?iconol icon:aboutWorkOfArt ?artwork .\n",
    "  ?preicrec icon:aboutWorkOfArt ?artwork; \n",
    "          a icon:PreiconographicalRecognition;\n",
    "          icon:recognizedArtisticMotif | icon:recognizedComposition ?lev1.\n",
    "  {?lev1 icon:hasPart ?am. ?am ?rel1 ?subj1} UNION {?lev1 ?rel1 ?subj1}\n",
    "  # ?subj1 a ?type1.\n",
    " \n",
    "\n",
    "\n",
    "} \n",
    "\"\"\")\n",
    "for b in result['results']['bindings']:\n",
    "    art_cf_subj1.append([b[\"CFbroader\"][\"value\"], b[\"artwork\"][\"value\"], b[\"subj1\"][\"value\"]])\n"
   ]
  },
  {
   "cell_type": "code",
   "execution_count": 141,
   "id": "60f0e254",
   "metadata": {},
   "outputs": [],
   "source": [
    "from collections import defaultdict , Counter\n",
    "\n",
    "meanings_subjects = defaultdict(list)\n",
    "# ?meaning ?artwork ?subj2\n",
    "for l in art_cf_subj1:\n",
    "  meanings_subjects[str(l[0])].append(str(l[2]))\n",
    "\n",
    "\n",
    "cf_subjects_with_counts = {}\n",
    "for k,v in meanings_subjects.items():\n",
    "#  for m,c in well_represented_phenomena_and_counts:\n",
    " #   if k == m:\n",
    "    cf_subjects_with_counts[k] = dict(Counter(v).most_common())\n",
    "\n",
    "# add count\n",
    "\n",
    "#meanings_subjects_with_counts"
   ]
  },
  {
   "cell_type": "code",
   "execution_count": 142,
   "id": "6432f360",
   "metadata": {},
   "outputs": [],
   "source": [
    "# tpo 5 most frequent subjects per cf\n",
    "# maybe repeat the analysis with subject 2 broader categories? \n",
    "top_5_subj_per_cf = {}\n",
    "for item in cf_subjects_with_counts.items():\n",
    "    if item[0] not in top_5_subj_per_cf:\n",
    "        top_5_subj_per_cf[item[0]] = {}\n",
    "        for pair in item[1].items(): \n",
    "            if len(top_5_subj_per_cf[item[0]]) < 5:\n",
    "                top_5_subj_per_cf[item[0]][pair[0]] = pair[1]\n",
    "               \n",
    "#top_5_subj_per_cf   "
   ]
  },
  {
   "cell_type": "code",
   "execution_count": null,
   "id": "d6c2360e",
   "metadata": {},
   "outputs": [],
   "source": [
    "# labels \n",
    "labels = {}\n",
    "\n",
    "candidate = []\n",
    "for key, value in top_5_subj_per_cf.items(): \n",
    "    candidate.append(\"<\"+key+\">\")\n",
    "    for subj in value: \n",
    "        if subj not in candidate: \n",
    "            candidate.append(\"<\"+subj+\">\") \n",
    "            \n",
    "labels = {}\n",
    "# no modify\n",
    "cqLabel = \"\"\"\n",
    "prefix d: <http://icondataset.org/> \n",
    "PREFIX icon: <https://w3id.org/icon/ontology/> \n",
    "prefix sim: <https://w3id.org/simulation/ontology/>\n",
    "prefix dul: <http://www.ontologydesignpatterns.org/ont/dul/DUL.owl#>\n",
    "prefix crm: <http://www.cidoc-crm.org/cidoc-crm/>\n",
    "\n",
    "SELECT DISTINCT ?item ?label  WHERE {\n",
    "    VALUES ?item { \"\"\"+ ' '.join(candidate) +\"\"\"}\n",
    "    ?item rdfs:label ?label. \n",
    "\n",
    "} \n",
    "\"\"\" \n",
    "\n",
    "cqLabelres = newg.query(cqLabel)\n",
    "\n",
    "for row in cqLabelres:\n",
    " # print(row[0], row[1])\n",
    "  if str(row[0]) not in labels: \n",
    "    labels[str(row[0])] = str(row[1])\n",
    "print(labels)   \n"
   ]
  },
  {
   "cell_type": "code",
   "execution_count": 148,
   "id": "fef4f01a",
   "metadata": {},
   "outputs": [],
   "source": [
    "# extract list of lists for each cf with the corresponding labels\n",
    "subj1_counting_cf = []\n",
    "\n",
    "for key, value in top_5_subj_per_cf.items(): \n",
    "    cf = labels[key] \n",
    "    for v in value.items():\n",
    "        subj1 = labels[v[0]]\n",
    "        freq = v[1]\n",
    "        subj1_counting_cf.append([cf, subj1, freq])\n",
    "\n",
    "#subj2_counting_cf    "
   ]
  },
  {
   "cell_type": "code",
   "execution_count": 150,
   "id": "f14d9eca",
   "metadata": {},
   "outputs": [],
   "source": [
    "line = [\"Cultural Phenomenon\", \"Level 1 subject\", \"Frequency\"] # labels only\n",
    "save = store_csv(\"subj1_per_cf_top_5.csv\", line, subj1_counting_cf)"
   ]
  },
  {
   "cell_type": "code",
   "execution_count": 151,
   "id": "4e87a9d8",
   "metadata": {},
   "outputs": [],
   "source": [
    "dfSubjCf = pd.DataFrame(np.array(subj1_counting_cf),\n",
    "                   columns=['Cultural Phenomenon', 'Level 1 Subject', 'Frequency'])\n",
    "dfSubjCf['Frequency'] = dfSubjCf['Frequency'].astype(int)"
   ]
  },
  {
   "cell_type": "code",
   "execution_count": 152,
   "id": "4c4356ca",
   "metadata": {},
   "outputs": [
    {
     "data": {
      "text/html": [
       "<div>\n",
       "<style scoped>\n",
       "    .dataframe tbody tr th:only-of-type {\n",
       "        vertical-align: middle;\n",
       "    }\n",
       "\n",
       "    .dataframe tbody tr th {\n",
       "        vertical-align: top;\n",
       "    }\n",
       "\n",
       "    .dataframe thead th {\n",
       "        text-align: right;\n",
       "    }\n",
       "</style>\n",
       "<table border=\"1\" class=\"dataframe\">\n",
       "  <thead>\n",
       "    <tr style=\"text-align: right;\">\n",
       "      <th></th>\n",
       "      <th>Cultural Phenomenon</th>\n",
       "      <th>Level 1 Subject</th>\n",
       "      <th>Frequency</th>\n",
       "    </tr>\n",
       "  </thead>\n",
       "  <tbody>\n",
       "    <tr>\n",
       "      <th>0</th>\n",
       "      <td>Cultural reinterpretation</td>\n",
       "      <td>man</td>\n",
       "      <td>7</td>\n",
       "    </tr>\n",
       "    <tr>\n",
       "      <th>1</th>\n",
       "      <td>Cultural reinterpretation</td>\n",
       "      <td>grabbing with one hand</td>\n",
       "      <td>6</td>\n",
       "    </tr>\n",
       "    <tr>\n",
       "      <th>2</th>\n",
       "      <td>Cultural reinterpretation</td>\n",
       "      <td>constellation</td>\n",
       "      <td>4</td>\n",
       "    </tr>\n",
       "    <tr>\n",
       "      <th>3</th>\n",
       "      <td>Cultural reinterpretation</td>\n",
       "      <td>clothes</td>\n",
       "      <td>3</td>\n",
       "    </tr>\n",
       "    <tr>\n",
       "      <th>4</th>\n",
       "      <td>Cultural reinterpretation</td>\n",
       "      <td>woman</td>\n",
       "      <td>3</td>\n",
       "    </tr>\n",
       "    <tr>\n",
       "      <th>...</th>\n",
       "      <td>...</td>\n",
       "      <td>...</td>\n",
       "      <td>...</td>\n",
       "    </tr>\n",
       "    <tr>\n",
       "      <th>100</th>\n",
       "      <td>Cultural interpretation</td>\n",
       "      <td>woman</td>\n",
       "      <td>2</td>\n",
       "    </tr>\n",
       "    <tr>\n",
       "      <th>101</th>\n",
       "      <td>Cultural interpretation</td>\n",
       "      <td>bandage</td>\n",
       "      <td>2</td>\n",
       "    </tr>\n",
       "    <tr>\n",
       "      <th>102</th>\n",
       "      <td>Cultural interpretation</td>\n",
       "      <td>wings</td>\n",
       "      <td>2</td>\n",
       "    </tr>\n",
       "    <tr>\n",
       "      <th>103</th>\n",
       "      <td>Cultural interpretation</td>\n",
       "      <td>court dress</td>\n",
       "      <td>2</td>\n",
       "    </tr>\n",
       "    <tr>\n",
       "      <th>104</th>\n",
       "      <td>Cultural interpretation</td>\n",
       "      <td>arrow</td>\n",
       "      <td>2</td>\n",
       "    </tr>\n",
       "  </tbody>\n",
       "</table>\n",
       "<p>105 rows × 3 columns</p>\n",
       "</div>"
      ],
      "text/plain": [
       "           Cultural Phenomenon         Level 1 Subject  Frequency\n",
       "0    Cultural reinterpretation                     man          7\n",
       "1    Cultural reinterpretation  grabbing with one hand          6\n",
       "2    Cultural reinterpretation           constellation          4\n",
       "3    Cultural reinterpretation                 clothes          3\n",
       "4    Cultural reinterpretation                   woman          3\n",
       "..                         ...                     ...        ...\n",
       "100    Cultural interpretation                   woman          2\n",
       "101    Cultural interpretation                 bandage          2\n",
       "102    Cultural interpretation                   wings          2\n",
       "103    Cultural interpretation             court dress          2\n",
       "104    Cultural interpretation                   arrow          2\n",
       "\n",
       "[105 rows x 3 columns]"
      ]
     },
     "execution_count": 152,
     "metadata": {},
     "output_type": "execute_result"
    }
   ],
   "source": [
    "dfSubjCf"
   ]
  },
  {
   "cell_type": "code",
   "execution_count": 153,
   "id": "b8278967",
   "metadata": {},
   "outputs": [
    {
     "data": {
      "image/png": "[encoded data removed]",
      "text/plain": [
       "<Figure size 864x1296 with 22 Axes>"
      ]
     },
     "metadata": {
      "needs_background": "light"
     },
     "output_type": "display_data"
    }
   ],
   "source": [
    "import seaborn as sns\n",
    "import matplotlib.pyplot as plt\n",
    "# https://seaborn.pydata.org/generated/seaborn.FacetGrid.html\n",
    "\n",
    "gr = sns.FacetGrid(dfSubjCf, col=\"Cultural Phenomenon\", col_wrap=4, sharex=False)\n",
    "gr.map_dataframe(sns.barplot, x=\"Level 1 Subject\", y=\"Frequency\")\n",
    "gr.set_titles(col_template=\"{col_name}\")\n",
    "#plt.tight_layout()\n",
    "\n",
    "for axes in gr.axes.flat: # we modify the x labels\n",
    "    wrap_labels(axes, 15) # wrap the labels longer than 15 characters\n",
    "    axes.set_xticklabels(axes.get_xticklabels(), rotation=90) # rotate the labels\n",
    "\n",
    "# gr.fig.tight_layout()\n",
    "plt.subplots_adjust(hspace=1.5) # height space between graphs"
   ]
  },
  {
   "cell_type": "markdown",
   "id": "1516de65",
   "metadata": {},
   "source": [
    "[Back to top](#Dataset-overview) <br>\n",
    "[Back to section 2](#2.-Overwiew-of-Cultural-Phenomena)"
   ]
  },
  {
   "cell_type": "markdown",
   "id": "e3f04505",
   "metadata": {},
   "source": [
    "## 2.3 Frequency of the top K subjects per Cultural Phenomenon (overall visualization)\n"
   ]
  },
  {
   "cell_type": "code",
   "execution_count": 25,
   "id": "30470c9f",
   "metadata": {},
   "outputs": [],
   "source": [
    "dfSubjCf = pd.read_csv(\"subj2_per_cf_top_5.csv\")\n",
    "dfSubjCf['Frequency'] = dfSubjCf['Frequency'].astype(int)"
   ]
  },
  {
   "cell_type": "code",
   "execution_count": 36,
   "id": "9c882e12",
   "metadata": {},
   "outputs": [
    {
     "data": {
      "image/png": "[encoded data removed]",
      "text/plain": [
       "<Figure size 432x288 with 1 Axes>"
      ]
     },
     "metadata": {},
     "output_type": "display_data"
    }
   ],
   "source": [
    "import seaborn as sns\n",
    "sns.set_theme(style=\"whitegrid\")\n",
    "\n",
    "\n",
    "# Draw a nested barplot. Color represents each cultural phenomenon\n",
    "g= sns.histplot(data=dfSubjCf, x=\"Level 2 subject\", y=\"Frequency\", hue=\"Cultural Phenomenon\", palette=\"pastel\")\n",
    "# g = sns.histplot(data=df6, x=\"Subject\", y=\"Frequency\", hue=\"Cultural Phenomenon\", palette=\"pastel\")\n",
    "# g.despine(left=True)\n",
    "# g.set_axis_labels(\"\", \"Frequency\")\n",
    "# g.legend.set_title(\"\")\n",
    "plt.xticks(rotation=90)\n",
    "#plt.tight_layout()\n",
    "sns.move_legend(g, \"upper left\", bbox_to_anchor=(1, 1))"
   ]
  },
  {
   "cell_type": "code",
   "execution_count": 30,
   "id": "fe238dfb",
   "metadata": {},
   "outputs": [
    {
     "data": {
      "image/png": "[encoded data removed]",
      "text/plain": [
       "<Figure size 624.85x432 with 1 Axes>"
      ]
     },
     "metadata": {},
     "output_type": "display_data"
    }
   ],
   "source": [
    "import seaborn as sns\n",
    "sns.set_theme(style=\"whitegrid\")\n",
    "\n",
    "\n",
    "# Draw a nested barplot. Color represents each cultural phenomenon\n",
    "g= sns.catplot(data=dfSubjCf,kind=\"bar\", x=\"Frequency\", y=\"Level 2 subject\", hue=\"Cultural Phenomenon\", palette=\"dark\", height=6)\n",
    "# g = sns.histplot(data=df6, x=\"Subject\", y=\"Frequency\", hue=\"Cultural Phenomenon\", palette=\"pastel\")\n",
    "# g.despine(left=True)\n",
    "# g.set_axis_labels(\"\", \"Frequency\")\n",
    "# g.legend.set_title(\"\")\n",
    "plt.xticks(rotation=90)\n",
    "plt.tight_layout()\n",
    "sns.move_legend(g, \"upper left\", bbox_to_anchor=(1, 1))"
   ]
  },
  {
   "cell_type": "code",
   "execution_count": 34,
   "id": "87f33822",
   "metadata": {},
   "outputs": [
    {
     "data": {
      "image/png": "[encoded data removed]",
      "text/plain": [
       "<Figure size 1632.85x1440 with 1 Axes>"
      ]
     },
     "metadata": {},
     "output_type": "display_data"
    }
   ],
   "source": [
    "import seaborn as sns\n",
    "sns.set_theme(style=\"whitegrid\")\n",
    "\n",
    "\n",
    "# Draw a nested barplot by species and sex\n",
    "g = sns.catplot(\n",
    "    data=dfSubjCf, kind=\"bar\", x=\"Frequency\", y=\"Level 2 subject\", hue=\"Cultural Phenomenon\",\n",
    "     palette=\"dark\", alpha=.6, height=20\n",
    ")\n",
    "g.despine(left=True)\n",
    "g.set_axis_labels(\"\", \"Body mass (g)\")\n",
    "g.legend.set_title(\"\")"
   ]
  },
  {
   "cell_type": "code",
   "execution_count": null,
   "id": "44073f19",
   "metadata": {},
   "outputs": [],
   "source": [
    "#dfMeanings = meanings_subjects\n",
    "meanings_subjects_without_count = []\n",
    "for cf, value in meanings_subjects.items(): \n",
    "    name = cf[0]\n",
    "    for s in value: \n",
    "       meanings_subjects_without_count.append([cf, s]) \n",
    "meanings_subjects_without_count"
   ]
  },
  {
   "cell_type": "markdown",
   "id": "91b44605",
   "metadata": {},
   "source": [
    "[Back to top](#Dataset-overview) <br>\n",
    "[Back to section 2](#2.-Overwiew-of-Cultural-Phenomena)"
   ]
  },
  {
   "cell_type": "markdown",
   "id": "2326ede5",
   "metadata": {},
   "source": [
    "## 2.4 Co-occurrencies of subjects and Cultural Phenomena"
   ]
  },
  {
   "cell_type": "code",
   "execution_count": null,
   "id": "e927df99",
   "metadata": {},
   "outputs": [],
   "source": [
    "# lev 3\n",
    "artwork_lev3 = []\n",
    "\n",
    "cq10 = \"\"\"\n",
    "prefix d: <http://icondataset.org/> \n",
    "PREFIX icon: <https://w3id.org/icon/ontology/> \n",
    "prefix sim: <https://w3id.org/simulation/ontology/>\n",
    "prefix dul: <http://www.ontologydesignpatterns.org/ont/dul/DUL.owl#>\n",
    "prefix crm: <http://www.cidoc-crm.org/cidoc-crm/>\n",
    "\n",
    "SELECT DISTINCT ?artwork ?meaning ?CFBroader  WHERE {\n",
    " # VALUES ?rel {icon:hasCharacter icon:hasEvent icon:hasNamedObject icon:hasPlace icon:hasPersonification icon:hasSymbol}\n",
    "\n",
    "  ?meaning ^icon:recognizedCulturalPhenomenon / ^icon:recognizedIntrinsicMeaning ?iconol .\n",
    "  ?meaning crm:P2_has_type ?CFBroader.\n",
    "  ?iconol icon:aboutWorkOfArt ?artwork .\n",
    "\n",
    "\n",
    "} \n",
    "\"\"\" \n",
    "\n",
    "cq10res = newg.query(cq10)\n",
    "for row in cq10res:\n",
    "    artwork_lev3.append([str(row[0]), str(row[1]), str(row[2])])\n",
    "    print(row)"
   ]
  },
  {
   "cell_type": "code",
   "execution_count": 9,
   "id": "a3fe99dd",
   "metadata": {},
   "outputs": [],
   "source": [
    "first_line = [\"Artwork\", \"CulturalPhenomenon\", \"Type\"]\n",
    "store = store_csv(\"art_cf_lev3.csv\", first_line, artwork_lev3)"
   ]
  },
  {
   "cell_type": "code",
   "execution_count": 8,
   "id": "ae1a83c7",
   "metadata": {},
   "outputs": [],
   "source": [
    "artwork_lev3 = open_csv(\"art_cf_lev3.csv\")"
   ]
  },
  {
   "cell_type": "code",
   "execution_count": 7,
   "id": "63268c63",
   "metadata": {},
   "outputs": [],
   "source": [
    "cf_art_set = set() # set of the artworks having a cf of the most common categories\n",
    "for l in artwork_lev3: \n",
    "    cf_art_set.add(\"<\"+l[0]+\">\")\n",
    "#cf_art_set"
   ]
  },
  {
   "cell_type": "code",
   "execution_count": 14,
   "id": "4e466fc0",
   "metadata": {},
   "outputs": [],
   "source": [
    "# set storage\n",
    "cf_art_list = []\n",
    "for s in cf_art_set: \n",
    "    cf_art_list.append([s])\n",
    "first_art_line = [\"Artworks with a Cultural Phenomenon\"]\n",
    "store = store_csv(\"art_with_cf.csv\", first_art_line, cf_art_list)"
   ]
  },
  {
   "cell_type": "code",
   "execution_count": 22,
   "id": "9db7daf6",
   "metadata": {},
   "outputs": [],
   "source": [
    "cf_art_list = open_csv(\"art_with_cf.csv\")"
   ]
  },
  {
   "cell_type": "code",
   "execution_count": null,
   "id": "1eff0ecb",
   "metadata": {},
   "outputs": [],
   "source": [
    "# lev 2\n",
    "artwork_lev2 = []\n",
    "\n",
    "cq11 = \"\"\"\n",
    "prefix d: <http://icondataset.org/> \n",
    "PREFIX icon: <https://w3id.org/icon/ontology/> \n",
    "prefix sim: <https://w3id.org/simulation/ontology/>\n",
    "prefix dul: <http://www.ontologydesignpatterns.org/ont/dul/DUL.owl#>\n",
    "prefix crm: <http://www.cidoc-crm.org/cidoc-crm/>\n",
    "\n",
    "SELECT DISTINCT ?artwork ?lev2 ?type  WHERE {\n",
    "  VALUES ?rel {icon:hasCharacter icon:hasEvent icon:hasNamedObject icon:hasPlace icon:hasPersonification icon:hasSymbol}\n",
    "  VALUES ?artwork { \"\"\"+ ' '.join(cf_art_set) +\"\"\"}\n",
    "  ?icrec icon:aboutWorkOfArt ?artwork; icon:recognizedImage ?img. \n",
    "  ?img ?rel ?lev2.\n",
    "  ?lev2 a ?type. \n",
    "} \n",
    "\"\"\" \n",
    "\n",
    "cq11res = newg.query(cq11)\n",
    "for row in cq11res:\n",
    "    artwork_lev2.append([str(row[0]), str(row[1]), str(row[2])])\n",
    "    print(row)"
   ]
  },
  {
   "cell_type": "code",
   "execution_count": 17,
   "id": "38a97e00",
   "metadata": {},
   "outputs": [],
   "source": [
    "first_line = [\"Artwork\", \"Subject2\", \"Type\"]\n",
    "store = store_csv(\"art_cf_lev2.csv\", first_line, artwork_lev2)"
   ]
  },
  {
   "cell_type": "code",
   "execution_count": 9,
   "id": "3b52b93c",
   "metadata": {},
   "outputs": [],
   "source": [
    "artwork_lev2 = open_csv(\"art_cf_lev2.csv\")"
   ]
  },
  {
   "cell_type": "code",
   "execution_count": null,
   "id": "0cb7aed7",
   "metadata": {},
   "outputs": [],
   "source": [
    "# lev 1\n",
    "artwork_lev1 = []\n",
    "\n",
    "cq12 = \"\"\"\n",
    "prefix d: <http://icondataset.org/> \n",
    "PREFIX icon: <https://w3id.org/icon/ontology/> \n",
    "prefix sim: <https://w3id.org/simulation/ontology/>\n",
    "prefix dul: <http://www.ontologydesignpatterns.org/ont/dul/DUL.owl#>\n",
    "prefix crm: <http://www.cidoc-crm.org/cidoc-crm/>\n",
    "\n",
    "SELECT DISTINCT ?artwork ?lev1 ?type  WHERE {\n",
    "  VALUES ?rel {icon:hasFactualMeaning icon:hasExpressionalMeaning}\n",
    "  VALUES ?artwork { \"\"\"+ ' '.join(cf_art_set) +\"\"\"}\n",
    "  ?artwork ^icon:aboutWorkOfArt ?icrec. \n",
    "  ?icrec a icon:PreiconographicalRecognition; icon:recognizedArtisticMotif | icon:recognizedComposition ?subj1. \n",
    "  {?subj1 ?rel ?lev1.} UNION {?subj1 icon:hasPart ?am. ?am ?rel ?lev1}\n",
    "  ?lev1 a ?type. \n",
    "} \n",
    "\"\"\" \n",
    "\n",
    "cq12res = newg.query(cq12)\n",
    "for row in cq12res:\n",
    "    artwork_lev1.append([str(row[0]), str(row[1]), str(row[2])])\n",
    "    print(row)\n",
    "    \n",
    "first_line = [\"Artwork\", \"Subject1\", \"Type\"]\n",
    "store = store_csv(\"art_cf_lev1.csv\", first_line, artwork_lev1)"
   ]
  },
  {
   "cell_type": "code",
   "execution_count": 10,
   "id": "ff03e28b",
   "metadata": {},
   "outputs": [],
   "source": [
    "artwork_lev1 = open_csv(\"art_cf_lev1.csv\")"
   ]
  },
  {
   "cell_type": "code",
   "execution_count": 11,
   "id": "1eeabf0f",
   "metadata": {},
   "outputs": [],
   "source": [
    "art_described_dict = {}\n",
    "for l in artwork_lev3: \n",
    "    if l[0] not in art_described_dict: \n",
    "        art_described_dict[l[0]] = set()\n",
    "    art_described_dict[l[0]].add(l[2])\n",
    "for l in artwork_lev2: \n",
    "    art_described_dict[l[0]].add(l[2])\n",
    "for l in artwork_lev1: \n",
    "    art_described_dict[l[0]].add(l[2])\n",
    "\n",
    "# we transform it in a list of lists to analyze co-occurrencies\n",
    "art_described_list = [] \n",
    "\n",
    "for s in art_described_dict.values(): \n",
    "    l = list(s)\n",
    "    art_described_list.append(l)"
   ]
  },
  {
   "cell_type": "code",
   "execution_count": 12,
   "id": "cd14edfb",
   "metadata": {},
   "outputs": [],
   "source": [
    "first_line = [\"Artwork\", \"Subject\", \"Type\"]\n",
    "store = store_csv(\"art_cf_all_levels.csv\", first_line, art_described_list)"
   ]
  },
  {
   "cell_type": "code",
   "execution_count": 19,
   "id": "dde866da",
   "metadata": {},
   "outputs": [
    {
     "data": {
      "text/html": [
       "<div>\n",
       "<style scoped>\n",
       "    .dataframe tbody tr th:only-of-type {\n",
       "        vertical-align: middle;\n",
       "    }\n",
       "\n",
       "    .dataframe tbody tr th {\n",
       "        vertical-align: top;\n",
       "    }\n",
       "\n",
       "    .dataframe thead th {\n",
       "        text-align: right;\n",
       "    }\n",
       "</style>\n",
       "<table border=\"1\" class=\"dataframe\">\n",
       "  <thead>\n",
       "    <tr style=\"text-align: right;\">\n",
       "      <th></th>\n",
       "      <th>support</th>\n",
       "      <th>itemsets</th>\n",
       "    </tr>\n",
       "  </thead>\n",
       "  <tbody>\n",
       "    <tr>\n",
       "      <th>0</th>\n",
       "      <td>0.356037</td>\n",
       "      <td>(http://icondataset.org/iconographical-evolution)</td>\n",
       "    </tr>\n",
       "    <tr>\n",
       "      <th>1</th>\n",
       "      <td>0.628483</td>\n",
       "      <td>(http://icondataset.org/reception-of-classical...</td>\n",
       "    </tr>\n",
       "    <tr>\n",
       "      <th>2</th>\n",
       "      <td>0.486068</td>\n",
       "      <td>(https://w3id.org/icon/ontology/Action)</td>\n",
       "    </tr>\n",
       "    <tr>\n",
       "      <th>3</th>\n",
       "      <td>0.507740</td>\n",
       "      <td>(https://w3id.org/icon/ontology/Character)</td>\n",
       "    </tr>\n",
       "    <tr>\n",
       "      <th>4</th>\n",
       "      <td>0.792570</td>\n",
       "      <td>(https://w3id.org/icon/ontology/NaturalElement)</td>\n",
       "    </tr>\n",
       "    <tr>\n",
       "      <th>5</th>\n",
       "      <td>0.343653</td>\n",
       "      <td>(https://w3id.org/icon/ontology/NaturalElement...</td>\n",
       "    </tr>\n",
       "    <tr>\n",
       "      <th>6</th>\n",
       "      <td>0.368421</td>\n",
       "      <td>(https://w3id.org/icon/ontology/Action, http:/...</td>\n",
       "    </tr>\n",
       "    <tr>\n",
       "      <th>7</th>\n",
       "      <td>0.377709</td>\n",
       "      <td>(https://w3id.org/icon/ontology/Character, htt...</td>\n",
       "    </tr>\n",
       "    <tr>\n",
       "      <th>8</th>\n",
       "      <td>0.535604</td>\n",
       "      <td>(http://icondataset.org/reception-of-classical...</td>\n",
       "    </tr>\n",
       "    <tr>\n",
       "      <th>9</th>\n",
       "      <td>0.362229</td>\n",
       "      <td>(https://w3id.org/icon/ontology/Character, htt...</td>\n",
       "    </tr>\n",
       "    <tr>\n",
       "      <th>10</th>\n",
       "      <td>0.486068</td>\n",
       "      <td>(https://w3id.org/icon/ontology/Action, https:...</td>\n",
       "    </tr>\n",
       "    <tr>\n",
       "      <th>11</th>\n",
       "      <td>0.489164</td>\n",
       "      <td>(https://w3id.org/icon/ontology/Character, htt...</td>\n",
       "    </tr>\n",
       "    <tr>\n",
       "      <th>12</th>\n",
       "      <td>0.368421</td>\n",
       "      <td>(https://w3id.org/icon/ontology/Action, http:/...</td>\n",
       "    </tr>\n",
       "    <tr>\n",
       "      <th>13</th>\n",
       "      <td>0.368421</td>\n",
       "      <td>(https://w3id.org/icon/ontology/Character, htt...</td>\n",
       "    </tr>\n",
       "    <tr>\n",
       "      <th>14</th>\n",
       "      <td>0.362229</td>\n",
       "      <td>(https://w3id.org/icon/ontology/Character, htt...</td>\n",
       "    </tr>\n",
       "  </tbody>\n",
       "</table>\n",
       "</div>"
      ],
      "text/plain": [
       "     support                                           itemsets\n",
       "0   0.356037  (http://icondataset.org/iconographical-evolution)\n",
       "1   0.628483  (http://icondataset.org/reception-of-classical...\n",
       "2   0.486068            (https://w3id.org/icon/ontology/Action)\n",
       "3   0.507740         (https://w3id.org/icon/ontology/Character)\n",
       "4   0.792570    (https://w3id.org/icon/ontology/NaturalElement)\n",
       "5   0.343653  (https://w3id.org/icon/ontology/NaturalElement...\n",
       "6   0.368421  (https://w3id.org/icon/ontology/Action, http:/...\n",
       "7   0.377709  (https://w3id.org/icon/ontology/Character, htt...\n",
       "8   0.535604  (http://icondataset.org/reception-of-classical...\n",
       "9   0.362229  (https://w3id.org/icon/ontology/Character, htt...\n",
       "10  0.486068  (https://w3id.org/icon/ontology/Action, https:...\n",
       "11  0.489164  (https://w3id.org/icon/ontology/Character, htt...\n",
       "12  0.368421  (https://w3id.org/icon/ontology/Action, http:/...\n",
       "13  0.368421  (https://w3id.org/icon/ontology/Character, htt...\n",
       "14  0.362229  (https://w3id.org/icon/ontology/Character, htt..."
      ]
     },
     "execution_count": 19,
     "metadata": {},
     "output_type": "execute_result"
    }
   ],
   "source": [
    "from mlxtend.preprocessing import TransactionEncoder\n",
    "from mlxtend.frequent_patterns import apriori\n",
    "import pandas as pd\n",
    "\n",
    "\n",
    "dataset = art_described_list\n",
    "\n",
    "te = TransactionEncoder()\n",
    "te_ary = te.fit(dataset).transform(dataset)\n",
    "df = pd.DataFrame(te_ary, columns=te.columns_)\n",
    "\n",
    "frequent_itemsets = apriori(df, min_support=0.3, use_colnames=True)\n",
    "frequent_itemsets"
   ]
  },
  {
   "cell_type": "code",
   "execution_count": 20,
   "id": "cc913d47",
   "metadata": {},
   "outputs": [
    {
     "data": {
      "text/html": [
       "<div>\n",
       "<style scoped>\n",
       "    .dataframe tbody tr th:only-of-type {\n",
       "        vertical-align: middle;\n",
       "    }\n",
       "\n",
       "    .dataframe tbody tr th {\n",
       "        vertical-align: top;\n",
       "    }\n",
       "\n",
       "    .dataframe thead th {\n",
       "        text-align: right;\n",
       "    }\n",
       "</style>\n",
       "<table border=\"1\" class=\"dataframe\">\n",
       "  <thead>\n",
       "    <tr style=\"text-align: right;\">\n",
       "      <th></th>\n",
       "      <th>antecedents</th>\n",
       "      <th>consequents</th>\n",
       "      <th>antecedent support</th>\n",
       "      <th>consequent support</th>\n",
       "      <th>support</th>\n",
       "      <th>confidence</th>\n",
       "      <th>lift</th>\n",
       "      <th>leverage</th>\n",
       "      <th>conviction</th>\n",
       "    </tr>\n",
       "  </thead>\n",
       "  <tbody>\n",
       "    <tr>\n",
       "      <th>0</th>\n",
       "      <td>http://icondataset.org/iconographical-evolution</td>\n",
       "      <td>https://w3id.org/icon/ontology/NaturalElement</td>\n",
       "      <td>0.356037</td>\n",
       "      <td>0.79257</td>\n",
       "      <td>0.343653</td>\n",
       "      <td>0.965217</td>\n",
       "      <td>1.217833</td>\n",
       "      <td>0.061469</td>\n",
       "      <td>5.963622</td>\n",
       "    </tr>\n",
       "    <tr>\n",
       "      <th>1</th>\n",
       "      <td>http://icondataset.org/reception-of-classical-...</td>\n",
       "      <td>https://w3id.org/icon/ontology/NaturalElement</td>\n",
       "      <td>0.628483</td>\n",
       "      <td>0.79257</td>\n",
       "      <td>0.535604</td>\n",
       "      <td>0.852217</td>\n",
       "      <td>1.075258</td>\n",
       "      <td>0.037487</td>\n",
       "      <td>1.403612</td>\n",
       "    </tr>\n",
       "    <tr>\n",
       "      <th>2</th>\n",
       "      <td>https://w3id.org/icon/ontology/Action</td>\n",
       "      <td>https://w3id.org/icon/ontology/NaturalElement</td>\n",
       "      <td>0.486068</td>\n",
       "      <td>0.79257</td>\n",
       "      <td>0.486068</td>\n",
       "      <td>1.000000</td>\n",
       "      <td>1.261719</td>\n",
       "      <td>0.100825</td>\n",
       "      <td>inf</td>\n",
       "    </tr>\n",
       "    <tr>\n",
       "      <th>3</th>\n",
       "      <td>https://w3id.org/icon/ontology/Character</td>\n",
       "      <td>https://w3id.org/icon/ontology/NaturalElement</td>\n",
       "      <td>0.507740</td>\n",
       "      <td>0.79257</td>\n",
       "      <td>0.489164</td>\n",
       "      <td>0.963415</td>\n",
       "      <td>1.215558</td>\n",
       "      <td>0.086745</td>\n",
       "      <td>5.669763</td>\n",
       "    </tr>\n",
       "    <tr>\n",
       "      <th>4</th>\n",
       "      <td>https://w3id.org/icon/ontology/Action</td>\n",
       "      <td>https://w3id.org/icon/ontology/NaturalElement</td>\n",
       "      <td>0.368421</td>\n",
       "      <td>0.79257</td>\n",
       "      <td>0.368421</td>\n",
       "      <td>1.000000</td>\n",
       "      <td>1.261719</td>\n",
       "      <td>0.076422</td>\n",
       "      <td>inf</td>\n",
       "    </tr>\n",
       "    <tr>\n",
       "      <th>5</th>\n",
       "      <td>https://w3id.org/icon/ontology/Character</td>\n",
       "      <td>https://w3id.org/icon/ontology/NaturalElement</td>\n",
       "      <td>0.377709</td>\n",
       "      <td>0.79257</td>\n",
       "      <td>0.368421</td>\n",
       "      <td>0.975410</td>\n",
       "      <td>1.230693</td>\n",
       "      <td>0.069060</td>\n",
       "      <td>8.435501</td>\n",
       "    </tr>\n",
       "    <tr>\n",
       "      <th>6</th>\n",
       "      <td>https://w3id.org/icon/ontology/Character</td>\n",
       "      <td>https://w3id.org/icon/ontology/NaturalElement</td>\n",
       "      <td>0.362229</td>\n",
       "      <td>0.79257</td>\n",
       "      <td>0.362229</td>\n",
       "      <td>1.000000</td>\n",
       "      <td>1.261719</td>\n",
       "      <td>0.075137</td>\n",
       "      <td>inf</td>\n",
       "    </tr>\n",
       "  </tbody>\n",
       "</table>\n",
       "</div>"
      ],
      "text/plain": [
       "                                         antecedents  \\\n",
       "0    http://icondataset.org/iconographical-evolution   \n",
       "1  http://icondataset.org/reception-of-classical-...   \n",
       "2              https://w3id.org/icon/ontology/Action   \n",
       "3           https://w3id.org/icon/ontology/Character   \n",
       "4              https://w3id.org/icon/ontology/Action   \n",
       "5           https://w3id.org/icon/ontology/Character   \n",
       "6           https://w3id.org/icon/ontology/Character   \n",
       "\n",
       "                                     consequents  antecedent support  \\\n",
       "0  https://w3id.org/icon/ontology/NaturalElement            0.356037   \n",
       "1  https://w3id.org/icon/ontology/NaturalElement            0.628483   \n",
       "2  https://w3id.org/icon/ontology/NaturalElement            0.486068   \n",
       "3  https://w3id.org/icon/ontology/NaturalElement            0.507740   \n",
       "4  https://w3id.org/icon/ontology/NaturalElement            0.368421   \n",
       "5  https://w3id.org/icon/ontology/NaturalElement            0.377709   \n",
       "6  https://w3id.org/icon/ontology/NaturalElement            0.362229   \n",
       "\n",
       "   consequent support   support  confidence      lift  leverage  conviction  \n",
       "0             0.79257  0.343653    0.965217  1.217833  0.061469    5.963622  \n",
       "1             0.79257  0.535604    0.852217  1.075258  0.037487    1.403612  \n",
       "2             0.79257  0.486068    1.000000  1.261719  0.100825         inf  \n",
       "3             0.79257  0.489164    0.963415  1.215558  0.086745    5.669763  \n",
       "4             0.79257  0.368421    1.000000  1.261719  0.076422         inf  \n",
       "5             0.79257  0.368421    0.975410  1.230693  0.069060    8.435501  \n",
       "6             0.79257  0.362229    1.000000  1.261719  0.075137         inf  "
      ]
     },
     "execution_count": 20,
     "metadata": {},
     "output_type": "execute_result"
    }
   ],
   "source": [
    "from mlxtend.frequent_patterns import association_rules\n",
    "rules = association_rules(frequent_itemsets, metric=\"confidence\", min_threshold=0.8)\n",
    "rules.antecedents = rules.antecedents.apply(lambda x: next(iter(x)))\n",
    "rules.consequents = rules.consequents.apply(lambda x: next(iter(x)))\n",
    "rules"
   ]
  },
  {
   "cell_type": "code",
   "execution_count": 21,
   "id": "3b7da704",
   "metadata": {},
   "outputs": [
    {
     "data": {
      "image/png": "[encoded data removed]",
      "text/plain": [
       "<Figure size 720x288 with 1 Axes>"
      ]
     },
     "metadata": {},
     "output_type": "display_data"
    }
   ],
   "source": [
    "import matplotlib.pyplot as plt\n",
    "import networkx as nx\n",
    "fig, ax=plt.subplots(figsize=(10,4))\n",
    "GA=nx.from_pandas_edgelist(rules,source='antecedents',target='consequents')\n",
    "nx.draw(GA,with_labels=True)\n",
    "plt.show()"
   ]
  },
  {
   "cell_type": "markdown",
   "id": "f9c87ff8",
   "metadata": {},
   "source": [
    "### 2.4.1 Same analysis, taking broader categories for level 2 subjects (e.g. character types, stories, allegories)"
   ]
  },
  {
   "cell_type": "code",
   "execution_count": 27,
   "id": "1daa4506",
   "metadata": {},
   "outputs": [],
   "source": [
    "cf_art_set = set()\n",
    "for l in cf_art_list: \n",
    "    cf_art_set.add(l[0])\n",
    "#cf_art_set"
   ]
  },
  {
   "cell_type": "code",
   "execution_count": 28,
   "id": "b1de0392",
   "metadata": {},
   "outputs": [
    {
     "name": "stdout",
     "output_type": "stream",
     "text": [
      "(rdflib.term.URIRef('http://icondataset.org/ART1352'), rdflib.term.URIRef('http://icondataset.org/saint-paul'), rdflib.term.Literal('human'))\n",
      "(rdflib.term.URIRef('http://icondataset.org/ART1352'), rdflib.term.URIRef('http://icondataset.org/moses'), rdflib.term.Literal('human biblical figure'))\n",
      "(rdflib.term.URIRef('http://icondataset.org/ART1352'), rdflib.term.URIRef('http://icondataset.org/pope-julius-ii'), rdflib.term.Literal('human'))\n",
      "(rdflib.term.URIRef('http://icondataset.org/ART1055'), rdflib.term.URIRef('http://icondataset.org/polyxena'), rdflib.term.Literal('mythological Greek character'))\n",
      "(rdflib.term.URIRef('http://icondataset.org/ART1379'), rdflib.term.URIRef('http://icondataset.org/tityus'), rdflib.term.Literal('mythological Greek character'))\n",
      "(rdflib.term.URIRef('http://icondataset.org/ART1160'), rdflib.term.URIRef('http://icondataset.org/mary'), rdflib.term.Literal('human biblical figure'))\n",
      "(rdflib.term.URIRef('http://icondataset.org/ART1160'), rdflib.term.URIRef('http://icondataset.org/saint-anne'), rdflib.term.Literal('human biblical figure'))\n",
      "(rdflib.term.URIRef('http://icondataset.org/ART1137'), rdflib.term.URIRef('http://icondataset.org/mithras'), rdflib.term.Literal('Roman deity'))\n",
      "(rdflib.term.URIRef('http://icondataset.org/ART1137'), rdflib.term.URIRef('http://icondataset.org/mithras'), rdflib.term.Literal('deity'))\n",
      "(rdflib.term.URIRef('http://icondataset.org/ART1137'), rdflib.term.URIRef('http://icondataset.org/mithras'), rdflib.term.Literal('roman deity'))\n",
      "(rdflib.term.URIRef('http://icondataset.org/ART1115'), rdflib.term.URIRef('http://icondataset.org/prometheus'), rdflib.term.Literal('deity'))\n",
      "(rdflib.term.URIRef('http://icondataset.org/ART1115'), rdflib.term.URIRef('http://icondataset.org/prometheus'), rdflib.term.Literal('Greek deity'))\n",
      "(rdflib.term.URIRef('http://icondataset.org/ART1197'), rdflib.term.URIRef('http://icondataset.org/bacchus'), rdflib.term.Literal('Roman deity'))\n",
      "(rdflib.term.URIRef('http://icondataset.org/ART1197'), rdflib.term.URIRef('http://icondataset.org/satyr'), rdflib.term.Literal(''))\n",
      "(rdflib.term.URIRef('http://icondataset.org/ART1197'), rdflib.term.URIRef('http://icondataset.org/satyr'), rdflib.term.Literal('mythical people'))\n",
      "(rdflib.term.URIRef('http://icondataset.org/ART1197'), rdflib.term.URIRef('http://icondataset.org/ariadne'), rdflib.term.Literal('mythological Greek character'))\n",
      "(rdflib.term.URIRef('http://icondataset.org/ART1197'), rdflib.term.URIRef('http://icondataset.org/bacchus'), rdflib.term.Literal('deity'))\n",
      "(rdflib.term.URIRef('http://icondataset.org/ART1197'), rdflib.term.URIRef('http://icondataset.org/bacchus'), rdflib.term.Literal('roman deity'))\n",
      "(rdflib.term.URIRef('http://icondataset.org/ART1197'), rdflib.term.URIRef('http://icondataset.org/silenus'), rdflib.term.Literal('mythological Greek character'))\n",
      "(rdflib.term.URIRef('http://icondataset.org/ART1383'), rdflib.term.URIRef('http://icondataset.org/phaeton'), rdflib.term.Literal('mythological Greek character'))\n",
      "(rdflib.term.URIRef('http://icondataset.org/ART1383'), rdflib.term.URIRef('http://icondataset.org/jupiter'), rdflib.term.Literal('Roman deity'))\n",
      "(rdflib.term.URIRef('http://icondataset.org/ART1383'), rdflib.term.URIRef('http://icondataset.org/jupiter'), rdflib.term.Literal('deity'))\n",
      "(rdflib.term.URIRef('http://icondataset.org/ART1383'), rdflib.term.URIRef('http://icondataset.org/jupiter'), rdflib.term.Literal('roman deity'))\n",
      "(rdflib.term.URIRef('http://icondataset.org/ART1317'), rdflib.term.URIRef('http://icondataset.org/devil'), rdflib.term.Literal('biblical character'))\n",
      "(rdflib.term.URIRef('http://icondataset.org/ART1317'), rdflib.term.URIRef('http://icondataset.org/devil'), rdflib.term.Literal('mythical character'))\n",
      "(rdflib.term.URIRef('http://icondataset.org/ART1021'), rdflib.term.URIRef('http://icondataset.org/argus'), rdflib.term.Literal('mythological Greek character'))\n",
      "(rdflib.term.URIRef('http://icondataset.org/ART1122'), rdflib.term.URIRef('http://icondataset.org/cupid'), rdflib.term.Literal('Roman deity'))\n",
      "(rdflib.term.URIRef('http://icondataset.org/ART1122'), rdflib.term.URIRef('http://icondataset.org/cupid'), rdflib.term.Literal('mythical creature'))\n",
      "(rdflib.term.URIRef('http://icondataset.org/ART1122'), rdflib.term.URIRef('http://icondataset.org/cupid'), rdflib.term.Literal('deity'))\n",
      "(rdflib.term.URIRef('http://icondataset.org/ART1122'), rdflib.term.URIRef('http://icondataset.org/cupid'), rdflib.term.Literal('roman deity'))\n",
      "(rdflib.term.URIRef('http://icondataset.org/ART1312'), rdflib.term.URIRef('http://icondataset.org/cupid'), rdflib.term.Literal('Roman deity'))\n",
      "(rdflib.term.URIRef('http://icondataset.org/ART1312'), rdflib.term.URIRef('http://icondataset.org/cupid'), rdflib.term.Literal('mythical creature'))\n",
      "(rdflib.term.URIRef('http://icondataset.org/ART1312'), rdflib.term.URIRef('http://icondataset.org/cupid'), rdflib.term.Literal('deity'))\n",
      "(rdflib.term.URIRef('http://icondataset.org/ART1312'), rdflib.term.URIRef('http://icondataset.org/cupid'), rdflib.term.Literal('roman deity'))\n",
      "(rdflib.term.URIRef('http://icondataset.org/ART1291'), rdflib.term.URIRef('http://icondataset.org/cupid'), rdflib.term.Literal('Roman deity'))\n",
      "(rdflib.term.URIRef('http://icondataset.org/ART1291'), rdflib.term.URIRef('http://icondataset.org/cupid'), rdflib.term.Literal('mythical creature'))\n",
      "(rdflib.term.URIRef('http://icondataset.org/ART1291'), rdflib.term.URIRef('http://icondataset.org/cupid'), rdflib.term.Literal('deity'))\n",
      "(rdflib.term.URIRef('http://icondataset.org/ART1291'), rdflib.term.URIRef('http://icondataset.org/cupid'), rdflib.term.Literal('roman deity'))\n",
      "(rdflib.term.URIRef('http://icondataset.org/ART1002'), rdflib.term.URIRef('http://icondataset.org/orpheus'), rdflib.term.Literal('mythological Greek character'))\n",
      "(rdflib.term.URIRef('http://icondataset.org/ART1150'), rdflib.term.URIRef('http://icondataset.org/saint-john-the-evangelist'), rdflib.term.Literal('human biblical figure'))\n",
      "(rdflib.term.URIRef('http://icondataset.org/ART1150'), rdflib.term.URIRef('http://icondataset.org/saint-john-the-evangelist'), rdflib.term.Literal('human'))\n",
      "(rdflib.term.URIRef('http://icondataset.org/ART1236'), rdflib.term.URIRef('http://icondataset.org/saint-john-the-evangelist'), rdflib.term.Literal('human biblical figure'))\n",
      "(rdflib.term.URIRef('http://icondataset.org/ART1236'), rdflib.term.URIRef('http://icondataset.org/saint-john-the-evangelist'), rdflib.term.Literal('human'))\n",
      "(rdflib.term.URIRef('http://icondataset.org/ART1009test'), rdflib.term.URIRef('http://icondataset.org/archangel-gabriel'), rdflib.term.Literal('biblical character'))\n",
      "(rdflib.term.URIRef('http://icondataset.org/ART1009test'), rdflib.term.URIRef('http://icondataset.org/mary'), rdflib.term.Literal('human biblical figure'))\n",
      "(rdflib.term.URIRef('http://icondataset.org/ART1205'), rdflib.term.URIRef('http://icondataset.org/erato'), rdflib.term.Literal('Greek deity'))\n",
      "(rdflib.term.URIRef('http://icondataset.org/ART1205'), rdflib.term.URIRef('http://icondataset.org/erato'), rdflib.term.Literal('Muses'))\n",
      "(rdflib.term.URIRef('http://icondataset.org/ART1205'), rdflib.term.URIRef('http://icondataset.org/erato'), rdflib.term.Literal('deity'))\n",
      "(rdflib.term.URIRef('http://icondataset.org/ART1130'), rdflib.term.URIRef('http://icondataset.org/cupid'), rdflib.term.Literal('roman deity'))\n",
      "(rdflib.term.URIRef('http://icondataset.org/ART1130'), rdflib.term.URIRef('http://icondataset.org/cupid'), rdflib.term.Literal('deity'))\n",
      "(rdflib.term.URIRef('http://icondataset.org/ART1130'), rdflib.term.URIRef('http://icondataset.org/cupid'), rdflib.term.Literal('mythical creature'))\n",
      "(rdflib.term.URIRef('http://icondataset.org/ART1130'), rdflib.term.URIRef('http://icondataset.org/cupid'), rdflib.term.Literal('Roman deity'))\n",
      "(rdflib.term.URIRef('http://icondataset.org/ART1382'), rdflib.term.URIRef('http://icondataset.org/jupiter'), rdflib.term.Literal('Roman deity'))\n",
      "(rdflib.term.URIRef('http://icondataset.org/ART1382'), rdflib.term.URIRef('http://icondataset.org/jupiter'), rdflib.term.Literal('roman deity'))\n",
      "(rdflib.term.URIRef('http://icondataset.org/ART1382'), rdflib.term.URIRef('http://icondataset.org/phaeton'), rdflib.term.Literal('mythological Greek character'))\n",
      "(rdflib.term.URIRef('http://icondataset.org/ART1382'), rdflib.term.URIRef('http://icondataset.org/jupiter'), rdflib.term.Literal('deity'))\n",
      "(rdflib.term.URIRef('http://icondataset.org/ART1078'), rdflib.term.URIRef('http://icondataset.org/saint-mark'), rdflib.term.Literal('human'))\n",
      "(rdflib.term.URIRef('http://icondataset.org/ART1240'), rdflib.term.URIRef('http://icondataset.org/aeneas'), rdflib.term.Literal('mythological Greek character'))\n",
      "(rdflib.term.URIRef('http://icondataset.org/ART1240'), rdflib.term.URIRef('http://icondataset.org/aeneas'), rdflib.term.Literal('fictional human'))\n",
      "(rdflib.term.URIRef('http://icondataset.org/ART1240'), rdflib.term.URIRef('http://icondataset.org/dido'), rdflib.term.Literal('mythological Greek character'))\n",
      "(rdflib.term.URIRef('http://icondataset.org/ART1196'), rdflib.term.URIRef('http://icondataset.org/vulcan'), rdflib.term.Literal('deity'))\n",
      "(rdflib.term.URIRef('http://icondataset.org/ART1196'), rdflib.term.URIRef('http://icondataset.org/vulcan'), rdflib.term.Literal('roman deity'))\n",
      "(rdflib.term.URIRef('http://icondataset.org/ART1196'), rdflib.term.URIRef('http://icondataset.org/aeolus'), rdflib.term.Literal('Greek deity'))\n",
      "(rdflib.term.URIRef('http://icondataset.org/ART1196'), rdflib.term.URIRef('http://icondataset.org/vulcan'), rdflib.term.Literal('Roman deity'))\n",
      "(rdflib.term.URIRef('http://icondataset.org/ART1212'), rdflib.term.URIRef('http://icondataset.org/saturn'), rdflib.term.Literal('roman deity'))\n",
      "(rdflib.term.URIRef('http://icondataset.org/ART1212'), rdflib.term.URIRef('http://icondataset.org/saturn'), rdflib.term.Literal('deity'))\n",
      "(rdflib.term.URIRef('http://icondataset.org/ART1212'), rdflib.term.URIRef('http://icondataset.org/saturn'), rdflib.term.Literal('Roman deity'))\n",
      "(rdflib.term.URIRef('http://icondataset.org/ART1193'), rdflib.term.URIRef('http://icondataset.org/helen'), rdflib.term.Literal('mythological Greek character'))\n",
      "(rdflib.term.URIRef('http://icondataset.org/ART1193'), rdflib.term.URIRef('http://icondataset.org/paris'), rdflib.term.Literal('mythological Greek character'))\n",
      "(rdflib.term.URIRef('http://icondataset.org/ART1127'), rdflib.term.URIRef('http://icondataset.org/satyr'), rdflib.term.Literal('mythical people'))\n",
      "(rdflib.term.URIRef('http://icondataset.org/ART1127'), rdflib.term.URIRef('http://icondataset.org/satyr'), rdflib.term.Literal(''))\n",
      "(rdflib.term.URIRef('http://icondataset.org/ART1264'), rdflib.term.URIRef('http://icondataset.org/christ'), rdflib.term.Literal('human'))\n",
      "(rdflib.term.URIRef('http://icondataset.org/ART1264'), rdflib.term.URIRef('http://icondataset.org/christ'), rdflib.term.Literal('deity'))\n",
      "(rdflib.term.URIRef('http://icondataset.org/ART1264'), rdflib.term.URIRef('http://icondataset.org/christ'), rdflib.term.Literal('human biblical figure'))\n",
      "(rdflib.term.URIRef('http://icondataset.org/ART1261'), rdflib.term.URIRef('http://icondataset.org/saturn'), rdflib.term.Literal('Roman deity'))\n"
     ]
    },
    {
     "name": "stdout",
     "output_type": "stream",
     "text": [
      "(rdflib.term.URIRef('http://icondataset.org/ART1261'), rdflib.term.URIRef('http://icondataset.org/saturn'), rdflib.term.Literal('roman deity'))\n",
      "(rdflib.term.URIRef('http://icondataset.org/ART1261'), rdflib.term.URIRef('http://icondataset.org/saturn'), rdflib.term.Literal('deity'))\n",
      "(rdflib.term.URIRef('http://icondataset.org/ART1043'), rdflib.term.URIRef('http://icondataset.org/apollo'), rdflib.term.Literal('Greek deity'))\n",
      "(rdflib.term.URIRef('http://icondataset.org/ART1043'), rdflib.term.URIRef('http://icondataset.org/the-three-graces'), rdflib.term.Literal('mythical entity'))\n",
      "(rdflib.term.URIRef('http://icondataset.org/ART1043'), rdflib.term.URIRef('http://icondataset.org/the-three-graces'), rdflib.term.Literal('group of Greek mythical characters'))\n",
      "(rdflib.term.URIRef('http://icondataset.org/ART1043'), rdflib.term.URIRef('http://icondataset.org/jupiter'), rdflib.term.Literal('Roman deity'))\n",
      "(rdflib.term.URIRef('http://icondataset.org/ART1043'), rdflib.term.URIRef('http://icondataset.org/saturn'), rdflib.term.Literal('Roman deity'))\n",
      "(rdflib.term.URIRef('http://icondataset.org/ART1043'), rdflib.term.URIRef('http://icondataset.org/saturn'), rdflib.term.Literal('deity'))\n",
      "(rdflib.term.URIRef('http://icondataset.org/ART1043'), rdflib.term.URIRef('http://icondataset.org/jupiter'), rdflib.term.Literal('deity'))\n",
      "(rdflib.term.URIRef('http://icondataset.org/ART1043'), rdflib.term.URIRef('http://icondataset.org/saturn'), rdflib.term.Literal('roman deity'))\n",
      "(rdflib.term.URIRef('http://icondataset.org/ART1043'), rdflib.term.URIRef('http://icondataset.org/jupiter'), rdflib.term.Literal('roman deity'))\n",
      "(rdflib.term.URIRef('http://icondataset.org/ART1043'), rdflib.term.URIRef('http://icondataset.org/apollo'), rdflib.term.Literal('deity'))\n",
      "(rdflib.term.URIRef('http://icondataset.org/ART1375'), rdflib.term.URIRef('http://icondataset.org/giuliano-de-medici'), rdflib.term.Literal('human'))\n",
      "(rdflib.term.URIRef('http://icondataset.org/ART1270'), rdflib.term.URIRef('http://icondataset.org/saturn'), rdflib.term.Literal('deity'))\n",
      "(rdflib.term.URIRef('http://icondataset.org/ART1270'), rdflib.term.URIRef('http://icondataset.org/saturn'), rdflib.term.Literal('roman deity'))\n",
      "(rdflib.term.URIRef('http://icondataset.org/ART1270'), rdflib.term.URIRef('http://icondataset.org/saturn'), rdflib.term.Literal('Roman deity'))\n",
      "(rdflib.term.URIRef('http://icondataset.org/ART1044'), rdflib.term.URIRef('http://icondataset.org/the-three-graces'), rdflib.term.Literal('mythical entity'))\n",
      "(rdflib.term.URIRef('http://icondataset.org/ART1044'), rdflib.term.URIRef('http://icondataset.org/the-three-graces'), rdflib.term.Literal('group of Greek mythical characters'))\n",
      "(rdflib.term.URIRef('http://icondataset.org/ART1531'), rdflib.term.URIRef('http://icondataset.org/vulcan'), rdflib.term.Literal('Roman deity'))\n",
      "(rdflib.term.URIRef('http://icondataset.org/ART1531'), rdflib.term.URIRef('http://icondataset.org/vulcan'), rdflib.term.Literal('deity'))\n",
      "(rdflib.term.URIRef('http://icondataset.org/ART1531'), rdflib.term.URIRef('http://icondataset.org/vulcan'), rdflib.term.Literal('roman deity'))\n",
      "(rdflib.term.URIRef('http://icondataset.org/ART1162'), rdflib.term.URIRef('http://icondataset.org/christ'), rdflib.term.Literal('human'))\n",
      "(rdflib.term.URIRef('http://icondataset.org/ART1162'), rdflib.term.URIRef('http://icondataset.org/apostles'), rdflib.term.Literal('biblical character'))\n",
      "(rdflib.term.URIRef('http://icondataset.org/ART1162'), rdflib.term.URIRef('http://icondataset.org/christ'), rdflib.term.Literal('human biblical figure'))\n",
      "(rdflib.term.URIRef('http://icondataset.org/ART1162'), rdflib.term.URIRef('http://icondataset.org/christ'), rdflib.term.Literal('deity'))\n",
      "(rdflib.term.URIRef('http://icondataset.org/ART1200'), rdflib.term.URIRef('http://icondataset.org/cupid'), rdflib.term.Literal('mythical creature'))\n",
      "(rdflib.term.URIRef('http://icondataset.org/ART1200'), rdflib.term.URIRef('http://icondataset.org/cupid'), rdflib.term.Literal('Roman deity'))\n",
      "(rdflib.term.URIRef('http://icondataset.org/ART1200'), rdflib.term.URIRef('http://icondataset.org/cupid'), rdflib.term.Literal('roman deity'))\n",
      "(rdflib.term.URIRef('http://icondataset.org/ART1200'), rdflib.term.URIRef('http://icondataset.org/cupid'), rdflib.term.Literal('deity'))\n",
      "(rdflib.term.URIRef('http://icondataset.org/ART1030'), rdflib.term.URIRef('http://icondataset.org/jupiter'), rdflib.term.Literal('Roman deity'))\n",
      "(rdflib.term.URIRef('http://icondataset.org/ART1030'), rdflib.term.URIRef('http://icondataset.org/saturn'), rdflib.term.Literal('Roman deity'))\n",
      "(rdflib.term.URIRef('http://icondataset.org/ART1030'), rdflib.term.URIRef('http://icondataset.org/saturn'), rdflib.term.Literal('roman deity'))\n",
      "(rdflib.term.URIRef('http://icondataset.org/ART1030'), rdflib.term.URIRef('http://icondataset.org/jupiter'), rdflib.term.Literal('deity'))\n",
      "(rdflib.term.URIRef('http://icondataset.org/ART1030'), rdflib.term.URIRef('http://icondataset.org/jupiter'), rdflib.term.Literal('roman deity'))\n",
      "(rdflib.term.URIRef('http://icondataset.org/ART1030'), rdflib.term.URIRef('http://icondataset.org/saturn'), rdflib.term.Literal('deity'))\n",
      "(rdflib.term.URIRef('http://icondataset.org/ART1124'), rdflib.term.URIRef('http://icondataset.org/ixion'), rdflib.term.Literal('mythological Greek character'))\n",
      "(rdflib.term.URIRef('http://icondataset.org/ART1124'), rdflib.term.URIRef('http://icondataset.org/sisyphus'), rdflib.term.Literal('mythological Greek character'))\n",
      "(rdflib.term.URIRef('http://icondataset.org/ART1124'), rdflib.term.URIRef('http://icondataset.org/tantalus'), rdflib.term.Literal('mythological Greek character'))\n",
      "(rdflib.term.URIRef('http://icondataset.org/ART1338'), rdflib.term.URIRef('http://icondataset.org/cupid'), rdflib.term.Literal('Roman deity'))\n",
      "(rdflib.term.URIRef('http://icondataset.org/ART1338'), rdflib.term.URIRef('http://icondataset.org/cupid'), rdflib.term.Literal('mythical creature'))\n",
      "(rdflib.term.URIRef('http://icondataset.org/ART1338'), rdflib.term.URIRef('http://icondataset.org/cupid'), rdflib.term.Literal('deity'))\n",
      "(rdflib.term.URIRef('http://icondataset.org/ART1338'), rdflib.term.URIRef('http://icondataset.org/cupid'), rdflib.term.Literal('roman deity'))\n",
      "(rdflib.term.URIRef('http://icondataset.org/ART1263'), rdflib.term.URIRef('http://icondataset.org/saturn'), rdflib.term.Literal('Roman deity'))\n",
      "(rdflib.term.URIRef('http://icondataset.org/ART1263'), rdflib.term.URIRef('http://icondataset.org/rhea'), rdflib.term.Literal('Greek deity'))\n",
      "(rdflib.term.URIRef('http://icondataset.org/ART1263'), rdflib.term.URIRef('http://icondataset.org/rhea'), rdflib.term.Literal('goddess'))\n",
      "(rdflib.term.URIRef('http://icondataset.org/ART1263'), rdflib.term.URIRef('http://icondataset.org/rhea'), rdflib.term.Literal('deity'))\n",
      "(rdflib.term.URIRef('http://icondataset.org/ART1263'), rdflib.term.URIRef('http://icondataset.org/saturn'), rdflib.term.Literal('deity'))\n",
      "(rdflib.term.URIRef('http://icondataset.org/ART1263'), rdflib.term.URIRef('http://icondataset.org/saturn'), rdflib.term.Literal('roman deity'))\n",
      "(rdflib.term.URIRef('http://icondataset.org/ART1266'), rdflib.term.URIRef('http://icondataset.org/saturn'), rdflib.term.Literal('deity'))\n",
      "(rdflib.term.URIRef('http://icondataset.org/ART1266'), rdflib.term.URIRef('http://icondataset.org/saturn'), rdflib.term.Literal('roman deity'))\n",
      "(rdflib.term.URIRef('http://icondataset.org/ART1266'), rdflib.term.URIRef('http://icondataset.org/saturn'), rdflib.term.Literal('Roman deity'))\n",
      "(rdflib.term.URIRef('http://icondataset.org/ART1269'), rdflib.term.URIRef('http://icondataset.org/saturn'), rdflib.term.Literal('roman deity'))\n",
      "(rdflib.term.URIRef('http://icondataset.org/ART1269'), rdflib.term.URIRef('http://icondataset.org/saturn'), rdflib.term.Literal('deity'))\n",
      "(rdflib.term.URIRef('http://icondataset.org/ART1269'), rdflib.term.URIRef('http://icondataset.org/saturn'), rdflib.term.Literal('Roman deity'))\n",
      "(rdflib.term.URIRef('http://icondataset.org/ART1265'), rdflib.term.URIRef('http://icondataset.org/saturn'), rdflib.term.Literal('Roman deity'))\n",
      "(rdflib.term.URIRef('http://icondataset.org/ART1265'), rdflib.term.URIRef('http://icondataset.org/saturn'), rdflib.term.Literal('roman deity'))\n",
      "(rdflib.term.URIRef('http://icondataset.org/ART1265'), rdflib.term.URIRef('http://icondataset.org/saturn'), rdflib.term.Literal('deity'))\n",
      "(rdflib.term.URIRef('http://icondataset.org/ART1329'), rdflib.term.URIRef('http://icondataset.org/cupid'), rdflib.term.Literal('deity'))\n",
      "(rdflib.term.URIRef('http://icondataset.org/ART1329'), rdflib.term.URIRef('http://icondataset.org/cupid'), rdflib.term.Literal('roman deity'))\n",
      "(rdflib.term.URIRef('http://icondataset.org/ART1329'), rdflib.term.URIRef('http://icondataset.org/cupid'), rdflib.term.Literal('Roman deity'))\n",
      "(rdflib.term.URIRef('http://icondataset.org/ART1329'), rdflib.term.URIRef('http://icondataset.org/cupid'), rdflib.term.Literal('mythical creature'))\n",
      "(rdflib.term.URIRef('http://icondataset.org/ART1187'), rdflib.term.URIRef('http://icondataset.org/christ'), rdflib.term.Literal('human'))\n",
      "(rdflib.term.URIRef('http://icondataset.org/ART1187'), rdflib.term.URIRef('http://icondataset.org/christ'), rdflib.term.Literal('deity'))\n",
      "(rdflib.term.URIRef('http://icondataset.org/ART1187'), rdflib.term.URIRef('http://icondataset.org/mary'), rdflib.term.Literal('human biblical figure'))\n",
      "(rdflib.term.URIRef('http://icondataset.org/ART1187'), rdflib.term.URIRef('http://icondataset.org/christ'), rdflib.term.Literal('human biblical figure'))\n",
      "(rdflib.term.URIRef('http://icondataset.org/ART1525'), rdflib.term.URIRef('http://icondataset.org/pluto'), rdflib.term.Literal('roman deity'))\n",
      "(rdflib.term.URIRef('http://icondataset.org/ART1525'), rdflib.term.URIRef('http://icondataset.org/pluto'), rdflib.term.Literal('deity'))\n",
      "(rdflib.term.URIRef('http://icondataset.org/ART1525'), rdflib.term.URIRef('http://icondataset.org/jupiter'), rdflib.term.Literal('roman deity'))\n",
      "(rdflib.term.URIRef('http://icondataset.org/ART1525'), rdflib.term.URIRef('http://icondataset.org/bacchus'), rdflib.term.Literal('deity'))\n",
      "(rdflib.term.URIRef('http://icondataset.org/ART1525'), rdflib.term.URIRef('http://icondataset.org/apollo'), rdflib.term.Literal('deity'))\n",
      "(rdflib.term.URIRef('http://icondataset.org/ART1525'), rdflib.term.URIRef('http://icondataset.org/bacchus'), rdflib.term.Literal('roman deity'))\n",
      "(rdflib.term.URIRef('http://icondataset.org/ART1525'), rdflib.term.URIRef('http://icondataset.org/jupiter'), rdflib.term.Literal('deity'))\n",
      "(rdflib.term.URIRef('http://icondataset.org/ART1525'), rdflib.term.URIRef('http://icondataset.org/bacchus'), rdflib.term.Literal('Roman deity'))\n",
      "(rdflib.term.URIRef('http://icondataset.org/ART1525'), rdflib.term.URIRef('http://icondataset.org/apollo'), rdflib.term.Literal('Greek deity'))\n",
      "(rdflib.term.URIRef('http://icondataset.org/ART1525'), rdflib.term.URIRef('http://icondataset.org/jupiter'), rdflib.term.Literal('Roman deity'))\n",
      "(rdflib.term.URIRef('http://icondataset.org/ART1525'), rdflib.term.URIRef('http://icondataset.org/pluto'), rdflib.term.Literal('Roman deity'))\n",
      "(rdflib.term.URIRef('http://icondataset.org/ART1421'), rdflib.term.URIRef('http://icondataset.org/serapis'), rdflib.term.Literal('Ancient Egyptian deity'))\n",
      "(rdflib.term.URIRef('http://icondataset.org/ART1421'), rdflib.term.URIRef('http://icondataset.org/serapis'), rdflib.term.Literal('Greek deity'))\n",
      "(rdflib.term.URIRef('http://icondataset.org/ART1421'), rdflib.term.URIRef('http://icondataset.org/serapis'), rdflib.term.Literal('deity'))\n",
      "(rdflib.term.URIRef('http://icondataset.org/ART1254'), rdflib.term.URIRef('http://icondataset.org/prometheus'), rdflib.term.Literal('Greek deity'))\n",
      "(rdflib.term.URIRef('http://icondataset.org/ART1254'), rdflib.term.URIRef('http://icondataset.org/prometheus'), rdflib.term.Literal('deity'))\n",
      "(rdflib.term.URIRef('http://icondataset.org/ART1201'), rdflib.term.URIRef('http://icondataset.org/diana'), rdflib.term.Literal('roman deity'))\n",
      "(rdflib.term.URIRef('http://icondataset.org/ART1201'), rdflib.term.URIRef('http://icondataset.org/cupid'), rdflib.term.Literal('Roman deity'))\n",
      "(rdflib.term.URIRef('http://icondataset.org/ART1201'), rdflib.term.URIRef('http://icondataset.org/jupiter'), rdflib.term.Literal('roman deity'))\n",
      "(rdflib.term.URIRef('http://icondataset.org/ART1201'), rdflib.term.URIRef('http://icondataset.org/cupid'), rdflib.term.Literal('mythical creature'))\n",
      "(rdflib.term.URIRef('http://icondataset.org/ART1201'), rdflib.term.URIRef('http://icondataset.org/diana'), rdflib.term.Literal('deity'))\n",
      "(rdflib.term.URIRef('http://icondataset.org/ART1201'), rdflib.term.URIRef('http://icondataset.org/jupiter'), rdflib.term.Literal('deity'))\n",
      "(rdflib.term.URIRef('http://icondataset.org/ART1201'), rdflib.term.URIRef('http://icondataset.org/minerva'), rdflib.term.Literal('Roman deity'))\n",
      "(rdflib.term.URIRef('http://icondataset.org/ART1201'), rdflib.term.URIRef('http://icondataset.org/saturn'), rdflib.term.Literal('roman deity'))\n",
      "(rdflib.term.URIRef('http://icondataset.org/ART1201'), rdflib.term.URIRef('http://icondataset.org/vulcan'), rdflib.term.Literal('deity'))\n",
      "(rdflib.term.URIRef('http://icondataset.org/ART1201'), rdflib.term.URIRef('http://icondataset.org/saturn'), rdflib.term.Literal('deity'))\n",
      "(rdflib.term.URIRef('http://icondataset.org/ART1201'), rdflib.term.URIRef('http://icondataset.org/vulcan'), rdflib.term.Literal('roman deity'))\n",
      "(rdflib.term.URIRef('http://icondataset.org/ART1201'), rdflib.term.URIRef('http://icondataset.org/minerva'), rdflib.term.Literal('goddess'))\n",
      "(rdflib.term.URIRef('http://icondataset.org/ART1201'), rdflib.term.URIRef('http://icondataset.org/apollo'), rdflib.term.Literal('Greek deity'))\n",
      "(rdflib.term.URIRef('http://icondataset.org/ART1201'), rdflib.term.URIRef('http://icondataset.org/minerva'), rdflib.term.Literal('deity'))\n",
      "(rdflib.term.URIRef('http://icondataset.org/ART1201'), rdflib.term.URIRef('http://icondataset.org/vulcan'), rdflib.term.Literal('Roman deity'))\n",
      "(rdflib.term.URIRef('http://icondataset.org/ART1201'), rdflib.term.URIRef('http://icondataset.org/minerva'), rdflib.term.Literal('roman deity'))\n",
      "(rdflib.term.URIRef('http://icondataset.org/ART1201'), rdflib.term.URIRef('http://icondataset.org/apollo'), rdflib.term.Literal('deity'))\n",
      "(rdflib.term.URIRef('http://icondataset.org/ART1201'), rdflib.term.URIRef('http://icondataset.org/saturn'), rdflib.term.Literal('Roman deity'))\n",
      "(rdflib.term.URIRef('http://icondataset.org/ART1201'), rdflib.term.URIRef('http://icondataset.org/cupid'), rdflib.term.Literal('deity'))\n",
      "(rdflib.term.URIRef('http://icondataset.org/ART1201'), rdflib.term.URIRef('http://icondataset.org/cupid'), rdflib.term.Literal('roman deity'))\n",
      "(rdflib.term.URIRef('http://icondataset.org/ART1201'), rdflib.term.URIRef('http://icondataset.org/diana'), rdflib.term.Literal('Roman deity'))\n",
      "(rdflib.term.URIRef('http://icondataset.org/ART1201'), rdflib.term.URIRef('http://icondataset.org/jupiter'), rdflib.term.Literal('Roman deity'))\n",
      "(rdflib.term.URIRef('http://icondataset.org/ART1289'), rdflib.term.URIRef('http://icondataset.org/saturn'), rdflib.term.Literal('Roman deity'))\n",
      "(rdflib.term.URIRef('http://icondataset.org/ART1289'), rdflib.term.URIRef('http://icondataset.org/saturn'), rdflib.term.Literal('deity'))\n",
      "(rdflib.term.URIRef('http://icondataset.org/ART1289'), rdflib.term.URIRef('http://icondataset.org/saturn'), rdflib.term.Literal('roman deity'))\n",
      "(rdflib.term.URIRef('http://icondataset.org/ART1054'), rdflib.term.URIRef('http://icondataset.org/hecuba'), rdflib.term.Literal('mythological Greek character'))\n",
      "(rdflib.term.URIRef('http://icondataset.org/ART1054'), rdflib.term.URIRef('http://icondataset.org/troilus'), rdflib.term.Literal('mythological Greek character'))\n",
      "(rdflib.term.URIRef('http://icondataset.org/ART1384'), rdflib.term.URIRef('http://icondataset.org/jupiter'), rdflib.term.Literal('roman deity'))\n",
      "(rdflib.term.URIRef('http://icondataset.org/ART1384'), rdflib.term.URIRef('http://icondataset.org/jupiter'), rdflib.term.Literal('deity'))\n",
      "(rdflib.term.URIRef('http://icondataset.org/ART1384'), rdflib.term.URIRef('http://icondataset.org/phaeton'), rdflib.term.Literal('mythological Greek character'))\n",
      "(rdflib.term.URIRef('http://icondataset.org/ART1384'), rdflib.term.URIRef('http://icondataset.org/jupiter'), rdflib.term.Literal('Roman deity'))\n",
      "(rdflib.term.URIRef('http://icondataset.org/ART1318'), rdflib.term.URIRef('http://icondataset.org/anteros'), rdflib.term.Literal('Greek deity'))\n",
      "(rdflib.term.URIRef('http://icondataset.org/ART1318'), rdflib.term.URIRef('http://icondataset.org/cupid'), rdflib.term.Literal('mythical creature'))\n",
      "(rdflib.term.URIRef('http://icondataset.org/ART1318'), rdflib.term.URIRef('http://icondataset.org/cupid'), rdflib.term.Literal('Roman deity'))\n",
      "(rdflib.term.URIRef('http://icondataset.org/ART1318'), rdflib.term.URIRef('http://icondataset.org/cupid'), rdflib.term.Literal('roman deity'))\n",
      "(rdflib.term.URIRef('http://icondataset.org/ART1318'), rdflib.term.URIRef('http://icondataset.org/cupid'), rdflib.term.Literal('deity'))\n",
      "(rdflib.term.URIRef('http://icondataset.org/ART1113'), rdflib.term.URIRef('http://icondataset.org/simeon'), rdflib.term.Literal('human'))\n",
      "(rdflib.term.URIRef('http://icondataset.org/ART1113'), rdflib.term.URIRef('http://icondataset.org/simeon'), rdflib.term.Literal('human biblical figure'))\n",
      "(rdflib.term.URIRef('http://icondataset.org/ART1292'), rdflib.term.URIRef('http://icondataset.org/cupid'), rdflib.term.Literal('deity'))\n",
      "(rdflib.term.URIRef('http://icondataset.org/ART1292'), rdflib.term.URIRef('http://icondataset.org/cupid'), rdflib.term.Literal('roman deity'))\n",
      "(rdflib.term.URIRef('http://icondataset.org/ART1292'), rdflib.term.URIRef('http://icondataset.org/cupid'), rdflib.term.Literal('Roman deity'))\n",
      "(rdflib.term.URIRef('http://icondataset.org/ART1292'), rdflib.term.URIRef('http://icondataset.org/cupid'), rdflib.term.Literal('mythical creature'))\n",
      "(rdflib.term.URIRef('http://icondataset.org/ART1046'), rdflib.term.URIRef('http://icondataset.org/argus'), rdflib.term.Literal('mythological Greek character'))\n",
      "(rdflib.term.URIRef('http://icondataset.org/ART1132'), rdflib.term.URIRef('http://icondataset.org/cupid'), rdflib.term.Literal('deity'))\n",
      "(rdflib.term.URIRef('http://icondataset.org/ART1132'), rdflib.term.URIRef('http://icondataset.org/cupid'), rdflib.term.Literal('Roman deity'))\n",
      "(rdflib.term.URIRef('http://icondataset.org/ART1132'), rdflib.term.URIRef('http://icondataset.org/cupid'), rdflib.term.Literal('mythical creature'))\n",
      "(rdflib.term.URIRef('http://icondataset.org/ART1132'), rdflib.term.URIRef('http://icondataset.org/cupid'), rdflib.term.Literal('roman deity'))\n",
      "(rdflib.term.URIRef('http://icondataset.org/ART1339'), rdflib.term.URIRef('http://icondataset.org/cupid'), rdflib.term.Literal('Roman deity'))\n",
      "(rdflib.term.URIRef('http://icondataset.org/ART1339'), rdflib.term.URIRef('http://icondataset.org/cupid'), rdflib.term.Literal('mythical creature'))\n",
      "(rdflib.term.URIRef('http://icondataset.org/ART1339'), rdflib.term.URIRef('http://icondataset.org/cupid'), rdflib.term.Literal('deity'))\n",
      "(rdflib.term.URIRef('http://icondataset.org/ART1339'), rdflib.term.URIRef('http://icondataset.org/cupid'), rdflib.term.Literal('roman deity'))\n",
      "(rdflib.term.URIRef('http://icondataset.org/ART1324'), rdflib.term.URIRef('http://icondataset.org/cupid'), rdflib.term.Literal('mythical creature'))\n",
      "(rdflib.term.URIRef('http://icondataset.org/ART1324'), rdflib.term.URIRef('http://icondataset.org/cupid'), rdflib.term.Literal('Roman deity'))\n",
      "(rdflib.term.URIRef('http://icondataset.org/ART1324'), rdflib.term.URIRef('http://icondataset.org/anteros'), rdflib.term.Literal('Greek deity'))\n",
      "(rdflib.term.URIRef('http://icondataset.org/ART1324'), rdflib.term.URIRef('http://icondataset.org/cupid'), rdflib.term.Literal('roman deity'))\n",
      "(rdflib.term.URIRef('http://icondataset.org/ART1324'), rdflib.term.URIRef('http://icondataset.org/cupid'), rdflib.term.Literal('deity'))\n"
     ]
    },
    {
     "name": "stdout",
     "output_type": "stream",
     "text": [
      "(rdflib.term.URIRef('http://icondataset.org/ART1195'), rdflib.term.URIRef('http://icondataset.org/vulcan'), rdflib.term.Literal('Roman deity'))\n",
      "(rdflib.term.URIRef('http://icondataset.org/ART1195'), rdflib.term.URIRef('http://icondataset.org/vulcan'), rdflib.term.Literal('roman deity'))\n",
      "(rdflib.term.URIRef('http://icondataset.org/ART1195'), rdflib.term.URIRef('http://icondataset.org/vulcan'), rdflib.term.Literal('deity'))\n",
      "(rdflib.term.URIRef('http://icondataset.org/ART1195'), rdflib.term.URIRef('http://icondataset.org/hylas'), rdflib.term.Literal('mythological Greek character'))\n",
      "(rdflib.term.URIRef('http://icondataset.org/ART1316'), rdflib.term.URIRef('http://icondataset.org/cupid'), rdflib.term.Literal('roman deity'))\n",
      "(rdflib.term.URIRef('http://icondataset.org/ART1316'), rdflib.term.URIRef('http://icondataset.org/cupid'), rdflib.term.Literal('deity'))\n",
      "(rdflib.term.URIRef('http://icondataset.org/ART1316'), rdflib.term.URIRef('http://icondataset.org/aglauros'), rdflib.term.Literal('mythological Greek character'))\n",
      "(rdflib.term.URIRef('http://icondataset.org/ART1316'), rdflib.term.URIRef('http://icondataset.org/zeus'), rdflib.term.Literal('deity'))\n",
      "(rdflib.term.URIRef('http://icondataset.org/ART1316'), rdflib.term.URIRef('http://icondataset.org/zeus'), rdflib.term.Literal('Greek deity'))\n",
      "(rdflib.term.URIRef('http://icondataset.org/ART1316'), rdflib.term.URIRef('http://icondataset.org/cupid'), rdflib.term.Literal('mythical creature'))\n",
      "(rdflib.term.URIRef('http://icondataset.org/ART1316'), rdflib.term.URIRef('http://icondataset.org/satyr'), rdflib.term.Literal('mythical people'))\n",
      "(rdflib.term.URIRef('http://icondataset.org/ART1316'), rdflib.term.URIRef('http://icondataset.org/cupid'), rdflib.term.Literal('Roman deity'))\n",
      "(rdflib.term.URIRef('http://icondataset.org/ART1316'), rdflib.term.URIRef('http://icondataset.org/satyr'), rdflib.term.Literal(''))\n",
      "(rdflib.term.URIRef('http://icondataset.org/ART1416'), rdflib.term.URIRef('http://icondataset.org/apollo'), rdflib.term.Literal('Greek deity'))\n",
      "(rdflib.term.URIRef('http://icondataset.org/ART1416'), rdflib.term.URIRef('http://icondataset.org/apollo'), rdflib.term.Literal('deity'))\n",
      "(rdflib.term.URIRef('http://icondataset.org/ART1131'), rdflib.term.URIRef('http://icondataset.org/cupid'), rdflib.term.Literal('Roman deity'))\n",
      "(rdflib.term.URIRef('http://icondataset.org/ART1131'), rdflib.term.URIRef('http://icondataset.org/cupid'), rdflib.term.Literal('deity'))\n",
      "(rdflib.term.URIRef('http://icondataset.org/ART1131'), rdflib.term.URIRef('http://icondataset.org/cupid'), rdflib.term.Literal('mythical creature'))\n",
      "(rdflib.term.URIRef('http://icondataset.org/ART1131'), rdflib.term.URIRef('http://icondataset.org/cupid'), rdflib.term.Literal('roman deity'))\n",
      "(rdflib.term.URIRef('http://icondataset.org/ART1325'), rdflib.term.URIRef('http://icondataset.org/cupid'), rdflib.term.Literal('Roman deity'))\n",
      "(rdflib.term.URIRef('http://icondataset.org/ART1325'), rdflib.term.URIRef('http://icondataset.org/cupid'), rdflib.term.Literal('mythical creature'))\n",
      "(rdflib.term.URIRef('http://icondataset.org/ART1325'), rdflib.term.URIRef('http://icondataset.org/cupid'), rdflib.term.Literal('deity'))\n",
      "(rdflib.term.URIRef('http://icondataset.org/ART1325'), rdflib.term.URIRef('http://icondataset.org/cupid'), rdflib.term.Literal('roman deity'))\n",
      "(rdflib.term.URIRef('http://icondataset.org/ART1260'), rdflib.term.URIRef('http://icondataset.org/saturn'), rdflib.term.Literal('roman deity'))\n",
      "(rdflib.term.URIRef('http://icondataset.org/ART1260'), rdflib.term.URIRef('http://icondataset.org/saturn'), rdflib.term.Literal('deity'))\n",
      "(rdflib.term.URIRef('http://icondataset.org/ART1260'), rdflib.term.URIRef('http://icondataset.org/saturn'), rdflib.term.Literal('Roman deity'))\n",
      "(rdflib.term.URIRef('http://icondataset.org/ART1319'), rdflib.term.URIRef('http://icondataset.org/anteros'), rdflib.term.Literal('Greek deity'))\n",
      "(rdflib.term.URIRef('http://icondataset.org/ART1319'), rdflib.term.URIRef('http://icondataset.org/cupid'), rdflib.term.Literal('mythical creature'))\n",
      "(rdflib.term.URIRef('http://icondataset.org/ART1319'), rdflib.term.URIRef('http://icondataset.org/cupid'), rdflib.term.Literal('Roman deity'))\n",
      "(rdflib.term.URIRef('http://icondataset.org/ART1319'), rdflib.term.URIRef('http://icondataset.org/cupid'), rdflib.term.Literal('roman deity'))\n",
      "(rdflib.term.URIRef('http://icondataset.org/ART1319'), rdflib.term.URIRef('http://icondataset.org/cupid'), rdflib.term.Literal('deity'))\n",
      "(rdflib.term.URIRef('http://icondataset.org/ART1207'), rdflib.term.URIRef('http://icondataset.org/apollo'), rdflib.term.Literal('Greek deity'))\n",
      "(rdflib.term.URIRef('http://icondataset.org/ART1207'), rdflib.term.URIRef('http://icondataset.org/apollo'), rdflib.term.Literal('deity'))\n",
      "(rdflib.term.URIRef('http://icondataset.org/ART1207'), rdflib.term.URIRef('http://icondataset.org/muses'), rdflib.term.Literal('mythological Greek character'))\n",
      "(rdflib.term.URIRef('http://icondataset.org/ART1386'), rdflib.term.URIRef('http://icondataset.org/cupid'), rdflib.term.Literal('Roman deity'))\n",
      "(rdflib.term.URIRef('http://icondataset.org/ART1386'), rdflib.term.URIRef('http://icondataset.org/cupid'), rdflib.term.Literal('mythical creature'))\n",
      "(rdflib.term.URIRef('http://icondataset.org/ART1386'), rdflib.term.URIRef('http://icondataset.org/cupid'), rdflib.term.Literal('deity'))\n",
      "(rdflib.term.URIRef('http://icondataset.org/ART1386'), rdflib.term.URIRef('http://icondataset.org/cupid'), rdflib.term.Literal('roman deity'))\n",
      "(rdflib.term.URIRef('http://icondataset.org/ART1102'), rdflib.term.URIRef('http://icondataset.org/saint-peter'), rdflib.term.Literal('human'))\n",
      "(rdflib.term.URIRef('http://icondataset.org/ART1102'), rdflib.term.URIRef('http://icondataset.org/saint-peter'), rdflib.term.Literal('human biblical figure'))\n",
      "(rdflib.term.URIRef('http://icondataset.org/ART1423'), rdflib.term.URIRef('http://icondataset.org/apollo'), rdflib.term.Literal('Greek deity'))\n",
      "(rdflib.term.URIRef('http://icondataset.org/ART1423'), rdflib.term.URIRef('http://icondataset.org/apollo'), rdflib.term.Literal('deity'))\n",
      "(rdflib.term.URIRef('http://icondataset.org/ART1534'), rdflib.term.URIRef('http://icondataset.org/saturn'), rdflib.term.Literal('Roman deity'))\n",
      "(rdflib.term.URIRef('http://icondataset.org/ART1534'), rdflib.term.URIRef('http://icondataset.org/saturn'), rdflib.term.Literal('roman deity'))\n",
      "(rdflib.term.URIRef('http://icondataset.org/ART1534'), rdflib.term.URIRef('http://icondataset.org/saturn'), rdflib.term.Literal('deity'))\n",
      "(rdflib.term.URIRef('http://icondataset.org/ART1203'), rdflib.term.URIRef('http://icondataset.org/cupid'), rdflib.term.Literal('mythical creature'))\n",
      "(rdflib.term.URIRef('http://icondataset.org/ART1203'), rdflib.term.URIRef('http://icondataset.org/cupid'), rdflib.term.Literal('Roman deity'))\n",
      "(rdflib.term.URIRef('http://icondataset.org/ART1203'), rdflib.term.URIRef('http://icondataset.org/cupid'), rdflib.term.Literal('roman deity'))\n",
      "(rdflib.term.URIRef('http://icondataset.org/ART1203'), rdflib.term.URIRef('http://icondataset.org/cupid'), rdflib.term.Literal('deity'))\n",
      "(rdflib.term.URIRef('http://icondataset.org/ART1203'), rdflib.term.URIRef('http://icondataset.org/the-three-graces'), rdflib.term.Literal('group of Greek mythical characters'))\n",
      "(rdflib.term.URIRef('http://icondataset.org/ART1203'), rdflib.term.URIRef('http://icondataset.org/the-three-graces'), rdflib.term.Literal('mythical entity'))\n",
      "(rdflib.term.URIRef('http://icondataset.org/ART1259'), rdflib.term.URIRef('http://icondataset.org/saturn'), rdflib.term.Literal('Roman deity'))\n",
      "(rdflib.term.URIRef('http://icondataset.org/ART1259'), rdflib.term.URIRef('http://icondataset.org/saturn'), rdflib.term.Literal('roman deity'))\n",
      "(rdflib.term.URIRef('http://icondataset.org/ART1259'), rdflib.term.URIRef('http://icondataset.org/saturn'), rdflib.term.Literal('deity'))\n",
      "(rdflib.term.URIRef('http://icondataset.org/ART1535'), rdflib.term.URIRef('http://icondataset.org/saturn'), rdflib.term.Literal('Roman deity'))\n",
      "(rdflib.term.URIRef('http://icondataset.org/ART1535'), rdflib.term.URIRef('http://icondataset.org/saturn'), rdflib.term.Literal('roman deity'))\n",
      "(rdflib.term.URIRef('http://icondataset.org/ART1535'), rdflib.term.URIRef('http://icondataset.org/saturn'), rdflib.term.Literal('deity'))\n",
      "(rdflib.term.URIRef('http://icondataset.org/ART1064'), rdflib.term.URIRef('http://icondataset.org/thisbe'), rdflib.term.Literal('Greek nymph'))\n",
      "(rdflib.term.URIRef('http://icondataset.org/ART1064'), rdflib.term.URIRef('http://icondataset.org/thisbe'), rdflib.term.Literal('mythological Greek character'))\n",
      "(rdflib.term.URIRef('http://icondataset.org/ART1321'), rdflib.term.URIRef('http://icondataset.org/cupid'), rdflib.term.Literal('roman deity'))\n",
      "(rdflib.term.URIRef('http://icondataset.org/ART1321'), rdflib.term.URIRef('http://icondataset.org/cupid'), rdflib.term.Literal('deity'))\n",
      "(rdflib.term.URIRef('http://icondataset.org/ART1321'), rdflib.term.URIRef('http://icondataset.org/cupid'), rdflib.term.Literal('mythical creature'))\n",
      "(rdflib.term.URIRef('http://icondataset.org/ART1321'), rdflib.term.URIRef('http://icondataset.org/cupid'), rdflib.term.Literal('Roman deity'))\n",
      "(rdflib.term.URIRef('http://icondataset.org/ART1321'), rdflib.term.URIRef('http://icondataset.org/anteros'), rdflib.term.Literal('Greek deity'))\n",
      "(rdflib.term.URIRef('http://icondataset.org/ART1268'), rdflib.term.URIRef('http://icondataset.org/saturn'), rdflib.term.Literal('roman deity'))\n",
      "(rdflib.term.URIRef('http://icondataset.org/ART1268'), rdflib.term.URIRef('http://icondataset.org/saturn'), rdflib.term.Literal('deity'))\n",
      "(rdflib.term.URIRef('http://icondataset.org/ART1268'), rdflib.term.URIRef('http://icondataset.org/saturn'), rdflib.term.Literal('Roman deity'))\n",
      "(rdflib.term.URIRef('http://icondataset.org/ART1041'), rdflib.term.URIRef('http://icondataset.org/bacchus'), rdflib.term.Literal('Roman deity'))\n",
      "(rdflib.term.URIRef('http://icondataset.org/ART1041'), rdflib.term.URIRef('http://icondataset.org/pluto'), rdflib.term.Literal('Roman deity'))\n",
      "(rdflib.term.URIRef('http://icondataset.org/ART1041'), rdflib.term.URIRef('http://icondataset.org/pluto'), rdflib.term.Literal('roman deity'))\n",
      "(rdflib.term.URIRef('http://icondataset.org/ART1041'), rdflib.term.URIRef('http://icondataset.org/pluto'), rdflib.term.Literal('deity'))\n",
      "(rdflib.term.URIRef('http://icondataset.org/ART1041'), rdflib.term.URIRef('http://icondataset.org/bacchus'), rdflib.term.Literal('deity'))\n",
      "(rdflib.term.URIRef('http://icondataset.org/ART1041'), rdflib.term.URIRef('http://icondataset.org/bacchus'), rdflib.term.Literal('roman deity'))\n",
      "(rdflib.term.URIRef('http://icondataset.org/ART1294'), rdflib.term.URIRef('http://icondataset.org/cupid'), rdflib.term.Literal('deity'))\n",
      "(rdflib.term.URIRef('http://icondataset.org/ART1294'), rdflib.term.URIRef('http://icondataset.org/cupid'), rdflib.term.Literal('roman deity'))\n",
      "(rdflib.term.URIRef('http://icondataset.org/ART1294'), rdflib.term.URIRef('http://icondataset.org/cupid'), rdflib.term.Literal('Roman deity'))\n",
      "(rdflib.term.URIRef('http://icondataset.org/ART1294'), rdflib.term.URIRef('http://icondataset.org/cupid'), rdflib.term.Literal('mythical creature'))\n",
      "(rdflib.term.URIRef('http://icondataset.org/ART1512'), rdflib.term.URIRef('http://icondataset.org/cupid'), rdflib.term.Literal('Roman deity'))\n",
      "(rdflib.term.URIRef('http://icondataset.org/ART1512'), rdflib.term.URIRef('http://icondataset.org/cupid'), rdflib.term.Literal('mythical creature'))\n",
      "(rdflib.term.URIRef('http://icondataset.org/ART1512'), rdflib.term.URIRef('http://icondataset.org/apollo'), rdflib.term.Literal('Greek deity'))\n",
      "(rdflib.term.URIRef('http://icondataset.org/ART1512'), rdflib.term.URIRef('http://icondataset.org/cupid'), rdflib.term.Literal('deity'))\n",
      "(rdflib.term.URIRef('http://icondataset.org/ART1512'), rdflib.term.URIRef('http://icondataset.org/apollo'), rdflib.term.Literal('deity'))\n",
      "(rdflib.term.URIRef('http://icondataset.org/ART1512'), rdflib.term.URIRef('http://icondataset.org/cupid'), rdflib.term.Literal('roman deity'))\n",
      "(rdflib.term.URIRef('http://icondataset.org/ART1005test'), rdflib.term.URIRef('http://icondataset.org/pluto'), rdflib.term.Literal('deity'))\n",
      "(rdflib.term.URIRef('http://icondataset.org/ART1005test'), rdflib.term.URIRef('http://icondataset.org/pluto'), rdflib.term.Literal('roman deity'))\n",
      "(rdflib.term.URIRef('http://icondataset.org/ART1005test'), rdflib.term.URIRef('http://icondataset.org/proserpina'), rdflib.term.Literal('Roman deity'))\n",
      "(rdflib.term.URIRef('http://icondataset.org/ART1005test'), rdflib.term.URIRef('http://icondataset.org/proserpina'), rdflib.term.Literal('deity'))\n",
      "(rdflib.term.URIRef('http://icondataset.org/ART1005test'), rdflib.term.URIRef('http://icondataset.org/proserpina'), rdflib.term.Literal('roman deity'))\n",
      "(rdflib.term.URIRef('http://icondataset.org/ART1005test'), rdflib.term.URIRef('http://icondataset.org/cerberus'), rdflib.term.Literal('mythological Greek character'))\n",
      "(rdflib.term.URIRef('http://icondataset.org/ART1005test'), rdflib.term.URIRef('http://icondataset.org/pluto'), rdflib.term.Literal('Roman deity'))\n",
      "(rdflib.term.URIRef('http://icondataset.org/ART1385'), rdflib.term.URIRef('http://icondataset.org/silenus'), rdflib.term.Literal('mythological Greek character'))\n",
      "(rdflib.term.URIRef('http://icondataset.org/ART1129'), rdflib.term.URIRef('http://icondataset.org/cupid'), rdflib.term.Literal('mythical creature'))\n",
      "(rdflib.term.URIRef('http://icondataset.org/ART1129'), rdflib.term.URIRef('http://icondataset.org/cupid'), rdflib.term.Literal('Roman deity'))\n",
      "(rdflib.term.URIRef('http://icondataset.org/ART1129'), rdflib.term.URIRef('http://icondataset.org/cupid'), rdflib.term.Literal('roman deity'))\n",
      "(rdflib.term.URIRef('http://icondataset.org/ART1129'), rdflib.term.URIRef('http://icondataset.org/cupid'), rdflib.term.Literal('deity'))\n",
      "(rdflib.term.URIRef('http://icondataset.org/ART1107'), rdflib.term.URIRef('http://icondataset.org/mary'), rdflib.term.Literal('human biblical figure'))\n",
      "(rdflib.term.URIRef('http://icondataset.org/ART1419'), rdflib.term.URIRef('http://icondataset.org/apollo'), rdflib.term.Literal('Greek deity'))\n",
      "(rdflib.term.URIRef('http://icondataset.org/ART1419'), rdflib.term.URIRef('http://icondataset.org/apollo'), rdflib.term.Literal('deity'))\n",
      "(rdflib.term.URIRef('http://icondataset.org/ART1250'), rdflib.term.URIRef('http://icondataset.org/satyr'), rdflib.term.Literal('mythical people'))\n",
      "(rdflib.term.URIRef('http://icondataset.org/ART1250'), rdflib.term.URIRef('http://icondataset.org/satyr'), rdflib.term.Literal(''))\n",
      "(rdflib.term.URIRef('http://icondataset.org/ART1233'), rdflib.term.URIRef('http://icondataset.org/christ'), rdflib.term.Literal('human'))\n",
      "(rdflib.term.URIRef('http://icondataset.org/ART1233'), rdflib.term.URIRef('http://icondataset.org/christ'), rdflib.term.Literal('human biblical figure'))\n",
      "(rdflib.term.URIRef('http://icondataset.org/ART1233'), rdflib.term.URIRef('http://icondataset.org/christ'), rdflib.term.Literal('deity'))\n",
      "(rdflib.term.URIRef('http://icondataset.org/ART1526'), rdflib.term.URIRef('http://icondataset.org/archangel-gabriel'), rdflib.term.Literal('biblical character'))\n",
      "(rdflib.term.URIRef('http://icondataset.org/ART1056'), rdflib.term.URIRef('http://icondataset.org/polyxena'), rdflib.term.Literal('mythological Greek character'))\n"
     ]
    },
    {
     "name": "stdout",
     "output_type": "stream",
     "text": [
      "(rdflib.term.URIRef('http://icondataset.org/ART1000'), rdflib.term.URIRef('http://icondataset.org/jupiter'), rdflib.term.Literal('Roman deity'))\n",
      "(rdflib.term.URIRef('http://icondataset.org/ART1000'), rdflib.term.URIRef('http://icondataset.org/jupiter'), rdflib.term.Literal('roman deity'))\n",
      "(rdflib.term.URIRef('http://icondataset.org/ART1000'), rdflib.term.URIRef('http://icondataset.org/jupiter'), rdflib.term.Literal('deity'))\n",
      "(rdflib.term.URIRef('http://icondataset.org/ART1065'), rdflib.term.URIRef('http://icondataset.org/the-three-graces'), rdflib.term.Literal('mythical entity'))\n",
      "(rdflib.term.URIRef('http://icondataset.org/ART1065'), rdflib.term.URIRef('http://icondataset.org/the-three-graces'), rdflib.term.Literal('group of Greek mythical characters'))\n",
      "(rdflib.term.URIRef('http://icondataset.org/ART1253'), rdflib.term.URIRef('http://icondataset.org/silenus'), rdflib.term.Literal('mythological Greek character'))\n",
      "(rdflib.term.URIRef('http://icondataset.org/ART1253'), rdflib.term.URIRef('http://icondataset.org/bacchus'), rdflib.term.Literal('Roman deity'))\n",
      "(rdflib.term.URIRef('http://icondataset.org/ART1253'), rdflib.term.URIRef('http://icondataset.org/ariadne'), rdflib.term.Literal('mythological Greek character'))\n",
      "(rdflib.term.URIRef('http://icondataset.org/ART1253'), rdflib.term.URIRef('http://icondataset.org/lapiths'), rdflib.term.Literal(''))\n",
      "(rdflib.term.URIRef('http://icondataset.org/ART1253'), rdflib.term.URIRef('http://icondataset.org/lapiths'), rdflib.term.Literal('mythical people'))\n",
      "(rdflib.term.URIRef('http://icondataset.org/ART1253'), rdflib.term.URIRef('http://icondataset.org/bacchus'), rdflib.term.Literal('deity'))\n",
      "(rdflib.term.URIRef('http://icondataset.org/ART1253'), rdflib.term.URIRef('http://icondataset.org/bacchus'), rdflib.term.Literal('roman deity'))\n",
      "(rdflib.term.URIRef('http://icondataset.org/ART1315'), rdflib.term.URIRef('http://icondataset.org/zeus'), rdflib.term.Literal('Greek deity'))\n",
      "(rdflib.term.URIRef('http://icondataset.org/ART1315'), rdflib.term.URIRef('http://icondataset.org/cupid'), rdflib.term.Literal('Roman deity'))\n",
      "(rdflib.term.URIRef('http://icondataset.org/ART1315'), rdflib.term.URIRef('http://icondataset.org/aglauros'), rdflib.term.Literal('mythological Greek character'))\n",
      "(rdflib.term.URIRef('http://icondataset.org/ART1315'), rdflib.term.URIRef('http://icondataset.org/athene'), rdflib.term.Literal('deity'))\n",
      "(rdflib.term.URIRef('http://icondataset.org/ART1315'), rdflib.term.URIRef('http://icondataset.org/cupid'), rdflib.term.Literal('mythical creature'))\n",
      "(rdflib.term.URIRef('http://icondataset.org/ART1315'), rdflib.term.URIRef('http://icondataset.org/cupid'), rdflib.term.Literal('deity'))\n",
      "(rdflib.term.URIRef('http://icondataset.org/ART1315'), rdflib.term.URIRef('http://icondataset.org/athene'), rdflib.term.Literal('goddess'))\n",
      "(rdflib.term.URIRef('http://icondataset.org/ART1315'), rdflib.term.URIRef('http://icondataset.org/satyr'), rdflib.term.Literal('mythical people'))\n",
      "(rdflib.term.URIRef('http://icondataset.org/ART1315'), rdflib.term.URIRef('http://icondataset.org/athene'), rdflib.term.Literal('Greek deity'))\n",
      "(rdflib.term.URIRef('http://icondataset.org/ART1315'), rdflib.term.URIRef('http://icondataset.org/cupid'), rdflib.term.Literal('roman deity'))\n",
      "(rdflib.term.URIRef('http://icondataset.org/ART1315'), rdflib.term.URIRef('http://icondataset.org/satyr'), rdflib.term.Literal(''))\n",
      "(rdflib.term.URIRef('http://icondataset.org/ART1315'), rdflib.term.URIRef('http://icondataset.org/zeus'), rdflib.term.Literal('deity'))\n",
      "(rdflib.term.URIRef('http://icondataset.org/ART1017test'), rdflib.term.URIRef('http://icondataset.org/christ'), rdflib.term.Literal('human biblical figure'))\n",
      "(rdflib.term.URIRef('http://icondataset.org/ART1017test'), rdflib.term.URIRef('http://icondataset.org/christ'), rdflib.term.Literal('deity'))\n",
      "(rdflib.term.URIRef('http://icondataset.org/ART1017test'), rdflib.term.URIRef('http://icondataset.org/christ'), rdflib.term.Literal('human'))\n",
      "(rdflib.term.URIRef('http://icondataset.org/ART1017test'), rdflib.term.URIRef('http://icondataset.org/satan'), rdflib.term.Literal('supernatural being'))\n",
      "(rdflib.term.URIRef('http://icondataset.org/ART1017test'), rdflib.term.URIRef('http://icondataset.org/satan'), rdflib.term.Literal('mythical character'))\n",
      "(rdflib.term.URIRef('http://icondataset.org/ART1017test'), rdflib.term.URIRef('http://icondataset.org/satan'), rdflib.term.Literal('biblical character'))\n",
      "(rdflib.term.URIRef('http://icondataset.org/ART1123'), rdflib.term.URIRef('http://icondataset.org/cupid'), rdflib.term.Literal('Roman deity'))\n",
      "(rdflib.term.URIRef('http://icondataset.org/ART1123'), rdflib.term.URIRef('http://icondataset.org/cupid'), rdflib.term.Literal('mythical creature'))\n",
      "(rdflib.term.URIRef('http://icondataset.org/ART1123'), rdflib.term.URIRef('http://icondataset.org/cupid'), rdflib.term.Literal('deity'))\n",
      "(rdflib.term.URIRef('http://icondataset.org/ART1123'), rdflib.term.URIRef('http://icondataset.org/cupid'), rdflib.term.Literal('roman deity'))\n",
      "(rdflib.term.URIRef('http://icondataset.org/ART1068'), rdflib.term.URIRef('http://icondataset.org/eve'), rdflib.term.Literal('human biblical figure'))\n",
      "(rdflib.term.URIRef('http://icondataset.org/ART1068'), rdflib.term.URIRef('http://icondataset.org/eve'), rdflib.term.Literal('mythical character'))\n",
      "(rdflib.term.URIRef('http://icondataset.org/ART1138'), rdflib.term.URIRef('http://icondataset.org/mithras'), rdflib.term.Literal('Roman deity'))\n",
      "(rdflib.term.URIRef('http://icondataset.org/ART1138'), rdflib.term.URIRef('http://icondataset.org/mithras'), rdflib.term.Literal('roman deity'))\n",
      "(rdflib.term.URIRef('http://icondataset.org/ART1138'), rdflib.term.URIRef('http://icondataset.org/mithras'), rdflib.term.Literal('deity'))\n",
      "(rdflib.term.URIRef('http://icondataset.org/ART1008test'), rdflib.term.URIRef('http://icondataset.org/mary'), rdflib.term.Literal('human biblical figure'))\n",
      "(rdflib.term.URIRef('http://icondataset.org/ART1008test'), rdflib.term.URIRef('http://icondataset.org/archangel-gabriel'), rdflib.term.Literal('biblical character'))\n",
      "(rdflib.term.URIRef('http://icondataset.org/ART1365'), rdflib.term.URIRef('http://icondataset.org/giuliano-de-medici'), rdflib.term.Literal('human'))\n",
      "(rdflib.term.URIRef('http://icondataset.org/ART1458'), rdflib.term.URIRef('http://icondataset.org/christ'), rdflib.term.Literal('human'))\n",
      "(rdflib.term.URIRef('http://icondataset.org/ART1458'), rdflib.term.URIRef('http://icondataset.org/christ'), rdflib.term.Literal('human biblical figure'))\n",
      "(rdflib.term.URIRef('http://icondataset.org/ART1458'), rdflib.term.URIRef('http://icondataset.org/christ'), rdflib.term.Literal('deity'))\n",
      "(rdflib.term.URIRef('http://icondataset.org/ART1019'), rdflib.term.URIRef('http://icondataset.org/perseus'), rdflib.term.Literal('Greek heroes'))\n",
      "(rdflib.term.URIRef('http://icondataset.org/ART1019'), rdflib.term.URIRef('http://icondataset.org/perseus'), rdflib.term.Literal('deity'))\n",
      "(rdflib.term.URIRef('http://icondataset.org/ART1019'), rdflib.term.URIRef('http://icondataset.org/perseus'), rdflib.term.Literal('Greek deity'))\n",
      "(rdflib.term.URIRef('http://icondataset.org/ART1004test'), rdflib.term.URIRef('http://icondataset.org/proserpina'), rdflib.term.Literal('Roman deity'))\n",
      "(rdflib.term.URIRef('http://icondataset.org/ART1004test'), rdflib.term.URIRef('http://icondataset.org/pluto'), rdflib.term.Literal('Roman deity'))\n",
      "(rdflib.term.URIRef('http://icondataset.org/ART1004test'), rdflib.term.URIRef('http://icondataset.org/pluto'), rdflib.term.Literal('roman deity'))\n",
      "(rdflib.term.URIRef('http://icondataset.org/ART1004test'), rdflib.term.URIRef('http://icondataset.org/proserpina'), rdflib.term.Literal('deity'))\n",
      "(rdflib.term.URIRef('http://icondataset.org/ART1004test'), rdflib.term.URIRef('http://icondataset.org/cerberus'), rdflib.term.Literal('mythological Greek character'))\n",
      "(rdflib.term.URIRef('http://icondataset.org/ART1004test'), rdflib.term.URIRef('http://icondataset.org/pluto'), rdflib.term.Literal('deity'))\n",
      "(rdflib.term.URIRef('http://icondataset.org/ART1004test'), rdflib.term.URIRef('http://icondataset.org/proserpina'), rdflib.term.Literal('roman deity'))\n",
      "(rdflib.term.URIRef('http://icondataset.org/ART1267'), rdflib.term.URIRef('http://icondataset.org/saturn'), rdflib.term.Literal('deity'))\n",
      "(rdflib.term.URIRef('http://icondataset.org/ART1267'), rdflib.term.URIRef('http://icondataset.org/jupiter'), rdflib.term.Literal('Roman deity'))\n",
      "(rdflib.term.URIRef('http://icondataset.org/ART1267'), rdflib.term.URIRef('http://icondataset.org/saturn'), rdflib.term.Literal('roman deity'))\n",
      "(rdflib.term.URIRef('http://icondataset.org/ART1267'), rdflib.term.URIRef('http://icondataset.org/jupiter'), rdflib.term.Literal('deity'))\n",
      "(rdflib.term.URIRef('http://icondataset.org/ART1267'), rdflib.term.URIRef('http://icondataset.org/saturn'), rdflib.term.Literal('Roman deity'))\n",
      "(rdflib.term.URIRef('http://icondataset.org/ART1267'), rdflib.term.URIRef('http://icondataset.org/jupiter'), rdflib.term.Literal('roman deity'))\n",
      "(rdflib.term.URIRef('http://icondataset.org/ART1355'), rdflib.term.URIRef('http://icondataset.org/moses'), rdflib.term.Literal('human biblical figure'))\n",
      "(rdflib.term.URIRef('http://icondataset.org/ART1355'), rdflib.term.URIRef('http://icondataset.org/pope-julius-ii'), rdflib.term.Literal('human'))\n",
      "(rdflib.term.URIRef('http://icondataset.org/ART1355'), rdflib.term.URIRef('http://icondataset.org/mary'), rdflib.term.Literal('human biblical figure'))\n",
      "(rdflib.term.URIRef('http://icondataset.org/ART1198'), rdflib.term.URIRef('http://icondataset.org/fedro'), rdflib.term.Literal('human'))\n",
      "(rdflib.term.URIRef('http://icondataset.org/ART1538'), rdflib.term.URIRef('http://icondataset.org/christ'), rdflib.term.Literal('human biblical figure'))\n",
      "(rdflib.term.URIRef('http://icondataset.org/ART1538'), rdflib.term.URIRef('http://icondataset.org/christ'), rdflib.term.Literal('deity'))\n",
      "(rdflib.term.URIRef('http://icondataset.org/ART1538'), rdflib.term.URIRef('http://icondataset.org/christ'), rdflib.term.Literal('human'))\n",
      "(rdflib.term.URIRef('http://icondataset.org/ART1288'), rdflib.term.URIRef('http://icondataset.org/cupid'), rdflib.term.Literal('roman deity'))\n",
      "(rdflib.term.URIRef('http://icondataset.org/ART1288'), rdflib.term.URIRef('http://icondataset.org/cupid'), rdflib.term.Literal('deity'))\n",
      "(rdflib.term.URIRef('http://icondataset.org/ART1288'), rdflib.term.URIRef('http://icondataset.org/cupid'), rdflib.term.Literal('mythical creature'))\n",
      "(rdflib.term.URIRef('http://icondataset.org/ART1288'), rdflib.term.URIRef('http://icondataset.org/cupid'), rdflib.term.Literal('Roman deity'))\n",
      "(rdflib.term.URIRef('http://icondataset.org/ART1004'), rdflib.term.URIRef('http://icondataset.org/christ'), rdflib.term.Literal('human'))\n",
      "(rdflib.term.URIRef('http://icondataset.org/ART1004'), rdflib.term.URIRef('http://icondataset.org/christ'), rdflib.term.Literal('human biblical figure'))\n",
      "(rdflib.term.URIRef('http://icondataset.org/ART1004'), rdflib.term.URIRef('http://icondataset.org/christ'), rdflib.term.Literal('deity'))\n",
      "(rdflib.term.URIRef('http://icondataset.org/ART1539'), rdflib.term.URIRef('http://icondataset.org/prophet'), rdflib.term.Literal('human biblical figure'))\n",
      "(rdflib.term.URIRef('http://icondataset.org/ART1539'), rdflib.term.URIRef('http://icondataset.org/mary'), rdflib.term.Literal('human biblical figure'))\n",
      "(rdflib.term.URIRef('http://icondataset.org/ART1539'), rdflib.term.URIRef('http://icondataset.org/pope-julius-ii'), rdflib.term.Literal('human'))\n",
      "(rdflib.term.URIRef('http://icondataset.org/ART1539'), rdflib.term.URIRef('http://icondataset.org/rachel'), rdflib.term.Literal('human biblical figure'))\n",
      "(rdflib.term.URIRef('http://icondataset.org/ART1539'), rdflib.term.URIRef('http://icondataset.org/moses'), rdflib.term.Literal('human biblical figure'))\n",
      "(rdflib.term.URIRef('http://icondataset.org/ART1120'), rdflib.term.URIRef('http://icondataset.org/pygmalion'), rdflib.term.Literal('mythological Greek character'))\n",
      "(rdflib.term.URIRef('http://icondataset.org/ART1249'), rdflib.term.URIRef('http://icondataset.org/satyr'), rdflib.term.Literal(''))\n",
      "(rdflib.term.URIRef('http://icondataset.org/ART1249'), rdflib.term.URIRef('http://icondataset.org/satyr'), rdflib.term.Literal('mythical people'))\n",
      "(rdflib.term.URIRef('http://icondataset.org/ART1061'), rdflib.term.URIRef('http://icondataset.org/archangel-gabriel'), rdflib.term.Literal('biblical character'))\n",
      "(rdflib.term.URIRef('http://icondataset.org/ART1061'), rdflib.term.URIRef('http://icondataset.org/mary'), rdflib.term.Literal('human biblical figure'))\n",
      "(rdflib.term.URIRef('http://icondataset.org/ART1417'), rdflib.term.URIRef('http://icondataset.org/apollo'), rdflib.term.Literal('Greek deity'))\n",
      "(rdflib.term.URIRef('http://icondataset.org/ART1417'), rdflib.term.URIRef('http://icondataset.org/apollo'), rdflib.term.Literal('deity'))\n"
     ]
    }
   ],
   "source": [
    "# we redo the query for level 2. Part 1: characters. \n",
    "\n",
    "# lev 2\n",
    "artwork_lev2broader = []\n",
    "\n",
    "cq11 = \"\"\"\n",
    "prefix d: <http://icondataset.org/> \n",
    "PREFIX icon: <https://w3id.org/icon/ontology/> \n",
    "prefix sim: <https://w3id.org/simulation/ontology/>\n",
    "prefix dul: <http://www.ontologydesignpatterns.org/ont/dul/DUL.owl#>\n",
    "prefix crm: <http://www.cidoc-crm.org/cidoc-crm/>\n",
    "\n",
    "SELECT DISTINCT ?artwork ?lev2 ?typeLabel  WHERE {\n",
    "  VALUES ?rel {icon:hasCharacter icon:hasEvent icon:hasNamedObject icon:hasPlace icon:hasPersonification icon:hasSymbol}\n",
    "  VALUES ?artwork { \"\"\"+ ' '.join(cf_art_set) +\"\"\"}\n",
    "  ?icrec icon:aboutWorkOfArt ?artwork; icon:recognizedImage ?img. \n",
    "  ?img ?rel ?lev2.\n",
    "  ?lev2 crm:P2_has_type ?type. \n",
    "  ?type rdfs:label ?typeLabel. \n",
    "} \n",
    "\"\"\" \n",
    "\n",
    "cq11res = newg.query(cq11)\n",
    "for row in cq11res:\n",
    "    artwork_lev2broader.append([str(row[0]), str(row[1]), str(row[2])])\n",
    "    print(row)\n"
   ]
  },
  {
   "cell_type": "code",
   "execution_count": 30,
   "id": "cf1d2024",
   "metadata": {},
   "outputs": [],
   "source": [
    "# we redo the query for level 2. Part 2: invenzioni. \n",
    "# NB: create again data with the new broader categories. not present in the current version. \n",
    "\n",
    "\n",
    "cq11 = \"\"\"\n",
    "prefix d: <http://icondataset.org/> \n",
    "PREFIX icon: <https://w3id.org/icon/ontology/> \n",
    "prefix sim: <https://w3id.org/simulation/ontology/>\n",
    "prefix dul: <http://www.ontologydesignpatterns.org/ont/dul/DUL.owl#>\n",
    "prefix crm: <http://www.cidoc-crm.org/cidoc-crm/>\n",
    "\n",
    "SELECT DISTINCT ?artwork ?inv ?typeLabel  WHERE {\n",
    "  VALUES ?rel {icon:hasCharacter icon:hasEvent icon:hasNamedObject icon:hasPlace icon:hasPersonification icon:hasSymbol}\n",
    "  VALUES ?artwork { \"\"\"+ ' '.join(cf_art_set) +\"\"\"}\n",
    "  ?icrec icon:aboutWorkOfArt ?artwork; icon:recognizedInvenzione ?inv. \n",
    "  ?inv skos:broader ?type.\n",
    "  ?type rdfs:label ?typeLabel. \n",
    "} \n",
    "\"\"\" \n",
    "\n",
    "cq11res = newg.query(cq11)\n",
    "for row in cq11res:\n",
    "    artwork_lev2broader.append([str(row[0]), str(row[1]), str(row[2])])\n",
    "    print(row)\n"
   ]
  },
  {
   "cell_type": "markdown",
   "id": "8de0ddaa",
   "metadata": {},
   "source": [
    "[Back to top](#Dataset-overview) <br>\n",
    "[Back to section 2](#2.-Overwiew-of-Cultural-Phenomena)"
   ]
  },
  {
   "cell_type": "markdown",
   "id": "bd526af9",
   "metadata": {},
   "source": [
    "# 3. Overview of subjects relations<a class=\"anchor\" id=\"third-bullet\"></a>\n",
    "Visualization of level 1, 2, 3 subjects relations\n",
    "<br>\n",
    "[Back to top](#Dataset-overview)\n"
   ]
  },
  {
   "cell_type": "code",
   "execution_count": 19,
   "id": "b0608877",
   "metadata": {},
   "outputs": [],
   "source": [
    "# query the blazegraph server\n",
    "tot_art_list2 = []\n",
    "result = server.query(\"\"\"\n",
    "prefix d: <http://icondataset.org/> \n",
    "PREFIX icon: <https://w3id.org/icon/ontology/> \n",
    "prefix sim: <https://w3id.org/simulation/ontology/>\n",
    "prefix dul: <http://www.ontologydesignpatterns.org/ont/dul/DUL.owl#>\n",
    "prefix crm: <http://www.cidoc-crm.org/cidoc-crm/>\n",
    "\n",
    "SELECT DISTINCT ?artwork ?subj1 ?type1 ?subj2 ?type2 ?subj3 ?type3  WHERE {\n",
    "  VALUES ?rel1 {icon:hasExpressionalMeaning icon:hasFactualMeaning crm:P138_depicts}\n",
    "  VALUES ?rel2 {icon:hasCharacter icon:hasEvent icon:hasNamedObject icon:hasPlace icon:hasPersonification icon:hasSymbol}\n",
    "  \n",
    "  ?subj3 (^icon:recognizedCulturalPhenomenon | ^icon:recognizedConceptualObject) / ^icon:recognizedIntrinsicMeaning ?iconol .\n",
    "  ?subj3 a ?type3. \n",
    "  ?iconol icon:aboutWorkOfArt ?artwork .\n",
    "   ?icrec icon:aboutWorkOfArt ?artwork; \n",
    "          a icon:IconographicalRecognition.\n",
    "  {?icrec icon:recognizedImage ?image. ?image ?rel2 ?subj2 }\n",
    "  UNION\n",
    "  {?icrec icon:recognizedInvenzione ?subj2}\n",
    "  ?subj2 a ?type2. \n",
    "  ?preicrec icon:aboutWorkOfArt ?artwork; \n",
    "      a icon:PreiconographicalRecognition; \n",
    "      icon:recognizedArtisticMotif | icon:recognizedComposition ?lev1.\n",
    " {?lev1 icon:hasPart ?am. ?am ?rel1 ?subj1} UNION {?lev1 ?rel1 ?subj1}\n",
    " # ?subj1 rdfs:label ?subj1Label; \n",
    "   ?subj1 a ?type1.\n",
    "#  ?type1 rdfs:label ?type1Label. \n",
    "# ?subj1 rdfs:label ?subj1Label. \n",
    "\n",
    "} ORDER BY ?artwork\n",
    "    \"\"\")\n",
    "\n",
    "\n",
    "for b in result['results']['bindings']:\n",
    "        tot_art_list2.append([b[\"artwork\"][\"value\"], b[\"subj1\"][\"value\"], b[\"type1\"][\"value\"], b[\"subj2\"][\"value\"], b[\"type2\"][\"value\"], b[\"subj3\"][\"value\"], b[\"type3\"][\"value\"]])\n",
    "# tot_art_list2"
   ]
  },
  {
   "cell_type": "code",
   "execution_count": 20,
   "id": "0a6fce1f",
   "metadata": {},
   "outputs": [
    {
     "data": {
      "text/plain": [
       "'all_levels2.csv'"
      ]
     },
     "execution_count": 20,
     "metadata": {},
     "output_type": "execute_result"
    }
   ],
   "source": [
    "first_line = [\"artwork\", \"subj1\", \"type1\", \"subj2\", \"type2\", \"subj3\", \"type3\"]\n",
    "store_csv(\"all_levels2.csv\", first_line, tot_art_list2)"
   ]
  },
  {
   "cell_type": "code",
   "execution_count": 82,
   "id": "934f8480",
   "metadata": {},
   "outputs": [],
   "source": [
    "# same query, too slow\n",
    "tot_art_list = []\n",
    "# no modify\n",
    "cq2 = \"\"\"\n",
    "prefix d: <http://icondataset.org/> \n",
    "PREFIX icon: <https://w3id.org/icon/ontology/> \n",
    "prefix sim: <https://w3id.org/simulation/ontology/>\n",
    "prefix dul: <http://www.ontologydesignpatterns.org/ont/dul/DUL.owl#>\n",
    "prefix crm: <http://www.cidoc-crm.org/cidoc-crm/>\n",
    "\n",
    "SELECT DISTINCT ?artwork ?subj1 ?type1 ?subj2 ?type2 ?subj3 ?type3  WHERE {\n",
    "  VALUES ?rel1 {icon:hasExpressionalMeaning icon:hasFactualMeaning crm:P138_depicts}\n",
    "  VALUES ?rel2 {icon:hasCharacter icon:hasEvent icon:hasNamedObject icon:hasPlace icon:hasPersonification icon:hasSymbol}\n",
    "  \n",
    "  ?subj3 (^icon:recognizedCulturalPhenomenon | ^icon:recognizedConceptualObject) / ^icon:recognizedIntrinsicMeaning ?iconol .\n",
    "  ?subj3 a ?type3. \n",
    "  ?iconol icon:aboutWorkOfArt ?artwork .\n",
    "  ?icrec icon:aboutWorkOfArt ?artwork; \n",
    "          a icon:IconographicalRecognition.\n",
    "  {?icrec icon:recognizedImage ?image. ?image ?rel2 ?subj2 }\n",
    "  UNION\n",
    "  {?icrec icon:recognizedInvenzione ?subj2}\n",
    "  ?subj2 a ?type2. \n",
    "  ?preicrec icon:aboutWorkOfArt ?artwork; \n",
    "      a icon:PreiconographicalRecognition; \n",
    "      icon:recognizedArtisticMotif | icon:recognizedComposition ?lev1.\n",
    " {?lev1 icon:hasPart ?am. ?am ?rel1 ?subj1} UNION {?lev1 ?rel1 ?subj1}\n",
    " # ?subj1 rdfs:label ?subj1Label; \n",
    "   ?subj1 a ?type1.\n",
    "#  ?type1 rdfs:label ?type1Label. \n",
    "# ?subj1 rdfs:label ?subj1Label. \n",
    "\n",
    "} \n",
    "\"\"\" \n",
    "\n",
    "cq2res = newg.query(cq2)\n",
    "for row in cq2res:\n",
    "    tot_art_list.append([str(row[0]), str(row[1]), str(row[2]), str(row[3]), str(row[4]), str(row[5]), str(row[6])])\n",
    " # print(str(row[0]), str(row[1]), str(row[2]), str(row[3]), str(row[4]), str(row[5]), str(row[6]))"
   ]
  },
  {
   "cell_type": "code",
   "execution_count": 28,
   "id": "5ecbfa38",
   "metadata": {},
   "outputs": [
    {
     "data": {
      "text/html": [
       "<div>\n",
       "<style scoped>\n",
       "    .dataframe tbody tr th:only-of-type {\n",
       "        vertical-align: middle;\n",
       "    }\n",
       "\n",
       "    .dataframe tbody tr th {\n",
       "        vertical-align: top;\n",
       "    }\n",
       "\n",
       "    .dataframe thead th {\n",
       "        text-align: right;\n",
       "    }\n",
       "</style>\n",
       "<table border=\"1\" class=\"dataframe\">\n",
       "  <thead>\n",
       "    <tr style=\"text-align: right;\">\n",
       "      <th></th>\n",
       "      <th>artwork</th>\n",
       "      <th>subj1</th>\n",
       "      <th>type1</th>\n",
       "      <th>subj2</th>\n",
       "      <th>type2</th>\n",
       "      <th>subj3</th>\n",
       "      <th>type3</th>\n",
       "    </tr>\n",
       "  </thead>\n",
       "  <tbody>\n",
       "    <tr>\n",
       "      <th>0</th>\n",
       "      <td>http://icondataset.org/ART1000</td>\n",
       "      <td>http://icondataset.org/dove</td>\n",
       "      <td>https://w3id.org/icon/ontology/NaturalElement</td>\n",
       "      <td>http://icondataset.org/jupiter</td>\n",
       "      <td>https://w3id.org/icon/ontology/Character</td>\n",
       "      <td>http://icondataset.org/CF1040</td>\n",
       "      <td>https://w3id.org/icon/ontology/CulturalPhenomenon</td>\n",
       "    </tr>\n",
       "    <tr>\n",
       "      <th>1</th>\n",
       "      <td>http://icondataset.org/ART1000</td>\n",
       "      <td>http://icondataset.org/dove</td>\n",
       "      <td>https://w3id.org/icon/ontology/NaturalElement</td>\n",
       "      <td>http://icondataset.org/venus</td>\n",
       "      <td>https://w3id.org/icon/ontology/Character</td>\n",
       "      <td>http://icondataset.org/CF1040</td>\n",
       "      <td>https://w3id.org/icon/ontology/CulturalPhenomenon</td>\n",
       "    </tr>\n",
       "    <tr>\n",
       "      <th>2</th>\n",
       "      <td>http://icondataset.org/ART1000</td>\n",
       "      <td>http://icondataset.org/eagle</td>\n",
       "      <td>https://w3id.org/icon/ontology/NaturalElement</td>\n",
       "      <td>http://icondataset.org/jupiter</td>\n",
       "      <td>https://w3id.org/icon/ontology/Character</td>\n",
       "      <td>http://icondataset.org/CF1040</td>\n",
       "      <td>https://w3id.org/icon/ontology/CulturalPhenomenon</td>\n",
       "    </tr>\n",
       "    <tr>\n",
       "      <th>3</th>\n",
       "      <td>http://icondataset.org/ART1000</td>\n",
       "      <td>http://icondataset.org/eagle</td>\n",
       "      <td>https://w3id.org/icon/ontology/NaturalElement</td>\n",
       "      <td>http://icondataset.org/venus</td>\n",
       "      <td>https://w3id.org/icon/ontology/Character</td>\n",
       "      <td>http://icondataset.org/CF1040</td>\n",
       "      <td>https://w3id.org/icon/ontology/CulturalPhenomenon</td>\n",
       "    </tr>\n",
       "    <tr>\n",
       "      <th>4</th>\n",
       "      <td>http://icondataset.org/ART1000</td>\n",
       "      <td>http://icondataset.org/man</td>\n",
       "      <td>https://w3id.org/icon/ontology/NaturalElement</td>\n",
       "      <td>http://icondataset.org/jupiter</td>\n",
       "      <td>https://w3id.org/icon/ontology/Character</td>\n",
       "      <td>http://icondataset.org/CF1040</td>\n",
       "      <td>https://w3id.org/icon/ontology/CulturalPhenomenon</td>\n",
       "    </tr>\n",
       "    <tr>\n",
       "      <th>...</th>\n",
       "      <td>...</td>\n",
       "      <td>...</td>\n",
       "      <td>...</td>\n",
       "      <td>...</td>\n",
       "      <td>...</td>\n",
       "      <td>...</td>\n",
       "      <td>...</td>\n",
       "    </tr>\n",
       "    <tr>\n",
       "      <th>41359</th>\n",
       "      <td>http://icondataset.org/ART1539</td>\n",
       "      <td>http://icondataset.org/niche</td>\n",
       "      <td>https://w3id.org/icon/ontology/NaturalElement</td>\n",
       "      <td>http://icondataset.org//pers/vita-activa</td>\n",
       "      <td>https://w3id.org/icon/ontology/Personification</td>\n",
       "      <td>http://icondataset.org/CF1097</td>\n",
       "      <td>https://w3id.org/icon/ontology/CulturalPhenomenon</td>\n",
       "    </tr>\n",
       "    <tr>\n",
       "      <th>41360</th>\n",
       "      <td>http://icondataset.org/ART1539</td>\n",
       "      <td>http://icondataset.org/niche</td>\n",
       "      <td>https://w3id.org/icon/ontology/NaturalElement</td>\n",
       "      <td>http://icondataset.org//pers/vita-contemplativa</td>\n",
       "      <td>https://w3id.org/icon/ontology/Personification</td>\n",
       "      <td>http://icondataset.org/CF1097</td>\n",
       "      <td>https://w3id.org/icon/ontology/CulturalPhenomenon</td>\n",
       "    </tr>\n",
       "    <tr>\n",
       "      <th>41361</th>\n",
       "      <td>http://icondataset.org/ART1539</td>\n",
       "      <td>http://icondataset.org/niche</td>\n",
       "      <td>https://w3id.org/icon/ontology/NaturalElement</td>\n",
       "      <td>http://icondataset.org/leach</td>\n",
       "      <td>https://w3id.org/icon/ontology/Character</td>\n",
       "      <td>http://icondataset.org/CF1097</td>\n",
       "      <td>https://w3id.org/icon/ontology/CulturalPhenomenon</td>\n",
       "    </tr>\n",
       "    <tr>\n",
       "      <th>41362</th>\n",
       "      <td>http://icondataset.org/ART1539</td>\n",
       "      <td>http://icondataset.org/niche</td>\n",
       "      <td>https://w3id.org/icon/ontology/NaturalElement</td>\n",
       "      <td>http://icondataset.org/pope-julius-ii</td>\n",
       "      <td>https://w3id.org/icon/ontology/Character</td>\n",
       "      <td>http://icondataset.org/CF1097</td>\n",
       "      <td>https://w3id.org/icon/ontology/CulturalPhenomenon</td>\n",
       "    </tr>\n",
       "    <tr>\n",
       "      <th>41363</th>\n",
       "      <td>http://icondataset.org/ART1539</td>\n",
       "      <td>http://icondataset.org/niche</td>\n",
       "      <td>https://w3id.org/icon/ontology/NaturalElement</td>\n",
       "      <td>http://icondataset.org/rachel</td>\n",
       "      <td>https://w3id.org/icon/ontology/Character</td>\n",
       "      <td>http://icondataset.org/CF1097</td>\n",
       "      <td>https://w3id.org/icon/ontology/CulturalPhenomenon</td>\n",
       "    </tr>\n",
       "  </tbody>\n",
       "</table>\n",
       "<p>41364 rows × 7 columns</p>\n",
       "</div>"
      ],
      "text/plain": [
       "                              artwork                         subj1  \\\n",
       "0      http://icondataset.org/ART1000   http://icondataset.org/dove   \n",
       "1      http://icondataset.org/ART1000   http://icondataset.org/dove   \n",
       "2      http://icondataset.org/ART1000  http://icondataset.org/eagle   \n",
       "3      http://icondataset.org/ART1000  http://icondataset.org/eagle   \n",
       "4      http://icondataset.org/ART1000    http://icondataset.org/man   \n",
       "...                               ...                           ...   \n",
       "41359  http://icondataset.org/ART1539  http://icondataset.org/niche   \n",
       "41360  http://icondataset.org/ART1539  http://icondataset.org/niche   \n",
       "41361  http://icondataset.org/ART1539  http://icondataset.org/niche   \n",
       "41362  http://icondataset.org/ART1539  http://icondataset.org/niche   \n",
       "41363  http://icondataset.org/ART1539  http://icondataset.org/niche   \n",
       "\n",
       "                                               type1  \\\n",
       "0      https://w3id.org/icon/ontology/NaturalElement   \n",
       "1      https://w3id.org/icon/ontology/NaturalElement   \n",
       "2      https://w3id.org/icon/ontology/NaturalElement   \n",
       "3      https://w3id.org/icon/ontology/NaturalElement   \n",
       "4      https://w3id.org/icon/ontology/NaturalElement   \n",
       "...                                              ...   \n",
       "41359  https://w3id.org/icon/ontology/NaturalElement   \n",
       "41360  https://w3id.org/icon/ontology/NaturalElement   \n",
       "41361  https://w3id.org/icon/ontology/NaturalElement   \n",
       "41362  https://w3id.org/icon/ontology/NaturalElement   \n",
       "41363  https://w3id.org/icon/ontology/NaturalElement   \n",
       "\n",
       "                                                 subj2  \\\n",
       "0                       http://icondataset.org/jupiter   \n",
       "1                         http://icondataset.org/venus   \n",
       "2                       http://icondataset.org/jupiter   \n",
       "3                         http://icondataset.org/venus   \n",
       "4                       http://icondataset.org/jupiter   \n",
       "...                                                ...   \n",
       "41359         http://icondataset.org//pers/vita-activa   \n",
       "41360  http://icondataset.org//pers/vita-contemplativa   \n",
       "41361                     http://icondataset.org/leach   \n",
       "41362            http://icondataset.org/pope-julius-ii   \n",
       "41363                    http://icondataset.org/rachel   \n",
       "\n",
       "                                                type2  \\\n",
       "0            https://w3id.org/icon/ontology/Character   \n",
       "1            https://w3id.org/icon/ontology/Character   \n",
       "2            https://w3id.org/icon/ontology/Character   \n",
       "3            https://w3id.org/icon/ontology/Character   \n",
       "4            https://w3id.org/icon/ontology/Character   \n",
       "...                                               ...   \n",
       "41359  https://w3id.org/icon/ontology/Personification   \n",
       "41360  https://w3id.org/icon/ontology/Personification   \n",
       "41361        https://w3id.org/icon/ontology/Character   \n",
       "41362        https://w3id.org/icon/ontology/Character   \n",
       "41363        https://w3id.org/icon/ontology/Character   \n",
       "\n",
       "                               subj3  \\\n",
       "0      http://icondataset.org/CF1040   \n",
       "1      http://icondataset.org/CF1040   \n",
       "2      http://icondataset.org/CF1040   \n",
       "3      http://icondataset.org/CF1040   \n",
       "4      http://icondataset.org/CF1040   \n",
       "...                              ...   \n",
       "41359  http://icondataset.org/CF1097   \n",
       "41360  http://icondataset.org/CF1097   \n",
       "41361  http://icondataset.org/CF1097   \n",
       "41362  http://icondataset.org/CF1097   \n",
       "41363  http://icondataset.org/CF1097   \n",
       "\n",
       "                                                   type3  \n",
       "0      https://w3id.org/icon/ontology/CulturalPhenomenon  \n",
       "1      https://w3id.org/icon/ontology/CulturalPhenomenon  \n",
       "2      https://w3id.org/icon/ontology/CulturalPhenomenon  \n",
       "3      https://w3id.org/icon/ontology/CulturalPhenomenon  \n",
       "4      https://w3id.org/icon/ontology/CulturalPhenomenon  \n",
       "...                                                  ...  \n",
       "41359  https://w3id.org/icon/ontology/CulturalPhenomenon  \n",
       "41360  https://w3id.org/icon/ontology/CulturalPhenomenon  \n",
       "41361  https://w3id.org/icon/ontology/CulturalPhenomenon  \n",
       "41362  https://w3id.org/icon/ontology/CulturalPhenomenon  \n",
       "41363  https://w3id.org/icon/ontology/CulturalPhenomenon  \n",
       "\n",
       "[41364 rows x 7 columns]"
      ]
     },
     "execution_count": 28,
     "metadata": {},
     "output_type": "execute_result"
    }
   ],
   "source": [
    "df_all1 = pd.DataFrame(np.array(tot_art_list2),\n",
    "                   columns=['artwork', 'subj1', 'type1', 'subj2', 'type2', 'subj3', 'type3'])\n",
    "df_all1"
   ]
  },
  {
   "cell_type": "code",
   "execution_count": 29,
   "id": "29b4f2cf",
   "metadata": {},
   "outputs": [],
   "source": [
    "# Some subjects have 2 types (eg material NaturalElement, and Symbol, Simulation). Therefore, the results are repeated. \n",
    "# delete the rows with the second type not needed\n",
    "\n",
    "#df_all1[(df_all1.type1 != \"http://www.cidoc-crm.org/cidoc-crm/E57_Material\")]\n",
    "#df_all1[(df_all1.type2 != \"https://w3id.org/simulation/ontology/Simulation\")]\n",
    "\n",
    "\n",
    "df_all1 = df_all1.drop(df_all1[df_all1.type1 == \"http://www.cidoc-crm.org/cidoc-crm/E57_Material\"].index)\n",
    "df_all1 = df_all1.drop(df_all1[df_all1.type2 == \"https://w3id.org/simulation/ontology/Simulation\"].index)"
   ]
  },
  {
   "cell_type": "code",
   "execution_count": 50,
   "id": "da693f61",
   "metadata": {},
   "outputs": [],
   "source": [
    "# we start the analysis on test_2, counting artworks\n",
    "# first dataframe: counting of artworks with relations from lev 1 to lev 2\n",
    "\n",
    "df_lev1_to_lev2 = df_all1.groupby([\"type1\", \"type2\"])[\"artwork\"].count().reset_index()\n",
    "df_lev1_to_lev2.columns = [\"source\", \"target\", \"value\"]\n",
    "#df_lev1_to_lev2"
   ]
  },
  {
   "cell_type": "code",
   "execution_count": 51,
   "id": "9c824f92",
   "metadata": {},
   "outputs": [],
   "source": [
    "df_lev2_to_lev3 = df_all1.groupby([\"type2\", \"type3\"])[\"artwork\"].count().reset_index()\n",
    "df_lev2_to_lev3.columns = [\"source\", \"target\", \"value\"]\n",
    "#df_lev2_to_lev3"
   ]
  },
  {
   "cell_type": "code",
   "execution_count": 74,
   "id": "3c1e14b1",
   "metadata": {},
   "outputs": [
    {
     "data": {
      "text/html": [
       "<div>\n",
       "<style scoped>\n",
       "    .dataframe tbody tr th:only-of-type {\n",
       "        vertical-align: middle;\n",
       "    }\n",
       "\n",
       "    .dataframe tbody tr th {\n",
       "        vertical-align: top;\n",
       "    }\n",
       "\n",
       "    .dataframe thead th {\n",
       "        text-align: right;\n",
       "    }\n",
       "</style>\n",
       "<table border=\"1\" class=\"dataframe\">\n",
       "  <thead>\n",
       "    <tr style=\"text-align: right;\">\n",
       "      <th></th>\n",
       "      <th>source</th>\n",
       "      <th>target</th>\n",
       "      <th>value</th>\n",
       "    </tr>\n",
       "  </thead>\n",
       "  <tbody>\n",
       "    <tr>\n",
       "      <th>0</th>\n",
       "      <td>https://w3id.org/icon/ontology/Action</td>\n",
       "      <td>http://www.cidoc-crm.org/cidoc-crm/E21_Person</td>\n",
       "      <td>149</td>\n",
       "    </tr>\n",
       "    <tr>\n",
       "      <th>1</th>\n",
       "      <td>https://w3id.org/icon/ontology/Action</td>\n",
       "      <td>https://w3id.org/icon/ontology/Allegory</td>\n",
       "      <td>153</td>\n",
       "    </tr>\n",
       "    <tr>\n",
       "      <th>2</th>\n",
       "      <td>https://w3id.org/icon/ontology/Action</td>\n",
       "      <td>https://w3id.org/icon/ontology/Character</td>\n",
       "      <td>2832</td>\n",
       "    </tr>\n",
       "    <tr>\n",
       "      <th>3</th>\n",
       "      <td>https://w3id.org/icon/ontology/Action</td>\n",
       "      <td>https://w3id.org/icon/ontology/Event</td>\n",
       "      <td>1274</td>\n",
       "    </tr>\n",
       "    <tr>\n",
       "      <th>4</th>\n",
       "      <td>https://w3id.org/icon/ontology/Action</td>\n",
       "      <td>https://w3id.org/icon/ontology/Invenzione</td>\n",
       "      <td>12</td>\n",
       "    </tr>\n",
       "    <tr>\n",
       "      <th>5</th>\n",
       "      <td>https://w3id.org/icon/ontology/Action</td>\n",
       "      <td>https://w3id.org/icon/ontology/NamedObject</td>\n",
       "      <td>173</td>\n",
       "    </tr>\n",
       "    <tr>\n",
       "      <th>6</th>\n",
       "      <td>https://w3id.org/icon/ontology/Action</td>\n",
       "      <td>https://w3id.org/icon/ontology/Personification</td>\n",
       "      <td>805</td>\n",
       "    </tr>\n",
       "    <tr>\n",
       "      <th>7</th>\n",
       "      <td>https://w3id.org/icon/ontology/Action</td>\n",
       "      <td>https://w3id.org/icon/ontology/Place</td>\n",
       "      <td>38</td>\n",
       "    </tr>\n",
       "    <tr>\n",
       "      <th>8</th>\n",
       "      <td>https://w3id.org/icon/ontology/Action</td>\n",
       "      <td>https://w3id.org/icon/ontology/Story</td>\n",
       "      <td>467</td>\n",
       "    </tr>\n",
       "    <tr>\n",
       "      <th>9</th>\n",
       "      <td>https://w3id.org/icon/ontology/Action</td>\n",
       "      <td>https://w3id.org/icon/ontology/Symbol</td>\n",
       "      <td>1685</td>\n",
       "    </tr>\n",
       "    <tr>\n",
       "      <th>10</th>\n",
       "      <td>https://w3id.org/icon/ontology/ExpressionalQua...</td>\n",
       "      <td>http://www.cidoc-crm.org/cidoc-crm/E21_Person</td>\n",
       "      <td>68</td>\n",
       "    </tr>\n",
       "    <tr>\n",
       "      <th>11</th>\n",
       "      <td>https://w3id.org/icon/ontology/ExpressionalQua...</td>\n",
       "      <td>https://w3id.org/icon/ontology/Allegory</td>\n",
       "      <td>32</td>\n",
       "    </tr>\n",
       "    <tr>\n",
       "      <th>12</th>\n",
       "      <td>https://w3id.org/icon/ontology/ExpressionalQua...</td>\n",
       "      <td>https://w3id.org/icon/ontology/Character</td>\n",
       "      <td>953</td>\n",
       "    </tr>\n",
       "    <tr>\n",
       "      <th>13</th>\n",
       "      <td>https://w3id.org/icon/ontology/ExpressionalQua...</td>\n",
       "      <td>https://w3id.org/icon/ontology/Event</td>\n",
       "      <td>558</td>\n",
       "    </tr>\n",
       "    <tr>\n",
       "      <th>14</th>\n",
       "      <td>https://w3id.org/icon/ontology/ExpressionalQua...</td>\n",
       "      <td>https://w3id.org/icon/ontology/Invenzione</td>\n",
       "      <td>2</td>\n",
       "    </tr>\n",
       "    <tr>\n",
       "      <th>15</th>\n",
       "      <td>https://w3id.org/icon/ontology/ExpressionalQua...</td>\n",
       "      <td>https://w3id.org/icon/ontology/NamedObject</td>\n",
       "      <td>44</td>\n",
       "    </tr>\n",
       "    <tr>\n",
       "      <th>16</th>\n",
       "      <td>https://w3id.org/icon/ontology/ExpressionalQua...</td>\n",
       "      <td>https://w3id.org/icon/ontology/Personification</td>\n",
       "      <td>229</td>\n",
       "    </tr>\n",
       "    <tr>\n",
       "      <th>17</th>\n",
       "      <td>https://w3id.org/icon/ontology/ExpressionalQua...</td>\n",
       "      <td>https://w3id.org/icon/ontology/Place</td>\n",
       "      <td>81</td>\n",
       "    </tr>\n",
       "    <tr>\n",
       "      <th>18</th>\n",
       "      <td>https://w3id.org/icon/ontology/ExpressionalQua...</td>\n",
       "      <td>https://w3id.org/icon/ontology/Story</td>\n",
       "      <td>268</td>\n",
       "    </tr>\n",
       "    <tr>\n",
       "      <th>19</th>\n",
       "      <td>https://w3id.org/icon/ontology/ExpressionalQua...</td>\n",
       "      <td>https://w3id.org/icon/ontology/Symbol</td>\n",
       "      <td>446</td>\n",
       "    </tr>\n",
       "    <tr>\n",
       "      <th>20</th>\n",
       "      <td>https://w3id.org/icon/ontology/NaturalElement</td>\n",
       "      <td>http://www.cidoc-crm.org/cidoc-crm/E21_Person</td>\n",
       "      <td>553</td>\n",
       "    </tr>\n",
       "    <tr>\n",
       "      <th>21</th>\n",
       "      <td>https://w3id.org/icon/ontology/NaturalElement</td>\n",
       "      <td>https://w3id.org/icon/ontology/Allegory</td>\n",
       "      <td>433</td>\n",
       "    </tr>\n",
       "    <tr>\n",
       "      <th>22</th>\n",
       "      <td>https://w3id.org/icon/ontology/NaturalElement</td>\n",
       "      <td>https://w3id.org/icon/ontology/Character</td>\n",
       "      <td>8493</td>\n",
       "    </tr>\n",
       "    <tr>\n",
       "      <th>23</th>\n",
       "      <td>https://w3id.org/icon/ontology/NaturalElement</td>\n",
       "      <td>https://w3id.org/icon/ontology/Event</td>\n",
       "      <td>3140</td>\n",
       "    </tr>\n",
       "    <tr>\n",
       "      <th>24</th>\n",
       "      <td>https://w3id.org/icon/ontology/NaturalElement</td>\n",
       "      <td>https://w3id.org/icon/ontology/Invenzione</td>\n",
       "      <td>34</td>\n",
       "    </tr>\n",
       "    <tr>\n",
       "      <th>25</th>\n",
       "      <td>https://w3id.org/icon/ontology/NaturalElement</td>\n",
       "      <td>https://w3id.org/icon/ontology/NamedObject</td>\n",
       "      <td>812</td>\n",
       "    </tr>\n",
       "    <tr>\n",
       "      <th>26</th>\n",
       "      <td>https://w3id.org/icon/ontology/NaturalElement</td>\n",
       "      <td>https://w3id.org/icon/ontology/Personification</td>\n",
       "      <td>2914</td>\n",
       "    </tr>\n",
       "    <tr>\n",
       "      <th>27</th>\n",
       "      <td>https://w3id.org/icon/ontology/NaturalElement</td>\n",
       "      <td>https://w3id.org/icon/ontology/Place</td>\n",
       "      <td>157</td>\n",
       "    </tr>\n",
       "    <tr>\n",
       "      <th>28</th>\n",
       "      <td>https://w3id.org/icon/ontology/NaturalElement</td>\n",
       "      <td>https://w3id.org/icon/ontology/Story</td>\n",
       "      <td>1204</td>\n",
       "    </tr>\n",
       "    <tr>\n",
       "      <th>29</th>\n",
       "      <td>https://w3id.org/icon/ontology/NaturalElement</td>\n",
       "      <td>https://w3id.org/icon/ontology/Symbol</td>\n",
       "      <td>5730</td>\n",
       "    </tr>\n",
       "    <tr>\n",
       "      <th>0</th>\n",
       "      <td>http://www.cidoc-crm.org/cidoc-crm/E21_Person</td>\n",
       "      <td>http://www.cidoc-crm.org/cidoc-crm/E28_Concept...</td>\n",
       "      <td>163</td>\n",
       "    </tr>\n",
       "    <tr>\n",
       "      <th>1</th>\n",
       "      <td>http://www.cidoc-crm.org/cidoc-crm/E21_Person</td>\n",
       "      <td>https://w3id.org/icon/ontology/CulturalPhenomenon</td>\n",
       "      <td>607</td>\n",
       "    </tr>\n",
       "    <tr>\n",
       "      <th>2</th>\n",
       "      <td>https://w3id.org/icon/ontology/Allegory</td>\n",
       "      <td>http://www.cidoc-crm.org/cidoc-crm/E28_Concept...</td>\n",
       "      <td>86</td>\n",
       "    </tr>\n",
       "    <tr>\n",
       "      <th>3</th>\n",
       "      <td>https://w3id.org/icon/ontology/Allegory</td>\n",
       "      <td>https://w3id.org/icon/ontology/CulturalPhenomenon</td>\n",
       "      <td>532</td>\n",
       "    </tr>\n",
       "    <tr>\n",
       "      <th>4</th>\n",
       "      <td>https://w3id.org/icon/ontology/Character</td>\n",
       "      <td>http://www.cidoc-crm.org/cidoc-crm/E28_Concept...</td>\n",
       "      <td>1089</td>\n",
       "    </tr>\n",
       "    <tr>\n",
       "      <th>5</th>\n",
       "      <td>https://w3id.org/icon/ontology/Character</td>\n",
       "      <td>https://w3id.org/icon/ontology/CulturalPhenomenon</td>\n",
       "      <td>11189</td>\n",
       "    </tr>\n",
       "    <tr>\n",
       "      <th>6</th>\n",
       "      <td>https://w3id.org/icon/ontology/Event</td>\n",
       "      <td>http://www.cidoc-crm.org/cidoc-crm/E28_Concept...</td>\n",
       "      <td>196</td>\n",
       "    </tr>\n",
       "    <tr>\n",
       "      <th>7</th>\n",
       "      <td>https://w3id.org/icon/ontology/Event</td>\n",
       "      <td>https://w3id.org/icon/ontology/CulturalPhenomenon</td>\n",
       "      <td>4776</td>\n",
       "    </tr>\n",
       "    <tr>\n",
       "      <th>8</th>\n",
       "      <td>https://w3id.org/icon/ontology/Invenzione</td>\n",
       "      <td>https://w3id.org/icon/ontology/CulturalPhenomenon</td>\n",
       "      <td>48</td>\n",
       "    </tr>\n",
       "    <tr>\n",
       "      <th>9</th>\n",
       "      <td>https://w3id.org/icon/ontology/NamedObject</td>\n",
       "      <td>http://www.cidoc-crm.org/cidoc-crm/E28_Concept...</td>\n",
       "      <td>220</td>\n",
       "    </tr>\n",
       "    <tr>\n",
       "      <th>10</th>\n",
       "      <td>https://w3id.org/icon/ontology/NamedObject</td>\n",
       "      <td>https://w3id.org/icon/ontology/CulturalPhenomenon</td>\n",
       "      <td>809</td>\n",
       "    </tr>\n",
       "    <tr>\n",
       "      <th>11</th>\n",
       "      <td>https://w3id.org/icon/ontology/Personification</td>\n",
       "      <td>http://www.cidoc-crm.org/cidoc-crm/E28_Concept...</td>\n",
       "      <td>275</td>\n",
       "    </tr>\n",
       "    <tr>\n",
       "      <th>12</th>\n",
       "      <td>https://w3id.org/icon/ontology/Personification</td>\n",
       "      <td>https://w3id.org/icon/ontology/CulturalPhenomenon</td>\n",
       "      <td>3673</td>\n",
       "    </tr>\n",
       "    <tr>\n",
       "      <th>13</th>\n",
       "      <td>https://w3id.org/icon/ontology/Place</td>\n",
       "      <td>http://www.cidoc-crm.org/cidoc-crm/E28_Concept...</td>\n",
       "      <td>12</td>\n",
       "    </tr>\n",
       "    <tr>\n",
       "      <th>14</th>\n",
       "      <td>https://w3id.org/icon/ontology/Place</td>\n",
       "      <td>https://w3id.org/icon/ontology/CulturalPhenomenon</td>\n",
       "      <td>264</td>\n",
       "    </tr>\n",
       "    <tr>\n",
       "      <th>15</th>\n",
       "      <td>https://w3id.org/icon/ontology/Story</td>\n",
       "      <td>http://www.cidoc-crm.org/cidoc-crm/E28_Concept...</td>\n",
       "      <td>142</td>\n",
       "    </tr>\n",
       "    <tr>\n",
       "      <th>16</th>\n",
       "      <td>https://w3id.org/icon/ontology/Story</td>\n",
       "      <td>https://w3id.org/icon/ontology/CulturalPhenomenon</td>\n",
       "      <td>1797</td>\n",
       "    </tr>\n",
       "    <tr>\n",
       "      <th>17</th>\n",
       "      <td>https://w3id.org/icon/ontology/Symbol</td>\n",
       "      <td>http://www.cidoc-crm.org/cidoc-crm/E28_Concept...</td>\n",
       "      <td>1295</td>\n",
       "    </tr>\n",
       "    <tr>\n",
       "      <th>18</th>\n",
       "      <td>https://w3id.org/icon/ontology/Symbol</td>\n",
       "      <td>https://w3id.org/icon/ontology/CulturalPhenomenon</td>\n",
       "      <td>6566</td>\n",
       "    </tr>\n",
       "  </tbody>\n",
       "</table>\n",
       "</div>"
      ],
      "text/plain": [
       "                                               source  \\\n",
       "0               https://w3id.org/icon/ontology/Action   \n",
       "1               https://w3id.org/icon/ontology/Action   \n",
       "2               https://w3id.org/icon/ontology/Action   \n",
       "3               https://w3id.org/icon/ontology/Action   \n",
       "4               https://w3id.org/icon/ontology/Action   \n",
       "5               https://w3id.org/icon/ontology/Action   \n",
       "6               https://w3id.org/icon/ontology/Action   \n",
       "7               https://w3id.org/icon/ontology/Action   \n",
       "8               https://w3id.org/icon/ontology/Action   \n",
       "9               https://w3id.org/icon/ontology/Action   \n",
       "10  https://w3id.org/icon/ontology/ExpressionalQua...   \n",
       "11  https://w3id.org/icon/ontology/ExpressionalQua...   \n",
       "12  https://w3id.org/icon/ontology/ExpressionalQua...   \n",
       "13  https://w3id.org/icon/ontology/ExpressionalQua...   \n",
       "14  https://w3id.org/icon/ontology/ExpressionalQua...   \n",
       "15  https://w3id.org/icon/ontology/ExpressionalQua...   \n",
       "16  https://w3id.org/icon/ontology/ExpressionalQua...   \n",
       "17  https://w3id.org/icon/ontology/ExpressionalQua...   \n",
       "18  https://w3id.org/icon/ontology/ExpressionalQua...   \n",
       "19  https://w3id.org/icon/ontology/ExpressionalQua...   \n",
       "20      https://w3id.org/icon/ontology/NaturalElement   \n",
       "21      https://w3id.org/icon/ontology/NaturalElement   \n",
       "22      https://w3id.org/icon/ontology/NaturalElement   \n",
       "23      https://w3id.org/icon/ontology/NaturalElement   \n",
       "24      https://w3id.org/icon/ontology/NaturalElement   \n",
       "25      https://w3id.org/icon/ontology/NaturalElement   \n",
       "26      https://w3id.org/icon/ontology/NaturalElement   \n",
       "27      https://w3id.org/icon/ontology/NaturalElement   \n",
       "28      https://w3id.org/icon/ontology/NaturalElement   \n",
       "29      https://w3id.org/icon/ontology/NaturalElement   \n",
       "0       http://www.cidoc-crm.org/cidoc-crm/E21_Person   \n",
       "1       http://www.cidoc-crm.org/cidoc-crm/E21_Person   \n",
       "2             https://w3id.org/icon/ontology/Allegory   \n",
       "3             https://w3id.org/icon/ontology/Allegory   \n",
       "4            https://w3id.org/icon/ontology/Character   \n",
       "5            https://w3id.org/icon/ontology/Character   \n",
       "6                https://w3id.org/icon/ontology/Event   \n",
       "7                https://w3id.org/icon/ontology/Event   \n",
       "8           https://w3id.org/icon/ontology/Invenzione   \n",
       "9          https://w3id.org/icon/ontology/NamedObject   \n",
       "10         https://w3id.org/icon/ontology/NamedObject   \n",
       "11     https://w3id.org/icon/ontology/Personification   \n",
       "12     https://w3id.org/icon/ontology/Personification   \n",
       "13               https://w3id.org/icon/ontology/Place   \n",
       "14               https://w3id.org/icon/ontology/Place   \n",
       "15               https://w3id.org/icon/ontology/Story   \n",
       "16               https://w3id.org/icon/ontology/Story   \n",
       "17              https://w3id.org/icon/ontology/Symbol   \n",
       "18              https://w3id.org/icon/ontology/Symbol   \n",
       "\n",
       "                                               target  value  \n",
       "0       http://www.cidoc-crm.org/cidoc-crm/E21_Person    149  \n",
       "1             https://w3id.org/icon/ontology/Allegory    153  \n",
       "2            https://w3id.org/icon/ontology/Character   2832  \n",
       "3                https://w3id.org/icon/ontology/Event   1274  \n",
       "4           https://w3id.org/icon/ontology/Invenzione     12  \n",
       "5          https://w3id.org/icon/ontology/NamedObject    173  \n",
       "6      https://w3id.org/icon/ontology/Personification    805  \n",
       "7                https://w3id.org/icon/ontology/Place     38  \n",
       "8                https://w3id.org/icon/ontology/Story    467  \n",
       "9               https://w3id.org/icon/ontology/Symbol   1685  \n",
       "10      http://www.cidoc-crm.org/cidoc-crm/E21_Person     68  \n",
       "11            https://w3id.org/icon/ontology/Allegory     32  \n",
       "12           https://w3id.org/icon/ontology/Character    953  \n",
       "13               https://w3id.org/icon/ontology/Event    558  \n",
       "14          https://w3id.org/icon/ontology/Invenzione      2  \n",
       "15         https://w3id.org/icon/ontology/NamedObject     44  \n",
       "16     https://w3id.org/icon/ontology/Personification    229  \n",
       "17               https://w3id.org/icon/ontology/Place     81  \n",
       "18               https://w3id.org/icon/ontology/Story    268  \n",
       "19              https://w3id.org/icon/ontology/Symbol    446  \n",
       "20      http://www.cidoc-crm.org/cidoc-crm/E21_Person    553  \n",
       "21            https://w3id.org/icon/ontology/Allegory    433  \n",
       "22           https://w3id.org/icon/ontology/Character   8493  \n",
       "23               https://w3id.org/icon/ontology/Event   3140  \n",
       "24          https://w3id.org/icon/ontology/Invenzione     34  \n",
       "25         https://w3id.org/icon/ontology/NamedObject    812  \n",
       "26     https://w3id.org/icon/ontology/Personification   2914  \n",
       "27               https://w3id.org/icon/ontology/Place    157  \n",
       "28               https://w3id.org/icon/ontology/Story   1204  \n",
       "29              https://w3id.org/icon/ontology/Symbol   5730  \n",
       "0   http://www.cidoc-crm.org/cidoc-crm/E28_Concept...    163  \n",
       "1   https://w3id.org/icon/ontology/CulturalPhenomenon    607  \n",
       "2   http://www.cidoc-crm.org/cidoc-crm/E28_Concept...     86  \n",
       "3   https://w3id.org/icon/ontology/CulturalPhenomenon    532  \n",
       "4   http://www.cidoc-crm.org/cidoc-crm/E28_Concept...   1089  \n",
       "5   https://w3id.org/icon/ontology/CulturalPhenomenon  11189  \n",
       "6   http://www.cidoc-crm.org/cidoc-crm/E28_Concept...    196  \n",
       "7   https://w3id.org/icon/ontology/CulturalPhenomenon   4776  \n",
       "8   https://w3id.org/icon/ontology/CulturalPhenomenon     48  \n",
       "9   http://www.cidoc-crm.org/cidoc-crm/E28_Concept...    220  \n",
       "10  https://w3id.org/icon/ontology/CulturalPhenomenon    809  \n",
       "11  http://www.cidoc-crm.org/cidoc-crm/E28_Concept...    275  \n",
       "12  https://w3id.org/icon/ontology/CulturalPhenomenon   3673  \n",
       "13  http://www.cidoc-crm.org/cidoc-crm/E28_Concept...     12  \n",
       "14  https://w3id.org/icon/ontology/CulturalPhenomenon    264  \n",
       "15  http://www.cidoc-crm.org/cidoc-crm/E28_Concept...    142  \n",
       "16  https://w3id.org/icon/ontology/CulturalPhenomenon   1797  \n",
       "17  http://www.cidoc-crm.org/cidoc-crm/E28_Concept...   1295  \n",
       "18  https://w3id.org/icon/ontology/CulturalPhenomenon   6566  "
      ]
     },
     "execution_count": 74,
     "metadata": {},
     "output_type": "execute_result"
    }
   ],
   "source": [
    "# merge the two df\n",
    "links = pd.concat([df_lev1_to_lev2, df_lev2_to_lev3], axis=0)\n",
    "links"
   ]
  },
  {
   "cell_type": "code",
   "execution_count": 69,
   "id": "617504d9",
   "metadata": {},
   "outputs": [
    {
     "data": {
      "text/plain": [
       "{'https://w3id.org/icon/ontology/Action': 'Action',\n",
       " 'https://w3id.org/icon/ontology/ExpressionalQuality': 'ExpressionalQuality',\n",
       " 'https://w3id.org/icon/ontology/NaturalElement': 'NaturalElement',\n",
       " 'http://www.cidoc-crm.org/cidoc-crm/E21_Person': 'E21_Person',\n",
       " 'https://w3id.org/icon/ontology/Allegory': 'Allegory',\n",
       " 'https://w3id.org/icon/ontology/Character': 'Character',\n",
       " 'https://w3id.org/icon/ontology/Event': 'Event',\n",
       " 'https://w3id.org/icon/ontology/Invenzione': 'Invenzione',\n",
       " 'https://w3id.org/icon/ontology/NamedObject': 'NamedObject',\n",
       " 'https://w3id.org/icon/ontology/Personification': 'Personification',\n",
       " 'https://w3id.org/icon/ontology/Place': 'Place',\n",
       " 'https://w3id.org/icon/ontology/Story': 'Story',\n",
       " 'https://w3id.org/icon/ontology/Symbol': 'Symbol',\n",
       " 'http://www.cidoc-crm.org/cidoc-crm/E28_Conceptual_Object': 'E28_Conceptual_Object',\n",
       " 'https://w3id.org/icon/ontology/CulturalPhenomenon': 'CulturalPhenomenon'}"
      ]
     },
     "execution_count": 69,
     "metadata": {},
     "output_type": "execute_result"
    }
   ],
   "source": [
    "# replace with labels\n",
    "#unique_source_target_all = list(pd.unique(links[[\"source\", \"target\"]].values.ravel(\"K\")))\n",
    "label_dict = {}\n",
    "unique_source_target = list(pd.unique(links[[\"source\", \"target\"]].values.ravel(\"K\")))\n",
    "for unique in unique_source_target: \n",
    "    if unique.startswith(\"https://w3id.org/icon/ontology/\"): \n",
    "        name = unique.replace(\"https://w3id.org/icon/ontology/\", \"\")\n",
    "    elif unique.startswith(\"http://www.cidoc-crm.org/cidoc-crm/\"): \n",
    "        name = unique.replace(\"http://www.cidoc-crm.org/cidoc-crm/\", \"\")\n",
    "    label_dict[unique] = name\n",
    "label_dict \n"
   ]
  },
  {
   "cell_type": "code",
   "execution_count": 64,
   "id": "e79ff92e",
   "metadata": {},
   "outputs": [
    {
     "data": {
      "text/plain": [
       "['https://w3id.org/icon/ontology/Action',\n",
       " 'https://w3id.org/icon/ontology/ExpressionalQuality',\n",
       " 'https://w3id.org/icon/ontology/NaturalElement',\n",
       " 'http://www.cidoc-crm.org/cidoc-crm/E21_Person',\n",
       " 'https://w3id.org/icon/ontology/Allegory',\n",
       " 'https://w3id.org/icon/ontology/Character',\n",
       " 'https://w3id.org/icon/ontology/Event',\n",
       " 'https://w3id.org/icon/ontology/Invenzione',\n",
       " 'https://w3id.org/icon/ontology/NamedObject',\n",
       " 'https://w3id.org/icon/ontology/Personification',\n",
       " 'https://w3id.org/icon/ontology/Place',\n",
       " 'https://w3id.org/icon/ontology/Story',\n",
       " 'https://w3id.org/icon/ontology/Symbol',\n",
       " 'http://www.cidoc-crm.org/cidoc-crm/E28_Conceptual_Object',\n",
       " 'https://w3id.org/icon/ontology/CulturalPhenomenon']"
      ]
     },
     "execution_count": 64,
     "metadata": {},
     "output_type": "execute_result"
    }
   ],
   "source": [
    "unique_source_target"
   ]
  },
  {
   "cell_type": "code",
   "execution_count": 75,
   "id": "e83bb5d3",
   "metadata": {
    "scrolled": true
   },
   "outputs": [
    {
     "data": {
      "text/html": [
       "<div>\n",
       "<style scoped>\n",
       "    .dataframe tbody tr th:only-of-type {\n",
       "        vertical-align: middle;\n",
       "    }\n",
       "\n",
       "    .dataframe tbody tr th {\n",
       "        vertical-align: top;\n",
       "    }\n",
       "\n",
       "    .dataframe thead th {\n",
       "        text-align: right;\n",
       "    }\n",
       "</style>\n",
       "<table border=\"1\" class=\"dataframe\">\n",
       "  <thead>\n",
       "    <tr style=\"text-align: right;\">\n",
       "      <th></th>\n",
       "      <th>source</th>\n",
       "      <th>target</th>\n",
       "      <th>value</th>\n",
       "    </tr>\n",
       "  </thead>\n",
       "  <tbody>\n",
       "    <tr>\n",
       "      <th>0</th>\n",
       "      <td>Action</td>\n",
       "      <td>E21_Person</td>\n",
       "      <td>149</td>\n",
       "    </tr>\n",
       "    <tr>\n",
       "      <th>1</th>\n",
       "      <td>Action</td>\n",
       "      <td>Allegory</td>\n",
       "      <td>153</td>\n",
       "    </tr>\n",
       "    <tr>\n",
       "      <th>2</th>\n",
       "      <td>Action</td>\n",
       "      <td>Character</td>\n",
       "      <td>2832</td>\n",
       "    </tr>\n",
       "    <tr>\n",
       "      <th>3</th>\n",
       "      <td>Action</td>\n",
       "      <td>Event</td>\n",
       "      <td>1274</td>\n",
       "    </tr>\n",
       "    <tr>\n",
       "      <th>4</th>\n",
       "      <td>Action</td>\n",
       "      <td>Invenzione</td>\n",
       "      <td>12</td>\n",
       "    </tr>\n",
       "    <tr>\n",
       "      <th>5</th>\n",
       "      <td>Action</td>\n",
       "      <td>NamedObject</td>\n",
       "      <td>173</td>\n",
       "    </tr>\n",
       "    <tr>\n",
       "      <th>6</th>\n",
       "      <td>Action</td>\n",
       "      <td>Personification</td>\n",
       "      <td>805</td>\n",
       "    </tr>\n",
       "    <tr>\n",
       "      <th>7</th>\n",
       "      <td>Action</td>\n",
       "      <td>Place</td>\n",
       "      <td>38</td>\n",
       "    </tr>\n",
       "    <tr>\n",
       "      <th>8</th>\n",
       "      <td>Action</td>\n",
       "      <td>Story</td>\n",
       "      <td>467</td>\n",
       "    </tr>\n",
       "    <tr>\n",
       "      <th>9</th>\n",
       "      <td>Action</td>\n",
       "      <td>Symbol</td>\n",
       "      <td>1685</td>\n",
       "    </tr>\n",
       "    <tr>\n",
       "      <th>10</th>\n",
       "      <td>ExpressionalQuality</td>\n",
       "      <td>E21_Person</td>\n",
       "      <td>68</td>\n",
       "    </tr>\n",
       "    <tr>\n",
       "      <th>11</th>\n",
       "      <td>ExpressionalQuality</td>\n",
       "      <td>Allegory</td>\n",
       "      <td>32</td>\n",
       "    </tr>\n",
       "    <tr>\n",
       "      <th>12</th>\n",
       "      <td>ExpressionalQuality</td>\n",
       "      <td>Character</td>\n",
       "      <td>953</td>\n",
       "    </tr>\n",
       "    <tr>\n",
       "      <th>13</th>\n",
       "      <td>ExpressionalQuality</td>\n",
       "      <td>Event</td>\n",
       "      <td>558</td>\n",
       "    </tr>\n",
       "    <tr>\n",
       "      <th>14</th>\n",
       "      <td>ExpressionalQuality</td>\n",
       "      <td>Invenzione</td>\n",
       "      <td>2</td>\n",
       "    </tr>\n",
       "    <tr>\n",
       "      <th>15</th>\n",
       "      <td>ExpressionalQuality</td>\n",
       "      <td>NamedObject</td>\n",
       "      <td>44</td>\n",
       "    </tr>\n",
       "    <tr>\n",
       "      <th>16</th>\n",
       "      <td>ExpressionalQuality</td>\n",
       "      <td>Personification</td>\n",
       "      <td>229</td>\n",
       "    </tr>\n",
       "    <tr>\n",
       "      <th>17</th>\n",
       "      <td>ExpressionalQuality</td>\n",
       "      <td>Place</td>\n",
       "      <td>81</td>\n",
       "    </tr>\n",
       "    <tr>\n",
       "      <th>18</th>\n",
       "      <td>ExpressionalQuality</td>\n",
       "      <td>Story</td>\n",
       "      <td>268</td>\n",
       "    </tr>\n",
       "    <tr>\n",
       "      <th>19</th>\n",
       "      <td>ExpressionalQuality</td>\n",
       "      <td>Symbol</td>\n",
       "      <td>446</td>\n",
       "    </tr>\n",
       "    <tr>\n",
       "      <th>20</th>\n",
       "      <td>NaturalElement</td>\n",
       "      <td>E21_Person</td>\n",
       "      <td>553</td>\n",
       "    </tr>\n",
       "    <tr>\n",
       "      <th>21</th>\n",
       "      <td>NaturalElement</td>\n",
       "      <td>Allegory</td>\n",
       "      <td>433</td>\n",
       "    </tr>\n",
       "    <tr>\n",
       "      <th>22</th>\n",
       "      <td>NaturalElement</td>\n",
       "      <td>Character</td>\n",
       "      <td>8493</td>\n",
       "    </tr>\n",
       "    <tr>\n",
       "      <th>23</th>\n",
       "      <td>NaturalElement</td>\n",
       "      <td>Event</td>\n",
       "      <td>3140</td>\n",
       "    </tr>\n",
       "    <tr>\n",
       "      <th>24</th>\n",
       "      <td>NaturalElement</td>\n",
       "      <td>Invenzione</td>\n",
       "      <td>34</td>\n",
       "    </tr>\n",
       "    <tr>\n",
       "      <th>25</th>\n",
       "      <td>NaturalElement</td>\n",
       "      <td>NamedObject</td>\n",
       "      <td>812</td>\n",
       "    </tr>\n",
       "    <tr>\n",
       "      <th>26</th>\n",
       "      <td>NaturalElement</td>\n",
       "      <td>Personification</td>\n",
       "      <td>2914</td>\n",
       "    </tr>\n",
       "    <tr>\n",
       "      <th>27</th>\n",
       "      <td>NaturalElement</td>\n",
       "      <td>Place</td>\n",
       "      <td>157</td>\n",
       "    </tr>\n",
       "    <tr>\n",
       "      <th>28</th>\n",
       "      <td>NaturalElement</td>\n",
       "      <td>Story</td>\n",
       "      <td>1204</td>\n",
       "    </tr>\n",
       "    <tr>\n",
       "      <th>29</th>\n",
       "      <td>NaturalElement</td>\n",
       "      <td>Symbol</td>\n",
       "      <td>5730</td>\n",
       "    </tr>\n",
       "    <tr>\n",
       "      <th>0</th>\n",
       "      <td>E21_Person</td>\n",
       "      <td>E28_Conceptual_Object</td>\n",
       "      <td>163</td>\n",
       "    </tr>\n",
       "    <tr>\n",
       "      <th>1</th>\n",
       "      <td>E21_Person</td>\n",
       "      <td>CulturalPhenomenon</td>\n",
       "      <td>607</td>\n",
       "    </tr>\n",
       "    <tr>\n",
       "      <th>2</th>\n",
       "      <td>Allegory</td>\n",
       "      <td>E28_Conceptual_Object</td>\n",
       "      <td>86</td>\n",
       "    </tr>\n",
       "    <tr>\n",
       "      <th>3</th>\n",
       "      <td>Allegory</td>\n",
       "      <td>CulturalPhenomenon</td>\n",
       "      <td>532</td>\n",
       "    </tr>\n",
       "    <tr>\n",
       "      <th>4</th>\n",
       "      <td>Character</td>\n",
       "      <td>E28_Conceptual_Object</td>\n",
       "      <td>1089</td>\n",
       "    </tr>\n",
       "    <tr>\n",
       "      <th>5</th>\n",
       "      <td>Character</td>\n",
       "      <td>CulturalPhenomenon</td>\n",
       "      <td>11189</td>\n",
       "    </tr>\n",
       "    <tr>\n",
       "      <th>6</th>\n",
       "      <td>Event</td>\n",
       "      <td>E28_Conceptual_Object</td>\n",
       "      <td>196</td>\n",
       "    </tr>\n",
       "    <tr>\n",
       "      <th>7</th>\n",
       "      <td>Event</td>\n",
       "      <td>CulturalPhenomenon</td>\n",
       "      <td>4776</td>\n",
       "    </tr>\n",
       "    <tr>\n",
       "      <th>8</th>\n",
       "      <td>Invenzione</td>\n",
       "      <td>CulturalPhenomenon</td>\n",
       "      <td>48</td>\n",
       "    </tr>\n",
       "    <tr>\n",
       "      <th>9</th>\n",
       "      <td>NamedObject</td>\n",
       "      <td>E28_Conceptual_Object</td>\n",
       "      <td>220</td>\n",
       "    </tr>\n",
       "    <tr>\n",
       "      <th>10</th>\n",
       "      <td>NamedObject</td>\n",
       "      <td>CulturalPhenomenon</td>\n",
       "      <td>809</td>\n",
       "    </tr>\n",
       "    <tr>\n",
       "      <th>11</th>\n",
       "      <td>Personification</td>\n",
       "      <td>E28_Conceptual_Object</td>\n",
       "      <td>275</td>\n",
       "    </tr>\n",
       "    <tr>\n",
       "      <th>12</th>\n",
       "      <td>Personification</td>\n",
       "      <td>CulturalPhenomenon</td>\n",
       "      <td>3673</td>\n",
       "    </tr>\n",
       "    <tr>\n",
       "      <th>13</th>\n",
       "      <td>Place</td>\n",
       "      <td>E28_Conceptual_Object</td>\n",
       "      <td>12</td>\n",
       "    </tr>\n",
       "    <tr>\n",
       "      <th>14</th>\n",
       "      <td>Place</td>\n",
       "      <td>CulturalPhenomenon</td>\n",
       "      <td>264</td>\n",
       "    </tr>\n",
       "    <tr>\n",
       "      <th>15</th>\n",
       "      <td>Story</td>\n",
       "      <td>E28_Conceptual_Object</td>\n",
       "      <td>142</td>\n",
       "    </tr>\n",
       "    <tr>\n",
       "      <th>16</th>\n",
       "      <td>Story</td>\n",
       "      <td>CulturalPhenomenon</td>\n",
       "      <td>1797</td>\n",
       "    </tr>\n",
       "    <tr>\n",
       "      <th>17</th>\n",
       "      <td>Symbol</td>\n",
       "      <td>E28_Conceptual_Object</td>\n",
       "      <td>1295</td>\n",
       "    </tr>\n",
       "    <tr>\n",
       "      <th>18</th>\n",
       "      <td>Symbol</td>\n",
       "      <td>CulturalPhenomenon</td>\n",
       "      <td>6566</td>\n",
       "    </tr>\n",
       "  </tbody>\n",
       "</table>\n",
       "</div>"
      ],
      "text/plain": [
       "                 source                 target  value\n",
       "0                Action             E21_Person    149\n",
       "1                Action               Allegory    153\n",
       "2                Action              Character   2832\n",
       "3                Action                  Event   1274\n",
       "4                Action             Invenzione     12\n",
       "5                Action            NamedObject    173\n",
       "6                Action        Personification    805\n",
       "7                Action                  Place     38\n",
       "8                Action                  Story    467\n",
       "9                Action                 Symbol   1685\n",
       "10  ExpressionalQuality             E21_Person     68\n",
       "11  ExpressionalQuality               Allegory     32\n",
       "12  ExpressionalQuality              Character    953\n",
       "13  ExpressionalQuality                  Event    558\n",
       "14  ExpressionalQuality             Invenzione      2\n",
       "15  ExpressionalQuality            NamedObject     44\n",
       "16  ExpressionalQuality        Personification    229\n",
       "17  ExpressionalQuality                  Place     81\n",
       "18  ExpressionalQuality                  Story    268\n",
       "19  ExpressionalQuality                 Symbol    446\n",
       "20       NaturalElement             E21_Person    553\n",
       "21       NaturalElement               Allegory    433\n",
       "22       NaturalElement              Character   8493\n",
       "23       NaturalElement                  Event   3140\n",
       "24       NaturalElement             Invenzione     34\n",
       "25       NaturalElement            NamedObject    812\n",
       "26       NaturalElement        Personification   2914\n",
       "27       NaturalElement                  Place    157\n",
       "28       NaturalElement                  Story   1204\n",
       "29       NaturalElement                 Symbol   5730\n",
       "0            E21_Person  E28_Conceptual_Object    163\n",
       "1            E21_Person     CulturalPhenomenon    607\n",
       "2              Allegory  E28_Conceptual_Object     86\n",
       "3              Allegory     CulturalPhenomenon    532\n",
       "4             Character  E28_Conceptual_Object   1089\n",
       "5             Character     CulturalPhenomenon  11189\n",
       "6                 Event  E28_Conceptual_Object    196\n",
       "7                 Event     CulturalPhenomenon   4776\n",
       "8            Invenzione     CulturalPhenomenon     48\n",
       "9           NamedObject  E28_Conceptual_Object    220\n",
       "10          NamedObject     CulturalPhenomenon    809\n",
       "11      Personification  E28_Conceptual_Object    275\n",
       "12      Personification     CulturalPhenomenon   3673\n",
       "13                Place  E28_Conceptual_Object     12\n",
       "14                Place     CulturalPhenomenon    264\n",
       "15                Story  E28_Conceptual_Object    142\n",
       "16                Story     CulturalPhenomenon   1797\n",
       "17               Symbol  E28_Conceptual_Object   1295\n",
       "18               Symbol     CulturalPhenomenon   6566"
      ]
     },
     "execution_count": 75,
     "metadata": {},
     "output_type": "execute_result"
    }
   ],
   "source": [
    "# we replace the uris with the labels\n",
    "links2=links.replace({\"source\": label_dict})\n",
    "links3=links2.replace({\"target\": label_dict})\n",
    "links3"
   ]
  },
  {
   "cell_type": "code",
   "execution_count": 76,
   "id": "9ec498b9",
   "metadata": {},
   "outputs": [],
   "source": [
    "unique_source_target_all = list(pd.unique(links3[[\"source\", \"target\"]].values.ravel(\"K\")))"
   ]
  },
  {
   "cell_type": "code",
   "execution_count": 77,
   "id": "d06b4308",
   "metadata": {
    "scrolled": true
   },
   "outputs": [
    {
     "data": {
      "application/vnd.plotly.v1+json": {
       "config": {
        "plotlyServerURL": "https://plot.ly"
       },
       "data": [
        {
         "link": {
          "source": [
           0,
           0,
           0,
           0,
           0,
           0,
           0,
           0,
           0,
           0,
           1,
           1,
           1,
           1,
           1,
           1,
           1,
           1,
           1,
           1,
           2,
           2,
           2,
           2,
           2,
           2,
           2,
           2,
           2,
           2,
           3,
           3,
           4,
           4,
           5,
           5,
           6,
           6,
           7,
           8,
           8,
           9,
           9,
           10,
           10,
           11,
           11,
           12,
           12
          ],
          "target": [
           3,
           4,
           5,
           6,
           7,
           8,
           9,
           10,
           11,
           12,
           3,
           4,
           5,
           6,
           7,
           8,
           9,
           10,
           11,
           12,
           3,
           4,
           5,
           6,
           7,
           8,
           9,
           10,
           11,
           12,
           13,
           14,
           13,
           14,
           13,
           14,
           13,
           14,
           14,
           13,
           14,
           13,
           14,
           13,
           14,
           13,
           14,
           13,
           14
          ],
          "value": [
           149,
           153,
           2832,
           1274,
           12,
           173,
           805,
           38,
           467,
           1685,
           68,
           32,
           953,
           558,
           2,
           44,
           229,
           81,
           268,
           446,
           553,
           433,
           8493,
           3140,
           34,
           812,
           2914,
           157,
           1204,
           5730,
           163,
           607,
           86,
           532,
           1089,
           11189,
           196,
           4776,
           48,
           220,
           809,
           275,
           3673,
           12,
           264,
           142,
           1797,
           1295,
           6566
          ]
         },
         "node": {
          "color": "blue",
          "label": [
           "Action",
           "ExpressionalQuality",
           "NaturalElement",
           "E21_Person",
           "Allegory",
           "Character",
           "Event",
           "Invenzione",
           "NamedObject",
           "Personification",
           "Place",
           "Story",
           "Symbol",
           "E28_Conceptual_Object",
           "CulturalPhenomenon"
          ],
          "line": {
           "color": "black",
           "width": 0.5
          },
          "pad": 15,
          "thickness": 20
         },
         "type": "sankey"
        }
       ],
       "layout": {
        "font": {
         "size": 10
        },
        "template": {
         "data": {
          "bar": [
           {
            "error_x": {
             "color": "#2a3f5f"
            },
            "error_y": {
             "color": "#2a3f5f"
            },
            "marker": {
             "line": {
              "color": "#E5ECF6",
              "width": 0.5
             },
             "pattern": {
              "fillmode": "overlay",
              "size": 10,
              "solidity": 0.2
             }
            },
            "type": "bar"
           }
          ],
          "barpolar": [
           {
            "marker": {
             "line": {
              "color": "#E5ECF6",
              "width": 0.5
             },
             "pattern": {
              "fillmode": "overlay",
              "size": 10,
              "solidity": 0.2
             }
            },
            "type": "barpolar"
           }
          ],
          "carpet": [
           {
            "aaxis": {
             "endlinecolor": "#2a3f5f",
             "gridcolor": "white",
             "linecolor": "white",
             "minorgridcolor": "white",
             "startlinecolor": "#2a3f5f"
            },
            "baxis": {
             "endlinecolor": "#2a3f5f",
             "gridcolor": "white",
             "linecolor": "white",
             "minorgridcolor": "white",
             "startlinecolor": "#2a3f5f"
            },
            "type": "carpet"
           }
          ],
          "choropleth": [
           {
            "colorbar": {
             "outlinewidth": 0,
             "ticks": ""
            },
            "type": "choropleth"
           }
          ],
          "contour": [
           {
            "colorbar": {
             "outlinewidth": 0,
             "ticks": ""
            },
            "colorscale": [
             [
              0,
              "#0d0887"
             ],
             [
              0.1111111111111111,
              "#46039f"
             ],
             [
              0.2222222222222222,
              "#7201a8"
             ],
             [
              0.3333333333333333,
              "#9c179e"
             ],
             [
              0.4444444444444444,
              "#bd3786"
             ],
             [
              0.5555555555555556,
              "#d8576b"
             ],
             [
              0.6666666666666666,
              "#ed7953"
             ],
             [
              0.7777777777777778,
              "#fb9f3a"
             ],
             [
              0.8888888888888888,
              "#fdca26"
             ],
             [
              1,
              "#f0f921"
             ]
            ],
            "type": "contour"
           }
          ],
          "contourcarpet": [
           {
            "colorbar": {
             "outlinewidth": 0,
             "ticks": ""
            },
            "type": "contourcarpet"
           }
          ],
          "heatmap": [
           {
            "colorbar": {
             "outlinewidth": 0,
             "ticks": ""
            },
            "colorscale": [
             [
              0,
              "#0d0887"
             ],
             [
              0.1111111111111111,
              "#46039f"
             ],
             [
              0.2222222222222222,
              "#7201a8"
             ],
             [
              0.3333333333333333,
              "#9c179e"
             ],
             [
              0.4444444444444444,
              "#bd3786"
             ],
             [
              0.5555555555555556,
              "#d8576b"
             ],
             [
              0.6666666666666666,
              "#ed7953"
             ],
             [
              0.7777777777777778,
              "#fb9f3a"
             ],
             [
              0.8888888888888888,
              "#fdca26"
             ],
             [
              1,
              "#f0f921"
             ]
            ],
            "type": "heatmap"
           }
          ],
          "heatmapgl": [
           {
            "colorbar": {
             "outlinewidth": 0,
             "ticks": ""
            },
            "colorscale": [
             [
              0,
              "#0d0887"
             ],
             [
              0.1111111111111111,
              "#46039f"
             ],
             [
              0.2222222222222222,
              "#7201a8"
             ],
             [
              0.3333333333333333,
              "#9c179e"
             ],
             [
              0.4444444444444444,
              "#bd3786"
             ],
             [
              0.5555555555555556,
              "#d8576b"
             ],
             [
              0.6666666666666666,
              "#ed7953"
             ],
             [
              0.7777777777777778,
              "#fb9f3a"
             ],
             [
              0.8888888888888888,
              "#fdca26"
             ],
             [
              1,
              "#f0f921"
             ]
            ],
            "type": "heatmapgl"
           }
          ],
          "histogram": [
           {
            "marker": {
             "pattern": {
              "fillmode": "overlay",
              "size": 10,
              "solidity": 0.2
             }
            },
            "type": "histogram"
           }
          ],
          "histogram2d": [
           {
            "colorbar": {
             "outlinewidth": 0,
             "ticks": ""
            },
            "colorscale": [
             [
              0,
              "#0d0887"
             ],
             [
              0.1111111111111111,
              "#46039f"
             ],
             [
              0.2222222222222222,
              "#7201a8"
             ],
             [
              0.3333333333333333,
              "#9c179e"
             ],
             [
              0.4444444444444444,
              "#bd3786"
             ],
             [
              0.5555555555555556,
              "#d8576b"
             ],
             [
              0.6666666666666666,
              "#ed7953"
             ],
             [
              0.7777777777777778,
              "#fb9f3a"
             ],
             [
              0.8888888888888888,
              "#fdca26"
             ],
             [
              1,
              "#f0f921"
             ]
            ],
            "type": "histogram2d"
           }
          ],
          "histogram2dcontour": [
           {
            "colorbar": {
             "outlinewidth": 0,
             "ticks": ""
            },
            "colorscale": [
             [
              0,
              "#0d0887"
             ],
             [
              0.1111111111111111,
              "#46039f"
             ],
             [
              0.2222222222222222,
              "#7201a8"
             ],
             [
              0.3333333333333333,
              "#9c179e"
             ],
             [
              0.4444444444444444,
              "#bd3786"
             ],
             [
              0.5555555555555556,
              "#d8576b"
             ],
             [
              0.6666666666666666,
              "#ed7953"
             ],
             [
              0.7777777777777778,
              "#fb9f3a"
             ],
             [
              0.8888888888888888,
              "#fdca26"
             ],
             [
              1,
              "#f0f921"
             ]
            ],
            "type": "histogram2dcontour"
           }
          ],
          "mesh3d": [
           {
            "colorbar": {
             "outlinewidth": 0,
             "ticks": ""
            },
            "type": "mesh3d"
           }
          ],
          "parcoords": [
           {
            "line": {
             "colorbar": {
              "outlinewidth": 0,
              "ticks": ""
             }
            },
            "type": "parcoords"
           }
          ],
          "pie": [
           {
            "automargin": true,
            "type": "pie"
           }
          ],
          "scatter": [
           {
            "fillpattern": {
             "fillmode": "overlay",
             "size": 10,
             "solidity": 0.2
            },
            "type": "scatter"
           }
          ],
          "scatter3d": [
           {
            "line": {
             "colorbar": {
              "outlinewidth": 0,
              "ticks": ""
             }
            },
            "marker": {
             "colorbar": {
              "outlinewidth": 0,
              "ticks": ""
             }
            },
            "type": "scatter3d"
           }
          ],
          "scattercarpet": [
           {
            "marker": {
             "colorbar": {
              "outlinewidth": 0,
              "ticks": ""
             }
            },
            "type": "scattercarpet"
           }
          ],
          "scattergeo": [
           {
            "marker": {
             "colorbar": {
              "outlinewidth": 0,
              "ticks": ""
             }
            },
            "type": "scattergeo"
           }
          ],
          "scattergl": [
           {
            "marker": {
             "colorbar": {
              "outlinewidth": 0,
              "ticks": ""
             }
            },
            "type": "scattergl"
           }
          ],
          "scattermapbox": [
           {
            "marker": {
             "colorbar": {
              "outlinewidth": 0,
              "ticks": ""
             }
            },
            "type": "scattermapbox"
           }
          ],
          "scatterpolar": [
           {
            "marker": {
             "colorbar": {
              "outlinewidth": 0,
              "ticks": ""
             }
            },
            "type": "scatterpolar"
           }
          ],
          "scatterpolargl": [
           {
            "marker": {
             "colorbar": {
              "outlinewidth": 0,
              "ticks": ""
             }
            },
            "type": "scatterpolargl"
           }
          ],
          "scatterternary": [
           {
            "marker": {
             "colorbar": {
              "outlinewidth": 0,
              "ticks": ""
             }
            },
            "type": "scatterternary"
           }
          ],
          "surface": [
           {
            "colorbar": {
             "outlinewidth": 0,
             "ticks": ""
            },
            "colorscale": [
             [
              0,
              "#0d0887"
             ],
             [
              0.1111111111111111,
              "#46039f"
             ],
             [
              0.2222222222222222,
              "#7201a8"
             ],
             [
              0.3333333333333333,
              "#9c179e"
             ],
             [
              0.4444444444444444,
              "#bd3786"
             ],
             [
              0.5555555555555556,
              "#d8576b"
             ],
             [
              0.6666666666666666,
              "#ed7953"
             ],
             [
              0.7777777777777778,
              "#fb9f3a"
             ],
             [
              0.8888888888888888,
              "#fdca26"
             ],
             [
              1,
              "#f0f921"
             ]
            ],
            "type": "surface"
           }
          ],
          "table": [
           {
            "cells": {
             "fill": {
              "color": "#EBF0F8"
             },
             "line": {
              "color": "white"
             }
            },
            "header": {
             "fill": {
              "color": "#C8D4E3"
             },
             "line": {
              "color": "white"
             }
            },
            "type": "table"
           }
          ]
         },
         "layout": {
          "annotationdefaults": {
           "arrowcolor": "#2a3f5f",
           "arrowhead": 0,
           "arrowwidth": 1
          },
          "autotypenumbers": "strict",
          "coloraxis": {
           "colorbar": {
            "outlinewidth": 0,
            "ticks": ""
           }
          },
          "colorscale": {
           "diverging": [
            [
             0,
             "#8e0152"
            ],
            [
             0.1,
             "#c51b7d"
            ],
            [
             0.2,
             "#de77ae"
            ],
            [
             0.3,
             "#f1b6da"
            ],
            [
             0.4,
             "#fde0ef"
            ],
            [
             0.5,
             "#f7f7f7"
            ],
            [
             0.6,
             "#e6f5d0"
            ],
            [
             0.7,
             "#b8e186"
            ],
            [
             0.8,
             "#7fbc41"
            ],
            [
             0.9,
             "#4d9221"
            ],
            [
             1,
             "#276419"
            ]
           ],
           "sequential": [
            [
             0,
             "#0d0887"
            ],
            [
             0.1111111111111111,
             "#46039f"
            ],
            [
             0.2222222222222222,
             "#7201a8"
            ],
            [
             0.3333333333333333,
             "#9c179e"
            ],
            [
             0.4444444444444444,
             "#bd3786"
            ],
            [
             0.5555555555555556,
             "#d8576b"
            ],
            [
             0.6666666666666666,
             "#ed7953"
            ],
            [
             0.7777777777777778,
             "#fb9f3a"
            ],
            [
             0.8888888888888888,
             "#fdca26"
            ],
            [
             1,
             "#f0f921"
            ]
           ],
           "sequentialminus": [
            [
             0,
             "#0d0887"
            ],
            [
             0.1111111111111111,
             "#46039f"
            ],
            [
             0.2222222222222222,
             "#7201a8"
            ],
            [
             0.3333333333333333,
             "#9c179e"
            ],
            [
             0.4444444444444444,
             "#bd3786"
            ],
            [
             0.5555555555555556,
             "#d8576b"
            ],
            [
             0.6666666666666666,
             "#ed7953"
            ],
            [
             0.7777777777777778,
             "#fb9f3a"
            ],
            [
             0.8888888888888888,
             "#fdca26"
            ],
            [
             1,
             "#f0f921"
            ]
           ]
          },
          "colorway": [
           "#636efa",
           "#EF553B",
           "#00cc96",
           "#ab63fa",
           "#FFA15A",
           "#19d3f3",
           "#FF6692",
           "#B6E880",
           "#FF97FF",
           "#FECB52"
          ],
          "font": {
           "color": "#2a3f5f"
          },
          "geo": {
           "bgcolor": "white",
           "lakecolor": "white",
           "landcolor": "#E5ECF6",
           "showlakes": true,
           "showland": true,
           "subunitcolor": "white"
          },
          "hoverlabel": {
           "align": "left"
          },
          "hovermode": "closest",
          "mapbox": {
           "style": "light"
          },
          "paper_bgcolor": "white",
          "plot_bgcolor": "#E5ECF6",
          "polar": {
           "angularaxis": {
            "gridcolor": "white",
            "linecolor": "white",
            "ticks": ""
           },
           "bgcolor": "#E5ECF6",
           "radialaxis": {
            "gridcolor": "white",
            "linecolor": "white",
            "ticks": ""
           }
          },
          "scene": {
           "xaxis": {
            "backgroundcolor": "#E5ECF6",
            "gridcolor": "white",
            "gridwidth": 2,
            "linecolor": "white",
            "showbackground": true,
            "ticks": "",
            "zerolinecolor": "white"
           },
           "yaxis": {
            "backgroundcolor": "#E5ECF6",
            "gridcolor": "white",
            "gridwidth": 2,
            "linecolor": "white",
            "showbackground": true,
            "ticks": "",
            "zerolinecolor": "white"
           },
           "zaxis": {
            "backgroundcolor": "#E5ECF6",
            "gridcolor": "white",
            "gridwidth": 2,
            "linecolor": "white",
            "showbackground": true,
            "ticks": "",
            "zerolinecolor": "white"
           }
          },
          "shapedefaults": {
           "line": {
            "color": "#2a3f5f"
           }
          },
          "ternary": {
           "aaxis": {
            "gridcolor": "white",
            "linecolor": "white",
            "ticks": ""
           },
           "baxis": {
            "gridcolor": "white",
            "linecolor": "white",
            "ticks": ""
           },
           "bgcolor": "#E5ECF6",
           "caxis": {
            "gridcolor": "white",
            "linecolor": "white",
            "ticks": ""
           }
          },
          "title": {
           "x": 0.05
          },
          "xaxis": {
           "automargin": true,
           "gridcolor": "white",
           "linecolor": "white",
           "ticks": "",
           "title": {
            "standoff": 15
           },
           "zerolinecolor": "white",
           "zerolinewidth": 2
          },
          "yaxis": {
           "automargin": true,
           "gridcolor": "white",
           "linecolor": "white",
           "ticks": "",
           "title": {
            "standoff": 15
           },
           "zerolinecolor": "white",
           "zerolinewidth": 2
          }
         }
        },
        "title": {
         "text": "Correspondence of subjects categories in the three levels (counting: Artworks)"
        }
       }
      },
      "text/html": [
       "<div>                            <div id=\"88de27ec-820e-455f-9a9c-eb4ccbf3c5ad\" class=\"plotly-graph-div\" style=\"height:525px; width:100%;\"></div>            <script type=\"text/javascript\">                require([\"plotly\"], function(Plotly) {                    window.PLOTLYENV=window.PLOTLYENV || {};                                    if (document.getElementById(\"88de27ec-820e-455f-9a9c-eb4ccbf3c5ad\")) {                    Plotly.newPlot(                        \"88de27ec-820e-455f-9a9c-eb4ccbf3c5ad\",                        [{\"link\":{\"source\":[0,0,0,0,0,0,0,0,0,0,1,1,1,1,1,1,1,1,1,1,2,2,2,2,2,2,2,2,2,2,3,3,4,4,5,5,6,6,7,8,8,9,9,10,10,11,11,12,12],\"target\":[3,4,5,6,7,8,9,10,11,12,3,4,5,6,7,8,9,10,11,12,3,4,5,6,7,8,9,10,11,12,13,14,13,14,13,14,13,14,14,13,14,13,14,13,14,13,14,13,14],\"value\":[149,153,2832,1274,12,173,805,38,467,1685,68,32,953,558,2,44,229,81,268,446,553,433,8493,3140,34,812,2914,157,1204,5730,163,607,86,532,1089,11189,196,4776,48,220,809,275,3673,12,264,142,1797,1295,6566]},\"node\":{\"color\":\"blue\",\"label\":[\"Action\",\"ExpressionalQuality\",\"NaturalElement\",\"E21_Person\",\"Allegory\",\"Character\",\"Event\",\"Invenzione\",\"NamedObject\",\"Personification\",\"Place\",\"Story\",\"Symbol\",\"E28_Conceptual_Object\",\"CulturalPhenomenon\"],\"line\":{\"color\":\"black\",\"width\":0.5},\"pad\":15,\"thickness\":20},\"type\":\"sankey\"}],                        {\"template\":{\"data\":{\"histogram2dcontour\":[{\"type\":\"histogram2dcontour\",\"colorbar\":{\"outlinewidth\":0,\"ticks\":\"\"},\"colorscale\":[[0.0,\"#0d0887\"],[0.1111111111111111,\"#46039f\"],[0.2222222222222222,\"#7201a8\"],[0.3333333333333333,\"#9c179e\"],[0.4444444444444444,\"#bd3786\"],[0.5555555555555556,\"#d8576b\"],[0.6666666666666666,\"#ed7953\"],[0.7777777777777778,\"#fb9f3a\"],[0.8888888888888888,\"#fdca26\"],[1.0,\"#f0f921\"]]}],\"choropleth\":[{\"type\":\"choropleth\",\"colorbar\":{\"outlinewidth\":0,\"ticks\":\"\"}}],\"histogram2d\":[{\"type\":\"histogram2d\",\"colorbar\":{\"outlinewidth\":0,\"ticks\":\"\"},\"colorscale\":[[0.0,\"#0d0887\"],[0.1111111111111111,\"#46039f\"],[0.2222222222222222,\"#7201a8\"],[0.3333333333333333,\"#9c179e\"],[0.4444444444444444,\"#bd3786\"],[0.5555555555555556,\"#d8576b\"],[0.6666666666666666,\"#ed7953\"],[0.7777777777777778,\"#fb9f3a\"],[0.8888888888888888,\"#fdca26\"],[1.0,\"#f0f921\"]]}],\"heatmap\":[{\"type\":\"heatmap\",\"colorbar\":{\"outlinewidth\":0,\"ticks\":\"\"},\"colorscale\":[[0.0,\"#0d0887\"],[0.1111111111111111,\"#46039f\"],[0.2222222222222222,\"#7201a8\"],[0.3333333333333333,\"#9c179e\"],[0.4444444444444444,\"#bd3786\"],[0.5555555555555556,\"#d8576b\"],[0.6666666666666666,\"#ed7953\"],[0.7777777777777778,\"#fb9f3a\"],[0.8888888888888888,\"#fdca26\"],[1.0,\"#f0f921\"]]}],\"heatmapgl\":[{\"type\":\"heatmapgl\",\"colorbar\":{\"outlinewidth\":0,\"ticks\":\"\"},\"colorscale\":[[0.0,\"#0d0887\"],[0.1111111111111111,\"#46039f\"],[0.2222222222222222,\"#7201a8\"],[0.3333333333333333,\"#9c179e\"],[0.4444444444444444,\"#bd3786\"],[0.5555555555555556,\"#d8576b\"],[0.6666666666666666,\"#ed7953\"],[0.7777777777777778,\"#fb9f3a\"],[0.8888888888888888,\"#fdca26\"],[1.0,\"#f0f921\"]]}],\"contourcarpet\":[{\"type\":\"contourcarpet\",\"colorbar\":{\"outlinewidth\":0,\"ticks\":\"\"}}],\"contour\":[{\"type\":\"contour\",\"colorbar\":{\"outlinewidth\":0,\"ticks\":\"\"},\"colorscale\":[[0.0,\"#0d0887\"],[0.1111111111111111,\"#46039f\"],[0.2222222222222222,\"#7201a8\"],[0.3333333333333333,\"#9c179e\"],[0.4444444444444444,\"#bd3786\"],[0.5555555555555556,\"#d8576b\"],[0.6666666666666666,\"#ed7953\"],[0.7777777777777778,\"#fb9f3a\"],[0.8888888888888888,\"#fdca26\"],[1.0,\"#f0f921\"]]}],\"surface\":[{\"type\":\"surface\",\"colorbar\":{\"outlinewidth\":0,\"ticks\":\"\"},\"colorscale\":[[0.0,\"#0d0887\"],[0.1111111111111111,\"#46039f\"],[0.2222222222222222,\"#7201a8\"],[0.3333333333333333,\"#9c179e\"],[0.4444444444444444,\"#bd3786\"],[0.5555555555555556,\"#d8576b\"],[0.6666666666666666,\"#ed7953\"],[0.7777777777777778,\"#fb9f3a\"],[0.8888888888888888,\"#fdca26\"],[1.0,\"#f0f921\"]]}],\"mesh3d\":[{\"type\":\"mesh3d\",\"colorbar\":{\"outlinewidth\":0,\"ticks\":\"\"}}],\"scatter\":[{\"fillpattern\":{\"fillmode\":\"overlay\",\"size\":10,\"solidity\":0.2},\"type\":\"scatter\"}],\"parcoords\":[{\"type\":\"parcoords\",\"line\":{\"colorbar\":{\"outlinewidth\":0,\"ticks\":\"\"}}}],\"scatterpolargl\":[{\"type\":\"scatterpolargl\",\"marker\":{\"colorbar\":{\"outlinewidth\":0,\"ticks\":\"\"}}}],\"bar\":[{\"error_x\":{\"color\":\"#2a3f5f\"},\"error_y\":{\"color\":\"#2a3f5f\"},\"marker\":{\"line\":{\"color\":\"#E5ECF6\",\"width\":0.5},\"pattern\":{\"fillmode\":\"overlay\",\"size\":10,\"solidity\":0.2}},\"type\":\"bar\"}],\"scattergeo\":[{\"type\":\"scattergeo\",\"marker\":{\"colorbar\":{\"outlinewidth\":0,\"ticks\":\"\"}}}],\"scatterpolar\":[{\"type\":\"scatterpolar\",\"marker\":{\"colorbar\":{\"outlinewidth\":0,\"ticks\":\"\"}}}],\"histogram\":[{\"marker\":{\"pattern\":{\"fillmode\":\"overlay\",\"size\":10,\"solidity\":0.2}},\"type\":\"histogram\"}],\"scattergl\":[{\"type\":\"scattergl\",\"marker\":{\"colorbar\":{\"outlinewidth\":0,\"ticks\":\"\"}}}],\"scatter3d\":[{\"type\":\"scatter3d\",\"line\":{\"colorbar\":{\"outlinewidth\":0,\"ticks\":\"\"}},\"marker\":{\"colorbar\":{\"outlinewidth\":0,\"ticks\":\"\"}}}],\"scattermapbox\":[{\"type\":\"scattermapbox\",\"marker\":{\"colorbar\":{\"outlinewidth\":0,\"ticks\":\"\"}}}],\"scatterternary\":[{\"type\":\"scatterternary\",\"marker\":{\"colorbar\":{\"outlinewidth\":0,\"ticks\":\"\"}}}],\"scattercarpet\":[{\"type\":\"scattercarpet\",\"marker\":{\"colorbar\":{\"outlinewidth\":0,\"ticks\":\"\"}}}],\"carpet\":[{\"aaxis\":{\"endlinecolor\":\"#2a3f5f\",\"gridcolor\":\"white\",\"linecolor\":\"white\",\"minorgridcolor\":\"white\",\"startlinecolor\":\"#2a3f5f\"},\"baxis\":{\"endlinecolor\":\"#2a3f5f\",\"gridcolor\":\"white\",\"linecolor\":\"white\",\"minorgridcolor\":\"white\",\"startlinecolor\":\"#2a3f5f\"},\"type\":\"carpet\"}],\"table\":[{\"cells\":{\"fill\":{\"color\":\"#EBF0F8\"},\"line\":{\"color\":\"white\"}},\"header\":{\"fill\":{\"color\":\"#C8D4E3\"},\"line\":{\"color\":\"white\"}},\"type\":\"table\"}],\"barpolar\":[{\"marker\":{\"line\":{\"color\":\"#E5ECF6\",\"width\":0.5},\"pattern\":{\"fillmode\":\"overlay\",\"size\":10,\"solidity\":0.2}},\"type\":\"barpolar\"}],\"pie\":[{\"automargin\":true,\"type\":\"pie\"}]},\"layout\":{\"autotypenumbers\":\"strict\",\"colorway\":[\"#636efa\",\"#EF553B\",\"#00cc96\",\"#ab63fa\",\"#FFA15A\",\"#19d3f3\",\"#FF6692\",\"#B6E880\",\"#FF97FF\",\"#FECB52\"],\"font\":{\"color\":\"#2a3f5f\"},\"hovermode\":\"closest\",\"hoverlabel\":{\"align\":\"left\"},\"paper_bgcolor\":\"white\",\"plot_bgcolor\":\"#E5ECF6\",\"polar\":{\"bgcolor\":\"#E5ECF6\",\"angularaxis\":{\"gridcolor\":\"white\",\"linecolor\":\"white\",\"ticks\":\"\"},\"radialaxis\":{\"gridcolor\":\"white\",\"linecolor\":\"white\",\"ticks\":\"\"}},\"ternary\":{\"bgcolor\":\"#E5ECF6\",\"aaxis\":{\"gridcolor\":\"white\",\"linecolor\":\"white\",\"ticks\":\"\"},\"baxis\":{\"gridcolor\":\"white\",\"linecolor\":\"white\",\"ticks\":\"\"},\"caxis\":{\"gridcolor\":\"white\",\"linecolor\":\"white\",\"ticks\":\"\"}},\"coloraxis\":{\"colorbar\":{\"outlinewidth\":0,\"ticks\":\"\"}},\"colorscale\":{\"sequential\":[[0.0,\"#0d0887\"],[0.1111111111111111,\"#46039f\"],[0.2222222222222222,\"#7201a8\"],[0.3333333333333333,\"#9c179e\"],[0.4444444444444444,\"#bd3786\"],[0.5555555555555556,\"#d8576b\"],[0.6666666666666666,\"#ed7953\"],[0.7777777777777778,\"#fb9f3a\"],[0.8888888888888888,\"#fdca26\"],[1.0,\"#f0f921\"]],\"sequentialminus\":[[0.0,\"#0d0887\"],[0.1111111111111111,\"#46039f\"],[0.2222222222222222,\"#7201a8\"],[0.3333333333333333,\"#9c179e\"],[0.4444444444444444,\"#bd3786\"],[0.5555555555555556,\"#d8576b\"],[0.6666666666666666,\"#ed7953\"],[0.7777777777777778,\"#fb9f3a\"],[0.8888888888888888,\"#fdca26\"],[1.0,\"#f0f921\"]],\"diverging\":[[0,\"#8e0152\"],[0.1,\"#c51b7d\"],[0.2,\"#de77ae\"],[0.3,\"#f1b6da\"],[0.4,\"#fde0ef\"],[0.5,\"#f7f7f7\"],[0.6,\"#e6f5d0\"],[0.7,\"#b8e186\"],[0.8,\"#7fbc41\"],[0.9,\"#4d9221\"],[1,\"#276419\"]]},\"xaxis\":{\"gridcolor\":\"white\",\"linecolor\":\"white\",\"ticks\":\"\",\"title\":{\"standoff\":15},\"zerolinecolor\":\"white\",\"automargin\":true,\"zerolinewidth\":2},\"yaxis\":{\"gridcolor\":\"white\",\"linecolor\":\"white\",\"ticks\":\"\",\"title\":{\"standoff\":15},\"zerolinecolor\":\"white\",\"automargin\":true,\"zerolinewidth\":2},\"scene\":{\"xaxis\":{\"backgroundcolor\":\"#E5ECF6\",\"gridcolor\":\"white\",\"linecolor\":\"white\",\"showbackground\":true,\"ticks\":\"\",\"zerolinecolor\":\"white\",\"gridwidth\":2},\"yaxis\":{\"backgroundcolor\":\"#E5ECF6\",\"gridcolor\":\"white\",\"linecolor\":\"white\",\"showbackground\":true,\"ticks\":\"\",\"zerolinecolor\":\"white\",\"gridwidth\":2},\"zaxis\":{\"backgroundcolor\":\"#E5ECF6\",\"gridcolor\":\"white\",\"linecolor\":\"white\",\"showbackground\":true,\"ticks\":\"\",\"zerolinecolor\":\"white\",\"gridwidth\":2}},\"shapedefaults\":{\"line\":{\"color\":\"#2a3f5f\"}},\"annotationdefaults\":{\"arrowcolor\":\"#2a3f5f\",\"arrowhead\":0,\"arrowwidth\":1},\"geo\":{\"bgcolor\":\"white\",\"landcolor\":\"#E5ECF6\",\"subunitcolor\":\"white\",\"showland\":true,\"showlakes\":true,\"lakecolor\":\"white\"},\"title\":{\"x\":0.05},\"mapbox\":{\"style\":\"light\"}}},\"title\":{\"text\":\"Correspondence of subjects categories in the three levels (counting: Artworks)\"},\"font\":{\"size\":10}},                        {\"responsive\": true}                    ).then(function(){\n",
       "                            \n",
       "var gd = document.getElementById('88de27ec-820e-455f-9a9c-eb4ccbf3c5ad');\n",
       "var x = new MutationObserver(function (mutations, observer) {{\n",
       "        var display = window.getComputedStyle(gd).display;\n",
       "        if (!display || display === 'none') {{\n",
       "            console.log([gd, 'removed!']);\n",
       "            Plotly.purge(gd);\n",
       "            observer.disconnect();\n",
       "        }}\n",
       "}});\n",
       "\n",
       "// Listen for the removal of the full notebook cells\n",
       "var notebookContainer = gd.closest('#notebook-container');\n",
       "if (notebookContainer) {{\n",
       "    x.observe(notebookContainer, {childList: true});\n",
       "}}\n",
       "\n",
       "// Listen for the clearing of the current output cell\n",
       "var outputEl = gd.closest('.output');\n",
       "if (outputEl) {{\n",
       "    x.observe(outputEl, {childList: true});\n",
       "}}\n",
       "\n",
       "                        })                };                });            </script>        </div>"
      ]
     },
     "metadata": {},
     "output_type": "display_data"
    }
   ],
   "source": [
    "# we extract all the unique values\n",
    "# unique_source_target_all = list(pd.unique(links3[[\"source\", \"target\"]].values.ravel(\"K\")))\n",
    "#unique_source_target\n",
    "\n",
    "# we map the labels with their index in the list\n",
    "mapping_dict_all = {k:v for v, k in enumerate(unique_source_target_all)}\n",
    "mapping_dict_all\n",
    "\n",
    "# we replace names with the indices\n",
    "links3[\"source\"] = links3[\"source\"].map(mapping_dict_all)\n",
    "links3[\"target\"] = links3[\"target\"].map(mapping_dict_all)\n",
    "\n",
    "# we transform the dataframe in a dict\n",
    "links_dict = links3.to_dict(orient =\"list\")\n",
    "\n",
    "# create the diagram\n",
    "\n",
    "# https://plotly.com/python/sankey-diagram/\n",
    "# useful tutorial: https://www.youtube.com/watch?v=yyVwvBUFRwY \n",
    "#import plotly.graph_objects as go\n",
    "\n",
    "fig = go.Figure(data=[go.Sankey(\n",
    "    node = dict(\n",
    "      pad = 15,\n",
    "      thickness = 20,\n",
    "      line = dict(color = \"black\", width = 0.5),\n",
    "      label = unique_source_target_all,\n",
    "      color = \"blue\"\n",
    "    ),\n",
    "    link = dict(\n",
    "      source = links_dict[\"source\"], # indices corresponding to labels, eg A1, A2, A1, B1, ...\n",
    "      target = links_dict[\"target\"],\n",
    "      value = links_dict[\"value\"]\n",
    "  ))])\n",
    "# the graph shows the n to n relations happening between elements of different levels (e.g. to one natural element may correspond several symbols and several cultural phenomena)\n",
    "# the counting represent single instances hence not unique subjects (e.g. at the first level, we don't represent the concept of a dog but the sum of all the representations of a dog)\n",
    "fig.update_layout(title_text=\"Correspondence of subjects categories in the three levels (counting: Artworks)\", font_size=10)\n",
    "fig.show()"
   ]
  },
  {
   "cell_type": "code",
   "execution_count": 132,
   "id": "0637c448",
   "metadata": {},
   "outputs": [],
   "source": [
    "df_all1.to_csv('art_all_levels.csv', index=False)"
   ]
  },
  {
   "cell_type": "markdown",
   "id": "d477d051",
   "metadata": {},
   "source": [
    "### Sankey diagram of the direct link between level 1 and level 2 objects in ART1197"
   ]
  },
  {
   "cell_type": "code",
   "execution_count": 13,
   "id": "27fb117f",
   "metadata": {},
   "outputs": [
    {
     "name": "stdout",
     "output_type": "stream",
     "text": [
      "http://icondataset.org/ART1197-AM18 http://icondataset.org/smiling https://w3id.org/icon/ontology/ExpressionalQuality http://icondataset.org/ART1197-IMG2 http://icondataset.org/bacchus https://w3id.org/icon/ontology/Character\n",
      "http://icondataset.org/ART1197-AM12 http://icondataset.org/man https://w3id.org/icon/ontology/NaturalElement http://icondataset.org/ART1197-IMG1 http://icondataset.org/silenus https://w3id.org/icon/ontology/Character\n",
      "http://icondataset.org/ART1197-AM13 http://icondataset.org/riding-a-mule https://w3id.org/icon/ontology/Action http://icondataset.org/ART1197-IMG1 http://icondataset.org/silenus https://w3id.org/icon/ontology/Character\n",
      "http://icondataset.org/ART1197-AM23 http://icondataset.org/holding-with-the-other-hand https://w3id.org/icon/ontology/Action http://icondataset.org/ART1197-IMG2 http://icondataset.org/bacchus https://w3id.org/icon/ontology/Character\n",
      "http://icondataset.org/ART1197-AM21 http://icondataset.org/holding-with-a-hand https://w3id.org/icon/ontology/Action http://icondataset.org/ART1197-IMG2 http://icondataset.org/bacchus https://w3id.org/icon/ontology/Character\n",
      "http://icondataset.org/ART1197-AM20 http://icondataset.org/tree-trunk-with-a-twisted-vine https://w3id.org/icon/ontology/NaturalElement http://icondataset.org/ART1197-IMG2 http://icondataset.org/bacchus https://w3id.org/icon/ontology/Character\n",
      "http://icondataset.org/ART1197-AM17 http://icondataset.org/man https://w3id.org/icon/ontology/NaturalElement http://icondataset.org/ART1197-IMG2 http://icondataset.org/bacchus https://w3id.org/icon/ontology/Character\n",
      "http://icondataset.org/ART1197-AM19 http://icondataset.org/cup https://w3id.org/icon/ontology/NaturalElement http://icondataset.org/ART1197-IMG2 http://icondataset.org/bacchus https://w3id.org/icon/ontology/Character\n",
      "http://icondataset.org/ART1197-AM41 http://icondataset.org/human-figure-with-animal-legs https://w3id.org/icon/ontology/NaturalElement http://icondataset.org/ART1197-IMG13 http://icondataset.org/satyr https://w3id.org/icon/ontology/Character\n",
      "http://icondataset.org/ART1197-AM27 http://icondataset.org/wine-jug https://w3id.org/icon/ontology/NaturalElement http://icondataset.org/ART1197-IMG3 http://icondataset.org/ariadne https://w3id.org/icon/ontology/Character\n",
      "http://icondataset.org/ART1197-AM24 http://icondataset.org/woman https://w3id.org/icon/ontology/NaturalElement http://icondataset.org/ART1197-IMG3 http://icondataset.org/ariadne https://w3id.org/icon/ontology/Character\n",
      "http://icondataset.org/ART1197-AM26 http://icondataset.org/bearing https://w3id.org/icon/ontology/Action http://icondataset.org/ART1197-IMG3 http://icondataset.org/ariadne https://w3id.org/icon/ontology/Character\n",
      "http://icondataset.org/ART1197-AM25 http://icondataset.org/clothes https://w3id.org/icon/ontology/NaturalElement http://icondataset.org/ART1197-IMG3 http://icondataset.org/ariadne https://w3id.org/icon/ontology/Character\n",
      "http://icondataset.org/ART1197-AM49 http://icondataset.org/human-baby-with-animal-legs https://w3id.org/icon/ontology/NaturalElement http://icondataset.org/ART1197-IMG14 http://icondataset.org/satyr https://w3id.org/icon/ontology/Character\n",
      "http://icondataset.org/ART1197-AM35 http://icondataset.org/human-figure-with-animal-legs https://w3id.org/icon/ontology/NaturalElement http://icondataset.org/ART1197-IMG11 http://icondataset.org/satyr https://w3id.org/icon/ontology/Character\n",
      "http://icondataset.org/ART1197-AM1 http://icondataset.org/human-figure-with-animal-legs https://w3id.org/icon/ontology/NaturalElement http://icondataset.org/ART1197-IMG10 http://icondataset.org/satyr https://w3id.org/icon/ontology/Character\n",
      "http://icondataset.org/ART1197-AM72 http://icondataset.org/woman-with-goat-legs https://w3id.org/icon/ontology/NaturalElement http://icondataset.org/ART1197-IMG9 http://icondataset.org/satyr https://w3id.org/icon/ontology/Character\n",
      "http://icondataset.org/ART1197-AM36 http://icondataset.org/human-figure-with-animal-legs https://w3id.org/icon/ontology/NaturalElement http://icondataset.org/ART1197-IMG12 http://icondataset.org/satyr https://w3id.org/icon/ontology/Character\n",
      "http://icondataset.org/ART1197-AM68 http://icondataset.org/cloud https://w3id.org/icon/ontology/NaturalElement http://icondataset.org/ART1197-IMG6 http://icondataset.org/threatening-and-wild-landscape-on-the-right-merciless-hardships-of-unmitigated-wildness https://w3id.org/simulation/ontology/Simulation\n",
      "http://icondataset.org/ART1197-AM65 http://icondataset.org/wild-landscape https://w3id.org/icon/ontology/NaturalElement http://icondataset.org/ART1197-IMG6 http://icondataset.org/threatening-and-wild-landscape-on-the-right-merciless-hardships-of-unmitigated-wildness https://w3id.org/simulation/ontology/Simulation\n",
      "http://icondataset.org/ART1197-AM66 http://icondataset.org/wild-animal https://w3id.org/icon/ontology/NaturalElement http://icondataset.org/ART1197-IMG6 http://icondataset.org/threatening-and-wild-landscape-on-the-right-merciless-hardships-of-unmitigated-wildness https://w3id.org/simulation/ontology/Simulation\n",
      "http://icondataset.org/ART1197-AM67 http://icondataset.org/tree https://w3id.org/icon/ontology/NaturalElement http://icondataset.org/ART1197-IMG6 http://icondataset.org/threatening-and-wild-landscape-on-the-right-merciless-hardships-of-unmitigated-wildness https://w3id.org/simulation/ontology/Simulation\n",
      "http://icondataset.org/ART1197-AM69 http://icondataset.org/rock https://w3id.org/icon/ontology/NaturalElement http://icondataset.org/ART1197-IMG6 http://icondataset.org/threatening-and-wild-landscape-on-the-right-merciless-hardships-of-unmitigated-wildness https://w3id.org/simulation/ontology/Simulation\n",
      "http://icondataset.org/ART1197-AM63 http://icondataset.org/sky https://w3id.org/icon/ontology/NaturalElement http://icondataset.org/ART1197-IMG5 http://icondataset.org/peaceful-landscape-on-the-left-innocent-happiness-of-a-pastoral-civilization https://w3id.org/simulation/ontology/Simulation\n",
      "http://icondataset.org/ART1197-AM61 http://icondataset.org/lawn https://w3id.org/icon/ontology/NaturalElement http://icondataset.org/ART1197-IMG5 http://icondataset.org/peaceful-landscape-on-the-left-innocent-happiness-of-a-pastoral-civilization https://w3id.org/simulation/ontology/Simulation\n",
      "http://icondataset.org/ART1197-AM60 http://icondataset.org/building https://w3id.org/icon/ontology/NaturalElement http://icondataset.org/ART1197-IMG5 http://icondataset.org/peaceful-landscape-on-the-left-innocent-happiness-of-a-pastoral-civilization https://w3id.org/simulation/ontology/Simulation\n",
      "http://icondataset.org/ART1197-AM62 http://icondataset.org/tree https://w3id.org/icon/ontology/NaturalElement http://icondataset.org/ART1197-IMG5 http://icondataset.org/peaceful-landscape-on-the-left-innocent-happiness-of-a-pastoral-civilization https://w3id.org/simulation/ontology/Simulation\n",
      "http://icondataset.org/ART1197-AM68 http://icondataset.org/cloud https://w3id.org/icon/ontology/NaturalElement http://icondataset.org/ART1197-IMG6 http://icondataset.org/threatening-and-wild-landscape-on-the-right-merciless-hardships-of-unmitigated-wildness https://w3id.org/icon/ontology/Symbol\n",
      "http://icondataset.org/ART1197-AM65 http://icondataset.org/wild-landscape https://w3id.org/icon/ontology/NaturalElement http://icondataset.org/ART1197-IMG6 http://icondataset.org/threatening-and-wild-landscape-on-the-right-merciless-hardships-of-unmitigated-wildness https://w3id.org/icon/ontology/Symbol\n",
      "http://icondataset.org/ART1197-AM66 http://icondataset.org/wild-animal https://w3id.org/icon/ontology/NaturalElement http://icondataset.org/ART1197-IMG6 http://icondataset.org/threatening-and-wild-landscape-on-the-right-merciless-hardships-of-unmitigated-wildness https://w3id.org/icon/ontology/Symbol\n",
      "http://icondataset.org/ART1197-AM67 http://icondataset.org/tree https://w3id.org/icon/ontology/NaturalElement http://icondataset.org/ART1197-IMG6 http://icondataset.org/threatening-and-wild-landscape-on-the-right-merciless-hardships-of-unmitigated-wildness https://w3id.org/icon/ontology/Symbol\n",
      "http://icondataset.org/ART1197-AM69 http://icondataset.org/rock https://w3id.org/icon/ontology/NaturalElement http://icondataset.org/ART1197-IMG6 http://icondataset.org/threatening-and-wild-landscape-on-the-right-merciless-hardships-of-unmitigated-wildness https://w3id.org/icon/ontology/Symbol\n"
     ]
    },
    {
     "name": "stdout",
     "output_type": "stream",
     "text": [
      "http://icondataset.org/ART1197-AM63 http://icondataset.org/sky https://w3id.org/icon/ontology/NaturalElement http://icondataset.org/ART1197-IMG5 http://icondataset.org/peaceful-landscape-on-the-left-innocent-happiness-of-a-pastoral-civilization https://w3id.org/icon/ontology/Symbol\n",
      "http://icondataset.org/ART1197-AM61 http://icondataset.org/lawn https://w3id.org/icon/ontology/NaturalElement http://icondataset.org/ART1197-IMG5 http://icondataset.org/peaceful-landscape-on-the-left-innocent-happiness-of-a-pastoral-civilization https://w3id.org/icon/ontology/Symbol\n",
      "http://icondataset.org/ART1197-AM60 http://icondataset.org/building https://w3id.org/icon/ontology/NaturalElement http://icondataset.org/ART1197-IMG5 http://icondataset.org/peaceful-landscape-on-the-left-innocent-happiness-of-a-pastoral-civilization https://w3id.org/icon/ontology/Symbol\n",
      "http://icondataset.org/ART1197-AM62 http://icondataset.org/tree https://w3id.org/icon/ontology/NaturalElement http://icondataset.org/ART1197-IMG5 http://icondataset.org/peaceful-landscape-on-the-left-innocent-happiness-of-a-pastoral-civilization https://w3id.org/icon/ontology/Symbol\n"
     ]
    }
   ],
   "source": [
    "# extract data \n",
    "test_1 = []\n",
    "# no modify\n",
    "cq2 = \"\"\"\n",
    "prefix d: <http://icondataset.org/> \n",
    "PREFIX icon: <https://w3id.org/icon/ontology/> \n",
    "prefix sim: <https://w3id.org/simulation/ontology/>\n",
    "prefix dul: <http://www.ontologydesignpatterns.org/ont/dul/DUL.owl#>\n",
    "prefix crm: <http://www.cidoc-crm.org/cidoc-crm/>\n",
    "\n",
    "SELECT DISTINCT ?am ?subj1 ?type1 ?image ?subj2 ?type2  WHERE {\n",
    "  VALUES ?rel1 {icon:hasExpressionalMeaning icon:hasFactualMeaning crm:P138_depicts}\n",
    "  VALUES ?rel2 {icon:hasCharacter icon:hasEvent icon:hasNamedObject icon:hasPlace icon:hasPersonification icon:hasSymbol}\n",
    "  \n",
    "\n",
    "  ?icrec icon:aboutWorkOfArt d:ART1197; \n",
    "          a icon:IconographicalRecognition;\n",
    "          icon:recognizedImage ?image. \n",
    "  ?image ?rel2 ?subj2.  \n",
    "  ?subj2 a ?type2. \n",
    " # ?type2 rdfs:label ?type2Label. \n",
    "  {?icrec icon:refersToArtisticMotif ?lev1. \n",
    "  ?lev1 icon:hasPart ?am. ?am ?rel1 ?subj1} \n",
    "  UNION \n",
    "  {?icrec icon:refersToArtisticMotif ?am. ?am ?rel1 ?subj1}\n",
    "  ?subj1 a ?type1. \n",
    " # ?type1 rdfs:label ?type1Label.\n",
    "\n",
    "\n",
    "} \n",
    "\"\"\" \n",
    "\n",
    "cq2res = newg.query(cq2)\n",
    "for row in cq2res:\n",
    "    test_1.append([str(row[0]), str(row[1]), str(row[2]), str(row[3]), str(row[4]), str(row[5])])\n",
    "    print(str(row[0]), str(row[1]), str(row[2]), str(row[3]), str(row[4]), str(row[5]))"
   ]
  },
  {
   "cell_type": "code",
   "execution_count": 14,
   "id": "d413c455",
   "metadata": {},
   "outputs": [
    {
     "data": {
      "text/html": [
       "<div>\n",
       "<style scoped>\n",
       "    .dataframe tbody tr th:only-of-type {\n",
       "        vertical-align: middle;\n",
       "    }\n",
       "\n",
       "    .dataframe tbody tr th {\n",
       "        vertical-align: top;\n",
       "    }\n",
       "\n",
       "    .dataframe thead th {\n",
       "        text-align: right;\n",
       "    }\n",
       "</style>\n",
       "<table border=\"1\" class=\"dataframe\">\n",
       "  <thead>\n",
       "    <tr style=\"text-align: right;\">\n",
       "      <th></th>\n",
       "      <th>am</th>\n",
       "      <th>subj1</th>\n",
       "      <th>type1</th>\n",
       "      <th>image</th>\n",
       "      <th>subj2</th>\n",
       "      <th>type2</th>\n",
       "    </tr>\n",
       "  </thead>\n",
       "  <tbody>\n",
       "    <tr>\n",
       "      <th>0</th>\n",
       "      <td>http://icondataset.org/ART1197-AM18</td>\n",
       "      <td>http://icondataset.org/smiling</td>\n",
       "      <td>https://w3id.org/icon/ontology/ExpressionalQua...</td>\n",
       "      <td>http://icondataset.org/ART1197-IMG2</td>\n",
       "      <td>http://icondataset.org/bacchus</td>\n",
       "      <td>https://w3id.org/icon/ontology/Character</td>\n",
       "    </tr>\n",
       "    <tr>\n",
       "      <th>1</th>\n",
       "      <td>http://icondataset.org/ART1197-AM12</td>\n",
       "      <td>http://icondataset.org/man</td>\n",
       "      <td>https://w3id.org/icon/ontology/NaturalElement</td>\n",
       "      <td>http://icondataset.org/ART1197-IMG1</td>\n",
       "      <td>http://icondataset.org/silenus</td>\n",
       "      <td>https://w3id.org/icon/ontology/Character</td>\n",
       "    </tr>\n",
       "    <tr>\n",
       "      <th>2</th>\n",
       "      <td>http://icondataset.org/ART1197-AM13</td>\n",
       "      <td>http://icondataset.org/riding-a-mule</td>\n",
       "      <td>https://w3id.org/icon/ontology/Action</td>\n",
       "      <td>http://icondataset.org/ART1197-IMG1</td>\n",
       "      <td>http://icondataset.org/silenus</td>\n",
       "      <td>https://w3id.org/icon/ontology/Character</td>\n",
       "    </tr>\n",
       "    <tr>\n",
       "      <th>3</th>\n",
       "      <td>http://icondataset.org/ART1197-AM23</td>\n",
       "      <td>http://icondataset.org/holding-with-the-other-...</td>\n",
       "      <td>https://w3id.org/icon/ontology/Action</td>\n",
       "      <td>http://icondataset.org/ART1197-IMG2</td>\n",
       "      <td>http://icondataset.org/bacchus</td>\n",
       "      <td>https://w3id.org/icon/ontology/Character</td>\n",
       "    </tr>\n",
       "    <tr>\n",
       "      <th>4</th>\n",
       "      <td>http://icondataset.org/ART1197-AM21</td>\n",
       "      <td>http://icondataset.org/holding-with-a-hand</td>\n",
       "      <td>https://w3id.org/icon/ontology/Action</td>\n",
       "      <td>http://icondataset.org/ART1197-IMG2</td>\n",
       "      <td>http://icondataset.org/bacchus</td>\n",
       "      <td>https://w3id.org/icon/ontology/Character</td>\n",
       "    </tr>\n",
       "    <tr>\n",
       "      <th>5</th>\n",
       "      <td>http://icondataset.org/ART1197-AM20</td>\n",
       "      <td>http://icondataset.org/tree-trunk-with-a-twist...</td>\n",
       "      <td>https://w3id.org/icon/ontology/NaturalElement</td>\n",
       "      <td>http://icondataset.org/ART1197-IMG2</td>\n",
       "      <td>http://icondataset.org/bacchus</td>\n",
       "      <td>https://w3id.org/icon/ontology/Character</td>\n",
       "    </tr>\n",
       "    <tr>\n",
       "      <th>6</th>\n",
       "      <td>http://icondataset.org/ART1197-AM17</td>\n",
       "      <td>http://icondataset.org/man</td>\n",
       "      <td>https://w3id.org/icon/ontology/NaturalElement</td>\n",
       "      <td>http://icondataset.org/ART1197-IMG2</td>\n",
       "      <td>http://icondataset.org/bacchus</td>\n",
       "      <td>https://w3id.org/icon/ontology/Character</td>\n",
       "    </tr>\n",
       "    <tr>\n",
       "      <th>7</th>\n",
       "      <td>http://icondataset.org/ART1197-AM19</td>\n",
       "      <td>http://icondataset.org/cup</td>\n",
       "      <td>https://w3id.org/icon/ontology/NaturalElement</td>\n",
       "      <td>http://icondataset.org/ART1197-IMG2</td>\n",
       "      <td>http://icondataset.org/bacchus</td>\n",
       "      <td>https://w3id.org/icon/ontology/Character</td>\n",
       "    </tr>\n",
       "    <tr>\n",
       "      <th>8</th>\n",
       "      <td>http://icondataset.org/ART1197-AM41</td>\n",
       "      <td>http://icondataset.org/human-figure-with-anima...</td>\n",
       "      <td>https://w3id.org/icon/ontology/NaturalElement</td>\n",
       "      <td>http://icondataset.org/ART1197-IMG13</td>\n",
       "      <td>http://icondataset.org/satyr</td>\n",
       "      <td>https://w3id.org/icon/ontology/Character</td>\n",
       "    </tr>\n",
       "    <tr>\n",
       "      <th>9</th>\n",
       "      <td>http://icondataset.org/ART1197-AM27</td>\n",
       "      <td>http://icondataset.org/wine-jug</td>\n",
       "      <td>https://w3id.org/icon/ontology/NaturalElement</td>\n",
       "      <td>http://icondataset.org/ART1197-IMG3</td>\n",
       "      <td>http://icondataset.org/ariadne</td>\n",
       "      <td>https://w3id.org/icon/ontology/Character</td>\n",
       "    </tr>\n",
       "    <tr>\n",
       "      <th>10</th>\n",
       "      <td>http://icondataset.org/ART1197-AM24</td>\n",
       "      <td>http://icondataset.org/woman</td>\n",
       "      <td>https://w3id.org/icon/ontology/NaturalElement</td>\n",
       "      <td>http://icondataset.org/ART1197-IMG3</td>\n",
       "      <td>http://icondataset.org/ariadne</td>\n",
       "      <td>https://w3id.org/icon/ontology/Character</td>\n",
       "    </tr>\n",
       "    <tr>\n",
       "      <th>11</th>\n",
       "      <td>http://icondataset.org/ART1197-AM26</td>\n",
       "      <td>http://icondataset.org/bearing</td>\n",
       "      <td>https://w3id.org/icon/ontology/Action</td>\n",
       "      <td>http://icondataset.org/ART1197-IMG3</td>\n",
       "      <td>http://icondataset.org/ariadne</td>\n",
       "      <td>https://w3id.org/icon/ontology/Character</td>\n",
       "    </tr>\n",
       "    <tr>\n",
       "      <th>12</th>\n",
       "      <td>http://icondataset.org/ART1197-AM25</td>\n",
       "      <td>http://icondataset.org/clothes</td>\n",
       "      <td>https://w3id.org/icon/ontology/NaturalElement</td>\n",
       "      <td>http://icondataset.org/ART1197-IMG3</td>\n",
       "      <td>http://icondataset.org/ariadne</td>\n",
       "      <td>https://w3id.org/icon/ontology/Character</td>\n",
       "    </tr>\n",
       "    <tr>\n",
       "      <th>13</th>\n",
       "      <td>http://icondataset.org/ART1197-AM49</td>\n",
       "      <td>http://icondataset.org/human-baby-with-animal-...</td>\n",
       "      <td>https://w3id.org/icon/ontology/NaturalElement</td>\n",
       "      <td>http://icondataset.org/ART1197-IMG14</td>\n",
       "      <td>http://icondataset.org/satyr</td>\n",
       "      <td>https://w3id.org/icon/ontology/Character</td>\n",
       "    </tr>\n",
       "    <tr>\n",
       "      <th>14</th>\n",
       "      <td>http://icondataset.org/ART1197-AM35</td>\n",
       "      <td>http://icondataset.org/human-figure-with-anima...</td>\n",
       "      <td>https://w3id.org/icon/ontology/NaturalElement</td>\n",
       "      <td>http://icondataset.org/ART1197-IMG11</td>\n",
       "      <td>http://icondataset.org/satyr</td>\n",
       "      <td>https://w3id.org/icon/ontology/Character</td>\n",
       "    </tr>\n",
       "    <tr>\n",
       "      <th>15</th>\n",
       "      <td>http://icondataset.org/ART1197-AM1</td>\n",
       "      <td>http://icondataset.org/human-figure-with-anima...</td>\n",
       "      <td>https://w3id.org/icon/ontology/NaturalElement</td>\n",
       "      <td>http://icondataset.org/ART1197-IMG10</td>\n",
       "      <td>http://icondataset.org/satyr</td>\n",
       "      <td>https://w3id.org/icon/ontology/Character</td>\n",
       "    </tr>\n",
       "    <tr>\n",
       "      <th>16</th>\n",
       "      <td>http://icondataset.org/ART1197-AM72</td>\n",
       "      <td>http://icondataset.org/woman-with-goat-legs</td>\n",
       "      <td>https://w3id.org/icon/ontology/NaturalElement</td>\n",
       "      <td>http://icondataset.org/ART1197-IMG9</td>\n",
       "      <td>http://icondataset.org/satyr</td>\n",
       "      <td>https://w3id.org/icon/ontology/Character</td>\n",
       "    </tr>\n",
       "    <tr>\n",
       "      <th>17</th>\n",
       "      <td>http://icondataset.org/ART1197-AM36</td>\n",
       "      <td>http://icondataset.org/human-figure-with-anima...</td>\n",
       "      <td>https://w3id.org/icon/ontology/NaturalElement</td>\n",
       "      <td>http://icondataset.org/ART1197-IMG12</td>\n",
       "      <td>http://icondataset.org/satyr</td>\n",
       "      <td>https://w3id.org/icon/ontology/Character</td>\n",
       "    </tr>\n",
       "    <tr>\n",
       "      <th>18</th>\n",
       "      <td>http://icondataset.org/ART1197-AM68</td>\n",
       "      <td>http://icondataset.org/cloud</td>\n",
       "      <td>https://w3id.org/icon/ontology/NaturalElement</td>\n",
       "      <td>http://icondataset.org/ART1197-IMG6</td>\n",
       "      <td>http://icondataset.org/threatening-and-wild-la...</td>\n",
       "      <td>https://w3id.org/simulation/ontology/Simulation</td>\n",
       "    </tr>\n",
       "    <tr>\n",
       "      <th>19</th>\n",
       "      <td>http://icondataset.org/ART1197-AM65</td>\n",
       "      <td>http://icondataset.org/wild-landscape</td>\n",
       "      <td>https://w3id.org/icon/ontology/NaturalElement</td>\n",
       "      <td>http://icondataset.org/ART1197-IMG6</td>\n",
       "      <td>http://icondataset.org/threatening-and-wild-la...</td>\n",
       "      <td>https://w3id.org/simulation/ontology/Simulation</td>\n",
       "    </tr>\n",
       "    <tr>\n",
       "      <th>20</th>\n",
       "      <td>http://icondataset.org/ART1197-AM66</td>\n",
       "      <td>http://icondataset.org/wild-animal</td>\n",
       "      <td>https://w3id.org/icon/ontology/NaturalElement</td>\n",
       "      <td>http://icondataset.org/ART1197-IMG6</td>\n",
       "      <td>http://icondataset.org/threatening-and-wild-la...</td>\n",
       "      <td>https://w3id.org/simulation/ontology/Simulation</td>\n",
       "    </tr>\n",
       "    <tr>\n",
       "      <th>21</th>\n",
       "      <td>http://icondataset.org/ART1197-AM67</td>\n",
       "      <td>http://icondataset.org/tree</td>\n",
       "      <td>https://w3id.org/icon/ontology/NaturalElement</td>\n",
       "      <td>http://icondataset.org/ART1197-IMG6</td>\n",
       "      <td>http://icondataset.org/threatening-and-wild-la...</td>\n",
       "      <td>https://w3id.org/simulation/ontology/Simulation</td>\n",
       "    </tr>\n",
       "    <tr>\n",
       "      <th>22</th>\n",
       "      <td>http://icondataset.org/ART1197-AM69</td>\n",
       "      <td>http://icondataset.org/rock</td>\n",
       "      <td>https://w3id.org/icon/ontology/NaturalElement</td>\n",
       "      <td>http://icondataset.org/ART1197-IMG6</td>\n",
       "      <td>http://icondataset.org/threatening-and-wild-la...</td>\n",
       "      <td>https://w3id.org/simulation/ontology/Simulation</td>\n",
       "    </tr>\n",
       "    <tr>\n",
       "      <th>23</th>\n",
       "      <td>http://icondataset.org/ART1197-AM63</td>\n",
       "      <td>http://icondataset.org/sky</td>\n",
       "      <td>https://w3id.org/icon/ontology/NaturalElement</td>\n",
       "      <td>http://icondataset.org/ART1197-IMG5</td>\n",
       "      <td>http://icondataset.org/peaceful-landscape-on-t...</td>\n",
       "      <td>https://w3id.org/simulation/ontology/Simulation</td>\n",
       "    </tr>\n",
       "    <tr>\n",
       "      <th>24</th>\n",
       "      <td>http://icondataset.org/ART1197-AM61</td>\n",
       "      <td>http://icondataset.org/lawn</td>\n",
       "      <td>https://w3id.org/icon/ontology/NaturalElement</td>\n",
       "      <td>http://icondataset.org/ART1197-IMG5</td>\n",
       "      <td>http://icondataset.org/peaceful-landscape-on-t...</td>\n",
       "      <td>https://w3id.org/simulation/ontology/Simulation</td>\n",
       "    </tr>\n",
       "    <tr>\n",
       "      <th>25</th>\n",
       "      <td>http://icondataset.org/ART1197-AM60</td>\n",
       "      <td>http://icondataset.org/building</td>\n",
       "      <td>https://w3id.org/icon/ontology/NaturalElement</td>\n",
       "      <td>http://icondataset.org/ART1197-IMG5</td>\n",
       "      <td>http://icondataset.org/peaceful-landscape-on-t...</td>\n",
       "      <td>https://w3id.org/simulation/ontology/Simulation</td>\n",
       "    </tr>\n",
       "    <tr>\n",
       "      <th>26</th>\n",
       "      <td>http://icondataset.org/ART1197-AM62</td>\n",
       "      <td>http://icondataset.org/tree</td>\n",
       "      <td>https://w3id.org/icon/ontology/NaturalElement</td>\n",
       "      <td>http://icondataset.org/ART1197-IMG5</td>\n",
       "      <td>http://icondataset.org/peaceful-landscape-on-t...</td>\n",
       "      <td>https://w3id.org/simulation/ontology/Simulation</td>\n",
       "    </tr>\n",
       "    <tr>\n",
       "      <th>27</th>\n",
       "      <td>http://icondataset.org/ART1197-AM68</td>\n",
       "      <td>http://icondataset.org/cloud</td>\n",
       "      <td>https://w3id.org/icon/ontology/NaturalElement</td>\n",
       "      <td>http://icondataset.org/ART1197-IMG6</td>\n",
       "      <td>http://icondataset.org/threatening-and-wild-la...</td>\n",
       "      <td>https://w3id.org/icon/ontology/Symbol</td>\n",
       "    </tr>\n",
       "    <tr>\n",
       "      <th>28</th>\n",
       "      <td>http://icondataset.org/ART1197-AM65</td>\n",
       "      <td>http://icondataset.org/wild-landscape</td>\n",
       "      <td>https://w3id.org/icon/ontology/NaturalElement</td>\n",
       "      <td>http://icondataset.org/ART1197-IMG6</td>\n",
       "      <td>http://icondataset.org/threatening-and-wild-la...</td>\n",
       "      <td>https://w3id.org/icon/ontology/Symbol</td>\n",
       "    </tr>\n",
       "    <tr>\n",
       "      <th>29</th>\n",
       "      <td>http://icondataset.org/ART1197-AM66</td>\n",
       "      <td>http://icondataset.org/wild-animal</td>\n",
       "      <td>https://w3id.org/icon/ontology/NaturalElement</td>\n",
       "      <td>http://icondataset.org/ART1197-IMG6</td>\n",
       "      <td>http://icondataset.org/threatening-and-wild-la...</td>\n",
       "      <td>https://w3id.org/icon/ontology/Symbol</td>\n",
       "    </tr>\n",
       "    <tr>\n",
       "      <th>30</th>\n",
       "      <td>http://icondataset.org/ART1197-AM67</td>\n",
       "      <td>http://icondataset.org/tree</td>\n",
       "      <td>https://w3id.org/icon/ontology/NaturalElement</td>\n",
       "      <td>http://icondataset.org/ART1197-IMG6</td>\n",
       "      <td>http://icondataset.org/threatening-and-wild-la...</td>\n",
       "      <td>https://w3id.org/icon/ontology/Symbol</td>\n",
       "    </tr>\n",
       "    <tr>\n",
       "      <th>31</th>\n",
       "      <td>http://icondataset.org/ART1197-AM69</td>\n",
       "      <td>http://icondataset.org/rock</td>\n",
       "      <td>https://w3id.org/icon/ontology/NaturalElement</td>\n",
       "      <td>http://icondataset.org/ART1197-IMG6</td>\n",
       "      <td>http://icondataset.org/threatening-and-wild-la...</td>\n",
       "      <td>https://w3id.org/icon/ontology/Symbol</td>\n",
       "    </tr>\n",
       "    <tr>\n",
       "      <th>32</th>\n",
       "      <td>http://icondataset.org/ART1197-AM63</td>\n",
       "      <td>http://icondataset.org/sky</td>\n",
       "      <td>https://w3id.org/icon/ontology/NaturalElement</td>\n",
       "      <td>http://icondataset.org/ART1197-IMG5</td>\n",
       "      <td>http://icondataset.org/peaceful-landscape-on-t...</td>\n",
       "      <td>https://w3id.org/icon/ontology/Symbol</td>\n",
       "    </tr>\n",
       "    <tr>\n",
       "      <th>33</th>\n",
       "      <td>http://icondataset.org/ART1197-AM61</td>\n",
       "      <td>http://icondataset.org/lawn</td>\n",
       "      <td>https://w3id.org/icon/ontology/NaturalElement</td>\n",
       "      <td>http://icondataset.org/ART1197-IMG5</td>\n",
       "      <td>http://icondataset.org/peaceful-landscape-on-t...</td>\n",
       "      <td>https://w3id.org/icon/ontology/Symbol</td>\n",
       "    </tr>\n",
       "    <tr>\n",
       "      <th>34</th>\n",
       "      <td>http://icondataset.org/ART1197-AM60</td>\n",
       "      <td>http://icondataset.org/building</td>\n",
       "      <td>https://w3id.org/icon/ontology/NaturalElement</td>\n",
       "      <td>http://icondataset.org/ART1197-IMG5</td>\n",
       "      <td>http://icondataset.org/peaceful-landscape-on-t...</td>\n",
       "      <td>https://w3id.org/icon/ontology/Symbol</td>\n",
       "    </tr>\n",
       "    <tr>\n",
       "      <th>35</th>\n",
       "      <td>http://icondataset.org/ART1197-AM62</td>\n",
       "      <td>http://icondataset.org/tree</td>\n",
       "      <td>https://w3id.org/icon/ontology/NaturalElement</td>\n",
       "      <td>http://icondataset.org/ART1197-IMG5</td>\n",
       "      <td>http://icondataset.org/peaceful-landscape-on-t...</td>\n",
       "      <td>https://w3id.org/icon/ontology/Symbol</td>\n",
       "    </tr>\n",
       "  </tbody>\n",
       "</table>\n",
       "</div>"
      ],
      "text/plain": [
       "                                     am  \\\n",
       "0   http://icondataset.org/ART1197-AM18   \n",
       "1   http://icondataset.org/ART1197-AM12   \n",
       "2   http://icondataset.org/ART1197-AM13   \n",
       "3   http://icondataset.org/ART1197-AM23   \n",
       "4   http://icondataset.org/ART1197-AM21   \n",
       "5   http://icondataset.org/ART1197-AM20   \n",
       "6   http://icondataset.org/ART1197-AM17   \n",
       "7   http://icondataset.org/ART1197-AM19   \n",
       "8   http://icondataset.org/ART1197-AM41   \n",
       "9   http://icondataset.org/ART1197-AM27   \n",
       "10  http://icondataset.org/ART1197-AM24   \n",
       "11  http://icondataset.org/ART1197-AM26   \n",
       "12  http://icondataset.org/ART1197-AM25   \n",
       "13  http://icondataset.org/ART1197-AM49   \n",
       "14  http://icondataset.org/ART1197-AM35   \n",
       "15   http://icondataset.org/ART1197-AM1   \n",
       "16  http://icondataset.org/ART1197-AM72   \n",
       "17  http://icondataset.org/ART1197-AM36   \n",
       "18  http://icondataset.org/ART1197-AM68   \n",
       "19  http://icondataset.org/ART1197-AM65   \n",
       "20  http://icondataset.org/ART1197-AM66   \n",
       "21  http://icondataset.org/ART1197-AM67   \n",
       "22  http://icondataset.org/ART1197-AM69   \n",
       "23  http://icondataset.org/ART1197-AM63   \n",
       "24  http://icondataset.org/ART1197-AM61   \n",
       "25  http://icondataset.org/ART1197-AM60   \n",
       "26  http://icondataset.org/ART1197-AM62   \n",
       "27  http://icondataset.org/ART1197-AM68   \n",
       "28  http://icondataset.org/ART1197-AM65   \n",
       "29  http://icondataset.org/ART1197-AM66   \n",
       "30  http://icondataset.org/ART1197-AM67   \n",
       "31  http://icondataset.org/ART1197-AM69   \n",
       "32  http://icondataset.org/ART1197-AM63   \n",
       "33  http://icondataset.org/ART1197-AM61   \n",
       "34  http://icondataset.org/ART1197-AM60   \n",
       "35  http://icondataset.org/ART1197-AM62   \n",
       "\n",
       "                                                subj1  \\\n",
       "0                      http://icondataset.org/smiling   \n",
       "1                          http://icondataset.org/man   \n",
       "2                http://icondataset.org/riding-a-mule   \n",
       "3   http://icondataset.org/holding-with-the-other-...   \n",
       "4          http://icondataset.org/holding-with-a-hand   \n",
       "5   http://icondataset.org/tree-trunk-with-a-twist...   \n",
       "6                          http://icondataset.org/man   \n",
       "7                          http://icondataset.org/cup   \n",
       "8   http://icondataset.org/human-figure-with-anima...   \n",
       "9                     http://icondataset.org/wine-jug   \n",
       "10                       http://icondataset.org/woman   \n",
       "11                     http://icondataset.org/bearing   \n",
       "12                     http://icondataset.org/clothes   \n",
       "13  http://icondataset.org/human-baby-with-animal-...   \n",
       "14  http://icondataset.org/human-figure-with-anima...   \n",
       "15  http://icondataset.org/human-figure-with-anima...   \n",
       "16        http://icondataset.org/woman-with-goat-legs   \n",
       "17  http://icondataset.org/human-figure-with-anima...   \n",
       "18                       http://icondataset.org/cloud   \n",
       "19              http://icondataset.org/wild-landscape   \n",
       "20                 http://icondataset.org/wild-animal   \n",
       "21                        http://icondataset.org/tree   \n",
       "22                        http://icondataset.org/rock   \n",
       "23                         http://icondataset.org/sky   \n",
       "24                        http://icondataset.org/lawn   \n",
       "25                    http://icondataset.org/building   \n",
       "26                        http://icondataset.org/tree   \n",
       "27                       http://icondataset.org/cloud   \n",
       "28              http://icondataset.org/wild-landscape   \n",
       "29                 http://icondataset.org/wild-animal   \n",
       "30                        http://icondataset.org/tree   \n",
       "31                        http://icondataset.org/rock   \n",
       "32                         http://icondataset.org/sky   \n",
       "33                        http://icondataset.org/lawn   \n",
       "34                    http://icondataset.org/building   \n",
       "35                        http://icondataset.org/tree   \n",
       "\n",
       "                                                type1  \\\n",
       "0   https://w3id.org/icon/ontology/ExpressionalQua...   \n",
       "1       https://w3id.org/icon/ontology/NaturalElement   \n",
       "2               https://w3id.org/icon/ontology/Action   \n",
       "3               https://w3id.org/icon/ontology/Action   \n",
       "4               https://w3id.org/icon/ontology/Action   \n",
       "5       https://w3id.org/icon/ontology/NaturalElement   \n",
       "6       https://w3id.org/icon/ontology/NaturalElement   \n",
       "7       https://w3id.org/icon/ontology/NaturalElement   \n",
       "8       https://w3id.org/icon/ontology/NaturalElement   \n",
       "9       https://w3id.org/icon/ontology/NaturalElement   \n",
       "10      https://w3id.org/icon/ontology/NaturalElement   \n",
       "11              https://w3id.org/icon/ontology/Action   \n",
       "12      https://w3id.org/icon/ontology/NaturalElement   \n",
       "13      https://w3id.org/icon/ontology/NaturalElement   \n",
       "14      https://w3id.org/icon/ontology/NaturalElement   \n",
       "15      https://w3id.org/icon/ontology/NaturalElement   \n",
       "16      https://w3id.org/icon/ontology/NaturalElement   \n",
       "17      https://w3id.org/icon/ontology/NaturalElement   \n",
       "18      https://w3id.org/icon/ontology/NaturalElement   \n",
       "19      https://w3id.org/icon/ontology/NaturalElement   \n",
       "20      https://w3id.org/icon/ontology/NaturalElement   \n",
       "21      https://w3id.org/icon/ontology/NaturalElement   \n",
       "22      https://w3id.org/icon/ontology/NaturalElement   \n",
       "23      https://w3id.org/icon/ontology/NaturalElement   \n",
       "24      https://w3id.org/icon/ontology/NaturalElement   \n",
       "25      https://w3id.org/icon/ontology/NaturalElement   \n",
       "26      https://w3id.org/icon/ontology/NaturalElement   \n",
       "27      https://w3id.org/icon/ontology/NaturalElement   \n",
       "28      https://w3id.org/icon/ontology/NaturalElement   \n",
       "29      https://w3id.org/icon/ontology/NaturalElement   \n",
       "30      https://w3id.org/icon/ontology/NaturalElement   \n",
       "31      https://w3id.org/icon/ontology/NaturalElement   \n",
       "32      https://w3id.org/icon/ontology/NaturalElement   \n",
       "33      https://w3id.org/icon/ontology/NaturalElement   \n",
       "34      https://w3id.org/icon/ontology/NaturalElement   \n",
       "35      https://w3id.org/icon/ontology/NaturalElement   \n",
       "\n",
       "                                   image  \\\n",
       "0    http://icondataset.org/ART1197-IMG2   \n",
       "1    http://icondataset.org/ART1197-IMG1   \n",
       "2    http://icondataset.org/ART1197-IMG1   \n",
       "3    http://icondataset.org/ART1197-IMG2   \n",
       "4    http://icondataset.org/ART1197-IMG2   \n",
       "5    http://icondataset.org/ART1197-IMG2   \n",
       "6    http://icondataset.org/ART1197-IMG2   \n",
       "7    http://icondataset.org/ART1197-IMG2   \n",
       "8   http://icondataset.org/ART1197-IMG13   \n",
       "9    http://icondataset.org/ART1197-IMG3   \n",
       "10   http://icondataset.org/ART1197-IMG3   \n",
       "11   http://icondataset.org/ART1197-IMG3   \n",
       "12   http://icondataset.org/ART1197-IMG3   \n",
       "13  http://icondataset.org/ART1197-IMG14   \n",
       "14  http://icondataset.org/ART1197-IMG11   \n",
       "15  http://icondataset.org/ART1197-IMG10   \n",
       "16   http://icondataset.org/ART1197-IMG9   \n",
       "17  http://icondataset.org/ART1197-IMG12   \n",
       "18   http://icondataset.org/ART1197-IMG6   \n",
       "19   http://icondataset.org/ART1197-IMG6   \n",
       "20   http://icondataset.org/ART1197-IMG6   \n",
       "21   http://icondataset.org/ART1197-IMG6   \n",
       "22   http://icondataset.org/ART1197-IMG6   \n",
       "23   http://icondataset.org/ART1197-IMG5   \n",
       "24   http://icondataset.org/ART1197-IMG5   \n",
       "25   http://icondataset.org/ART1197-IMG5   \n",
       "26   http://icondataset.org/ART1197-IMG5   \n",
       "27   http://icondataset.org/ART1197-IMG6   \n",
       "28   http://icondataset.org/ART1197-IMG6   \n",
       "29   http://icondataset.org/ART1197-IMG6   \n",
       "30   http://icondataset.org/ART1197-IMG6   \n",
       "31   http://icondataset.org/ART1197-IMG6   \n",
       "32   http://icondataset.org/ART1197-IMG5   \n",
       "33   http://icondataset.org/ART1197-IMG5   \n",
       "34   http://icondataset.org/ART1197-IMG5   \n",
       "35   http://icondataset.org/ART1197-IMG5   \n",
       "\n",
       "                                                subj2  \\\n",
       "0                      http://icondataset.org/bacchus   \n",
       "1                      http://icondataset.org/silenus   \n",
       "2                      http://icondataset.org/silenus   \n",
       "3                      http://icondataset.org/bacchus   \n",
       "4                      http://icondataset.org/bacchus   \n",
       "5                      http://icondataset.org/bacchus   \n",
       "6                      http://icondataset.org/bacchus   \n",
       "7                      http://icondataset.org/bacchus   \n",
       "8                        http://icondataset.org/satyr   \n",
       "9                      http://icondataset.org/ariadne   \n",
       "10                     http://icondataset.org/ariadne   \n",
       "11                     http://icondataset.org/ariadne   \n",
       "12                     http://icondataset.org/ariadne   \n",
       "13                       http://icondataset.org/satyr   \n",
       "14                       http://icondataset.org/satyr   \n",
       "15                       http://icondataset.org/satyr   \n",
       "16                       http://icondataset.org/satyr   \n",
       "17                       http://icondataset.org/satyr   \n",
       "18  http://icondataset.org/threatening-and-wild-la...   \n",
       "19  http://icondataset.org/threatening-and-wild-la...   \n",
       "20  http://icondataset.org/threatening-and-wild-la...   \n",
       "21  http://icondataset.org/threatening-and-wild-la...   \n",
       "22  http://icondataset.org/threatening-and-wild-la...   \n",
       "23  http://icondataset.org/peaceful-landscape-on-t...   \n",
       "24  http://icondataset.org/peaceful-landscape-on-t...   \n",
       "25  http://icondataset.org/peaceful-landscape-on-t...   \n",
       "26  http://icondataset.org/peaceful-landscape-on-t...   \n",
       "27  http://icondataset.org/threatening-and-wild-la...   \n",
       "28  http://icondataset.org/threatening-and-wild-la...   \n",
       "29  http://icondataset.org/threatening-and-wild-la...   \n",
       "30  http://icondataset.org/threatening-and-wild-la...   \n",
       "31  http://icondataset.org/threatening-and-wild-la...   \n",
       "32  http://icondataset.org/peaceful-landscape-on-t...   \n",
       "33  http://icondataset.org/peaceful-landscape-on-t...   \n",
       "34  http://icondataset.org/peaceful-landscape-on-t...   \n",
       "35  http://icondataset.org/peaceful-landscape-on-t...   \n",
       "\n",
       "                                              type2  \n",
       "0          https://w3id.org/icon/ontology/Character  \n",
       "1          https://w3id.org/icon/ontology/Character  \n",
       "2          https://w3id.org/icon/ontology/Character  \n",
       "3          https://w3id.org/icon/ontology/Character  \n",
       "4          https://w3id.org/icon/ontology/Character  \n",
       "5          https://w3id.org/icon/ontology/Character  \n",
       "6          https://w3id.org/icon/ontology/Character  \n",
       "7          https://w3id.org/icon/ontology/Character  \n",
       "8          https://w3id.org/icon/ontology/Character  \n",
       "9          https://w3id.org/icon/ontology/Character  \n",
       "10         https://w3id.org/icon/ontology/Character  \n",
       "11         https://w3id.org/icon/ontology/Character  \n",
       "12         https://w3id.org/icon/ontology/Character  \n",
       "13         https://w3id.org/icon/ontology/Character  \n",
       "14         https://w3id.org/icon/ontology/Character  \n",
       "15         https://w3id.org/icon/ontology/Character  \n",
       "16         https://w3id.org/icon/ontology/Character  \n",
       "17         https://w3id.org/icon/ontology/Character  \n",
       "18  https://w3id.org/simulation/ontology/Simulation  \n",
       "19  https://w3id.org/simulation/ontology/Simulation  \n",
       "20  https://w3id.org/simulation/ontology/Simulation  \n",
       "21  https://w3id.org/simulation/ontology/Simulation  \n",
       "22  https://w3id.org/simulation/ontology/Simulation  \n",
       "23  https://w3id.org/simulation/ontology/Simulation  \n",
       "24  https://w3id.org/simulation/ontology/Simulation  \n",
       "25  https://w3id.org/simulation/ontology/Simulation  \n",
       "26  https://w3id.org/simulation/ontology/Simulation  \n",
       "27            https://w3id.org/icon/ontology/Symbol  \n",
       "28            https://w3id.org/icon/ontology/Symbol  \n",
       "29            https://w3id.org/icon/ontology/Symbol  \n",
       "30            https://w3id.org/icon/ontology/Symbol  \n",
       "31            https://w3id.org/icon/ontology/Symbol  \n",
       "32            https://w3id.org/icon/ontology/Symbol  \n",
       "33            https://w3id.org/icon/ontology/Symbol  \n",
       "34            https://w3id.org/icon/ontology/Symbol  \n",
       "35            https://w3id.org/icon/ontology/Symbol  "
      ]
     },
     "execution_count": 14,
     "metadata": {},
     "output_type": "execute_result"
    }
   ],
   "source": [
    "df_test1 = pd.DataFrame(np.array(test_1),\n",
    "                   columns=['am', 'subj1', 'type1', 'image', 'subj2', 'type2'])\n",
    "\n",
    "df_test1"
   ]
  },
  {
   "cell_type": "code",
   "execution_count": 15,
   "id": "78018b9d",
   "metadata": {},
   "outputs": [
    {
     "data": {
      "text/html": [
       "<div>\n",
       "<style scoped>\n",
       "    .dataframe tbody tr th:only-of-type {\n",
       "        vertical-align: middle;\n",
       "    }\n",
       "\n",
       "    .dataframe tbody tr th {\n",
       "        vertical-align: top;\n",
       "    }\n",
       "\n",
       "    .dataframe thead th {\n",
       "        text-align: right;\n",
       "    }\n",
       "</style>\n",
       "<table border=\"1\" class=\"dataframe\">\n",
       "  <thead>\n",
       "    <tr style=\"text-align: right;\">\n",
       "      <th></th>\n",
       "      <th>source</th>\n",
       "      <th>target</th>\n",
       "      <th>value</th>\n",
       "    </tr>\n",
       "  </thead>\n",
       "  <tbody>\n",
       "    <tr>\n",
       "      <th>0</th>\n",
       "      <td>https://w3id.org/icon/ontology/Action</td>\n",
       "      <td>https://w3id.org/icon/ontology/Character</td>\n",
       "      <td>4</td>\n",
       "    </tr>\n",
       "    <tr>\n",
       "      <th>1</th>\n",
       "      <td>https://w3id.org/icon/ontology/ExpressionalQua...</td>\n",
       "      <td>https://w3id.org/icon/ontology/Character</td>\n",
       "      <td>1</td>\n",
       "    </tr>\n",
       "    <tr>\n",
       "      <th>2</th>\n",
       "      <td>https://w3id.org/icon/ontology/NaturalElement</td>\n",
       "      <td>https://w3id.org/icon/ontology/Character</td>\n",
       "      <td>13</td>\n",
       "    </tr>\n",
       "    <tr>\n",
       "      <th>3</th>\n",
       "      <td>https://w3id.org/icon/ontology/NaturalElement</td>\n",
       "      <td>https://w3id.org/icon/ontology/Symbol</td>\n",
       "      <td>9</td>\n",
       "    </tr>\n",
       "    <tr>\n",
       "      <th>4</th>\n",
       "      <td>https://w3id.org/icon/ontology/NaturalElement</td>\n",
       "      <td>https://w3id.org/simulation/ontology/Simulation</td>\n",
       "      <td>9</td>\n",
       "    </tr>\n",
       "  </tbody>\n",
       "</table>\n",
       "</div>"
      ],
      "text/plain": [
       "                                              source  \\\n",
       "0              https://w3id.org/icon/ontology/Action   \n",
       "1  https://w3id.org/icon/ontology/ExpressionalQua...   \n",
       "2      https://w3id.org/icon/ontology/NaturalElement   \n",
       "3      https://w3id.org/icon/ontology/NaturalElement   \n",
       "4      https://w3id.org/icon/ontology/NaturalElement   \n",
       "\n",
       "                                            target  value  \n",
       "0         https://w3id.org/icon/ontology/Character      4  \n",
       "1         https://w3id.org/icon/ontology/Character      1  \n",
       "2         https://w3id.org/icon/ontology/Character     13  \n",
       "3            https://w3id.org/icon/ontology/Symbol      9  \n",
       "4  https://w3id.org/simulation/ontology/Simulation      9  "
      ]
     },
     "execution_count": 15,
     "metadata": {},
     "output_type": "execute_result"
    }
   ],
   "source": [
    "df_lev1 = df_test1.groupby([\"type1\", \"type2\"])[\"am\"].count().reset_index()\n",
    "df_lev1.columns = [\"source\", \"target\", \"value\"]\n",
    "df_lev1"
   ]
  },
  {
   "cell_type": "code",
   "execution_count": 16,
   "id": "300f052f",
   "metadata": {},
   "outputs": [
    {
     "data": {
      "text/plain": [
       "['https://w3id.org/icon/ontology/Action',\n",
       " 'https://w3id.org/icon/ontology/ExpressionalQuality',\n",
       " 'https://w3id.org/icon/ontology/NaturalElement',\n",
       " 'https://w3id.org/icon/ontology/Character',\n",
       " 'https://w3id.org/icon/ontology/Symbol',\n",
       " 'https://w3id.org/simulation/ontology/Simulation']"
      ]
     },
     "execution_count": 16,
     "metadata": {},
     "output_type": "execute_result"
    }
   ],
   "source": [
    "# we extract all the unique values\n",
    "unique_source_target = list(pd.unique(df_lev1[[\"source\", \"target\"]].values.ravel(\"K\")))\n",
    "unique_source_target"
   ]
  },
  {
   "cell_type": "code",
   "execution_count": 17,
   "id": "4c54d91c",
   "metadata": {},
   "outputs": [
    {
     "data": {
      "text/plain": [
       "{'https://w3id.org/icon/ontology/Action': 0,\n",
       " 'https://w3id.org/icon/ontology/ExpressionalQuality': 1,\n",
       " 'https://w3id.org/icon/ontology/NaturalElement': 2,\n",
       " 'https://w3id.org/icon/ontology/Character': 3,\n",
       " 'https://w3id.org/icon/ontology/Symbol': 4,\n",
       " 'https://w3id.org/simulation/ontology/Simulation': 5}"
      ]
     },
     "execution_count": 17,
     "metadata": {},
     "output_type": "execute_result"
    }
   ],
   "source": [
    "# we map the labels with their index in the list\n",
    "mapping_dict = {k:v for v, k in enumerate(unique_source_target)}\n",
    "mapping_dict"
   ]
  },
  {
   "cell_type": "code",
   "execution_count": 18,
   "id": "62b602c9",
   "metadata": {},
   "outputs": [],
   "source": [
    "# we replace names with the indices\n",
    "df_lev1[\"source\"] = df_lev1[\"source\"].map(mapping_dict)\n",
    "df_lev1[\"target\"] = df_lev1[\"target\"].map(mapping_dict)"
   ]
  },
  {
   "cell_type": "code",
   "execution_count": 19,
   "id": "d5c3517f",
   "metadata": {},
   "outputs": [],
   "source": [
    "# we transform the dataframe in a dict\n",
    "lev1_dict = df_lev1.to_dict(orient =\"list\")"
   ]
  },
  {
   "cell_type": "code",
   "execution_count": 20,
   "id": "a242df81",
   "metadata": {},
   "outputs": [
    {
     "data": {
      "application/vnd.plotly.v1+json": {
       "config": {
        "plotlyServerURL": "https://plot.ly"
       },
       "data": [
        {
         "link": {
          "source": [
           0,
           1,
           2,
           2,
           2
          ],
          "target": [
           3,
           3,
           3,
           4,
           5
          ],
          "value": [
           4,
           1,
           13,
           9,
           9
          ]
         },
         "node": {
          "color": "blue",
          "label": [
           "https://w3id.org/icon/ontology/Action",
           "https://w3id.org/icon/ontology/ExpressionalQuality",
           "https://w3id.org/icon/ontology/NaturalElement",
           "https://w3id.org/icon/ontology/Character",
           "https://w3id.org/icon/ontology/Symbol",
           "https://w3id.org/simulation/ontology/Simulation"
          ],
          "line": {
           "color": "black",
           "width": 0.5
          },
          "pad": 15,
          "thickness": 20
         },
         "type": "sankey"
        }
       ],
       "layout": {
        "font": {
         "size": 10
        },
        "template": {
         "data": {
          "bar": [
           {
            "error_x": {
             "color": "#2a3f5f"
            },
            "error_y": {
             "color": "#2a3f5f"
            },
            "marker": {
             "line": {
              "color": "#E5ECF6",
              "width": 0.5
             },
             "pattern": {
              "fillmode": "overlay",
              "size": 10,
              "solidity": 0.2
             }
            },
            "type": "bar"
           }
          ],
          "barpolar": [
           {
            "marker": {
             "line": {
              "color": "#E5ECF6",
              "width": 0.5
             },
             "pattern": {
              "fillmode": "overlay",
              "size": 10,
              "solidity": 0.2
             }
            },
            "type": "barpolar"
           }
          ],
          "carpet": [
           {
            "aaxis": {
             "endlinecolor": "#2a3f5f",
             "gridcolor": "white",
             "linecolor": "white",
             "minorgridcolor": "white",
             "startlinecolor": "#2a3f5f"
            },
            "baxis": {
             "endlinecolor": "#2a3f5f",
             "gridcolor": "white",
             "linecolor": "white",
             "minorgridcolor": "white",
             "startlinecolor": "#2a3f5f"
            },
            "type": "carpet"
           }
          ],
          "choropleth": [
           {
            "colorbar": {
             "outlinewidth": 0,
             "ticks": ""
            },
            "type": "choropleth"
           }
          ],
          "contour": [
           {
            "colorbar": {
             "outlinewidth": 0,
             "ticks": ""
            },
            "colorscale": [
             [
              0,
              "#0d0887"
             ],
             [
              0.1111111111111111,
              "#46039f"
             ],
             [
              0.2222222222222222,
              "#7201a8"
             ],
             [
              0.3333333333333333,
              "#9c179e"
             ],
             [
              0.4444444444444444,
              "#bd3786"
             ],
             [
              0.5555555555555556,
              "#d8576b"
             ],
             [
              0.6666666666666666,
              "#ed7953"
             ],
             [
              0.7777777777777778,
              "#fb9f3a"
             ],
             [
              0.8888888888888888,
              "#fdca26"
             ],
             [
              1,
              "#f0f921"
             ]
            ],
            "type": "contour"
           }
          ],
          "contourcarpet": [
           {
            "colorbar": {
             "outlinewidth": 0,
             "ticks": ""
            },
            "type": "contourcarpet"
           }
          ],
          "heatmap": [
           {
            "colorbar": {
             "outlinewidth": 0,
             "ticks": ""
            },
            "colorscale": [
             [
              0,
              "#0d0887"
             ],
             [
              0.1111111111111111,
              "#46039f"
             ],
             [
              0.2222222222222222,
              "#7201a8"
             ],
             [
              0.3333333333333333,
              "#9c179e"
             ],
             [
              0.4444444444444444,
              "#bd3786"
             ],
             [
              0.5555555555555556,
              "#d8576b"
             ],
             [
              0.6666666666666666,
              "#ed7953"
             ],
             [
              0.7777777777777778,
              "#fb9f3a"
             ],
             [
              0.8888888888888888,
              "#fdca26"
             ],
             [
              1,
              "#f0f921"
             ]
            ],
            "type": "heatmap"
           }
          ],
          "heatmapgl": [
           {
            "colorbar": {
             "outlinewidth": 0,
             "ticks": ""
            },
            "colorscale": [
             [
              0,
              "#0d0887"
             ],
             [
              0.1111111111111111,
              "#46039f"
             ],
             [
              0.2222222222222222,
              "#7201a8"
             ],
             [
              0.3333333333333333,
              "#9c179e"
             ],
             [
              0.4444444444444444,
              "#bd3786"
             ],
             [
              0.5555555555555556,
              "#d8576b"
             ],
             [
              0.6666666666666666,
              "#ed7953"
             ],
             [
              0.7777777777777778,
              "#fb9f3a"
             ],
             [
              0.8888888888888888,
              "#fdca26"
             ],
             [
              1,
              "#f0f921"
             ]
            ],
            "type": "heatmapgl"
           }
          ],
          "histogram": [
           {
            "marker": {
             "pattern": {
              "fillmode": "overlay",
              "size": 10,
              "solidity": 0.2
             }
            },
            "type": "histogram"
           }
          ],
          "histogram2d": [
           {
            "colorbar": {
             "outlinewidth": 0,
             "ticks": ""
            },
            "colorscale": [
             [
              0,
              "#0d0887"
             ],
             [
              0.1111111111111111,
              "#46039f"
             ],
             [
              0.2222222222222222,
              "#7201a8"
             ],
             [
              0.3333333333333333,
              "#9c179e"
             ],
             [
              0.4444444444444444,
              "#bd3786"
             ],
             [
              0.5555555555555556,
              "#d8576b"
             ],
             [
              0.6666666666666666,
              "#ed7953"
             ],
             [
              0.7777777777777778,
              "#fb9f3a"
             ],
             [
              0.8888888888888888,
              "#fdca26"
             ],
             [
              1,
              "#f0f921"
             ]
            ],
            "type": "histogram2d"
           }
          ],
          "histogram2dcontour": [
           {
            "colorbar": {
             "outlinewidth": 0,
             "ticks": ""
            },
            "colorscale": [
             [
              0,
              "#0d0887"
             ],
             [
              0.1111111111111111,
              "#46039f"
             ],
             [
              0.2222222222222222,
              "#7201a8"
             ],
             [
              0.3333333333333333,
              "#9c179e"
             ],
             [
              0.4444444444444444,
              "#bd3786"
             ],
             [
              0.5555555555555556,
              "#d8576b"
             ],
             [
              0.6666666666666666,
              "#ed7953"
             ],
             [
              0.7777777777777778,
              "#fb9f3a"
             ],
             [
              0.8888888888888888,
              "#fdca26"
             ],
             [
              1,
              "#f0f921"
             ]
            ],
            "type": "histogram2dcontour"
           }
          ],
          "mesh3d": [
           {
            "colorbar": {
             "outlinewidth": 0,
             "ticks": ""
            },
            "type": "mesh3d"
           }
          ],
          "parcoords": [
           {
            "line": {
             "colorbar": {
              "outlinewidth": 0,
              "ticks": ""
             }
            },
            "type": "parcoords"
           }
          ],
          "pie": [
           {
            "automargin": true,
            "type": "pie"
           }
          ],
          "scatter": [
           {
            "fillpattern": {
             "fillmode": "overlay",
             "size": 10,
             "solidity": 0.2
            },
            "type": "scatter"
           }
          ],
          "scatter3d": [
           {
            "line": {
             "colorbar": {
              "outlinewidth": 0,
              "ticks": ""
             }
            },
            "marker": {
             "colorbar": {
              "outlinewidth": 0,
              "ticks": ""
             }
            },
            "type": "scatter3d"
           }
          ],
          "scattercarpet": [
           {
            "marker": {
             "colorbar": {
              "outlinewidth": 0,
              "ticks": ""
             }
            },
            "type": "scattercarpet"
           }
          ],
          "scattergeo": [
           {
            "marker": {
             "colorbar": {
              "outlinewidth": 0,
              "ticks": ""
             }
            },
            "type": "scattergeo"
           }
          ],
          "scattergl": [
           {
            "marker": {
             "colorbar": {
              "outlinewidth": 0,
              "ticks": ""
             }
            },
            "type": "scattergl"
           }
          ],
          "scattermapbox": [
           {
            "marker": {
             "colorbar": {
              "outlinewidth": 0,
              "ticks": ""
             }
            },
            "type": "scattermapbox"
           }
          ],
          "scatterpolar": [
           {
            "marker": {
             "colorbar": {
              "outlinewidth": 0,
              "ticks": ""
             }
            },
            "type": "scatterpolar"
           }
          ],
          "scatterpolargl": [
           {
            "marker": {
             "colorbar": {
              "outlinewidth": 0,
              "ticks": ""
             }
            },
            "type": "scatterpolargl"
           }
          ],
          "scatterternary": [
           {
            "marker": {
             "colorbar": {
              "outlinewidth": 0,
              "ticks": ""
             }
            },
            "type": "scatterternary"
           }
          ],
          "surface": [
           {
            "colorbar": {
             "outlinewidth": 0,
             "ticks": ""
            },
            "colorscale": [
             [
              0,
              "#0d0887"
             ],
             [
              0.1111111111111111,
              "#46039f"
             ],
             [
              0.2222222222222222,
              "#7201a8"
             ],
             [
              0.3333333333333333,
              "#9c179e"
             ],
             [
              0.4444444444444444,
              "#bd3786"
             ],
             [
              0.5555555555555556,
              "#d8576b"
             ],
             [
              0.6666666666666666,
              "#ed7953"
             ],
             [
              0.7777777777777778,
              "#fb9f3a"
             ],
             [
              0.8888888888888888,
              "#fdca26"
             ],
             [
              1,
              "#f0f921"
             ]
            ],
            "type": "surface"
           }
          ],
          "table": [
           {
            "cells": {
             "fill": {
              "color": "#EBF0F8"
             },
             "line": {
              "color": "white"
             }
            },
            "header": {
             "fill": {
              "color": "#C8D4E3"
             },
             "line": {
              "color": "white"
             }
            },
            "type": "table"
           }
          ]
         },
         "layout": {
          "annotationdefaults": {
           "arrowcolor": "#2a3f5f",
           "arrowhead": 0,
           "arrowwidth": 1
          },
          "autotypenumbers": "strict",
          "coloraxis": {
           "colorbar": {
            "outlinewidth": 0,
            "ticks": ""
           }
          },
          "colorscale": {
           "diverging": [
            [
             0,
             "#8e0152"
            ],
            [
             0.1,
             "#c51b7d"
            ],
            [
             0.2,
             "#de77ae"
            ],
            [
             0.3,
             "#f1b6da"
            ],
            [
             0.4,
             "#fde0ef"
            ],
            [
             0.5,
             "#f7f7f7"
            ],
            [
             0.6,
             "#e6f5d0"
            ],
            [
             0.7,
             "#b8e186"
            ],
            [
             0.8,
             "#7fbc41"
            ],
            [
             0.9,
             "#4d9221"
            ],
            [
             1,
             "#276419"
            ]
           ],
           "sequential": [
            [
             0,
             "#0d0887"
            ],
            [
             0.1111111111111111,
             "#46039f"
            ],
            [
             0.2222222222222222,
             "#7201a8"
            ],
            [
             0.3333333333333333,
             "#9c179e"
            ],
            [
             0.4444444444444444,
             "#bd3786"
            ],
            [
             0.5555555555555556,
             "#d8576b"
            ],
            [
             0.6666666666666666,
             "#ed7953"
            ],
            [
             0.7777777777777778,
             "#fb9f3a"
            ],
            [
             0.8888888888888888,
             "#fdca26"
            ],
            [
             1,
             "#f0f921"
            ]
           ],
           "sequentialminus": [
            [
             0,
             "#0d0887"
            ],
            [
             0.1111111111111111,
             "#46039f"
            ],
            [
             0.2222222222222222,
             "#7201a8"
            ],
            [
             0.3333333333333333,
             "#9c179e"
            ],
            [
             0.4444444444444444,
             "#bd3786"
            ],
            [
             0.5555555555555556,
             "#d8576b"
            ],
            [
             0.6666666666666666,
             "#ed7953"
            ],
            [
             0.7777777777777778,
             "#fb9f3a"
            ],
            [
             0.8888888888888888,
             "#fdca26"
            ],
            [
             1,
             "#f0f921"
            ]
           ]
          },
          "colorway": [
           "#636efa",
           "#EF553B",
           "#00cc96",
           "#ab63fa",
           "#FFA15A",
           "#19d3f3",
           "#FF6692",
           "#B6E880",
           "#FF97FF",
           "#FECB52"
          ],
          "font": {
           "color": "#2a3f5f"
          },
          "geo": {
           "bgcolor": "white",
           "lakecolor": "white",
           "landcolor": "#E5ECF6",
           "showlakes": true,
           "showland": true,
           "subunitcolor": "white"
          },
          "hoverlabel": {
           "align": "left"
          },
          "hovermode": "closest",
          "mapbox": {
           "style": "light"
          },
          "paper_bgcolor": "white",
          "plot_bgcolor": "#E5ECF6",
          "polar": {
           "angularaxis": {
            "gridcolor": "white",
            "linecolor": "white",
            "ticks": ""
           },
           "bgcolor": "#E5ECF6",
           "radialaxis": {
            "gridcolor": "white",
            "linecolor": "white",
            "ticks": ""
           }
          },
          "scene": {
           "xaxis": {
            "backgroundcolor": "#E5ECF6",
            "gridcolor": "white",
            "gridwidth": 2,
            "linecolor": "white",
            "showbackground": true,
            "ticks": "",
            "zerolinecolor": "white"
           },
           "yaxis": {
            "backgroundcolor": "#E5ECF6",
            "gridcolor": "white",
            "gridwidth": 2,
            "linecolor": "white",
            "showbackground": true,
            "ticks": "",
            "zerolinecolor": "white"
           },
           "zaxis": {
            "backgroundcolor": "#E5ECF6",
            "gridcolor": "white",
            "gridwidth": 2,
            "linecolor": "white",
            "showbackground": true,
            "ticks": "",
            "zerolinecolor": "white"
           }
          },
          "shapedefaults": {
           "line": {
            "color": "#2a3f5f"
           }
          },
          "ternary": {
           "aaxis": {
            "gridcolor": "white",
            "linecolor": "white",
            "ticks": ""
           },
           "baxis": {
            "gridcolor": "white",
            "linecolor": "white",
            "ticks": ""
           },
           "bgcolor": "#E5ECF6",
           "caxis": {
            "gridcolor": "white",
            "linecolor": "white",
            "ticks": ""
           }
          },
          "title": {
           "x": 0.05
          },
          "xaxis": {
           "automargin": true,
           "gridcolor": "white",
           "linecolor": "white",
           "ticks": "",
           "title": {
            "standoff": 15
           },
           "zerolinecolor": "white",
           "zerolinewidth": 2
          },
          "yaxis": {
           "automargin": true,
           "gridcolor": "white",
           "linecolor": "white",
           "ticks": "",
           "title": {
            "standoff": 15
           },
           "zerolinecolor": "white",
           "zerolinewidth": 2
          }
         }
        },
        "title": {
         "text": "Correspondence of level 1 subjects with level 2 ones in ART1197 (counting: Artistic Motifs)"
        }
       }
      },
      "text/html": [
       "<div>                            <div id=\"632c3e2a-f233-46ef-8afe-8b85e1c5f1bd\" class=\"plotly-graph-div\" style=\"height:525px; width:100%;\"></div>            <script type=\"text/javascript\">                require([\"plotly\"], function(Plotly) {                    window.PLOTLYENV=window.PLOTLYENV || {};                                    if (document.getElementById(\"632c3e2a-f233-46ef-8afe-8b85e1c5f1bd\")) {                    Plotly.newPlot(                        \"632c3e2a-f233-46ef-8afe-8b85e1c5f1bd\",                        [{\"link\":{\"source\":[0,1,2,2,2],\"target\":[3,3,3,4,5],\"value\":[4,1,13,9,9]},\"node\":{\"color\":\"blue\",\"label\":[\"https://w3id.org/icon/ontology/Action\",\"https://w3id.org/icon/ontology/ExpressionalQuality\",\"https://w3id.org/icon/ontology/NaturalElement\",\"https://w3id.org/icon/ontology/Character\",\"https://w3id.org/icon/ontology/Symbol\",\"https://w3id.org/simulation/ontology/Simulation\"],\"line\":{\"color\":\"black\",\"width\":0.5},\"pad\":15,\"thickness\":20},\"type\":\"sankey\"}],                        {\"template\":{\"data\":{\"histogram2dcontour\":[{\"type\":\"histogram2dcontour\",\"colorbar\":{\"outlinewidth\":0,\"ticks\":\"\"},\"colorscale\":[[0.0,\"#0d0887\"],[0.1111111111111111,\"#46039f\"],[0.2222222222222222,\"#7201a8\"],[0.3333333333333333,\"#9c179e\"],[0.4444444444444444,\"#bd3786\"],[0.5555555555555556,\"#d8576b\"],[0.6666666666666666,\"#ed7953\"],[0.7777777777777778,\"#fb9f3a\"],[0.8888888888888888,\"#fdca26\"],[1.0,\"#f0f921\"]]}],\"choropleth\":[{\"type\":\"choropleth\",\"colorbar\":{\"outlinewidth\":0,\"ticks\":\"\"}}],\"histogram2d\":[{\"type\":\"histogram2d\",\"colorbar\":{\"outlinewidth\":0,\"ticks\":\"\"},\"colorscale\":[[0.0,\"#0d0887\"],[0.1111111111111111,\"#46039f\"],[0.2222222222222222,\"#7201a8\"],[0.3333333333333333,\"#9c179e\"],[0.4444444444444444,\"#bd3786\"],[0.5555555555555556,\"#d8576b\"],[0.6666666666666666,\"#ed7953\"],[0.7777777777777778,\"#fb9f3a\"],[0.8888888888888888,\"#fdca26\"],[1.0,\"#f0f921\"]]}],\"heatmap\":[{\"type\":\"heatmap\",\"colorbar\":{\"outlinewidth\":0,\"ticks\":\"\"},\"colorscale\":[[0.0,\"#0d0887\"],[0.1111111111111111,\"#46039f\"],[0.2222222222222222,\"#7201a8\"],[0.3333333333333333,\"#9c179e\"],[0.4444444444444444,\"#bd3786\"],[0.5555555555555556,\"#d8576b\"],[0.6666666666666666,\"#ed7953\"],[0.7777777777777778,\"#fb9f3a\"],[0.8888888888888888,\"#fdca26\"],[1.0,\"#f0f921\"]]}],\"heatmapgl\":[{\"type\":\"heatmapgl\",\"colorbar\":{\"outlinewidth\":0,\"ticks\":\"\"},\"colorscale\":[[0.0,\"#0d0887\"],[0.1111111111111111,\"#46039f\"],[0.2222222222222222,\"#7201a8\"],[0.3333333333333333,\"#9c179e\"],[0.4444444444444444,\"#bd3786\"],[0.5555555555555556,\"#d8576b\"],[0.6666666666666666,\"#ed7953\"],[0.7777777777777778,\"#fb9f3a\"],[0.8888888888888888,\"#fdca26\"],[1.0,\"#f0f921\"]]}],\"contourcarpet\":[{\"type\":\"contourcarpet\",\"colorbar\":{\"outlinewidth\":0,\"ticks\":\"\"}}],\"contour\":[{\"type\":\"contour\",\"colorbar\":{\"outlinewidth\":0,\"ticks\":\"\"},\"colorscale\":[[0.0,\"#0d0887\"],[0.1111111111111111,\"#46039f\"],[0.2222222222222222,\"#7201a8\"],[0.3333333333333333,\"#9c179e\"],[0.4444444444444444,\"#bd3786\"],[0.5555555555555556,\"#d8576b\"],[0.6666666666666666,\"#ed7953\"],[0.7777777777777778,\"#fb9f3a\"],[0.8888888888888888,\"#fdca26\"],[1.0,\"#f0f921\"]]}],\"surface\":[{\"type\":\"surface\",\"colorbar\":{\"outlinewidth\":0,\"ticks\":\"\"},\"colorscale\":[[0.0,\"#0d0887\"],[0.1111111111111111,\"#46039f\"],[0.2222222222222222,\"#7201a8\"],[0.3333333333333333,\"#9c179e\"],[0.4444444444444444,\"#bd3786\"],[0.5555555555555556,\"#d8576b\"],[0.6666666666666666,\"#ed7953\"],[0.7777777777777778,\"#fb9f3a\"],[0.8888888888888888,\"#fdca26\"],[1.0,\"#f0f921\"]]}],\"mesh3d\":[{\"type\":\"mesh3d\",\"colorbar\":{\"outlinewidth\":0,\"ticks\":\"\"}}],\"scatter\":[{\"fillpattern\":{\"fillmode\":\"overlay\",\"size\":10,\"solidity\":0.2},\"type\":\"scatter\"}],\"parcoords\":[{\"type\":\"parcoords\",\"line\":{\"colorbar\":{\"outlinewidth\":0,\"ticks\":\"\"}}}],\"scatterpolargl\":[{\"type\":\"scatterpolargl\",\"marker\":{\"colorbar\":{\"outlinewidth\":0,\"ticks\":\"\"}}}],\"bar\":[{\"error_x\":{\"color\":\"#2a3f5f\"},\"error_y\":{\"color\":\"#2a3f5f\"},\"marker\":{\"line\":{\"color\":\"#E5ECF6\",\"width\":0.5},\"pattern\":{\"fillmode\":\"overlay\",\"size\":10,\"solidity\":0.2}},\"type\":\"bar\"}],\"scattergeo\":[{\"type\":\"scattergeo\",\"marker\":{\"colorbar\":{\"outlinewidth\":0,\"ticks\":\"\"}}}],\"scatterpolar\":[{\"type\":\"scatterpolar\",\"marker\":{\"colorbar\":{\"outlinewidth\":0,\"ticks\":\"\"}}}],\"histogram\":[{\"marker\":{\"pattern\":{\"fillmode\":\"overlay\",\"size\":10,\"solidity\":0.2}},\"type\":\"histogram\"}],\"scattergl\":[{\"type\":\"scattergl\",\"marker\":{\"colorbar\":{\"outlinewidth\":0,\"ticks\":\"\"}}}],\"scatter3d\":[{\"type\":\"scatter3d\",\"line\":{\"colorbar\":{\"outlinewidth\":0,\"ticks\":\"\"}},\"marker\":{\"colorbar\":{\"outlinewidth\":0,\"ticks\":\"\"}}}],\"scattermapbox\":[{\"type\":\"scattermapbox\",\"marker\":{\"colorbar\":{\"outlinewidth\":0,\"ticks\":\"\"}}}],\"scatterternary\":[{\"type\":\"scatterternary\",\"marker\":{\"colorbar\":{\"outlinewidth\":0,\"ticks\":\"\"}}}],\"scattercarpet\":[{\"type\":\"scattercarpet\",\"marker\":{\"colorbar\":{\"outlinewidth\":0,\"ticks\":\"\"}}}],\"carpet\":[{\"aaxis\":{\"endlinecolor\":\"#2a3f5f\",\"gridcolor\":\"white\",\"linecolor\":\"white\",\"minorgridcolor\":\"white\",\"startlinecolor\":\"#2a3f5f\"},\"baxis\":{\"endlinecolor\":\"#2a3f5f\",\"gridcolor\":\"white\",\"linecolor\":\"white\",\"minorgridcolor\":\"white\",\"startlinecolor\":\"#2a3f5f\"},\"type\":\"carpet\"}],\"table\":[{\"cells\":{\"fill\":{\"color\":\"#EBF0F8\"},\"line\":{\"color\":\"white\"}},\"header\":{\"fill\":{\"color\":\"#C8D4E3\"},\"line\":{\"color\":\"white\"}},\"type\":\"table\"}],\"barpolar\":[{\"marker\":{\"line\":{\"color\":\"#E5ECF6\",\"width\":0.5},\"pattern\":{\"fillmode\":\"overlay\",\"size\":10,\"solidity\":0.2}},\"type\":\"barpolar\"}],\"pie\":[{\"automargin\":true,\"type\":\"pie\"}]},\"layout\":{\"autotypenumbers\":\"strict\",\"colorway\":[\"#636efa\",\"#EF553B\",\"#00cc96\",\"#ab63fa\",\"#FFA15A\",\"#19d3f3\",\"#FF6692\",\"#B6E880\",\"#FF97FF\",\"#FECB52\"],\"font\":{\"color\":\"#2a3f5f\"},\"hovermode\":\"closest\",\"hoverlabel\":{\"align\":\"left\"},\"paper_bgcolor\":\"white\",\"plot_bgcolor\":\"#E5ECF6\",\"polar\":{\"bgcolor\":\"#E5ECF6\",\"angularaxis\":{\"gridcolor\":\"white\",\"linecolor\":\"white\",\"ticks\":\"\"},\"radialaxis\":{\"gridcolor\":\"white\",\"linecolor\":\"white\",\"ticks\":\"\"}},\"ternary\":{\"bgcolor\":\"#E5ECF6\",\"aaxis\":{\"gridcolor\":\"white\",\"linecolor\":\"white\",\"ticks\":\"\"},\"baxis\":{\"gridcolor\":\"white\",\"linecolor\":\"white\",\"ticks\":\"\"},\"caxis\":{\"gridcolor\":\"white\",\"linecolor\":\"white\",\"ticks\":\"\"}},\"coloraxis\":{\"colorbar\":{\"outlinewidth\":0,\"ticks\":\"\"}},\"colorscale\":{\"sequential\":[[0.0,\"#0d0887\"],[0.1111111111111111,\"#46039f\"],[0.2222222222222222,\"#7201a8\"],[0.3333333333333333,\"#9c179e\"],[0.4444444444444444,\"#bd3786\"],[0.5555555555555556,\"#d8576b\"],[0.6666666666666666,\"#ed7953\"],[0.7777777777777778,\"#fb9f3a\"],[0.8888888888888888,\"#fdca26\"],[1.0,\"#f0f921\"]],\"sequentialminus\":[[0.0,\"#0d0887\"],[0.1111111111111111,\"#46039f\"],[0.2222222222222222,\"#7201a8\"],[0.3333333333333333,\"#9c179e\"],[0.4444444444444444,\"#bd3786\"],[0.5555555555555556,\"#d8576b\"],[0.6666666666666666,\"#ed7953\"],[0.7777777777777778,\"#fb9f3a\"],[0.8888888888888888,\"#fdca26\"],[1.0,\"#f0f921\"]],\"diverging\":[[0,\"#8e0152\"],[0.1,\"#c51b7d\"],[0.2,\"#de77ae\"],[0.3,\"#f1b6da\"],[0.4,\"#fde0ef\"],[0.5,\"#f7f7f7\"],[0.6,\"#e6f5d0\"],[0.7,\"#b8e186\"],[0.8,\"#7fbc41\"],[0.9,\"#4d9221\"],[1,\"#276419\"]]},\"xaxis\":{\"gridcolor\":\"white\",\"linecolor\":\"white\",\"ticks\":\"\",\"title\":{\"standoff\":15},\"zerolinecolor\":\"white\",\"automargin\":true,\"zerolinewidth\":2},\"yaxis\":{\"gridcolor\":\"white\",\"linecolor\":\"white\",\"ticks\":\"\",\"title\":{\"standoff\":15},\"zerolinecolor\":\"white\",\"automargin\":true,\"zerolinewidth\":2},\"scene\":{\"xaxis\":{\"backgroundcolor\":\"#E5ECF6\",\"gridcolor\":\"white\",\"linecolor\":\"white\",\"showbackground\":true,\"ticks\":\"\",\"zerolinecolor\":\"white\",\"gridwidth\":2},\"yaxis\":{\"backgroundcolor\":\"#E5ECF6\",\"gridcolor\":\"white\",\"linecolor\":\"white\",\"showbackground\":true,\"ticks\":\"\",\"zerolinecolor\":\"white\",\"gridwidth\":2},\"zaxis\":{\"backgroundcolor\":\"#E5ECF6\",\"gridcolor\":\"white\",\"linecolor\":\"white\",\"showbackground\":true,\"ticks\":\"\",\"zerolinecolor\":\"white\",\"gridwidth\":2}},\"shapedefaults\":{\"line\":{\"color\":\"#2a3f5f\"}},\"annotationdefaults\":{\"arrowcolor\":\"#2a3f5f\",\"arrowhead\":0,\"arrowwidth\":1},\"geo\":{\"bgcolor\":\"white\",\"landcolor\":\"#E5ECF6\",\"subunitcolor\":\"white\",\"showland\":true,\"showlakes\":true,\"lakecolor\":\"white\"},\"title\":{\"x\":0.05},\"mapbox\":{\"style\":\"light\"}}},\"title\":{\"text\":\"Correspondence of level 1 subjects with level 2 ones in ART1197 (counting: Artistic Motifs)\"},\"font\":{\"size\":10}},                        {\"responsive\": true}                    ).then(function(){\n",
       "                            \n",
       "var gd = document.getElementById('632c3e2a-f233-46ef-8afe-8b85e1c5f1bd');\n",
       "var x = new MutationObserver(function (mutations, observer) {{\n",
       "        var display = window.getComputedStyle(gd).display;\n",
       "        if (!display || display === 'none') {{\n",
       "            console.log([gd, 'removed!']);\n",
       "            Plotly.purge(gd);\n",
       "            observer.disconnect();\n",
       "        }}\n",
       "}});\n",
       "\n",
       "// Listen for the removal of the full notebook cells\n",
       "var notebookContainer = gd.closest('#notebook-container');\n",
       "if (notebookContainer) {{\n",
       "    x.observe(notebookContainer, {childList: true});\n",
       "}}\n",
       "\n",
       "// Listen for the clearing of the current output cell\n",
       "var outputEl = gd.closest('.output');\n",
       "if (outputEl) {{\n",
       "    x.observe(outputEl, {childList: true});\n",
       "}}\n",
       "\n",
       "                        })                };                });            </script>        </div>"
      ]
     },
     "metadata": {},
     "output_type": "display_data"
    }
   ],
   "source": [
    "# create the diagram\n",
    "\n",
    "# https://plotly.com/python/sankey-diagram/\n",
    "# useful tutorial: https://www.youtube.com/watch?v=yyVwvBUFRwY \n",
    "#import plotly.graph_objects as go\n",
    "\n",
    "fig = go.Figure(data=[go.Sankey(\n",
    "    node = dict(\n",
    "      pad = 15,\n",
    "      thickness = 20,\n",
    "      line = dict(color = \"black\", width = 0.5),\n",
    "      label = unique_source_target,\n",
    "      color = \"blue\"\n",
    "    ),\n",
    "    link = dict(\n",
    "      source = lev1_dict[\"source\"], # indices corresponding to labels, eg A1, A2, A1, B1, ...\n",
    "      target = lev1_dict[\"target\"],\n",
    "      value = lev1_dict[\"value\"]\n",
    "  ))])\n",
    "\n",
    "fig.update_layout(title_text=\"Correspondence of level 1 subjects with level 2 ones in ART1197 (counting: Artistic Motifs)\", font_size=10)\n",
    "fig.show()"
   ]
  },
  {
   "cell_type": "markdown",
   "id": "610356c1",
   "metadata": {},
   "source": [
    "[Back to top](#Dataset-overview) <br>\n",
    "[Back to section 3](#3.-Overview-of-subjects-relations)"
   ]
  }
 ],
 "metadata": {
  "kernelspec": {
   "display_name": "Python 3 (ipykernel)",
   "language": "python",
   "name": "python3"
  },
  "language_info": {
   "codemirror_mode": {
    "name": "ipython",
    "version": 3
   },
   "file_extension": ".py",
   "mimetype": "text/x-python",
   "name": "python",
   "nbconvert_exporter": "python",
   "pygments_lexer": "ipython3",
   "version": "3.9.0"
  }
 },
 "nbformat": 4,
 "nbformat_minor": 5
}
