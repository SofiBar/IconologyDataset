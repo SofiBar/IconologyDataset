{
 "cells": [
  {
   "cell_type": "markdown",
   "metadata": {
    "id": "VY0tfHtxPkud"
   },
   "source": [
    "# Plurals\n",
    "As the data were manully inserted in the database, this script supports the entries harmonization through automatic plurals detection. words of the same tipology with a high rank of similarity will be standardized in the format word(plural end of word). They will be then manually corrected in the dataset.  <br>\n",
    "\n",
    "**Method** <br>\n",
    "1. For each interested vocabulary, create 2 lists containing all the keys. With a for loop check all the words similarities through the fuzzywuzzy means algorithm\n",
    "2. identify the difference between similar forms. if the difference is equal to \"s\", \"es\", \"ies\", the words are considered singular/plural. Print the others: if there are plurals, add them manually to the list of tuples afer passage 3.  \n",
    "3. store the result in a list of tuples (at the beginning inserted as sets to avoid repetitions) where tup[0] = singular, tup[1] = plural, tup[2] = neutral form in \"name(s)\" type\n",
    "4. substitute the forms with singular/plural in the dictionary with the new neutral form, adding, if present, the values of the previous keys"
   ]
  },
  {
   "cell_type": "markdown",
   "metadata": {
    "id": "HIlq2-PH8lHO"
   },
   "source": [
    "## Imports"
   ]
  },
  {
   "cell_type": "code",
   "execution_count": 1,
   "metadata": {
    "colab": {
     "base_uri": "https://localhost:8080/"
    },
    "id": "ujAQv8i8NJR9",
    "outputId": "3339d454-745e-4578-f6f1-d2d8d1032e41"
   },
   "outputs": [
    {
     "name": "stderr",
     "output_type": "stream",
     "text": [
      "C:\\Users\\Sofia Baroncini\\AppData\\Roaming\\Python\\Python39\\site-packages\\fuzzywuzzy\\fuzz.py:11: UserWarning: Using slow pure-python SequenceMatcher. Install python-Levenshtein to remove this warning\n",
      "  warnings.warn('Using slow pure-python SequenceMatcher. Install python-Levenshtein to remove this warning')\n"
     ]
    }
   ],
   "source": [
    "# !pip install requests\n",
    "import requests\n",
    "\n",
    "#!pip install SPARQLWrapper\n",
    "\n",
    "from SPARQLWrapper import SPARQLWrapper, JSON\n",
    "import ssl\n",
    "\n",
    "#!pip install fuzzywuzzy\n",
    "import difflib\n",
    "# !pip install python-Levenshtein\n",
    "# !pip install thefuzz\n",
    "from fuzzywuzzy import fuzz\n",
    "from fuzzywuzzy import process\n",
    "# from thefuzz import fuzz\n",
    "# from thefuzz import process\n",
    "import json\n",
    "import csv\n",
    "import time #"
   ]
  },
  {
   "cell_type": "code",
   "execution_count": 11,
   "metadata": {},
   "outputs": [],
   "source": [
    "from endpoints import *\n",
    "import functions as f "
   ]
  },
  {
   "cell_type": "code",
   "execution_count": 170,
   "metadata": {
    "id": "ztTWjJuOm-c7"
   },
   "outputs": [],
   "source": [
    "# dictionary opening\n",
    "naturalElementDict = open_json(\"baseDictionaries/naturalElementDict.json\")\n",
    "characterDict = open_json(\"Final/characterAlignedFinal.json\")"
   ]
  },
  {
   "cell_type": "code",
   "execution_count": 9,
   "metadata": {},
   "outputs": [],
   "source": [
    "# function that detects plurals, 1) store them in a list of tuples in the format tup[0] = singular, tup [1] = plural, tup[2] = neutral form with (s)\n",
    "# and 2) update the given dictionary, appending the previous values to the new key in the form \"name(s)\" and deleting the plural/singular forms\n",
    "# suggestion: since the dictionary is directly modified, make a copy of it before running\n",
    "# last point to be solved: shall we modify the link corresponding to the new form? eg. take only the singular, appending it only the first time? in any case the singular form is the first appended value\n",
    "def detect_plurals(dictionary, plurals_list):\n",
    "    keys = list(dictionary.keys())\n",
    "    keys2 = []\n",
    "    keys3 = []\n",
    "    doubles = []\n",
    "    rec_words = list(filter(lambda x: 'rec' in x, keys)) # we select the keys for the recociled terms, to filter them out\n",
    "    for term in keys: \n",
    "        if term not in rec_words:\n",
    "            keys2.append(term) \n",
    "            keys3.append(term) # we create a duplicate list to copare terms to find similarities\n",
    "\n",
    "    for key in keys3: \n",
    "        for key2 in keys2: \n",
    "            if key !=key2:\n",
    "                if fuzz_ratio_mean(key, key2) > 85: # the plural \"es\" is 87\n",
    "                    if set((key,key2)) not in doubles:\n",
    "                        doubles.append(set((key,key2)))\n",
    "    for s in doubles: \n",
    "        couple = tuple(s)\n",
    "        if len(couple[0])> len(couple[1]): # as it is more frequent, we decide that the longer term is the plural form\n",
    "            base_term = couple[1]\n",
    "            plural_term = couple[0]\n",
    "        elif len(couple[0])< len(couple[1]): \n",
    "            base_term = couple[0]\n",
    "            plural_term = couple[1]\n",
    "        difference = plural_term.replace(base_term, \"\")\n",
    "        pl_addition = \"(\"+str(difference)+\")\"\n",
    "        final_form = str(base_term)+pl_addition\n",
    "        if difference == \"s\" or difference ==\"e\" or difference ==\"es\": # exeptions: woman(en), man(en), latin plurals (sacophagus. -i)\n",
    "            plurals_list.append((base_term, plural_term))\n",
    "        else: \n",
    "            print(\"not included in plurals: \", final_form)\n",
    "        filtered = filter_values(final)\n",
    "    return filtered\n",
    "    \n",
    "\n"
   ]
  },
  {
   "cell_type": "code",
   "execution_count": 10,
   "metadata": {},
   "outputs": [
    {
     "name": "stdout",
     "output_type": "stream",
     "text": [
      "candidates:  cicci ciccis\n",
      "Do you like this value?('cicci', 'ciccis')(y/n):y\n",
      "[('cicci', 'ciccis')]\n"
     ]
    }
   ],
   "source": [
    "# test\n",
    "d = {\"cicci\": \"link\", \"cicci rec\":[\"extLink\"], \"ciccis\": \"links\", \"ciccis rec\": [\"extLiks\"]}\n",
    "plu = []\n",
    "\n",
    "final = detect_plurals(d, plu)\n",
    "print(final)\n"
   ]
  },
  {
   "cell_type": "code",
   "execution_count": 124,
   "metadata": {},
   "outputs": [
    {
     "name": "stdout",
     "output_type": "stream",
     "text": [
      "not included in plurals:  acantus plant(acanthus plant)\n",
      "not included in plurals:  lance(ba)\n",
      "not included in plurals:  bear(d)\n",
      "not included in plurals:  ox(b)\n",
      "not included in plurals:  cart(chart)\n",
      "not included in plurals:  chariot(eer)\n",
      "not included in plurals:  child(ren)\n",
      "not included in plurals:  child(ren)\n",
      "not included in plurals:  cock(clock)\n",
      "not included in plurals:  convex lines(concave lines)\n",
      "not included in plurals:  lowest zone of the tomb(highest zone of the tomb)\n",
      "not included in plurals:  man face(wo)\n",
      "not included in plurals:  sarcophagi(sarcophagus)\n",
      "not included in plurals:  sea(t)\n",
      "not included in plurals:  shadowed face(shadowened face)\n",
      "not included in plurals:  statue of a man(statue of a woman)\n",
      "not included in plurals:  human figure with animal legs(human figures with animal legs)\n",
      "sarcophagus sarcophagus(i) ['http://icondataset.org/sarcophagi']\n",
      "women woman(women) ['http://icondataset.org/woman']\n",
      "men man(men) ['http://icondataset.org/man']\n",
      "oxen ox(oxen) ['http://icondataset.org/ox']\n",
      "{'abaci': 'http://icondataset.org/abaci', 'abaci rec': [], 'acanthus plant': 'http://icondataset.org/acanthus-plant', 'acanthus plant rec': [], 'altar': 'http://icondataset.org/altar', 'altar rec': [], 'altarpiece': 'http://icondataset.org/altarpiece', 'altarpiece rec': [], 'amoretti': 'http://icondataset.org/amoretti', 'amoretti rec': [], 'amphitheater': 'http://icondataset.org/amphitheater', 'amphitheater rec': [], 'amphora': 'http://icondataset.org/amphora', 'amphora rec': [], 'animals': 'http://icondataset.org/animals', 'animals rec': [], 'anklet with bells': 'http://icondataset.org/anklet-with-bells', 'anklet with bells rec': [], 'anteroom': 'http://icondataset.org/anteroom', 'anteroom rec': [], 'apple': 'http://icondataset.org/apple', 'apple rec': [], 'apse': 'http://icondataset.org/apse', 'apse rec': [], 'arch': 'http://icondataset.org/arch', 'arch rec': [], 'architecture': 'http://icondataset.org/architecture', 'architecture rec': [], 'aries': 'http://icondataset.org/aries', 'aries rec': [], 'armor': 'http://icondataset.org/armor', 'armor rec': [], 'arms lifted': 'http://icondataset.org/arms-lifted', 'arms lifted rec': [], 'arms lowered': 'http://icondataset.org/arms-lowered', 'arms lowered rec': [], 'baby': 'http://icondataset.org/baby', 'baby rec': [], 'bag': 'http://icondataset.org/bag', 'bag rec': [], 'balance': 'http://icondataset.org/balance', 'balance rec': [], 'balance of the arms': 'http://icondataset.org/balance-of-the-arms', 'balance of the arms rec': [], 'bald-headed': 'http://icondataset.org/bald-headed', 'bald-headed rec': [], 'band': 'http://icondataset.org/band', 'band rec': [], 'bandage': 'http://icondataset.org/bandage', 'bandage rec': [], 'barrel': 'http://icondataset.org/barrel', 'barrel rec': [], 'base with strigilated motif': 'http://icondataset.org/base-with-strigilated-motif', 'base with strigilated motif rec': [], 'basket with roses': 'http://icondataset.org/basket-with-roses', 'basket with roses rec': [], 'bat wings': 'http://icondataset.org/bat-wings', 'bat wings rec': [], 'bathing trunks': 'http://icondataset.org/bathing-trunks', 'bathing trunks rec': [], 'battle': 'http://icondataset.org/battle', 'battle rec': [], 'battling monsters': 'http://icondataset.org/battling-monsters', 'battling monsters rec': [], 'beams of light': 'http://icondataset.org/beams-of-light', 'beams of light rec': [], 'bear': 'http://icondataset.org/bear', 'bear rec': [], 'beard': 'http://icondataset.org/beard', 'beard rec': [], 'bed': 'http://icondataset.org/bed', 'bed rec': [], 'beggars': 'http://icondataset.org/beggars', 'beggars rec': [], 'belt': 'http://icondataset.org/belt', 'belt rec': [], 'belt of flowers': 'http://icondataset.org/belt-of-flowers', 'belt of flowers rec': [], 'biga': 'http://icondataset.org/biga', 'biga rec': [], 'bird': 'http://icondataset.org/bird', 'bird rec': [], 'birth chamber': 'http://icondataset.org/birth-chamber', 'birth chamber rec': [], 'bishop': 'http://icondataset.org/bishop', 'bishop rec': [], 'bitten apple': 'http://icondataset.org/bitten-apple', 'bitten apple rec': [], 'blacksmith': 'http://icondataset.org/blacksmith', 'blacksmith rec': [], 'block': 'http://icondataset.org/block', 'block rec': [], 'boar': 'http://icondataset.org/boar', 'boar rec': [], 'boats': 'http://icondataset.org/boats', 'boats rec': [], 'body covered with feathers': 'http://icondataset.org/body-covered-with-feathers', 'body covered with feathers rec': [], 'bones': 'http://icondataset.org/bones', 'bones rec': [], 'boots': 'http://icondataset.org/boots', 'boots rec': [], 'bow': 'http://icondataset.org/bow', 'bow rec': [], 'bowl of grapes': 'http://icondataset.org/bowl-of-grapes', 'bowl of grapes rec': [], 'bowls': 'http://icondataset.org/bowls', 'bowls rec': [], 'box': 'http://icondataset.org/box', 'box rec': [], 'boy': 'http://icondataset.org/boy', 'boy rec': [], 'branches': 'http://icondataset.org/branches', 'branches rec': [], 'broken string': 'http://icondataset.org/broken-string', 'broken string rec': [], 'bull': 'http://icondataset.org/bull', 'bull rec': [], 'bunch of grapes': 'http://icondataset.org/bunch-of-grapes', 'bunch of grapes rec': [], 'bundle of logs': 'http://icondataset.org/bundle-of-logs', 'bundle of logs rec': [], 'bundle of sticks': 'http://icondataset.org/bundle-of-sticks', 'bundle of sticks rec': [], 'bust with three heads': 'http://icondataset.org/bust-with-three-heads', 'bust with three heads rec': [], 'camel': 'http://icondataset.org/camel', 'camel rec': [], 'cameo': 'http://icondataset.org/cameo', 'cameo rec': [], 'caned boats': 'http://icondataset.org/caned-boats', 'caned boats rec': [], 'capitals': 'http://icondataset.org/capitals', 'capitals rec': [], 'carcass': 'http://icondataset.org/carcass', 'carcass rec': [], 'cart': 'http://icondataset.org/cart', 'cart rec': [], 'cash-box': 'http://icondataset.org/cash-box', 'cash-box rec': [], 'catafalque': 'http://icondataset.org/catafalque', 'catafalque rec': [], 'ceiling': 'http://icondataset.org/ceiling', 'ceiling rec': [], 'celestial spheres': 'http://icondataset.org/celestial-spheres', 'celestial spheres rec': [], 'central circle': 'http://icondataset.org/central-circle', 'central circle rec': [], 'central zone of the tomb': 'http://icondataset.org/central-zone-of-the-tomb', 'central zone of the tomb rec': [], 'chain with a heart': 'http://icondataset.org/chain-with-a-heart', 'chain with a heart rec': [], 'chains': 'http://icondataset.org/chains', 'chains rec': [], 'chalice': 'http://icondataset.org/chalice', 'chalice rec': [], 'charger': 'http://icondataset.org/charger', 'charger rec': [], 'chariot': 'http://icondataset.org/chariot', 'chariot rec': [], 'charioteer': 'http://icondataset.org/charioteer', 'charioteer rec': [], 'chart': 'http://icondataset.org/chart', 'chart rec': [], 'chest': 'http://icondataset.org/chest', 'chest rec': [], 'children': 'http://icondataset.org/children', 'children rec': [], 'chlamys': 'http://icondataset.org/chlamys', 'chlamys rec': [], 'choir': 'http://icondataset.org/choir', 'choir rec': [], 'church': 'http://icondataset.org/church', 'church rec': [], 'church exterior': 'http://icondataset.org/church-exterior', 'church exterior rec': [], 'church interior': 'http://icondataset.org/church-interior', 'church interior rec': [], 'circle': 'http://icondataset.org/circle', 'circle rec': [], 'cithara': 'http://icondataset.org/cithara', 'cithara rec': [], 'city': 'http://icondataset.org/city', 'city rec': [], 'classical reliefs': 'http://icondataset.org/classical-reliefs', 'classical reliefs rec': [], 'classical setting': 'http://icondataset.org/classical-setting', 'classical setting rec': [], 'cleric': 'http://icondataset.org/cleric', 'cleric rec': [], 'cloak': 'http://icondataset.org/cloak', 'cloak rec': [], 'clock': 'http://icondataset.org/clock', 'clock rec': [], 'clouds': 'http://icondataset.org/clouds', 'clouds rec': [], 'coat': 'http://icondataset.org/coat', 'coat rec': [], 'cock': 'http://icondataset.org/cock', 'cock rec': [], 'coins': 'http://icondataset.org/coins', 'coins rec': [], 'concave lines': 'http://icondataset.org/concave-lines', 'concave lines rec': [], 'concentric circles': 'http://icondataset.org/concentric-circles', 'concentric circles rec': [], 'cone shell': 'http://icondataset.org/cone-shell', 'cone shell rec': [], 'convex lines': 'http://icondataset.org/convex-lines', 'convex lines rec': [], 'cornerstone of a church': 'http://icondataset.org/cornerstone-of-a-church', 'cornerstone of a church rec': [], 'cornice': 'http://icondataset.org/cornice', 'cornice rec': [], 'cornucopia': 'http://icondataset.org/cornucopia', 'cornucopia rec': [], 'cortège': 'http://icondataset.org/cortege', 'cortège rec': [], 'country church': 'http://icondataset.org/country-church', 'country church rec': [], 'couple embracing': 'http://icondataset.org/couple-embracing', 'couple embracing rec': [], 'coupled pilasters': 'http://icondataset.org/coupled-pilasters', 'coupled pilasters rec': [], 'court dress': 'http://icondataset.org/court-dress', 'court dress rec': [], 'court official': 'http://icondataset.org/court-official', 'court official rec': [], 'criminals': 'http://icondataset.org/criminals', 'criminals rec': [], 'cripples': 'http://icondataset.org/cripples', 'cripples rec': [], 'crosier': 'http://icondataset.org/crosier', 'crosier rec': [], 'cross': 'http://icondataset.org/cross', 'cross rec': [], 'crossbreed between forechoir and transept': 'http://icondataset.org/crossbreed-between-forechoir-and-transept', 'crossbreed between forechoir and transept rec': [], 'crowd of people': 'http://icondataset.org/crowd-of-people', 'crowd of people rec': [], 'crown': 'http://icondataset.org/crown', 'crown rec': [], 'crown of roses': 'http://icondataset.org/crown-of-roses', 'crown of roses rec': [], 'crucifix': 'http://icondataset.org/crucifix', 'crucifix rec': [], 'cruciform halo': 'http://icondataset.org/cruciform-halo', 'cruciform halo rec': [], 'crunch': 'http://icondataset.org/crunch', 'crunch rec': [], 'cudgels': 'http://icondataset.org/cudgels', 'cudgels rec': [], 'cup': 'http://icondataset.org/cup', 'cup rec': [], 'cupboard': 'http://icondataset.org/cupboard', 'cupboard rec': [], 'curls': 'http://icondataset.org/curls', 'curls rec': [], 'curtain': 'http://icondataset.org/curtain', 'curtain rec': [], 'cutten head': 'http://icondataset.org/cutten-head', 'cutten head rec': [], 'cymbals': 'http://icondataset.org/cymbals', 'cymbals rec': [], 'dais': 'http://icondataset.org/dais', 'dais rec': [], 'dead body of a man': 'http://icondataset.org/dead-body-of-a-man', 'dead body of a man rec': [], 'decoration strigilated': 'http://icondataset.org/decoration-strigilated', 'decoration strigilated rec': [], 'decoration with crockets': 'http://icondataset.org/decoration-with-crockets', 'decoration with crockets rec': [], 'decoration with the head of a bat': 'http://icondataset.org/decoration-with-the-head-of-a-bat', 'decoration with the head of a bat rec': [], 'deer': 'http://icondataset.org/deer', 'deer rec': [], 'demon': 'http://icondataset.org/demon', 'demon rec': [], 'desk': 'http://icondataset.org/desk', 'desk rec': [], 'desolate scenery': 'http://icondataset.org/desolate-scenery', 'desolate scenery rec': [], 'donkey': 'http://icondataset.org/donkey', 'donkey rec': [], 'dragon biting its tail': 'http://icondataset.org/dragon-biting-its-tail', 'dragon biting its tail rec': [], 'dragoon': 'http://icondataset.org/dragoon', 'dragoon rec': [], 'dragoon body': 'http://icondataset.org/dragoon-body', 'dragoon body rec': [], 'dragoon without wings': 'http://icondataset.org/dragoon-without-wings', 'dragoon without wings rec': [], 'drapery': 'http://icondataset.org/drapery', 'drapery rec': [], 'drops of blood': 'http://icondataset.org/drops-of-blood', 'drops of blood rec': [], 'eagle': 'http://icondataset.org/eagle', 'eagle rec': [], 'earrings': 'http://icondataset.org/earrings', 'earrings rec': [], 'earth': 'http://icondataset.org/earth', 'earth rec': [], 'empty thrones': 'http://icondataset.org/empty-thrones', 'empty thrones rec': [], 'entablature': 'http://icondataset.org/entablature', 'entablature rec': [], 'equator': 'http://icondataset.org/equator', 'equator rec': [], 'eyes': 'http://icondataset.org/eyes', 'eyes rec': [], 'façade': 'http://icondataset.org/facade', 'façade rec': [], 'face': 'http://icondataset.org/face', 'face rec': [], 'family': 'http://icondataset.org/family', 'family rec': [], 'feathers': 'http://icondataset.org/feathers', 'feathers rec': [], 'feet': 'http://icondataset.org/feet', 'feet rec': [], 'female head': 'http://icondataset.org/female-head', 'female head rec': [], 'fettered man': 'http://icondataset.org/fettered-man', 'fettered man rec': [], 'fettered slaves': 'http://icondataset.org/fettered-slaves', 'fettered slaves rec': [], 'figures in the background': 'http://icondataset.org/figures-in-the-background', 'figures in the background rec': [], 'fire': 'http://icondataset.org/fire', 'fire rec': [], 'first man of each row': 'http://icondataset.org/first-man-of-each-row', 'first man of each row rec': [], 'first platform': 'http://icondataset.org/first-platform', 'first platform rec': [], 'fish-like body': 'http://icondataset.org/fish-like-body', 'fish-like body rec': [], 'flag': 'http://icondataset.org/flag', 'flag rec': [], 'flames': 'http://icondataset.org/flames', 'flames rec': [], 'flames leaving from the eyes': 'http://icondataset.org/flames-leaving-from-the-eyes', 'flames leaving from the eyes rec': [], 'flies': 'http://icondataset.org/flies', 'flies rec': [], 'flock of sheep': 'http://icondataset.org/flock-of-sheep', 'flock of sheep rec': [], 'floor': 'http://icondataset.org/floor', 'floor rec': [], 'floor decoration': 'http://icondataset.org/floor-decoration', 'floor decoration rec': [], 'floral cloth': 'http://icondataset.org/floral-cloth', 'floral cloth rec': [], 'floral dress': 'http://icondataset.org/floral-dress', 'floral dress rec': [], 'flowers': 'http://icondataset.org/flowers', 'flowers rec': [], 'flute': 'http://icondataset.org/flute', 'flute rec': [], 'fly': 'http://icondataset.org/fly', 'fly rec': [], 'following men of each row': 'http://icondataset.org/following-men-of-each-row', 'following men of each row rec': [], 'forelock': 'http://icondataset.org/forelock', 'forelock rec': [], 'forest': 'http://icondataset.org/forest', 'forest rec': [], 'forest fire': 'http://icondataset.org/forest-fire', 'forest fire rec': [], 'fortified town': 'http://icondataset.org/fortified-town', 'fortified town rec': [], 'fountain': 'http://icondataset.org/fountain', 'fountain rec': [], 'four lion paws': 'http://icondataset.org/four-lion-paws', 'four lion paws rec': [], 'fragments of classical buildings': 'http://icondataset.org/fragments-of-classical-buildings', 'fragments of classical buildings rec': [], 'fragments of statuary': 'http://icondataset.org/fragments-of-statuary', 'fragments of statuary rec': [], 'fronton': 'http://icondataset.org/fronton', 'fronton rec': [], 'gale': 'http://icondataset.org/gale', 'gale rec': [], 'garlands': 'http://icondataset.org/garlands', 'garlands rec': [], 'gentleman': 'http://icondataset.org/gentleman', 'gentleman rec': [], 'giraffe': 'http://icondataset.org/giraffe', 'giraffe rec': [], 'glass sphere': 'http://icondataset.org/glass-sphere', 'glass sphere rec': [], 'glasses': 'http://icondataset.org/glasses', 'glasses rec': [], 'globe': 'http://icondataset.org/globe', 'globe rec': [], 'globe crowned with a cross': 'http://icondataset.org/globe-crowned-with-a-cross', 'globe crowned with a cross rec': [], 'gloves': 'http://icondataset.org/gloves', 'gloves rec': [], 'goat': 'http://icondataset.org/goat', 'goat rec': [], 'goat legs': 'http://icondataset.org/goat-legs', 'goat legs rec': [], 'goblet': 'http://icondataset.org/goblet', 'goblet rec': [], 'goddess': 'http://icondataset.org/goddess', 'goddess rec': [], 'gown': 'http://icondataset.org/gown', 'gown rec': [], 'grape': 'http://icondataset.org/grape', 'grape rec': [], 'graters': 'http://icondataset.org/graters', 'graters rec': [], 'griffon claws': 'http://icondataset.org/griffon-claws', 'griffon claws rec': [], 'ground': 'http://icondataset.org/ground', 'ground rec': [], 'group of archers': 'http://icondataset.org/group-of-archers', 'group of archers rec': [], 'group of children': 'http://icondataset.org/group-of-children', 'group of children rec': [], 'group of figures': 'http://icondataset.org/group-of-figures', 'group of figures rec': [], 'group of men': 'http://icondataset.org/group-of-men', 'group of men rec': [], 'group of women': 'http://icondataset.org/group-of-women', 'group of women rec': [], 'hair': 'http://icondataset.org/hair', 'hair rec': [], 'halo': 'http://icondataset.org/halo', 'halo rec': [], 'halo of rays': 'http://icondataset.org/halo-of-rays', 'halo of rays rec': [], 'hand': 'http://icondataset.org/hand', 'hand rec': [], 'hanging': 'http://icondataset.org/hanging', 'hanging rec': [], 'hares': 'http://icondataset.org/hares', 'hares rec': [], 'hat': 'http://icondataset.org/hat', 'hat rec': [], 'head of a dog': 'http://icondataset.org/head-of-a-dog', 'head of a dog rec': [], 'head of a lion': 'http://icondataset.org/head-of-a-lion', 'head of a lion rec': [], 'head of a wolf': 'http://icondataset.org/head-of-a-wolf', 'head of a wolf rec': [], 'headdress': 'http://icondataset.org/headdress', 'headdress rec': [], 'hearts': 'http://icondataset.org/hearts', 'hearts rec': [], 'helmet': 'http://icondataset.org/helmet', 'helmet rec': [], 'hexafoils': 'http://icondataset.org/hexafoils', 'hexafoils rec': [], 'hidden eyes': 'http://icondataset.org/hidden-eyes', 'hidden eyes rec': [], 'hides': 'http://icondataset.org/hides', 'hides rec': [], 'highest zone of the tomb': 'http://icondataset.org/highest-zone-of-the-tomb', 'highest zone of the tomb rec': [], 'hills': 'http://icondataset.org/hills', 'hills rec': [], 'hilly landscape': 'http://icondataset.org/hilly-landscape', 'hilly landscape rec': [], 'home interior': 'http://icondataset.org/home-interior', 'home interior rec': [], 'honeycomb': 'http://icondataset.org/honeycomb', 'honeycomb rec': [], 'horseman': 'http://icondataset.org/horseman', 'horseman rec': [], 'horseshoe': 'http://icondataset.org/horseshoe', 'horseshoe rec': [], 'hortatory verses': 'http://icondataset.org/hortatory-verses', 'hortatory verses rec': [], 'hourglass': 'http://icondataset.org/hourglass', 'hourglass rec': [], 'human': 'http://icondataset.org/human', 'human rec': [], 'human head': 'http://icondataset.org/human-head', 'human head rec': [], 'human skull': 'http://icondataset.org/human-skull', 'human skull rec': [], 'hut': 'http://icondataset.org/hut', 'hut rec': [], 'ibis': 'http://icondataset.org/ibis', 'ibis rec': [], 'idol': 'http://icondataset.org/idol', 'idol rec': [], 'imago clipeata': 'http://icondataset.org/imago-clipeata', 'imago clipeata rec': [], 'implements of Holy Mass': 'http://icondataset.org/implements-of-holy-mass', 'implements of Holy Mass rec': [], 'incense burner': 'http://icondataset.org/incense-burner', 'incense burner rec': [], 'incrustation motif': 'http://icondataset.org/incrustation-motif', 'incrustation motif rec': [], 'inscription': 'http://icondataset.org/inscription', 'inscription rec': [], 'inverted flying buttresses': 'http://icondataset.org/inverted-flying-buttresses', 'inverted flying buttresses rec': [], 'iron teeth': 'http://icondataset.org/iron-teeth', 'iron teeth rec': [], 'ivy': 'http://icondataset.org/ivy', 'ivy rec': [], 'jar': 'http://icondataset.org/jar', 'jar rec': [], 'jewelry box': 'http://icondataset.org/jewelry-box', 'jewelry box rec': [], 'journeyman': 'http://icondataset.org/journeyman', 'journeyman rec': [], 'jungle fight': 'http://icondataset.org/jungle-fight', 'jungle fight rec': [], 'kettle': 'http://icondataset.org/kettle', 'kettle rec': [], 'king': 'http://icondataset.org/king', 'king rec': [], 'kitchen': 'http://icondataset.org/kitchen', 'kitchen rec': [], 'knapsack': 'http://icondataset.org/knapsack', 'knapsack rec': [], 'knotted ribbon bracelets': 'http://icondataset.org/knotted-ribbon-bracelets', 'knotted ribbon bracelets rec': [], 'ladles': 'http://icondataset.org/ladles', 'ladles rec': [], 'lady': 'http://icondataset.org/lady', 'lady rec': [], 'lance': 'http://icondataset.org/lance', 'lance rec': [], 'landscape elements': 'http://icondataset.org/landscape-elements', 'landscape elements rec': [], 'lantern': 'http://icondataset.org/lantern', 'lantern rec': [], 'Lapith': 'http://icondataset.org/lapith', 'Lapith rec': [], 'lappets': 'http://icondataset.org/lappets', 'lappets rec': [], 'laurel wreath': 'http://icondataset.org/laurel-wreath', 'laurel wreath rec': [], 'lawns': 'http://icondataset.org/lawns', 'lawns rec': [], 'leash': 'http://icondataset.org/leash', 'leash rec': [], 'lilies': 'http://icondataset.org/lilies', 'lilies rec': [], 'lilium': 'http://icondataset.org/lilium', 'lilium rec': [], 'lion body': 'http://icondataset.org/lion-body', 'lion body rec': [], 'lion skin': 'http://icondataset.org/lion-skin', 'lion skin rec': [], 'lira da braccio': 'http://icondataset.org/lira-da-braccio', 'lira da braccio rec': [], 'liver': 'http://icondataset.org/liver', 'liver rec': [], 'logs': 'http://icondataset.org/logs', 'logs rec': [], 'lovers': 'http://icondataset.org/lovers', 'lovers rec': [], 'lowest zone of the tomb': 'http://icondataset.org/lowest-zone-of-the-tomb', 'lowest zone of the tomb rec': [], 'lumberjaks': 'http://icondataset.org/lumberjaks', 'lumberjaks rec': [], 'lunette': 'http://icondataset.org/lunette', 'lunette rec': [], 'lyre': 'http://icondataset.org/lyre', 'lyre rec': [], 'mahlstick': 'http://icondataset.org/mahlstick', 'mahlstick rec': [], 'maiden': 'http://icondataset.org/maiden', 'maiden rec': [], 'male head': 'http://icondataset.org/male-head', 'male head rec': [], 'man face': 'http://icondataset.org/man-face', 'man face rec': [], 'mantle': 'http://icondataset.org/mantle', 'mantle rec': [], 'mask of an old malevolent man': 'http://icondataset.org/mask-of-an-old-malevolent-man', 'mask of an old malevolent man rec': [], 'mask of a young woman': 'http://icondataset.org/mask-of-a-young-woman', 'mask of a young woman rec': [], 'masks': 'http://icondataset.org/masks', 'masks rec': [], 'master craftsman': 'http://icondataset.org/master-craftsman', 'master craftsman rec': [], 'medallions': 'http://icondataset.org/medallions', 'medallions rec': [], 'men in different activities': 'http://icondataset.org/men-in-different-activities', 'men in different activities rec': [], 'merchant': 'http://icondataset.org/merchant', 'merchant rec': [], 'mermaids': 'http://icondataset.org/mermaids', 'mermaids rec': [], 'metal objects': 'http://icondataset.org/metal-objects', 'metal objects rec': [], 'mirror': 'http://icondataset.org/mirror', 'mirror rec': [], 'mist': 'http://icondataset.org/mist', 'mist rec': [], 'modius': 'http://icondataset.org/modius', 'modius rec': [], 'monk': 'http://icondataset.org/monk', 'monk rec': [], \"monks' garb\": 'http://icondataset.org/monks-garb', \"monks' garb rec\": [], 'monument': 'http://icondataset.org/monument', 'monument rec': [], 'mountain ash': 'http://icondataset.org/mountain-ash', 'mountain ash rec': [], 'mourners': 'http://icondataset.org/mourners', 'mourners rec': [], 'mouse': 'http://icondataset.org/mouse', 'mouse rec': [], 'mud': 'http://icondataset.org/mud', 'mud rec': [], 'mule': 'http://icondataset.org/mule', 'mule rec': [], 'muscles': 'http://icondataset.org/muscles', 'muscles rec': [], 'myrtle': 'http://icondataset.org/myrtle', 'myrtle rec': [], 'myrtle wreath': 'http://icondataset.org/myrtle-wreath', 'myrtle wreath rec': [], 'nails': 'http://icondataset.org/nails', 'nails rec': [], 'natural landscape': 'http://icondataset.org/natural-landscape', 'natural landscape rec': [], 'necklace of flowers': 'http://icondataset.org/necklace-of-flowers', 'necklace of flowers rec': [], 'network': 'http://icondataset.org/network', 'network rec': [], 'nosegay': 'http://icondataset.org/nosegay', 'nosegay rec': [], 'obelisk': 'http://icondataset.org/obelisk', 'obelisk rec': [], 'onions': 'http://icondataset.org/onions', 'onions rec': [], 'orange trees': 'http://icondataset.org/orange-trees', 'orange trees rec': [], 'ornaments with animals': 'http://icondataset.org/ornaments-with-animals', 'ornaments with animals rec': [], 'outdoors': 'http://icondataset.org/outdoors', 'outdoors rec': [], 'owl': 'http://icondataset.org/owl', 'owl rec': [], 'painter': 'http://icondataset.org/painter', 'painter rec': [], 'painting': 'http://icondataset.org/painting', 'painting rec': [], 'pair of scales': 'http://icondataset.org/pair-of-scales', 'pair of scales rec': [], 'pairs of crouching children': 'http://icondataset.org/pairs-of-crouching-children', 'pairs of crouching children rec': [], 'palette': 'http://icondataset.org/palette', 'palette rec': [], 'palm branch': 'http://icondataset.org/palm-branch', 'palm branch rec': [], 'pans': 'http://icondataset.org/pans', 'pans rec': [], 'parapet': 'http://icondataset.org/parapet', 'parapet rec': [], 'pavement': 'http://icondataset.org/pavement', 'pavement rec': [], 'pavillon': 'http://icondataset.org/pavillon', 'pavillon rec': [], 'peacock': 'http://icondataset.org/peacock', 'peacock rec': [], 'pearl and gold necklaces': 'http://icondataset.org/pearl-and-gold-necklaces', 'pearl and gold necklaces rec': [], 'peasants': 'http://icondataset.org/peasants', 'peasants rec': [], 'pedestals': 'http://icondataset.org/pedestals', 'pedestals rec': [], 'pediment': 'http://icondataset.org/pediment', 'pediment rec': [], 'people': 'http://icondataset.org/people', 'people rec': [], 'person': 'http://icondataset.org/person', 'person rec': [], 'philosophers': 'http://icondataset.org/philosophers', 'philosophers rec': [], 'piece of masonry': 'http://icondataset.org/piece-of-masonry', 'piece of masonry rec': [], 'pig': 'http://icondataset.org/pig', 'pig rec': [], 'pilasters': 'http://icondataset.org/pilasters', 'pilasters rec': [], 'pillow': 'http://icondataset.org/pillow', 'pillow rec': [], 'pinnacles': 'http://icondataset.org/pinnacles', 'pinnacles rec': [], 'platter': 'http://icondataset.org/platter', 'platter rec': [], 'poisonous animal': 'http://icondataset.org/poisonous-animal', 'poisonous animal rec': [], 'portal': 'http://icondataset.org/portal', 'portal rec': [], 'portrait': 'http://icondataset.org/portrait', 'portrait rec': [], 'pot with boiling water': 'http://icondataset.org/pot-with-boiling-water', 'pot with boiling water rec': [], 'pots': 'http://icondataset.org/pots', 'pots rec': [], 'practitioner of la haute couture': 'http://icondataset.org/practitioner-of-la-haute-couture', 'practitioner of la haute couture rec': [], 'prince': 'http://icondataset.org/prince', 'prince rec': [], 'prisms': 'http://icondataset.org/prisms', 'prisms rec': [], 'prisoners': 'http://icondataset.org/prisoners', 'prisoners rec': [], 'procession': 'http://icondataset.org/procession', 'procession rec': [], 'pupil': 'http://icondataset.org/pupil', 'pupil rec': [], 'purse': 'http://icondataset.org/purse', 'purse rec': [], 'putti': 'http://icondataset.org/putti', 'putti rec': [], 'putto': 'http://icondataset.org/putto', 'putto rec': [], 'quadriga': 'http://icondataset.org/quadriga', 'quadriga rec': [], 'quarter moon': 'http://icondataset.org/quarter-moon', 'quarter moon rec': [], 'rafts': 'http://icondataset.org/rafts', 'rafts rec': [], 'rainbow': 'http://icondataset.org/rainbow', 'rainbow rec': [], 'ram': 'http://icondataset.org/ram', 'ram rec': [], 'rat': 'http://icondataset.org/rat', 'rat rec': [], 'red cloth': 'http://icondataset.org/red-cloth', 'red cloth rec': [], 'relief representing a profile head': 'http://icondataset.org/relief-representing-a-profile-head', 'relief representing a profile head rec': [], 'relief representing a skull': 'http://icondataset.org/relief-representing-a-skull', 'relief representing a skull rec': [], 'relief representing bones': 'http://icondataset.org/relief-representing-bones', 'relief representing bones rec': [], 'reliefs of putti': 'http://icondataset.org/reliefs-of-putti', 'reliefs of putti rec': [], 'ribbon': 'http://icondataset.org/ribbon', 'ribbon rec': [], 'right hand': 'http://icondataset.org/right-hand', 'right hand rec': [], 'river': 'http://icondataset.org/river', 'river rec': [], 'rock': 'http://icondataset.org/rock', 'rock rec': [], 'rod': 'http://icondataset.org/rod', 'rod rec': [], 'rose petals': 'http://icondataset.org/rose-petals', 'rose petals rec': [], 'roundel': 'http://icondataset.org/roundel', 'roundel rec': [], 'rude branches and twigs': 'http://icondataset.org/rude-branches-and-twigs', 'rude branches and twigs rec': [], 'ruins': 'http://icondataset.org/ruins', 'ruins rec': [], 'sarcophagus used as a fountain': 'http://icondataset.org/sarcophagus-used-as-a-fountain', 'sarcophagus used as a fountain rec': [], 'satyr baby': 'http://icondataset.org/satyr-baby', 'satyr baby rec': [], 'sceptre': 'http://icondataset.org/sceptre', 'sceptre rec': [], 'sceptre crowned with a sphere': 'http://icondataset.org/sceptre-crowned-with-a-sphere', 'sceptre crowned with a sphere rec': [], 'scimitar': 'http://icondataset.org/scimitar', 'scimitar rec': [], 'scourge': 'http://icondataset.org/scourge', 'scourge rec': [], 'scroll': 'http://icondataset.org/scroll', 'scroll rec': [], \"sculptor's journeyman\": 'http://icondataset.org/sculptors-journeyman', \"sculptor's journeyman rec\": [], \"sculptor's wife\": 'http://icondataset.org/sculptors-wife', \"sculptor's wife rec\": [], 'scythe': 'http://icondataset.org/scythe', 'scythe rec': [], 'sea': 'http://icondataset.org/sea', 'sea rec': [], 'sea goose': 'http://icondataset.org/sea-goose', 'sea goose rec': [], 'sea goose with a fish tail': 'http://icondataset.org/sea-goose-with-a-fish-tail', 'sea goose with a fish tail rec': [], 'seashell': 'http://icondataset.org/seashell', 'seashell rec': [], 'seat': 'http://icondataset.org/seat', 'seat rec': [], 'second platform': 'http://icondataset.org/second-platform', 'second platform rec': [], 'sella gestatoria': 'http://icondataset.org/sella-gestatoria', 'sella gestatoria rec': [], 'sepulchral monument': 'http://icondataset.org/sepulchral-monument', 'sepulchral monument rec': [], 'serpent locks': 'http://icondataset.org/serpent-locks', 'serpent locks rec': [], 'serpent tail': 'http://icondataset.org/serpent-tail', 'serpent tail rec': [], 'servants': 'http://icondataset.org/servants', 'servants rec': [], 'shadowed face': 'http://icondataset.org/shadowed-face', 'shadowed face rec': [], 'shaved nape': 'http://icondataset.org/shaved-nape', 'shaved nape rec': [], 'sheep': 'http://icondataset.org/sheep', 'sheep rec': [], 'shepherdess': 'http://icondataset.org/shepherdess', 'shepherdess rec': [], 'shield': 'http://icondataset.org/shield', 'shield rec': [], 'shipwreck': 'http://icondataset.org/shipwreck', 'shipwreck rec': [], 'shovels': 'http://icondataset.org/shovels', 'shovels rec': [], 'sickle': 'http://icondataset.org/sickle', 'sickle rec': [], 'side walls': 'http://icondataset.org/side-walls', 'side walls rec': [], 'signs of civilization': 'http://icondataset.org/signs-of-civilization', 'signs of civilization rec': [], 'skeleton': 'http://icondataset.org/skeleton', 'skeleton rec': [], 'sketch of a human figure': 'http://icondataset.org/sketch-of-a-human-figure', 'sketch of a human figure rec': [], 'skins': 'http://icondataset.org/skins', 'skins rec': [], 'skullcap': 'http://icondataset.org/skullcap', 'skullcap rec': [], 'sky': 'http://icondataset.org/sky', 'sky rec': [], 'slate': 'http://icondataset.org/slate', 'slate rec': [], 'slave': 'http://icondataset.org/slave', 'slave rec': [], 'snake': 'http://icondataset.org/snake', 'snake rec': [], 'snake biting its tail': 'http://icondataset.org/snake-biting-its-tail', 'snake biting its tail rec': [], 'soap-bubbles': 'http://icondataset.org/soap-bubbles', 'soap-bubbles rec': [], 'solar disc': 'http://icondataset.org/solar-disc', 'solar disc rec': [], 'space': 'http://icondataset.org/space', 'space rec': [], 'spade': 'http://icondataset.org/spade', 'spade rec': [], 'spear': 'http://icondataset.org/spear', 'spear rec': [], 'spheres of clouds': 'http://icondataset.org/spheres-of-clouds', 'spheres of clouds rec': [], 'sphinx': 'http://icondataset.org/sphinx', 'sphinx rec': [], 'spiral': 'http://icondataset.org/spiral', 'spiral rec': [], 'staff': 'http://icondataset.org/staff', 'staff rec': [], \"stag's head\": 'http://icondataset.org/stags-head', \"stag's head rec\": [], 'stake': 'http://icondataset.org/stake', 'stake rec': [], 'statue of a man': 'http://icondataset.org/statue-of-a-man', 'statue of a man rec': [], 'statue of a woman': 'http://icondataset.org/statue-of-a-woman', 'statue of a woman rec': [], 'statues of men': 'http://icondataset.org/statues-of-men', 'statues of men rec': [], 'statues of pagan gods': 'http://icondataset.org/statues-of-pagan-gods', 'statues of pagan gods rec': [], 'statues of putti': 'http://icondataset.org/statues-of-putti', 'statues of putti rec': [], 'statues of slaves': 'http://icondataset.org/statues-of-slaves', 'statues of slaves rec': [], 'statues of women': 'http://icondataset.org/statues-of-women', 'statues of women rec': [], 'statuette': 'http://icondataset.org/statuette', 'statuette rec': [], 'stick': 'http://icondataset.org/stick', 'stick rec': [], 'stone': 'http://icondataset.org/stone', 'stone rec': [], 'storm': 'http://icondataset.org/storm', 'storm rec': [], 'stove': 'http://icondataset.org/stove', 'stove rec': [], 'string of hearts': 'http://icondataset.org/string-of-hearts', 'string of hearts rec': [], 'sun': 'http://icondataset.org/sun', 'sun rec': [], 'sun-dial': 'http://icondataset.org/sun-dial', 'sun-dial rec': [], 'swan': 'http://icondataset.org/swan', 'swan rec': [], 'swarm of bees': 'http://icondataset.org/swarm-of-bees', 'swarm of bees rec': [], 'sword': 'http://icondataset.org/sword', 'sword rec': [], 'syrinx': 'http://icondataset.org/syrinx', 'syrinx rec': [], 'tabernacle': 'http://icondataset.org/tabernacle', 'tabernacle rec': [], 'table': 'http://icondataset.org/table', 'table rec': [], 'talons': 'http://icondataset.org/talons', 'talons rec': [], 'target': 'http://icondataset.org/target', 'target rec': [], 'teacher': 'http://icondataset.org/teacher', 'teacher rec': [], 'temple': 'http://icondataset.org/temple', 'temple rec': [], 'thigs': 'http://icondataset.org/thigs', 'thigs rec': [], 'three dog heads': 'http://icondataset.org/three-dog-heads', 'three dog heads rec': [], 'three headed figure': 'http://icondataset.org/three-headed-figure', 'three headed figure rec': [], 'three headed serpent': 'http://icondataset.org/three-headed-serpent', 'three headed serpent rec': [], 'three heads': 'http://icondataset.org/three-heads', 'three heads rec': [], 'throne': 'http://icondataset.org/throne', 'throne rec': [], 'thunderbolts': 'http://icondataset.org/thunderbolts', 'thunderbolts rec': [], 'tiara': 'http://icondataset.org/tiara', 'tiara rec': [], 'tief': 'http://icondataset.org/tief', 'tief rec': [], 'toga': 'http://icondataset.org/toga', 'toga rec': [], 'tombs': 'http://icondataset.org/tombs', 'tombs rec': [], 'tombstone': 'http://icondataset.org/tombstone', 'tombstone rec': [], 'tomo': 'http://icondataset.org/tomo', 'tomo rec': [], 'tongs': 'http://icondataset.org/tongs', 'tongs rec': [], 'tower': 'http://icondataset.org/tower', 'tower rec': [], 'tracery': 'http://icondataset.org/tracery', 'tracery rec': [], 'treasure chest': 'http://icondataset.org/treasure-chest', 'treasure chest rec': [], 'tree trunks': 'http://icondataset.org/tree-trunks', 'tree trunks rec': [], 'tree-trunk with a twisted vine': 'http://icondataset.org/tree-trunk-with-a-twisted-vine', 'tree-trunk with a twisted vine rec': [], 'triangular gable': 'http://icondataset.org/triangular-gable', 'triangular gable rec': [], 'trident': 'http://icondataset.org/trident', 'trident rec': [], 'triumphal arch': 'http://icondataset.org/triumphal-arch', 'triumphal arch rec': [], 'trophies': 'http://icondataset.org/trophies', 'trophies rec': [], 'trumpet': 'http://icondataset.org/trumpet', 'trumpet rec': [], 'trunk': 'http://icondataset.org/trunk', 'trunk rec': [], 'tube': 'http://icondataset.org/tube', 'tube rec': [], 'tuft of hair on the forehead': 'http://icondataset.org/tuft-of-hair-on-the-forehead', 'tuft of hair on the forehead rec': [], 'turban': 'http://icondataset.org/turban', 'turban rec': [], 'turrets': 'http://icondataset.org/turrets', 'turrets rec': [], 'twins': 'http://icondataset.org/twins', 'twins rec': [], 'two griffon paws': 'http://icondataset.org/two-griffon-paws', 'two griffon paws rec': [], 'two lion paws': 'http://icondataset.org/two-lion-paws', 'two lion paws rec': [], 'two-storied superstructure': 'http://icondataset.org/two-storied-superstructure', 'two-storied superstructure rec': [], 'unicorn': 'http://icondataset.org/unicorn', 'unicorn rec': [], 'universe': 'http://icondataset.org/universe', 'universe rec': [], 'urns': 'http://icondataset.org/urns', 'urns rec': [], 'vase with fire': 'http://icondataset.org/vase-with-fire', 'vase with fire rec': [], 'vat of wine': 'http://icondataset.org/vat-of-wine', 'vat of wine rec': [], 'veil': 'http://icondataset.org/veil', 'veil rec': [], 'vulture': 'http://icondataset.org/vulture', 'vulture rec': [], 'wall tomb': 'http://icondataset.org/wall-tomb', 'wall tomb rec': [], 'wasps': 'http://icondataset.org/wasps', 'wasps rec': [], 'water': 'http://icondataset.org/water', 'water rec': [], 'weapons': 'http://icondataset.org/weapons', 'weapons rec': [], 'wheel': 'http://icondataset.org/wheel', 'wheel rec': [], 'wild animals': 'http://icondataset.org/wild-animals', 'wild animals rec': [], 'wild landscape': 'http://icondataset.org/wild-landscape', 'wild landscape rec': [], 'wine-jug': 'http://icondataset.org/wine-jug', 'wine-jug rec': [], 'winged bull': 'http://icondataset.org/winged-bull', 'winged bull rec': [], 'winged creature': 'http://icondataset.org/winged-creature', 'winged creature rec': [], 'winged hat': 'http://icondataset.org/winged-hat', 'winged hat rec': [], 'winged horse': 'http://icondataset.org/winged-horse', 'winged horse rec': [], 'wings': 'http://icondataset.org/wings', 'wings rec': [], 'wings at the heels': 'http://icondataset.org/wings-at-the-heels', 'wings at the heels rec': [], 'wings on the head': 'http://icondataset.org/wings-on-the-head', 'wings on the head rec': [], 'wolf': 'http://icondataset.org/wolf', 'wolf rec': [], 'woman face': 'http://icondataset.org/woman-face', 'woman face rec': [], 'woman with goat legs': 'http://icondataset.org/woman-with-goat-legs', 'woman with goat legs rec': [], 'wooden leg': 'http://icondataset.org/wooden-leg', 'wooden leg rec': [], 'woven materials': 'http://icondataset.org/woven-materials', 'woven materials rec': [], 'wreath': 'http://icondataset.org/wreath', 'wreath rec': [], 'writings': 'http://icondataset.org/writings', 'writings rec': [], 'young': 'http://icondataset.org/young', 'young rec': [], 'zodiac': 'http://icondataset.org/zodiac', 'zodiac rec': [], 'stick with two coiled snakes': 'http://icondataset.org/stick-with-two-coiled-snakes', 'stick with two coiled snakes rec': [], 'human figure with animal legs': 'http://icondataset.org/human-figure-with-animal-legs', 'human figure with animal legs rec': [], 'human baby with animal legs': 'http://icondataset.org/human-baby-with-animal-legs', 'human baby with animal legs rec': [], 'human figures with animal legs': 'http://icondataset.org/human-figures-with-animal-legs', 'human figures with animal legs rec': [], 'creature with human upper body and legs and lower body of horse': 'http://icondataset.org/creature-with-human-upper-body-and-legs-and-lower-body-of-horse', 'creature with human upper body and legs and lower body of horse rec': [], 'shadowened face': 'http://icondataset.org/shadowened-face', 'shadowened face rec': [], 'acantus plant': 'http://icondataset.org/acantus-plant', 'acantus plant rec': [], 'angel(s)': ['http://icondataset.org/angel', 'http://icondataset.org/angels'], 'angel(s) rec': [], 'ape(s)': ['http://icondataset.org/ape', 'http://icondataset.org/apes'], 'ape(s) rec': [], 'arrow(s)': ['http://icondataset.org/arrow', 'http://icondataset.org/arrows'], 'arrow(s) rec': [], 'ax(e)': ['http://icondataset.org/ax', 'http://icondataset.org/axe'], 'ax(e) rec': [], 'bellow(s)': ['http://icondataset.org/bellow', 'http://icondataset.org/bellows'], 'bellow(s) rec': [], 'book(s)': ['http://icondataset.org/book', 'http://icondataset.org/books'], 'book(s) rec': [], 'building(s)': ['http://icondataset.org/building', 'http://icondataset.org/buildings'], 'building(s) rec': [], 'cloth(es)': ['http://icondataset.org/cloth', 'http://icondataset.org/clothes'], 'cloth(es) rec': [], 'club(s)': ['http://icondataset.org/club', 'http://icondataset.org/clubs'], 'club(s) rec': [], 'coffin(s)': ['http://icondataset.org/coffin', 'http://icondataset.org/coffins'], 'coffin(s) rec': [], 'column(s)': ['http://icondataset.org/column', 'http://icondataset.org/columns'], 'column(s) rec': [], 'constellation(s)': ['http://icondataset.org/constellation', 'http://icondataset.org/constellations'], 'constellation(s) rec': [], 'corpse(s)': ['http://icondataset.org/corpse', 'http://icondataset.org/corpses'], 'corpse(s) rec': [], 'crutch(es)': ['http://icondataset.org/crutch', 'http://icondataset.org/crutches'], 'crutch(es) rec': [], 'dog(s)': ['http://icondataset.org/dog', 'http://icondataset.org/dogs'], 'dog(s) rec': [], 'dolphin(s)': ['http://icondataset.org/dolphin', 'http://icondataset.org/dolphins'], 'dolphin(s) rec': [], 'dove(s)': ['http://icondataset.org/dove', 'http://icondataset.org/doves'], 'dove(s) rec': [], 'dress(es)': ['http://icondataset.org/dress', 'http://icondataset.org/dresses'], 'dress(es) rec': [], 'fettered ape(s)': ['http://icondataset.org/fettered-ape', 'http://icondataset.org/fettered-apes'], 'fettered ape(s) rec': [], 'figure(s)': ['http://icondataset.org/figure', 'http://icondataset.org/figures'], 'figure(s) rec': [], 'girl(s)': ['http://icondataset.org/girl', 'http://icondataset.org/girls'], 'girl(s) rec': [], 'hammer(s)': ['http://icondataset.org/hammer', 'http://icondataset.org/hammers'], 'hammer(s) rec': [], 'head(s)': ['http://icondataset.org/head', 'http://icondataset.org/heads'], 'head(s) rec': [], 'herm(s)': ['http://icondataset.org/herm', 'http://icondataset.org/herms'], 'herm(s) rec': [], 'horn(s)': ['http://icondataset.org/horn', 'http://icondataset.org/horns'], 'horn(s) rec': [], 'horse(s)': ['http://icondataset.org/horse', 'http://icondataset.org/horses'], 'horse(s) rec': [], 'knight(s)': ['http://icondataset.org/knight', 'http://icondataset.org/knights'], 'knight(s) rec': [], 'lion(s)': ['http://icondataset.org/lion', 'http://icondataset.org/lions'], 'lion(s) rec': [], 'musical instrument(s)': ['http://icondataset.org/musical-instrument', 'http://icondataset.org/musical-instruments'], 'musical instrument(s) rec': [], 'niche(s)': ['http://icondataset.org/niche', 'http://icondataset.org/niches'], 'niche(s) rec': [], 'relief(s)': ['http://icondataset.org/relief', 'http://icondataset.org/reliefs'], 'relief(s) rec': [], 'rose(s)': ['http://icondataset.org/rose', 'http://icondataset.org/roses'], 'rose(s) rec': [], 'satyr(s)': ['http://icondataset.org/satyr', 'http://icondataset.org/satyrs'], 'satyr(s) rec': [], 'saw(s)': ['http://icondataset.org/saw', 'http://icondataset.org/saws'], 'saw(s) rec': [], 'scholar(s)': ['http://icondataset.org/scholar', 'http://icondataset.org/scholars'], 'scholar(s) rec': [], 'serpent(s)': ['http://icondataset.org/serpent', 'http://icondataset.org/serpents'], 'serpent(s) rec': [], 'shepherd(s)': ['http://icondataset.org/shepherd', 'http://icondataset.org/shepherds'], 'shepherd(s) rec': [], 'soldier(s)': ['http://icondataset.org/soldier', 'http://icondataset.org/soldiers'], 'soldier(s) rec': [], 'sphere(s)': ['http://icondataset.org/sphere', 'http://icondataset.org/spheres'], 'sphere(s) rec': [], 'square(s)': ['http://icondataset.org/square', 'http://icondataset.org/squares'], 'square(s) rec': [], 'star(s)': ['http://icondataset.org/star', 'http://icondataset.org/stars'], 'star(s) rec': [], 'statue(s)': ['http://icondataset.org/statue', 'http://icondataset.org/statues'], 'statue(s) rec': [], 'torch(es)': ['http://icondataset.org/torch', 'http://icondataset.org/torches'], 'torch(es) rec': [], 'tree(s)': ['http://icondataset.org/tree', 'http://icondataset.org/trees'], 'tree(s) rec': [], 'vessel(s)': ['http://icondataset.org/vessel', 'http://icondataset.org/vessels'], 'vessel(s) rec': [], 'sarcophagus(i)': ['http://icondataset.org/sarcophagi', 'http://icondataset.org/sarcophagus'], 'sarcophagus(i) rec': [], 'woman(women)': ['http://icondataset.org/woman', 'http://icondataset.org/women'], 'woman(women) rec': [], 'man(men)': ['http://icondataset.org/man', 'http://icondataset.org/men'], 'man(men) rec': [], 'ox(oxen)': ['http://icondataset.org/ox', 'http://icondataset.org/oxen'], 'ox(oxen) rec': [], 'wood(s)': ['http://icondataset.org/woods'], 'wood(s) rec': [], 'kid(s)': ['http://icondataset.org/kids'], 'kid(s) rec': [], 'child(dren)': ['http://icondataset.org/child'], 'child(dren) rec': [], 'savage(s)': ['http://icondataset.org/savages'], 'savage(s) rec': []}\n"
     ]
    }
   ],
   "source": [
    "not_fitted_plurals = []\n",
    "not_fitted_plurals.append((\"sarcophagus\", \"sarcophagi\", \"sarcophagus(i)\"))\n",
    "not_fitted_plurals.append((\"woman\", \"women\", \"woman(women)\"))\n",
    "not_fitted_plurals.append((\"man\", \"men\", \"man(men)\"))\n",
    "not_fitted_plurals.append((\"ox\", \"oxen\", \"ox(oxen)\"))\n",
    "not_fitted_plurals.append((\"wood\", \"woods\", \"wood(s)\"))\n",
    "not_fitted_plurals.append((\"kid\", \"kids\", \"kid(s)\"))\n",
    "not_fitted_plurals.append((\"child\", \"childdren\", \"child(dren)\"))\n",
    "not_fitted_plurals.append((\"savage\", \"savages\", \"savage(s)\"))\n",
    "\n",
    "final = detect_plurals(naturalElementDict2, not_fitted_plurals)"
   ]
  },
  {
   "cell_type": "code",
   "execution_count": 128,
   "metadata": {},
   "outputs": [
    {
     "name": "stdout",
     "output_type": "stream",
     "text": [
      "['http://icondataset.org/man', 'http://icondataset.org/men']\n"
     ]
    }
   ],
   "source": [
    "print(naturalElementDict2[\"man(men)\"])"
   ]
  },
  {
   "cell_type": "code",
   "execution_count": 72,
   "metadata": {},
   "outputs": [
    {
     "ename": "KeyError",
     "evalue": "'Angels rec'",
     "output_type": "error",
     "traceback": [
      "\u001b[1;31m---------------------------------------------------------------------------\u001b[0m",
      "\u001b[1;31mKeyError\u001b[0m                                  Traceback (most recent call last)",
      "\u001b[1;32mC:\\Users\\SOFIAB~1\\AppData\\Local\\Temp/ipykernel_6084/4263483868.py\u001b[0m in \u001b[0;36m<module>\u001b[1;34m\u001b[0m\n\u001b[0;32m      3\u001b[0m \u001b[1;31m# print(characterDict3)\u001b[0m\u001b[1;33m\u001b[0m\u001b[1;33m\u001b[0m\u001b[1;33m\u001b[0m\u001b[0m\n\u001b[0;32m      4\u001b[0m \u001b[1;31m#characterDict4 = detect_plurals(characterDict3, plurals_list)\u001b[0m\u001b[1;33m\u001b[0m\u001b[1;33m\u001b[0m\u001b[1;33m\u001b[0m\u001b[0m\n\u001b[1;32m----> 5\u001b[1;33m \u001b[0mprint\u001b[0m\u001b[1;33m(\u001b[0m\u001b[0mcharacterDict4\u001b[0m\u001b[1;33m[\u001b[0m\u001b[1;34m\"Angels rec\"\u001b[0m\u001b[1;33m]\u001b[0m\u001b[1;33m)\u001b[0m\u001b[1;33m\u001b[0m\u001b[1;33m\u001b[0m\u001b[0m\n\u001b[0m",
      "\u001b[1;31mKeyError\u001b[0m: 'Angels rec'"
     ]
    }
   ],
   "source": [
    "characterDict4 = detect_plurals(characterDict3, plurals_list)"
   ]
  }
 ],
 "metadata": {
  "colab": {
   "name": "ReconciliationTests.ipynb",
   "provenance": [],
   "toc_visible": true
  },
  "kernelspec": {
   "display_name": "Python 3 (ipykernel)",
   "language": "python",
   "name": "python3"
  },
  "language_info": {
   "codemirror_mode": {
    "name": "ipython",
    "version": 3
   },
   "file_extension": ".py",
   "mimetype": "text/x-python",
   "name": "python",
   "nbconvert_exporter": "python",
   "pygments_lexer": "ipython3",
   "version": "3.9.0"
  }
 },
 "nbformat": 4,
 "nbformat_minor": 1
}
