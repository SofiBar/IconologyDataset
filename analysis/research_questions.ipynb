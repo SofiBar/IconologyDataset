{
  "nbformat": 4,
  "nbformat_minor": 0,
  "metadata": {
    "colab": {
      "provenance": [],
      "toc_visible": true
    },
    "kernelspec": {
      "name": "python3",
      "display_name": "Python 3"
    },
    "language_info": {
      "name": "python"
    }
  },
  "cells": [
    {
      "cell_type": "markdown",
      "source": [
        "# Import"
      ],
      "metadata": {
        "id": "42U4qciZRpBh"
      }
    },
    {
      "cell_type": "code",
      "metadata": {
        "colab": {
          "base_uri": "https://localhost:8080/"
        },
        "id": "cWxy_mllNF2f",
        "outputId": "0c363828-5e6f-4d01-baef-65526a5126a8"
      },
      "source": [
        "pip install rdflib"
      ],
      "execution_count": null,
      "outputs": [
        {
          "output_type": "stream",
          "name": "stdout",
          "text": [
            "Collecting rdflib\n",
            "  Downloading rdflib-6.0.2-py3-none-any.whl (407 kB)\n",
            "\u001b[?25l\r\u001b[K     |▉                               | 10 kB 23.8 MB/s eta 0:00:01\r\u001b[K     |█▋                              | 20 kB 30.0 MB/s eta 0:00:01\r\u001b[K     |██▍                             | 30 kB 33.3 MB/s eta 0:00:01\r\u001b[K     |███▏                            | 40 kB 23.5 MB/s eta 0:00:01\r\u001b[K     |████                            | 51 kB 20.3 MB/s eta 0:00:01\r\u001b[K     |████▉                           | 61 kB 15.4 MB/s eta 0:00:01\r\u001b[K     |█████▋                          | 71 kB 14.9 MB/s eta 0:00:01\r\u001b[K     |██████▍                         | 81 kB 16.4 MB/s eta 0:00:01\r\u001b[K     |███████▎                        | 92 kB 17.4 MB/s eta 0:00:01\r\u001b[K     |████████                        | 102 kB 13.1 MB/s eta 0:00:01\r\u001b[K     |████████▉                       | 112 kB 13.1 MB/s eta 0:00:01\r\u001b[K     |█████████▋                      | 122 kB 13.1 MB/s eta 0:00:01\r\u001b[K     |██████████▌                     | 133 kB 13.1 MB/s eta 0:00:01\r\u001b[K     |███████████▎                    | 143 kB 13.1 MB/s eta 0:00:01\r\u001b[K     |████████████                    | 153 kB 13.1 MB/s eta 0:00:01\r\u001b[K     |████████████▉                   | 163 kB 13.1 MB/s eta 0:00:01\r\u001b[K     |█████████████▊                  | 174 kB 13.1 MB/s eta 0:00:01\r\u001b[K     |██████████████▌                 | 184 kB 13.1 MB/s eta 0:00:01\r\u001b[K     |███████████████▎                | 194 kB 13.1 MB/s eta 0:00:01\r\u001b[K     |████████████████                | 204 kB 13.1 MB/s eta 0:00:01\r\u001b[K     |█████████████████               | 215 kB 13.1 MB/s eta 0:00:01\r\u001b[K     |█████████████████▊              | 225 kB 13.1 MB/s eta 0:00:01\r\u001b[K     |██████████████████▌             | 235 kB 13.1 MB/s eta 0:00:01\r\u001b[K     |███████████████████▎            | 245 kB 13.1 MB/s eta 0:00:01\r\u001b[K     |████████████████████▏           | 256 kB 13.1 MB/s eta 0:00:01\r\u001b[K     |█████████████████████           | 266 kB 13.1 MB/s eta 0:00:01\r\u001b[K     |█████████████████████▊          | 276 kB 13.1 MB/s eta 0:00:01\r\u001b[K     |██████████████████████▌         | 286 kB 13.1 MB/s eta 0:00:01\r\u001b[K     |███████████████████████▍        | 296 kB 13.1 MB/s eta 0:00:01\r\u001b[K     |████████████████████████▏       | 307 kB 13.1 MB/s eta 0:00:01\r\u001b[K     |█████████████████████████       | 317 kB 13.1 MB/s eta 0:00:01\r\u001b[K     |█████████████████████████▊      | 327 kB 13.1 MB/s eta 0:00:01\r\u001b[K     |██████████████████████████▋     | 337 kB 13.1 MB/s eta 0:00:01\r\u001b[K     |███████████████████████████▍    | 348 kB 13.1 MB/s eta 0:00:01\r\u001b[K     |████████████████████████████▏   | 358 kB 13.1 MB/s eta 0:00:01\r\u001b[K     |█████████████████████████████   | 368 kB 13.1 MB/s eta 0:00:01\r\u001b[K     |█████████████████████████████▉  | 378 kB 13.1 MB/s eta 0:00:01\r\u001b[K     |██████████████████████████████▋ | 389 kB 13.1 MB/s eta 0:00:01\r\u001b[K     |███████████████████████████████▍| 399 kB 13.1 MB/s eta 0:00:01\r\u001b[K     |████████████████████████████████| 407 kB 13.1 MB/s \n",
            "\u001b[?25hCollecting isodate\n",
            "  Downloading isodate-0.6.0-py2.py3-none-any.whl (45 kB)\n",
            "\u001b[?25l\r\u001b[K     |███████▏                        | 10 kB 29.0 MB/s eta 0:00:01\r\u001b[K     |██████████████▍                 | 20 kB 34.5 MB/s eta 0:00:01\r\u001b[K     |█████████████████████▌          | 30 kB 38.2 MB/s eta 0:00:01\r\u001b[K     |████████████████████████████▊   | 40 kB 41.0 MB/s eta 0:00:01\r\u001b[K     |████████████████████████████████| 45 kB 3.5 MB/s \n",
            "\u001b[?25hRequirement already satisfied: pyparsing in /usr/local/lib/python3.7/dist-packages (from rdflib) (3.0.6)\n",
            "Requirement already satisfied: setuptools in /usr/local/lib/python3.7/dist-packages (from rdflib) (57.4.0)\n",
            "Requirement already satisfied: six in /usr/local/lib/python3.7/dist-packages (from isodate->rdflib) (1.15.0)\n",
            "Installing collected packages: isodate, rdflib\n",
            "Successfully installed isodate-0.6.0 rdflib-6.0.2\n"
          ]
        }
      ]
    },
    {
      "cell_type": "code",
      "metadata": {
        "id": "VjKkncxzNVFH"
      },
      "source": [
        "import rdflib\n",
        "from rdflib.namespace import CSVW, DC, DCAT, DCTERMS, DOAP, FOAF, ODRL2, ORG, OWL, \\\n",
        "                           PROF, PROV, RDF, RDFS, SDO, SH, SKOS, SOSA, SSN, TIME, \\\n",
        "                           VOID, XMLNS, XSD\n",
        "from rdflib import Namespace\n",
        "from rdflib import URIRef"
      ],
      "execution_count": null,
      "outputs": []
    },
    {
      "cell_type": "markdown",
      "source": [
        "# Functions"
      ],
      "metadata": {
        "id": "j_RIW4l8RunY"
      }
    },
    {
      "cell_type": "code",
      "source": [
        "# endpoint\n",
        "icon_endpoint = \"https://projects.dharc.unibo.it/icondataset/sparql\""
      ],
      "metadata": {
        "id": "ynV53UfyXU5M"
      },
      "execution_count": null,
      "outputs": []
    },
    {
      "cell_type": "code",
      "source": [
        "def sparl_query_setting(query, endpoint):# set the endpoint \n",
        "  sparql = SPARQLWrapper(endpoint)                 \n",
        "  # set the query\n",
        "  sparql.setQuery(query)\n",
        "  # set the returned format\n",
        "  sparql.setReturnFormat(JSON)\n",
        "  # get the results\n",
        "  results = sparql.query().convert()\n",
        "  return results"
      ],
      "metadata": {
        "id": "LKDDzwXpXXvO"
      },
      "execution_count": null,
      "outputs": []
    },
    {
      "cell_type": "markdown",
      "source": [
        "# Research Questions"
      ],
      "metadata": {
        "id": "WTkB0GvxRx7g"
      }
    },
    {
      "cell_type": "markdown",
      "source": [
        "## Cultural Phenomena"
      ],
      "metadata": {
        "id": "-7xqQMRFR0X7"
      }
    },
    {
      "cell_type": "markdown",
      "source": [
        "### Q1. \n",
        "How many artworks have a cultural phenomenon associated?"
      ],
      "metadata": {
        "id": "uWJbXB-iR6YD"
      }
    },
    {
      "cell_type": "markdown",
      "source": [
        "### Q2. \n",
        "What is the frequency of level 1 and 2 subjects occurring with each cultural phenomenon? "
      ],
      "metadata": {
        "id": "q-iCnyxJTwM6"
      }
    },
    {
      "cell_type": "markdown",
      "source": [
        "### Q3. \n",
        "What is the frequency with which a cultural phenomenon recognition is supported by a piece of evidence? Of which type is it? (texts, artworks, etc.)\n",
        "\n"
      ],
      "metadata": {
        "id": "qdqAWXXuT3RO"
      }
    },
    {
      "cell_type": "markdown",
      "source": [
        "### Q4. \n",
        "Is there any co-occurrence between cultural phenomena and other types of subjects?"
      ],
      "metadata": {
        "id": "9OZ9t_OPT9ms"
      }
    },
    {
      "cell_type": "markdown",
      "source": [
        "### Q5. \n",
        "What recognitions support the recognition of a cultural phenomenon?"
      ],
      "metadata": {
        "id": "nmsJWxgeUB9m"
      }
    },
    {
      "cell_type": "markdown",
      "source": [
        "### Q6. \n",
        "What are the artworks having both a cultural phenomenon in common and a different style associated?"
      ],
      "metadata": {
        "id": "1LEHxQlQUItw"
      }
    },
    {
      "cell_type": "markdown",
      "source": [
        "## Symbols"
      ],
      "metadata": {
        "id": "JyZtueEfULWQ"
      }
    },
    {
      "cell_type": "markdown",
      "source": [
        "### Q7. \n",
        "Which and how many symbols express the same concept?"
      ],
      "metadata": {
        "id": "vFeBeQ_uUM9k"
      }
    },
    {
      "cell_type": "markdown",
      "source": [
        "### Q8. \n",
        "What different symbolical meanings can the same symbol have?"
      ],
      "metadata": {
        "id": "SCL_IeBcUR1e"
      }
    },
    {
      "cell_type": "markdown",
      "source": [
        "### Q9. \n",
        "How do symbols evolve over time and in different contexts?"
      ],
      "metadata": {
        "id": "6HSpIx1zUX_n"
      }
    },
    {
      "cell_type": "markdown",
      "source": [
        "### Q10. \n",
        "What are all the symbols motivated by a specific source? Do they vary from the corresponding subjects not citing a piece of evidence?"
      ],
      "metadata": {
        "id": "ybP61kcFUaTF"
      }
    },
    {
      "cell_type": "markdown",
      "source": [
        "### Q11. \n",
        "Do deeper meanings cite as support textual sources?"
      ],
      "metadata": {
        "id": "n4EzjNJ3UhSE"
      }
    },
    {
      "cell_type": "markdown",
      "source": [
        "## Iconographies"
      ],
      "metadata": {
        "id": "V7FtJ_hhUofk"
      }
    },
    {
      "cell_type": "markdown",
      "source": [
        "### Q12. \n",
        "Which are the representational variations of iconography? I.e. what are the sets of level 1 subjects composing the recognized level 2 subject in artworks?"
      ],
      "metadata": {
        "id": "WXyhqoSGUquP"
      }
    },
    {
      "cell_type": "markdown",
      "source": [
        "### Q13. \n",
        "What are the attributes having a symbolic meaning?"
      ],
      "metadata": {
        "id": "9IvC1VFwVI70"
      }
    },
    {
      "cell_type": "markdown",
      "source": [
        "### Q14. \n",
        "How does the representation of iconography evolve over time? Of which level 1 subjects is it composed?\n",
        "\n"
      ],
      "metadata": {
        "id": "PEgspJpUVM1t"
      }
    },
    {
      "cell_type": "markdown",
      "source": [
        "### Q15. \n",
        "Which attributes allow us to identify representations? What is their frequency?"
      ],
      "metadata": {
        "id": "VHBy76uMVWhX"
      }
    },
    {
      "cell_type": "markdown",
      "source": [
        "### Q16. \n",
        "Among the attributes marked as recognising, which are the most common and rare?"
      ],
      "metadata": {
        "id": "ockJPfClVgGs"
      }
    },
    {
      "cell_type": "markdown",
      "source": [
        "### Q17. \n",
        "Which are the most common level 1 subjects not marked as recognising?"
      ],
      "metadata": {
        "id": "Ab2j3gkuVhwe"
      }
    },
    {
      "cell_type": "markdown",
      "source": [
        "## Evidence"
      ],
      "metadata": {
        "id": "mmzQ0JW0Vqi-"
      }
    },
    {
      "cell_type": "markdown",
      "source": [
        "### Q18. \n",
        "What were the known textual sources to which the artwork refers? Is the artwork involved in a cultural phenomenon?"
      ],
      "metadata": {
        "id": "bizikkLbVo-3"
      }
    },
    {
      "cell_type": "markdown",
      "source": [
        "## Visual Citation"
      ],
      "metadata": {
        "id": "4q4-elXGVsyg"
      }
    },
    {
      "cell_type": "markdown",
      "source": [
        "### Q19. \n",
        "What artworks cite the visual pattern of other ones?"
      ],
      "metadata": {
        "id": "x3svhCBSVv6c"
      }
    },
    {
      "cell_type": "markdown",
      "source": [
        "### Q20. \n",
        "In which cases artworks involved in a visual citation have a cultural phenomenon associated?"
      ],
      "metadata": {
        "id": "rjO-OLfVV0rl"
      }
    }
  ]
}