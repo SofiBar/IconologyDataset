{
  "nbformat": 4,
  "nbformat_minor": 0,
  "metadata": {
    "colab": {
      "provenance": [],
      "toc_visible": true
    },
    "kernelspec": {
      "name": "python3",
      "display_name": "Python 3"
    },
    "language_info": {
      "name": "python"
    }
  },
  "cells": [
    {
      "cell_type": "markdown",
      "source": [
        "#Iconology Dataset Validation"
      ],
      "metadata": {
        "id": "Y4EZgZrmV9ZG"
      }
    },
    {
      "cell_type": "markdown",
      "source": [
        "## Imports and functions"
      ],
      "metadata": {
        "id": "D-l1QXTvemZ6"
      }
    },
    {
      "cell_type": "code",
      "source": [
        "!pip install rdflib\n",
        "\n",
        "import rdflib\n",
        "from rdflib.namespace import CSVW, DC, DCAT, DCTERMS, DOAP, FOAF, ODRL2, ORG, OWL, \\\n",
        "                           PROF, PROV, RDF, RDFS, SDO, SH, SKOS, SOSA, SSN, TIME, \\\n",
        "                           VOID, XMLNS, XSD\n",
        "from rdflib import Namespace\n",
        "from rdflib import URIRef"
      ],
      "metadata": {
        "id": "zskZsXjBeqTu"
      },
      "execution_count": null,
      "outputs": []
    },
    {
      "cell_type": "code",
      "source": [
        "import csv\n",
        "def store_csv(file_name, first_line, list_of_lists):\n",
        "    with open(file_name, mode='w', newline='', encoding='UTF-8') as my_file:\n",
        "        file = csv.writer(my_file, delimiter=';', quotechar='\"', quoting=csv.QUOTE_ALL)\n",
        "        file.writerow(first_line)\n",
        "        for l in list_of_lists:\n",
        "            file.writerow(l)\n",
        "    return(file_name)\n"
      ],
      "metadata": {
        "id": "X9M-hjxx-HwG"
      },
      "execution_count": null,
      "outputs": []
    },
    {
      "cell_type": "code",
      "source": [
        "g = rdflib.Graph() # we create a new graph\n",
        "g.parse(\"https://w3id.org/icon/data/\", format=\"ttl\")"
      ],
      "metadata": {
        "id": "iZvUjmnpe8kA"
      },
      "execution_count": null,
      "outputs": []
    },
    {
      "cell_type": "code",
      "source": [],
      "metadata": {
        "id": "iGkuurzufO2v"
      },
      "execution_count": null,
      "outputs": []
    },
    {
      "cell_type": "markdown",
      "source": [
        "## Accuracy\n",
        "### Syntactic validity\n",
        "The syntactic validity was checked through TurtleValidator, available at https://github.com/IDLabResearch/TurtleValidator . <br/>\n",
        "The validation ended with 0 errors."
      ],
      "metadata": {
        "id": "2eRxPMS4eq-e"
      }
    },
    {
      "cell_type": "code",
      "execution_count": null,
      "metadata": {
        "id": "8Rniha0PUXOc"
      },
      "outputs": [],
      "source": [
        "!npm install -g turtle-validator"
      ]
    },
    {
      "cell_type": "code",
      "source": [
        "!ttl https://raw.githubusercontent.com/SofiBar/IconologyDataset/main/data/icondataset.ttl"
      ],
      "metadata": {
        "colab": {
          "base_uri": "https://localhost:8080/"
        },
        "id": "S8xojxRYUiHq",
        "outputId": "b84f1012-dfc7-4ff5-f13f-43553d508972"
      },
      "execution_count": null,
      "outputs": [
        {
          "output_type": "stream",
          "name": "stdout",
          "text": [
            "Validator finished with 0 warnings and 0 errors.\n"
          ]
        }
      ]
    },
    {
      "cell_type": "markdown",
      "source": [
        "### Literals validity\n",
        "We check the date validity by verifying if it complies with the ISO8601 standard. To do that, we express the ISO standard as a regular expression and we check if the dates in the dataset are expressed through it."
      ],
      "metadata": {
        "id": "lsskikcBYZUw"
      }
    },
    {
      "cell_type": "code",
      "source": [
        "import re\n",
        "example = [\"1023-01-01T00:00:00\", \"102-01-01T00:00:00\", \"-20-01-01T00:00:00\"]\n",
        "expression = re.compile(r\"^\\d\\d\\d\\d-(0[1-9]|1[012])-([012]\\d|3[01])T([01]\\d|2[0-3]):([0-5]\\d):([0-5]\\d)$\")\n",
        "ex3 = re.compile(r\"^[0-9]{4}-[0-9]{2}-[0-9]{2}T[0-9]{2}:[0-9]{2}:[0-9]{2}(\\.[0-9]+)?([Zz]|([\\+-])([01]\\d|2[0-3]):?([0-5]\\d)?)?$\", re.IGNORECASE)\n",
        "match = re.search(ex3,example[0])\n",
        "if match:\n",
        "  print(\"ok\")"
      ],
      "metadata": {
        "id": "tXluWKpdYbib"
      },
      "execution_count": null,
      "outputs": []
    },
    {
      "cell_type": "code",
      "source": [
        "def check_date_regex(input_list):\n",
        "    for text in input_list:\n",
        "      if text.startswith(\"-\"): # negative dates\n",
        "        input_text = text.replace(\"-\", \"\", 1)\n",
        "      else:\n",
        "        input_text = text\n",
        "      s = input_text.split(\"-\")\n",
        "      date = s[0]\n",
        "      pattern = re.compile(r\"^[0-9]{4}-[0-9]{2}-[0-9]{2}T[0-9]{2}:[0-9]{2}:[0-9]{2}(\\.[0-9]+)?([Zz]|([\\+-])([01]\\d|2[0-3]):?([0-5]\\d)?)?$\", re.IGNORECASE)\n",
        "\n",
        "      mat = pattern.match(input_text)\n",
        "      if not mat:\n",
        "        print(\"not matched: \", input_text, text)\n",
        "\n",
        "    return mat\n",
        "\n",
        "t = check_date_regex(example)"
      ],
      "metadata": {
        "id": "qFdPCn9mbZaJ"
      },
      "execution_count": null,
      "outputs": []
    },
    {
      "cell_type": "markdown",
      "source": [
        "Extract dates from the dataset"
      ],
      "metadata": {
        "id": "Jd6P54rbeew2"
      }
    },
    {
      "cell_type": "code",
      "source": [
        "date_list = []\n",
        "q_dates = '''\n",
        "\n",
        "PREFIX crm: <http://www.cidoc-crm.org/cidoc-crm/>\n",
        "\n",
        "SELECT DISTINCT ?date WHERE {\n",
        "\n",
        " ?time crm:P82a_begin_of_the_begin | crm:P82b_end_of_the_end ?date.\n",
        "\n",
        "}\n",
        "'''\n",
        "\n",
        "dateRes = g.query(q_dates)\n",
        "\n",
        "for row in dateRes:\n",
        "  d = str(row[0])\n",
        "\n",
        "  if d !=\"None\":\n",
        "    date_list.append(d)\n",
        "print(date_list)"
      ],
      "metadata": {
        "id": "MjKFbaQueiUr"
      },
      "execution_count": null,
      "outputs": []
    },
    {
      "cell_type": "code",
      "source": [
        "check = check_date_regex(date_list)"
      ],
      "metadata": {
        "id": "QSDoLdGcgGeQ"
      },
      "execution_count": 7,
      "outputs": []
    },
    {
      "cell_type": "markdown",
      "source": [
        "### Semantic Validity of Triples\n",
        "Measure to determine if the meanings of triples with literal values in the object position of the Knowledge Graph are semantically sound. A triple is considered to be semantically valid if it is sourced from a reliable source (e.g. Name Authority File), if it is common knowledge, or if the stated property can be directly observed or measured.\n",
        "\n",
        "\n",
        "Adapted metric: select triples of interpretations about 10 random artworks having literals and verify if they hold truth by comparing them with the textual source and the artwork's image."
      ],
      "metadata": {
        "id": "bzYthdGosREH"
      }
    },
    {
      "cell_type": "code",
      "source": [
        "art_list = []\n",
        "q_art = '''\n",
        "PREFIX d: <https://w3id.org/icon/data/>\n",
        "PREFIX icon: <https://w3id.org/icon/ontology/>\n",
        "PREFIX sim: <https://w3id.org/simulation/ontology/>\n",
        "PREFIX dul: <http://www.ontologydesignpatterns.org/ont/dul/DUL.owl#>\n",
        "PREFIX crm: <http://www.cidoc-crm.org/cidoc-crm/>\n",
        "\n",
        "SELECT DISTINCT ?art ?source ?label WHERE {\n",
        "\n",
        " ?int a icon:InterpretationDescription.\n",
        " ?rec icon:aboutWorkOfArt ?art.\n",
        " ?obj crm:P65_shows_visual_item ?art;\n",
        "  crm:P67_refers_to ?source;\n",
        "  rdfs:label ?label.\n",
        "\n",
        "}ORDER BY RAND() LIMIT 10\n",
        "'''\n",
        "\n",
        "dateRes = g.query(q_art)\n",
        "\n",
        "for row in dateRes:\n",
        "\n",
        "  art = str(row[0])\n",
        "  source = str(row[1])\n",
        "  title = str(row[2])\n",
        "  print(inter)\n",
        "  art_list.append(\"<\"+art+\">\")"
      ],
      "metadata": {
        "id": "ITXoE5F8u_7Z"
      },
      "execution_count": null,
      "outputs": []
    },
    {
      "cell_type": "code",
      "source": [
        "# metadata verification\n",
        "metadata_list = []\n",
        "for art in art_list:\n",
        "\n",
        "  q_art_metadata =  '''\n",
        "  PREFIX d: <https://w3id.org/icon/data/>\n",
        "  PREFIX icon: <https://w3id.org/icon/ontology/>\n",
        "  PREFIX sim: <https://w3id.org/simulation/ontology/>\n",
        "  PREFIX dul: <http://www.ontologydesignpatterns.org/ont/dul/DUL.owl#>\n",
        "  PREFIX crm: <http://www.cidoc-crm.org/cidoc-crm/>\n",
        "\n",
        "  SELECT DISTINCT (group_concat(distinct ?source ;separator=\", \") as ?s) ?label WHERE {\n",
        "    VALUES ?complies {icon:preiconographicallyCompliesWith icon:iconographicallyCompliesWith icon:iconologicallyCompliesWith}\n",
        "\n",
        "  ?rec icon:aboutWorkOfArt '''+art+'''.\n",
        "  ?obj crm:P65_shows_visual_item ?art;\n",
        "    crm:P67_refers_to ?source;\n",
        "    rdfs:label ?label.\n",
        "\n",
        "  } GROUP BY ?label\n",
        "  '''\n",
        "\n",
        "  dateRes = g.query(q_art_metadata)\n",
        "\n",
        "  for row in dateRes:\n",
        "\n",
        "    source = str(row[0])\n",
        "    title = str(row[1])\n",
        "    print(art, source, title)\n",
        "    metadata_list.append([art, source, title])\n",
        "\n",
        "\n"
      ],
      "metadata": {
        "id": "uuFsoY1ryM2e"
      },
      "execution_count": null,
      "outputs": []
    },
    {
      "cell_type": "code",
      "source": [
        "metadata_first_line = [\"Artwork\", \"Source\", \"Title\"]\n",
        "metadata = store_csv(\"semantic_validity_metadata.csv\", metadata_first_line, metadata_list)"
      ],
      "metadata": {
        "id": "UHzUL8vksKZv"
      },
      "execution_count": null,
      "outputs": []
    },
    {
      "cell_type": "code",
      "source": [
        "  # content verification\n",
        "content_list = []\n",
        "for art in art_list:\n",
        "    q_art_detail = '''\n",
        "    PREFIX d: <https://w3id.org/icon/data/>\n",
        "    PREFIX icon: <https://w3id.org/icon/ontology/>\n",
        "    PREFIX sim: <https://w3id.org/simulation/ontology/>\n",
        "    PREFIX dul: <http://www.ontologydesignpatterns.org/ont/dul/DUL.owl#>\n",
        "    PREFIX crm: <http://www.cidoc-crm.org/cidoc-crm/>\n",
        "\n",
        "    SELECT DISTINCT  ?subject ?sLabel WHERE {\n",
        "    VALUES ?rel {icon:preiconographicallyDepicts icon:iconographicallyDepicts icon:iconologicallyRepresents}\n",
        "\n",
        "    ?rec icon:aboutWorkOfArt '''+art+'''.\n",
        "    ?art ?rel ?subject.\n",
        "    ?subject rdfs:label ?sLabel.\n",
        "\n",
        "\n",
        "    }\n",
        "    '''\n",
        "\n",
        "    dateRes = g.query(q_art_detail)\n",
        "\n",
        "    for row in dateRes:\n",
        "      s = str(row[0])\n",
        "      sLabel = str(row[1])\n",
        "      print(art, s, sLabel)\n",
        "      content_list.append([art, s, sLabel])"
      ],
      "metadata": {
        "id": "GLr5WoX4w-Q-"
      },
      "execution_count": null,
      "outputs": []
    },
    {
      "cell_type": "code",
      "source": [
        "content_first_line = [\"Artwork\", \"Subject\", \"Subject Label\"]\n",
        "content = store_csv(\"semantic_validity_content.csv\", content_first_line, content_list)"
      ],
      "metadata": {
        "id": "LjomKChSt9lM"
      },
      "execution_count": null,
      "outputs": []
    },
    {
      "cell_type": "code",
      "source": [
        "# save as 2 csv, make the verification on them"
      ],
      "metadata": {
        "id": "cFNJbTzhu6Kb"
      },
      "execution_count": null,
      "outputs": []
    },
    {
      "cell_type": "markdown",
      "source": [
        "## Contextual category"
      ],
      "metadata": {
        "id": "is1mJXVrz9_d"
      }
    },
    {
      "cell_type": "markdown",
      "source": [
        "### Column Completeness\n",
        "the degree by which the attributes of a class, which are defined on the schema level, exist on the instance level of the KG. <br/>\n",
        "**Metric:** ratio of the number of instances that have both the class k and a value for the relation r, to the total number of instances that have class k. We apply this metric to the core classes, namely: cultural objects, artworks, recognitions\n"
      ],
      "metadata": {
        "id": "OgkLaVJ84SbY"
      }
    },
    {
      "cell_type": "code",
      "source": [
        "column_dict = {}\n",
        "# column_dict.update({\"production\": {\"relations\": {\"crm:P14_carried_out_by\" : \"\",\"crm:P17_was_motivated_by\" : \"\", \"crm:P4_has_time_span\" : \"\", \"crm:P10_falls_within\" : \"\", \"crm:P108_has_produced\" : \"\"}, \"total\": \"\"}})\n",
        "column_dict.update({\"crm:E22_Human_Made_Object\": {\"relations\": {\"foaf:depiction\" : \"\",\"crm:P102_has_title\" : \"\", \"crm:P2_has_type\" : \"\", \"crm:P65_shows_visual_item\" : \"\", \"crm:P53_has_former_or_current_location\" : \"\", \"crm:P45_consists_of\": \"\", \"crm:P67_refers_to\":\"\"}, \"total\": \"\"}})\n",
        "column_dict.update({\"icon:Artwork\": {\"relations\": {\"icon:preiconographicallyDepicts\" : \"\",\"icon:iconographicallyDepicts\" : \"\", \"icon:iconologicallyRepresents\" : \"\"}, \"total\": \"\"}})\n",
        "column_dict.update({\"icon:PreiconographicalRecognition\": {\"relations\": {\"icon:aboutWorkOfArt\" : \"\", \"crm:P14_carried_out_by\" : \"\",\"cito:citesForInformation\" : \"\", \"cito:citesAsEvidence\" : \"\", \"cito:givesSupportTo\" : \"\", \"icon:recognizedArtisticMotif | icon:recognizedComposition\" : \"\"}, \"total\": \"\"}})\n",
        "column_dict.update({\"icon:FormalMotifRecognition\": {\"relations\": {\"icon:aboutWorkOfArt\" : \"\", \"crm:P14_carried_out_by\" : \"\",\"cito:citesForInformation\" : \"\", \"cito:citesAsEvidence\" : \"\", \"cito:givesSupportTo\" : \"\", \"icon:hasCopiedMotif\" : \"\", \"icon:hasPrototypicalMotif\" : \"\"}, \"total\": \"\"}})\n",
        "column_dict.update({\"icon:IconographicalRecognition\": {\"relations\": {\"icon:aboutWorkOfArt\" : \"\", \"crm:P14_carried_out_by\" : \"\",\"cito:citesForInformation\" : \"\", \"cito:citesAsEvidence\" : \"\", \"cito:givesSupportTo\" : \"\", \"icon:recognizedImage | icon:recognizedInvenzione\" : \"\"}, \"total\": \"\"}})\n",
        "column_dict.update({\"icon:IconologicalRecognition\": {\"relations\": {\"icon:aboutWorkOfArt\" : \"\", \"crm:P14_carried_out_by\" : \"\",\"cito:citesForInformation\" : \"\", \"cito:citesAsEvidence\" : \"\",  \"icon:recognizedIntrinsicMeaning\": \"\"}, \"total\": \"\"}})\n",
        "# column_dict.update({\"preiconographical\": {\"relations\": {\"icon:preiconographicallyCompliesWith\" : \"\"}, \"total\": \"\"}})\n"
      ],
      "metadata": {
        "id": "qhZ0jKoVJa02"
      },
      "execution_count": null,
      "outputs": []
    },
    {
      "cell_type": "code",
      "source": [
        "for key in column_dict:\n",
        "  q_tot =''' PREFIX d: <https://w3id.org/icon/data/>\n",
        "  PREFIX icon: <https://w3id.org/icon/ontology/>\n",
        "  PREFIX sim: <https://w3id.org/simulation/ontology/>\n",
        "  PREFIX dul: <http://www.ontologydesignpatterns.org/ont/dul/DUL.owl#>\n",
        "  PREFIX crm: <http://www.cidoc-crm.org/cidoc-crm/>\n",
        "\n",
        "  SELECT DISTINCT (count(distinct ?instance) as ?tot) WHERE {\n",
        "\n",
        "  ?instance a '''+key+'''.\n",
        "  }\n",
        "  '''\n",
        "\n",
        "  res = g.query(q_tot)\n",
        "\n",
        "  for row in res:\n",
        "    tot = int(row[0])\n",
        "    column_dict[key][\"total\"] = tot\n",
        "\n",
        "  for rel in column_dict[key][\"relations\"]:\n",
        "    q_rel =''' PREFIX d: <https://w3id.org/icon/data/>\n",
        "    PREFIX icon: <https://w3id.org/icon/ontology/>\n",
        "    PREFIX sim: <https://w3id.org/simulation/ontology/>\n",
        "    PREFIX dul: <http://www.ontologydesignpatterns.org/ont/dul/DUL.owl#>\n",
        "    PREFIX crm: <http://www.cidoc-crm.org/cidoc-crm/>\n",
        "    prefix foaf: <http://xmlns.com/foaf/spec/>\n",
        "    SELECT DISTINCT (count(distinct ?instance) as ?tot) WHERE {\n",
        "\n",
        "    ?instance a '''+key+'''; '''+rel+''' ?obj.\n",
        "    }\n",
        "    '''\n",
        "\n",
        "    res2 = g.query(q_rel)\n",
        "\n",
        "    for row in res2:\n",
        "      tot = int(row[0])\n",
        "      column_dict[key][\"relations\"][rel] = tot\n",
        "\n",
        "column_dict"
      ],
      "metadata": {
        "id": "4UEFQQrARwDz"
      },
      "execution_count": null,
      "outputs": []
    },
    {
      "cell_type": "code",
      "source": [
        "column_list = []\n",
        "for entity in column_dict:\n",
        "\n",
        "  tot = column_dict[entity][\"total\"]\n",
        "  partial_scores = []\n",
        "  for relation in column_dict[entity][\"relations\"]:\n",
        "    # we calculate the partial score for every relation\n",
        "    partial_score = int(column_dict[entity][\"relations\"][relation]) / tot\n",
        "    partial_scores.append(partial_score)\n",
        "  tot_score = 0\n",
        "  for score in partial_scores:\n",
        "    tot_score +=score\n",
        "    # we store the entity score in a list of lists\n",
        "  final = tot_score / len(partial_scores)\n",
        "  column_list.append([entity, final])\n",
        "column_list"
      ],
      "metadata": {
        "id": "thz8_Q2m0w5d"
      },
      "execution_count": null,
      "outputs": []
    },
    {
      "cell_type": "code",
      "source": [
        "column1 = store_csv(\"column_completeness_wide.csv\", [\"Entity\", \"Score\"], column_list)"
      ],
      "metadata": {
        "id": "x24fYKVe6OGO"
      },
      "execution_count": null,
      "outputs": []
    },
    {
      "cell_type": "markdown",
      "source": [
        "We repeat the analysis by including only the highly recommended relations"
      ],
      "metadata": {
        "id": "6m__drNJ3ZzD"
      }
    },
    {
      "cell_type": "code",
      "source": [
        "column_dict2 = {}\n",
        "# column_dict.update({\"production\": {\"relations\": {\"crm:P14_carried_out_by\" : \"\",\"crm:P17_was_motivated_by\" : \"\", \"crm:P4_has_time_span\" : \"\", \"crm:P10_falls_within\" : \"\", \"crm:P108_has_produced\" : \"\"}, \"total\": \"\"}})\n",
        "column_dict2.update({\"crm:E22_Human_Made_Object\": {\"relations\": {\"crm:P102_has_title\" : \"\", \"crm:P65_shows_visual_item\" : \"\", \"crm:P67_refers_to\":\"\"}, \"total\": \"\"}})\n",
        "column_dict2.update({\"icon:Artwork\": {\"relations\": {\"icon:preiconographicallyDepicts\" : \"\",\"icon:iconographicallyDepicts\" : \"\", \"icon:iconologicallyRepresents\" : \"\"}, \"total\": \"\"}})\n",
        "column_dict2.update({\"icon:PreiconographicalRecognition\": {\"relations\": {\"icon:aboutWorkOfArt\" : \"\", \"crm:P14_carried_out_by\" : \"\",\"cito:citesForInformation\" : \"\", \"icon:recognizedArtisticMotif | icon:recognizedComposition\" : \"\"}, \"total\": \"\"}})\n",
        "column_dict2.update({\"icon:FormalMotifRecognition\": {\"relations\": {\"icon:aboutWorkOfArt\" : \"\", \"crm:P14_carried_out_by\" : \"\",\"cito:citesForInformation\" : \"\", \"icon:hasCopiedMotif\" : \"\", \"icon:hasPrototypicalMotif\" : \"\"}, \"total\": \"\"}})\n",
        "column_dict2.update({\"icon:IconographicalRecognition\": {\"relations\": {\"icon:aboutWorkOfArt\" : \"\", \"crm:P14_carried_out_by\" : \"\",\"cito:citesForInformation\" : \"\", \"icon:recognizedImage | icon:recognizedInvenzione\" : \"\"}, \"total\": \"\"}})\n",
        "column_dict2.update({\"icon:IconologicalRecognition\": {\"relations\": {\"icon:aboutWorkOfArt\" : \"\", \"crm:P14_carried_out_by\" : \"\",\"cito:citesForInformation\" : \"\",  \"icon:recognizedIntrinsicMeaning\": \"\"}, \"total\": \"\"}})\n",
        "# column_dict.update({\"preiconographical\": {\"relations\": {\"icon:preiconographicallyCompliesWith\" : \"\"}, \"total\": \"\"}})\n"
      ],
      "metadata": {
        "id": "9-8q3Rf-3hpG"
      },
      "execution_count": null,
      "outputs": []
    },
    {
      "cell_type": "code",
      "source": [
        "for key in column_dict2:\n",
        "  q_tot =''' PREFIX d: <https://w3id.org/icon/data/>\n",
        "  PREFIX icon: <https://w3id.org/icon/ontology/>\n",
        "  PREFIX sim: <https://w3id.org/simulation/ontology/>\n",
        "  PREFIX dul: <http://www.ontologydesignpatterns.org/ont/dul/DUL.owl#>\n",
        "  PREFIX crm: <http://www.cidoc-crm.org/cidoc-crm/>\n",
        "\n",
        "  SELECT DISTINCT (count(distinct ?instance) as ?tot) WHERE {\n",
        "\n",
        "  ?instance a '''+key+'''.\n",
        "  }\n",
        "  '''\n",
        "\n",
        "  res = g.query(q_tot)\n",
        "\n",
        "  for row in res:\n",
        "    tot = int(row[0])\n",
        "    column_dict2[key][\"total\"] = tot\n",
        "\n",
        "  for rel in column_dict2[key][\"relations\"]:\n",
        "    q_rel =''' PREFIX d: <https://w3id.org/icon/data/>\n",
        "    PREFIX icon: <https://w3id.org/icon/ontology/>\n",
        "    PREFIX sim: <https://w3id.org/simulation/ontology/>\n",
        "    PREFIX dul: <http://www.ontologydesignpatterns.org/ont/dul/DUL.owl#>\n",
        "    PREFIX crm: <http://www.cidoc-crm.org/cidoc-crm/>\n",
        "    prefix foaf: <http://xmlns.com/foaf/spec/>\n",
        "    SELECT DISTINCT (count(distinct ?instance) as ?tot) WHERE {\n",
        "\n",
        "    ?instance a '''+key+'''; '''+rel+''' ?obj.\n",
        "    }\n",
        "    '''\n",
        "\n",
        "    res2 = g.query(q_rel)\n",
        "\n",
        "    for row in res2:\n",
        "      tot = int(row[0])\n",
        "      column_dict2[key][\"relations\"][rel] = tot\n",
        "\n",
        "column_dict2"
      ],
      "metadata": {
        "id": "w5t4pa3W46dy"
      },
      "execution_count": null,
      "outputs": []
    },
    {
      "cell_type": "code",
      "source": [
        "column_list2 = []\n",
        "for entity in column_dict2:\n",
        "\n",
        "  tot = column_dict2[entity][\"total\"]\n",
        "  partial_scores = []\n",
        "  for relation in column_dict2[entity][\"relations\"]:\n",
        "    # we calculate the partial score for every relation\n",
        "    partial_score = int(column_dict2[entity][\"relations\"][relation]) / tot\n",
        "    partial_scores.append(partial_score)\n",
        "  tot_score = 0\n",
        "  for score in partial_scores:\n",
        "    tot_score +=score\n",
        "    # we store the entity score in a list of lists\n",
        "  final = tot_score / len(partial_scores)\n",
        "  column_list2.append([entity, final])\n",
        "column_list2"
      ],
      "metadata": {
        "id": "qInCkRQT548s"
      },
      "execution_count": null,
      "outputs": []
    },
    {
      "cell_type": "code",
      "source": [
        "column2 = store_csv(\"column_completeness_narrow.csv\", [\"Entity\", \"Score\"], column_list2)"
      ],
      "metadata": {
        "id": "iPg0fDWf6cYp"
      },
      "execution_count": null,
      "outputs": []
    },
    {
      "cell_type": "markdown",
      "source": [
        "## Ease of understanding"
      ],
      "metadata": {
        "id": "PW8OTkcI4WTi"
      }
    },
    {
      "cell_type": "markdown",
      "source": [
        "### Description of resources\n",
        "Describing resources in a human-understandable way, e.g. via rdfs:label or rdfs:comment\n",
        "\n",
        "Metric: number of described resources  via rdfs:label or rdfs:comment / number of all considered resources. Applied only on actual instances, excluding reification classes"
      ],
      "metadata": {
        "id": "3npHJRoW4kDL"
      }
    },
    {
      "cell_type": "code",
      "source": [
        "q_inst = '''\n",
        "PREFIX d: <https://w3id.org/icon/data/>\n",
        "PREFIX icon: <https://w3id.org/icon/ontology/>\n",
        "PREFIX sim: <https://w3id.org/simulation/ontology/>\n",
        "PREFIX dul: <http://www.ontologydesignpatterns.org/ont/dul/DUL.owl#>\n",
        "PREFIX crm: <http://www.cidoc-crm.org/cidoc-crm/>\n",
        "\n",
        "SELECT DISTINCT (count(distinct ?instance) as ?tot) WHERE {\n",
        "\n",
        "\n",
        "?instance a ?type. # exclude literals\n",
        "\n",
        "FILTER (?type != icon:ArtisticMotif)\n",
        "FILTER (?type != icon:Image)\n",
        "FILTER (?type != icon:IntrinsicMeaning)\n",
        "FILTER (?type != icon:Composition)\n",
        "FILTER (?type != icon:PreiconographicalRecognition)\n",
        "FILTER (?type != icon:FormalMotifRecognition)\n",
        "FILTER (?type != icon:IconographicalRecognition)\n",
        "FILTER (?type != icon:IconologicalRecognition)\n",
        "FILTER (?type != icon:InterpretationDescription)\n",
        "FILTER (?type != crm:E12_Production)\n",
        "FILTER (?type != crm:E52_Time_Span)\n",
        "FILTER (?type != crm:E13_Attribute_Assignment)\n",
        "\n",
        "}\n",
        "'''\n",
        "\n",
        "dateRes = g.query(q_inst)\n",
        "\n",
        "for row in dateRes:\n",
        "  inst_tot = int(row[0])\n",
        "  print(int(row[0]))"
      ],
      "metadata": {
        "id": "Qwdi_OU34uZ0"
      },
      "execution_count": null,
      "outputs": []
    },
    {
      "cell_type": "code",
      "source": [
        "q_inst_desc = '''\n",
        "PREFIX d: <https://w3id.org/icon/data/>\n",
        "PREFIX icon: <https://w3id.org/icon/ontology/>\n",
        "PREFIX sim: <https://w3id.org/simulation/ontology/>\n",
        "PREFIX dul: <http://www.ontologydesignpatterns.org/ont/dul/DUL.owl#>\n",
        "PREFIX crm: <http://www.cidoc-crm.org/cidoc-crm/>\n",
        "\n",
        "SELECT DISTINCT (count(distinct ?instance) as ?tot) WHERE {\n",
        "VALUES ?rel {icon:preiconographicallyDepicts icon:iconographicallyDepicts icon:iconologicallyRepresents}\n",
        "VALUES ?complies {icon:preiconographicallyCompliesWith icon:iconographicallyCompliesWith icon:iconologicallyCompliesWith}\n",
        "\n",
        "?instance a ?type; # exclude literals\n",
        "  rdfs:label | rdfs:comment ?desc.\n",
        "\n",
        "FILTER (?type != icon:ArtisticMotif)\n",
        "FILTER (?type != icon:Image)\n",
        "FILTER (?type != icon:IntrinsicMeaning)\n",
        "FILTER (?type != icon:Composition)\n",
        "FILTER (?type != icon:PreiconographicalRecognition)\n",
        "FILTER (?type != icon:FormalMotifRecognition)\n",
        "FILTER (?type != icon:IconographicalRecognition)\n",
        "FILTER (?type != icon:IconologicalRecognition)\n",
        "FILTER (?type != icon:InterpretationDescription)\n",
        "FILTER (?type != crm:E12_Production)\n",
        "FILTER (?type != crm:E52_Time_Span)\n",
        "FILTER (?type != crm:E13_Attribute_Assignment)\n",
        "\n",
        "}\n",
        "'''\n",
        "\n",
        "dateRes = g.query(q_inst_desc)\n",
        "\n",
        "for row in dateRes:\n",
        "  inst_desc = int(row[0])\n",
        "  print(int(row[0]))"
      ],
      "metadata": {
        "id": "Bx9GH5mj5Tbg"
      },
      "execution_count": null,
      "outputs": []
    },
    {
      "cell_type": "code",
      "source": [
        "# res\n",
        "tot_desc_inst = inst_desc / inst_tot\n",
        "print(tot_desc_inst)\n",
        "# 0.82"
      ],
      "metadata": {
        "id": "hKasaIUG5iYC"
      },
      "execution_count": null,
      "outputs": []
    },
    {
      "cell_type": "markdown",
      "source": [
        "# Accessibility\n",
        "\n"
      ],
      "metadata": {
        "id": "BXd-MWOJh6vi"
      }
    },
    {
      "cell_type": "markdown",
      "source": [
        "## Accessibility"
      ],
      "metadata": {
        "id": "vDgl6v3WiKaD"
      }
    },
    {
      "cell_type": "markdown",
      "source": [
        "### Dereferencing possibility of resources\n",
        "URIs must be resolvable via HTTP requests and thus useful information should be returned in RDF. Metric: Over a sample of 20 URIs, we check if the URIs are accessible via HTTP requests and if they return useful RDF data by analyzing the HTTP status codes."
      ],
      "metadata": {
        "id": "-GC9HbGuiN4r"
      }
    },
    {
      "cell_type": "code",
      "source": [
        "uri_list = []\n",
        "q_uri = '''\n",
        "PREFIX d: <https://w3id.org/icon/data/>\n",
        "PREFIX icon: <https://w3id.org/icon/ontology/>\n",
        "PREFIX sim: <https://w3id.org/simulation/ontology/>\n",
        "PREFIX dul: <http://www.ontologydesignpatterns.org/ont/dul/DUL.owl#>\n",
        "PREFIX crm: <http://www.cidoc-crm.org/cidoc-crm/>\n",
        "prefix foaf: <http://xmlns.com/foaf/spec/>\n",
        "\n",
        "SELECT DISTINCT ?uri WHERE {\n",
        "\n",
        "?uri ?rel ?obj.\n",
        "\n",
        "}ORDER BY RAND() LIMIT 10\n",
        "'''\n",
        "\n",
        "res = g.query(q_uri)\n",
        "\n",
        "for row in res:\n",
        "  print(row[0])\n",
        "  uri_list.append([row[0]])"
      ],
      "metadata": {
        "id": "E9NT-WUwuIxD"
      },
      "execution_count": null,
      "outputs": []
    },
    {
      "cell_type": "code",
      "source": [
        "q_uri2 = '''\n",
        "PREFIX d: <https://w3id.org/icon/data/>\n",
        "PREFIX icon: <https://w3id.org/icon/ontology/>\n",
        "PREFIX sim: <https://w3id.org/simulation/ontology/>\n",
        "PREFIX dul: <http://www.ontologydesignpatterns.org/ont/dul/DUL.owl#>\n",
        "PREFIX crm: <http://www.cidoc-crm.org/cidoc-crm/>\n",
        "prefix foaf: <http://xmlns.com/foaf/spec/>\n",
        "\n",
        "SELECT DISTINCT ?uri WHERE {\n",
        "\n",
        "?uri ?rel ?obj.\n",
        "FILTER NOT EXISTS {FILTER (regex(str(?uri), \"icon\", \"i\")) }\n",
        "FILTER (?rel !=\t<http://purl.org/dc/terms/license>)\n",
        "FILTER (?rel !=\t<http://purl.org/dc/elements/1.1/source>)\n",
        "FILTER (?rel !=\t<http://purl.org/dc/terms/rights>)\n",
        "}ORDER BY RAND() LIMIT 10\n",
        "'''\n",
        "\n",
        "res = g.query(q_uri2)\n",
        "\n",
        "for row in res:\n",
        "  print(row[0])\n",
        "  uri_list.append([row[0]])"
      ],
      "metadata": {
        "id": "vnyzdpYOw78E"
      },
      "execution_count": null,
      "outputs": []
    },
    {
      "cell_type": "code",
      "source": [
        "uri = store_csv(\"deferencing_validation.csv\", [\"URI\"], uri_list)"
      ],
      "metadata": {
        "id": "i8wrhBQkvq6J"
      },
      "execution_count": null,
      "outputs": []
    },
    {
      "cell_type": "markdown",
      "source": [
        "## Interlinking"
      ],
      "metadata": {
        "id": "HjvBMNup8TfR"
      }
    },
    {
      "cell_type": "markdown",
      "source": [
        "### Interlinking via owl:sameAs\n",
        "\n",
        "\n",
        "Ratio to which instances have at least one owl:sameAs link to\n",
        "an external knowledge graph. We calculate it for actual instances\n",
        "\n"
      ],
      "metadata": {
        "id": "savyfdOh8Vlh"
      }
    },
    {
      "cell_type": "code",
      "source": [
        "q_same = '''\n",
        "PREFIX d: <https://w3id.org/icon/data/>\n",
        "PREFIX icon: <https://w3id.org/icon/ontology/>\n",
        "PREFIX sim: <https://w3id.org/simulation/ontology/>\n",
        "PREFIX dul: <http://www.ontologydesignpatterns.org/ont/dul/DUL.owl#>\n",
        "PREFIX crm: <http://www.cidoc-crm.org/cidoc-crm/>\n",
        "PREFIX owl: <http://www.w3.org/2002/07/owl#>\n",
        "\n",
        "SELECT DISTINCT (count(distinct ?instance) as ?tot) WHERE {\n",
        "\n",
        "?instance a ?type; owl:sameAs ?ext.\n",
        "\n",
        "FILTER (?type != icon:ArtisticMotif)\n",
        "FILTER (?type != icon:Image)\n",
        "FILTER (?type != icon:IntrinsicMeaning)\n",
        "FILTER (?type != icon:Composition)\n",
        "FILTER (?type != icon:PreiconographicalRecognition)\n",
        "FILTER (?type != icon:FormalMotifRecognition)\n",
        "FILTER (?type != icon:IconographicalRecognition)\n",
        "FILTER (?type != icon:IconologicalRecognition)\n",
        "FILTER (?type != icon:InterpretationDescription)\n",
        "FILTER (?type != crm:E12_Production)\n",
        "FILTER (?type != crm:E52_Time_Span)\n",
        "FILTER (?type != crm:E13_Attribute_Assignment)\n",
        "\n",
        "}\n",
        "'''\n",
        "\n",
        "dateRes = g.query(q_same)\n",
        "\n",
        "for row in dateRes:\n",
        "  same_desc = int(row[0])\n",
        "  print(int(row[0]))"
      ],
      "metadata": {
        "id": "A32IMlrd8qV0"
      },
      "execution_count": null,
      "outputs": []
    },
    {
      "cell_type": "code",
      "source": [
        "tot_same_as = same_desc / inst_tot\n",
        "tot_same_as"
      ],
      "metadata": {
        "id": "1AiriNV080Tj"
      },
      "execution_count": null,
      "outputs": []
    },
    {
      "cell_type": "markdown",
      "source": [
        "### Validity of external URIs\n",
        "\n",
        "We measure the validity of external URIs by evaluating the\n",
        "URIs from an URI sample set w.r.t. whether there is a timeout,\n",
        "a client error (HTTP response 4xx) or a server error (HTTP\n",
        "response 5xx).\n",
        "Metrics: Random sample of 5 external URI for artwork pictures, 5 for\n",
        "Iconclass, 5 for Getty Vocabularies"
      ],
      "metadata": {
        "id": "wJrVIAYz9WZO"
      }
    },
    {
      "cell_type": "code",
      "source": [
        "url_list = []\n",
        "q_depiction = '''\n",
        "PREFIX d: <https://w3id.org/icon/data/>\n",
        "PREFIX icon: <https://w3id.org/icon/ontology/>\n",
        "PREFIX sim: <https://w3id.org/simulation/ontology/>\n",
        "PREFIX dul: <http://www.ontologydesignpatterns.org/ont/dul/DUL.owl#>\n",
        "PREFIX crm: <http://www.cidoc-crm.org/cidoc-crm/>\n",
        "prefix foaf: <http://xmlns.com/foaf/spec/>\n",
        "\n",
        "SELECT DISTINCT ?url WHERE {\n",
        "\n",
        "?art foaf:depiction ?url.\n",
        "\n",
        "}ORDER BY RAND() LIMIT 10\n",
        "'''\n",
        "\n",
        "dateRes = g.query(q_depiction)\n",
        "\n",
        "for row in dateRes:\n",
        "  print(row[0])\n",
        "  url_list.append([row[0]])"
      ],
      "metadata": {
        "id": "D1YoqBX_9pEZ"
      },
      "execution_count": null,
      "outputs": []
    },
    {
      "cell_type": "code",
      "source": [
        "\n",
        "q_iconclass = '''\n",
        "PREFIX d: <https://w3id.org/icon/data/>\n",
        "PREFIX icon: <https://w3id.org/icon/ontology/>\n",
        "PREFIX sim: <https://w3id.org/simulation/ontology/>\n",
        "PREFIX dul: <http://www.ontologydesignpatterns.org/ont/dul/DUL.owl#>\n",
        "PREFIX crm: <http://www.cidoc-crm.org/cidoc-crm/>\n",
        "prefix foaf: <http://xmlns.com/foaf/spec/>\n",
        "\n",
        "SELECT DISTINCT ?url WHERE {\n",
        "\n",
        "{?s ?r ?url. } UNION {?url ?r ?o}\n",
        "\n",
        "FILTER regex(str(?url), \"iconclass\", \"i\")\n",
        "}ORDER BY RAND() LIMIT 5\n",
        "'''\n",
        "\n",
        "dateRes = g.query(q_iconclass)\n",
        "\n",
        "for row in dateRes:\n",
        "  print(row[0])\n",
        "  url_list.append([row[0]])"
      ],
      "metadata": {
        "id": "WdXgK6KV7z7o"
      },
      "execution_count": null,
      "outputs": []
    },
    {
      "cell_type": "code",
      "source": [
        "q_getty = '''\n",
        "PREFIX d: <https://w3id.org/icon/data/>\n",
        "PREFIX icon: <https://w3id.org/icon/ontology/>\n",
        "PREFIX sim: <https://w3id.org/simulation/ontology/>\n",
        "PREFIX dul: <http://www.ontologydesignpatterns.org/ont/dul/DUL.owl#>\n",
        "PREFIX crm: <http://www.cidoc-crm.org/cidoc-crm/>\n",
        "prefix foaf: <http://xmlns.com/foaf/spec/>\n",
        "\n",
        "SELECT DISTINCT ?url WHERE {\n",
        "\n",
        "?s ?r ?url.\n",
        "\n",
        "FILTER regex(str(?url), \"vocab.getty\", \"i\")\n",
        "}ORDER BY RAND() LIMIT 5\n",
        "'''\n",
        "\n",
        "dateRes = g.query(q_getty)\n",
        "\n",
        "for row in dateRes:\n",
        "  print(row[0])\n",
        "  url_list.append([row[0]])"
      ],
      "metadata": {
        "id": "99Z2UMZd8oSM"
      },
      "execution_count": null,
      "outputs": []
    },
    {
      "cell_type": "code",
      "source": [
        "q_same_as = '''\n",
        "PREFIX d: <https://w3id.org/icon/data/>\n",
        "PREFIX icon: <https://w3id.org/icon/ontology/>\n",
        "PREFIX sim: <https://w3id.org/simulation/ontology/>\n",
        "PREFIX dul: <http://www.ontologydesignpatterns.org/ont/dul/DUL.owl#>\n",
        "PREFIX crm: <http://www.cidoc-crm.org/cidoc-crm/>\n",
        "prefix foaf: <http://xmlns.com/foaf/spec/>\n",
        "PREFIX owl: <http://www.w3.org/2002/07/owl#>\n",
        "\n",
        "SELECT DISTINCT ?url WHERE {\n",
        "\n",
        "?s owl:sameAs ?url.\n",
        "\n",
        "}ORDER BY RAND() LIMIT 5\n",
        "'''\n",
        "\n",
        "res = g.query(q_same_as)\n",
        "\n",
        "for row in res:\n",
        "  print(row[0])\n",
        "  url_list.append([row[0]])"
      ],
      "metadata": {
        "id": "cGJizOAl9AND"
      },
      "execution_count": null,
      "outputs": []
    },
    {
      "cell_type": "code",
      "source": [
        "# store url list in csv\n",
        "\n",
        "url = store_csv(\"validity_ext_uri.csv\", [\"URL\"], url_list)"
      ],
      "metadata": {
        "id": "heSAPy5M9r--"
      },
      "execution_count": null,
      "outputs": []
    },
    {
      "cell_type": "markdown",
      "source": [
        "#SHACL Validation\n"
      ],
      "metadata": {
        "id": "9tyPL_GTaoFO"
      }
    },
    {
      "cell_type": "code",
      "source": [
        "# uris for creating shacl shapes\n",
        "# on astrea website: https://astrea.linkeddata.es/\n",
        "ont_shacl= '''\n",
        "https://w3id.org/icon/ontology/\n",
        "http://www.cidoc-crm.org/cidoc-crm/\n",
        "https://w3id.org/simulation/ontology/\n",
        "http://purl.org/spar/cito\n",
        "http://www.w3.org/ns/dcat#\n",
        "http://www.ontologydesignpatterns.org/ont/dul/DUL.owl#\n",
        "http://www.w3.org/2002/07/owl#\n",
        "http://purl.org/spar/pro\n",
        "http://www.w3.org/ns/prov#\n",
        "http://www.w3.org/2000/01/rdf-schema#\n",
        "http://www.w3.org/2004/02/skos/core#\n",
        "'''\n"
      ],
      "metadata": {
        "id": "gJaGAZEdas9p"
      },
      "execution_count": null,
      "outputs": []
    },
    {
      "cell_type": "code",
      "source": [
        "# ontologies which created errors in the SHACL generation, and therefore removed\n",
        "ont_removed_shacl = '''\n",
        "http://xmlns.com/foaf/spec/\n",
        "http://www.w3.org/2001/XMLSchema\n",
        "http://dati.gov.it/onto/dcatapit\n",
        "'''"
      ],
      "metadata": {
        "id": "qBVGsiWlbyjN"
      },
      "execution_count": null,
      "outputs": []
    }
  ]
}